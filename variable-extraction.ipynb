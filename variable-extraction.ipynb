{
  "cells": [
    {
      "cell_type": "markdown",
      "source": [
        "## task 1"
      ],
      "metadata": {
        "id": "dYJRKvKPT60Z"
      }
    },
    {
      "cell_type": "markdown",
      "metadata": {
        "id": "h3sjkOaOCoFI"
      },
      "source": [
        "### đọc dữ liệu"
      ]
    },
    {
      "cell_type": "code",
      "execution_count": null,
      "metadata": {
        "id": "GKoQLa6Uo4FW"
      },
      "outputs": [],
      "source": [
        "import pandas as pd"
      ]
    },
    {
      "cell_type": "code",
      "execution_count": null,
      "metadata": {
        "id": "Mv9L8y7WzuOi"
      },
      "outputs": [],
      "source": [
        "df1 = pd.read_json('/content/1_Testcase Inbound_Dailog_2404_Luồng 7 bổ sung KB_gen_ie (1).jsonl', lines=True)\n",
        "df2 = pd.read_json('/content/2_Testcase Inbound_Dailog_2404_Luồng 5 và 6.2 hủy lịch_gen_ie (1).jsonl', lines=True)\n",
        "df3 = pd.read_json('/content/3_Testcase Inbound_Dailog_2404_Luồng 7_gen_ie (1).jsonl', lines=True)\n",
        "df4 = pd.read_json('/content/4_Testcase Inbound_Dailog_2404_Luồng 0-4_gen_ie.jsonl', lines=True)\n",
        "df5 = pd.read_json('/content/5_Testcase Inbound_Dailog_2404_Luồng 7_gen_ie_191 (1).jsonl', lines=True)\n",
        "df6 = pd.read_json('/content/6_Testcase Inbound_Dailog_2404_Luồng 7 bổ sung KB_gen_ie_60 (1).jsonl', lines=True)\n",
        "df7 = pd.read_json('/content/7_Testcase Inbound_Dailog_2404_Luồng 5 và 6.2 hủy lịch_gen_ie_175 (1).jsonl', lines=True)\n",
        "df8 = pd.read_json('/content/8_Testcase Inbound_Dailog_2404_Luồng 0-4_gen_ie_0_param.jsonl', lines=True)\n",
        "df9 = pd.read_json('/content/9_Testcase Inbound_Dailog_2404_Luồng 5 và 6.2 hủy lịch_gen_ie_0_param.jsonl', lines=True)\n",
        "df10 = pd.read_json('/content/10_Testcase Inbound_Dailog_2404_Luồng 7_gen_ie_0_param.jsonl', lines=True)\n",
        "df11 = pd.read_json('/content/11_Testcase Inbound_Dailog_2404_Luồng 7 bổ sung KB_gen_ie_0_param.jsonl', lines=True)"
      ]
    },
    {
      "cell_type": "code",
      "source": [
        "df1.head(2)"
      ],
      "metadata": {
        "id": "50Y6KCYRb5w3"
      },
      "execution_count": null,
      "outputs": []
    },
    {
      "cell_type": "code",
      "source": [
        "df = pd.concat([df1, df2, df3, df4, df5, df6, df7, df8, df9, df10, df11])\n",
        "df.info()"
      ],
      "metadata": {
        "id": "0s3ituLLirAm"
      },
      "execution_count": null,
      "outputs": []
    },
    {
      "cell_type": "code",
      "source": [
        "# df = df.sample(frac=1, random_state=42).reset_index(drop=True)"
      ],
      "metadata": {
        "collapsed": true,
        "id": "BSnAiVcAn7gp"
      },
      "execution_count": null,
      "outputs": []
    },
    {
      "cell_type": "code",
      "execution_count": null,
      "metadata": {
        "collapsed": true,
        "id": "4OaIF-36b3PK"
      },
      "outputs": [],
      "source": [
        "# prompt: display df1n fully without cutting the content in each entry\n",
        "\n",
        "import pandas as pd\n",
        "pd.set_option('display.max_rows', None)\n",
        "pd.set_option('display.max_columns', None)\n",
        "pd.set_option('display.width', None)\n",
        "pd.set_option('display.max_colwidth', None)\n"
      ]
    },
    {
      "cell_type": "markdown",
      "metadata": {
        "id": "g21tpZ_FCqfE"
      },
      "source": [
        "### lọc tiếng Trung"
      ]
    },
    {
      "cell_type": "code",
      "execution_count": null,
      "metadata": {
        "collapsed": true,
        "id": "9ev6qe7903vE"
      },
      "outputs": [],
      "source": [
        "df = df.rename(columns={0: 'system', 1: 'user', 2: 'assistant'})"
      ]
    },
    {
      "cell_type": "code",
      "source": [
        "df.head(5)"
      ],
      "metadata": {
        "id": "iRtf6nO_cZaZ"
      },
      "execution_count": null,
      "outputs": []
    },
    {
      "cell_type": "code",
      "source": [
        "tdf = df[:5]"
      ],
      "metadata": {
        "id": "_EyALXMkccjr"
      },
      "execution_count": null,
      "outputs": []
    },
    {
      "cell_type": "code",
      "source": [
        "tdf['new_format'] = ''"
      ],
      "metadata": {
        "id": "3-WiXUzLcsMt"
      },
      "execution_count": null,
      "outputs": []
    },
    {
      "cell_type": "code",
      "source": [
        "tdf.info()"
      ],
      "metadata": {
        "id": "3-cn92hgcuwO"
      },
      "execution_count": null,
      "outputs": []
    },
    {
      "cell_type": "code",
      "source": [
        "tdf.loc[0, 'new_format'] = \"{'role': 'user', 'content': 'Báo giá khám khoa tim mạch bác sĩ Nguyễn Thị Hoa giúp em với, à cơ sở Hà Nội nhé.'}, {'role': 'assistant', 'content': '<functioncall> {'name': 'information_extraction', 'arguments': {'medical_department': 'khoa tim mach', 'hospital_name': 'co so Ha Noi'}}'}\"\n",
        "tdf.loc[1, 'new_format'] = \"{'role': 'user', 'content': 'Báo giá khám khoa da liễu bác sĩ Lê Văn Việt giúp anh đi, à cơ sở Hồ Chí Minh nhé.'}, {'role': 'assistant', 'content': '<functioncall> {'name': 'information_extraction', 'arguments': {'medical_department': 'khoa da liễu', 'hospital_name': 'Hồ Chí Minh'}}'}\"\n",
        "tdf.loc[2, 'new_format'] = \"{'role': 'user', 'content': 'Báo giá khám khoa mắt bác sĩ Trần Thị Lan giúp chị nhé, à cơ sở Cần Thơ nhé.'}, {'role': 'assistant', 'content': '<functioncall> {'name': 'information_extraction', 'arguments': {'medical_department': 'khoa mắt', 'hospital_name': 'Cần Thơ'}}'}\"\n",
        "tdf.loc[3, 'new_format'] = \"{'role': 'user', 'content': 'Báo giá khám khoa răng hàm mặt bác sĩ Vũ Văn Hạnh giúp em với, à cơ sở Đà Nẵng nhé.'}, {'role': 'assistant', 'content': '<functioncall> {'name': 'information_extraction', 'arguments': {'medical_department': 'khoa răng hàm mặt', 'hospital_name': 'cơ sở Đà Nẵng'}}'}\"\n",
        "tdf.loc[4, 'new_format'] = \"{'role': 'user', 'content': 'Báo giá khám khoa nội tổng quát bác sĩ Phạm Thị Thuỷ giúp anh đi, à cơ sở Nha Trang nhé.'}, {'role': 'assistant', 'content': '<functioncall> {'name': 'information_extraction', 'arguments': {'medical_department': 'khoa nội tổng quát', 'hospital_name': 'cơ sở Nha Trang'}}'}\""
      ],
      "metadata": {
        "id": "JJocex4CcgNT"
      },
      "execution_count": null,
      "outputs": []
    },
    {
      "cell_type": "code",
      "source": [
        "tdf"
      ],
      "metadata": {
        "id": "SRb2_cw_c_6l"
      },
      "execution_count": null,
      "outputs": []
    },
    {
      "cell_type": "code",
      "execution_count": null,
      "metadata": {
        "id": "FPmDYNrwOEN_"
      },
      "outputs": [],
      "source": [
        "args = ['customer_name', 'customer_phone', 'medical_department', 'is_yes', 'hospital_name',\n",
        "       'customer_dob', 'customer_place', 'symptoms', 'relationship', 'appointment_date', 'appointment_time',\n",
        "       'cancel_num']"
      ]
    },
    {
      "cell_type": "code",
      "execution_count": null,
      "metadata": {
        "id": "zozf1HV0TO8d",
        "collapsed": true
      },
      "outputs": [],
      "source": [
        "def extract_query(text):\n",
        "  try:\n",
        "    start_index = text.find(\"'content': \")\n",
        "    end_index = text.rfind(\"'}\")\n",
        "    return text[start_index+12:end_index]\n",
        "  except:\n",
        "      return \"\"\n",
        "\n",
        "df['query'] = df['user'].apply(extract_query)"
      ]
    },
    {
      "cell_type": "code",
      "execution_count": null,
      "metadata": {
        "id": "azHPcw3TXEFr"
      },
      "outputs": [],
      "source": [
        "def extract_args(text):\n",
        "  try:\n",
        "    start_index = text.find(\"'arguments': {\")\n",
        "    end_index = text.rfind(\"}}\")\n",
        "    return text[start_index+13:end_index+1]\n",
        "  except:\n",
        "      return \"\"\n",
        "\n",
        "df['args'] = df['assistant'].apply(extract_args)"
      ]
    },
    {
      "cell_type": "code",
      "source": [
        "df.head(1)"
      ],
      "metadata": {
        "id": "uSrkCNWTo80t"
      },
      "execution_count": null,
      "outputs": []
    },
    {
      "cell_type": "code",
      "execution_count": null,
      "metadata": {
        "id": "ZkpKixEafpPD"
      },
      "outputs": [],
      "source": [
        "df.info()"
      ]
    },
    {
      "cell_type": "code",
      "source": [
        "df = df.reset_index()"
      ],
      "metadata": {
        "id": "Xhh5Xt37lzt5"
      },
      "execution_count": null,
      "outputs": []
    },
    {
      "cell_type": "code",
      "source": [
        "df.to_csv('df_full.csv')"
      ],
      "metadata": {
        "id": "WbK8TDwLl1YO"
      },
      "execution_count": null,
      "outputs": []
    },
    {
      "cell_type": "code",
      "execution_count": null,
      "metadata": {
        "id": "0_Yi90kG1pVO"
      },
      "outputs": [],
      "source": [
        "for col in ['system', 'user', 'assistant']:\n",
        "    df[col] = df[col].astype(str)"
      ]
    },
    {
      "cell_type": "code",
      "execution_count": null,
      "metadata": {
        "id": "EuihTUXUshfy"
      },
      "outputs": [],
      "source": [
        "import re\n",
        "\n",
        "def chinese(text):\n",
        "  return bool(re.search(r'[\\u4e00-\\u9fff]+', text))\n",
        "\n",
        "df_chinese = df[df['user'].apply(chinese)]\n",
        "\n",
        "df = df[~df['user'].apply(chinese)]"
      ]
    },
    {
      "cell_type": "code",
      "source": [
        "df.head(1)"
      ],
      "metadata": {
        "collapsed": true,
        "id": "0HmqF0dNWcDO"
      },
      "execution_count": null,
      "outputs": []
    },
    {
      "cell_type": "code",
      "source": [
        "df = df.drop(['system', 'assistant'], axis=1)"
      ],
      "metadata": {
        "id": "Z3-AJdJsoJrD"
      },
      "execution_count": null,
      "outputs": []
    },
    {
      "cell_type": "code",
      "source": [
        "df.info()"
      ],
      "metadata": {
        "id": "vNOApmrYoE0d"
      },
      "execution_count": null,
      "outputs": []
    },
    {
      "cell_type": "code",
      "source": [
        "sdf = df[0:2967]\n",
        "sdf.info()"
      ],
      "metadata": {
        "id": "tg3JjQNCTmZT"
      },
      "execution_count": null,
      "outputs": []
    },
    {
      "cell_type": "code",
      "source": [
        "# Đảm bảo 2 DataFrame có cùng số dòng (nếu không thì cần xử lý trước)\n",
        "# Lấy cột 'result' từ tdf, reset lại index nếu cần\n",
        "tdf = tdf.reset_index(drop=True)\n",
        "sdf = sdf.reset_index(drop=True)\n",
        "\n",
        "# Ghép hai DataFrame theo chiều ngang (cùng index)\n",
        "ndf = pd.concat([sdf, tdf['result']], axis=1)\n",
        "\n",
        "# Xem kết quả\n",
        "print(ndf.columns)\n",
        "print(ndf.head())"
      ],
      "metadata": {
        "id": "oosjBWwlT13n"
      },
      "execution_count": null,
      "outputs": []
    },
    {
      "cell_type": "code",
      "source": [
        "ndf.to_csv('ndf.csv')"
      ],
      "metadata": {
        "id": "xbskD2wjXxC5"
      },
      "execution_count": null,
      "outputs": []
    },
    {
      "cell_type": "code",
      "source": [
        "tdf.info()"
      ],
      "metadata": {
        "id": "Y8zJNTwzU1Tv"
      },
      "execution_count": null,
      "outputs": []
    },
    {
      "cell_type": "code",
      "source": [
        "print(\"Ví dụ query từ sdf:\")\n",
        "print(sdf['query'].drop_duplicates().head(10).tolist())\n",
        "\n",
        "print(\"\\nVí dụ query từ tdf:\")\n",
        "print(tdf['query'].drop_duplicates().head(10).tolist())\n"
      ],
      "metadata": {
        "id": "WeMBy8zMWYbA"
      },
      "execution_count": null,
      "outputs": []
    },
    {
      "cell_type": "code",
      "source": [],
      "metadata": {
        "id": "s8kk0FzjWZiK"
      },
      "execution_count": null,
      "outputs": []
    },
    {
      "cell_type": "code",
      "source": [
        "import pandas as pd\n",
        "\n",
        "# ---- Giả sử bạn đã có sẵn 2 DataFrame: sdf và tdf ----\n",
        "# sdf: gồm các cột [system, user, assistant, query, args]\n",
        "# tdf: gồm các cột [index, query, args, result] (hoặc tương tự)\n",
        "\n",
        "# 1. Chuẩn hóa cột query trong cả hai DataFrame\n",
        "def normalize_query(text):\n",
        "    if isinstance(text, str):\n",
        "        return text.strip().lower()\n",
        "    return \"\"\n",
        "\n",
        "sdf['query'] = sdf['query'].apply(normalize_query)\n",
        "tdf['query'] = tdf['query'].apply(normalize_query)\n",
        "\n",
        "# 2. Kiểm tra có bao nhiêu query trùng nhau sau khi chuẩn hóa\n",
        "common_queries = set(sdf['query']) & set(tdf['query'])\n",
        "print(f\"Số lượng query trùng nhau sau khi chuẩn hóa: {len(common_queries)}\")\n",
        "\n",
        "# 3. Merge hai DataFrame theo cột query\n",
        "ndf = pd.merge(sdf, tdf[['query', 'result']], on='query', how='inner')\n",
        "\n",
        "# 4. Giữ lại các cột mong muốn\n",
        "ndf = ndf[['system', 'user', 'assistant', 'query', 'result']]\n",
        "\n",
        "# 5. Kiểm tra kết quả\n",
        "print(ndf.head())\n",
        "print(\"\\nThông tin DataFrame mới:\")\n",
        "ndf.info()\n"
      ],
      "metadata": {
        "id": "9WULnoYNUI1D"
      },
      "execution_count": null,
      "outputs": []
    },
    {
      "cell_type": "code",
      "source": [
        "import pandas as pd\n",
        "import json\n",
        "\n",
        "file_path = 't.jsonl'\n",
        "valid_json_objects = []\n",
        "corrupted_lines = []\n",
        "\n",
        "with open(file_path, 'r', encoding='utf-8') as f:\n",
        "    for line_num, line in enumerate(f, 1):\n",
        "        try:\n",
        "            # Attempt to parse the line as a JSON object\n",
        "            json_obj = json.loads(line)\n",
        "            valid_json_objects.append(json_obj)\n",
        "        except json.JSONDecodeError as e:\n",
        "            # If parsing fails, it's a corrupted line\n",
        "            print(f\"Corrupted line {line_num}: {line.strip()} - Error: {e}\")\n",
        "            corrupted_lines.append((line_num, line.strip()))\n",
        "\n",
        "# Create a DataFrame from the valid JSON objects\n",
        "tdf = pd.DataFrame(valid_json_objects)\n",
        "\n",
        "# You can optionally inspect the corrupted lines list\n",
        "# print(\"\\nSummary of corrupted lines:\")\n",
        "# for line_num, line in corrupted_lines:\n",
        "#     print(f\"Line {line_num}: {line}\")\n",
        "\n",
        "print(f\"\\nSuccessfully loaded {len(valid_json_objects)} valid JSON objects into the DataFrame.\")\n",
        "print(f\"Skipped {len(corrupted_lines)} corrupted lines.\")\n",
        "\n",
        "# Display information about the resulting DataFrame\n",
        "tdf.info()"
      ],
      "metadata": {
        "id": "FVFlJlCWSm7r"
      },
      "execution_count": null,
      "outputs": []
    },
    {
      "cell_type": "code",
      "source": [],
      "metadata": {
        "id": "81exN6dBTiPx"
      },
      "execution_count": null,
      "outputs": []
    },
    {
      "cell_type": "code",
      "source": [
        "pdf = df.drop(['user', 'system', 'assistant'], axis=1)\n",
        "pdf.head(1)"
      ],
      "metadata": {
        "id": "8TFUOFAbmDdK"
      },
      "execution_count": null,
      "outputs": []
    },
    {
      "cell_type": "code",
      "source": [
        "pdf.head(1)"
      ],
      "metadata": {
        "id": "8aR0im6SnAst"
      },
      "execution_count": null,
      "outputs": []
    },
    {
      "cell_type": "code",
      "source": [
        "pdf.to_csv('df_partial.csv')"
      ],
      "metadata": {
        "id": "PeoT5-AtmSef"
      },
      "execution_count": null,
      "outputs": []
    },
    {
      "cell_type": "code",
      "source": [
        "from tqdm import tqdm\n",
        "import zipfile\n",
        "import os\n",
        "\n",
        "# Your original code with modifications\n",
        "i = 0\n",
        "c = 0\n",
        "jsonl_files = []  # List to store names of generated jsonl files\n",
        "for i in tqdm(range(len(pdf)+30), desc='splitting', total=len(pdf)+30, disable=False):\n",
        "    if i % 30 == 0:\n",
        "        tdf = pdf[i:i+30]\n",
        "        jsonl_file = f'df{c}.jsonl'\n",
        "        tdf.to_json(jsonl_file, orient='records', lines=True)\n",
        "        jsonl_files.append(jsonl_file)  # Add file to list\n",
        "        c = c + 1\n",
        "\n",
        "# Create a zip file containing all jsonl files\n",
        "zip_filename = 'all.zip'\n",
        "with zipfile.ZipFile(zip_filename, 'w', zipfile.ZIP_DEFLATED) as zipf:\n",
        "    for jsonl_file in jsonl_files:\n",
        "        if os.path.exists(jsonl_file):\n",
        "            zipf.write(jsonl_file)\n",
        "            # Optionally, remove the original jsonl file after zipping\n",
        "            # os.remove(jsonl_file)\n",
        "\n",
        "print(f\"Created zip file: {zip_filename}\")"
      ],
      "metadata": {
        "id": "TUpExFvCfYYW"
      },
      "execution_count": null,
      "outputs": []
    },
    {
      "cell_type": "code",
      "source": [
        "import pandas as pd\n",
        "\n",
        "ds = pd.read_json('deepseek.jsonl', lines=True)\n",
        "\n",
        "ds.head(30)"
      ],
      "metadata": {
        "collapsed": true,
        "id": "W_3LoV5qrAUr"
      },
      "execution_count": null,
      "outputs": []
    },
    {
      "cell_type": "code",
      "source": [
        "'''\n",
        "Không cần giải thích cách làm\n",
        "Cho một file jsonl chứa các câu truy vấn và trích xuất biến, nhiệm vụ của bạn là kiểm tra trích xuất biến (trường 'args') của câu truy vấn (trường 'query') và trả về file jsonl với 2 cột mới là 'result' ('đúng' nếu trích xuất biến đúng hoặc 'sai' nếu trích xuất biến sai) và cột 'explanation' (giải thích lỗi sai, có 3 loại lỗi sai sau: loại 1 - trích xuất thiếu biến, loại 2 - trích xuất thừa biến, loại 3 - trích xuất đúng biến nhưng sai giá trị biến, đối với cột này bạn hãy trả về loại lỗi sai và tên biến sai)\n",
        "\n",
        "Cho đặc tả các biến dữ liệu như sau, hãy tuân thủ theo chặt chẽ định dạng được mô tả ở dưới:\n",
        "\"customer\\_name\": {\"type\": \"string\", \"description\": \"Customer's name\"},\n",
        "\"customer\\_phone\": {\"type\": \"string\", \"description\": \"Customer's phone number\"},\n",
        "\"medical\\_department\": {\"type\": \"string\", \"description\": \"Refers to the name of a medical department or service information. It's not a position, not an employee or a staff\"},\n",
        "\"is\\_yes\": {\"type\": \"string\", \"description\": \"Can take two values:\\n- true (if the user confirms, agrees, says something affirmative, or expresses consent in any similar way.)\\n- false (if the user expresses the opposite, does not approve, disagrees, or shows any similar response.)\"},\n",
        "\"hospital\\_name\": {\"type\": \"string\", \"description\": \"Identify the name of the hospital, place or facility of Vinmec\"},\n",
        "\"customer\\_dob\": {\"type\": \"string\", \"description\": \"Extract the user's date of birth. Format DD-MM-YYYY. This value must be a date in the past.\"}, Today is 16/05/2025\n",
        "\"customer\\_place\": {\"type\": \"string\", \"description\": \"Province/City provided by the customer\"},\n",
        "\"symptoms\": {\"type\": \"string\", \"description\": \"Identify and extract users' symptom information based on their messages\"},\n",
        "\"relationship\": {\"type\": \"string\", \"description\": \"Relationship to the person booking the appointment\"},\n",
        "\"appointment\\_date\": {\"type\": \"string\", \"description\":  \"Medical appointment scheduling date based on the user's messages. Remember to extract using the format: DD-MM-YYYY. This value must be a date in the future. Today is 16/05/2025\n",
        "\"appointment\\_time\": {\"type\": \"string\", \"description\": \"Medical appointment scheduling time based on the user's messages. The time frame should follow a 24-hour format and the time zone is GMT+7 using this format: HH\\:mm\"},\n",
        "\"cancel\\_num\": {\"type\": \"string\", \"description\": \"Identify number from the user's message. The user may express them as words (one, two,...) or digits (1, 2,...) in Vietnamese. If the user provides words, convert them to digits. Accepted values range from 1 to 10.\"}\n",
        "'''"
      ],
      "metadata": {
        "id": "kifGZFh4oJxH"
      },
      "execution_count": null,
      "outputs": []
    },
    {
      "cell_type": "code",
      "source": [
        "df1 = df[:1100]\n",
        "df2 = df[1100:2200].reset_index()\n",
        "df3 = df[2200:3300].reset_index()\n",
        "df4 = df[3300:4400].reset_index()\n",
        "df5 = df[4400:5500].reset_index()\n",
        "df6 = df[5500:6600].reset_index()\n",
        "df7 = df[6600:7700].reset_index()\n",
        "df8 = df[7700:8800].reset_index()\n",
        "df9 = df[8800:9900].reset_index()\n",
        "df10 = df[9900:11000].reset_index()\n",
        "df11 = df[11000: 12100].reset_index()\n",
        "df12 = df[12100:13200].reset_index()\n",
        "df13 = df[13200:14300].reset_index()\n",
        "df14 = df[14300:].reset_index()"
      ],
      "metadata": {
        "id": "SmMPAV5TjlC-"
      },
      "execution_count": null,
      "outputs": []
    },
    {
      "cell_type": "code",
      "source": [
        "df1.to_csv('df1.csv', index=False)\n",
        "df2.to_csv('df2.csv', index=False)\n",
        "df3.to_csv('df3.csv', index=False)\n",
        "df4.to_csv('df4.csv', index=False)\n",
        "df5.to_csv('df5.csv', index=False)\n",
        "df6.to_csv('df6.csv', index=False)\n",
        "df7.to_csv('df7.csv', index=False)\n",
        "df8.to_csv('df8.csv', index=False)\n",
        "df9.to_csv('df9.csv', index=False)\n",
        "df10.to_csv('df10.csv', index=False)\n",
        "df11.to_csv('df11.csv', index=False)\n",
        "df12.to_csv('df12.csv', index=False)\n",
        "df13.to_csv('df13.csv', index=False)\n",
        "df14.to_csv('df14.csv', index=False)"
      ],
      "metadata": {
        "id": "7NNg5aQdvOzF"
      },
      "execution_count": null,
      "outputs": []
    },
    {
      "cell_type": "code",
      "source": [
        "df11.info()"
      ],
      "metadata": {
        "id": "ANA-LVfKv8ls"
      },
      "execution_count": null,
      "outputs": []
    },
    {
      "cell_type": "code",
      "execution_count": null,
      "metadata": {
        "id": "CwxS2d2q__Mx"
      },
      "outputs": [],
      "source": [
        "df = df.reset_index()\n",
        "df.info()"
      ]
    },
    {
      "cell_type": "markdown",
      "metadata": {
        "id": "FNvopUK8Cenh"
      },
      "source": [
        "### tỉ lệ xuất hiện các biến"
      ]
    },
    {
      "cell_type": "code",
      "execution_count": null,
      "metadata": {
        "id": "shtCR4T82Iug"
      },
      "outputs": [],
      "source": [
        "import json\n",
        "\n",
        "def save_dataframe_to_jsonl(df, filename):\n",
        "  with open(filename, 'w', encoding='utf-8') as f:\n",
        "    for index, row in df.iterrows():\n",
        "      json.dump(row.to_dict(), f, ensure_ascii=False)\n",
        "      f.write('\\n')\n",
        "\n",
        "\n",
        "save_dataframe_to_jsonl(df_chinese, 'df_chinese.jsonl')\n",
        "save_dataframe_to_jsonl(df, 'df.jsonl')"
      ]
    },
    {
      "cell_type": "code",
      "execution_count": null,
      "metadata": {
        "id": "ElsQ203R8WqN"
      },
      "outputs": [],
      "source": [
        "args = ['customer_name', 'customer_phone', 'medical_department', 'is_yes', 'hospital_name',\n",
        "       'customer_dob', 'customer_place', 'symptoms', 'relationship', 'appointment_date', 'appointment_time',\n",
        "       'cancel_num']"
      ]
    },
    {
      "cell_type": "code",
      "execution_count": null,
      "metadata": {
        "id": "aZbV8mDS8iT4"
      },
      "outputs": [],
      "source": [
        "def count_args_in_assistant(df, args):\n",
        "    arg_counts = {}\n",
        "    for arg in args:\n",
        "        arg_counts[arg] = df['assistant'].str.contains(arg, regex=False).sum()\n",
        "    return arg_counts\n",
        "\n",
        "\n",
        "arg_counts = count_args_in_assistant(df, args)\n",
        "arg_counts"
      ]
    },
    {
      "cell_type": "code",
      "execution_count": null,
      "metadata": {
        "id": "V99OcjXv-cRd"
      },
      "outputs": [],
      "source": [
        "import matplotlib.pyplot as plt\n",
        "\n",
        "arg_counts = count_args_in_assistant(df, args)\n",
        "\n",
        "plt.figure(figsize=(12, 6))\n",
        "plt.bar(arg_counts.keys(), arg_counts.values())\n",
        "plt.xlabel(\"biến\")\n",
        "plt.ylabel(\"số lần xuất hiện\")\n",
        "plt.xticks(rotation=45, ha=\"right\")\n",
        "plt.tight_layout()\n",
        "plt.show()"
      ]
    },
    {
      "cell_type": "markdown",
      "metadata": {
        "id": "_I4xAvvnBBZw"
      },
      "source": [
        "### verify trích xuất biến"
      ]
    },
    {
      "cell_type": "code",
      "execution_count": null,
      "metadata": {
        "id": "BC0o_qL-blA_"
      },
      "outputs": [],
      "source": [
        "import pandas as pd\n",
        "import re\n",
        "import json\n",
        "from tqdm.auto import tqdm\n",
        "import time\n",
        "import os\n",
        "\n",
        "from google import genai\n",
        "from google.genai.types import GenerateContentConfig, HttpOptions\n",
        "from google.api_core import retry\n",
        "from google.genai import types\n",
        "from google.colab import userdata\n",
        "\n",
        "cli1 = genai.Client(api_key=userdata.get('cli1'))\n",
        "cli2 = genai.Client(api_key=userdata.get('cli2'))\n",
        "cli3 = genai.Client(api_key=userdata.get('cli3'))\n",
        "cli4 = genai.Client(api_key=userdata.get('cli4'))\n",
        "cli5 = genai.Client(api_key=userdata.get('cli5'))\n",
        "cli6 = genai.Client(api_key=userdata.get('cli6'))\n",
        "cli7 = genai.Client(api_key=userdata.get('cli7'))"
      ]
    },
    {
      "cell_type": "markdown",
      "metadata": {
        "id": "gF492cifELZS"
      },
      "source": [
        "#### thử tất cả các biến, zero shot, fewshot"
      ]
    },
    {
      "cell_type": "code",
      "execution_count": null,
      "metadata": {
        "id": "22V5kMKfc6lH"
      },
      "outputs": [],
      "source": [
        "prompt = '''\n",
        "cho mô tả các biến của function-call: \"\n",
        "  \"customer_name\": {\"type\": \"string\", \"description\": \"Customer\\'s name\"},\n",
        "  \"customer_phone\": {\"type\": \"string\", \"description\": \"Customer\\'s phone number\"},\n",
        "  \"medical_department\": {\"type\": \"string\", \"description\": \"Medical department or service information.\"},\n",
        "  \"is_yes\": {\"type\": \"string\", \"description\": \"Can take two values:\\\\n- true (if the user confirms, agrees, says something affirmative, or expresses consent in any similar way.)\\\\n- false (if the user expresses the opposite, does not approve, disagrees, or shows any similar response.)\"},\n",
        "  \"hospital_name\": {\"type\": \"string\", \"description\": \"Identify the name of the hospital, place or facility of Vinmec\"},\n",
        "  \"customer_dob\": {\"type\": \"string\", \"description\": \"Extract the user\\'s date of birth. Format DD-MM-YYYY. This value must be a date in the past.\"},\n",
        "  \"customer_place\": {\"type\": \"string\", \"description\": \"Province/City provided by the customer\"},\n",
        "  \"symptoms\": {\"type\": \"string\", \"description\": \"Identify and extract users\\' symptom information based on their messages\"},\n",
        "  \"relationship\": {\"type\": \"string\", \"description\": \"Relationship to the person booking the appointment\"},\n",
        "  \"appointment_date\": {\"type\": \"string\", \"description\": \"Medical appointment schedulling date based on the user\\'s messages. remember extract by following format: DD-MM-YYYY. This value must be a date in the future. \\\\nExample: 1999-04-24 -> 24-04-1999\"},\n",
        "  \"appointment_time\": {\"type\": \"string\", \"description\": \"Medical appointment schedulling time based on the user\\'s messages. The time frame will follow a 24-hour format and the time zone is GMT+7 follow this format: HH:mm\"},\n",
        "  \"cancel_num\": {\"type\": \"string\", \"description\": \"Identify number from the user\\'s message. The user may express them as words (one, two,...) or digits (1, 2,...) in Vietnamese. If the user provides words, convert them to digits. Accepted values range from 1 to 10.\"\n",
        "\n",
        "đầu vào: cột query chứa nội dung query của người dùng và cột args chứa các biến cho function-call của query đó dựa trên mô tả các biến phía trên, hãy đánh giá xem phần trích xuất các biến đã đúng chưa\n",
        "đầu ra: trả về cột 'result' chứa các giá trị '1': Đúng hoặc '0': Sai và cột reason chứa lí do sai, có thể có nhiều lí do, hãy liệt kê ra hết, có các lí do sai như sau\n",
        "  1. trích xuất thiếu biến\n",
        "  2. trích xuất đúng biến nhưng giá trị sai\n",
        "  3. trích xuất thừa biến\n",
        "'''\n",
        "\n",
        "system_prompt = \"\"\"\n",
        "You are a language expert evaluating the variable extraction results of a function-call.\n",
        "For each query and its corresponding args, your task is to assess whether the variables in the args column are the correct and complete extractions from the query.\n",
        "\n",
        "Here is the description of the function-call variables, these variables is in the medical domain, other domain can be ignored:\n",
        "  \"customer_name\": {\"type\": \"string\", \"description\": \"Customer's name\"},\n",
        "  \"customer_phone\": {\"type\": \"string\", \"description\": \"Customer's phone number\"},\n",
        "  \"medical_department\": {\"type\": \"string\", \"description\": \"Refers to the name of a medical department or service information. It's not a position, not an employee or a staff\"},\n",
        "  \"is_yes\": {\"type\": \"string\", \"description\": \"Can take two values:\\n- true (if the user confirms, agrees, says something affirmative, or expresses consent in any similar way.)\\n- false (if the user expresses the opposite, does not approve, disagrees, or shows any similar response.)\"},\n",
        "  \"hospital_name\": {\"type\": \"string\", \"description\": \"Identify the name of the hospital, place or facility of Vinmec\"},\n",
        "  \"customer_dob\": {\"type\": \"string\", \"description\": \"Extract the user's date of birth. Format DD-MM-YYYY. This value must be a date in the past.\"},\n",
        "  \"customer_place\": {\"type\": \"string\", \"description\": \"Province/City provided by the customer\"},\n",
        "  \"symptoms\": {\"type\": \"string\", \"description\": \"Identify and extract users' symptom information based on their messages\"},\n",
        "  \"relationship\": {\"type\": \"string\", \"description\": \"Relationship to the person booking the appointment\"},\n",
        "  \"appointment_date\": {\"type\": \"string\", \"description\":  \"Medical appointment scheduling date based on the user's messages. Remember to extract using the format: DD-MM-YYYY. This value must be a date in the future.\\nExample: 1999-04-24 -> 24-04-1999\"},\n",
        "  \"appointment_time\": {\"type\": \"string\", \"description\": \"Medical appointment scheduling time based on the user's messages. The time frame should follow a 24-hour format and the time zone is GMT+7 using this format: HH:mm\"},\n",
        "  \"cancel_num\": {\"type\": \"string\", \"description\": \"Identify number from the user's message. The user may express them as words (one, two,...) or digits (1, 2,...) in Vietnamese. If the user provides words, convert them to digits. Accepted values range from 1 to 10.\"}\n",
        "\n",
        "The template you must strictly follow:\n",
        "- The 'result' column contains values: '1': Correct or '0': Incorrect\n",
        "- The 'reason' column contains the justification for correctness or incorrectness. There may be one or multiple reasons; list them all. Possible incorrect reasons: 'redundant_variable', 'missing_variable', 'correct variable but wrong_value'\n",
        "\n",
        "As described in the template, you must strictly adhere to this format and must not change anything in the template.\n",
        "\n",
        "Here are some examples\n",
        "- Tôi muốn gặp trưởng phòng nhân sự. {}\n",
        "- 1\n",
        "\n",
        "- Tôi muốn gặp giáo viên chủ nhiệm. {}\n",
        "- 1\n",
        "\n",
        "- Tôi muốn gặp trưởng khoa đại học. {'medical_department': 'trưởng khoa đại học'}\n",
        "- 0, redundant_variable\n",
        "\n",
        "- tôi muốn gặp giám đốc bện viện {'hospital_name': 'bệnh viện'}\n",
        "- 0, redundant_variable, missing_variable\n",
        "\n",
        "- đang có tình huống gấp cần gặp chuyên viên luôn {'is_yes': 'true'}\n",
        "- 0, redundant_variable, missing_variable\n",
        "\n",
        "- Vừa có sự cố va chạm ở đà nẵng nhưng cũng phải gọi xe cứu thương. {'customer_place': 'đà nẵng', 'symptoms': 'vừa có sự cố va chạm'}\n",
        "- 1\n",
        "\n",
        "- Làm ơn mang đồ ăn đến bàn số năm. {'cancel_num': '5'}\n",
        "- 1\n",
        "\n",
        "- Các câu này giữ nguyên cấu trúc \"Tên đầy đủ, các chủ thể khác có thể gọi tắt là tên ngắn nếu muốn\" như trong câu mẫu. {}\n",
        "- 1\n",
        "\n",
        "- ukm cô tên phương nha em {'customer_name': 'phương'}\n",
        "- 1\n",
        "\n",
        "- Lưu ý rằng trong thực tế, không có ngày \"45\" trong bất kỳ tháng nào, nên câu cuối cùng được tạo ra chỉ để tuân theo yêu cầu về cấu trúc và không phản ánh một ngày cụ thể trong lịch Gregorian. {}\n",
        "- 1\n",
        "\"\"\""
      ]
    },
    {
      "cell_type": "markdown",
      "metadata": {
        "id": "604xEnm0tMJx"
      },
      "source": [
        "#### làm thành 2 bước: tìm -> so sánh"
      ]
    },
    {
      "cell_type": "code",
      "execution_count": null,
      "metadata": {
        "id": "XT7HCCMrtKk2"
      },
      "outputs": [],
      "source": [
        "system_prompt = \"\"\"\n",
        "Bạn là một chuyên gia ngôn ngữ, có nhiệm vụ đánh giá kết quả trích xuất biến của một function-call.\n",
        "Đối với mỗi câu truy vấn (query), nhiệm vụ của bạn là tìm biến \"customer_name\": {\"type\": \"string\", \"description\": \"Customer's name\"} trong câu truy vấn đó.\n",
        "Nếu không có bất kỳ biến nào (args) trong danh sách, hãy trả về 'no'.\n",
        "Nếu có, hãy trả về 'yes'.\n",
        "\"\"\""
      ]
    },
    {
      "cell_type": "code",
      "execution_count": null,
      "metadata": {
        "collapsed": true,
        "id": "t1TCfXuicODg"
      },
      "outputs": [],
      "source": [
        "df1n.head()"
      ]
    },
    {
      "cell_type": "code",
      "execution_count": null,
      "metadata": {
        "collapsed": true,
        "id": "fJ-QUXj1ExhU"
      },
      "outputs": [],
      "source": [
        "responses = []\n",
        "df1n['result'] = 'no'\n",
        "\n",
        "for i in range(15):\n",
        "  query=df1n['query'][i]\n",
        "  response = cli1.models.generate_content(\n",
        "    model = 'gemini-2.0-flash',\n",
        "    config=types.GenerateContentConfig(\n",
        "        system_instruction=system_prompt,\n",
        "        max_output_tokens=10,\n",
        "        temperature=0.7),\n",
        "    contents=f'''\n",
        "    Với câu truy vấn được cho: {query}''' +\n",
        "    '''\n",
        "    Nhiệm vụ của bạn là tìm biến customer_name (tên của khách hàng) trong câu truy vấn đó. Nếu có hãy trả về tên của khách hàng\n",
        "    Nếu trong câu truy vấn có tên và trước đó có từ \"bác sĩ\" hoặc \"bác\" thì trả về \"no\"\n",
        "    ''',\n",
        "  )\n",
        "  response = response.candidates[0].content.parts[0].text\n",
        "  responses.append(response)\n",
        "  df1n.loc[i, 'result'] = response\n",
        "\n",
        "df1n[:15]"
      ]
    },
    {
      "cell_type": "markdown",
      "metadata": {
        "id": "xde02DjdOfls"
      },
      "source": [
        "#### biến customer_name\n",
        "\n",
        "1. tạo thêm cột `customer_name` => `yes` nếu như có trường `customer_name` trong cột `args`, trả về `no` nếu không có\n",
        "2. tạo thêm cột `customer_name_check` => `yes` nếu như có chứa tên khách hàng\n",
        "  - model nhận diện được tên người nhưng lấy cả tên của các ngành nghề khác ngoài khách hàng => prompt zero-shot\n",
        "    - bác sĩ\n",
        "    - địa danh\n",
        "    - barber\n",
        "    - stylist\n",
        "    - hướng dẫn viên du lịch\n",
        "    - thầy giáo\n",
        "    - quản lý,...\n",
        "3. tạo thêm cột `customer_name_bool_check` => `correct` nếu như giá trị của 2 cột `customer_name` và `customer_name_check` khớp nhau, `incorrect` nếu không\n",
        "4. lọc ra những cột correct\n",
        "\n"
      ]
    },
    {
      "cell_type": "code",
      "execution_count": null,
      "metadata": {
        "collapsed": true,
        "id": "CKC4yZgmZBSi"
      },
      "outputs": [],
      "source": [
        "# tạo thêm cột `customer_name_bool_check` => `correct` nếu như giá trị của 2 cột `customer_name` và `customer_name_check` khớp nhau, `incorrect` nếu không\n",
        "def check_customer_name(args_str):\n",
        "  \"\"\"Checks if 'customer_name' is present in the args string.\"\"\"\n",
        "  try:\n",
        "    args_dict = eval(args_str)  # Safely evaluate the string as a dictionary\n",
        "    return 'customer_name' in args_dict\n",
        "  except (SyntaxError, NameError, TypeError):\n",
        "    return False\n",
        "\n",
        "df1n['customer_name'] = df1n['args'].apply(lambda x: 'yes' if check_customer_name(x) else 'no')\n",
        "df1n.head()"
      ]
    },
    {
      "cell_type": "code",
      "execution_count": null,
      "metadata": {
        "collapsed": true,
        "id": "pSS6jtvag540"
      },
      "outputs": [],
      "source": [
        "df1n = df1n.reset_index(drop=True)\n",
        "df1n"
      ]
    },
    {
      "cell_type": "code",
      "source": [
        "t = df1n[70:85]\n",
        "t"
      ],
      "metadata": {
        "collapsed": true,
        "id": "eI-gNo1oEsMX"
      },
      "execution_count": null,
      "outputs": []
    },
    {
      "cell_type": "code",
      "source": [
        "# Import the regular expression module\n",
        "import re\n",
        "\n",
        "# Define the input string\n",
        "s = \"Hello [world]!\"\n",
        "\n",
        "# Define the regex pattern to match content between the delimiters\n",
        "pattern = r\"\\[(.*?)\\]\"\n",
        "\n",
        "# Search for the pattern in the input string\n",
        "matched = re.search(pattern, s)\n",
        "\n",
        "# Check if a match is found and extract the substring\n",
        "if matched:\n",
        "    result = matched.group(1)\n",
        "    print(result)  # Output: world\n",
        "else:\n",
        "    print(\"Delimiters not found\")"
      ],
      "metadata": {
        "id": "OdnW_ISfFq8v"
      },
      "execution_count": null,
      "outputs": []
    },
    {
      "cell_type": "code",
      "source": [
        "match.group(1)"
      ],
      "metadata": {
        "id": "UkEWIf7hHNLt"
      },
      "execution_count": null,
      "outputs": []
    },
    {
      "cell_type": "code",
      "source": [
        "t = t.reset_index()"
      ],
      "metadata": {
        "id": "eQz4gZNVJEJ3"
      },
      "execution_count": null,
      "outputs": []
    },
    {
      "cell_type": "code",
      "source": [
        "import time\n",
        "\n",
        "client = cli1\n",
        "\n",
        "pattern = r\"\\[(.*?)\\]\"\n",
        "\n",
        "t['customer_name_check'] = ''\n",
        "\n",
        "for i in tqdm(range(len(t)), desc='checking for customer name', total=len(t), disable=False):\n",
        "  query=t['query'][i]\n",
        "  # if i % 15 == 0:\n",
        "    # time.sleep(60)\n",
        "  response = client.models.generate_content(\n",
        "    model='gemini-2.0-flash',\n",
        "    config=types.GenerateContentConfig(\n",
        "        max_output_tokens=200,\n",
        "        temperature=0.1),\n",
        "    contents=f'''\n",
        "    Cho một câu truy vấn (câu truy vấn này là chuẩn rồi, không cần chỉnh sửa gì), nhiệm vụ của bạn là trích tên riêng của người trong câu và kiểm tra xem tên riêng đó của người dùng hay của bác sĩ, địa danh, barber, stylist, hướng dẫn viên du lịch, thầy giáo, quản lý, huấn luyện viên, thợ sửa xe, nhân viên làm nail\n",
        "    Nếu tên riêng đó không phải là của khách hàng mà là của bác sĩ, địa danh, barber, stylist, hướng dẫn viên du lịch,... thì trả về \"no\", \"mí\" không phải là tên riêng, nếu chỉ đề cập tới đại từ như \"anh\", \"chị\", \"em\", \"ông\", \"bà\" thì đó không phải là tên riêng của người dùng\n",
        "    Sau đó, nếu và chỉ nếu khi tên riêng đó là tên riêng của khách hàng thì trả về tên khách hàng đặt trong dấu ngoặc vuông\n",
        "    câu truy vấn là {query}\n",
        "    ''',\n",
        "  )\n",
        "  print(f\"QUERY NUMBER {i}: \" + t['query'][i])\n",
        "  response = response.candidates[0].content.parts[0].text\n",
        "  matched = re.search(pattern, response)\n",
        "  if matched:\n",
        "    t.at[i, 'customer_name_check'] = matched.group(1)\n",
        "  else:\n",
        "    t.at[i, 'customer_name_check'] = 'no'\n",
        "  print(f\"RESPONSE NUMBER {i}: \" + response)\n",
        "  # response = \"yes\" if \"yes\" in response.lower().split() else \"no\"\n",
        "  print(f\"RESULT NUMBER {i}: \" + t.at[i, 'customer_name_check'])\n",
        "  # t.at[i, 'customer_name_check'] = response\n",
        "  # t.to_csv('df1.csv', index=False)"
      ],
      "metadata": {
        "collapsed": true,
        "id": "3cvDTeH4FD9m"
      },
      "execution_count": null,
      "outputs": []
    },
    {
      "cell_type": "code",
      "source": [
        "import time\n",
        "\n",
        "client = cli1\n",
        "\n",
        "pattern = r\"\\[(.*?)\\]\"\n",
        "\n",
        "df1n['customer_name_check'] = ''\n",
        "\n",
        "for i in tqdm(range(len(df1n)), desc='checking for customer name', total=len(df1n), disable=False):\n",
        "  query = df1n['query'][i]\n",
        "  if i % 15 == 0:\n",
        "    time.sleep(60)\n",
        "  response = client.models.generate_content(\n",
        "    model='gemini-2.0-flash',\n",
        "    config=types.GenerateContentConfig(\n",
        "        max_output_tokens=200,\n",
        "        temperature=0.1),\n",
        "    contents=f'''\n",
        "    Cho một câu truy vấn (câu truy vấn này là chuẩn rồi, không cần chỉnh sửa gì), nhiệm vụ của bạn là trích tên riêng của người trong câu và kiểm tra xem tên riêng đó của người dùng hay của bác sĩ, địa danh, barber, stylist, hướng dẫn viên du lịch, thầy giáo, quản lý, huấn luyện viên, thợ sửa xe, nhân viên làm nail\n",
        "    Nếu tên riêng đó không phải là của khách hàng mà là của bác sĩ, địa danh, barber, stylist, hướng dẫn viên du lịch,... thì trả về \"no\", \"mí\" không phải là tên riêng, nếu chỉ đề cập tới đại từ như \"anh\", \"chị\", \"em\", \"ông\", \"bà\" thì đó không phải là tên riêng của người dùng\n",
        "    Sau đó, nếu và chỉ nếu khi tên riêng đó là tên riêng của khách hàng thì trả về tên khách hàng đặt trong dấu ngoặc vuông\n",
        "    câu truy vấn là {query}\n",
        "    ''',\n",
        "  )\n",
        "  print(f\"QUERY NUMBER {i}: \" + df1n['query'][i])\n",
        "  response = response.candidates[0].content.parts[0].text\n",
        "  matched = re.search(pattern, response)\n",
        "  if matched:\n",
        "    df1n.at[i, 'customer_name_check'] = matched.group(1)\n",
        "  else:\n",
        "    df1n.at[i, 'customer_name_check'] = 'no'\n",
        "  print(f\"RESPONSE NUMBER {i}: \" + response)\n",
        "  print(f\"RESULT NUMBER {i}: \" + df1n.at[i, 'customer_name_check'])\n",
        "  t.to_csv('df1.csv', index=False)"
      ],
      "metadata": {
        "id": "ZKNQaAaJ3u07"
      },
      "execution_count": null,
      "outputs": []
    },
    {
      "cell_type": "code",
      "execution_count": null,
      "metadata": {
        "id": "4mWO3jLniJRe"
      },
      "outputs": [],
      "source": [
        "# df1n = df1n.drop(columns=['result'])"
      ]
    },
    {
      "cell_type": "code",
      "execution_count": null,
      "metadata": {
        "collapsed": true,
        "id": "3LMtmAA1iYm-"
      },
      "outputs": [],
      "source": [
        "df1n.head()"
      ]
    },
    {
      "cell_type": "code",
      "execution_count": null,
      "metadata": {
        "collapsed": true,
        "id": "ZElMoZONddiB"
      },
      "outputs": [],
      "source": [
        "df1[df1['customer_name_check'] == 'yes']"
      ]
    },
    {
      "cell_type": "code",
      "execution_count": null,
      "metadata": {
        "id": "X4bKzrO-gi8x"
      },
      "outputs": [],
      "source": [
        "df1n['customer_name_bool_check'] = 'incorrect'\n",
        "df1n.loc[df1n['customer_name'] == df1n['customer_name_check'], 'customer_name_bool_check'] = 'correct'\n",
        "df1n[df1n['customer_name_bool_check'] == 'correct'].info()"
      ]
    },
    {
      "cell_type": "code",
      "execution_count": null,
      "metadata": {
        "collapsed": true,
        "id": "kj3mEsQliyE8"
      },
      "outputs": [],
      "source": [
        "df1n[df1n['customer_name_bool_check'] == 'correct']"
      ]
    },
    {
      "cell_type": "code",
      "execution_count": null,
      "metadata": {
        "id": "mHt7QR9Cc83O"
      },
      "outputs": [],
      "source": [
        "'''\n",
        "import time\n",
        "\n",
        "responses = []\n",
        "df1no['result'] = ''\n",
        "for index, row in df1no.iterrows():\n",
        "  response = cli1.models.generate_content(\n",
        "    model = 'gemini-2.0-flash',\n",
        "    config=types.GenerateContentConfig(\n",
        "        system_instruction=system_prompt,\n",
        "        max_output_tokens=100,\n",
        "        temperature=0.1),\n",
        "    contents=row['query'],\n",
        "  )\n",
        "  response = response.candidates[0].content.parts[0].text\n",
        "  responses.append(response)\n",
        "  df1no.loc[index, 'result'] = response\n",
        "  sleep()\n",
        "\n",
        "df1no\n",
        "'''"
      ]
    },
    {
      "cell_type": "markdown",
      "metadata": {
        "id": "xWb46y66uNyv"
      },
      "source": [
        "#### biến medical_department"
      ]
    },
    {
      "cell_type": "code",
      "execution_count": null,
      "metadata": {
        "id": "VLN_yObojym9"
      },
      "outputs": [],
      "source": [
        "df1n = df1n.drop(columns=['medical_department'])"
      ]
    },
    {
      "cell_type": "code",
      "execution_count": null,
      "metadata": {
        "collapsed": true,
        "id": "gZbHiBc7jZzv"
      },
      "outputs": [],
      "source": [
        "def check_medical_department(args_str):\n",
        "  \"\"\"Checks if 'customer_name' is present in the args string.\"\"\"\n",
        "  try:\n",
        "    args_dict = eval(args_str)  # Safely evaluate the string as a dictionary\n",
        "    return 'medical_department' in args_dict\n",
        "  except (SyntaxError, NameError, TypeError):\n",
        "    return False\n",
        "\n",
        "df1n['medical_department'] = df1n['args'].apply(lambda x: 'yes' if check_medical_department(x) else 'no')\n",
        "df1n"
      ]
    },
    {
      "cell_type": "code",
      "source": [
        "import time\n",
        "\n",
        "client = cli2\n",
        "\n",
        "t['medical_department_check'] = ''\n",
        "\n",
        "pattern = r\"\\[(.*?)\\]\"\n",
        "\n",
        "for i in tqdm(range(len(t)), desc='checking for customer name', total=len(t), disable=False):\n",
        "  query=t['query'][i]\n",
        "  # if i % 15 == 0:\n",
        "    # time.sleep(60)\n",
        "  response = client.models.generate_content(\n",
        "    model='gemini-2.0-flash',\n",
        "    config=types.GenerateContentConfig(\n",
        "        max_output_tokens=200,\n",
        "        temperature=0.1),\n",
        "    contents=f'''\n",
        "    Cho một câu truy vấn, nhiệm vụ của bạn là trích TÊN CỦA KHOA KHÁM TRONG BỆNH VIỆN\n",
        "    Nếu TÊN đó là TÊN CỦA MỘT KHOA KHÁM TRONG BỆNH VIỆN thì trả về TÊN KHOA KHÁM ĐẶT TRONG DẤU NGOẶC VUÔNG\n",
        "    Nếu TỪ TÊN BỘ PHẬN MUỐN KHÁM CÓ THỂ SUY RA ĐƯỢC TÊN KHOA KHÁM thì cũng trả về TÊN KHOA KHÁM ĐẶT TRONG DẤU NGOẶC VUÔNG\n",
        "    Nếu TÊN đó không phải là của KHOA KHÁM mà là TÊN CỦA BỆNH VIỆN thì trả về \"no\", TÊN BỆNH VIỆN không phải là TÊN CỦA KHOA KHÁM\n",
        "    câu truy vấn là {query}\n",
        "    ''',\n",
        "  )\n",
        "  print(f\"QUERY NUMBER {i}: \" + t['query'][i])\n",
        "  response = response.candidates[0].content.parts[0].text\n",
        "  matched = re.search(pattern, response)\n",
        "  if matched:\n",
        "    t.at[i, 'medical_department_check'] = matched.group(1)\n",
        "  else:\n",
        "    t.at[i, 'medical_department_check'] = 'no'\n",
        "  print(f\"RESPONSE NUMBER {i}: \" + response)\n",
        "  # response = \"yes\" if \"yes\" in response.lower().split() else \"no\"\n",
        "  print(f\"RESULT NUMBER {i}: \" + t.at[i, 'medical_department_check'])\n",
        "  # t.at[i, 'customer_name_check'] = response\n",
        "  # t.to_csv('df1.csv', index=False)"
      ],
      "metadata": {
        "collapsed": true,
        "id": "82kOQtZpSV3H"
      },
      "execution_count": null,
      "outputs": []
    },
    {
      "cell_type": "code",
      "execution_count": null,
      "metadata": {
        "collapsed": true,
        "id": "qA0ftUp9j89N"
      },
      "outputs": [],
      "source": [
        "import time\n",
        "\n",
        "client = cli2\n",
        "\n",
        "df1n['medical_department_check'] = ''\n",
        "\n",
        "pattern = r\"\\[(.*?)\\]\"\n",
        "\n",
        "for i in tqdm(range(len(df1n)), desc='checking for customer name', total=len(df1n), disable=False):\n",
        "  query = df1n['query'][i]\n",
        "  if i % 15 == 0:\n",
        "    time.sleep(60)\n",
        "  response = client.models.generate_content(\n",
        "    model='gemini-2.0-flash',\n",
        "    config=types.GenerateContentConfig(\n",
        "        max_output_tokens=200,\n",
        "        temperature=0.1),\n",
        "    contents=f'''\n",
        "    Cho một câu truy vấn, nhiệm vụ của bạn là trích TÊN CỦA KHOA KHÁM TRONG BỆNH VIỆN\n",
        "    Nếu TÊN đó là TÊN CỦA MỘT KHOA KHÁM TRONG BỆNH VIỆN thì trả về TÊN KHOA KHÁM ĐẶT TRONG DẤU NGOẶC VUÔNG\n",
        "    Nếu TỪ TÊN BỘ PHẬN MUỐN KHÁM CÓ THỂ SUY RA ĐƯỢC TÊN KHOA KHÁM thì cũng trả về TÊN KHOA KHÁM ĐẶT TRONG DẤU NGOẶC VUÔNG\n",
        "    Nếu TÊN đó không phải là của KHOA KHÁM mà là TÊN CỦA BỆNH VIỆN thì trả về \"no\", TÊN BỆNH VIỆN không phải là TÊN CỦA KHOA KHÁM\n",
        "    câu truy vấn là {query}\n",
        "    ''',\n",
        "  )\n",
        "  print(f\"QUERY NUMBER {i}: \" + df1n['query'][i])\n",
        "  response = response.candidates[0].content.parts[0].text\n",
        "  matched = re.search(pattern, response)\n",
        "  if matched:\n",
        "    df1n.at[i, 'medical_department_check'] = matched.group(1)\n",
        "  else:\n",
        "    df1n.at[i, 'medical_department_check'] = 'no'\n",
        "  print(f\"RESPONSE NUMBER {i}: \" + response)\n",
        "  print(f\"RESULT NUMBER {i}: \" + df1n.at[i, 'medical_department_check'])\n",
        "  df1n.to_csv('df1.csv', index=False)"
      ]
    },
    {
      "cell_type": "code",
      "execution_count": null,
      "metadata": {
        "id": "T1oN23R9jodg"
      },
      "outputs": [],
      "source": [
        "df1n['medical_department_bool_check'] = 'incorrect'\n",
        "df1n.loc[df1n['medical_department'] == df1n['medical_department_check'], 'medical_department_bool_check'] = 'correct'\n",
        "df1n[df1n['medical_department_bool_check'] == 'correct'].info()"
      ]
    },
    {
      "cell_type": "markdown",
      "metadata": {
        "id": "B-f8Yxksn8UN"
      },
      "source": [
        "#### biến customer_phone"
      ]
    },
    {
      "cell_type": "code",
      "execution_count": null,
      "metadata": {
        "collapsed": true,
        "id": "gZfZrDyBojwR"
      },
      "outputs": [],
      "source": [
        "def check_customer_phone(args_str):\n",
        "  try:\n",
        "    args_dict = eval(args_str)\n",
        "    return 'customer_phone' in args_dict\n",
        "  except (SyntaxError, NameError, TypeError):\n",
        "    return False\n",
        "\n",
        "df1n['customer_phone'] = df1n['args'].apply(lambda x: 'yes' if check_customer_phone(x) else 'no')\n",
        "df1n.head()"
      ]
    },
    {
      "cell_type": "code",
      "source": [
        "import time\n",
        "\n",
        "client = cli3\n",
        "\n",
        "t['customer_phone_check'] = ''\n",
        "\n",
        "pattern = r\"\\[(.*?)\\]\"\n",
        "\n",
        "for i in tqdm(range(len(t)), desc='checking for customer_phone', total=len(t), disable=False):\n",
        "  query = t['query'][i]\n",
        "  response = client.models.generate_content(\n",
        "    model='gemini-2.0-flash',\n",
        "    config=types.GenerateContentConfig(\n",
        "        max_output_tokens=200,\n",
        "        temperature=0.1),\n",
        "    contents=f'''\n",
        "    Cho một câu truy vấn, nhiệm vụ của bạn là trích RA SỐ ĐIỆN THOẠI trong truy vấn\n",
        "    Nếu KHÔNG CÓ SỐ ĐIỆN THOẠI thì trả về \"no\"\n",
        "    Nếu SỐ ĐIỆN THOẠI ĐÓ CỦA KHÁCH HÀNG thì trả về SỐ ĐIỆN THOẠI TRONG DẤU NGOẶC VUÔNG\n",
        "    Nếu SỐ ĐIỆN THOẠI ĐÓ KHÔNG PHẢI CỦA KHÁCH HÀNG thì trả về \"no\"\n",
        "    câu truy vấn là {query}\n",
        "    ''',\n",
        "  )\n",
        "  print(f\"QUERY NUMBER {i}: \" + t['query'][i])\n",
        "  response = response.candidates[0].content.parts[0].text\n",
        "  matched = re.search(pattern, response)\n",
        "  if matched:\n",
        "    t.at[i, 'customer_phone_check'] = matched.group(1)\n",
        "  else:\n",
        "    t.at[i, 'customer_phone_check'] = 'no'\n",
        "  print(f\"RESPONSE NUMBER {i}: \" + response)\n",
        "  print(f\"RESULT NUMBER {i}: \" + t.at[i, 'customer_phone_check'])"
      ],
      "metadata": {
        "collapsed": true,
        "id": "12mLkzuH52xR"
      },
      "execution_count": null,
      "outputs": []
    },
    {
      "cell_type": "code",
      "execution_count": null,
      "metadata": {
        "collapsed": true,
        "id": "NuIRTibU52xR"
      },
      "outputs": [],
      "source": [
        "import time\n",
        "\n",
        "client = cli3\n",
        "\n",
        "df1n['medical_department_check'] = ''\n",
        "\n",
        "pattern = r\"\\[(.*?)\\]\"\n",
        "\n",
        "for i in tqdm(range(len(df1n)), desc='checking for customer name', total=len(df1n), disable=False):\n",
        "  query = df1n['query'][i]\n",
        "  if i % 15 == 0:\n",
        "    time.sleep(60)\n",
        "  response = client.models.generate_content(\n",
        "    model='gemini-2.0-flash',\n",
        "    config=types.GenerateContentConfig(\n",
        "        max_output_tokens=200,\n",
        "        temperature=0.1),\n",
        "    contents=f'''\n",
        "    Cho một câu truy vấn, nhiệm vụ của bạn là trích RA SỐ ĐIỆN THOẠI trong truy vấn\n",
        "    Nếu KHÔNG CÓ SỐ ĐIỆN THOẠI thì trả về \"no\"\n",
        "    Nếu SỐ ĐIỆN THOẠI ĐÓ CỦA KHÁCH HÀNG thì trả về SỐ ĐIỆN THOẠI TRONG DẤU NGOẶC VUÔNG\n",
        "    Nếu SỐ ĐIỆN THOẠI ĐÓ KHÔNG PHẢI CỦA KHÁCH HÀNG thì trả về \"no\"\n",
        "    câu truy vấn là {query}\n",
        "    ''',\n",
        "  )\n",
        "  print(f\"QUERY NUMBER {i}: \" + df1n['query'][i])\n",
        "  response = response.candidates[0].content.parts[0].text\n",
        "  matched = re.search(pattern, response)\n",
        "  if matched:\n",
        "    df1n.at[i, 'medical_department_check'] = matched.group(1)\n",
        "  else:\n",
        "    df1n.at[i, 'medical_department_check'] = 'no'\n",
        "  print(f\"RESPONSE NUMBER {i}: \" + response)\n",
        "  print(f\"RESULT NUMBER {i}: \" + df1n.at[i, 'medical_department_check'])\n",
        "  df1n.to_csv('df1.csv', index=False)"
      ]
    },
    {
      "cell_type": "code",
      "execution_count": null,
      "metadata": {
        "colab": {
          "background_save": true
        },
        "id": "LmfdS0g0ouz2"
      },
      "outputs": [],
      "source": [
        "df1n['customer_phone_bool_check'] = 'incorrect'\n",
        "df1n.loc[df1n['customer_phone'] == df1n['customer_phone_check'], 'customer_phone_bool_check'] = 'correct'\n",
        "df1n[df1n['customer_phone_bool_check'] == 'correct'].info()"
      ]
    },
    {
      "cell_type": "markdown",
      "metadata": {
        "id": "YK7UY3JPoAMt"
      },
      "source": [
        "#### biến is_yes"
      ]
    },
    {
      "cell_type": "code",
      "execution_count": null,
      "metadata": {
        "id": "XZtLDC6kqVvw"
      },
      "outputs": [],
      "source": [
        "def check_is_yes(args_str):\n",
        "  try:\n",
        "    args_dict = eval(args_str)\n",
        "    return 'is_yes' in args_dict\n",
        "  except (SyntaxError, NameError, TypeError):\n",
        "    return False\n",
        "\n",
        "df1n['is_yes'] = df1n['args'].apply(lambda x: 'yes' if check_is_yes(x) else 'no')\n",
        "df1n"
      ]
    },
    {
      "cell_type": "code",
      "execution_count": null,
      "metadata": {
        "id": "YXeFrlAguDWn"
      },
      "outputs": [],
      "source": [
        "# prompt: viết hàm def check_is_yes_true_or_false, duyệt qua từng entry trong cột args, nếu có \"true\" thì chuyển giá trị tại cột \"is_yes\" thành true, nếu có \"false\" thì chuyển giá trị tại cột \"is_yes\" thành \"false\", nếu không có thì bỏ qua\n",
        "\n",
        "import pandas as pd\n",
        "def check_is_yes_true_or_false(df):\n",
        "  \"\"\"\n",
        "  Iterates through the 'args' column of a DataFrame.\n",
        "  If an entry contains \"true\", sets the corresponding 'is_yes' value to True.\n",
        "  If an entry contains \"false\", sets the corresponding 'is_yes' value to False.\n",
        "  Otherwise, leaves the 'is_yes' value unchanged.\n",
        "  \"\"\"\n",
        "  for index, row in df.iterrows():\n",
        "    args_str = row['args']\n",
        "    if pd.isna(args_str) or not isinstance(args_str, str):\n",
        "        continue\n",
        "    if \"true\" in args_str.lower():\n",
        "      df.loc[index, 'is_yes'] = True\n",
        "    elif \"false\" in args_str.lower():\n",
        "      df.loc[index, 'is_yes'] = False\n",
        "  return df\n",
        "\n",
        "df1n = check_is_yes_true_or_false(df1n)\n",
        "df1n"
      ]
    },
    {
      "cell_type": "code",
      "source": [
        "import time\n",
        "\n",
        "client = cli3\n",
        "\n",
        "t['customer_phone_check'] = ''\n",
        "\n",
        "pattern = r\"\\[(.*?)\\]\"\n",
        "\n",
        "for i in tqdm(range(len(t)), desc='checking for customer_phone', total=len(t), disable=False):\n",
        "  query = t['query'][i]\n",
        "  response = client.models.generate_content(\n",
        "    model='gemini-2.0-flash',\n",
        "    config=types.GenerateContentConfig(\n",
        "        max_output_tokens=200,\n",
        "        temperature=0.1),\n",
        "    contents=f'''\n",
        "    Cho một câu truy vấn, nhiệm vụ của bạn là trích RA SỐ ĐIỆN THOẠI trong truy vấn\n",
        "    Nếu KHÔNG CÓ SỐ ĐIỆN THOẠI thì trả về \"no\"\n",
        "    Nếu SỐ ĐIỆN THOẠI ĐÓ CỦA KHÁCH HÀNG thì trả về SỐ ĐIỆN THOẠI TRONG DẤU NGOẶC VUÔNG\n",
        "    Nếu SỐ ĐIỆN THOẠI ĐÓ KHÔNG PHẢI CỦA KHÁCH HÀNG thì trả về \"no\"\n",
        "    câu truy vấn là {query}\n",
        "    ''',\n",
        "  )\n",
        "  print(f\"QUERY NUMBER {i}: \" + t['query'][i])\n",
        "  response = response.candidates[0].content.parts[0].text\n",
        "  matched = re.search(pattern, response)\n",
        "  if matched:\n",
        "    t.at[i, 'customer_phone_check'] = matched.group(1)\n",
        "  else:\n",
        "    t.at[i, 'customer_phone_check'] = 'no'\n",
        "  print(f\"RESPONSE NUMBER {i}: \" + response)\n",
        "  print(f\"RESULT NUMBER {i}: \" + t.at[i, 'customer_phone_check'])"
      ],
      "metadata": {
        "collapsed": true,
        "id": "6rCdh02xDOzZ"
      },
      "execution_count": null,
      "outputs": []
    },
    {
      "cell_type": "code",
      "source": [
        "df1"
      ],
      "metadata": {
        "collapsed": true,
        "id": "UkDXTiNzDbKH"
      },
      "execution_count": null,
      "outputs": []
    },
    {
      "cell_type": "code",
      "execution_count": null,
      "metadata": {
        "collapsed": true,
        "id": "qgu_69xUDOzZ"
      },
      "outputs": [],
      "source": [
        "import time\n",
        "\n",
        "client = cli3\n",
        "\n",
        "df1n['medical_department_check'] = ''\n",
        "\n",
        "pattern = r\"\\[(.*?)\\]\"\n",
        "\n",
        "for i in tqdm(range(len(df1n)), desc='checking for customer name', total=len(df1n), disable=False):\n",
        "  query = df1n['query'][i]\n",
        "  if i % 15 == 0:\n",
        "    time.sleep(60)\n",
        "  response = client.models.generate_content(\n",
        "    model='gemini-2.0-flash',\n",
        "    config=types.GenerateContentConfig(\n",
        "        max_output_tokens=200,\n",
        "        temperature=0.1),\n",
        "    contents=f'''\n",
        "    Cho một câu truy vấn, nhiệm vụ của bạn là trích RA SỐ ĐIỆN THOẠI trong truy vấn\n",
        "    Nếu KHÔNG CÓ SỐ ĐIỆN THOẠI thì trả về \"no\"\n",
        "    Nếu SỐ ĐIỆN THOẠI ĐÓ CỦA KHÁCH HÀNG thì trả về SỐ ĐIỆN THOẠI TRONG DẤU NGOẶC VUÔNG\n",
        "    Nếu SỐ ĐIỆN THOẠI ĐÓ KHÔNG PHẢI CỦA KHÁCH HÀNG thì trả về \"no\"\n",
        "    câu truy vấn là {query}\n",
        "\n",
        "    Cho một câu truy vấn, nhiệm vụ của bạn là PHÂN TÍCH CẢM XÚC VÀ Ý ĐỊNH TRONG CỦA NGƯỜI DÙNG, KHÁCH HÀNG trong truy vấn\n",
        "    Nếu trong câu truy vấn KHÁCH HÀNG, NGƯỜI DÙNG XÁC NHẬN, ĐỒNG Ý, HAY BÀY TỎ SỰ ĐỒNG THUẬN THÌ TRẢ VỀ \"true\"\n",
        "    Nếu không thì trả về \"false\"\n",
        "    câu truy vấn là {query}\n",
        "    ''',\n",
        "  )\n",
        "  print(f\"QUERY NUMBER {i}: \" + df1n['query'][i])\n",
        "  response = response.candidates[0].content.parts[0].text\n",
        "  matched = re.search(pattern, response)\n",
        "  if matched:\n",
        "    df1n.at[i, 'medical_department_check'] = matched.group(1)\n",
        "  else:\n",
        "    df1n.at[i, 'medical_department_check'] = 'no'\n",
        "  print(f\"RESPONSE NUMBER {i}: \" + response)\n",
        "  print(f\"RESULT NUMBER {i}: \" + df1n.at[i, 'medical_department_check'])\n",
        "  df1n.to_csv('df1.csv', index=False)"
      ]
    },
    {
      "cell_type": "code",
      "execution_count": null,
      "metadata": {
        "id": "wVT6ncWMr1gH"
      },
      "outputs": [],
      "source": [
        "df1n['is_yes_bool_check'] = 'incorrect'\n",
        "df1n.loc[df1n['is_yes'] == df1n['is_yes_check'], 'is_yes_bool_check'] = 'correct'\n",
        "df1n[df1n['is_yes_bool_check'] == 'correct'].info()"
      ]
    },
    {
      "cell_type": "markdown",
      "metadata": {
        "id": "E06I6NZIoDGk"
      },
      "source": [
        "#### biến hospital_name"
      ]
    },
    {
      "cell_type": "code",
      "source": [
        "# select df based on substring of an entry in a row\n",
        "t = df1[df1['args'].str.contains('hospital_name')].reset_index()\n",
        "t = t[0:15]"
      ],
      "metadata": {
        "collapsed": true,
        "id": "KK8pHR3rmY1Q"
      },
      "execution_count": null,
      "outputs": []
    },
    {
      "cell_type": "code",
      "source": [
        "t.info()"
      ],
      "metadata": {
        "id": "Md_eSioYqX3L"
      },
      "execution_count": null,
      "outputs": []
    },
    {
      "cell_type": "code",
      "execution_count": null,
      "metadata": {
        "id": "0BNDNXxxs4Mc"
      },
      "outputs": [],
      "source": [
        "def check_hospital_name(args_str):\n",
        "  \"\"\"Checks if 'hospital_name' is present in the args string.\"\"\"\n",
        "  try:\n",
        "    args_dict = eval(args_str)  # Safely evaluate the string as a dictionary\n",
        "    return 'hospital_name' in args_dict\n",
        "  except (SyntaxError, NameError, TypeError):\n",
        "    return False\n",
        "\n",
        "df1['hospital_name'] = df1['args'].apply(lambda x: 'yes' if check_hospital_name(x) else 'no')\n",
        "df1.head(1)"
      ]
    },
    {
      "cell_type": "code",
      "source": [
        "t.info()"
      ],
      "metadata": {
        "id": "nxA9JS1jqN_z"
      },
      "execution_count": null,
      "outputs": []
    },
    {
      "cell_type": "code",
      "source": [
        "t = df1[0:15].reset_index()"
      ],
      "metadata": {
        "id": "Gj56KKlRsed-"
      },
      "execution_count": null,
      "outputs": []
    },
    {
      "cell_type": "code",
      "source": [
        "new_row = pd.DataFrame([{'index': 0, 'system': '', 'user': '','assistant': '', 'query': '\"Chị muốn đặt lịch khám cho con gái chị vào ngày 20-06-2023 tại bệnh Viện Việt-Nga, chị cần làm gì?\"\t',\n",
        "                         'args': '''{'role': 'assistant', 'content': \"<functioncall> {'name': 'information_extraction', 'arguments': {'appointment_date': '20-06-2023', 'hospital_name': 'bệnh viện Việt-Nga', 'relationship': 'con gái'}}\"}''',\n",
        "                         'hospital_name': 'yes'}])"
      ],
      "metadata": {
        "id": "K_2Q6NfWsBHM"
      },
      "execution_count": null,
      "outputs": []
    },
    {
      "cell_type": "code",
      "source": [
        "t = pd.concat([new_row, t])"
      ],
      "metadata": {
        "id": "Q3As0nvZtqk5"
      },
      "execution_count": null,
      "outputs": []
    },
    {
      "cell_type": "code",
      "source": [
        "t.head()"
      ],
      "metadata": {
        "collapsed": true,
        "id": "1nbs1TmMtJG4"
      },
      "execution_count": null,
      "outputs": []
    },
    {
      "cell_type": "code",
      "source": [
        "import time\n",
        "\n",
        "client = cli1\n",
        "\n",
        "t['hospital_name_check'] = ''\n",
        "\n",
        "pattern = r\"\\|(.*?)\\|\"\n",
        "\n",
        "for i in tqdm(range(len(t)), desc='checking for hospital_name', total=len(t), disable=False):\n",
        "  query = t['query'][i]\n",
        "  response = client.models.generate_content(\n",
        "    model='gemini-2.0-flash',\n",
        "    config=types.GenerateContentConfig(\n",
        "        max_output_tokens=200,\n",
        "        temperature=0.1),\n",
        "    contents=f'''\n",
        "    Cho một câu truy vấn, nhiệm vụ của bạn là trích TÊN CỦA BỆNH VIỆN, hoặc TÊN THÀNH PHỐ (trong danh sách các thành phố sau: Hà Nội, Hải Phòng, TPHCM, Thành phố Hồ Chí Minh, Sài Gòn, Hạ Long, Nha Trang, Đà Nẵng\n",
        "    Phú Quốc, Cần Thơ), ĐỊA CHỈ, CƠ SỞ KHÁM CỦA VINMEC\n",
        "    Nếu TÊN CỦA BỆNH VIỆN, hoặc TÊN NƠI, CƠ SỞ KHÁM CỦA VINMEC thì trả về TÊN CỦA BỆNH VIỆN, hoặc TÊN NƠI, CƠ SỞ KHÁM CỦA VINMEC đặt trong dấu \"|\"\n",
        "    Nếu TÊN đó không phải là của BỆNH VIỆN mà là TÊN CỦA MỘT KHOA KHÁM thì trả về \"no\", TÊN KHOA KHÁM không phải là TÊN CỦA BỆNH VIỆN, hoặc TÊN NƠI, CƠ SỞ KHÁM CỦA VINMEC\n",
        "    câu truy vấn là {query}\n",
        "    ''',\n",
        "  )\n",
        "  print(f\"QUERY NUMBER {i}: \" + t['query'][i])\n",
        "  response = response.candidates[0].content.parts[0].text\n",
        "  matched = re.search(pattern, response)\n",
        "  if matched:\n",
        "    t.at[i, 'hospital_name_check'] = matched.group(1)\n",
        "  else:\n",
        "    t.at[i, 'hospital_name_check'] = 'no'\n",
        "  print(f\"RESPONSE NUMBER {i}: \" + response)\n",
        "  print(f\"RESULT NUMBER {i}: \" + t.at[i, 'hospital_name_check'])"
      ],
      "metadata": {
        "collapsed": true,
        "id": "ylpL5DzBFF-W"
      },
      "execution_count": null,
      "outputs": []
    },
    {
      "cell_type": "code",
      "execution_count": null,
      "metadata": {
        "collapsed": true,
        "id": "F_xqWkMCFF-W"
      },
      "outputs": [],
      "source": [
        "import time\n",
        "\n",
        "client = cli3\n",
        "\n",
        "df1n['hospital_name_check'] = ''\n",
        "\n",
        "pattern = r\"\\[(.*?)\\]\"\n",
        "\n",
        "for i in tqdm(range(len(df1n)), desc='checking for hospital_name', total=len(df1n), disable=False):\n",
        "  query = df1n['query'][i]\n",
        "  if i % 15 == 0:\n",
        "    time.sleep(60)\n",
        "  response = client.models.generate_content(\n",
        "    model='gemini-2.0-flash',\n",
        "    config=types.GenerateContentConfig(\n",
        "        max_output_tokens=200,\n",
        "        temperature=0.1),\n",
        "    contents=f'''\n",
        "    Cho một câu truy vấn, nhiệm vụ của bạn là trích RA SỐ ĐIỆN THOẠI trong truy vấn\n",
        "    Nếu KHÔNG CÓ SỐ ĐIỆN THOẠI thì trả về \"no\"\n",
        "    Nếu SỐ ĐIỆN THOẠI ĐÓ CỦA KHÁCH HÀNG thì trả về SỐ ĐIỆN THOẠI TRONG DẤU NGOẶC VUÔNG\n",
        "    Nếu SỐ ĐIỆN THOẠI ĐÓ KHÔNG PHẢI CỦA KHÁCH HÀNG thì trả về \"no\"\n",
        "    câu truy vấn là {query}\n",
        "    ''',\n",
        "  )\n",
        "  print(f\"QUERY NUMBER {i}: \" + df1n['query'][i])\n",
        "  response = response.candidates[0].content.parts[0].text\n",
        "  matched = re.search(pattern, response)\n",
        "  if matched:\n",
        "    df1n.at[i, 'hospital_name_check'] = matched.group(1)\n",
        "  else:\n",
        "    df1n.at[i, 'hospital_name_check'] = 'no'\n",
        "  print(f\"RESPONSE NUMBER {i}: \" + response)\n",
        "  print(f\"RESULT NUMBER {i}: \" + df1n.at[i, 'hospital_name_check'])\n",
        "  df1n.to_csv('df1.csv', index=False)"
      ]
    },
    {
      "cell_type": "code",
      "execution_count": null,
      "metadata": {
        "id": "ICw_7pTdxrak"
      },
      "outputs": [],
      "source": [
        "df1n['hospital_name_bool_check'] = 'incorrect'\n",
        "df1n.loc[df1n['hospital_name'] == df1n['hospital_name_check'], 'hospital_name_bool_check'] = 'correct'\n",
        "df1n[df1n['hospital_name_bool_check'] == 'correct'].info()"
      ]
    },
    {
      "cell_type": "markdown",
      "metadata": {
        "id": "JNmspdyHoGDj"
      },
      "source": [
        "#### biến customer_dob"
      ]
    },
    {
      "cell_type": "code",
      "execution_count": null,
      "metadata": {
        "id": "i2KJSuLcx-Ua"
      },
      "outputs": [],
      "source": [
        "def check_customer_dob(args_str):\n",
        "  try:\n",
        "    args_dict = eval(args_str)\n",
        "    return 'customer_dob' in args_dict\n",
        "  except (SyntaxError, NameError, TypeError):\n",
        "    return False\n",
        "\n",
        "df1n['customer_dob'] = df1n['args'].apply(lambda x: 'yes' if check_customer_dob(x) else 'no')\n",
        "df1n.head()"
      ]
    },
    {
      "cell_type": "code",
      "execution_count": null,
      "metadata": {
        "id": "fq5abhBfyI-6"
      },
      "outputs": [],
      "source": [
        "import time\n",
        "\n",
        "df1n['customer_dob_check'] = ''\n",
        "client = cli1\n",
        "\n",
        "for i in tqdm(range(len(df1n)), desc='checking for customer_dob', total=len(df1n), disable=False):\n",
        "# for i in tqdm(range(30), desc='checking for customer_dob', total=30, disable=False):\n",
        "  query=df1n['query'][i]\n",
        "  if i % 15 == 14 and client == cli7:\n",
        "        client = cli1\n",
        "  elif i % 15 == 14 and client == cli1:\n",
        "      client = cli2\n",
        "  elif i % 15 == 14 and client == cli2:\n",
        "      client = cli3\n",
        "  elif i % 15 == 14 and client == cli3:\n",
        "      client = cli4\n",
        "  elif i % 15 == 14 and client == cli4:\n",
        "      client = cli5\n",
        "  elif i % 15 == 14 and client == cli5:\n",
        "      client = cli6\n",
        "  elif i % 15 == 14 and client == cli6:\n",
        "      client = cli7\n",
        "  time.sleep(2)\n",
        "  response = client.models.generate_content(\n",
        "    model='gemini-2.0-flash',\n",
        "    config=types.GenerateContentConfig(\n",
        "        max_output_tokens=200,\n",
        "        temperature=0.7),\n",
        "    contents=f'''\n",
        "    Cho một câu truy vấn, nhiệm vụ của bạn là trích ra NGÀY SINH CỦA KHÁCH HÀNG trong truy vấn\n",
        "    Nếu KHÔNG CÓ NGÀY SINH thì trả về \"no\"\n",
        "    Nếu NGÀY SINH ĐÓ CỦA KHÁCH HÀNG thì trả về \"yes\"\n",
        "    Nếu NGÀY SINH ĐÓ KHÔNG PHẢI MỘT NGÀY TRƯỚC NGÀY 12/05/2004 thì trả về \"no\"\n",
        "    Nếu NGÀY Nếu NGÀY SINH ĐÓ KHÔNG PHẢI CỦA KHÁCH HÀNG thì trả về \"no\"\n",
        "    câu truy vấn là {query}\n",
        "    ''',\n",
        "  )\n",
        "  response = response.candidates[0].content.parts[0].text\n",
        "  print(f\"RESPONSE NUMBER {i}: \" + response)\n",
        "  response = \"yes\" if \"yes\" in response.lower() else \"no\"\n",
        "  print(f\"RESULT NUMBER {i}: \" + response)\n",
        "  df1n.at[i, 'customer_dob_check'] = response\n",
        "  df1n.to_csv('df1.csv', index=False)"
      ]
    },
    {
      "cell_type": "code",
      "source": [
        "import time\n",
        "\n",
        "client = cli6\n",
        "\n",
        "t['customer_dob_check'] = ''\n",
        "\n",
        "pattern = r\"\\[(.*?)\\]\"\n",
        "\n",
        "for i in tqdm(range(len(t)), desc='checking for hospital_name', total=len(t), disable=False):\n",
        "  query = t['query'][i]\n",
        "  response = client.models.generate_content(\n",
        "    model='gemini-2.0-flash',\n",
        "    config=types.GenerateContentConfig(\n",
        "        max_output_tokens=200,\n",
        "        temperature=0.1),\n",
        "    contents=f'''\n",
        "    Cho một câu truy vấn, nhiệm vụ của bạn là trích ra NGÀY SINH CỦA KHÁCH HÀNG trong truy vấn\n",
        "    Nếu KHÔNG CÓ NGÀY SINH thì trả về \"no\"\n",
        "    Nếu NGÀY SINH ĐÓ CỦA KHÁCH HÀNG thì trả về NGÀY SINH DƯỚI ĐỊNH DẠNG DD-MM-YYYY đặt trong dấu ngoặc vuông\n",
        "    Nếu NGÀY SINH ĐÓ KHÔNG PHẢI MỘT NGÀY TRƯỚC NGÀY 15/05/2004 thì trả về \"no\"\n",
        "    Nếu NGÀY Nếu NGÀY SINH ĐÓ KHÔNG PHẢI CỦA KHÁCH HÀNG thì trả về \"no\"\n",
        "    câu truy vấn là {query}\n",
        "    ''',\n",
        "  )\n",
        "  print(f\"QUERY NUMBER {i}: \" + t['query'][i])\n",
        "  response = response.candidates[0].content.parts[0].text\n",
        "  matched = re.search(pattern, response)\n",
        "  if matched:\n",
        "    t.at[i, 'hospital_name_check'] = matched.group(1)\n",
        "  else:\n",
        "    t.at[i, 'hospital_name_check'] = 'no'\n",
        "  print(f\"RESPONSE NUMBER {i}: \" + response)\n",
        "  print(f\"RESULT NUMBER {i}: \" + t.at[i, 'hospital_name_check'])"
      ],
      "metadata": {
        "collapsed": true,
        "id": "emzsMP4vJPni"
      },
      "execution_count": null,
      "outputs": []
    },
    {
      "cell_type": "code",
      "execution_count": null,
      "metadata": {
        "collapsed": true,
        "id": "AS-D7qOOJPnj"
      },
      "outputs": [],
      "source": [
        "import time\n",
        "\n",
        "client = cli6\n",
        "\n",
        "df1n['customer_dob_check'] = ''\n",
        "\n",
        "pattern = r\"\\[(.*?)\\]\"\n",
        "\n",
        "for i in tqdm(range(len(df1n)), desc='checking for customer_dob', total=len(df1n), disable=False):\n",
        "  query = df1n['query'][i]\n",
        "  if i % 15 == 0:\n",
        "    time.sleep(60)\n",
        "  response = client.models.generate_content(\n",
        "    model='gemini-2.0-flash',\n",
        "    config=types.GenerateContentConfig(\n",
        "        max_output_tokens=200,\n",
        "        temperature=0.1),\n",
        "    contents=f'''\n",
        "    Cho một câu truy vấn, nhiệm vụ của bạn là trích ra NGÀY SINH CỦA KHÁCH HÀNG trong truy vấn\n",
        "    Nếu KHÔNG CÓ NGÀY SINH thì trả về \"no\"\n",
        "    Nếu NGÀY SINH ĐÓ CỦA KHÁCH HÀNG thì trả về NGÀY SINH DƯỚI ĐỊNH DẠNG DD-MM-YYYY đặt trong dấu ngoặc vuông\n",
        "    Nếu NGÀY SINH ĐÓ KHÔNG PHẢI MỘT NGÀY TRƯỚC NGÀY 15/05/2004 thì trả về \"no\"\n",
        "    Nếu NGÀY Nếu NGÀY SINH ĐÓ KHÔNG PHẢI CỦA KHÁCH HÀNG thì trả về \"no\"\n",
        "    câu truy vấn là {query}\n",
        "    ''',\n",
        "  )\n",
        "  print(f\"QUERY NUMBER {i}: \" + df1n['query'][i])\n",
        "  response = response.candidates[0].content.parts[0].text\n",
        "  matched = re.search(pattern, response)\n",
        "  if matched:\n",
        "    df1n.at[i, 'customer_dob_check'] = matched.group(1)\n",
        "  else:\n",
        "    df1n.at[i, 'customer_dob_check'] = 'no'\n",
        "  print(f\"RESPONSE NUMBER {i}: \" + response)\n",
        "  print(f\"RESULT NUMBER {i}: \" + df1n.at[i, 'customer_dob_check'])\n",
        "  df1n.to_csv('df1.csv', index=False)"
      ]
    },
    {
      "cell_type": "code",
      "execution_count": null,
      "metadata": {
        "id": "bRtkQGAdyTpm"
      },
      "outputs": [],
      "source": [
        "df1n['customer_dob_bool_check'] = 'incorrect'\n",
        "df1n.loc[df1n['customer_dob'] == df1n['customer_dob_check'], 'customer_dob_bool_check'] = 'correct'\n",
        "df1n[df1n['customer_dob_bool_check'] == 'correct'].info()"
      ]
    },
    {
      "cell_type": "markdown",
      "metadata": {
        "id": "0W3jKxVIoJC6"
      },
      "source": [
        "#### biến customer_place"
      ]
    },
    {
      "cell_type": "code",
      "execution_count": null,
      "metadata": {
        "id": "wg4ICuDVzTY2"
      },
      "outputs": [],
      "source": [
        "def check_customer_place(args_str):\n",
        "  \"\"\"Checks if 'customer_place' is present in the args string.\"\"\"\n",
        "  try:\n",
        "    args_dict = eval(args_str)  # Safely evaluate the string as a dictionary\n",
        "    return 'customer_place' in args_dict\n",
        "  except (SyntaxError, NameError, TypeError):\n",
        "    return False\n",
        "\n",
        "df1n['customer_place'] = df1n['args'].apply(lambda x: 'yes' if check_customer_place(x) else 'no')\n",
        "df1n"
      ]
    },
    {
      "cell_type": "code",
      "execution_count": null,
      "metadata": {
        "id": "yfGrSvpfzau1"
      },
      "outputs": [],
      "source": [
        "import time\n",
        "\n",
        "df1n['customer_place_check'] = ''\n",
        "client = cli1\n",
        "\n",
        "for i in tqdm(range(len(df1n)), desc='checking for customer_place', total=len(df1n), disable=False):\n",
        "# for i in tqdm(range(30), desc='checking for medical department', total=30, disable=False):\n",
        "  query=df1n['query'][i]\n",
        "  if i % 15 == 14 and client == cli7:\n",
        "        client = cli1\n",
        "  elif i % 15 == 14 and client == cli1:\n",
        "      client = cli2\n",
        "  elif i % 15 == 14 and client == cli2:\n",
        "      client = cli3\n",
        "  elif i % 15 == 14 and client == cli3:\n",
        "      client = cli4\n",
        "  elif i % 15 == 14 and client == cli4:\n",
        "      client = cli5\n",
        "  elif i % 15 == 14 and client == cli5:\n",
        "      client = cli6\n",
        "  elif i % 15 == 14 and client == cli6:\n",
        "      client = cli7\n",
        "  time.sleep(2)\n",
        "  response = client.models.generate_content(\n",
        "    model='gemini-2.0-flash',\n",
        "    config=types.GenerateContentConfig(\n",
        "        max_output_tokens=200,\n",
        "        temperature=0.7),\n",
        "    contents=f'''\n",
        "    Cho một câu truy vấn, nhiệm vụ của bạn là trích TÊN THÀNH PHỐ, TỈNH THÀNH KHÁCH HÀNG Ở\n",
        "    Nếu TÊN đó là TÊN CỦA BỆNH VIỆN thì trả về \"yes\"\n",
        "    Nếu TÊN đó không phải là của BỆNH VIỆN mà là TÊN CỦA MỘT KHOA KHÁM thì trả về \"no\", TÊN KHOA KHÁM không phải là TÊN CỦA BỆNH VIỆN\n",
        "    câu truy vấn là {query}\n",
        "    ''',\n",
        "  )\n",
        "  response = response.candidates[0].content.parts[0].text\n",
        "  print(f\"RESPONSE NUMBER {i}: \" + response)\n",
        "  response = \"yes\" if \"yes\" in response.lower() else \"no\"\n",
        "  print(f\"RESULT NUMBER {i}: \" + response)\n",
        "  df1n.at[i, 'customer_place_check'] = response\n",
        "  df1n.to_csv('df1.csv', index=False)"
      ]
    },
    {
      "cell_type": "code",
      "source": [
        "import time\n",
        "\n",
        "client = cli7\n",
        "\n",
        "t['customer_place_check'] = ''\n",
        "\n",
        "pattern = r\"\\[(.*?)\\]\"\n",
        "\n",
        "for i in tqdm(range(len(t)), desc='checking for customer_place', total=len(t), disable=False):\n",
        "  query = t['query'][i]\n",
        "  response = client.models.generate_content(\n",
        "    model='gemini-2.0-flash',\n",
        "    config=types.GenerateContentConfig(\n",
        "        max_output_tokens=200,\n",
        "        temperature=0.1),\n",
        "    contents=f'''\n",
        "    Cho một câu truy vấn, nhiệm vụ của bạn là trích TÊN THÀNH PHỐ, TỈNH THÀNH KHÁCH HÀNG Ở\n",
        "    Nếu TÊN đó là TÊN THÀNH PHỐ, TỈNH THÀNH KHÁCH HÀNG Ở thì trả về TÊN THÀNH PHỐ, TỈNH THÀNH KHÁCH HÀNG Ở đặt trong dấu ngoặc vuông\n",
        "    Nếu câu truy vấn không chứa TÊN THÀNH PHỐ, TỈNH THÀNH KHÁCH HÀNG Ở thì trả về \"no\"\n",
        "    câu truy vấn là {query}\n",
        "    ''',\n",
        "  )\n",
        "  print(f\"QUERY NUMBER {i}: \" + t['query'][i])\n",
        "  response = response.candidates[0].content.parts[0].text\n",
        "  matched = re.search(pattern, response)\n",
        "  if matched:\n",
        "    t.at[i, 'customer_place_check'] = matched.group(1)\n",
        "  else:\n",
        "    t.at[i, 'customer_place_check'] = 'no'\n",
        "  print(f\"RESPONSE NUMBER {i}: \" + response)\n",
        "  print(f\"RESULT NUMBER {i}: \" + t.at[i, 'customer_place_check'])"
      ],
      "metadata": {
        "collapsed": true,
        "id": "RnByreedIapK"
      },
      "execution_count": null,
      "outputs": []
    },
    {
      "cell_type": "code",
      "execution_count": null,
      "metadata": {
        "collapsed": true,
        "id": "F5qVTzKpIapK"
      },
      "outputs": [],
      "source": [
        "import time\n",
        "\n",
        "client = cli7\n",
        "\n",
        "df1n['customer_place_check'] = ''\n",
        "\n",
        "pattern = r\"\\[(.*?)\\]\"\n",
        "\n",
        "for i in tqdm(range(len(df1n)), desc='checking for customer_place', total=len(df1n), disable=False):\n",
        "  query = df1n['query'][i]\n",
        "  if i % 15 == 0:\n",
        "    time.sleep(60)\n",
        "  response = client.models.generate_content(\n",
        "    model='gemini-2.0-flash',\n",
        "    config=types.GenerateContentConfig(\n",
        "        max_output_tokens=200,\n",
        "        temperature=0.1),\n",
        "    contents=f'''\n",
        "    Cho một câu truy vấn, nhiệm vụ của bạn là trích TÊN THÀNH PHỐ, TỈNH THÀNH KHÁCH HÀNG Ở\n",
        "    Nếu TÊN đó là TÊN THÀNH PHỐ, TỈNH THÀNH KHÁCH HÀNG Ở thì trả về TÊN THÀNH PHỐ, TỈNH THÀNH KHÁCH HÀNG Ở đặt trong dấu ngoặc vuông\n",
        "    Nếu câu truy vấn không chứa TÊN THÀNH PHỐ, TỈNH THÀNH KHÁCH HÀNG Ở thì trả về \"no\"\n",
        "    câu truy vấn là {query}\n",
        "    ''',\n",
        "  )\n",
        "  print(f\"QUERY NUMBER {i}: \" + df1n['query'][i])\n",
        "  response = response.candidates[0].content.parts[0].text\n",
        "  matched = re.search(pattern, response)\n",
        "  if matched:\n",
        "    df1n.at[i, 'customer_place_check'] = matched.group(1)\n",
        "  else:\n",
        "    df1n.at[i, 'customer_place_check'] = 'no'\n",
        "  print(f\"RESPONSE NUMBER {i}: \" + response)\n",
        "  print(f\"RESULT NUMBER {i}: \" + df1n.at[i, 'customer_place_check'])\n",
        "  df1n.to_csv('df1.csv', index=False)"
      ]
    },
    {
      "cell_type": "code",
      "execution_count": null,
      "metadata": {
        "id": "37Z5PeZWzkHS"
      },
      "outputs": [],
      "source": [
        "df1n['customer_place_bool_check'] = 'incorrect'\n",
        "df1n.loc[df1n['customer_place'] == df1n['customer_place_check'], 'customer_place_bool_check'] = 'correct'\n",
        "df1n[df1n['customer_place_bool_check'] == 'correct'].info()"
      ]
    },
    {
      "cell_type": "markdown",
      "metadata": {
        "id": "OGkqizAmoLsa"
      },
      "source": [
        "#### biến symptoms"
      ]
    },
    {
      "cell_type": "markdown",
      "metadata": {
        "id": "Dccrb2mnoPP2"
      },
      "source": [
        "#### biến relationship"
      ]
    },
    {
      "cell_type": "markdown",
      "metadata": {
        "id": "vZeLh_NFoSGA"
      },
      "source": [
        "#### biến appointmentt date"
      ]
    },
    {
      "cell_type": "markdown",
      "metadata": {
        "id": "OzvKQiU8oUG3"
      },
      "source": [
        "#### biến appointment_time"
      ]
    },
    {
      "cell_type": "markdown",
      "metadata": {
        "id": "npbwuzBloWcU"
      },
      "source": [
        "#### biến cancel_num"
      ]
    },
    {
      "cell_type": "code",
      "execution_count": null,
      "metadata": {
        "id": "liaMdw7FoZau"
      },
      "outputs": [],
      "source": []
    },
    {
      "cell_type": "markdown",
      "metadata": {
        "id": "U08_thKzsXDr"
      },
      "source": [
        "### verify trích xuất giá trị"
      ]
    },
    {
      "cell_type": "markdown",
      "source": [
        "### lấy cột"
      ],
      "metadata": {
        "id": "cNnex0dKsZqT"
      }
    },
    {
      "cell_type": "code",
      "source": [
        "df1.head(10)"
      ],
      "metadata": {
        "id": "4Am6Ge_yFtid",
        "collapsed": true
      },
      "execution_count": null,
      "outputs": []
    },
    {
      "cell_type": "code",
      "source": [
        "# tạo ra string từ hospital name cho tới hết\n",
        "b = False\n",
        "substring = \"\""
      ],
      "metadata": {
        "id": "F6fGwOrKNA0y"
      },
      "execution_count": null,
      "outputs": []
    },
    {
      "cell_type": "code",
      "source": [
        "g = '''\n",
        "{'relationship': 'người thân của ông nội', 'symptoms': 'đau lưng', 'hospital_name': 'Bệnh viện Vinmec Times City', 'appointment_time': '18:00'}\n",
        "'''\n",
        "for word in g.split():\n",
        "  count = 0\n",
        "  print(word)\n",
        "  if b == True:\n",
        "    substring = substring + ' ' + word\n",
        "  if word == \"'hospital_name':\":\n",
        "    b = True\n",
        "\n",
        "substring"
      ],
      "metadata": {
        "id": "LLo3DNvmFvO-"
      },
      "execution_count": null,
      "outputs": []
    },
    {
      "cell_type": "code",
      "source": [
        "substring"
      ],
      "metadata": {
        "id": "vV_Rvnd7Pv2y"
      },
      "execution_count": null,
      "outputs": []
    },
    {
      "cell_type": "code",
      "source": [
        "# lấy string trong ''\n",
        "string = ''\n",
        "for i in range(2,len(substring)):\n",
        "  string = string + substring[i]\n",
        "  if substring[i] == \"'\":\n",
        "    break\n",
        "\n",
        "string"
      ],
      "metadata": {
        "id": "sDOgpNL7H8it"
      },
      "execution_count": null,
      "outputs": []
    },
    {
      "cell_type": "code",
      "source": [
        "tdf = df[0:10]\n",
        "tdf['hospital_name_extract'] = ''"
      ],
      "metadata": {
        "id": "AkafJytxc44z"
      },
      "execution_count": null,
      "outputs": []
    },
    {
      "cell_type": "code",
      "source": [
        "tdf.head(1)"
      ],
      "metadata": {
        "collapsed": true,
        "id": "thmthb2Dc7it"
      },
      "execution_count": null,
      "outputs": []
    },
    {
      "cell_type": "code",
      "source": [
        "string = \"Địt con mẹ Mày\"\n",
        "string = string.lower()\n",
        "string"
      ],
      "metadata": {
        "id": "l5TWMHDJeKU9"
      },
      "execution_count": null,
      "outputs": []
    },
    {
      "cell_type": "code",
      "source": [
        "# áp vào df\n",
        "for i in tqdm(range(len(tdf)), desc='extract hospital name', total=len(tdf), disable=False):\n",
        "  b = False\n",
        "  substring = \"\"\n",
        "  g = tdf['args'][i]\n",
        "  for word in g.split():\n",
        "    count = 0\n",
        "    # print(word)\n",
        "    if b == True:\n",
        "      substring = substring + ' ' + word\n",
        "    if word == \"'hospital_name':\":\n",
        "      b = True\n",
        "  string = ''\n",
        "  for c in range(2,len(substring)):\n",
        "    string = string + substring[c]\n",
        "    string = string.replace(\"'\", \"\")\n",
        "    if substring[c] == \"'\":\n",
        "      break\n",
        "  if string == \"\":\n",
        "    tdf.at[i, 'hospital_name_extract'] = 'no'\n",
        "  else:\n",
        "    string = string.lower()\n",
        "    tdf.at[i, 'hospital_name_extract'] = string"
      ],
      "metadata": {
        "id": "K1eWwQLnOX-w"
      },
      "execution_count": null,
      "outputs": []
    },
    {
      "cell_type": "code",
      "source": [
        "tdf"
      ],
      "metadata": {
        "collapsed": true,
        "id": "jnFHwiBBQCJG"
      },
      "execution_count": null,
      "outputs": []
    },
    {
      "cell_type": "code",
      "source": [
        "tdf = pd.read_csv('df1.csv')\n",
        "tdf"
      ],
      "metadata": {
        "id": "1Q7oo9FlcyWG",
        "collapsed": true
      },
      "execution_count": null,
      "outputs": []
    },
    {
      "cell_type": "code",
      "source": [
        "import pandas as pd\n",
        "\n",
        "df1 = pd.DataFrame({\n",
        "    'query': ['hello', 'fuck', 'shit'],\n",
        "    'args1': [1, 2, 3]\n",
        "})\n",
        "\n",
        "df2 = pd.DataFrame({\n",
        "    'query': ['fuck', 'hello', 'shit', 'holly', 'love'],\n",
        "    'args2': ['x', 'y', 'z', 'a', 'b']\n",
        "})\n"
      ],
      "metadata": {
        "id": "du_iBlFp23FJ"
      },
      "execution_count": null,
      "outputs": []
    },
    {
      "cell_type": "code",
      "source": [
        "df1"
      ],
      "metadata": {
        "id": "REtGHGRU2jQK"
      },
      "execution_count": null,
      "outputs": []
    },
    {
      "cell_type": "code",
      "source": [
        "df2"
      ],
      "metadata": {
        "id": "QWJgNvZS2llU"
      },
      "execution_count": null,
      "outputs": []
    },
    {
      "cell_type": "code",
      "source": [
        "merged_df = pd.merge(df1, df2, on='query', how='inner')\n",
        "merged_df"
      ],
      "metadata": {
        "id": "2rMbx-ST2OPF"
      },
      "execution_count": null,
      "outputs": []
    },
    {
      "cell_type": "code",
      "source": [
        "import json\n",
        "import ast\n",
        "import pandas as pd\n",
        "\n",
        "# Đọc file\n",
        "with open('/content/checked_results.json', 'r', encoding='utf-8') as f:\n",
        "    raw_data = f.read()\n",
        "\n",
        "# Tách các object dựa vào chuỗi '}{'\n",
        "raw_objects = raw_data.strip().split('}{')\n",
        "\n",
        "# Thêm lại dấu ngoặc để đảm bảo mỗi object là hợp lệ\n",
        "raw_objects = ['{' + obj + '}' if i == 0 else\n",
        "               '{' + obj + '}' if i == len(raw_objects) - 1 else\n",
        "               '{' + obj + '}' for i, obj in enumerate(raw_objects)]\n",
        "\n",
        "data = []\n",
        "for raw_obj in raw_objects:\n",
        "    # Sửa field \"args\" từ Python string dict sang JSON hợp lệ\n",
        "    if '\"args\":' in raw_obj:\n",
        "        try:\n",
        "            prefix, args_part = raw_obj.split('\"args\":', 1)\n",
        "            if args_part.startswith(\"'\"):  # tức là field args là chuỗi Python dict\n",
        "                # Trích args string\n",
        "                args_str = args_part.split(\"'\", 2)[1]\n",
        "                args_dict = ast.literal_eval(args_str)\n",
        "                args_json = json.dumps(args_dict, ensure_ascii=False)\n",
        "                # Ghép lại object\n",
        "                rest = args_part.split(\"'\", 2)[2]\n",
        "                raw_obj = prefix + f'\"args\": {args_json}' + rest\n",
        "        except Exception as e:\n",
        "            print(\"Lỗi xử lý args:\", e)\n",
        "            print(\"Dòng lỗi:\", raw_obj)\n",
        "\n",
        "    try:\n",
        "        parsed = json.loads(raw_obj)\n",
        "        data.append(parsed)\n",
        "    except json.JSONDecodeError as e:\n",
        "        print(\"JSON lỗi:\", e)\n",
        "        print(\"Dòng lỗi:\", raw_obj)\n",
        "        continue\n",
        "\n",
        "# Tạo DataFrame có tên là cdf\n",
        "cdf = pd.DataFrame(data)\n",
        "cdf.head()\n"
      ],
      "metadata": {
        "collapsed": true,
        "id": "6RJM0aCv2QeR"
      },
      "execution_count": null,
      "outputs": []
    },
    {
      "cell_type": "code",
      "source": [
        "cdf.info()"
      ],
      "metadata": {
        "id": "ygxksBUm7N_z"
      },
      "execution_count": null,
      "outputs": []
    },
    {
      "cell_type": "code",
      "source": [
        "m = pd.merge(df, cdf, on='query', how='inner')\n",
        "m"
      ],
      "metadata": {
        "collapsed": true,
        "id": "-2P9PBAF9kuY"
      },
      "execution_count": null,
      "outputs": []
    },
    {
      "cell_type": "code",
      "source": [
        "m.info()"
      ],
      "metadata": {
        "id": "MqEusB-J-Wzq"
      },
      "execution_count": null,
      "outputs": []
    },
    {
      "cell_type": "code",
      "source": [
        "cdf.head()"
      ],
      "metadata": {
        "id": "y73zIXL-_ErP"
      },
      "execution_count": null,
      "outputs": []
    },
    {
      "cell_type": "code",
      "source": [
        "m[m['result'] == 'đúng'].to_csv('correct1.csv')"
      ],
      "metadata": {
        "id": "FDcwdmyr-ccM"
      },
      "execution_count": null,
      "outputs": []
    },
    {
      "cell_type": "code",
      "source": [
        "mm.to_csv('correct.csv')"
      ],
      "metadata": {
        "id": "4Rn0__SjA0TZ"
      },
      "execution_count": null,
      "outputs": []
    },
    {
      "cell_type": "code",
      "source": [
        "mm = pd.read_csv('correct1.csv')\n",
        "mm.info()"
      ],
      "metadata": {
        "id": "WRHUqyY3-wYV"
      },
      "execution_count": null,
      "outputs": []
    },
    {
      "cell_type": "code",
      "source": [
        "# prompt: drop rows with duplicated value in the 'user' column\n",
        "\n",
        "mm = mm.drop_duplicates(subset=['user'])\n",
        "mm.info()"
      ],
      "metadata": {
        "id": "1oV5IjbuARpz"
      },
      "execution_count": null,
      "outputs": []
    },
    {
      "cell_type": "code",
      "source": [
        "mm"
      ],
      "metadata": {
        "id": "z_qsr0ypAEoF",
        "collapsed": true
      },
      "execution_count": null,
      "outputs": []
    },
    {
      "cell_type": "code",
      "source": [
        "import pandas as pd\n",
        "\n",
        "check = pd.read_json('check0.jsonl', lines=True)\n",
        "check.info()"
      ],
      "metadata": {
        "id": "Z3SFuVrdAFzo"
      },
      "execution_count": null,
      "outputs": []
    },
    {
      "cell_type": "code",
      "source": [
        "check"
      ],
      "metadata": {
        "id": "cqfAIiDP31An"
      },
      "execution_count": null,
      "outputs": []
    },
    {
      "cell_type": "code",
      "source": [],
      "metadata": {
        "id": "e6OPvVse7pZW"
      },
      "execution_count": null,
      "outputs": []
    },
    {
      "cell_type": "markdown",
      "source": [
        "### grok"
      ],
      "metadata": {
        "id": "7EuDuBhNuLRs"
      }
    },
    {
      "cell_type": "code",
      "source": [
        "import pandas as pd\n",
        "\n",
        "df = pd.read_json('df.jsonl', lines=True)\n",
        "df.info()"
      ],
      "metadata": {
        "id": "dxPMV14tuMKL"
      },
      "execution_count": null,
      "outputs": []
    },
    {
      "cell_type": "code",
      "source": [
        "import pandas as pd\n",
        "import json\n",
        "\n",
        "file_path = 't3.jsonl'\n",
        "valid_json_objects = []\n",
        "corrupted_lines = []\n",
        "\n",
        "with open(file_path, 'r', encoding='utf-8') as f:\n",
        "    for line_num, line in enumerate(f, 1):\n",
        "        try:\n",
        "            # Attempt to parse the line as a JSON object\n",
        "            json_obj = json.loads(line)\n",
        "            valid_json_objects.append(json_obj)\n",
        "        except json.JSONDecodeError as e:\n",
        "            # If parsing fails, it's a corrupted line\n",
        "            print(f\"Corrupted line {line_num}: {line.strip()} - Error: {e}\")\n",
        "            corrupted_lines.append((line_num, line.strip()))\n",
        "\n",
        "# Create a DataFrame from the valid JSON objects\n",
        "tdf = pd.DataFrame(valid_json_objects)\n",
        "\n",
        "# You can optionally inspect the corrupted lines list\n",
        "# print(\"\\nSummary of corrupted lines:\")\n",
        "# for line_num, line in corrupted_lines:\n",
        "#     print(f\"Line {line_num}: {line}\")\n",
        "\n",
        "print(f\"\\nSuccessfully loaded {len(valid_json_objects)} valid JSON objects into the DataFrame.\")\n",
        "print(f\"Skipped {len(corrupted_lines)} corrupted lines.\")\n",
        "\n",
        "# Display information about the resulting DataFrame\n",
        "tdf.info()"
      ],
      "metadata": {
        "id": "amOmvleSvUXJ"
      },
      "execution_count": null,
      "outputs": []
    },
    {
      "cell_type": "code",
      "source": [
        "tdf.head(1)"
      ],
      "metadata": {
        "id": "w-qFg__COGNM"
      },
      "execution_count": null,
      "outputs": []
    },
    {
      "cell_type": "code",
      "source": [],
      "metadata": {
        "id": "cF3LAqhzOKRR"
      },
      "execution_count": null,
      "outputs": []
    },
    {
      "cell_type": "code",
      "source": [
        "tdf.to_csv('tdf.csv')"
      ],
      "metadata": {
        "id": "LudL9kXkOgdH"
      },
      "execution_count": null,
      "outputs": []
    },
    {
      "cell_type": "code",
      "source": [
        "sdf = df[9000:12000]\n",
        "sdf.info()\n",
        "sdf.head(1)"
      ],
      "metadata": {
        "collapsed": true,
        "id": "jYubKN_5ue_c"
      },
      "execution_count": null,
      "outputs": []
    },
    {
      "cell_type": "code",
      "source": [
        "tdf.info()\n",
        "tdf.head(1)"
      ],
      "metadata": {
        "collapsed": true,
        "id": "JrEIDKrn0G3a"
      },
      "execution_count": null,
      "outputs": []
    },
    {
      "cell_type": "code",
      "source": [
        "import pandas as pd\n",
        "\n",
        "# Reset lại index để đảm bảo trùng khớp\n",
        "sdf = sdf.reset_index(drop=True)\n",
        "tdf = tdf.reset_index(drop=True)\n",
        "\n",
        "# Nếu tdf có nhiều hơn 1 dòng so với sdf, thì cắt bỏ dòng cuối\n",
        "tdf = tdf.iloc[:len(sdf)]\n",
        "\n",
        "# Tạo ndf với các cột mong muốn\n",
        "ndf = pd.DataFrame({\n",
        "    'system': sdf['system'],\n",
        "    'user': sdf['user'],\n",
        "    'assistant': sdf['assistant'],\n",
        "    'query': tdf['query'],\n",
        "    'result': tdf['result']\n",
        "})\n"
      ],
      "metadata": {
        "id": "fp5pmHd00q0b"
      },
      "execution_count": null,
      "outputs": []
    },
    {
      "cell_type": "code",
      "source": [
        "ndf.to_csv('ndf.csv')"
      ],
      "metadata": {
        "id": "PdqlS2mkuTE0"
      },
      "execution_count": null,
      "outputs": []
    },
    {
      "cell_type": "code",
      "source": [
        "# prompt: save dataframe ndf to jsonl file named gold4\n",
        "\n",
        "# Assuming ndf is already created and contains the data you want to save\n",
        "ndf.to_json('gold3.jsonl', orient='records', lines=True, force_ascii=False)\n",
        "\n",
        "print(\"DataFrame 'ndf' saved to 'gold3' as JSONL.\")"
      ],
      "metadata": {
        "id": "VjqkPQIN5gdj"
      },
      "execution_count": null,
      "outputs": []
    },
    {
      "cell_type": "markdown",
      "source": [
        "{'role': 'user', 'content': 'Tôi muốn vào xem các chương trình khuyến mãi tại phòng khám Nhi của Bệnh viện Vinmec Hà Nội ạ.'}\n",
        "\n",
        "{'role': 'user', 'content': 'Quầy thanh toán khoa tiêm chủng rất chán. Toàn ko chủ động hỏi khách xem có gửi xe ko để đưa vé. M tiêm mũi ngoài có quẹt thẻ mà xuống hầm mới ớ ra là phải lấy vé. Mấy lần rồi.'}\n",
        "\n",
        "{'role': 'user', 'content': 'Tôi muốn tư vấn về chương trình khuyến mãi Tôi tên là Thảo'}\n",
        "\n",
        "{'role': 'user', 'content': 'Tôi muốn vào tìm hiểu về các dịch vụ tư vấn sức khỏe tại phòng khám đa khoa tầng 2 Bệnh viện Việt Đức Hà Nội ạ Tôi tên là An.'}"
      ],
      "metadata": {
        "id": "raH3N4mh2zvA"
      }
    },
    {
      "cell_type": "code",
      "source": [
        "sdf = sdf.drop(sdf.index[1186])\n",
        "sdf = sdf.drop(sdf.index[1187])"
      ],
      "metadata": {
        "id": "tTIz4UiQ7gTj"
      },
      "execution_count": null,
      "outputs": []
    },
    {
      "cell_type": "code",
      "source": [
        "sdf = sdf.drop(sdf.index[2578:2608])"
      ],
      "metadata": {
        "id": "pjCZhTiU7iEI"
      },
      "execution_count": null,
      "outputs": []
    },
    {
      "cell_type": "code",
      "source": [
        "# prompt: hiện dòng thứ 121 của sdf, là dataframe\n",
        "\n",
        "sdf.iloc[1187]"
      ],
      "metadata": {
        "collapsed": true,
        "id": "NZaRv6Mj3TH4"
      },
      "execution_count": null,
      "outputs": []
    },
    {
      "cell_type": "code",
      "source": [
        "sdf.info()"
      ],
      "metadata": {
        "id": "V7jgZ54I2iUy"
      },
      "execution_count": null,
      "outputs": []
    },
    {
      "cell_type": "code",
      "source": [
        "tdf.info()"
      ],
      "metadata": {
        "id": "NtOQvvn-2-fU"
      },
      "execution_count": null,
      "outputs": []
    },
    {
      "cell_type": "code",
      "source": [
        "check = pd.read_json('gold0.jsonl', lines=True)"
      ],
      "metadata": {
        "id": "r3dP8F5D3Far"
      },
      "execution_count": null,
      "outputs": []
    },
    {
      "cell_type": "code",
      "source": [
        "check"
      ],
      "metadata": {
        "collapsed": true,
        "id": "tXwnN12052Oi"
      },
      "execution_count": null,
      "outputs": []
    },
    {
      "cell_type": "code",
      "source": [
        "df.to_json('wtf.jsonl', orient='records', lines=True, force_ascii=False)"
      ],
      "metadata": {
        "id": "nq3KIWXE53-E"
      },
      "execution_count": null,
      "outputs": []
    },
    {
      "cell_type": "code",
      "source": [
        "g0 = pd.read_json('gold0.jsonl', lines=True)\n",
        "g1 = pd.read_json('gold1.jsonl', lines=True)\n",
        "g2 = pd.read_json('gold2.jsonl', lines=True)\n",
        "g3 = pd.read_json('gold3.jsonl', lines=True)\n",
        "g4 = pd.read_json('gold4.jsonl', lines=True)"
      ],
      "metadata": {
        "id": "Xmbl0zvGSDQR"
      },
      "execution_count": null,
      "outputs": []
    },
    {
      "cell_type": "code",
      "source": [
        "gg = pd.concat([g0, g1, g2, g3, g4])"
      ],
      "metadata": {
        "id": "DP3cSW94zD3i"
      },
      "execution_count": null,
      "outputs": []
    },
    {
      "cell_type": "code",
      "source": [
        "gg.info()"
      ],
      "metadata": {
        "id": "dT9xNhO5zQJP"
      },
      "execution_count": null,
      "outputs": []
    },
    {
      "cell_type": "code",
      "source": [
        "gg[gg['result'] == 'đúng'].to_json('final.jsonl', orient='records', lines=True, force_ascii=False)"
      ],
      "metadata": {
        "id": "CzkZzSbvzRFn"
      },
      "execution_count": null,
      "outputs": []
    },
    {
      "cell_type": "code",
      "source": [
        "gg = pd.read_json('final.jsonl', lines=True)\n",
        "gg.info()"
      ],
      "metadata": {
        "id": "Wu95N7lWzU3g"
      },
      "execution_count": null,
      "outputs": []
    },
    {
      "cell_type": "code",
      "source": [
        "# prompt: drop cột 'result' của dataframe gg\n",
        "\n",
        "gg = gg.drop(columns=['result'])"
      ],
      "metadata": {
        "id": "ntzAKYQRzt4N"
      },
      "execution_count": null,
      "outputs": []
    },
    {
      "cell_type": "code",
      "source": [
        "gg.to_json('final.jsonl', orient='records', lines=True, force_ascii=False)"
      ],
      "metadata": {
        "id": "Ul7jPhqxz1Tr"
      },
      "execution_count": null,
      "outputs": []
    },
    {
      "cell_type": "code",
      "source": [
        "import pandas as pd\n",
        "\n",
        "df = pd.read_json('final.jsonl', lines=True)\n",
        "df.head()"
      ],
      "metadata": {
        "id": "IrA3935Dz2k0",
        "collapsed": true
      },
      "execution_count": null,
      "outputs": []
    },
    {
      "cell_type": "code",
      "source": [
        "from tqdm import tqdm\n",
        "\n",
        "df['new_format'] = ''\n",
        "\n",
        "for i in tqdm(range(len(df)), desc='new format', total=len(df), disable=False):\n",
        "  df.loc[i, 'new_format'] = df.loc[i, 'user'] + ',' + df.loc[i, 'assistant']"
      ],
      "metadata": {
        "id": "cJhBl8r7ZvmC"
      },
      "execution_count": null,
      "outputs": []
    },
    {
      "cell_type": "code",
      "source": [
        "df.head(10)"
      ],
      "metadata": {
        "id": "4bT62mYs3hTn",
        "collapsed": true
      },
      "execution_count": null,
      "outputs": []
    },
    {
      "cell_type": "code",
      "source": [
        "df.to_json('final.jsonl', orient='records', lines=True, force_ascii=False)"
      ],
      "metadata": {
        "id": "5ARSWgDE3kDb"
      },
      "execution_count": null,
      "outputs": []
    },
    {
      "cell_type": "markdown",
      "source": [
        "## task 2"
      ],
      "metadata": {
        "id": "hPVzcsIzT1_2"
      }
    },
    {
      "cell_type": "code",
      "source": [
        "yyyy4 = str(2000) + str(2012)[2:]\n",
        "yyyy4"
      ],
      "metadata": {
        "id": "7CTROF0jVMIe"
      },
      "execution_count": null,
      "outputs": []
    },
    {
      "cell_type": "code",
      "source": [
        "from google import genai\n",
        "from google.genai.types import GenerateContentConfig, HttpOptions\n",
        "from google.api_core import retry\n",
        "from google.genai import types\n",
        "from google.colab import userdata\n",
        "\n",
        "cli1 = genai.Client(api_key=userdata.get('cli1'))"
      ],
      "metadata": {
        "id": "lopLNMXewPS-"
      },
      "execution_count": null,
      "outputs": []
    },
    {
      "cell_type": "code",
      "source": [
        "import random as r\n",
        "\n",
        "# hàm sinh sdt ngẫu nhiên từ 0000000000 đến 9999999999\n",
        "def random_number():\n",
        "    phone_num = ''\n",
        "    phone_num = phone_num + str(r.randint(0, 9))\n",
        "    for i in range(9):\n",
        "      phone_num = phone_num + str(r.randint(0, 9))\n",
        "\n",
        "    return phone_num"
      ],
      "metadata": {
        "id": "AkaIZhXi2uYE"
      },
      "execution_count": null,
      "outputs": []
    },
    {
      "cell_type": "code",
      "source": [
        "client = cli1\n",
        "\n",
        "def add_context(text):\n",
        "    res = client.models.generate_content(\n",
        "    model='gemini-2.0-flash',\n",
        "    config=types.GenerateContentConfig(\n",
        "        max_output_tokens=100,\n",
        "        temperature=1),\n",
        "    contents=f'''\n",
        "    Bổ sung thêm thông tin họ tên bất kỳ và các yêu cầu liên quan tới việc khám chữa bệnh vào câu sau cho thành 1 câu có nghĩa,\n",
        "    phong cách câu nói informal, ngắn gọn, tên và mẫu câu phải đa dạng, không nhất thiết phải có tên (đây là một vài ví dụ cho phong cách informal, hãy sao chép phong cách, không phải nội dung có ngày sinh câu:\n",
        "    - Cứ gọi tôi là mang thúy minh\\n nhé sinh ngày 11 tháng 6 5200019\n",
        "    - Nhờ đặt giúp tôi lịch khám vào ngày 9 tháng 4 51997\n",
        "    - Mình tên là Võ Thái Hòa sinh ngày 4 tháng 5 51960\n",
        "    - Vui lòng hỗ trợ tôi đặt lịch vào ngày 8 tháng 8 51966\n",
        "    - Tôi cần khám định kỳ vào ngày 3 tháng 6 585\n",
        "    - Lên lịch giúp tôi vào ngày 9 tháng 11 519 94\n",
        "    - Xin được đăng ký lịch khám vào ngày 7 tháng 1 51965\n",
        "    )\n",
        "    giữ nguyên định dạng số điện thoại đầu vào (kể cả khi nó chứa văn bản), không được thay đổi, phải giữ nguyên số điện thoại truyền vào\n",
        "    chỉ viết một câu, không giải thích thêm: {text}\n",
        "    ''',\n",
        "    )\n",
        "    res = res.candidates[0].content.parts[0].text\n",
        "    print(res)\n",
        "    return res"
      ],
      "metadata": {
        "id": "RFjhWZBV2xxU"
      },
      "execution_count": null,
      "outputs": []
    },
    {
      "cell_type": "code",
      "source": [
        "length = r.randint(5,10)\n",
        "length"
      ],
      "metadata": {
        "id": "p8QeU6LCIxk4"
      },
      "execution_count": null,
      "outputs": []
    },
    {
      "cell_type": "code",
      "source": [
        "generate_error_sample()"
      ],
      "metadata": {
        "id": "PCV_dtVuJeBC"
      },
      "execution_count": null,
      "outputs": []
    },
    {
      "cell_type": "code",
      "source": [
        "# đúng\n",
        "def generate_correct_sample():\n",
        "    if dice == 0:\n",
        "      for i in range (s):\n",
        "        num = str(r.randint(0, 9))\n",
        "        sdt = sdt + num\n",
        "    else:\n",
        "      for i in range (s):\n",
        "        num = str(r.randint(0, 9))\n",
        "        sdt = sdt + num\n",
        "\n",
        "    sdt_ctx = add_context(sdt)\n",
        "\n",
        "    return {\n",
        "        \"sdt\": sdt,\n",
        "        \"sdt_ctx\": sdt_ctx,\n",
        "    }"
      ],
      "metadata": {
        "id": "Pfn73g--MHCO"
      },
      "execution_count": null,
      "outputs": []
    },
    {
      "cell_type": "code",
      "source": [
        "# sai về số lượng\n",
        "def generate_error_sample():\n",
        "    s = r.randint(5, 9)\n",
        "    l = r.randint(11, 15)\n",
        "    dice = r.randint(0, 1)\n",
        "    sdt = ''\n",
        "    if dice == 0:\n",
        "      for i in range (s):\n",
        "        num = str(r.randint(0, 9))\n",
        "        sdt = sdt + num\n",
        "    else:\n",
        "      for i in range (l):\n",
        "        num = str(r.randint(0, 9))\n",
        "        sdt = sdt + num\n",
        "\n",
        "    sdt_ctx = add_context(sdt)\n",
        "\n",
        "    return {\n",
        "        \"sdt\": sdt,\n",
        "        \"sdt_ctx\": sdt_ctx,\n",
        "    }\n",
        "\n",
        "generate_error_sample()"
      ],
      "metadata": {
        "id": "6BqFEe7WMUeN"
      },
      "execution_count": null,
      "outputs": []
    },
    {
      "cell_type": "code",
      "source": [
        "\n",
        "# sai về số lượng\n",
        "def generate_error_sample():\n",
        "    s = r.randint(5, 9)\n",
        "    l = r.randint(11, 15)\n",
        "    dice = r.randint(0, 1)\n",
        "    sdt = ''\n",
        "    if dice == 0:\n",
        "      for i in range (s):\n",
        "        num = str(r.randint(0, 9))\n",
        "        sdt = sdt + num\n",
        "    else:\n",
        "      for i in range (s):\n",
        "        num = str(r.randint(0, 9))\n",
        "        sdt = sdt + num\n",
        "\n",
        "    sdt_ctx = add_context(sdt)\n",
        "\n",
        "    return {\n",
        "        \"sdt\": sdt,\n",
        "        \"sdt_ctx\": sdt_ctx,\n",
        "    }"
      ],
      "metadata": {
        "id": "in0MsdOSIXkM"
      },
      "execution_count": null,
      "outputs": []
    },
    {
      "cell_type": "code",
      "source": [
        "# sai format\n",
        "import random as r\n",
        "\n",
        "def generate_error_sample():\n",
        "    num = ['không', 'một', 'hai', 'ba', 'bốn', 'năm', 'sáu', 'bảy', 'tám', 'chín'\n",
        "    ' 0', ' 1', ' 2', ' 3', ' 4', ' 5', ' 6', ' 7', ' 8', ' 9',\n",
        "    ' không', ' một', ' hai', ' ba', ' bốn', ' năm', ' sáu', ' bảy', ' tám', ' chín',\n",
        "    '0', '1', '2', '3', '4', '5', '6', '7', '8', '9']\n",
        "    p0 = ' 0'\n",
        "    p1 = r.choice(num)\n",
        "    p2 = r.choice(num)\n",
        "    p3 = r.choice(num)\n",
        "    p4 = r.choice(num)\n",
        "    p5 = r.choice(num)\n",
        "    p6 = r.choice(num)\n",
        "    p7 = r.choice(num)\n",
        "    p8 = r.choice(num)\n",
        "    p9 = r.choice(num)\n",
        "    sdt = p0 + p1 + p2 + p3 + p4 + p5 + p6 + p7 + p8 + p9\n",
        "\n",
        "    sdt_ctx = add_context(sdt)\n",
        "\n",
        "    sdt_num = sdt.replace(\"không\", \"0\")\n",
        "    sdt_num = sdt_num.replace(\"một\", \"1\")\n",
        "    sdt_num = sdt_num.replace(\"hai\", \"2\")\n",
        "    sdt_num = sdt_num.replace(\"ba\", \"3\")\n",
        "    sdt_num = sdt_num.replace(\"bốn\", \"4\")\n",
        "    sdt_num = sdt_num.replace(\"năm\", \"5\")\n",
        "    sdt_num = sdt_num.replace(\"sáu\", \"6\")\n",
        "    sdt_num = sdt_num.replace(\"bảy\", \"7\")\n",
        "    sdt_num = sdt_num.replace(\"tám\", \"8\")\n",
        "    sdt_num = sdt_num.replace(\"chín\", \"9\")\n",
        "    sdt_num = sdt_num.replace(\" không\", \"0\")\n",
        "    sdt_num = sdt_num.replace(\" một\", \"1\")\n",
        "    sdt_num = sdt_num.replace(\" hai\", \"2\")\n",
        "    sdt_num = sdt_num.replace(\" ba\", \"3\")\n",
        "    sdt_num = sdt_num.replace(\" bốn\", \"4\")\n",
        "    sdt_num = sdt_num.replace(\" năm\", \"5\")\n",
        "    sdt_num = sdt_num.replace(\" sáu\", \"6\")\n",
        "    sdt_num = sdt_num.replace(\" bảy\", \"7\")\n",
        "    sdt_num = sdt_num.replace(\" tám\", \"8\")\n",
        "    sdt_num = sdt_num.replace(\" chín\", \"9\")\n",
        "    sdt_num = sdt_num.replace(\" 0\", \"0\")\n",
        "    sdt_num = sdt_num.replace(\" 1\", \"1\")\n",
        "    sdt_num = sdt_num.replace(\" 2\", \"2\")\n",
        "    sdt_num = sdt_num.replace(\" 3\", \"3\")\n",
        "    sdt_num = sdt_num.replace(\" 4\", \"4\")\n",
        "    sdt_num = sdt_num.replace(\" 5\", \"5\")\n",
        "    sdt_num = sdt_num.replace(\" 6\", \"6\")\n",
        "    sdt_num = sdt_num.replace(\" 7\", \"7\")\n",
        "    sdt_num = sdt_num.replace(\" 8\", \"8\")\n",
        "    sdt_num = sdt_num.replace(\" 9\", \"9\")\n",
        "\n",
        "    return {\n",
        "        \"sdt\": sdt,\n",
        "        \"sdt_ctx\": sdt_ctx,\n",
        "        \"sdt_num\": sdt_num\n",
        "    }\n",
        "\n",
        "generate_error_sample()"
      ],
      "metadata": {
        "id": "XePSlnU0a5cr"
      },
      "execution_count": null,
      "outputs": []
    },
    {
      "cell_type": "code",
      "source": [
        "# sai về format\n",
        "def generate_error_sample():\n",
        "    num = ['không', 'một', 'hai', 'ba', 'bốn', 'năm', 'sáu', 'bảy', 'tám', 'chín'\n",
        "    ' 0', ' 1', ' 2', ' 3', ' 4', ' 5', ' 6', ' 7', ' 8', ' 9',\n",
        "    ' không', ' một', ' hai', ' ba', ' bốn', ' năm', ' sáu', ' bảy', ' tám', ' chín',\n",
        "    '0', '1', '2', '3', '4', '5', '6', '7', '8', '9']\n",
        "    p0 = r.choice(num)\n",
        "    p1 = r.choice(num)\n",
        "    p2 = r.choice(num)\n",
        "    p3 = r.choice(num)\n",
        "    p4 = r.choice(num)\n",
        "    p5 = r.choice(num)\n",
        "    p6 = r.choice(num)\n",
        "    p7 = r.choice(num)\n",
        "    p8 = r.choice(num)\n",
        "    p9 = r.choice(num)\n",
        "    sdt = p0 + p1 + p2 + p3 + p4 + p5 + p6 + p7 + p8 + p9\n",
        "\n",
        "    sdt_ctx = add_context(sdt)\n",
        "\n",
        "    sdt_num = sdt.replace(\"không\", \"0\")\n",
        "    sdt_num = sdt_num.replace(\"một\", \"1\")\n",
        "    sdt_num = sdt_num.replace(\"hai\", \"2\")\n",
        "    sdt_num = sdt_num.replace(\"ba\", \"3\")\n",
        "    sdt_num = sdt_num.replace(\"bốn\", \"4\")\n",
        "    sdt_num = sdt_num.replace(\"năm\", \"5\")\n",
        "    sdt_num = sdt_num.replace(\"sáu\", \"6\")\n",
        "    sdt_num = sdt_num.replace(\"bảy\", \"7\")\n",
        "    sdt_num = sdt_num.replace(\"tám\", \"8\")\n",
        "    sdt_num = sdt_num.replace(\"chín\", \"9\")\n",
        "    sdt_num = sdt_num.replace(\" không\", \"0\")\n",
        "    sdt_num = sdt_num.replace(\" một\", \"1\")\n",
        "    sdt_num = sdt_num.replace(\" hai\", \"2\")\n",
        "    sdt_num = sdt_num.replace(\" ba\", \"3\")\n",
        "    sdt_num = sdt_num.replace(\" bốn\", \"4\")\n",
        "    sdt_num = sdt_num.replace(\" năm\", \"5\")\n",
        "    sdt_num = sdt_num.replace(\" sáu\", \"6\")\n",
        "    sdt_num = sdt_num.replace(\" bảy\", \"7\")\n",
        "    sdt_num = sdt_num.replace(\" tám\", \"8\")\n",
        "    sdt_num = sdt_num.replace(\" chín\", \"9\")\n",
        "    sdt_num = sdt_num.replace(\" 0\", \"0\")\n",
        "    sdt_num = sdt_num.replace(\" 1\", \"1\")\n",
        "    sdt_num = sdt_num.replace(\" 2\", \"2\")\n",
        "    sdt_num = sdt_num.replace(\" 3\", \"3\")\n",
        "    sdt_num = sdt_num.replace(\" 4\", \"4\")\n",
        "    sdt_num = sdt_num.replace(\" 5\", \"5\")\n",
        "    sdt_num = sdt_num.replace(\" 6\", \"6\")\n",
        "    sdt_num = sdt_num.replace(\" 7\", \"7\")\n",
        "    sdt_num = sdt_num.replace(\" 8\", \"8\")\n",
        "    sdt_num = sdt_num.replace(\" 9\", \"9\")\n",
        "\n",
        "    return {\n",
        "        \"sdt\": sdt,\n",
        "        \"sdt_ctx\": sdt_ctx,\n",
        "        \"sdt_num\": sdt_num\n",
        "    }"
      ],
      "metadata": {
        "id": "UOxzVL9q3WcD"
      },
      "execution_count": null,
      "outputs": []
    },
    {
      "cell_type": "code",
      "source": [
        "len(samples)"
      ],
      "metadata": {
        "id": "frVqreSjSIn0"
      },
      "execution_count": null,
      "outputs": []
    },
    {
      "cell_type": "code",
      "source": [
        "import time\n",
        "from tqdm import tqdm\n",
        "import json\n",
        "\n",
        "# Sinh 1000 sample\n",
        "samples = []\n",
        "for i in tqdm(range(900), total=900, desc=\"Generating samples\"):\n",
        "    sample = generate_error_sample()\n",
        "    samples.append(sample)\n",
        "    if i % 15 == 0:\n",
        "      time.sleep(60)"
      ],
      "metadata": {
        "collapsed": true,
        "id": "rRqmT-N8-ubG"
      },
      "execution_count": null,
      "outputs": []
    },
    {
      "cell_type": "code",
      "source": [
        "len(samples)"
      ],
      "metadata": {
        "id": "zF0lHEgyTX8e"
      },
      "execution_count": null,
      "outputs": []
    },
    {
      "cell_type": "code",
      "source": [
        "import time\n",
        "from tqdm import tqdm\n",
        "import json\n",
        "\n",
        "# Sinh 1000 sample\n",
        "samples = []\n",
        "for i in tqdm(range(900), total=900, desc=\"Generating samples\"):\n",
        "    sample = generate_error_sample()\n",
        "    samples.append(sample)\n",
        "    if i % 15 == 0:\n",
        "      time.sleep(60)"
      ],
      "metadata": {
        "collapsed": true,
        "id": "m6CS-PkuQKGi"
      },
      "execution_count": null,
      "outputs": []
    },
    {
      "cell_type": "code",
      "source": [
        "len(samples)"
      ],
      "metadata": {
        "id": "PqcmYOKW2EHY"
      },
      "execution_count": null,
      "outputs": []
    },
    {
      "cell_type": "code",
      "source": [
        "# Ghi vào file JSON\n",
        "with open('fill.json', \"w\", encoding=\"utf-8\") as f:\n",
        "    json.dump(samples, f, ensure_ascii=False, indent=2)"
      ],
      "metadata": {
        "id": "GOEVEDdsOAWH"
      },
      "execution_count": null,
      "outputs": []
    },
    {
      "cell_type": "code",
      "source": [
        " df.head(1)"
      ],
      "metadata": {
        "collapsed": true,
        "id": "KhuJJJnwCekX"
      },
      "execution_count": null,
      "outputs": []
    },
    {
      "cell_type": "code",
      "source": [
        "mdf"
      ],
      "metadata": {
        "id": "Kk-gDG4rOeHg",
        "collapsed": true
      },
      "execution_count": null,
      "outputs": []
    },
    {
      "cell_type": "code",
      "source": [
        "mdf = pd.DataFrame(data)\n",
        "mdf.to_json('mock.json', orient='split', compression='infer')"
      ],
      "metadata": {
        "collapsed": true,
        "id": "4pTGztT-Dpy2"
      },
      "execution_count": null,
      "outputs": []
    },
    {
      "cell_type": "code",
      "source": [],
      "metadata": {
        "id": "gdbZhgYdOMFG"
      },
      "execution_count": null,
      "outputs": []
    },
    {
      "cell_type": "code",
      "source": [
        "# Sinh 1000 sample\n",
        "samples = []\n",
        "for _ in tqdm(range(1000), total=1000, desc=\"Generating samples\"):\n",
        "    sample = generate_error_sample(random_date())\n",
        "    samples.append(sample)\n",
        "\n",
        "# Ghi vào file JSON\n",
        "with open('output.json', \"w\", encoding=\"utf-8\") as f:\n",
        "    json.dump(samples, f, ensure_ascii=False, indent=2)"
      ],
      "metadata": {
        "id": "2u_0_IwrTuoJ",
        "collapsed": true
      },
      "execution_count": null,
      "outputs": []
    },
    {
      "cell_type": "code",
      "source": [
        "with open('output.json', \"w\", encoding=\"utf-8\") as f:\n",
        "    json.dump(samples, f, ensure_ascii=False, indent=2)"
      ],
      "metadata": {
        "id": "mOiWVWV10w3f"
      },
      "execution_count": null,
      "outputs": []
    },
    {
      "cell_type": "code",
      "execution_count": null,
      "metadata": {
        "id": "GwGQy9pwHJ90"
      },
      "outputs": [],
      "source": [
        "from google import genai\n",
        "from google.genai.types import GenerateContentConfig, HttpOptions\n",
        "from google.api_core import retry\n",
        "from google.genai import types\n",
        "from google.colab import userdata\n",
        "\n",
        "cli1 = genai.Client(api_key=userdata.get('cli3'))"
      ]
    },
    {
      "cell_type": "code",
      "source": [
        "def add_context(text):\n",
        "    res = client.models.generate_content(\n",
        "    model='gemini-2.0-flash',\n",
        "    config=types.GenerateContentConfig(\n",
        "        max_output_tokens=100,\n",
        "        temperature=1),\n",
        "    contents=f'''\n",
        "    Bổ sung thêm thông tin họ tên bất kỳ và các yêu cầu liên quan tới việc khám chữa bệnh vào câu sau cho thành 1 câu có nghĩa,\n",
        "    phong cách câu nói informal, ngắn gọn, tên và mẫu câu phải đa dạng, không nhất thiết phải có tên (đây là một vài ví dụ cho phong cách informal, hãy sao chép phong cách, không phải nội dung có ngày sinh câu:\n",
        "    - Em ơi đặt giúp anh lịch khám với số anh là 0934462154\n",
        "    - Mình tên là Võ Thái Hòa, sdt là 0934462154\n",
        "    - Số anh là 0934462154, cho hỏi bác Sĩ Hùng đang làm không\n",
        "    - Tôi cần khám định kỳ, 0934462154\n",
        "    - Số tôi 0934462154, cho hỏi phòng khám mở cửa lúc nào\n",
        "    - Xin được đăng ký lịch khám, số là 0934462154\n",
        "    )\n",
        "    giữ nguyên định dạng số điện thoại đầu vào (kể cả khi nó chứa văn bản), không được thay đổi, phải giữ nguyên số điện thoại truyền vào\n",
        "    chỉ viết một câu, không giải thích thêm: {text}\n",
        "    ''',\n",
        "    )\n",
        "    res = res.candidates[0].content.parts[0].text\n",
        "    print(res)\n",
        "    return res"
      ],
      "metadata": {
        "id": "k806nC8yHRln"
      },
      "execution_count": null,
      "outputs": []
    },
    {
      "cell_type": "code",
      "source": [
        "# đúng\n",
        "import random as r\n",
        "\n",
        "def generate_correct_sample():\n",
        "    sdt = ''\n",
        "    for i in range(10):\n",
        "      num = str(r.randint(0, 9))\n",
        "      sdt = sdt + num\n",
        "\n",
        "    sdt_ctx = add_context(sdt)\n",
        "\n",
        "    return {\n",
        "        \"sdt\": sdt,\n",
        "        \"sdt_ctx\": sdt_ctx,\n",
        "    }"
      ],
      "metadata": {
        "id": "feddF-HDHak8"
      },
      "execution_count": null,
      "outputs": []
    },
    {
      "cell_type": "code",
      "source": [
        "len(samples)"
      ],
      "metadata": {
        "id": "OYMXWMrZRZmY"
      },
      "execution_count": null,
      "outputs": []
    },
    {
      "cell_type": "code",
      "source": [
        "samples = []"
      ],
      "metadata": {
        "id": "BG0sIQhR22AZ"
      },
      "execution_count": null,
      "outputs": []
    },
    {
      "cell_type": "code",
      "source": [
        "final = pd.read_json('final.json', dtype=False)\n",
        "final.info()"
      ],
      "metadata": {
        "id": "eG3EsnPjsmj1"
      },
      "execution_count": null,
      "outputs": []
    },
    {
      "cell_type": "code",
      "source": [
        "len(samples)"
      ],
      "metadata": {
        "id": "CB5qhnln4G5c"
      },
      "execution_count": null,
      "outputs": []
    },
    {
      "cell_type": "code",
      "source": [
        "import time\n",
        "from tqdm import tqdm\n",
        "import json\n",
        "\n",
        "# Sinh 1000 sample\n",
        "for i in tqdm(range(30), total=30, desc=\"Generating samples\"):\n",
        "    sample = generate_correct_sample()\n",
        "    samples.append(sample)\n",
        "    if i % 15 == 0:\n",
        "      time.sleep(60)"
      ],
      "metadata": {
        "id": "ive9uVWmHld1",
        "collapsed": true
      },
      "execution_count": null,
      "outputs": []
    },
    {
      "cell_type": "code",
      "source": [
        "samples"
      ],
      "metadata": {
        "collapsed": true,
        "id": "oXbTTAcGEHtQ"
      },
      "execution_count": null,
      "outputs": []
    },
    {
      "cell_type": "code",
      "source": [
        "# Ghi vào file JSON\n",
        "with open('output.json', \"w\", encoding=\"utf-8\") as f:\n",
        "    json.dump(samples, f, ensure_ascii=False, indent=2)"
      ],
      "metadata": {
        "id": "mpUXHB41HqlA"
      },
      "execution_count": null,
      "outputs": []
    },
    {
      "cell_type": "code",
      "source": [
        "# prompt:  đọc  3 file dung và dung0, dung 1, là file json và nối nội dung 3 dataframe đó lại và lưu vào 1 file json\n",
        "\n",
        "import pandas as pd\n",
        "# Load each JSON file into a DataFrame\n",
        "dung = pd.read_json('dung-final.json', dtype=False)\n",
        "sailen = pd.read_json('sai-length-final.json', dtype=False)\n",
        "saiformat = pd.read_json('sai-format-final.json', dtype=False)\n",
        "\n",
        "# Concatenate the DataFrames\n",
        "combined_df = pd.concat([dung, sailen, saiformat], ignore_index=True)\n",
        "\n",
        "# Save the combined DataFrame to a new JSON file\n",
        "combined_df.to_json('final.json', orient='records', indent=2, force_ascii=False)"
      ],
      "metadata": {
        "id": "2EDwiYbkqI_7"
      },
      "execution_count": null,
      "outputs": []
    },
    {
      "cell_type": "code",
      "source": [
        "import pandas as pd\n",
        "import json\n",
        "\n",
        "# Load each JSON file into a DataFrame\n",
        "final = pd.read_json('final3k.json', dtype=False)\n",
        "fill = pd.read_json('fill.json', dtype=False)\n",
        "\n",
        "# Concatenate the DataFrames\n",
        "combined_df = pd.concat([final, fill], ignore_index=True)\n",
        "\n",
        "# Convert the DataFrame to a list of lists (matching the input structure)\n",
        "combined_data = combined_df.values.tolist()\n",
        "\n",
        "# Save to final.json\n",
        "with open('final.json', 'w', encoding='utf-8') as f:\n",
        "    json.dump(combined_data, f, indent=2, ensure_ascii=False)"
      ],
      "metadata": {
        "id": "dCVme5RgrPVe"
      },
      "execution_count": null,
      "outputs": []
    },
    {
      "cell_type": "code",
      "source": [
        "# prompt:  đọc  3 file dung và dung0, dung 1, là file json và nối nội dung 3 dataframe đó lại và lưu vào 1 file json\n",
        "\n",
        "import pandas as pd\n",
        "# Load each JSON file into a DataFrame\n",
        "correct_customer_name = pd.read_json('correct_customer_name.json')\n",
        "incorrect_customer_name = pd.read_json('incorrect_customer_name.json')\n",
        "correct_medical_department = pd.read_json('correct_medical_department.json')\n",
        "incorrect_medical_department = pd.read_json('incorrect_medical_department.json')\n",
        "correct_vanilla = pd.read_json('correct_vanilla.json')\n",
        "incorrect_vanilla = pd.read_json('incorrect_vanilla.json')\n",
        "\n",
        "# Concatenate the DataFrames\n",
        "combined_df = pd.concat([correct_customer_name, incorrect_customer_name,\n",
        "                         correct_medical_department, incorrect_medical_department,\n",
        "                         correct_vanilla, incorrect_vanilla], ignore_index=True)\n",
        "\n",
        "combined_data = combined_df.values.tolist()\n",
        "\n",
        "# Save the combined DataFrame to a new JSON file\n",
        "with open('final.json', 'w', encoding='utf-8') as f:\n",
        "    json.dump(combined_data, f, indent=2, ensure_ascii=False)"
      ],
      "metadata": {
        "id": "QW5kohiD_Lrs"
      },
      "execution_count": null,
      "outputs": []
    },
    {
      "cell_type": "code",
      "source": [
        "import pandas as pd\n",
        "import json\n",
        "\n",
        "# Load each JSON file into a DataFrame\n",
        "dung = pd.read_json('dung-final.json', dtype=False)\n",
        "sailen = pd.read_json('sai-length-final.json', dtype=False)\n",
        "saiformat = pd.read_json('sai-format-final.json', dtype=False)\n",
        "\n",
        "# Concatenate the DataFrames\n",
        "combined_df = pd.concat([dung, sailen, saiformat], ignore_index=True)\n",
        "\n",
        "# Convert the DataFrame to a list of lists (matching the input structure)\n",
        "combined_data = combined_df.values.tolist()\n",
        "\n",
        "# Save to final.json\n",
        "with open('final.json', 'w', encoding='utf-8') as f:\n",
        "    json.dump(combined_data, f, indent=2, ensure_ascii=False)"
      ],
      "metadata": {
        "id": "X-tvZncoWDzq"
      },
      "execution_count": null,
      "outputs": []
    },
    {
      "cell_type": "code",
      "source": [
        "# prompt: đọc file dung.json vào 1 dataframe, lưu dataframe đó vào các file dung{i}.csv, mỗi file dung{i}.csv chứa 40 dòng, zip các file đó và 1 file zip\n",
        "\n",
        "import pandas as pd\n",
        "import zipfile\n",
        "# Đọc file dung.json vào DataFrame\n",
        "df = pd.read_json('dung.json')\n",
        "\n",
        "# Số dòng mỗi file\n",
        "rows_per_file = 40\n",
        "\n",
        "# Tính số lượng file cần tạo\n",
        "num_files = len(df) // rows_per_file + (1 if len(df) % rows_per_file != 0 else 0)\n",
        "\n",
        "# Tạo và lưu các file csv\n",
        "csv_files = []\n",
        "for i in tqdm(range(num_files), desc=\"Saving CSV files\"):\n",
        "    start_row = i * rows_per_file\n",
        "    end_row = (i + 1) * rows_per_file\n",
        "    chunk_df = df.iloc[start_row:end_row]\n",
        "    filename = f'dung{i}.csv'\n",
        "    chunk_df.to_csv(filename, index=False, encoding='utf-8')\n",
        "    csv_files.append(filename)\n",
        "\n",
        "# Tạo file zip\n",
        "zip_filename = 'dung_csv_files.zip'\n",
        "with zipfile.ZipFile(zip_filename, 'w', zipfile.ZIP_DEFLATED) as zipf:\n",
        "    for file in tqdm(csv_files, desc=\"Zipping files\"):\n",
        "        zipf.write(file)\n",
        "\n",
        "# Xóa các file csv sau khi đã nén (tùy chọn)\n",
        "# for file in csv_files:\n",
        "#     os.remove(file)\n",
        "\n",
        "print(f\"Đã tạo {num_files} file CSV và nén vào {zip_filename}\")\n"
      ],
      "metadata": {
        "id": "cHagBdqg_3dY"
      },
      "execution_count": null,
      "outputs": []
    },
    {
      "cell_type": "code",
      "source": [
        "# prompt: clear các file trong directory\n",
        "\n",
        "import os\n",
        "\n",
        "# Specify the directory you want to clear\n",
        "directory_to_clear = '.' # '.' refers to the current directory\n",
        "\n",
        "# List all files in the directory\n",
        "files_in_directory = os.listdir(directory_to_clear)\n",
        "\n",
        "# Iterate through the files and remove them\n",
        "for file in files_in_directory:\n",
        "    file_path = os.path.join(directory_to_clear, file)\n",
        "    if os.path.isfile(file_path): # Ensure it's a file and not a directory\n",
        "        try:\n",
        "            os.remove(file_path)\n",
        "            print(f\"Removed: {file_path}\")\n",
        "        except Exception as e:\n",
        "            print(f\"Error removing {file_path}: {e}\")\n",
        "\n",
        "\n",
        "print(\"Directory clearing process completed.\")"
      ],
      "metadata": {
        "id": "Bwl0dZs4Aovr",
        "collapsed": true
      },
      "execution_count": null,
      "outputs": []
    },
    {
      "cell_type": "code",
      "source": [
        "import pandas as pd\n",
        "\n",
        "tdf = pd.read_json('dung.json')\n",
        "tdf.head(1)"
      ],
      "metadata": {
        "id": "rYl1pM0mK_cQ"
      },
      "execution_count": null,
      "outputs": []
    },
    {
      "cell_type": "code",
      "source": [
        "import pandas as pd\n",
        "import json\n",
        "from tqdm import tqdm # Assuming tqdm is used elsewhere and needed\n",
        "\n",
        "def transform_json(input_df):\n",
        "    # Define the system content\n",
        "    system_content = \"\"\"Extracts the relevant information from the passage.\n",
        "{\"name\": \"information_extraction\", \"description\": \"Extracts the relevant information from the passage\",\n",
        "\"arguments\": [{\"name\": \"customer_name\", \"desc\": \"Customer's name\", \"type\": \"string\"},\n",
        "{\"name\": \"customer_phone\", \"desc\": \"Customer's phone number\", \"type\": \"string\"},\n",
        "{\"name\": \"medical_department\", \"desc\": \"Medical department or service information.\", \"type\": \"string\"},\n",
        "{\"name\": \"is_yes\", \"desc\": \"Can take two values:\\\\n- true (if the user confirms, agrees, says something affirmative, or expresses consent in any similar way.)\\\\n- false (if the user expresses the opposite, does not approve, disagrees, or shows any similar response.)\", \"type\": \"string\"},\n",
        "{\"name\": \"hospital_name\", \"desc\": \"Identify the name of the hospital, place or facility of Vinmec\", \"type\": \"string\"},\n",
        "{\"name\": \"customer_dob\", \"desc\": \"Extract the user's date of birth. Format DD-MM-YYYY. This value must be a date in the past.\", \"type\": \"string\"},\n",
        "{\"name\": \"customer_place\", \"desc\": \"Province/City provided by the customer\", \"type\": \"string\"},\n",
        "{\"name\": \"symptoms\", \"desc\": \"Identify and extract users' symptom information based on their messages\", \"type\": \"string\"},\n",
        "{\"name\": \"relationship\", \"desc\": \"Relationship to the person booking the appointment\", \"type\": \"string\"},\n",
        "{\"name\": \"appointment_date\", \"desc\": \"Medical appointment schedulling date based on the user's messages. remember extract by following format: DD-MM-YYYY. This value must be a date in the future. \\\\nExample: 1999-04-24 -> 24-04-1999\", \"type\": \"string\"},\n",
        "{\"name\": \"appointment_time\", \"desc\": \"Medical appointment schedulling time based on the user's messages. The time frame will follow a 24-hour format and the time zone is GMT+7 follow this format: HH:mm\", \"type\": \"string\"}, \\\n",
        "{\"name\": \"cancel_num\", \"desc\": \"Identify number from the user's message. The user may express them as words (one, two,...) or digits (1, 2,...) in Vietnamese. If the user provides words, convert them to digits. Accepted values range from 1 to 10.\", \"type\": \"string\"}]}\"\"\"\n",
        "\n",
        "    # Input is already a DataFrame, no need to parse if it's not a string\n",
        "    input_data = input_df\n",
        "\n",
        "    input_data.astype('object').dtypes\n",
        "\n",
        "    # Initialize output array\n",
        "    output = []\n",
        "\n",
        "    # Process each entry using iterrows() to get (index, row)\n",
        "    for index, entry in input_data.iterrows():\n",
        "        sdt = entry['sdt']\n",
        "        sdt_ctx = entry['sdt_ctx']\n",
        "\n",
        "        # Create the subarray for this entry\n",
        "        transformed_entry = [\n",
        "            {\n",
        "                \"role\": \"system\",\n",
        "                \"content\": system_content\n",
        "            },\n",
        "            {\n",
        "                \"role\": \"user\",\n",
        "                \"content\": sdt_ctx\n",
        "            },\n",
        "            {\n",
        "                \"role\": \"assistant\",\n",
        "                \"content\": f\"<functioncall> {{'name': 'information_extraction', 'arguments': {{'customer_phone': '{sdt}'}}}}\"\n",
        "            }\n",
        "        ]\n",
        "\n",
        "        output.append(transformed_entry)\n",
        "\n",
        "    return output\n",
        "\n",
        "# Example input JSON\n",
        "# Assuming combined_dung.json exists and is the correct input\n",
        "input_json = pd.read_json('fill.json', dtype=False)\n",
        "\n",
        "# Run the transformation\n",
        "result = transform_json(input_json)\n",
        "\n",
        "# Optionally, save the output to a file\n",
        "with open('fill.json', 'w', encoding='utf-8') as f:\n",
        "    json.dump(result, f, ensure_ascii=False, indent=2)"
      ],
      "metadata": {
        "id": "SyzGggviLFqd",
        "collapsed": true
      },
      "execution_count": null,
      "outputs": []
    },
    {
      "cell_type": "code",
      "source": [
        "import pandas as pd\n",
        "\n",
        "dung = pd.read_json('sai-format.json')\n",
        "dung.info()"
      ],
      "metadata": {
        "id": "wQgv-78WNBQq"
      },
      "execution_count": null,
      "outputs": []
    },
    {
      "cell_type": "code",
      "source": [
        "dung.astype('object').dtypes"
      ],
      "metadata": {
        "id": "6Sh6b_I0egg7"
      },
      "execution_count": null,
      "outputs": []
    },
    {
      "cell_type": "code",
      "source": [
        "dung.to_json('d.json', orient='records', force_ascii=True)"
      ],
      "metadata": {
        "id": "Fs9lh_LHe8uN"
      },
      "execution_count": null,
      "outputs": []
    },
    {
      "cell_type": "code",
      "source": [
        "dung.info()"
      ],
      "metadata": {
        "id": "mdfq9_5ofSbT"
      },
      "execution_count": null,
      "outputs": []
    },
    {
      "cell_type": "code",
      "source": [
        "dung.head()"
      ],
      "metadata": {
        "id": "RoHHo8pifVcM"
      },
      "execution_count": null,
      "outputs": []
    },
    {
      "cell_type": "code",
      "source": [
        "samples = []"
      ],
      "metadata": {
        "id": "8huNHoJOfZXH"
      },
      "execution_count": null,
      "outputs": []
    },
    {
      "cell_type": "code",
      "source": [
        "for index, entry in dung.iterrows():\n",
        "  sdt = str(entry['sdt'])  # Ensure sdt is a string\n",
        "  sdt_ctx = entry['sdt_ctx']\n",
        "  sample = {\n",
        "      \"sdt\": sdt,\n",
        "      \"sdt_ctx\": sdt_ctx,\n",
        "  }\n",
        "  samples.append(sample)"
      ],
      "metadata": {
        "id": "T8IiBwgOg0Zz"
      },
      "execution_count": null,
      "outputs": []
    },
    {
      "cell_type": "code",
      "source": [
        "len(samples)"
      ],
      "metadata": {
        "id": "K-8FySarhGAQ"
      },
      "execution_count": null,
      "outputs": []
    },
    {
      "cell_type": "code",
      "source": [
        "import json\n",
        "\n",
        "with open('dung.json', 'w', encoding='utf-8') as f:\n",
        "    json.dump(samples, f, ensure_ascii=False, indent=2)"
      ],
      "metadata": {
        "collapsed": true,
        "id": "RsoJvFwmhI0C"
      },
      "execution_count": null,
      "outputs": []
    },
    {
      "cell_type": "markdown",
      "source": [
        "### fr"
      ],
      "metadata": {
        "id": "aMcZupN4rXom"
      }
    },
    {
      "cell_type": "code",
      "source": [
        "# model\n",
        "from google import genai\n",
        "from google.genai.types import GenerateContentConfig, HttpOptions\n",
        "from google.api_core import retry\n",
        "from google.genai import types\n",
        "from google.colab import userdata\n",
        "import random as r\n",
        "\n",
        "client = genai.Client(api_key=userdata.get('cli1'))"
      ],
      "metadata": {
        "id": "lNf6-mxgd_bb"
      },
      "execution_count": null,
      "outputs": []
    },
    {
      "cell_type": "code",
      "source": [
        "# add context\n",
        "def add_context(text):\n",
        "    res = client.models.generate_content(\n",
        "    model='gemini-2.0-flash',\n",
        "    config=types.GenerateContentConfig(\n",
        "        max_output_tokens=100,\n",
        "        temperature=1),\n",
        "    contents=f'''\n",
        "    Cho một số điện thoại của khách hàng, hãy bổ sung tin nhắn thật đa dạng kèm theo số điện thoại sau cho thành 1 câu có nghĩa, số điện thoại có thể ở đầu câu, giữa câu hoặc cuối câu\n",
        "    phong cách câu nói informal, ngắn gọn, có thể viết tắt, mẫu câu phải đa dạng, liên quan tới y tế và việc khám chữa bệnh (đây là một vài ví dụ:\n",
        "    - Em ơi đặt giúp chị lịch khám với số chị là 0988859692\n",
        "    - Số anh là 0862577253, cho hỏi bác Sĩ mai Làm không\n",
        "    - Tôi cần khám định kỳ, 0934462154\n",
        "    - chú cần một cuộc hẹn khám gấp với bác sĩ, số để liên lạc là 0988859692\n",
        "    )\n",
        "    giữ nguyên định dạng số điện thoại đầu vào, không được thay đổi, phải giữ nguyên số điện thoại truyền vào\n",
        "    chỉ viết một câu, không giải thích thêm: {text}\n",
        "    ''',\n",
        "    )\n",
        "    res = res.candidates[0].content.parts[0].text\n",
        "    print(res)\n",
        "    return res"
      ],
      "metadata": {
        "id": "kJUZlN4sd8_2"
      },
      "execution_count": null,
      "outputs": []
    },
    {
      "cell_type": "code",
      "source": [
        "# sinh sdt đúng\n",
        "def generate_correct_sample():\n",
        "    l = ['032', '033', '034', '035', '036', '037', '038', '039', '096', '097', '098', '086', '083', '084',\n",
        "         '085', '081', '082', '088', '091', '094', '070', '079', '077', '076', '078', '090', '093', '089', '056', '058', '092', '059', '099']\n",
        "    sdt = str(r.choice(l))\n",
        "    for i in range(7):\n",
        "      num = str(r.randint(0, 9))\n",
        "      sdt = sdt + num\n",
        "\n",
        "    sdt_ctx = ''\n",
        "\n",
        "    return {\n",
        "        \"sdt\": sdt,\n",
        "        \"sdt_ctx\": '',\n",
        "    }"
      ],
      "metadata": {
        "id": "zWb3ADXxhJlY"
      },
      "execution_count": null,
      "outputs": []
    },
    {
      "cell_type": "code",
      "source": [
        "generate_correct_sample()"
      ],
      "metadata": {
        "id": "wWFHUH5Vg3VN"
      },
      "execution_count": null,
      "outputs": []
    },
    {
      "cell_type": "code",
      "source": [
        "import random as r\n",
        "\n",
        "# sinh sdt sai\n",
        "def generate_error_sample():\n",
        "    l = ['032', '033', '034', '035', '036', '037', '038', '039', '096', '097', '098', '086', '083', '084',\n",
        "         '085', '081', '082', '088', '091', '094', '070', '079', '077', '076', '078', '090', '093', '089', '056', '058', '092', '059', '099']\n",
        "    a = r.randint(2, 6)\n",
        "    b = r.randint(8, 12)\n",
        "    dice = r.randint(0, 1)\n",
        "    sdt = str(r.choice(l))\n",
        "    if dice == 0:\n",
        "      for i in range (a):\n",
        "        num = str(r.randint(0, 9))\n",
        "        sdt = sdt + num\n",
        "    else:\n",
        "      for i in range (b):\n",
        "        num = str(r.randint(0, 9))\n",
        "        sdt = sdt + num\n",
        "\n",
        "    sdt_ctx = ''\n",
        "\n",
        "    return {\n",
        "        \"sdt\": sdt,\n",
        "        \"sdt_ctx\": '',\n",
        "    }"
      ],
      "metadata": {
        "id": "aeqmEUDcd6se"
      },
      "execution_count": null,
      "outputs": []
    },
    {
      "cell_type": "code",
      "source": [
        "import random as r\n",
        "\n",
        "# sinh sdt sai\n",
        "def generate_error_sample():\n",
        "    l = ['032', '033', '034', '035', '036', '037', '038', '039', '096', '097', '098', '086', '083', '084',\n",
        "         '085', '081', '082', '088', '091', '094', '070', '079', '077', '076', '078', '090', '093', '089', '056', '058', '092', '059', '099']\n",
        "    a = r.randint(2, 6)\n",
        "    b = r.randint(8, 12)\n",
        "    dice = r.randint(0, 1)\n",
        "    sdt = str(r.choice(l))\n",
        "    if dice == 0:\n",
        "      for i in range (a):\n",
        "        num = str(r.randint(0, 9))\n",
        "        sdt = sdt + num\n",
        "    else:\n",
        "      for i in range (b):\n",
        "        num = str(r.randint(0, 9))\n",
        "        sdt = sdt + num\n",
        "\n",
        "    sdt_ctx = ''\n",
        "\n",
        "    return {\n",
        "        \"sdt\": sdt,\n",
        "        \"sdt_ctx\": '',\n",
        "    }"
      ],
      "metadata": {
        "id": "znUbqAAM0Thy"
      },
      "execution_count": null,
      "outputs": []
    },
    {
      "cell_type": "code",
      "source": [
        "incorrect_samples = []"
      ],
      "metadata": {
        "id": "1-su8VR70Tjl"
      },
      "execution_count": null,
      "outputs": []
    },
    {
      "cell_type": "code",
      "source": [
        "for i in range(100):\n",
        "  sample = generate_error_sample()\n",
        "  incorrect_samples.append(sample)"
      ],
      "metadata": {
        "id": "sznL9V3pobqH"
      },
      "execution_count": null,
      "outputs": []
    },
    {
      "cell_type": "code",
      "source": [
        "incorrect_samples"
      ],
      "metadata": {
        "collapsed": true,
        "id": "RIz9R_Lm8JCK"
      },
      "execution_count": null,
      "outputs": []
    },
    {
      "cell_type": "code",
      "source": [
        "|# vòng lặp gen câu hỏi, output vào list"
      ],
      "metadata": {
        "id": "KhH0p2Owd8D9"
      },
      "execution_count": null,
      "outputs": []
    },
    {
      "cell_type": "code",
      "source": [
        "incorrect_samples = []"
      ],
      "metadata": {
        "id": "u1HQwiZQopcR"
      },
      "execution_count": null,
      "outputs": []
    },
    {
      "cell_type": "code",
      "source": [
        "import time\n",
        "from tqdm import tqdm\n",
        "import json\n",
        "\n",
        "for i in tqdm(range(1700), total=1700, desc=\"Generating samples\"):\n",
        "    sample = generate_correct_sample()\n",
        "    correct_samples.append(sample)\n",
        "    if i % 15 == 0:\n",
        "      time.sleep(60)"
      ],
      "metadata": {
        "id": "4QswvMeAo2Q_",
        "collapsed": true
      },
      "execution_count": null,
      "outputs": []
    },
    {
      "cell_type": "code",
      "source": [
        "import time\n",
        "from tqdm import tqdm\n",
        "import json\n",
        "\n",
        "for i in tqdm(range(1000), total=1000, desc=\"Generating samples\"):\n",
        "    sample = generate_error_sample()\n",
        "    incorrect_samples.append(sample)\n",
        "    if i % 15 == 0:\n",
        "      time.sleep(60)"
      ],
      "metadata": {
        "id": "L0qT5MSKo8bm"
      },
      "execution_count": null,
      "outputs": []
    },
    {
      "cell_type": "code",
      "source": [],
      "metadata": {
        "id": "LI5eiOfReCsJ"
      },
      "execution_count": null,
      "outputs": []
    },
    {
      "cell_type": "code",
      "source": [
        "# format lại theo json\n",
        "import pandas as pd\n",
        "import json\n",
        "from tqdm import tqdm # Assuming tqdm is used elsewhere and needed\n",
        "\n",
        "def transform_json_vanilla(l):\n",
        "    # Define the system content\n",
        "    system_content = \"\"\"Extracts the relevant information from the passage.\n",
        "{\"name\": \"information_extraction\", \"description\": \"Extracts the relevant information from the passage\",\n",
        "\"arguments\": [{\"name\": \"customer_name\", \"desc\": \"Customer's name\", \"type\": \"string\"},\n",
        "{\"name\": \"customer_phone\", \"desc\": \"Customer's phone number\", \"type\": \"string\"},\n",
        "{\"name\": \"medical_department\", \"desc\": \"Medical department or service information.\", \"type\": \"string\"},\n",
        "{\"name\": \"is_yes\", \"desc\": \"Can take two values:\\\\n- true (if the user confirms, agrees, says something affirmative, or expresses consent in any similar way.)\\\\n- false (if the user expresses the opposite, does not approve, disagrees, or shows any similar response.)\", \"type\": \"string\"},\n",
        "{\"name\": \"hospital_name\", \"desc\": \"Identify the name of the hospital, place or facility of Vinmec\", \"type\": \"string\"},\n",
        "{\"name\": \"customer_dob\", \"desc\": \"Extract the user's date of birth. Format DD-MM-YYYY. This value must be a date in the past.\", \"type\": \"string\"},\n",
        "{\"name\": \"customer_place\", \"desc\": \"Province/City provided by the customer\", \"type\": \"string\"},\n",
        "{\"name\": \"symptoms\", \"desc\": \"Identify and extract users' symptom information based on their messages\", \"type\": \"string\"},\n",
        "{\"name\": \"relationship\", \"desc\": \"Relationship to the person booking the appointment\", \"type\": \"string\"},\n",
        "{\"name\": \"appointment_date\", \"desc\": \"Medical appointment schedulling date based on the user's messages. remember extract by following format: DD-MM-YYYY. This value must be a date in the future. \\\\nExample: 1999-04-24 -> 24-04-1999\", \"type\": \"string\"},\n",
        "{\"name\": \"appointment_time\", \"desc\": \"Medical appointment schedulling time based on the user's messages. The time frame will follow a 24-hour format and the time zone is GMT+7 follow this format: HH:mm\", \"type\": \"string\"}, \\\n",
        "{\"name\": \"cancel_num\", \"desc\": \"Identify number from the user's message. The user may express them as words (one, two,...) or digits (1, 2,...) in Vietnamese. If the user provides words, convert them to digits. Accepted values range from 1 to 10.\", \"type\": \"string\"}]}\"\"\"\n",
        "\n",
        "    # Initialize output array\n",
        "    output = []\n",
        "\n",
        "    # Process each entry using iterrows() to get (index, row)\n",
        "    for sample in l:\n",
        "        sdt = sample['sdt']\n",
        "        sdt_ctx = sample['sdt_ctx']\n",
        "\n",
        "        # Create the subarray for this entry\n",
        "        transformed_entry = [\n",
        "            {\n",
        "                \"role\": \"system\",\n",
        "                \"content\": system_content\n",
        "            },\n",
        "            {\n",
        "                \"role\": \"user\",\n",
        "                \"content\": sdt_ctx\n",
        "            },\n",
        "            {\n",
        "                \"role\": \"assistant\",\n",
        "                \"content\": f\"<functioncall> {{'name': 'information_extraction', 'arguments': {{'customer_phone': '{sdt}'}}}}\"\n",
        "            }\n",
        "        ]\n",
        "\n",
        "        output.append(transformed_entry)\n",
        "\n",
        "    return output\n"
      ],
      "metadata": {
        "id": "MOgwnehfef09"
      },
      "execution_count": null,
      "outputs": []
    },
    {
      "cell_type": "code",
      "source": [
        "# format lại theo json\n",
        "import pandas as pd\n",
        "import json\n",
        "from tqdm import tqdm # Assuming tqdm is used elsewhere and needed\n",
        "\n",
        "def transform_json_customer_name(l):\n",
        "    # Define the system content\n",
        "    system_content = \"\"\"Extracts the relevant information from the passage.\n",
        "{\"name\": \"information_extraction\", \"description\": \"Extracts the relevant information from the passage\",\n",
        "\"arguments\": [{\"name\": \"customer_name\", \"desc\": \"Customer's name\", \"type\": \"string\"},\n",
        "{\"name\": \"customer_phone\", \"desc\": \"Customer's phone number\", \"type\": \"string\"},\n",
        "{\"name\": \"medical_department\", \"desc\": \"Medical department or service information.\", \"type\": \"string\"},\n",
        "{\"name\": \"is_yes\", \"desc\": \"Can take two values:\\\\n- true (if the user confirms, agrees, says something affirmative, or expresses consent in any similar way.)\\\\n- false (if the user expresses the opposite, does not approve, disagrees, or shows any similar response.)\", \"type\": \"string\"},\n",
        "{\"name\": \"hospital_name\", \"desc\": \"Identify the name of the hospital, place or facility of Vinmec\", \"type\": \"string\"},\n",
        "{\"name\": \"customer_dob\", \"desc\": \"Extract the user's date of birth. Format DD-MM-YYYY. This value must be a date in the past.\", \"type\": \"string\"},\n",
        "{\"name\": \"customer_place\", \"desc\": \"Province/City provided by the customer\", \"type\": \"string\"},\n",
        "{\"name\": \"symptoms\", \"desc\": \"Identify and extract users' symptom information based on their messages\", \"type\": \"string\"},\n",
        "{\"name\": \"relationship\", \"desc\": \"Relationship to the person booking the appointment\", \"type\": \"string\"},\n",
        "{\"name\": \"appointment_date\", \"desc\": \"Medical appointment schedulling date based on the user's messages. remember extract by following format: DD-MM-YYYY. This value must be a date in the future. \\\\nExample: 1999-04-24 -> 24-04-1999\", \"type\": \"string\"},\n",
        "{\"name\": \"appointment_time\", \"desc\": \"Medical appointment schedulling time based on the user's messages. The time frame will follow a 24-hour format and the time zone is GMT+7 follow this format: HH:mm\", \"type\": \"string\"}, \\\n",
        "{\"name\": \"cancel_num\", \"desc\": \"Identify number from the user's message. The user may express them as words (one, two,...) or digits (1, 2,...) in Vietnamese. If the user provides words, convert them to digits. Accepted values range from 1 to 10.\", \"type\": \"string\"}]}\"\"\"\n",
        "\n",
        "    # Initialize output array\n",
        "    output = []\n",
        "\n",
        "    # Process each entry using iterrows() to get (index, row)\n",
        "    for sample in l:\n",
        "        sdt = sample['sdt']\n",
        "        sdt_ctx = sample['sdt_ctx']\n",
        "        customer_name = sample['customer_name']\n",
        "\n",
        "        # Create the subarray for this entry\n",
        "        transformed_entry = [\n",
        "            {\n",
        "                \"role\": \"system\",\n",
        "                \"content\": system_content\n",
        "            },\n",
        "            {\n",
        "                \"role\": \"user\",\n",
        "                \"content\": sdt_ctx\n",
        "            },\n",
        "            {\n",
        "                \"role\": \"assistant\",\n",
        "                \"content\": f\"<functioncall> {{'name': 'information_extraction', 'arguments': {{'customer_name': '{customer_name}', 'customer_phone': '{sdt}'}}}}\"\n",
        "            }\n",
        "        ]\n",
        "\n",
        "        output.append(transformed_entry)\n",
        "\n",
        "    return output\n"
      ],
      "metadata": {
        "id": "MI97TbGVSkYf"
      },
      "execution_count": null,
      "outputs": []
    },
    {
      "cell_type": "code",
      "source": [
        "# format lại theo json\n",
        "import pandas as pd\n",
        "import json\n",
        "from tqdm import tqdm # Assuming tqdm is used elsewhere and needed\n",
        "\n",
        "def transform_json_medical_department(l):\n",
        "    # Define the system content\n",
        "    system_content = \"\"\"Extracts the relevant information from the passage.\n",
        "{\"name\": \"information_extraction\", \"description\": \"Extracts the relevant information from the passage\",\n",
        "\"arguments\": [{\"name\": \"customer_name\", \"desc\": \"Customer's name\", \"type\": \"string\"},\n",
        "{\"name\": \"customer_phone\", \"desc\": \"Customer's phone number\", \"type\": \"string\"},\n",
        "{\"name\": \"medical_department\", \"desc\": \"Medical department or service information.\", \"type\": \"string\"},\n",
        "{\"name\": \"is_yes\", \"desc\": \"Can take two values:\\\\n- true (if the user confirms, agrees, says something affirmative, or expresses consent in any similar way.)\\\\n- false (if the user expresses the opposite, does not approve, disagrees, or shows any similar response.)\", \"type\": \"string\"},\n",
        "{\"name\": \"hospital_name\", \"desc\": \"Identify the name of the hospital, place or facility of Vinmec\", \"type\": \"string\"},\n",
        "{\"name\": \"customer_dob\", \"desc\": \"Extract the user's date of birth. Format DD-MM-YYYY. This value must be a date in the past.\", \"type\": \"string\"},\n",
        "{\"name\": \"customer_place\", \"desc\": \"Province/City provided by the customer\", \"type\": \"string\"},\n",
        "{\"name\": \"symptoms\", \"desc\": \"Identify and extract users' symptom information based on their messages\", \"type\": \"string\"},\n",
        "{\"name\": \"relationship\", \"desc\": \"Relationship to the person booking the appointment\", \"type\": \"string\"},\n",
        "{\"name\": \"appointment_date\", \"desc\": \"Medical appointment schedulling date based on the user's messages. remember extract by following format: DD-MM-YYYY. This value must be a date in the future. \\\\nExample: 1999-04-24 -> 24-04-1999\", \"type\": \"string\"},\n",
        "{\"name\": \"appointment_time\", \"desc\": \"Medical appointment schedulling time based on the user's messages. The time frame will follow a 24-hour format and the time zone is GMT+7 follow this format: HH:mm\", \"type\": \"string\"}, \\\n",
        "{\"name\": \"cancel_num\", \"desc\": \"Identify number from the user's message. The user may express them as words (one, two,...) or digits (1, 2,...) in Vietnamese. If the user provides words, convert them to digits. Accepted values range from 1 to 10.\", \"type\": \"string\"}]}\"\"\"\n",
        "\n",
        "    # Initialize output array\n",
        "    output = []\n",
        "\n",
        "    # Process each entry using iterrows() to get (index, row)\n",
        "    for sample in l:\n",
        "        sdt = sample['sdt']\n",
        "        sdt_ctx = sample['sdt_ctx']\n",
        "        medical_department = sample['medical_department']\n",
        "\n",
        "        # Create the subarray for this entry\n",
        "        transformed_entry = [\n",
        "            {\n",
        "                \"role\": \"system\",\n",
        "                \"content\": system_content\n",
        "            },\n",
        "            {\n",
        "                \"role\": \"user\",\n",
        "                \"content\": sdt_ctx\n",
        "            },\n",
        "            {\n",
        "                \"role\": \"assistant\",\n",
        "                \"content\": f\"<functioncall> {{'name': 'information_extraction', 'arguments': {{'customer_phone': '{sdt}', 'medical_department': '{medical_department}'}}}}\"\n",
        "            }\n",
        "        ]\n",
        "\n",
        "        output.append(transformed_entry)\n",
        "\n",
        "    return output\n"
      ],
      "metadata": {
        "id": "FT2dZF1ySmt0"
      },
      "execution_count": null,
      "outputs": []
    },
    {
      "cell_type": "code",
      "source": [
        "correct_samples_vanilla_json = transform_json_vanilla(correct_vanilla)\n",
        "correct_samples_customer_name_json = transform_json_customer_name(correct_customer_name)\n",
        "correct_samples_medical_department_json = transform_json_medical_department(correct_medical_department)\n",
        "incorrect_samples_vanilla_json = transform_json_vanilla(incorrect_vanilla)\n",
        "incorrect_samples_customer_name_json = transform_json_customer_name(incorrect_customer_name)\n",
        "incorrect_samples_medical_department_json = transform_json_medical_department(incorrect_medical_department)"
      ],
      "metadata": {
        "id": "fifsj29Oq5j8"
      },
      "execution_count": null,
      "outputs": []
    },
    {
      "cell_type": "code",
      "source": [
        "# Optionally, save the output to a file\n",
        "with open('correct_vanilla.json', 'w', encoding='utf-8') as f:\n",
        "    json.dump(correct_samples_vanilla_json, f, ensure_ascii=False, indent=2)\n",
        "with open('correct_customer_name.json', 'w', encoding='utf-8') as f:\n",
        "    json.dump(correct_samples_customer_name_json, f, ensure_ascii=False, indent=2)\n",
        "with open('correct_medical_department.json', 'w', encoding='utf-8') as f:\n",
        "    json.dump(correct_samples_medical_department_json, f, ensure_ascii=False, indent=2)\n",
        "with open('incorrect_vanilla.json', 'w', encoding='utf-8') as f:\n",
        "    json.dump(incorrect_samples_vanilla_json, f, ensure_ascii=False, indent=2)\n",
        "with open('incorrect_customer_name.json', 'w', encoding='utf-8') as f:\n",
        "    json.dump(incorrect_samples_customer_name_json, f, ensure_ascii=False, indent=2)\n",
        "with open('incorrect_medical_department.json', 'w', encoding='utf-8') as f:\n",
        "    json.dump(incorrect_samples_medical_department_json, f, ensure_ascii=False, indent=2)"
      ],
      "metadata": {
        "id": "nVVxVAvMqxRK"
      },
      "execution_count": null,
      "outputs": []
    },
    {
      "cell_type": "markdown",
      "source": [
        "##### correct vanilla"
      ],
      "metadata": {
        "id": "Rr7o6j0MMfWz"
      }
    },
    {
      "cell_type": "code",
      "source": [
        "correct_vanilla =  [\n",
        "    {\"sdt\": \"0591327817\", \"sdt_ctx\": \"Cho em đặt lịch khám nhé, số chị là 0591327817\"},\n",
        "    {\"sdt\": \"0910026323\", \"sdt_ctx\": \"0910026323 đây, bác sĩ mai có khám không?\"},\n",
        "    {\"sdt\": \"0786480378\", \"sdt_ctx\": \"Anh cần hẹn khám gấp, liên lạc qua 0786480378\"},\n",
        "    {\"sdt\": \"0896314881\", \"sdt_ctx\": \"Số em 0896314881, đặt giúp lịch khám định kỳ\"},\n",
        "    {\"sdt\": \"0897150069\", \"sdt_ctx\": \"Chị muốn hỏi lịch bác sĩ, số 0897150069 nha\"},\n",
        "    {\"sdt\": \"0897793965\", \"sdt_ctx\": \"0897793965, em cần tư vấn khám nhanh\"},\n",
        "    {\"sdt\": \"0338448717\", \"sdt_ctx\": \"Hẹn khám cho anh qua số 0338448717 nhé\"},\n",
        "    {\"sdt\": \"0946458860\", \"sdt_ctx\": \"Chú cần kiểm tra sức khỏe, số là 0946458860\"},\n",
        "    {\"sdt\": \"0783004171\", \"sdt_ctx\": \"0783004171 đây, đặt lịch khám thứ 7 được không?\"},\n",
        "    {\"sdt\": \"0929915990\", \"sdt_ctx\": \"Em ơi, số chị 0929915990, hẹn khám sớm giúp\"},\n",
        "    {\"sdt\": \"0862858267\", \"sdt_ctx\": \"Anh hỏi lịch khám, liên lạc 0862858267\"},\n",
        "    {\"sdt\": \"0885225465\", \"sdt_ctx\": \"Số 0885225465, chị cần hẹn bác sĩ gấp\"},\n",
        "    {\"sdt\": \"0948085723\", \"sdt_ctx\": \"0948085723, anh muốn đặt lịch khám định kỳ\"},\n",
        "    {\"sdt\": \"0988551437\", \"sdt_ctx\": \"Chị gọi 0988551437, hỏi bác sĩ có rảnh không?\"},\n",
        "    {\"sdt\": \"0388352927\", \"sdt_ctx\": \"Hẹn khám qua số 0388352927 nha em\"},\n",
        "    {\"sdt\": \"0845096726\", \"sdt_ctx\": \"0845096726, chú cần lịch khám sớm\"},\n",
        "    {\"sdt\": \"0381756109\", \"sdt_ctx\": \"Số em là 0381756109, đặt giúp lịch khám\"},\n",
        "    {\"sdt\": \"0765465756\", \"sdt_ctx\": \"Anh cần tư vấn y tế, số 0765465756\"},\n",
        "    {\"sdt\": \"0863425375\", \"sdt_ctx\": \"0863425375 đây, hẹn khám thứ 3 được không?\"},\n",
        "    {\"sdt\": \"0777897532\", \"sdt_ctx\": \"Chị muốn kiểm tra sức khỏe, số 0777897532\"},\n",
        "    {\"sdt\": \"0348387463\", \"sdt_ctx\": \"Số 0348387463, em đặt lịch khám giúp anh\"},\n",
        "    {\"sdt\": \"0321498885\", \"sdt_ctx\": \"0321498885, chị cần hẹn bác sĩ ngay\"},\n",
        "    {\"sdt\": \"0387156452\", \"sdt_ctx\": \"Anh hỏi lịch khám, số là 0387156452\"},\n",
        "    {\"sdt\": \"0939400629\", \"sdt_ctx\": \"Hẹn khám gấp qua 0939400629 nha\"},\n",
        "    {\"sdt\": \"0882742635\", \"sdt_ctx\": \"0882742635, em ơi đặt lịch khám giùm\"},\n",
        "    {\"sdt\": \"0972880790\", \"sdt_ctx\": \"Chị cần tư vấn, liên lạc 0972880790\"},\n",
        "    {\"sdt\": \"0776086596\", \"sdt_ctx\": \"Số 0776086596, anh muốn hẹn khám sớm\"},\n",
        "    {\"sdt\": \"0826374406\", \"sdt_ctx\": \"0826374406 đây, đặt lịch khám định kỳ nhé\"},\n",
        "    {\"sdt\": \"0765665025\", \"sdt_ctx\": \"Chú cần khám gấp, số 0765665025\"},\n",
        "    {\"sdt\": \"0797982271\", \"sdt_ctx\": \"Số em 0797982271, hẹn bác sĩ giúp chị\"},\n",
        "    {\"sdt\": \"0787006561\", \"sdt_ctx\": \"0787006561, anh hỏi lịch khám tuần này\"},\n",
        "    {\"sdt\": \"0386411165\", \"sdt_ctx\": \"Chị đặt lịch khám, số 0386411165 nha\"},\n",
        "    {\"sdt\": \"0986393896\", \"sdt_ctx\": \"0986393896, em cần hẹn khám nhanh\"},\n",
        "    {\"sdt\": \"0904829915\", \"sdt_ctx\": \"Anh cần tư vấn y tế, số 0904829915\"},\n",
        "    {\"sdt\": \"0340148325\", \"sdt_ctx\": \"Số 0340148325, đặt lịch khám thứ 4 giúp\"},\n",
        "    {\"sdt\": \"0932489359\", \"sdt_ctx\": \"0932489359 đây, chị muốn hẹn bác sĩ\"},\n",
        "    {\"sdt\": \"0904518556\", \"sdt_ctx\": \"Chú cần khám, liên lạc 0904518556\"},\n",
        "    {\"sdt\": \"0847511532\", \"sdt_ctx\": \"Số 0847511532, em ơi hẹn khám gấp\"},\n",
        "    {\"sdt\": \"0908136123\", \"sdt_ctx\": \"0908136123, anh cần lịch khám định kỳ\"},\n",
        "    {\"sdt\": \"0336234608\", \"sdt_ctx\": \"Chị hỏi bác sĩ, số là 0336234608\"},\n",
        "    {\"sdt\": \"0970660443\", \"sdt_ctx\": \"Hẹn khám qua 0970660443 nha em\"},\n",
        "    {\"sdt\": \"0848955544\", \"sdt_ctx\": \"0848955544, chú cần tư vấn khám\"},\n",
        "    {\"sdt\": \"0814706346\", \"sdt_ctx\": \"Số em 0814706346, đặt lịch khám giúp\"},\n",
        "    {\"sdt\": \"0860820803\", \"sdt_ctx\": \"0860820803 đây, anh muốn hẹn sớm\"},\n",
        "    {\"sdt\": \"0376871098\", \"sdt_ctx\": \"Chị cần khám gấp, số 0376871098\"},\n",
        "    {\"sdt\": \"0359287569\", \"sdt_ctx\": \"Số 0359287569, em đặt lịch khám giùm\"},\n",
        "    {\"sdt\": \"0586755207\", \"sdt_ctx\": \"0586755207, anh hỏi lịch bác sĩ tuần này\"},\n",
        "    {\"sdt\": \"0821304594\", \"sdt_ctx\": \"Chú cần hẹn khám, số 0821304594\"},\n",
        "    {\"sdt\": \"0886334842\", \"sdt_ctx\": \"Số 0886334842, chị muốn đặt lịch khám\"},\n",
        "    {\"sdt\": \"0923814109\", \"sdt_ctx\": \"0923814109 đây, hẹn khám định kỳ nhé\"},\n",
        "    {\"sdt\": \"0704794889\", \"sdt_ctx\": \"Anh cần tư vấn, liên lạc 0704794889\"},\n",
        "    {\"sdt\": \"0793025830\", \"sdt_ctx\": \"Số em 0793025830, đặt lịch khám giúp\"},\n",
        "    {\"sdt\": \"0789979381\", \"sdt_ctx\": \"0789979381, chị cần hẹn bác sĩ gấp\"},\n",
        "    {\"sdt\": \"0332365853\", \"sdt_ctx\": \"Chú hỏi lịch khám, số 0332365853\"},\n",
        "    {\"sdt\": \"0591821148\", \"sdt_ctx\": \"Số 0591821148, em ơi hẹn khám nhanh\"},\n",
        "    {\"sdt\": \"0366543363\", \"sdt_ctx\": \"0366543363 đây, anh cần lịch khám\"},\n",
        "    {\"sdt\": \"0848511717\", \"sdt_ctx\": \"Chị muốn kiểm tra sức khỏe, số 0848511717\"},\n",
        "    {\"sdt\": \"0343137737\", \"sdt_ctx\": \"Số 0343137737, đặt lịch khám thứ 5 giúp\"},\n",
        "    {\"sdt\": \"0332381053\", \"sdt_ctx\": \"0332381053, em cần tư vấn khám\"},\n",
        "    {\"sdt\": \"0706996660\", \"sdt_ctx\": \"Anh cần hẹn bác sĩ, số 0706996660\"},\n",
        "    {\"sdt\": \"0846580115\", \"sdt_ctx\": \"Số 0846580115, chị đặt lịch khám nhé\"},\n",
        "    {\"sdt\": \"0820373191\", \"sdt_ctx\": \"0820373191 đây, hẹn khám gấp nha\"},\n",
        "    {\"sdt\": \"0369914590\", \"sdt_ctx\": \"Chú cần khám, liên lạc 0369914590\"},\n",
        "    {\"sdt\": \"0382911651\", \"sdt_ctx\": \"Số em 0382911651, đặt lịch khám giùm\"},\n",
        "    {\"sdt\": \"0961978656\", \"sdt_ctx\": \"0961978656, anh hỏi lịch bác sĩ\"},\n",
        "    {\"sdt\": \"0780459135\", \"sdt_ctx\": \"Chị cần tư vấn, số 0780459135\"},\n",
        "    {\"sdt\": \"0598942334\", \"sdt_ctx\": \"Số 0598942334, em ơi hẹn khám sớm\"},\n",
        "    {\"sdt\": \"0994175290\", \"sdt_ctx\": \"0994175290 đây, đặt lịch khám định kỳ\"},\n",
        "    {\"sdt\": \"0359669959\", \"sdt_ctx\": \"Anh cần hẹn bác sĩ, số 0359669959\"},\n",
        "    {\"sdt\": \"0566781843\", \"sdt_ctx\": \"Số 0566781843, chị muốn khám gấp\"},\n",
        "    {\"sdt\": \"0927833901\", \"sdt_ctx\": \"0927833901, em đặt lịch khám giúp\"},\n",
        "    {\"sdt\": \"0819153803\", \"sdt_ctx\": \"Chú cần tư vấn y tế, số 0819153803\"},\n",
        "    {\"sdt\": \"0833864364\", \"sdt_ctx\": \"Số 0833864364, anh hỏi lịch khám\"},\n",
        "    {\"sdt\": \"0848632071\", \"sdt_ctx\": \"0848632071 đây, hẹn khám thứ 6 nhé\"},\n",
        "    {\"sdt\": \"0821357222\", \"sdt_ctx\": \"Chị cần khám, liên lạc 0821357222\"},\n",
        "    {\"sdt\": \"0352118302\", \"sdt_ctx\": \"Số em 0352118302, đặt lịch khám nhanh\"},\n",
        "    {\"sdt\": \"0354839879\", \"sdt_ctx\": \"0354839879, anh muốn hẹn bác sĩ\"},\n",
        "    {\"sdt\": \"0335278410\", \"sdt_ctx\": \"Chú cần kiểm tra sức khỏe, số 0335278410\"},\n",
        "    {\"sdt\": \"0906121143\", \"sdt_ctx\": \"Số 0906121143, em ơi đặt lịch khám\"},\n",
        "    {\"sdt\": \"0703056277\", \"sdt_ctx\": \"0703056277 đây, chị cần tư vấn khám\"},\n",
        "    {\"sdt\": \"0362599337\", \"sdt_ctx\": \"Anh cần hẹn khám, số 0362599337\"},\n",
        "    {\"sdt\": \"0798336225\", \"sdt_ctx\": \"Số 0798336225, đặt lịch khám thứ 7 giúp\"},\n",
        "    {\"sdt\": \"0333717158\", \"sdt_ctx\": \"0333717158, em hỏi lịch bác sĩ giùm\"},\n",
        "    {\"sdt\": \"0582696354\", \"sdt_ctx\": \"Chị cần khám gấp, số 0582696354\"},\n",
        "    {\"sdt\": \"0342344890\", \"sdt_ctx\": \"Số 0342344890, anh muốn đặt lịch khám\"},\n",
        "    {\"sdt\": \"0844104389\", \"sdt_ctx\": \"0844104389 đây, hẹn khám định kỳ nha\"},\n",
        "    {\"sdt\": \"0962077883\", \"sdt_ctx\": \"Chú cần tư vấn, liên lạc 0962077883\"},\n",
        "    {\"sdt\": \"0938862677\", \"sdt_ctx\": \"Số em 0938862677, đặt lịch khám giúp\"},\n",
        "    {\"sdt\": \"0833746635\", \"sdt_ctx\": \"0833746635, chị cần hẹn bác sĩ gấp\"},\n",
        "    {\"sdt\": \"0991674272\", \"sdt_ctx\": \"Anh hỏi lịch khám, số 0991674272\"},\n",
        "    {\"sdt\": \"0895649072\", \"sdt_ctx\": \"Số 0895649072, em ơi hẹn khám nhanh\"},\n",
        "    {\"sdt\": \"0397811695\", \"sdt_ctx\": \"0397811695 đây, đặt lịch khám thứ 3\"},\n",
        "    {\"sdt\": \"0781453142\", \"sdt_ctx\": \"Chị cần kiểm tra sức khỏe, số 0781453142\"},\n",
        "    {\"sdt\": \"0363469324\", \"sdt_ctx\": \"Số 0363469324, anh muốn hẹn bác sĩ\"},\n",
        "    {\"sdt\": \"0880029494\", \"sdt_ctx\": \"0880029494, em đặt lịch khám giùm\"},\n",
        "    {\"sdt\": \"0858489242\", \"sdt_ctx\": \"Chú cần khám, liên lạc 0858489242\"},\n",
        "    {\"sdt\": \"0320753936\", \"sdt_ctx\": \"Số 0320753936, chị hỏi lịch khám\"},\n",
        "    {\"sdt\": \"0561125975\", \"sdt_ctx\": \"0561125975 đây, hẹn khám gấp nhé\"},\n",
        "    {\"sdt\": \"0827675181\", \"sdt_ctx\": \"Anh cần tư vấn y tế, số 0827675181\"},\n",
        "    {\"sdt\": \"0343586462\", \"sdt_ctx\": \"Số em 0343586462, đặt lịch khám giúp\"},\n",
        "    {\"sdt\": \"0816543409\", \"sdt_ctx\": \"Chị muốn đặt lịch khám sức khỏe tổng quát, số liên lạc là 0816543409.\"},\n",
        "    {\"sdt\": \"0782797565\", \"sdt_ctx\": \"0782797565 là số của anh, xin vui lòng sắp xếp cuộc hẹn với bác sĩ.\"},\n",
        "    {\"sdt\": \"0598022258\", \"sdt_ctx\": \"Em cần kiểm tra lịch khám tuần này, số của em là 0598022258.\"},\n",
        "    {\"sdt\": \"0982037124\", \"sdt_ctx\": \"Bác cần tư vấn y tế, hãy liên hệ qua 0982037124.\"},\n",
        "    {\"sdt\": \"0821996411\", \"sdt_ctx\": \"0821996411, chị mong muốn đặt lịch khám định kỳ sớm nhất có thể.\"},\n",
        "    {\"sdt\": \"0927466586\", \"sdt_ctx\": \"Anh xin đặt cuộc hẹn khám gấp, số liên lạc 0927466586.\"},\n",
        "    {\"sdt\": \"0819068813\", \"sdt_ctx\": \"Số của chú là 0819068813, chú cần kiểm tra sức khỏe tổng quát.\"},\n",
        "    {\"sdt\": \"0786913723\", \"sdt_ctx\": \"Chị muốn hỏi về lịch làm việc của bác sĩ, số 0786913723.\"},\n",
        "    {\"sdt\": \"0775656521\", \"sdt_ctx\": \"0775656521 là số liên lạc, em xin đặt lịch khám vào tuần tới.\"},\n",
        "    {\"sdt\": \"0864515336\", \"sdt_ctx\": \"Bác vui lòng sắp xếp lịch khám cho bác, số là 0864515336.\"},\n",
        "    {\"sdt\": \"0868661782\", \"sdt_ctx\": \"Anh cần hẹn khám khẩn cấp, số liên hệ 0868661782.\"},\n",
        "    {\"sdt\": \"0966373182\", \"sdt_ctx\": \"0966373182, chị muốn đặt lịch kiểm tra sức khỏe định kỳ.\"},\n",
        "    {\"sdt\": \"0817852978\", \"sdt_ctx\": \"Số của em 0817852978, em xin tư vấn về lịch khám bác sĩ.\"},\n",
        "    {\"sdt\": \"0797631553\", \"sdt_ctx\": \"Chú cần đặt lịch khám, liên hệ qua 0797631553.\"},\n",
        "    {\"sdt\": \"0844359062\", \"sdt_ctx\": \"0844359062 là số của anh, xin đặt lịch khám sớm nhất.\"},\n",
        "    {\"sdt\": \"0333229289\", \"sdt_ctx\": \"Chị xin kiểm tra lịch bác sĩ, số liên lạc là 0333229289.\"},\n",
        "    {\"sdt\": \"0705834857\", \"sdt_ctx\": \"Em muốn đặt lịch khám, số của em là 0705834857.\"},\n",
        "    {\"sdt\": \"0368831826\", \"sdt_ctx\": \"0368831826, bác cần tư vấn và đặt lịch khám gấp.\"},\n",
        "    {\"sdt\": \"0884752812\", \"sdt_ctx\": \"Chị vui lòng liên hệ 0884752812 để sắp xếp cuộc hẹn khám.\"},\n",
        "    {\"sdt\": \"0939528908\", \"sdt_ctx\": \"Số 0939528908, anh muốn kiểm tra sức khỏe tổng quát.\"},\n",
        "    {\"sdt\": \"0833898430\", \"sdt_ctx\": \"Em cần hẹn khám định kỳ, số liên lạc 0833898430.\"},\n",
        "    {\"sdt\": \"0882360944\", \"sdt_ctx\": \"0882360944 là số của chú, xin đặt lịch khám tuần này.\"},\n",
        "    {\"sdt\": \"0855347870\", \"sdt_ctx\": \"Chị vui lòng tư vấn lịch khám, liên hệ 0855347870.\"},\n",
        "    {\"sdt\": \"0836271922\", \"sdt_ctx\": \"Số của anh là 0836271922, anh cần đặt lịch khám gấp.\"},\n",
        "    {\"sdt\": \"0598014172\", \"sdt_ctx\": \"0598014172, em xin sắp xếp cuộc hẹn với bác sĩ sớm.\"},\n",
        "    {\"sdt\": \"0847205855\", \"sdt_ctx\": \"Bác muốn kiểm tra sức khỏe, số liên lạc 0847205855.\"},\n",
        "    {\"sdt\": \"0928800142\", \"sdt_ctx\": \"Số 0928800142, chị muốn đặt lịch khám định kỳ.\"},\n",
        "    {\"sdt\": \"0380634796\", \"sdt_ctx\": \"Anh xin hẹn khám bác sĩ, số của anh là 0380634796.\"},\n",
        "    {\"sdt\": \"0593152447\", \"sdt_ctx\": \"0593152447 là số liên lạc, em cần tư vấn y tế.\"},\n",
        "    {\"sdt\": \"0583096176\", \"sdt_ctx\": \"Chú muốn đặt lịch khám, liên hệ qua 0583096176.\"},\n",
        "    {\"sdt\": \"0357814169\", \"sdt_ctx\": \"Số của chị 0357814169, chị xin kiểm tra lịch bác sĩ.\"},\n",
        "    {\"sdt\": \"0944898234\", \"sdt_ctx\": \"0944898234, anh cần hẹn khám sức khỏe sớm.\"},\n",
        "    {\"sdt\": \"0979292881\", \"sdt_ctx\": \"Em vui lòng liên hệ 0979292881 để đặt lịch khám.\"},\n",
        "    {\"sdt\": \"0782455151\", \"sdt_ctx\": \"Số 0782455151, bác muốn kiểm tra sức khỏe định kỳ.\"},\n",
        "    {\"sdt\": \"0889684220\", \"sdt_ctx\": \"Chị cần tư vấn y tế, số liên lạc là 0889684220.\"},\n",
        "    {\"sdt\": \"0818704738\", \"sdt_ctx\": \"0818704738 là số của anh, xin đặt lịch khám gấp.\"},\n",
        "    {\"sdt\": \"0902820088\", \"sdt_ctx\": \"Em vui lòng sắp xếp lịch khám, số 0902820088.\"},\n",
        "    {\"sdt\": \"0869293313\", \"sdt_ctx\": \"Số của chú 0869293313, chú cần hẹn bác sĩ sớm.\"},\n",
        "    {\"sdt\": \"0349672366\", \"sdt_ctx\": \"0349672366, chị xin tư vấn và đặt lịch khám.\"},\n",
        "    {\"sdt\": \"0397037855\", \"sdt_ctx\": \"Anh muốn kiểm tra sức khỏe, liên hệ 0397037855.\"},\n",
        "    {\"sdt\": \"0782963643\", \"sdt_ctx\": \"Số 0782963643, em muốn hẹn khám định kỳ.\"},\n",
        "    {\"sdt\": \"0586831745\", \"sdt_ctx\": \"Bác xin đặt lịch khám gấp, số của bác 0586831745.\"},\n",
        "    {\"sdt\": \"0382712930\", \"sdt_ctx\": \"0382712930 là số liên lạc, chị cần tư vấn y tế.\"},\n",
        "    {\"sdt\": \"0590572580\", \"sdt_ctx\": \"Anh cần hẹn khám, số của anh là 0590572580.\"},\n",
        "    {\"sdt\": \"0915274662\", \"sdt_ctx\": \"Em vui lòng liên hệ 0915274662 để sắp xếp lịch khám.\"},\n",
        "    {\"sdt\": \"0825410205\", \"sdt_ctx\": \"Số 0825410205, chú muốn kiểm tra sức khỏe.\"},\n",
        "    {\"sdt\": \"0331536961\", \"sdt_ctx\": \"0331536961 là số của chị, xin đặt lịch khám sớm.\"},\n",
        "    {\"sdt\": \"0373171206\", \"sdt_ctx\": \"Anh cần tư vấn bác sĩ, liên hệ 0373171206.\"},\n",
        "    {\"sdt\": \"0916264547\", \"sdt_ctx\": \"Số của em 0916264547, em xin hẹn khám gấp.\"},\n",
        "    {\"sdt\": \"0568870299\", \"sdt_ctx\": \"0568870299, bác muốn đặt lịch kiểm tra sức khỏe.\"},\n",
        "    {\"sdt\": \"0326070090\", \"sdt_ctx\": \"Chị xin sắp xếp lịch khám, số liên lạc 0326070090.\"},\n",
        "    {\"sdt\": \"0795981835\", \"sdt_ctx\": \"Số 0795981835, anh cần hẹn bác sĩ tuần này.\"},\n",
        "    {\"sdt\": \"0885279662\", \"sdt_ctx\": \"Em muốn kiểm tra sức khỏe, liên hệ 0885279662.\"},\n",
        "    {\"sdt\": \"0946997471\", \"sdt_ctx\": \"0946997471 là số của chú, xin đặt lịch khám.\"},\n",
        "    {\"sdt\": \"0944261096\", \"sdt_ctx\": \"Chị vui lòng tư vấn y tế, số liên lạc 0944261096.\"},\n",
        "    {\"sdt\": \"0368840982\", \"sdt_ctx\": \"Số của anh 0368840982, anh cần hẹn khám gấp.\"},\n",
        "    {\"sdt\": \"0933493351\", \"sdt_ctx\": \"0933493351, em xin đặt lịch kiểm tra sức khỏe.\"},\n",
        "    {\"sdt\": \"0766364948\", \"sdt_ctx\": \"Bác cần tư vấn bác sĩ, liên hệ 0766364948.\"},\n",
        "    {\"sdt\": \"0356516091\", \"sdt_ctx\": \"Số 0356516091, chị xin sắp xếp lịch khám.\"},\n",
        "    {\"sdt\": \"0347958657\", \"sdt_ctx\": \"0347958657 là số của anh, anh muốn hẹn bác sĩ.\"},\n",
        "    {\"sdt\": \"0789663697\", \"sdt_ctx\": \"Em vui lòng đặt lịch khám gấp, số 0789663697.\"},\n",
        "    {\"sdt\": \"0336611898\", \"sdt_ctx\": \"Số của chú 0336611898, chú xin tư vấn y tế.\"},\n",
        "    {\"sdt\": \"0964756531\", \"sdt_ctx\": \"0964756531, chị cần kiểm tra sức khỏe định kỳ.\"},\n",
        "    {\"sdt\": \"0860492607\", \"sdt_ctx\": \"Anh xin hẹn khám bác sĩ, liên hệ 0860492607.\"},\n",
        "    {\"sdt\": \"0353732596\", \"sdt_ctx\": \"Số 0353732596, em muốn đặt lịch khám sớm.\"},\n",
        "    {\"sdt\": \"0829637772\", \"sdt_ctx\": \"0829637772 là số của bác, xin đặt lịch khám.\"},\n",
        "    {\"sdt\": \"0999014133\", \"sdt_ctx\": \"Chị vui lòng liên hệ 0999014133 để hẹn khám.\"},\n",
        "    {\"sdt\": \"0374138241\", \"sdt_ctx\": \"Số của anh 0374138241, anh cần tư vấn bác sĩ.\"},\n",
        "    {\"sdt\": \"0339354806\", \"sdt_ctx\": \"0339354806, em xin sắp xếp lịch khám định kỳ.\"},\n",
        "    {\"sdt\": \"0329338900\", \"sdt_ctx\": \"Chú muốn kiểm tra sức khỏe, số 0329338900.\"},\n",
        "    {\"sdt\": \"0925136565\", \"sdt_ctx\": \"Số 0925136565, chị xin đặt lịch khám gấp.\"},\n",
        "    {\"sdt\": \"0373055524\", \"sdt_ctx\": \"0373055524 là số của anh, xin hẹn bác sĩ.\"},\n",
        "    {\"sdt\": \"0908916659\", \"sdt_ctx\": \"Em vui lòng tư vấn y tế, liên hệ 0908916659.\"},\n",
        "    {\"sdt\": \"0888737259\", \"sdt_ctx\": \"Số của bác 0888737259, bác cần kiểm tra sức khỏe.\"},\n",
        "    {\"sdt\": \"0340439236\", \"sdt_ctx\": \"0340439236, chị xin đặt lịch khám tuần tới.\"},\n",
        "    {\"sdt\": \"0905027162\", \"sdt_ctx\": \"Anh muốn hẹn khám gấp, số liên lạc 0905027162.\"},\n",
        "    {\"sdt\": \"0776316620\", \"sdt_ctx\": \"Số 0776316620, em xin sắp xếp lịch khám.\"},\n",
        "    {\"sdt\": \"0343845660\", \"sdt_ctx\": \"0343845660 là số của chú, xin tư vấn y tế.\"},\n",
        "    {\"sdt\": \"0906002059\", \"sdt_ctx\": \"Chị vui lòng đặt lịch khám, số của chị 0906002059.\"},\n",
        "    {\"sdt\": \"0912898019\", \"sdt_ctx\": \"Số 0912898019, anh cần kiểm tra sức khỏe.\"},\n",
        "    {\"sdt\": \"0993514846\", \"sdt_ctx\": \"0993514846, em xin hẹn khám bác sĩ sớm.\"},\n",
        "    {\"sdt\": \"0839544849\", \"sdt_ctx\": \"Bác muốn tư vấn y tế, liên hệ 0839544849.\"},\n",
        "    {\"sdt\": \"0869092707\", \"sdt_ctx\": \"Số của chị 0869092707, chị xin đặt lịch khám.\"},\n",
        "    {\"sdt\": \"0843194116\", \"sdt_ctx\": \"0843194116, anh cần sắp xếp cuộc hẹn gấp.\"},\n",
        "    {\"sdt\": \"0972681385\", \"sdt_ctx\": \"Em vui lòng liên hệ 0972681385 để hẹn khám.\"},\n",
        "    {\"sdt\": \"0341603135\", \"sdt_ctx\": \"Số 0341603135, chú muốn kiểm tra sức khỏe.\"},\n",
        "    {\"sdt\": \"0845522837\", \"sdt_ctx\": \"0845522837 là số của chị, xin đặt lịch khám.\"},\n",
        "    {\"sdt\": \"0344773910\", \"sdt_ctx\": \"Anh cần hẹn bác sĩ, liên hệ 0344773910.\"},\n",
        "    {\"sdt\": \"0891790383\", \"sdt_ctx\": \"Số của em 0891790383, em xin tư vấn y tế.\"},\n",
        "    {\"sdt\": \"0791393400\", \"sdt_ctx\": \"0791393400, bác xin sắp xếp lịch khám định kỳ.\"},\n",
        "    {\"sdt\": \"0864317672\", \"sdt_ctx\": \"Chị vui lòng đặt lịch khám gấp, số 0864317672.\"},\n",
        "    {\"sdt\": \"0972179473\", \"sdt_ctx\": \"Số 0972179473, anh cần kiểm tra sức khỏe.\"},\n",
        "    {\"sdt\": \"0334923003\", \"sdt_ctx\": \"0334923003 là số của em, xin hẹn bác sĩ.\"},\n",
        "    {\"sdt\": \"0356044119\", \"sdt_ctx\": \"Chú muốn tư vấn y tế, liên hệ 0356044119.\"},\n",
        "    {\"sdt\": \"0819024314\", \"sdt_ctx\": \"Số của chị 0819024314, chị xin đặt lịch khám.\"},\n",
        "    {\"sdt\": \"0371384646\", \"sdt_ctx\": \"0371384646, anh xin sắp xếp cuộc hẹn gấp.\"},\n",
        "    {\"sdt\": \"0787608932\", \"sdt_ctx\": \"Em vui lòng liên hệ 0787608932 để hẹn khám.\"},\n",
        "    {\"sdt\": \"0816248793\", \"sdt_ctx\": \"Số 0816248793, bác cần kiểm tra sức khỏe.\"},\n",
        "    {\"sdt\": \"0942398235\", \"sdt_ctx\": \"0942398235 là số của chị, xin đặt lịch khám.\"},\n",
        "    {\"sdt\": \"0904018981\", \"sdt_ctx\": \"Anh muốn hẹn bác sĩ, liên hệ 0904018981.\"},\n",
        "    {\"sdt\": \"0905617700\", \"sdt_ctx\": \"Chị cần đặt lịch khám, số chị là 0905617700 nha.\"},\n",
        "    {\"sdt\": \"0853622087\", \"sdt_ctx\": \"Em ơi, 0853622087 đây, giúp anh hỏi bác sĩ mai có làm không.\"},\n",
        "    {\"sdt\": \"0886405450\", \"sdt_ctx\": \"0886405450, anh muốn hẹn kiểm tra sức khỏe.\"},\n",
        "    {\"sdt\": \"0598340215\", \"sdt_ctx\": \"Chú cần khám gấp, liên lạc qua 0598340215 nhé.\"},\n",
        "    {\"sdt\": \"0851964967\", \"sdt_ctx\": \"Số chị 0851964967, đặt giúp chị lịch khám tuần này.\"},\n",
        "    {\"sdt\": \"0967488191\", \"sdt_ctx\": \"Em muốn hỏi dịch vụ bệnh viện, số em 0967488191.\"},\n",
        "    {\"sdt\": \"0964219988\", \"sdt_ctx\": \"0964219988 là số anh, hẹn khám định kỳ giúp anh.\"},\n",
        "    {\"sdt\": \"0702648892\", \"sdt_ctx\": \"Chị cần tư vấn khám, liên hệ 0702648892 nha.\"},\n",
        "    {\"sdt\": \"0845979346\", \"sdt_ctx\": \"Số chú 0845979346, hỏi lịch bác sĩ cuối tuần được không?\"},\n",
        "    {\"sdt\": \"0351156279\", \"sdt_ctx\": \"0351156279, em cần đặt lịch khám nhanh.\"},\n",
        "    {\"sdt\": \"0561884658\", \"sdt_ctx\": \"Anh muốn hẹn khám, số anh là 0561884658.\"},\n",
        "    {\"sdt\": \"0340868690\", \"sdt_ctx\": \"Chị gọi từ 0340868690, đặt lịch khám giùm chị.\"},\n",
        "    {\"sdt\": \"0862937641\", \"sdt_ctx\": \"0862937641 đây, chú cần khám sức khỏe gấp.\"},\n",
        "    {\"sdt\": \"0381361190\", \"sdt_ctx\": \"Em ơi, số chị 0381361190, hỏi bác sĩ có rảnh không?\"},\n",
        "    {\"sdt\": \"0968698788\", \"sdt_ctx\": \"Số anh 0968698788, hẹn khám tuần sau nhé.\"},\n",
        "    {\"sdt\": \"0940427502\", \"sdt_ctx\": \"0940427502, chị muốn kiểm tra sức khỏe định kỳ.\"},\n",
        "    {\"sdt\": \"0860671307\", \"sdt_ctx\": \"Chú cần tư vấn dịch vụ, liên lạc 0860671307.\"},\n",
        "    {\"sdt\": \"0773963330\", \"sdt_ctx\": \"Số em 0773963330, đặt lịch khám giúp em nha.\"},\n",
        "    {\"sdt\": \"0356493040\", \"sdt_ctx\": \"0356493040 là số anh, hỏi lịch khám thứ 7.\"},\n",
        "    {\"sdt\": \"0361953883\", \"sdt_ctx\": \"Chị cần hẹn khám gấp, số chị 0361953883.\"},\n",
        "    {\"sdt\": \"0588962565\", \"sdt_ctx\": \"0588962565, em muốn hỏi về dịch vụ bệnh viện.\"},\n",
        "    {\"sdt\": \"0380521102\", \"sdt_ctx\": \"Anh gọi từ 0380521102, đặt lịch khám giùm anh.\"},\n",
        "    {\"sdt\": \"0342319955\", \"sdt_ctx\": \"Số chú 0342319955, hẹn khám định kỳ nhé.\"},\n",
        "    {\"sdt\": \"0376130867\", \"sdt_ctx\": \"0376130867 đây, chị cần tư vấn khám nhanh.\"},\n",
        "    {\"sdt\": \"0584515204\", \"sdt_ctx\": \"Em ơi, số anh 0584515204, đặt lịch khám gấp.\"},\n",
        "    {\"sdt\": \"0948166047\", \"sdt_ctx\": \"Số chị 0948166047, hỏi bác sĩ mai có làm không?\"},\n",
        "    {\"sdt\": \"0590246584\", \"sdt_ctx\": \"0590246584, chú muốn hẹn kiểm tra sức khỏe.\"},\n",
        "    {\"sdt\": \"0898537251\", \"sdt_ctx\": \"Anh cần đặt lịch khám, liên lạc 0898537251 nha.\"},\n",
        "    {\"sdt\": \"0827777920\", \"sdt_ctx\": \"Số em 0827777920, giúp em hỏi dịch vụ khám.\"},\n",
        "    {\"sdt\": \"0588637660\", \"sdt_ctx\": \"0588637660 là số chị, hẹn khám tuần này.\"},\n",
        "    {\"sdt\": \"0888702448\", \"sdt_ctx\": \"Chú gọi từ 0888702448, đặt lịch khám giùm chú.\"},\n",
        "    {\"sdt\": \"0363638353\", \"sdt_ctx\": \"Số anh 0363638353, hỏi lịch bác sĩ thứ 6.\"},\n",
        "    {\"sdt\": \"0960788287\", \"sdt_ctx\": \"0960788287, chị cần tư vấn dịch vụ bệnh viện.\"},\n",
        "    {\"sdt\": \"0834129353\", \"sdt_ctx\": \"Em muốn hẹn khám, số em 0834129353 nha.\"},\n",
        "    {\"sdt\": \"0972156984\", \"sdt_ctx\": \"Số chú 0972156984, đặt lịch khám gấp giúp chú.\"},\n",
        "    {\"sdt\": \"0592565356\", \"sdt_ctx\": \"0592565356 đây, anh cần kiểm tra sức khỏe.\"},\n",
        "    {\"sdt\": \"0966453079\", \"sdt_ctx\": \"Chị gọi từ 0966453079, hẹn khám định kỳ nhé.\"},\n",
        "    {\"sdt\": \"0381566697\", \"sdt_ctx\": \"Số em 0381566697, hỏi bác sĩ có rảnh không?\"},\n",
        "    {\"sdt\": \"0597504828\", \"sdt_ctx\": \"0597504828, chú muốn tư vấn khám nhanh.\"},\n",
        "    {\"sdt\": \"0830774799\", \"sdt_ctx\": \"Anh cần đặt lịch khám, liên lạc 0830774799.\"},\n",
        "    {\"sdt\": \"0341734947\", \"sdt_ctx\": \"Số chị 0341734947, đặt lịch khám thứ 5 giùm.\"},\n",
        "    {\"sdt\": \"0904472208\", \"sdt_ctx\": \"0904472208 là số em, hẹn khám gấp nha.\"},\n",
        "    {\"sdt\": \"0821510589\", \"sdt_ctx\": \"Chú gọi từ 0821510589, hỏi dịch vụ bệnh viện.\"},\n",
        "    {\"sdt\": \"0864456320\", \"sdt_ctx\": \"Số anh 0864456320, hẹn kiểm tra sức khỏe.\"},\n",
        "    {\"sdt\": \"0364818608\", \"sdt_ctx\": \"0364818608, chị cần đặt lịch khám nhanh.\"},\n",
        "    {\"sdt\": \"0979829284\", \"sdt_ctx\": \"Em ơi, số chú 0979829284, đặt lịch khám giùm.\"},\n",
        "    {\"sdt\": \"0907920085\", \"sdt_ctx\": \"Số chị 0907920085, hỏi bác sĩ tuần này rảnh không?\"},\n",
        "    {\"sdt\": \"0971867880\", \"sdt_ctx\": \"0971867880 đây, anh muốn hẹn khám định kỳ.\"},\n",
        "    {\"sdt\": \"0991732168\", \"sdt_ctx\": \"Chú cần tư vấn dịch vụ, liên lạc 0991732168.\"},\n",
        "    {\"sdt\": \"0330101694\", \"sdt_ctx\": \"Số em 0330101694, đặt lịch khám tuần sau nha.\"},\n",
        "    {\"sdt\": \"0340984413\", \"sdt_ctx\": \"0340984413, chị muốn hỏi về dịch vụ khám.\"},\n",
        "    {\"sdt\": \"0967923477\", \"sdt_ctx\": \"Anh gọi từ 0967923477, hẹn khám gấp giùm.\"},\n",
        "    {\"sdt\": \"0596005403\", \"sdt_ctx\": \"Số chú 0596005403, đặt lịch kiểm tra sức khỏe.\"},\n",
        "    {\"sdt\": \"0866082709\", \"sdt_ctx\": \"0866082709 là số em, hỏi bác sĩ mai làm không?\"},\n",
        "    {\"sdt\": \"0914649130\", \"sdt_ctx\": \"Chị cần hẹn khám, liên lạc 0914649130 nha.\"},\n",
        "    {\"sdt\": \"0911467165\", \"sdt_ctx\": \"Số anh 0911467165, đặt lịch khám thứ 4.\"},\n",
        "    {\"sdt\": \"0563635636\", \"sdt_ctx\": \"0563635636, em muốn tư vấn dịch vụ bệnh viện.\"},\n",
        "    {\"sdt\": \"0811461134\", \"sdt_ctx\": \"Chú gọi từ 0811461134, hẹn khám định kỳ nhé.\"},\n",
        "    {\"sdt\": \"0597594305\", \"sdt_ctx\": \"Số chị 0597594305, đặt lịch khám gấp giùm.\"},\n",
        "    {\"sdt\": \"0560397927\", \"sdt_ctx\": \"0560397927 đây, anh cần kiểm tra sức khỏe.\"},\n",
        "    {\"sdt\": \"0764160640\", \"sdt_ctx\": \"Em ơi, số chú 0764160640, hỏi lịch bác sĩ.\"},\n",
        "    {\"sdt\": \"0903171541\", \"sdt_ctx\": \"Số chị 0903171541, hẹn khám tuần này nha.\"},\n",
        "    {\"sdt\": \"0823485783\", \"sdt_ctx\": \"0823485783, anh muốn đặt lịch khám nhanh.\"},\n",
        "    {\"sdt\": \"0832705862\", \"sdt_ctx\": \"Chú cần tư vấn khám, liên lạc 0832705862.\"},\n",
        "    {\"sdt\": \"0888540448\", \"sdt_ctx\": \"Số em 0888540448, đặt lịch khám thứ 6.\"},\n",
        "    {\"sdt\": \"0363930178\", \"sdt_ctx\": \"0363930178 là số chị, hỏi dịch vụ bệnh viện.\"},\n",
        "    {\"sdt\": \"0367424204\", \"sdt_ctx\": \"Anh gọi từ 0367424204, hẹn khám gấp nha.\"},\n",
        "    {\"sdt\": \"0785846288\", \"sdt_ctx\": \"Số chú 0785846288, đặt lịch kiểm tra sức khỏe.\"},\n",
        "    {\"sdt\": \"0935089924\", \"sdt_ctx\": \"0935089924, em muốn hẹn khám định kỳ.\"},\n",
        "    {\"sdt\": \"0863508884\", \"sdt_ctx\": \"Chị cần hỏi bác sĩ, liên lạc 0863508884.\"},\n",
        "    {\"sdt\": \"0835783234\", \"sdt_ctx\": \"Số anh 0835783234, đặt lịch khám tuần sau.\"},\n",
        "    {\"sdt\": \"0381539916\", \"sdt_ctx\": \"0381539916 đây, chú muốn tư vấn dịch vụ.\"},\n",
        "    {\"sdt\": \"0366180440\", \"sdt_ctx\": \"Em ơi, số chị 0366180440, hẹn khám nhanh.\"},\n",
        "    {\"sdt\": \"0979791449\", \"sdt_ctx\": \"Số em 0979791449, hỏi lịch bác sĩ thứ 7.\"},\n",
        "    {\"sdt\": \"0582219634\", \"sdt_ctx\": \"0582219634, anh cần đặt lịch khám gấp.\"},\n",
        "    {\"sdt\": \"0373360706\", \"sdt_ctx\": \"Chú gọi từ 0373360706, hẹn kiểm tra sức khỏe.\"},\n",
        "    {\"sdt\": \"0821355820\", \"sdt_ctx\": \"Số chị 0821355820, đặt lịch khám định kỳ.\"},\n",
        "    {\"sdt\": \"0703999694\", \"sdt_ctx\": \"0703999694 là số em, hỏi dịch vụ khám nha.\"},\n",
        "    {\"sdt\": \"0971034078\", \"sdt_ctx\": \"Anh cần hẹn khám, liên lạc 0971034078.\"},\n",
        "    {\"sdt\": \"0941373813\", \"sdt_ctx\": \"Số chú 0941373813, đặt lịch khám thứ 5.\"},\n",
        "    {\"sdt\": \"0587538094\", \"sdt_ctx\": \"0587538094, chị muốn tư vấn dịch vụ bệnh viện.\"},\n",
        "    {\"sdt\": \"0891283860\", \"sdt_ctx\": \"Em gọi từ 0891283860, hẹn khám gấp giùm.\"},\n",
        "    {\"sdt\": \"0338400145\", \"sdt_ctx\": \"Số anh 0338400145, đặt lịch kiểm tra sức khỏe.\"},\n",
        "    {\"sdt\": \"0786880789\", \"sdt_ctx\": \"0786880789 đây, chú cần hẹn khám nhanh.\"},\n",
        "    {\"sdt\": \"0940588221\", \"sdt_ctx\": \"Chị cần hỏi bác sĩ, số chị 0940588221.\"},\n",
        "    {\"sdt\": \"0978921788\", \"sdt_ctx\": \"Số em 0978921788, đặt lịch khám tuần này.\"},\n",
        "    {\"sdt\": \"0770344757\", \"sdt_ctx\": \"0770344757, anh muốn hẹn khám định kỳ.\"},\n",
        "    {\"sdt\": \"0934956601\", \"sdt_ctx\": \"Chú gọi từ 0934956601, hỏi dịch vụ bệnh viện.\"},\n",
        "    {\"sdt\": \"0374008203\", \"sdt_ctx\": \"Số chị 0374008203, đặt lịch khám gấp nha.\"},\n",
        "    {\"sdt\": \"0903362537\", \"sdt_ctx\": \"0903362537 là số em, hẹn kiểm tra sức khỏe.\"},\n",
        "    {\"sdt\": \"0361704560\", \"sdt_ctx\": \"Anh cần tư vấn khám, liên lạc 0361704560.\"},\n",
        "    {\"sdt\": \"0592379853\", \"sdt_ctx\": \"Số chú 0592379853, đặt lịch khám thứ 4.\"},\n",
        "    {\"sdt\": \"0908637185\", \"sdt_ctx\": \"0908637185, chị muốn hỏi lịch bác sĩ.\"},\n",
        "    {\"sdt\": \"0820634249\", \"sdt_ctx\": \"Em gọi từ 0820634249, hẹn khám nhanh giùm.\"},\n",
        "    {\"sdt\": \"0561102516\", \"sdt_ctx\": \"Số anh 0561102516, đặt lịch khám định kỳ.\"},\n",
        "    {\"sdt\": \"0774565012\", \"sdt_ctx\": \"0774565012 đây, chú cần tư vấn dịch vụ.\"},\n",
        "    {\"sdt\": \"0994231200\", \"sdt_ctx\": \"Chị cần hẹn khám, số chị 0994231200 nha.\"},\n",
        "    {\"sdt\": \"0836004270\", \"sdt_ctx\": \"Số em 0836004270, đặt lịch khám thứ 6.\"},\n",
        "    {\"sdt\": \"0936918644\", \"sdt_ctx\": \"0936918644, anh muốn kiểm tra sức khỏe.\"},\n",
        "\t{\"sdt\": \"0343618309\", \"sdt_ctx\": \"Chú gọi từ 0343618309, hẹn khám gấp nhé.\"},\n",
        "\t{\"sdt\": \"0998994338\", \"sdt_ctx\": \"e ơi, sdt c là 0998994338, đặt lịch khám giúp c nhé\"},\n",
        "\t{\"sdt\": \"0323998139\", \"sdt_ctx\": \"0323998139, t cần tư vấn y tế gấp\"},\n",
        "\t{\"sdt\": \"0882978778\", \"sdt_ctx\": \"a đặt lịch khám, sdt a 0882978778\"},\n",
        "\t{\"sdt\": \"0914318130\", \"sdt_ctx\": \"sdt 0914318130 đây, e book lịch khám cho c nha\"},\n",
        "\t{\"sdt\": \"0864751583\", \"sdt_ctx\": \"t cần khám, sdt là 0864751583\"},\n",
        "\t{\"sdt\": \"0796592584\", \"sdt_ctx\": \"0796592584, c cần hẹn bác sĩ sớm\"},\n",
        "\t{\"sdt\": \"0361423947\", \"sdt_ctx\": \"e ơi, a cần tư vấn, sdt a 0361423947\"},\n",
        "\t{\"sdt\": \"0943967817\", \"sdt_ctx\": \"sdt c 0943967817, đặt lịch khám dùm c\"},\n",
        "\t{\"sdt\": \"0856805828\", \"sdt_ctx\": \"0856805828 là sdt t, t cần khám định kỳ\"},\n",
        "\t{\"sdt\": \"0917262786\", \"sdt_ctx\": \"a cần hẹn khám, sdt 0917262786 nè\"},\n",
        "\t{\"sdt\": \"0915163217\", \"sdt_ctx\": \"sdt 0915163217, e đặt lịch khám giúp a\"},\n",
        "\t{\"sdt\": \"0792564193\", \"sdt_ctx\": \"c cần tư vấn y tế, sdt c 0792564193\"},\n",
        "\t{\"sdt\": \"0338108972\", \"sdt_ctx\": \"0338108972, t muốn đặt lịch khám\"},\n",
        "\t{\"sdt\": \"0586818556\", \"sdt_ctx\": \"e book lịch khám cho c, sdt 0586818556\"},\n",
        "\t{\"sdt\": \"0823532115\", \"sdt_ctx\": \"sdt a là 0823532115, a cần hẹn bác sĩ\"},\n",
        "\t{\"sdt\": \"0970026486\", \"sdt_ctx\": \"t cần khám gấp, sdt t 0970026486\"},\n",
        "\t{\"sdt\": \"0897661622\", \"sdt_ctx\": \"0897661622, c cần tư vấn sức khỏe\"},\n",
        "\t{\"sdt\": \"0324146914\", \"sdt_ctx\": \"e ơi, sdt a 0324146914, đặt lịch khám nha\"},\n",
        "\t{\"sdt\": \"0363096350\", \"sdt_ctx\": \"sdt 0363096350, t cần hẹn khám sớm\"},\n",
        "\t{\"sdt\": \"0369161740\", \"sdt_ctx\": \"c cần khám, sdt c là 0369161740\"},\n",
        "\t{\"sdt\": \"0323136991\", \"sdt_ctx\": \"0323136991, a muốn tư vấn y tế\"},\n",
        "\t{\"sdt\": \"0586154551\", \"sdt_ctx\": \"sdt t 0586154551, đặt lịch khám cho t\"},\n",
        "\t{\"sdt\": \"0813693577\", \"sdt_ctx\": \"e ơi, c cần hẹn bác sĩ, sdt 0813693577\"},\n",
        "\t{\"sdt\": \"0826257719\", \"sdt_ctx\": \"a cần khám định kỳ, sdt a 0826257719\"},\n",
        "\t{\"sdt\": \"0377071881\", \"sdt_ctx\": \"sdt 0377071881, t cần tư vấn gấp\"},\n",
        "\t{\"sdt\": \"0344162659\", \"sdt_ctx\": \"0344162659 là sdt c, đặt lịch khám nha\"},\n",
        "\t{\"sdt\": \"0831351283\", \"sdt_ctx\": \"t cần hẹn khám, sdt t 0831351283\"},\n",
        "\t{\"sdt\": \"0849400840\", \"sdt_ctx\": \"sdt a 0849400840, a muốn tư vấn y tế\"},\n",
        "\t{\"sdt\": \"0706388145\", \"sdt_ctx\": \"e book lịch cho c, sdt c 0706388145\"},\n",
        "\t{\"sdt\": \"0794187113\", \"sdt_ctx\": \"0794187113, t cần khám sức khỏe\"},\n",
        "\t{\"sdt\": \"0767983333\", \"sdt_ctx\": \"sdt t là 0767983333, đặt lịch khám đi e\"},\n",
        "\t{\"sdt\": \"0764654582\", \"sdt_ctx\": \"a cần hẹn bác sĩ, sdt a 0764654582\"},\n",
        "\t{\"sdt\": \"0846389754\", \"sdt_ctx\": \"sdt 0846389754, c cần tư vấn y tế\"},\n",
        "\t{\"sdt\": \"0949369610\", \"sdt_ctx\": \"t cần khám gấp, sdt t 0949369610\"},\n",
        "\t{\"sdt\": \"0921609275\", \"sdt_ctx\": \"0921609275, e đặt lịch khám cho a nha\"},\n",
        "\t{\"sdt\": \"0817572573\", \"sdt_ctx\": \"sdt c 0817572573, c muốn hẹn bác sĩ\"},\n",
        "\t{\"sdt\": \"0901851421\", \"sdt_ctx\": \"a cần tư vấn, sdt a là 0901851421\"},\n",
        "\t{\"sdt\": \"0868036048\", \"sdt_ctx\": \"sdt 0868036048, t cần khám định kỳ\"},\n",
        "\t{\"sdt\": \"0566948879\", \"sdt_ctx\": \"e ơi, sdt c 0566948879, book lịch khám\"},\n",
        "\t{\"sdt\": \"0320752153\", \"sdt_ctx\": \"0320752153, a cần hẹn khám sớm\"},\n",
        "\t{\"sdt\": \"0390452309\", \"sdt_ctx\": \"t cần tư vấn y tế, sdt t 0390452309\"},\n",
        "\t{\"sdt\": \"0323020563\", \"sdt_ctx\": \"sdt a 0323020563, đặt lịch khám nha\"},\n",
        "\t{\"sdt\": \"0396891444\", \"sdt_ctx\": \"0396891444, c cần hẹn bác sĩ gấp\"},\n",
        "\t{\"sdt\": \"0598874131\", \"sdt_ctx\": \"e book lịch khám, sdt t 0598874131\"},\n",
        "\t{\"sdt\": \"0854380895\", \"sdt_ctx\": \"sdt 0854380895, a cần tư vấn sức khỏe\"},\n",
        "\t{\"sdt\": \"0395996386\", \"sdt_ctx\": \"t cần khám, sdt t là 0395996386\"},\n",
        "\t{\"sdt\": \"0866723873\", \"sdt_ctx\": \"0866723873, c cần đặt lịch khám\"},\n",
        "\t{\"sdt\": \"0703737832\", \"sdt_ctx\": \"sdt a 0703737832, a muốn hẹn bác sĩ\"},\n",
        "\t{\"sdt\": \"0358501050\", \"sdt_ctx\": \"e ơi, sdt t 0358501050, book lịch nha\"},\n",
        "\t{\"sdt\": \"0853515319\", \"sdt_ctx\": \"t cần tư vấn, sdt t 0853515319\"},\n",
        "\t{\"sdt\": \"0354255633\", \"sdt_ctx\": \"sdt 0354255633, c cần khám định kỳ\"},\n",
        "\t{\"sdt\": \"0939585961\", \"sdt_ctx\": \"0939585961, a cần hẹn khám gấp\"},\n",
        "\t{\"sdt\": \"0929730103\", \"sdt_ctx\": \"sdt t 0929730103, đặt lịch khám cho t\"},\n",
        "\t{\"sdt\": \"0588349377\", \"sdt_ctx\": \"e book lịch, sdt c 0588349377 nha\"},\n",
        "\t{\"sdt\": \"0343080034\", \"sdt_ctx\": \"t cần tư vấn y tế, sdt t 0343080034\"},\n",
        "\t{\"sdt\": \"0336910043\", \"sdt_ctx\": \"sdt a 0336910043, a muốn khám sớm\"},\n",
        "\t{\"sdt\": \"0929043686\", \"sdt_ctx\": \"0929043686, c cần hẹn bác sĩ\"},\n",
        "\t{\"sdt\": \"0932138645\", \"sdt_ctx\": \"sdt t 0932138645, t cần khám gấp\"},\n",
        "\t{\"sdt\": \"0382902949\", \"sdt_ctx\": \"e ơi, sdt a 0382902949, đặt lịch khám\"},\n",
        "\t{\"sdt\": \"0334367255\", \"sdt_ctx\": \"t cần tư vấn, sdt t là 0334367255\"},\n",
        "\t{\"sdt\": \"0887447741\", \"sdt_ctx\": \"sdt 0887447741, c cần khám định kỳ\"},\n",
        "\t{\"sdt\": \"0332239622\", \"sdt_ctx\": \"0332239622, a cần hẹn bác sĩ gấp\"},\n",
        "\t{\"sdt\": \"0372744121\", \"sdt_ctx\": \"sdt t 0372744121, đặt lịch khám nha\"},\n",
        "\t{\"sdt\": \"0996584531\", \"sdt_ctx\": \"e book lịch, sdt c 0996584531\"},\n",
        "\t{\"sdt\": \"0561597653\", \"sdt_ctx\": \"t cần tư vấn y tế, sdt t 0561597653\"},\n",
        "\t{\"sdt\": \"0994057675\", \"sdt_ctx\": \"sdt a 0994057675, a muốn khám sớm\"},\n",
        "\t{\"sdt\": \"0378283412\", \"sdt_ctx\": \"0378283412, c cần hẹn bác sĩ\"},\n",
        "\t{\"sdt\": \"0845664923\", \"sdt_ctx\": \"sdt t 0845664923, t cần khám gấp\"},\n",
        "\t{\"sdt\": \"0812177061\", \"sdt_ctx\": \"e ơi, sdt a 0812177061, đặt lịch nha\"},\n",
        "\t{\"sdt\": \"0831616523\", \"sdt_ctx\": \"t cần tư vấn, sdt t là 0831616523\"},\n",
        "\t{\"sdt\": \"0996726334\", \"sdt_ctx\": \"sdt 0996726334, c cần khám định kỳ\"},\n",
        "\t{\"sdt\": \"0361465277\", \"sdt_ctx\": \"0361465277, a cần hẹn bác sĩ gấp\"},\n",
        "\t{\"sdt\": \"0793593870\", \"sdt_ctx\": \"sdt t 0793593870, đặt lịch khám nha\"},\n",
        "\t{\"sdt\": \"0336474110\", \"sdt_ctx\": \"e book lịch, sdt c 0336474110\"},\n",
        "\t{\"sdt\": \"0846399173\", \"sdt_ctx\": \"t cần tư vấn y tế, sdt t 0846399173\"},\n",
        "\t{\"sdt\": \"0964636258\", \"sdt_ctx\": \"sdt a 0964636258, a muốn khám sớm\"},\n",
        "\t{\"sdt\": \"0387329037\", \"sdt_ctx\": \"0387329037, c cần hẹn bác sĩ\"},\n",
        "\t{\"sdt\": \"0320143601\", \"sdt_ctx\": \"sdt t 0320143601, t cần khám gấp\"},\n",
        "\t{\"sdt\": \"0934595932\", \"sdt_ctx\": \"e ơi, sdt a 0934595932, đặt lịch nha\"},\n",
        "\t{\"sdt\": \"0837173006\", \"sdt_ctx\": \"t cần tư vấn, sdt t là 0837173006\"},\n",
        "\t{\"sdt\": \"0562952798\", \"sdt_ctx\": \"sdt 0562952798, c cần khám định kỳ\"},\n",
        "\t{\"sdt\": \"0387290499\", \"sdt_ctx\": \"0387290499, a cần hẹn bác sĩ gấp\"},\n",
        "\t{\"sdt\": \"0853128100\", \"sdt_ctx\": \"sdt t 0853128100, đặt lịch khám nha\"},\n",
        "\t{\"sdt\": \"0864442311\", \"sdt_ctx\": \"e book lịch, sdt c 0864442311\"},\n",
        "\t{\"sdt\": \"0598762301\", \"sdt_ctx\": \"t cần tư vấn y tế, sdt t 0598762301\"},\n",
        "\t{\"sdt\": \"0888403133\", \"sdt_ctx\": \"sdt a 0888403133, a muốn khám sớm\"},\n",
        "\t{\"sdt\": \"0924528167\", \"sdt_ctx\": \"0924528167, c cần hẹn bác sĩ\"},\n",
        "\t{\"sdt\": \"0762104017\", \"sdt_ctx\": \"sdt t 0762104017, t cần khám gấp\"},\n",
        "\t{\"sdt\": \"0899238164\", \"sdt_ctx\": \"e ơi, sdt a 0899238164, đặt lịch nha\"},\n",
        "\t{\"sdt\": \"0911399384\", \"sdt_ctx\": \"t cần tư vấn, sdt t là 0911399384\"},\n",
        "\t{\"sdt\": \"0918027682\", \"sdt_ctx\": \"sdt 0918027682, c cần khám định kỳ\"},\n",
        "\t{\"sdt\": \"0337272761\", \"sdt_ctx\": \"0337272761, a cần hẹn bác sĩ gấp\"},\n",
        "\t{\"sdt\": \"0881020883\", \"sdt_ctx\": \"sdt t 0881020883, đặt lịch khám nha\"},\n",
        "\t{\"sdt\": \"0566410819\", \"sdt_ctx\": \"e book lịch, sdt c 0566410819\"},\n",
        "\t{\"sdt\": \"0896912565\", \"sdt_ctx\": \"t cần tư vấn y tế, sdt t 0896912565\"},\n",
        "\t{\"sdt\": \"0766512270\", \"sdt_ctx\": \"sdt a 0766512270, a muốn khám sớm\"},\n",
        "\t{\"sdt\": \"0352253828\", \"sdt_ctx\": \"0352253828, c cần hẹn bác sĩ\"},\n",
        "\t{\"sdt\": \"0355394937\", \"sdt_ctx\": \"sdt t 0355394937, t cần khám gấp\"},\n",
        "\t{\"sdt\": \"0329930632\", \"sdt_ctx\": \"e ơi, sdt a 0329930632, đặt lịch nha\"},\n",
        "\t{\"sdt\": \"0948012619\", \"sdt_ctx\": \"t cần tư vấn, sdt t là 0948012619\"},\n",
        "\t{\"sdt\": \"0378756123\", \"sdt_ctx\": \"E ơi, c muốn đặt lịch khám, sdt c là 0378756123 ạ\"},\n",
        "\t{\"sdt\": \"0339051418\", \"sdt_ctx\": \"T cần tư vấn y tế, sdt t là 0339051418, cảm ơn e\"},\n",
        "\t{\"sdt\": \"0768616230\", \"sdt_ctx\": \"A xin lịch khám, sdt a 0768616230, nhờ e hỗ trợ\"},\n",
        "\t{\"sdt\": \"0762870291\", \"sdt_ctx\": \"Sdt 0762870291, e đặt giúp c cuộc hẹn khám nhé\"},\n",
        "\t{\"sdt\": \"0765084985\", \"sdt_ctx\": \"T mong được khám định kỳ, sdt t 0765084985 ạ\"},\n",
        "\t{\"sdt\": \"0948545136\", \"sdt_ctx\": \"C cần hẹn bác sĩ, sdt c là 0948545136, cảm ơn e\"},\n",
        "\t{\"sdt\": \"0903391702\", \"sdt_ctx\": \"0903391702 là sdt a, a cần tư vấn sức khỏe ạ\"},\n",
        "\t{\"sdt\": \"0587081094\", \"sdt_ctx\": \"E hỗ trợ t đặt lịch khám, sdt t 0587081094 nhé\"},\n",
        "\t{\"sdt\": \"0985015237\", \"sdt_ctx\": \"Sdt c 0985015237, c muốn đặt lịch khám sớm ạ\"},\n",
        "\t{\"sdt\": \"0914643564\", \"sdt_ctx\": \"A cần hẹn khám, sdt a là 0914643564, nhờ e\"},\n",
        "\t{\"sdt\": \"0560317068\", \"sdt_ctx\": \"T xin tư vấn y tế, sdt t 0560317068, cảm ơn\"},\n",
        "\t{\"sdt\": \"0327937325\", \"sdt_ctx\": \"Sdt 0327937325, e đặt lịch khám giúp c ạ\"},\n",
        "\t{\"sdt\": \"0907763423\", \"sdt_ctx\": \"C cần khám gấp, sdt c 0907763423, e hỗ trợ nhé\"},\n",
        "\t{\"sdt\": \"0843171223\", \"sdt_ctx\": \"A muốn tư vấn, sdt a là 0843171223, cảm ơn e\"},\n",
        "\t{\"sdt\": \"0376310224\", \"sdt_ctx\": \"Sdt t 0376310224, t cần đặt lịch khám định kỳ ạ\"},\n",
        "\t{\"sdt\": \"0777032008\", \"sdt_ctx\": \"E ơi, c cần hẹn bác sĩ, sdt c 0777032008 nhé\"},\n",
        "\t{\"sdt\": \"0896515357\", \"sdt_ctx\": \"T xin lịch khám, sdt t là 0896515357, cảm ơn\"},\n",
        "\t{\"sdt\": \"0885722258\", \"sdt_ctx\": \"Sdt 0885722258, a cần tư vấn y tế, nhờ e ạ\"},\n",
        "\t{\"sdt\": \"0337340878\", \"sdt_ctx\": \"C muốn đặt lịch khám, sdt c 0337340878, e giúp c\"},\n",
        "\t{\"sdt\": \"0329143286\", \"sdt_ctx\": \"Sdt t 0329143286, t cần hẹn khám sớm, cảm ơn\"},\n",
        "\t{\"sdt\": \"0883663287\", \"sdt_ctx\": \"E hỗ trợ a đặt lịch, sdt a 0883663287 ạ\"},\n",
        "\t{\"sdt\": \"0590517391\", \"sdt_ctx\": \"Sdt c 0590517391, c xin tư vấn sức khỏe, nhờ e\"},\n",
        "\t{\"sdt\": \"0942815213\", \"sdt_ctx\": \"T cần khám định kỳ, sdt t là 0942815213, cảm ơn\"},\n",
        "\t{\"sdt\": \"0360321784\", \"sdt_ctx\": \"Sdt 0360321784, a muốn hẹn bác sĩ, e hỗ trợ ạ\"},\n",
        "\t{\"sdt\": \"0709127651\", \"sdt_ctx\": \"C cần tư vấn y tế, sdt c 0709127651, cảm ơn e\"},\n",
        "\t{\"sdt\": \"0849757482\", \"sdt_ctx\": \"Sdt t 0849757482, t xin lịch khám, nhờ e nhé\"},\n",
        "\t{\"sdt\": \"0329303985\", \"sdt_ctx\": \"E ơi, sdt a 0329303985, a cần đặt lịch khám ạ\"},\n",
        "\t{\"sdt\": \"0944563694\", \"sdt_ctx\": \"Sdt c 0944563694, c muốn hẹn khám gấp, cảm ơn\"},\n",
        "\t{\"sdt\": \"0880247035\", \"sdt_ctx\": \"T cần tư vấn, sdt t là 0880247035, e hỗ trợ ạ\"},\n",
        "\t{\"sdt\": \"0930928371\", \"sdt_ctx\": \"Sdt 0930928371, a xin lịch khám định kỳ, nhờ e\"},\n",
        "\t{\"sdt\": \"0811624027\", \"sdt_ctx\": \"C muốn đặt lịch, sdt c 0811624027, cảm ơn e\"},\n",
        "\t{\"sdt\": \"0889932127\", \"sdt_ctx\": \"Sdt t 0889932127, t cần hẹn bác sĩ, e giúp ạ\"},\n",
        "\t{\"sdt\": \"0834048622\", \"sdt_ctx\": \"E hỗ trợ c đặt lịch, sdt c 0834048622 nhé\"},\n",
        "\t{\"sdt\": \"0321607969\", \"sdt_ctx\": \"Sdt a 0321607969, a cần tư vấn y tế, cảm ơn\"},\n",
        "\t{\"sdt\": \"0393514235\", \"sdt_ctx\": \"T xin lịch khám, sdt t là 0393514235, nhờ e\"},\n",
        "\t{\"sdt\": \"0795961930\", \"sdt_ctx\": \"Sdt c 0795961930, c muốn khám định kỳ, e ơi\"},\n",
        "\t{\"sdt\": \"0994470326\", \"sdt_ctx\": \"E ơi, sdt t 0994470326, t cần hẹn khám ạ\"},\n",
        "\t{\"sdt\": \"0377122889\", \"sdt_ctx\": \"Sdt a 0377122889, a xin tư vấn sức khỏe, nhờ e\"},\n",
        "\t{\"sdt\": \"0885483532\", \"sdt_ctx\": \"C cần đặt lịch khám, sdt c 0885483532, cảm ơn\"},\n",
        "\t{\"sdt\": \"0797338195\", \"sdt_ctx\": \"Sdt t 0797338195, t muốn hẹn bác sĩ, e hỗ trợ\"},\n",
        "\t{\"sdt\": \"0937738400\", \"sdt_ctx\": \"E ơi, sdt a 0937738400, a cần lịch khám ạ\"},\n",
        "\t{\"sdt\": \"0850276646\", \"sdt_ctx\": \"Sdt c 0850276646, c xin tư vấn y tế, cảm ơn\"},\n",
        "\t{\"sdt\": \"0821109622\", \"sdt_ctx\": \"T cần khám gấp, sdt t là 0821109622, nhờ e\"},\n",
        "\t{\"sdt\": \"0343485495\", \"sdt_ctx\": \"Sdt a 0343485495, a muốn đặt lịch, e giúp ạ\"},\n",
        "\t{\"sdt\": \"0911763264\", \"sdt_ctx\": \"C xin lịch khám, sdt c 0911763264, cảm ơn e\"},\n",
        "\t{\"sdt\": \"0830247365\", \"sdt_ctx\": \"Sdt t 0830247365, t cần tư vấn, e hỗ trợ nhé\"},\n",
        "\t{\"sdt\": \"0854643115\", \"sdt_ctx\": \"E ơi, sdt a 0854643115, a cần hẹn bác sĩ ạ\"},\n",
        "\t{\"sdt\": \"0852288682\", \"sdt_ctx\": \"Sdt c 0852288682, c muốn khám định kỳ, nhờ e\"},\n",
        "\t{\"sdt\": \"0862425502\", \"sdt_ctx\": \"T xin tư vấn y tế, sdt t là 0862425502, cảm ơn\"},\n",
        "\t{\"sdt\": \"0931415506\", \"sdt_ctx\": \"Sdt a 0931415506, a cần đặt lịch khám, e ơi\"},\n",
        "\t{\"sdt\": \"0905642291\", \"sdt_ctx\": \"C muốn hẹn bác sĩ, sdt c 0905642291, cảm ơn\"},\n",
        "\t{\"sdt\": \"0341226571\", \"sdt_ctx\": \"Sdt t 0341226571, t cần khám gấp, e hỗ trợ ạ\"},\n",
        "\t{\"sdt\": \"0773080635\", \"sdt_ctx\": \"E ơi, sdt a 0773080635, a xin lịch khám nhé\"},\n",
        "\t{\"sdt\": \"0361849419\", \"sdt_ctx\": \"Sdt c 0361849419, c cần tư vấn sức khỏe, nhờ e\"},\n",
        "\t{\"sdt\": \"0775766358\", \"sdt_ctx\": \"T muốn đặt lịch, sdt t là 0775766358, cảm ơn\"},\n",
        "\t{\"sdt\": \"0999183210\", \"sdt_ctx\": \"Sdt a 0999183210, a cần hẹn bác sĩ, e giúp ạ\"},\n",
        "\t{\"sdt\": \"0910031575\", \"sdt_ctx\": \"C xin lịch khám, sdt c 0910031575, cảm ơn e\"},\n",
        "\t{\"sdt\": \"0856425870\", \"sdt_ctx\": \"Sdt t 0856425870, t cần tư vấn y tế, nhờ e\"},\n",
        "\t{\"sdt\": \"0565929699\", \"sdt_ctx\": \"E ơi, sdt c 0565929699, c muốn khám định kỳ ạ\"},\n",
        "\t{\"sdt\": \"0595088277\", \"sdt_ctx\": \"Sdt a 0595088277, a cần đặt lịch, cảm ơn e\"},\n",
        "\t{\"sdt\": \"0994697173\", \"sdt_ctx\": \"T xin hẹn bác sĩ, sdt t là 0994697173, nhờ e\"},\n",
        "\t{\"sdt\": \"0343346382\", \"sdt_ctx\": \"Sdt c 0343346382, c cần tư vấn, e hỗ trợ ạ\"},\n",
        "\t{\"sdt\": \"0826359552\", \"sdt_ctx\": \"E ơi, sdt t 0826359552, t muốn khám gấp nhé\"},\n",
        "\t{\"sdt\": \"0979865856\", \"sdt_ctx\": \"Sdt a 0979865856, a cần lịch khám, cảm ơn\"},\n",
        "\t{\"sdt\": \"0865232255\", \"sdt_ctx\": \"C muốn tư vấn y tế, sdt c 0865232255, nhờ e\"},\n",
        "\t{\"sdt\": \"0850361357\", \"sdt_ctx\": \"Sdt t 0850361357, t cần đặt lịch, e giúp ạ\"},\n",
        "\t{\"sdt\": \"0379948738\", \"sdt_ctx\": \"E ơi, sdt c 0379948738, c xin khám định kỳ\"},\n",
        "\t{\"sdt\": \"0960524451\", \"sdt_ctx\": \"Sdt a 0960524451, a cần hẹn bác sĩ, cảm ơn\"},\n",
        "\t{\"sdt\": \"0378344824\", \"sdt_ctx\": \"T muốn tư vấn, sdt t là 0378344824, nhờ e\"},\n",
        "\t{\"sdt\": \"0978337383\", \"sdt_ctx\": \"Sdt c 0978337383, c cần đặt lịch khám, e ơi\"},\n",
        "\t{\"sdt\": \"0913595574\", \"sdt_ctx\": \"A xin lịch khám, sdt a 0913595574, cảm ơn\"},\n",
        "\t{\"sdt\": \"0857308053\", \"sdt_ctx\": \"Sdt t 0857308053, t cần tư vấn y tế, nhờ e\"},\n",
        "\t{\"sdt\": \"0368015456\", \"sdt_ctx\": \"E ơi, sdt c 0368015456, c muốn hẹn bác sĩ ạ\"},\n",
        "\t{\"sdt\": \"0566879448\", \"sdt_ctx\": \"Sdt a 0566879448, a cần khám gấp, cảm ơn\"},\n",
        "\t{\"sdt\": \"0798357076\", \"sdt_ctx\": \"T xin đặt lịch, sdt t là 0798357076, nhờ e\"},\n",
        "\t{\"sdt\": \"0917507255\", \"sdt_ctx\": \"Sdt c 0917507255, c cần tư vấn, e hỗ trợ ạ\"},\n",
        "\t{\"sdt\": \"0861687655\", \"sdt_ctx\": \"E ơi, sdt t 0861687655, t muốn khám định kỳ\"},\n",
        "\t{\"sdt\": \"0984127720\", \"sdt_ctx\": \"Sdt a 0984127720, a cần hẹn bác sĩ, cảm ơn\"},\n",
        "\t{\"sdt\": \"0336047027\", \"sdt_ctx\": \"C muốn tư vấn y tế, sdt c 0336047027, nhờ e\"},\n",
        "\t{\"sdt\": \"0564308950\", \"sdt_ctx\": \"Sdt t 0564308950, t cần đặt lịch, e giúp ạ\"},\n",
        "\t{\"sdt\": \"0707244221\", \"sdt_ctx\": \"E ơi, sdt c 0707244221, c xin khám gấp nhé\"},\n",
        "\t{\"sdt\": \"0365573152\", \"sdt_ctx\": \"Sdt a 0365573152, a cần tư vấn, cảm ơn\"},\n",
        "\t{\"sdt\": \"0324311805\", \"sdt_ctx\": \"T muốn hẹn bác sĩ, sdt t là 0324311805, nhờ e\"},\n",
        "\t{\"sdt\": \"0796730182\", \"sdt_ctx\": \"Sdt c 0796730182, c cần đặt lịch, e hỗ trợ ạ\"},\n",
        "\t{\"sdt\": \"0980274607\", \"sdt_ctx\": \"E ơi, sdt t 0980274607, t xin lịch khám ạ\"},\n",
        "\t{\"sdt\": \"0342829221\", \"sdt_ctx\": \"Sdt a 0342829221, a cần khám định kỳ, cảm ơn\"},\n",
        "\t{\"sdt\": \"0828543378\", \"sdt_ctx\": \"C muốn tư vấn, sdt c 0828543378, nhờ e ạ\"},\n",
        "\t{\"sdt\": \"0564854323\", \"sdt_ctx\": \"Sdt t 0564854323, t cần hẹn bác sĩ, e giúp\"},\n",
        "\t{\"sdt\": \"0817492423\", \"sdt_ctx\": \"E ơi, sdt c 0817492423, c xin lịch khám nhé\"},\n",
        "\t{\"sdt\": \"0388981609\", \"sdt_ctx\": \"Sdt a 0388981609, a cần tư vấn y tế, cảm ơn\"},\n",
        "\t{\"sdt\": \"0379387349\", \"sdt_ctx\": \"T muốn đặt lịch, sdt t là 0379387349, nhờ e\"},\n",
        "\t{\"sdt\": \"0826877558\", \"sdt_ctx\": \"Sdt c 0826877558, c cần khám gấp, e hỗ trợ ạ\"},\n",
        "\t{\"sdt\": \"0848100215\", \"sdt_ctx\": \"E ơi, sdt t 0848100215, t xin hẹn bác sĩ\"},\n",
        "\t{\"sdt\": \"0898775099\", \"sdt_ctx\": \"Sdt a 0898775099, a cần đặt lịch, cảm ơn\"},\n",
        "\t{\"sdt\": \"0369683718\", \"sdt_ctx\": \"C muốn tư vấn, sdt c 0369683718, nhờ e ạ\"},\n",
        "\t{\"sdt\": \"0385989106\", \"sdt_ctx\": \"Sdt t 0385989106, t cần khám định kỳ, e giúp\"},\n",
        "\t{\"sdt\": \"0349250756\", \"sdt_ctx\": \"E ơi, sdt c 0349250756, c xin lịch khám ạ\"},\n",
        "\t{\"sdt\": \"0913634705\", \"sdt_ctx\": \"Sdt a 0913634705, a cần hẹn bác sĩ, cảm ơn\"},\n",
        "\t{\"sdt\": \"0891063389\", \"sdt_ctx\": \"T muốn tư vấn y tế, sdt t là 0891063389, nhờ e\"},\n",
        "\t{\"sdt\": \"0567054000\", \"sdt_ctx\": \"Sdt c 0567054000, c cần đặt lịch, e hỗ trợ ạ\"},\n",
        "\t{\"sdt\": \"0961355525\", \"sdt_ctx\": \"Anh muốn đặt lịch khám, số liên hệ là 0961355525 nhé.\"},\n",
        "\t{\"sdt\": \"0970647567\", \"sdt_ctx\": \"Chị cần tư vấn y tế qua số 0970647567, mong hỗ trợ.\"},\n",
        "\t{\"sdt\": \"0916513833\", \"sdt_ctx\": \"Cô xin lịch khám với bác sĩ, số của cô: 0916513833.\"},\n",
        "\t{\"sdt\": \"0887519048\", \"sdt_ctx\": \"0887519048 là số của chú, chú cần đặt lịch khám gấp.\"},\n",
        "\t{\"sdt\": \"0390024950\", \"sdt_ctx\": \"Bác mong tư vấn viên gọi lại qua 0390024950 để sắp xếp lịch.\"},\n",
        "\t{\"sdt\": \"0906505873\", \"sdt_ctx\": \"Em đặt giúp anh lịch khám, số anh là 0906505873.\"},\n",
        "\t{\"sdt\": \"0366370531\", \"sdt_ctx\": \"Chị muốn tư vấn y tế, số điện thoại 0366370531 nhé.\"},\n",
        "\t{\"sdt\": \"0597799845\", \"sdt_ctx\": \"Anh cần lịch khám sớm, số liên lạc: 0597799845.\"},\n",
        "\t{\"sdt\": \"0976175699\", \"sdt_ctx\": \"0976175699, cô nhờ em đặt lịch khám giúp cô.\"},\n",
        "\t{\"sdt\": \"0338765622\", \"sdt_ctx\": \"Chú xin tư vấn qua số 0338765622, cảm ơn em.\"},\n",
        "\t{\"sdt\": \"0332459309\", \"sdt_ctx\": \"Bác muốn đặt lịch khám, số bác là 0332459309.\"},\n",
        "\t{\"sdt\": \"0968731880\", \"sdt_ctx\": \"Anh nhờ em liên hệ lại qua 0968731880 để tư vấn y tế.\"},\n",
        "\t{\"sdt\": \"0960172254\", \"sdt_ctx\": \"0960172254 là số của chị, chị cần lịch khám định kỳ.\"},\n",
        "\t{\"sdt\": \"0912138570\", \"sdt_ctx\": \"Cô mong được hỗ trợ đặt lịch qua số 0912138570.\"},\n",
        "\t{\"sdt\": \"0970033508\", \"sdt_ctx\": \"Chú cần tư vấn viên gọi số 0970033508 để đặt lịch.\"},\n",
        "\t{\"sdt\": \"0990589268\", \"sdt_ctx\": \"Anh xin lịch khám, số liên hệ 0990589268 nhé.\"},\n",
        "\t{\"sdt\": \"0371797263\", \"sdt_ctx\": \"0371797263, chị nhờ em sắp xếp lịch khám giúp.\"},\n",
        "\t{\"sdt\": \"0818858679\", \"sdt_ctx\": \"Bác mong tư vấn y tế qua số 0818858679, cảm ơn.\"},\n",
        "\t{\"sdt\": \"0929951134\", \"sdt_ctx\": \"Cô cần đặt lịch khám gấp, số cô là 0929951134.\"},\n",
        "\t{\"sdt\": \"0899346067\", \"sdt_ctx\": \"Anh muốn tư vấn, số điện thoại: 0899346067.\"},\n",
        "\t{\"sdt\": \"0976479146\", \"sdt_ctx\": \"0976479146 là số của chú, chú cần lịch khám sớm.\"},\n",
        "\t{\"sdt\": \"0923118350\", \"sdt_ctx\": \"Chị xin hỗ trợ đặt lịch qua số 0923118350 nhé.\"},\n",
        "\t{\"sdt\": \"0785454467\", \"sdt_ctx\": \"Bác nhờ em gọi lại 0785454467 để tư vấn y tế.\"},\n",
        "\t{\"sdt\": \"0567373993\", \"sdt_ctx\": \"Anh cần lịch khám, số của anh: 0567373993.\"},\n",
        "\t{\"sdt\": \"0843311811\", \"sdt_ctx\": \"Cô mong được liên hệ qua 0843311811 để đặt lịch.\"},\n",
        "\t{\"sdt\": \"0358369844\", \"sdt_ctx\": \"0358369844, chị cần tư vấn viên hỗ trợ lịch khám.\"},\n",
        "\t{\"sdt\": \"0700718612\", \"sdt_ctx\": \"Chú muốn đặt lịch khám, số liên lạc 0700718612.\"},\n",
        "\t{\"sdt\": \"0351283257\", \"sdt_ctx\": \"Anh nhờ em đặt lịch qua số 0351283257, cảm ơn.\"},\n",
        "\t{\"sdt\": \"0882387517\", \"sdt_ctx\": \"Bác cần tư vấn y tế, số bác là 0882387517.\"},\n",
        "\t{\"sdt\": \"0588386182\", \"sdt_ctx\": \"0588386182 là số của cô, cô xin lịch khám gấp.\"},\n",
        "\t{\"sdt\": \"0891535179\", \"sdt_ctx\": \"Chị mong tư vấn qua số 0891535179, cảm ơn em.\"},\n",
        "\t{\"sdt\": \"0798699922\", \"sdt_ctx\": \"Anh muốn đặt lịch, số điện thoại: 0798699922.\"},\n",
        "\t{\"sdt\": \"0845619550\", \"sdt_ctx\": \"0845619550, chú nhờ em hỗ trợ lịch khám.\"},\n",
        "\t{\"sdt\": \"0338277689\", \"sdt_ctx\": \"Cô cần tư vấn viên gọi lại 0338277689 để đặt lịch.\"},\n",
        "\t{\"sdt\": \"0949948063\", \"sdt_ctx\": \"Bác xin lịch khám, số liên hệ 0949948063 nhé.\"},\n",
        "\t{\"sdt\": \"0704633119\", \"sdt_ctx\": \"Anh cần tư vấn y tế qua số 0704633119.\"},\n",
        "\t{\"sdt\": \"0373211518\", \"sdt_ctx\": \"0373211518 là số của chị, chị muốn đặt lịch khám.\"},\n",
        "\t{\"sdt\": \"0383927374\", \"sdt_ctx\": \"Chú mong được hỗ trợ qua 0383927374 để tư vấn.\"},\n",
        "\t{\"sdt\": \"0794421485\", \"sdt_ctx\": \"Cô xin lịch khám sớm, số cô: 0794421485.\"},\n",
        "\t{\"sdt\": \"0893317501\", \"sdt_ctx\": \"Anh nhờ em liên hệ 0893317501 để đặt lịch khám.\"},\n",
        "\t{\"sdt\": \"0381315955\", \"sdt_ctx\": \"0381315955, bác cần tư vấn viên hỗ trợ lịch khám.\"},\n",
        "\t{\"sdt\": \"0977749608\", \"sdt_ctx\": \"Chị muốn tư vấn y tế, số liên lạc 0977749608.\"},\n",
        "\t{\"sdt\": \"0963322476\", \"sdt_ctx\": \"Anh xin lịch khám qua số 0963322476, cảm ơn.\"},\n",
        "\t{\"sdt\": \"0780252835\", \"sdt_ctx\": \"Cô cần đặt lịch, số điện thoại: 0780252835.\"},\n",
        "\t{\"sdt\": \"0599618113\", \"sdt_ctx\": \"0599618113 là số của chú, chú mong hỗ trợ lịch khám.\"},\n",
        "\t{\"sdt\": \"0855804372\", \"sdt_ctx\": \"Bác nhờ em gọi lại 0855804372 để tư vấn y tế.\"},\n",
        "\t{\"sdt\": \"0340608195\", \"sdt_ctx\": \"Chị xin lịch khám, số chị là 0340608195.\"},\n",
        "\t{\"sdt\": \"0779900688\", \"sdt_ctx\": \"Anh cần tư vấn qua số 0779900688, cảm ơn em.\"},\n",
        "\t{\"sdt\": \"0913973261\", \"sdt_ctx\": \"0913973261, cô muốn đặt lịch khám định kỳ.\"},\n",
        "\t{\"sdt\": \"0372200015\", \"sdt_ctx\": \"Chú cần lịch khám gấp, số liên hệ: 0372200015.\"},\n",
        "\t{\"sdt\": \"0913597173\", \"sdt_ctx\": \"Bác mong tư vấn viên gọi 0913597173 để sắp xếp lịch.\"},\n",
        "\t{\"sdt\": \"0995988902\", \"sdt_ctx\": \"Anh nhờ em đặt lịch qua 0995988902 nhé.\"},\n",
        "\t{\"sdt\": \"0939246271\", \"sdt_ctx\": \"Chị cần tư vấn y tế, số của chị: 0939246271.\"},\n",
        "\t{\"sdt\": \"0961939769\", \"sdt_ctx\": \"0961939769 là số của cô, cô xin lịch khám sớm.\"},\n",
        "\t{\"sdt\": \"0597913813\", \"sdt_ctx\": \"Chú muốn đặt lịch, số chú là 0597913813.\"},\n",
        "\t{\"sdt\": \"0813114958\", \"sdt_ctx\": \"Anh mong hỗ trợ qua số 0813114958 để tư vấn.\"},\n",
        "\t{\"sdt\": \"0865529142\", \"sdt_ctx\": \"Bác cần lịch khám, số liên lạc: 0865529142.\"},\n",
        "\t{\"sdt\": \"0829593046\", \"sdt_ctx\": \"0829593046, chị nhờ em sắp xếp lịch khám giúp.\"},\n",
        "\t{\"sdt\": \"0813050468\", \"sdt_ctx\": \"Cô xin tư vấn y tế qua số 0813050468, cảm ơn.\"},\n",
        "\t{\"sdt\": \"0851478030\", \"sdt_ctx\": \"Anh muốn đặt lịch khám, số anh: 0851478030.\"},\n",
        "\t{\"sdt\": \"0792314952\", \"sdt_ctx\": \"Chú cần tư vấn viên gọi lại 0792314952 để đặt lịch.\"},\n",
        "\t{\"sdt\": \"0946830110\", \"sdt_ctx\": \"0946830110 là số của bác, bác mong hỗ trợ lịch khám.\"},\n",
        "\t{\"sdt\": \"0774125312\", \"sdt_ctx\": \"Chị xin lịch khám qua số 0774125312 nhé.\"},\n",
        "\t{\"sdt\": \"0323457453\", \"sdt_ctx\": \"Anh cần tư vấn y tế, số liên hệ: 0323457453.\"},\n",
        "\t{\"sdt\": \"0994528553\", \"sdt_ctx\": \"Cô nhờ em đặt lịch qua 0994528553, cảm ơn em.\"},\n",
        "\t{\"sdt\": \"0820832184\", \"sdt_ctx\": \"0820832184, chú muốn đặt lịch khám định kỳ.\"},\n",
        "\t{\"sdt\": \"0992924921\", \"sdt_ctx\": \"Bác cần tư vấn qua số 0992924921, mong hỗ trợ.\"},\n",
        "\t{\"sdt\": \"0913235937\", \"sdt_ctx\": \"Chị mong được liên hệ 0913235937 để đặt lịch khám.\"},\n",
        "\t{\"sdt\": \"0972525781\", \"sdt_ctx\": \"Anh xin lịch khám, số điện thoại: 0972525781.\"},\n",
        "\t{\"sdt\": \"0840445577\", \"sdt_ctx\": \"0840445577 là số của cô, cô cần lịch khám gấp.\"},\n",
        "\t{\"sdt\": \"0947057162\", \"sdt_ctx\": \"Chú nhờ em hỗ trợ qua 0947057162 để tư vấn y tế.\"},\n",
        "\t{\"sdt\": \"0939922781\", \"sdt_ctx\": \"Bác muốn đặt lịch, số bác là 0939922781.\"},\n",
        "\t{\"sdt\": \"0359002030\", \"sdt_ctx\": \"Anh cần tư vấn viên gọi lại 0359002030 để đặt lịch.\"},\n",
        "\t{\"sdt\": \"0392581066\", \"sdt_ctx\": \"0392581066, chị xin lịch khám sớm nhé.\"},\n",
        "\t{\"sdt\": \"0903174294\", \"sdt_ctx\": \"Cô mong hỗ trợ đặt lịch qua số 0903174294.\"},\n",
        "\t{\"sdt\": \"0381327257\", \"sdt_ctx\": \"Chú cần tư vấn y tế, số liên lạc: 0381327257.\"},\n",
        "\t{\"sdt\": \"0707909826\", \"sdt_ctx\": \"Anh nhờ em gọi 0707909826 để sắp xếp lịch khám.\"},\n",
        "\t{\"sdt\": \"0785584801\", \"sdt_ctx\": \"0785584801 là số của bác, bác cần lịch khám gấp.\"},\n",
        "\t{\"sdt\": \"0854878608\", \"sdt_ctx\": \"Chị muốn tư vấn qua số 0854878608, cảm ơn em.\"},\n",
        "\t{\"sdt\": \"0855524942\", \"sdt_ctx\": \"Cô xin lịch khám, số cô: 0855524942.\"},\n",
        "\t{\"sdt\": \"0386965475\", \"sdt_ctx\": \"Anh cần đặt lịch, số điện thoại 0386965475 nhé.\"},\n",
        "\t{\"sdt\": \"0941331513\", \"sdt_ctx\": \"0941331513, chú nhờ em hỗ trợ tư vấn y tế.\"},\n",
        "\t{\"sdt\": \"0855369330\", \"sdt_ctx\": \"Bác mong được liên hệ qua 0855369330 để đặt lịch.\"},\n",
        "\t{\"sdt\": \"0768751525\", \"sdt_ctx\": \"Chị cần lịch khám sớm, số chị là 0768751525.\"},\n",
        "\t{\"sdt\": \"0937731036\", \"sdt_ctx\": \"Anh xin tư vấn y tế qua 0937731036, cảm ơn.\"},\n",
        "\t{\"sdt\": \"0939316733\", \"sdt_ctx\": \"0939316733 là số của cô, cô muốn đặt lịch khám.\"},\n",
        "\t{\"sdt\": \"0818187035\", \"sdt_ctx\": \"Chú cần tư vấn viên gọi 0818187035 để sắp xếp lịch.\"},\n",
        "\t{\"sdt\": \"0359104569\", \"sdt_ctx\": \"Bác xin lịch khám qua số 0359104569 nhé.\"},\n",
        "\t{\"sdt\": \"0844579756\", \"sdt_ctx\": \"Chị mong hỗ trợ qua 0844579756 để tư vấn y tế.\"},\n",
        "\t{\"sdt\": \"0778427258\", \"sdt_ctx\": \"Anh cần đặt lịch, số liên hệ: 0778427258.\"},\n",
        "\t{\"sdt\": \"0828646518\", \"sdt_ctx\": \"0828646518, cô nhờ em đặt lịch khám giúp.\"},\n",
        "\t{\"sdt\": \"0379550959\", \"sdt_ctx\": \"Chú muốn tư vấn y tế qua số 0379550959.\"},\n",
        "\t{\"sdt\": \"0760053754\", \"sdt_ctx\": \"Bác cần lịch khám, số bác là 0760053754.\"},\n",
        "\t{\"sdt\": \"0397552052\", \"sdt_ctx\": \"Chị xin tư vấn qua 0397552052, cảm ơn em.\"},\n",
        "\t{\"sdt\": \"0983467064\", \"sdt_ctx\": \"0983467064 là số của anh, anh mong hỗ trợ lịch khám.\"},\n",
        "\t{\"sdt\": \"0985541076\", \"sdt_ctx\": \"Cô cần đặt lịch khám gấp, số liên lạc: 0985541076.\"},\n",
        "\t{\"sdt\": \"0586598024\", \"sdt_ctx\": \"Chú nhờ em gọi lại 0586598024 để tư vấn y tế.\"},\n",
        "\t{\"sdt\": \"0769930121\", \"sdt_ctx\": \"Bác muốn đặt lịch, số điện thoại 0769930121 nhé.\"},\n",
        "\t{\"sdt\": \"0381213778\", \"sdt_ctx\": \"Chị cần tư vấn viên hỗ trợ qua 0381213778.\"},\n",
        "\t{\"sdt\": \"0789026563\", \"sdt_ctx\": \"Anh xin lịch khám sớm, số anh: 0789026563.\"},\n",
        "\t{\"sdt\": \"0833311067\", \"sdt_ctx\": \"Anh muốn đặt lịch khám, sdt anh là 0833311067 nhé.\"},\n",
        "\t{\"sdt\": \"0865558770\", \"sdt_ctx\": \"Chị cần tư vấn y tế qua sdt 0865558770, mong hỗ trợ.\"},\n",
        "\t{\"sdt\": \"0331535433\", \"sdt_ctx\": \"Cô xin lịch khám với sdt của cô: 0331535433.\"},\n",
        "\t{\"sdt\": \"0792278891\", \"sdt_ctx\": \"0792278891 là sdt của chú, chú cần đặt lịch khám gấp.\"},\n",
        "\t{\"sdt\": \"0562277732\", \"sdt_ctx\": \"Bác mong tư vấn viên gọi lại qua sdt 0562277732 để sắp xếp lịch.\"},\n",
        "\t{\"sdt\": \"0376239897\", \"sdt_ctx\": \"Em đặt giúp anh lịch khám, sdt anh là 0376239897.\"},\n",
        "\t{\"sdt\": \"0389092870\", \"sdt_ctx\": \"Chị muốn tư vấn y tế, sdt 0389092870 nhé.\"},\n",
        "\t{\"sdt\": \"0899159453\", \"sdt_ctx\": \"Anh cần lịch khám sớm, sdt liên lạc: 0899159453.\"},\n",
        "\t{\"sdt\": \"0325564808\", \"sdt_ctx\": \"0325564808, cô nhờ em đặt lịch khám giúp cô.\"},\n",
        "\t{\"sdt\": \"0326269258\", \"sdt_ctx\": \"Chú xin tư vấn qua sdt 0326269258, cảm ơn em.\"},\n",
        "\t{\"sdt\": \"0364922556\", \"sdt_ctx\": \"Bác muốn đặt lịch khám, sdt bác là 0364922556.\"},\n",
        "\t{\"sdt\": \"0819643939\", \"sdt_ctx\": \"Anh nhờ em liên hệ lại qua sdt 0819643939 để tư vấn y tế.\"},\n",
        "\t{\"sdt\": \"0971969197\", \"sdt_ctx\": \"0971969197 là sdt của chị, chị cần lịch khám định kỳ.\"},\n",
        "\t{\"sdt\": \"0813773743\", \"sdt_ctx\": \"Cô mong được hỗ trợ đặt lịch qua sdt 0813773743.\"},\n",
        "\t{\"sdt\": \"0322460905\", \"sdt_ctx\": \"Chú cần tư vấn viên gọi sdt 0322460905 để đặt lịch.\"},\n",
        "\t{\"sdt\": \"0592809173\", \"sdt_ctx\": \"Anh xin lịch khám, sdt liên hệ 0592809173 nhé.\"},\n",
        "\t{\"sdt\": \"0335666522\", \"sdt_ctx\": \"0335666522, chị nhờ em sắp xếp lịch khám giúp.\"},\n",
        "\t{\"sdt\": \"0864338172\", \"sdt_ctx\": \"Bác mong tư vấn y tế qua sdt 0864338172, cảm ơn.\"},\n",
        "\t{\"sdt\": \"0395214470\", \"sdt_ctx\": \"Cô cần đặt lịch khám gấp, sdt cô là 0395214470.\"},\n",
        "\t{\"sdt\": \"0884188858\", \"sdt_ctx\": \"Anh muốn tư vấn, sdt: 0884188858.\"},\n",
        "\t{\"sdt\": \"0821466558\", \"sdt_ctx\": \"0821466558 là sdt của chú, chú cần lịch khám sớm.\"},\n",
        "\t{\"sdt\": \"0995880215\", \"sdt_ctx\": \"Chị xin hỗ trợ đặt lịch qua sdt 0995880215 nhé.\"},\n",
        "\t{\"sdt\": \"0586807927\", \"sdt_ctx\": \"Bác nhờ em gọi lại sdt 0586807927 để tư vấn y tế.\"},\n",
        "\t{\"sdt\": \"0996608821\", \"sdt_ctx\": \"Anh cần lịch khám, sdt của anh: 0996608821.\"},\n",
        "\t{\"sdt\": \"0970400749\", \"sdt_ctx\": \"Cô mong được liên hệ qua sdt 0970400749 để đặt lịch.\"},\n",
        "\t{\"sdt\": \"0769277528\", \"sdt_ctx\": \"0769277528, chị cần tư vấn viên hỗ trợ lịch khám.\"},\n",
        "\t{\"sdt\": \"0709833269\", \"sdt_ctx\": \"Chú muốn đặt lịch khám, sdt liên lạc 0709833269.\"},\n",
        "\t{\"sdt\": \"0764097353\", \"sdt_ctx\": \"Anh nhờ em đặt lịch qua sdt 0764097353, cảm ơn.\"},\n",
        "\t{\"sdt\": \"0337958394\", \"sdt_ctx\": \"Bác cần tư vấn y tế, sdt bác là 0337958394.\"},\n",
        "\t{\"sdt\": \"0387352441\", \"sdt_ctx\": \"0387352441 là sdt của cô, cô xin lịch khám gấp.\"},\n",
        "\t{\"sdt\": \"0360632431\", \"sdt_ctx\": \"Chị mong tư vấn qua sdt 0360632431, cảm ơn em.\"},\n",
        "\t{\"sdt\": \"0982375200\", \"sdt_ctx\": \"Anh muốn đặt lịch, sdt: 0982375200.\"},\n",
        "\t{\"sdt\": \"0907474876\", \"sdt_ctx\": \"0907474876, chú nhờ em hỗ trợ lịch khám.\"},\n",
        "\t{\"sdt\": \"0861198750\", \"sdt_ctx\": \"Cô cần tư vấn viên gọi lại sdt 0861198750 để đặt lịch.\"},\n",
        "\t{\"sdt\": \"0920619108\", \"sdt_ctx\": \"Bác xin lịch khám, sdt liên hệ 0920619108 nhé.\"},\n",
        "\t{\"sdt\": \"0866863994\", \"sdt_ctx\": \"Anh cần tư vấn y tế qua sdt 0866863994.\"},\n",
        "\t{\"sdt\": \"0341010261\", \"sdt_ctx\": \"0341010261 là sdt của chị, chị muốn đặt lịch khám.\"},\n",
        "\t{\"sdt\": \"0593405587\", \"sdt_ctx\": \"Chú mong được hỗ trợ qua sdt 0593405587 để tư vấn.\"},\n",
        "\t{\"sdt\": \"0984348446\", \"sdt_ctx\": \"Cô xin lịch khám sớm, sdt cô: 0984348446.\"},\n",
        "\t{\"sdt\": \"0997064787\", \"sdt_ctx\": \"Anh nhờ em liên hệ sdt 0997064787 để đặt lịch khám.\"},\n",
        "\t{\"sdt\": \"0882260522\", \"sdt_ctx\": \"0882260522, bác cần tư vấn viên hỗ trợ lịch khám.\"},\n",
        "\t{\"sdt\": \"0595631838\", \"sdt_ctx\": \"Chị muốn tư vấn y tế, sdt liên lạc 0595631838.\"},\n",
        "\t{\"sdt\": \"0786736322\", \"sdt_ctx\": \"Anh xin lịch khám qua sdt 0786736322, cảm ơn.\"},\n",
        "\t{\"sdt\": \"0348124848\", \"sdt_ctx\": \"Cô cần đặt lịch, sdt: 0348124848.\"},\n",
        "\t{\"sdt\": \"0358508014\", \"sdt_ctx\": \"0358508014 là sdt của chú, chú mong hỗ trợ lịch khám.\"},\n",
        "\t{\"sdt\": \"0987193317\", \"sdt_ctx\": \"Bác nhờ em gọi lại sdt 0987193317 để tư vấn y tế.\"},\n",
        "\t{\"sdt\": \"0706276908\", \"sdt_ctx\": \"Chị xin lịch khám, sdt chị là 0706276908.\"},\n",
        "\t{\"sdt\": \"0862425231\", \"sdt_ctx\": \"Anh cần tư vấn qua sdt 0862425231, cảm ơn em.\"},\n",
        "\t{\"sdt\": \"0972046499\", \"sdt_ctx\": \"0972046499, cô muốn đặt lịch khám định kỳ.\"},\n",
        "\t{\"sdt\": \"0833680905\", \"sdt_ctx\": \"Chú cần lịch khám gấp, sdt liên hệ: 0833680905.\"},\n",
        "\t{\"sdt\": \"0394107554\", \"sdt_ctx\": \"Bác mong tư vấn viên gọi sdt 0394107554 để sắp xếp lịch.\"},\n",
        "\t{\"sdt\": \"0895483464\", \"sdt_ctx\": \"Anh nhờ em đặt lịch qua sdt 0895483464 nhé.\"},\n",
        "\t{\"sdt\": \"0885646734\", \"sdt_ctx\": \"Chị cần tư vấn y tế, sdt của chị: 0885646734.\"},\n",
        "\t{\"sdt\": \"0591814942\", \"sdt_ctx\": \"0591814942 là sdt của cô, cô xin lịch khám sớm.\"},\n",
        "\t{\"sdt\": \"0597594021\", \"sdt_ctx\": \"Chú muốn đặt lịch, sdt chú là 0597594021.\"},\n",
        "\t{\"sdt\": \"0864461116\", \"sdt_ctx\": \"Anh mong hỗ trợ qua sdt 0864461116 để tư vấn.\"},\n",
        "\t{\"sdt\": \"0347152610\", \"sdt_ctx\": \"Bác cần lịch khám, sdt liên lạc: 0347152610.\"},\n",
        "\t{\"sdt\": \"0988591923\", \"sdt_ctx\": \"0988591923, chị nhờ em sắp xếp lịch khám giúp.\"},\n",
        "\t{\"sdt\": \"0591625938\", \"sdt_ctx\": \"Cô xin tư vấn y tế qua sdt 0591625938, cảm ơn.\"},\n",
        "\t{\"sdt\": \"0825506729\", \"sdt_ctx\": \"Anh muốn đặt lịch khám, sdt anh: 0825506729.\"},\n",
        "\t{\"sdt\": \"0765307827\", \"sdt_ctx\": \"Chú cần tư vấn viên gọi lại sdt 0765307827 để đặt lịch.\"},\n",
        "\t{\"sdt\": \"0706857486\", \"sdt_ctx\": \"0706857486 là sdt của bác, bác mong hỗ trợ lịch khám.\"},\n",
        "\t{\"sdt\": \"0342439974\", \"sdt_ctx\": \"Chị xin lịch khám qua sdt 0342439974 nhé.\"},\n",
        "\t{\"sdt\": \"0901269680\", \"sdt_ctx\": \"Anh cần tư vấn y tế, sdt liên hệ: 0901269680.\"},\n",
        "\t{\"sdt\": \"0894191429\", \"sdt_ctx\": \"Cô nhờ em đặt lịch qua sdt 0894191429, cảm ơn em.\"},\n",
        "\t{\"sdt\": \"0962410336\", \"sdt_ctx\": \"0962410336, chú muốn đặt lịch khám định kỳ.\"},\n",
        "\t{\"sdt\": \"0774456846\", \"sdt_ctx\": \"Bác cần tư vấn qua sdt 0774456846, mong hỗ trợ.\"},\n",
        "\t{\"sdt\": \"0387645186\", \"sdt_ctx\": \"Chị mong được liên hệ sdt 0387645186 để đặt lịch khám.\"},\n",
        "\t{\"sdt\": \"0829603627\", \"sdt_ctx\": \"Anh xin lịch khám, sdt: 0829603627.\"},\n",
        "\t{\"sdt\": \"0910040927\", \"sdt_ctx\": \"0910040927 là sdt của cô, cô cần lịch khám gấp.\"},\n",
        "\t{\"sdt\": \"0990163287\", \"sdt_ctx\": \"Chú nhờ em hỗ trợ qua sdt 0990163287 để tư vấn y tế.\"},\n",
        "\t{\"sdt\": \"0909367710\", \"sdt_ctx\": \"Bác muốn đặt lịch, sdt bác là 0909367710.\"},\n",
        "\t{\"sdt\": \"0909923848\", \"sdt_ctx\": \"Anh cần tư vấn viên gọi lại sdt 0909923848 để đặt lịch.\"},\n",
        "\t{\"sdt\": \"0590911484\", \"sdt_ctx\": \"0590911484, chị xin lịch khám sớm nhé.\"},\n",
        "\t{\"sdt\": \"0865940745\", \"sdt_ctx\": \"Cô mong hỗ trợ đặt lịch qua sdt 0865940745.\"},\n",
        "\t{\"sdt\": \"0827339621\", \"sdt_ctx\": \"Chú cần tư vấn y tế, sdt liên lạc: 0827339621.\"},\n",
        "\t{\"sdt\": \"0910925704\", \"sdt_ctx\": \"Anh nhờ em gọi sdt 0910925704 để sắp xếp lịch khám.\"},\n",
        "\t{\"sdt\": \"0846527424\", \"sdt_ctx\": \"0846527424 là sdt của bác, bác cần lịch khám gấp.\"},\n",
        "\t{\"sdt\": \"0986455562\", \"sdt_ctx\": \"Chị muốn tư vấn qua sdt 0986455562, cảm ơn em.\"},\n",
        "\t{\"sdt\": \"0598221420\", \"sdt_ctx\": \"Cô xin lịch khám, sdt cô: 0598221420.\"},\n",
        "\t{\"sdt\": \"0909285970\", \"sdt_ctx\": \"Anh cần đặt lịch, sdt 0909285970 nhé.\"},\n",
        "\t{\"sdt\": \"0322431869\", \"sdt_ctx\": \"0322431869, chú nhờ em hỗ trợ tư vấn y tế.\"},\n",
        "\t{\"sdt\": \"0370856619\", \"sdt_ctx\": \"Bác mong được liên hệ qua sdt 0370856619 để đặt lịch.\"},\n",
        "\t{\"sdt\": \"0582576205\", \"sdt_ctx\": \"Chị cần lịch khám sớm, sdt chị là 0582576205.\"},\n",
        "\t{\"sdt\": \"0594497374\", \"sdt_ctx\": \"Anh xin tư vấn y tế qua sdt 0594497374, cảm ơn.\"},\n",
        "\t{\"sdt\": \"0860099337\", \"sdt_ctx\": \"0860099337 là sdt của cô, cô muốn đặt lịch khám.\"},\n",
        "\t{\"sdt\": \"0883658680\", \"sdt_ctx\": \"Chú cần tư vấn viên gọi sdt 0883658680 để sắp xếp lịch.\"},\n",
        "\t{\"sdt\": \"0831796404\", \"sdt_ctx\": \"Bác xin lịch khám qua sdt 0831796404 nhé.\"},\n",
        "\t{\"sdt\": \"0830852467\", \"sdt_ctx\": \"Chị mong hỗ trợ qua sdt 0830852467 để tư vấn y tế.\"},\n",
        "\t{\"sdt\": \"0399374688\", \"sdt_ctx\": \"Anh cần đặt lịch, sdt liên hệ: 0399374688.\"},\n",
        "\t{\"sdt\": \"0973309623\", \"sdt_ctx\": \"0973309623, cô nhờ em đặt lịch khám giúp.\"},\n",
        "\t{\"sdt\": \"0914679732\", \"sdt_ctx\": \"Chú muốn tư vấn y tế qua sdt 0914679732.\"},\n",
        "\t{\"sdt\": \"0962430999\", \"sdt_ctx\": \"Bác cần lịch khám, sdt bác là 0962430999.\"},\n",
        "\t{\"sdt\": \"0982433293\", \"sdt_ctx\": \"Chị xin tư vấn qua sdt 0982433293, cảm ơn em.\"},\n",
        "\t{\"sdt\": \"0818119847\", \"sdt_ctx\": \"0818119847 là sdt của anh, anh mong hỗ trợ lịch khám.\"},\n",
        "\t{\"sdt\": \"0587611959\", \"sdt_ctx\": \"Cô cần đặt lịch khám gấp, sdt liên lạc: 0587611959.\"},\n",
        "\t{\"sdt\": \"0823609130\", \"sdt_ctx\": \"Chú nhờ em gọi lại sdt 0823609130 để tư vấn y tế.\"},\n",
        "\t{\"sdt\": \"0346789233\", \"sdt_ctx\": \"Bác muốn đặt lịch, sdt 0346789233 nhé.\"},\n",
        "\t{\"sdt\": \"0833270158\", \"sdt_ctx\": \"Chị cần tư vấn viên hỗ trợ qua sdt 0833270158.\"},\n",
        "\t{\"sdt\": \"0342912158\", \"sdt_ctx\": \"Anh xin lịch khám sớm, sdt anh: 0342912158.\"}\n",
        "]"
      ],
      "metadata": {
        "id": "hVxhlTM3rPVs"
      },
      "execution_count": null,
      "outputs": []
    },
    {
      "cell_type": "markdown",
      "source": [
        "##### correct_customer_name"
      ],
      "metadata": {
        "id": "FCvrG41OMkay"
      }
    },
    {
      "cell_type": "code",
      "source": [
        "correct_customer_name = [{\"sdt\": \"0851852113\", \"sdt_ctx\": \"Chị tên Lan, chị muốn đặt lịch khám sức khỏe tổng quát, số liên lạc là 0851852113.\", \"customer_name\": \"Lan\"},\n",
        "    {\"sdt\": \"0845284413\", \"sdt_ctx\": \"Em tên Hùng, em cần kiểm tra lịch khám tuần này, số của em là 0845284413.\", \"customer_name\": \"Hùng\"},\n",
        "    {\"sdt\": \"0844010391\", \"sdt_ctx\": \"0844010391, chị tên Mai, chị mong muốn đặt lịch khám định kỳ.\", \"customer_name\": \"Mai\"},\n",
        "    {\"sdt\": \"0962884896\", \"sdt_ctx\": \"Chị muốn hỏi về lịch làm việc của bác sĩ, số 0962884896.\", \"customer_name\": \"\"},\n",
        "    {\"sdt\": \"0775711543\", \"sdt_ctx\": \"0775711543 là số liên lạc, em tên Linh, em xin đặt lịch khám.\", \"customer_name\": \"Linh\"},\n",
        "    {\"sdt\": \"0329843584\", \"sdt_ctx\": \"Anh tên Phong, anh cần hẹn khám khẩn cấp, số liên hệ 0329843584.\", \"customer_name\": \"Phong\"},\n",
        "    {\"sdt\": \"0926851390\", \"sdt_ctx\": \"Số của em 0926851390, em tên Ngọc, em xin tư vấn về lịch khám.\", \"customer_name\": \"Ngọc\"},\n",
        "    {\"sdt\": \"0365330634\", \"sdt_ctx\": \"Chị tên Hoa, chị xin kiểm tra lịch bác sĩ, số liên lạc là 0365330634.\", \"customer_name\": \"Hoa\"},\n",
        "    {\"sdt\": \"0862667655\", \"sdt_ctx\": \"0862667655, bác tên Long, bác cần tư vấn và đặt lịch khám gấp.\", \"customer_name\": \"Long\"},\n",
        "    {\"sdt\": \"0376063069\", \"sdt_ctx\": \"Số 0376063069, anh tên Đức, anh muốn kiểm tra sức khỏe.\", \"customer_name\": \"Đức\"},\n",
        "    {\"sdt\": \"0938934638\", \"sdt_ctx\": \"0938934638 là số của chú, chú tên Hùng, xin đặt lịch khám.\", \"customer_name\": \"Hùng\"},\n",
        "    {\"sdt\": \"0984961237\", \"sdt_ctx\": \"Số của anh là 0984961237, anh tên Tuấn, anh cần đặt lịch khám gấp.\", \"customer_name\": \"Tuấn\"},\n",
        "    {\"sdt\": \"0988640423\", \"sdt_ctx\": \"Bác tên Minh, bác muốn kiểm tra sức khỏe, số liên lạc 0988640423.\", \"customer_name\": \"Minh\"},\n",
        "    {\"sdt\": \"0589060836\", \"sdt_ctx\": \"Anh tên Khang, anh xin hẹn khám bác sĩ, số của anh là 0589060836.\", \"customer_name\": \"Khang\"},\n",
        "    {\"sdt\": \"0972043095\", \"sdt_ctx\": \"Chú tên Vinh, chú muốn đặt lịch khám, liên hệ qua 0972043095.\", \"customer_name\": \"Vinh\"},\n",
        "    {\"sdt\": \"0584671188\", \"sdt_ctx\": \"Số 0584671188, bác tên Thành, bác muốn kiểm tra sức khỏe.\", \"customer_name\": \"Thành\"},\n",
        "    {\"sdt\": \"0797562394\", \"sdt_ctx\": \"0797562394 là số của anh, anh tên Quang, xin đặt lịch khám gấp.\", \"customer_name\": \"Quang\"},\n",
        "    {\"sdt\": \"0991656595\", \"sdt_ctx\": \"Số của chú 0991656595, chú tên Dũng, chú cần hẹn bác sĩ sớm.\", \"customer_name\": \"Dũng\"},\n",
        "    {\"sdt\": \"0895512617\", \"sdt_ctx\": \"Anh tên Nam, anh muốn kiểm tra sức khỏe, liên hệ 0895512617.\", \"customer_name\": \"Nam\"},\n",
        "    {\"sdt\": \"0869572920\", \"sdt_ctx\": \"Bác tên Hảo, bác xin đặt lịch khám gấp, số của bác 0869572920.\", \"customer_name\": \"Hảo\"},\n",
        "    {\"sdt\": \"0394412937\", \"sdt_ctx\": \"Anh tên Tùng, anh cần hẹn khám, số của anh là 0394412937.\", \"customer_name\": \"Tùng\"},\n",
        "    {\"sdt\": \"0703288274\", \"sdt_ctx\": \"Số 0703288274, chú tên Lộc, chú muốn kiểm tra sức khỏe.\", \"customer_name\": \"Lộc\"},\n",
        "    {\"sdt\": \"0564266770\", \"sdt_ctx\": \"Anh tên Khoa, anh cần tư vấn bác sĩ, liên hệ 0564266770.\", \"customer_name\": \"Khoa\"},\n",
        "    {\"sdt\": \"0563968312\", \"sdt_ctx\": \"Số của em 0563968312, em tên Hà, em xin hẹn khám gấp.\", \"customer_name\": \"Hà\"},\n",
        "    {\"sdt\": \"0783718480\", \"sdt_ctx\": \"Chị tên Thảo, chị xin sắp xếp lịch khám, số liên lạc 0783718480.\", \"customer_name\": \"Thảo\"},\n",
        "    {\"sdt\": \"0343720496\", \"sdt_ctx\": \"Em tên Vy, em muốn kiểm tra sức khỏe, liên hệ 0343720496.\", \"customer_name\": \"Vy\"},\n",
        "    {\"sdt\": \"0881883331\", \"sdt_ctx\": \"Chị tên Ngọc Anh, chị vui lòng tư vấn y tế, số liên lạc 0881883331.\", \"customer_name\": \"Ngọc Anh\"},\n",
        "    {\"sdt\": \"0393523338\", \"sdt_ctx\": \"0393523338, em tên An, em xin đặt lịch kiểm tra sức khỏe.\", \"customer_name\": \"An\"},\n",
        "    {\"sdt\": \"0887518720\", \"sdt_ctx\": \"Số 0887518720, chị tên Hương, chị xin sắp xếp lịch khám.\", \"customer_name\": \"Hương\"},\n",
        "    {\"sdt\": \"0984470558\", \"sdt_ctx\": \"Em tên Phúc, em vui lòng đặt lịch khám gấp, số 0984470558.\", \"customer_name\": \"Phúc\"},\n",
        "    {\"sdt\": \"0706832429\", \"sdt_ctx\": \"0706832429, chị tên Lan Anh, chị cần kiểm tra sức khỏe.\", \"customer_name\": \"Lan Anh\"},\n",
        "    {\"sdt\": \"0864883357\", \"sdt_ctx\": \"Số 0864883357, em tên Bình, em muốn đặt lịch khám.\", \"customer_name\": \"Bình\"},\n",
        "    {\"sdt\": \"0811597211\", \"sdt_ctx\": \"Chị tên Hồng, chị vui lòng liên hệ 0811597211 để hẹn khám.\", \"customer_name\": \"Hồng\"},\n",
        "    {\"sdt\": \"0376355938\", \"sdt_ctx\": \"0376355938, em tên Dương, em xin sắp xếp lịch khám.\", \"customer_name\": \"Dương\"},\n",
        "    {\"sdt\": \"0924670924\", \"sdt_ctx\": \"Số 0924670924, chị tên Thư, chị xin đặt lịch khám gấp.\", \"customer_name\": \"Thư\"},\n",
        "    {\"sdt\": \"0853309636\", \"sdt_ctx\": \"Em tên Trang, em vui lòng tư vấn y tế, liên hệ 0853309636.\", \"customer_name\": \"Trang\"},\n",
        "    {\"sdt\": \"0707640461\", \"sdt_ctx\": \"0707640461, chị tên Quyên, chị xin đặt lịch khám.\", \"customer_name\": \"Quyên\"},\n",
        "    {\"sdt\": \"0882054902\", \"sdt_ctx\": \"Anh tên Đạt, anh muốn hẹn khám gấp, số liên lạc 0882054902.\", \"customer_name\": \"Đạt\"},\n",
        "    {\"sdt\": \"0371780343\", \"sdt_ctx\": \"0371780343 là số của chú, chú tên Hoàng, xin tư vấn y tế.\", \"customer_name\": \"Hoàng\"},\n",
        "    {\"sdt\": \"0904993352\", \"sdt_ctx\": \"Số 0904993352, anh tên Hưng, anh cần kiểm tra sức khỏe.\", \"customer_name\": \"Hưng\"},\n",
        "    {\"sdt\": \"0850175135\", \"sdt_ctx\": \"Bác tên Phúc, bác muốn tư vấn y tế, liên hệ 0850175135.\", \"customer_name\": \"Phúc\"},\n",
        "    {\"sdt\": \"0831711168\", \"sdt_ctx\": \"0831711168, anh tên Kiên, anh cần sắp xếp cuộc hẹn gấp.\", \"customer_name\": \"Kiên\"},\n",
        "    {\"sdt\": \"0365027967\", \"sdt_ctx\": \"Số 0365027967, chú tên Trung, chú muốn kiểm tra sức khỏe.\", \"customer_name\": \"Trung\"},\n",
        "    {\"sdt\": \"0774199203\", \"sdt_ctx\": \"Anh tên Cường, anh cần hẹn bác sĩ, liên hệ 0774199203.\", \"customer_name\": \"Cường\"},\n",
        "    {\"sdt\": \"0916446883\", \"sdt_ctx\": \"0916446883, bác tên Sơn, bác xin sắp xếp lịch khám.\", \"customer_name\": \"Sơn\"},\n",
        "    {\"sdt\": \"0360708170\", \"sdt_ctx\": \"Số 0360708170, anh tên Việt, anh cần kiểm tra sức khỏe.\", \"customer_name\": \"Việt\"},\n",
        "    {\"sdt\": \"0910085572\", \"sdt_ctx\": \"Chú tên Toàn, chú muốn tư vấn y tế, liên hệ 0910085572.\", \"customer_name\": \"Toàn\"},\n",
        "    {\"sdt\": \"0320549743\", \"sdt_ctx\": \"0320549743, anh tên Duy, anh xin sắp xếp cuộc hẹn gấp.\", \"customer_name\": \"Duy\"},\n",
        "    {\"sdt\": \"0327952738\", \"sdt_ctx\": \"Số 0327952738, bác tên Hùng, bác cần kiểm tra sức khỏe.\", \"customer_name\": \"Hùng\"},\n",
        "    {\"sdt\": \"0708791518\", \"sdt_ctx\": \"Anh tên Nhân, anh muốn hẹn bác sĩ, liên hệ 0708791518.\", \"customer_name\": \"Nhân\"},\n",
        "\t{\"sdt\": \"0909319704\", \"sdt_ctx\": \"Chị tên Lan, số chị 0909319704, đặt lịch khám giúp chị nhé!\", \"customer_name\": \"Lan\"},\n",
        "\t{\"sdt\": \"0911245743\", \"sdt_ctx\": \"Em ơi, 0911245743 đây, tên em Hùng, hẹn khám gấp giùm em!\", \"customer_name\": \"Hùng\"},\n",
        "\t{\"sdt\": \"0891622654\", \"sdt_ctx\": \"Bác tên Tâm, bác cần tư vấn y tế, liên lạc qua 0891622654.\", \"customer_name\": \"Tâm\"},\n",
        "\t{\"sdt\": \"0857964741\", \"sdt_ctx\": \"Em tên Linh, 0857964741 là số em, hỏi lịch bác sĩ giúp em nha!\", \"customer_name\": \"Linh\"},\n",
        "\t{\"sdt\": \"0936126913\", \"sdt_ctx\": \"0936126913, chị tên Mai, cần khám định kỳ nha!\", \"customer_name\": \"Mai\"},\n",
        "\t{\"sdt\": \"0786674743\", \"sdt_ctx\": \"Bác tên Long, 0786674743 là số bác, hẹn khám sớm nha!\", \"customer_name\": \"Long\"},\n",
        "\t{\"sdt\": \"0772609544\", \"sdt_ctx\": \"Anh tên Phong, liên lạc qua 0772609544, cần tư vấn khám.\", \"customer_name\": \"Phong\"},\n",
        "\t{\"sdt\": \"0988652087\", \"sdt_ctx\": \"Chú tên Vinh, số chú 0988652087, đặt lịch khám gấp nha!\", \"customer_name\": \"Vinh\"},\n",
        "\t{\"sdt\": \"0358382117\", \"sdt_ctx\": \"Em tên Ngọc, 0358382117 là số em, hẹn khám thứ 5 nha!\", \"customer_name\": \"Ngọc\"},\n",
        "\t{\"sdt\": \"0771621275\", \"sdt_ctx\": \"Bác tên Hùng, liên lạc 0771621275, cần tư vấn y tế gấp!\", \"customer_name\": \"Hùng\"},\n",
        "\t{\"sdt\": \"0771286017\", \"sdt_ctx\": \"0771286017, chị tên Hoa, đặt lịch khám giúp chị nhé!\", \"customer_name\": \"Hoa\"},\n",
        "\t{\"sdt\": \"0380868661\", \"sdt_ctx\": \"Anh tên Đức, 0380868661 là số anh, hẹn khám gấp nha!\", \"customer_name\": \"Đức\"},\n",
        "\t{\"sdt\": \"0980467040\", \"sdt_ctx\": \"Chị tên Thảo, liên lạc qua 0980467040, đặt lịch khám giùm!\", \"customer_name\": \"Thảo\"},\n",
        "\t{\"sdt\": \"0864985372\", \"sdt_ctx\": \"Bác tên Minh, số bác 0864985372, hẹn khám định kỳ nhé!\", \"customer_name\": \"Minh\"},\n",
        "\t{\"sdt\": \"0937707881\", \"sdt_ctx\": \"Em tên An, 0937707881 đây, đặt lịch khám gấp giúp em!\", \"customer_name\": \"An\"},\n",
        "\t{\"sdt\": \"0985672894\", \"sdt_ctx\": \"Chú tên Bảo, 0985672894 là số chú, cần tư vấn khám.\", \"customer_name\": \"Bảo\"},\n",
        "\t{\"sdt\": \"0596091437\", \"sdt_ctx\": \"Em tên Hà, liên lạc 0596091437, đặt lịch khám giùm em!\", \"customer_name\": \"Hà\"},\n",
        "\t{\"sdt\": \"0368063623\", \"sdt_ctx\": \"Bác tên Thành, số bác 0368063623, hẹn khám gấp nha!\", \"customer_name\": \"Thành\"},\n",
        "\t{\"sdt\": \"0760708626\", \"sdt_ctx\": \"Em tên Vy, 0760708626 đây, đặt lịch khám thứ 4!\", \"customer_name\": \"Vy\"},\n",
        "\t{\"sdt\": \"0903276997\", \"sdt_ctx\": \"Chị tên Hương, 0903276997 là số chị, hẹn khám giùm!\", \"customer_name\": \"Hương\"},\n",
        "\t{\"sdt\": \"0762418383\", \"sdt_ctx\": \"Bác tên Quang, liên lạc 0762418383, cần hẹn khám gấp!\", \"customer_name\": \"Quang\"},\n",
        "\t{\"sdt\": \"0987622531\", \"sdt_ctx\": \"Anh tên Tuấn, 0987622531 là số anh, hẹn khám thứ 5!\", \"customer_name\": \"Tuấn\"},\n",
        "\t{\"sdt\": \"0790642444\", \"sdt_ctx\": \"Em tên Trang, số em 0790642444, đặt lịch khám gấp!\", \"customer_name\": \"Trang\"},\n",
        "\t{\"sdt\": \"0962264445\", \"sdt_ctx\": \"Chị tên Hồng, 0962264445 đây, hẹn khám tuần này!\", \"customer_name\": \"Hồng\"},\n",
        "\t{\"sdt\": \"0589487906\", \"sdt_ctx\": \"Em tên Phúc, liên lạc 0589487906, đặt lịch khám giùm!\", \"customer_name\": \"Phúc\"},\n",
        "\t{\"sdt\": \"0894722718\", \"sdt_ctx\": \"Bác tên Hảo, số bác 0894722718, hẹn khám gấp nha!\", \"customer_name\": \"Hảo\"},\n",
        "\t{\"sdt\": \"0701785838\", \"sdt_ctx\": \"Em tên Bình, 0701785838 đây, đặt lịch khám thứ 7!\", \"customer_name\": \"Bình\"},\n",
        "\t{\"sdt\": \"0363683950\", \"sdt_ctx\": \"Chị tên Thư, 0363683950 là số chị, hẹn khám gấp!\", \"customer_name\": \"Thư\"},\n",
        "\t{\"sdt\": \"0835091724\", \"sdt_ctx\": \"Em tên Quyên, liên lạc 0835091724, đặt lịch khám giùm!\", \"customer_name\": \"Quyên\"},\n",
        "\t{\"sdt\": \"0777828385\", \"sdt_ctx\": \"Anh tên Đạt, 0777828385 là số anh, hẹn khám thứ 6!\", \"customer_name\": \"Đạt\"},\n",
        "\t{\"sdt\": \"0916410020\", \"sdt_ctx\": \"Chú tên Hoàng, số chú 0916410020, đặt lịch khám gấp!\", \"customer_name\": \"Hoàng\"},\n",
        "\t{\"sdt\": \"0945348592\", \"sdt_ctx\": \"Bác tên Sơn, 0945348592 là số bác, hẹn khám định kỳ!\", \"customer_name\": \"Sơn\"},\n",
        "\t{\"sdt\": \"0564234833\", \"sdt_ctx\": \"Em tên Dương, liên lạc 0564234833, đặt lịch khám giùm!\", \"customer_name\": \"Dương\"},\n",
        "\t{\"sdt\": \"0820479734\", \"sdt_ctx\": \"Anh tên Kiên, 0820479734 là số anh, hẹn khám gấp!\", \"customer_name\": \"Kiên\"},\n",
        "\t{\"sdt\": \"0340538031\", \"sdt_ctx\": \"Chị tên Lan Anh, số chị 0340538031, đặt lịch khám thứ 5!\", \"customer_name\": \"Lan Anh\"},\n",
        "\t{\"sdt\": \"0978351294\", \"sdt_ctx\": \"Bác tên Trung, 0978351294 là số bác, hẹn khám gấp nha!\", \"customer_name\": \"Trung\"},\n",
        "\t{\"sdt\": \"0912771279\", \"sdt_ctx\": \"Em tên Cường, 0912771279 đây, đặt lịch khám tuần sau!\", \"customer_name\": \"Cường\"},\n",
        "\t{\"sdt\": \"0361785157\", \"sdt_ctx\": \"Chị tên Ngọc Anh, 0361785157 là số chị, hẹn khám gấp!\", \"customer_name\": \"Ngọc Anh\"},\n",
        "\t{\"sdt\": \"0931000853\", \"sdt_ctx\": \"Em tên Việt, liên lạc 0931000853, đặt lịch khám giùm!\", \"customer_name\": \"Việt\"},\n",
        "\t{\"sdt\": \"0342318721\", \"sdt_ctx\": \"Anh tên Hưng, 0342318721 là số anh, hẹn khám thứ 4!\", \"customer_name\": \"Hưng\"},\n",
        "\t{\"sdt\": \"0997652074\", \"sdt_ctx\": \"Chú tên Toàn, số chú 0997652074, đặt lịch khám gấp!\", \"customer_name\": \"Toàn\"},\n",
        "\t{\"sdt\": \"0394870513\", \"sdt_ctx\": \"Bác tên Duy, 0394870513 là số bác, hẹn khám định kỳ!\", \"customer_name\": \"Duy\"},\n",
        "\t{\"sdt\": \"0599898687\", \"sdt_ctx\": \"Chị tên Quyên, liên lạc 0599898687, đặt lịch khám giùm!\", \"customer_name\": \"Quên\"},\n",
        "\t{\"sdt\": \"0373895477\", \"sdt_ctx\": \"Anh tên Nhân, 0373895477 là số anh, hẹn khám gấp!\", \"customer_name\": \"Nhân\"},\n",
        "\t{\"sdt\": \"0765824846\", \"sdt_ctx\": \"Em tên Thảo, số em 0765824846, đặt lịch khám thứ 7!\", \"customer_name\": \"Thảo\"},\n",
        "\t{\"sdt\": \"0388492978\", \"sdt_ctx\": \"Bác tên Hùng, 0388492978 là số bác, hẹn khám gấp!\", \"customer_name\": \"Hùng\"},\n",
        "\t{\"sdt\": \"0392275924\", \"sdt_ctx\": \"Chị tên Hồng Anh, số chị 0392275924, đặt lịch khám giùm!\", \"customer_name\": \"Hồng Anh\"},\n",
        "\t{\"sdt\": \"0791788262\", \"sdt_ctx\": \"Anh tên Kiên, 0791788262 là số anh, hẹn khám tuần sau!\", \"customer_name\": \"Kiên\"},\n",
        "\t{\"sdt\": \"0366485218\", \"sdt_ctx\": \"Em tên Lan, liên lạc 0366485218, đặt lịch khám gấp!\", \"customer_name\": \"Lan\"},\n",
        "\t{\"sdt\": \"0853165535\", \"sdt_ctx\": \"Bác tên Sơn, 0853165535 là số bác, hẹn khám định kỳ!\", \"customer_name\": \"Sơn\"},\n",
        "\t{\"sdt\": \"0961355525\", \"sdt_ctx\": \"Chị Lan muốn đặt lịch khám, số điện thoại của chị là 0961355525, mong được hỗ trợ.\", \"customer_name\": \"Lan\"},\n",
        "\t{\"sdt\": \"0970647567\", \"sdt_ctx\": \"Anh cần tư vấn y tế, 0970647567 là số của anh Nam, xin cảm ơn.\", \"customer_name\": \"Nam\"},\n",
        "\t{\"sdt\": \"0916513833\", \"sdt_ctx\": \"0916513833, chị Hương cần đặt lịch khám định kỳ, mong hỗ trợ.\", \"customer_name\": \"Hương\"},\n",
        "\t{\"sdt\": \"0887519048\", \"sdt_ctx\": \"Em ơi, anh Tuấn muốn đặt lịch với bác sĩ, số anh là 0887519048.\", \"customer_name\": \"Tuấn\"},\n",
        "\t{\"sdt\": \"0390024950\", \"sdt_ctx\": \"Chú Minh cần lịch khám gấp, số điện thoại 0390024950, xin sắp xếp.\", \"customer_name\": \"Minh\"},\n",
        "\t{\"sdt\": \"0906505873\", \"sdt_ctx\": \"Cô Nga mong được tư vấn, số điện thoại là 0906505873, cảm ơn nhiều.\", \"customer_name\": \"Nga\"},\n",
        "\t{\"sdt\": \"0366370531\", \"sdt_ctx\": \"0366370531 là số của anh Hùng, anh cần đặt lịch khám sớm.\", \"customer_name\": \"Hùng\"},\n",
        "\t{\"sdt\": \"0597799845\", \"sdt_ctx\": \"Chị muốn đặt lịch, số 0597799845, chị tên Mai, xin hỗ trợ.\", \"customer_name\": \"Mai\"},\n",
        "\t{\"sdt\": \"0976175699\", \"sdt_ctx\": \"Anh Long cần tư vấn y tế, liên hệ qua 0976175699, cảm ơn em.\", \"customer_name\": \"Long\"},\n",
        "\t{\"sdt\": \"0338765622\", \"sdt_ctx\": \"0338765622, cô Thảo cần lịch khám, mong được sắp xếp.\", \"customer_name\": \"Thảo\"},\n",
        "\t{\"sdt\": \"0332459309\", \"sdt_ctx\": \"Chị Linh xin lịch khám, số điện thoại 0332459309, cảm ơn nhiều.\", \"customer_name\": \"Linh\"},\n",
        "\t{\"sdt\": \"0968731880\", \"sdt_ctx\": \"Anh Phong muốn tư vấn, số là 0968731880, xin hỗ trợ.\", \"customer_name\": \"Phong\"},\n",
        "\t{\"sdt\": \"0960172254\", \"sdt_ctx\": \"Chú Tâm cần đặt lịch gấp, 0960172254 là số của chú.\", \"customer_name\": \"Tâm\"},\n",
        "\t{\"sdt\": \"0912138570\", \"sdt_ctx\": \"0912138570, chị Ngọc muốn đặt lịch khám định kỳ.\", \"customer_name\": \"Ngọc\"},\n",
        "\t{\"sdt\": \"0970033508\", \"sdt_ctx\": \"Anh Dũng xin tư vấn y tế, số điện thoại 0970033508, cảm ơn.\", \"customer_name\": \"Dũng\"},\n",
        "\t{\"sdt\": \"0990589268\", \"sdt_ctx\": \"Cô Hà cần lịch khám, số là 0990589268, mong hỗ trợ.\", \"customer_name\": \"Hà\"},\n",
        "\t{\"sdt\": \"0371797263\", \"sdt_ctx\": \"0371797263 là số của anh Khoa, anh cần đặt lịch sớm.\", \"customer_name\": \"Khoa\"},\n",
        "\t{\"sdt\": \"0818858679\", \"sdt_ctx\": \"Chị Quyên muốn tư vấn, liên hệ 0818858679, xin cảm ơn.\", \"customer_name\": \"Quyên\"},\n",
        "\t{\"sdt\": \"0929951134\", \"sdt_ctx\": \"Anh Vinh cần lịch khám gấp, số 0929951134, mong hỗ trợ.\", \"customer_name\": \"Vinh\"},\n",
        "\t{\"sdt\": \"0899346067\", \"sdt_ctx\": \"0899346067, chú Hòa cần tư vấn y tế, xin sắp xếp.\", \"customer_name\": \"Hòa\"},\n",
        "\t{\"sdt\": \"0976479146\", \"sdt_ctx\": \"Chị Mai Anh đặt lịch khám, số điện thoại 0976479146.\", \"customer_name\": \"Mai Anh\"},\n",
        "\t{\"sdt\": \"0923118350\", \"sdt_ctx\": \"Anh Đức cần tư vấn, số là 0923118350, cảm ơn em.\", \"customer_name\": \"Đức\"},\n",
        "\t{\"sdt\": \"0785454467\", \"sdt_ctx\": \"0785454467, cô Lan muốn đặt lịch khám định kỳ.\", \"customer_name\": \"Lan\"},\n",
        "\t{\"sdt\": \"0567373993\", \"sdt_ctx\": \"Chú Thành cần lịch khám, số điện thoại 0567373993.\", \"customer_name\": \"Thành\"},\n",
        "\t{\"sdt\": \"0843311811\", \"sdt_ctx\": \"Chị Phương xin tư vấn y tế, 0843311811 là số của chị.\", \"customer_name\": \"Phương\"},\n",
        "\t{\"sdt\": \"0358369844\", \"sdt_ctx\": \"0358369844, anh Tùng cần đặt lịch khám sớm.\", \"customer_name\": \"Tùng\"},\n",
        "\t{\"sdt\": \"0700718612\", \"sdt_ctx\": \"Cô Hạnh muốn đặt lịch, số là 0700718612, xin hỗ trợ.\", \"customer_name\": \"Hạnh\"},\n",
        "\t{\"sdt\": \"0351283257\", \"sdt_ctx\": \"Anh Quang cần tư vấn, liên hệ 0351283257, cảm ơn.\", \"customer_name\": \"Quang\"},\n",
        "\t{\"sdt\": \"0882387517\", \"sdt_ctx\": \"0882387517 là số của chị Thư, chị cần lịch khám.\", \"customer_name\": \"Thư\"},\n",
        "\t{\"sdt\": \"0588386182\", \"sdt_ctx\": \"Chú Bảo cần lịch khám gấp, số 0588386182.\", \"customer_name\": \"Bảo\"},\n",
        "\t{\"sdt\": \"0891535179\", \"sdt_ctx\": \"Chị Nhung xin tư vấn y tế, số điện thoại 0891535179.\", \"customer_name\": \"Nhung\"},\n",
        "\t{\"sdt\": \"0798699922\", \"sdt_ctx\": \"0798699922, anh Cường cần đặt lịch khám định kỳ.\", \"customer_name\": \"Cường\"},\n",
        "\t{\"sdt\": \"0845619550\", \"sdt_ctx\": \"Cô Tuyết muốn tư vấn, số là 0845619550, cảm ơn.\", \"customer_name\": \"Tuyết\"},\n",
        "\t{\"sdt\": \"0338277689\", \"sdt_ctx\": \"Anh Khánh cần lịch khám, 0338277689 là số của anh.\", \"customer_name\": \"Khánh\"},\n",
        "\t{\"sdt\": \"0949948063\", \"sdt_ctx\": \"0949948063, chị Yến muốn đặt lịch khám sớm.\", \"customer_name\": \"Yến\"},\n",
        "\t{\"sdt\": \"0704633119\", \"sdt_ctx\": \"Chú Hùng cần tư vấn y tế, số điện thoại 0704633119.\", \"customer_name\": \"Hùng\"},\n",
        "\t{\"sdt\": \"0373211518\", \"sdt_ctx\": \"Chị Hoa xin lịch khám, 0373211518 là số của chị.\", \"customer_name\": \"Hoa\"},\n",
        "\t{\"sdt\": \"0383927374\", \"sdt_ctx\": \"0383927374, anh Duy cần đặt lịch khám gấp.\", \"customer_name\": \"Duy\"},\n",
        "\t{\"sdt\": \"0794421485\", \"sdt_ctx\": \"Cô Mai cần tư vấn, số là 0794421485, xin hỗ trợ.\", \"customer_name\": \"Mai\"},\n",
        "\t{\"sdt\": \"0893317501\", \"sdt_ctx\": \"Anh Tài muốn đặt lịch, 0893317501 là số điện thoại.\", \"customer_name\": \"Tài\"},\n",
        "\t{\"sdt\": \"0381315955\", \"sdt_ctx\": \"0381315955, chú Long cần lịch khám định kỳ.\", \"customer_name\": \"Long\"},\n",
        "\t{\"sdt\": \"0977749608\", \"sdt_ctx\": \"Chị Ngọc Anh cần tư vấn, số 0977749608, cảm ơn.\", \"customer_name\": \"Ngọc Anh\"},\n",
        "\t{\"sdt\": \"0963322476\", \"sdt_ctx\": \"Anh Hưng xin lịch khám, 0963322476 là số của anh.\", \"customer_name\": \"Hưng\"},\n",
        "\t{\"sdt\": \"0780252835\", \"sdt_ctx\": \"0780252835, cô Liên cần đặt lịch khám sớm.\", \"customer_name\": \"Liên\"},\n",
        "\t{\"sdt\": \"0599618113\", \"sdt_ctx\": \"Chú Tín cần tư vấn y tế, số điện thoại 0599618113.\", \"customer_name\": \"Tín\"},\n",
        "\t{\"sdt\": \"0855804372\", \"sdt_ctx\": \"Chị Oanh muốn đặt lịch, 0855804372 là số của chị.\", \"customer_name\": \"Oanh\"},\n",
        "\t{\"sdt\": \"0340608195\", \"sdt_ctx\": \"0340608195, anh Phúc cần lịch khám gấp.\", \"customer_name\": \"Phúc\"},\n",
        "\t{\"sdt\": \"0779900688\", \"sdt_ctx\": \"Cô Thủy cần tư vấn, số là 0779900688, xin hỗ trợ.\", \"customer_name\": \"Thủy\"},\n",
        "\t{\"sdt\": \"0913973261\", \"sdt_ctx\": \"Anh Kiên xin lịch khám, 0913973261 là số điện thoại.\", \"customer_name\": \"Kiên\"},\n",
        "\t{\"sdt\": \"0372200015\", \"sdt_ctx\": \"0372200015, chị Hiền cần đặt lịch khám định kỳ.\", \"customer_name\": \"Hiền\"},\n",
        "\t{\"sdt\": \"0913597173\", \"sdt_ctx\": \"Chú Sang cần tư vấn y tế, số 0913597173, cảm ơn.\", \"customer_name\": \"Sang\"},\n",
        "\t{\"sdt\": \"0995988902\", \"sdt_ctx\": \"Chị Thu xin lịch khám, 0995988902 là số của chị.\", \"customer_name\": \"Thu\"},\n",
        "\t{\"sdt\": \"0939246271\", \"sdt_ctx\": \"0939246271, anh Bình cần đặt lịch khám sớm.\", \"customer_name\": \"Bình\"},\n",
        "\t{\"sdt\": \"0961939769\", \"sdt_ctx\": \"Cô Vân cần tư vấn, số là 0961939769, xin hỗ trợ.\", \"customer_name\": \"Vân\"},\n",
        "\t{\"sdt\": \"0597913813\", \"sdt_ctx\": \"Anh Thắng muốn đặt lịch, 0597913813 là số điện thoại.\", \"customer_name\": \"Thắng\"},\n",
        "\t{\"sdt\": \"0813114958\", \"sdt_ctx\": \"0813114958, chú Đức cần lịch khám gấp.\", \"customer_name\": \"Đức\"},\n",
        "\t{\"sdt\": \"0865529142\", \"sdt_ctx\": \"Chị Nhàn cần tư vấn y tế, số 0865529142, cảm ơn.\", \"customer_name\": \"Nhàn\"},\n",
        "\t{\"sdt\": \"0829593046\", \"sdt_ctx\": \"Anh Tâm xin lịch khám, 0829593046 là số của anh.\", \"customer_name\": \"Tâm\"},\n",
        "\t{\"sdt\": \"0813050468\", \"sdt_ctx\": \"0813050468, cô Hồng cần đặt lịch khám định kỳ.\", \"customer_name\": \"Hồng\"},\n",
        "\t{\"sdt\": \"0851478030\", \"sdt_ctx\": \"Chú Tiến cần tư vấn, số là 0851478030, xin hỗ trợ.\", \"customer_name\": \"Tiến\"},\n",
        "\t{\"sdt\": \"0792314952\", \"sdt_ctx\": \"Chị Lan Anh muốn đặt lịch, 0792314952 là số điện thoại.\", \"customer_name\": \"Lan Anh\"},\n",
        "\t{\"sdt\": \"0946830110\", \"sdt_ctx\": \"0946830110, anh Hoàng cần lịch khám gấp.\", \"customer_name\": \"Hoàng\"},\n",
        "\t{\"sdt\": \"0774125312\", \"sdt_ctx\": \"Cô Nguyệt cần tư vấn y tế, số 0774125312, cảm ơn.\", \"customer_name\": \"Nguyệt\"},\n",
        "\t{\"sdt\": \"0323457453\", \"sdt_ctx\": \"Anh Việt xin lịch khám, 0323457453 là số của anh.\", \"customer_name\": \"Việt\"},\n",
        "\t{\"sdt\": \"0994528553\", \"sdt_ctx\": \"0994528553, chị Hà Anh cần đặt lịch khám sớm.\", \"customer_name\": \"Hà Anh\"},\n",
        "\t{\"sdt\": \"0820832184\", \"sdt_ctx\": \"Chú Lâm cần tư vấn, số là 0820832184, xin hỗ trợ.\", \"customer_name\": \"Lâm\"},\n",
        "\t{\"sdt\": \"0992924921\", \"sdt_ctx\": \"Chị Thảo Anh muốn đặt lịch, 0992924921 là số điện thoại.\", \"customer_name\": \"Thảo Anh\"},\n",
        "\t{\"sdt\": \"0913235937\", \"sdt_ctx\": \"0913235937, anh Trung cần lịch khám định kỳ.\", \"customer_name\": \"Trung\"},\n",
        "\t{\"sdt\": \"0972525781\", \"sdt_ctx\": \"Cô Phượng cần tư vấn y tế, số 0972525781, cảm ơn.\", \"customer_name\": \"Phượng\"},\n",
        "\t{\"sdt\": \"0840445577\", \"sdt_ctx\": \"Anh Nam xin lịch khám, 0840445577 là số của anh.\", \"customer_name\": \"Nam\"},\n",
        "\t{\"sdt\": \"0947057162\", \"sdt_ctx\": \"0947057162, chị Hương Giang cần đặt lịch khám sớm.\", \"customer_name\": \"Hương Giang\"},\n",
        "\t{\"sdt\": \"0939922781\", \"sdt_ctx\": \"Chú Toàn cần tư vấn, số là 0939922781, xin hỗ trợ.\", \"customer_name\": \"Toàn\"},\n",
        "\t{\"sdt\": \"0359002030\", \"sdt_ctx\": \"Chị Trang muốn đặt lịch, 0359002030 là số điện thoại.\", \"customer_name\": \"Trang\"},\n",
        "\t{\"sdt\": \"0392581066\", \"sdt_ctx\": \"0392581066, anh Cường cần lịch khám gấp.\", \"customer_name\": \"Cường\"},\n",
        "\t{\"sdt\": \"0903174294\", \"sdt_ctx\": \"Cô Loan cần tư vấn y tế, số 0903174294, cảm ơn.\", \"customer_name\": \"Loan\"},\n",
        "\t{\"sdt\": \"0381327257\", \"sdt_ctx\": \"Anh Hậu xin lịch khám, 0381327257 là số của anh.\", \"customer_name\": \"Hậu\"},\n",
        "\t{\"sdt\": \"0707909826\", \"sdt_ctx\": \"0707909826, chị Mỹ cần đặt lịch khám định kỳ.\", \"customer_name\": \"Mỹ\"},\n",
        "\t{\"sdt\": \"0785584801\", \"sdt_ctx\": \"Chú Tâm cần tư vấn, số là 0785584801, xin hỗ trợ.\", \"customer_name\": \"Tâm\"},\n",
        "\t{\"sdt\": \"0854878608\", \"sdt_ctx\": \"Chị Ngọc Hà muốn đặt lịch, 0854878608 là số điện thoại.\", \"customer_name\": \"Ngọc Hà\"},\n",
        "\t{\"sdt\": \"0855524942\", \"sdt_ctx\": \"0855524942, anh Kha cần lịch khám gấp.\", \"customer_name\": \"Kha\"},\n",
        "\t{\"sdt\": \"0386965475\", \"sdt_ctx\": \"Cô Hường cần tư vấn y tế, số 0386965475, cảm ơn.\", \"customer_name\": \"Hường\"},\n",
        "\t{\"sdt\": \"0941331513\", \"sdt_ctx\": \"Anh Lộc xin lịch khám, 0941331513 là số của anh.\", \"customer_name\": \"Lộc\"},\n",
        "\t{\"sdt\": \"0855369330\", \"sdt_ctx\": \"0855369330, chị Thắm cần đặt lịch khám sớm.\", \"customer_name\": \"Thắm\"},\n",
        "\t{\"sdt\": \"0768751525\", \"sdt_ctx\": \"Chú Phẩm cần tư vấn, số là 0768751525, xin hỗ trợ.\", \"customer_name\": \"Phẩm\"},\n",
        "\t{\"sdt\": \"0937731036\", \"sdt_ctx\": \"Chị Duyên muốn đặt lịch, 0937731036 là số điện thoại.\", \"customer_name\": \"Duyên\"},\n",
        "\t{\"sdt\": \"0939316733\", \"sdt_ctx\": \"0939316733, anh Tính cần lịch khám định kỳ.\", \"customer_name\": \"Tính\"},\n",
        "\t{\"sdt\": \"0818187035\", \"sdt_ctx\": \"Cô Thanh cần tư vấn y tế, số 0818187035, cảm ơn.\", \"customer_name\": \"Thanh\"},\n",
        "\t{\"sdt\": \"0359104569\", \"sdt_ctx\": \"Anh Hảo xin lịch khám, 0359104569 là số của anh.\", \"customer_name\": \"Hảo\"},\n",
        "\t{\"sdt\": \"0844579756\", \"sdt_ctx\": \"0844579756, chị Lệ cần đặt lịch khám sớm.\", \"customer_name\": \"Lệ\"},\n",
        "\t{\"sdt\": \"0778427258\", \"sdt_ctx\": \"Chú Tường cần tư vấn, số là 0778427258, xin hỗ trợ.\", \"customer_name\": \"Tường\"},\n",
        "\t{\"sdt\": \"0828646518\", \"sdt_ctx\": \"Chị Minh Anh muốn đặt lịch, 0828646518 là số điện thoại.\", \"customer_name\": \"Minh Anh\"},\n",
        "\t{\"sdt\": \"0379550959\", \"sdt_ctx\": \"0379550959, anh Quân cần lịch khám gấp.\", \"customer_name\": \"Quân\"},\n",
        "\t{\"sdt\": \"0760053754\", \"sdt_ctx\": \"Cô Xuân cần tư vấn y tế, số 0760053754, cảm ơn.\", \"customer_name\": \"Xuân\"},\n",
        "\t{\"sdt\": \"0397552052\", \"sdt_ctx\": \"Anh Vương xin lịch khám, 0397552052 là số của anh.\", \"customer_name\": \"Vương\"},\n",
        "\t{\"sdt\": \"0983467064\", \"sdt_ctx\": \"0983467064, chị Tâm cần đặt lịch khám định kỳ.\", \"customer_name\": \"Tâm\"},\n",
        "\t{\"sdt\": \"0985541076\", \"sdt_ctx\": \"Chú Dần cần tư vấn, số là 0985541076, xin hỗ trợ.\", \"customer_name\": \"Dần\"},\n",
        "\t{\"sdt\": \"0586598024\", \"sdt_ctx\": \"Chị Hằng muốn đặt lịch, 0586598024 là số điện thoại.\", \"customer_name\": \"Hằng\"},\n",
        "\t{\"sdt\": \"0769930121\", \"sdt_ctx\": \"0769930121, anh Thịnh cần lịch khám gấp.\", \"customer_name\": \"Thịnh\"},\n",
        "\t{\"sdt\": \"0381213778\", \"sdt_ctx\": \"Cô Huệ cần tư vấn y tế, số 0381213778, cảm ơn.\", \"customer_name\": \"Huệ\"},\n",
        "\t{\"sdt\": \"0789026563\", \"sdt_ctx\": \"Anh Nghĩa xin lịch khám, 0789026563 là số của anh.\", \"customer_name\": \"Nghĩa\"},\n",
        "\t{\"sdt\": \"0830358662\", \"sdt_ctx\": \"E ơi, c Hương cần đặt lịch khám, sdt c là 0830358662, cảm ơn e.\", \"customer_name\": \"Hương\"},\n",
        "\t{\"sdt\": \"0776645300\", \"sdt_ctx\": \"0776645300, a Nam cần tư vấn y tế, mong hỗ trợ.\", \"customer_name\": \"Nam\"},\n",
        "\t{\"sdt\": \"0349003336\", \"sdt_ctx\": \"Cô Lan mong được tư vấn, sdt là 0349003336, xin cảm ơn.\", \"customer_name\": \"Lan\"},\n",
        "\t{\"sdt\": \"0921669041\", \"sdt_ctx\": \"A Tuấn cần lịch khám gấp, sdt a 0921669041, e hỗ trợ nhé.\", \"customer_name\": \"Tuấn\"},\n",
        "\t{\"sdt\": \"0935457848\", \"sdt_ctx\": \"Sdt c Mai là 0935457848, c cần đặt lịch khám định kỳ.\", \"customer_name\": \"Mai\"},\n",
        "\t{\"sdt\": \"0796352108\", \"sdt_ctx\": \"0796352108, chú Minh cần hẹn khám sớm, mong sắp xếp.\", \"customer_name\": \"Minh\"},\n",
        "\t{\"sdt\": \"0789722201\", \"sdt_ctx\": \"E ơi, a Hùng xin tư vấn y tế, sdt a là 0789722201.\", \"customer_name\": \"Hùng\"},\n",
        "\t{\"sdt\": \"0771487887\", \"sdt_ctx\": \"C Linh cần lịch khám, 0771487887 là sdt c, cảm ơn nhiều.\", \"customer_name\": \"Linh\"},\n",
        "\t{\"sdt\": \"0330049378\", \"sdt_ctx\": \"Sdt a Phong là 0330049378, a cần tư vấn y tế nhé.\", \"customer_name\": \"Phong\"},\n",
        "\t{\"sdt\": \"0938647715\", \"sdt_ctx\": \"0938647715, c Ngọc cần đặt lịch khám, e hỗ trợ c nhé.\", \"customer_name\": \"Ngọc\"},\n",
        "\t{\"sdt\": \"0832607242\", \"sdt_ctx\": \"Chú Tâm cần hẹn khám gấp, sdt chú 0832607242, xin hỗ trợ.\", \"customer_name\": \"Tâm\"},\n",
        "\t{\"sdt\": \"0843095359\", \"sdt_ctx\": \"E ơi, c Thảo muốn tư vấn, sdt c là 0843095359, cảm ơn e.\", \"customer_name\": \"Thảo\"},\n",
        "\t{\"sdt\": \"0855130155\", \"sdt_ctx\": \"0855130155, a Dũng cần lịch khám định kỳ, mong hỗ trợ.\", \"customer_name\": \"Dũng\"},\n",
        "\t{\"sdt\": \"0598482828\", \"sdt_ctx\": \"Cô Hà xin tư vấn y tế, sdt là 0598482828, xin cảm ơn.\", \"customer_name\": \"Hà\"},\n",
        "\t{\"sdt\": \"0328349298\", \"sdt_ctx\": \"Sdt a Khoa là 0328349298, a cần đặt lịch khám sớm.\", \"customer_name\": \"Khoa\"},\n",
        "\t{\"sdt\": \"0763451233\", \"sdt_ctx\": \"0763451233, c Quyên cần hẹn khám, e sắp xếp giúp c nhé.\", \"customer_name\": \"Quyên\"},\n",
        "\t{\"sdt\": \"0816935403\", \"sdt_ctx\": \"A Vinh cần tư vấn, sdt a 0816935403, cảm ơn e nhiều.\", \"customer_name\": \"Vinh\"},\n",
        "\t{\"sdt\": \"0898742247\", \"sdt_ctx\": \"Chú Hòa mong đặt lịch khám, 0898742247 là sdt chú.\", \"customer_name\": \"Hòa\"},\n",
        "\t{\"sdt\": \"0562594528\", \"sdt_ctx\": \"Sdt c Mai Anh là 0562594528, c cần tư vấn y tế nhé.\", \"customer_name\": \"Mai Anh\"},\n",
        "\t{\"sdt\": \"0779682401\", \"sdt_ctx\": \"0779682401, a Đức cần lịch khám gấp, mong hỗ trợ.\", \"customer_name\": \"Đức\"},\n",
        "\t{\"sdt\": \"0354797778\", \"sdt_ctx\": \"E ơi, c Phương xin lịch khám, sdt c là 0354797778.\", \"customer_name\": \"Phương\"},\n",
        "\t{\"sdt\": \"0596915804\", \"sdt_ctx\": \"Chú Thành cần tư vấn y tế, 0596915804 là sdt chú, cảm ơn.\", \"customer_name\": \"Thành\"},\n",
        "\t{\"sdt\": \"0777607911\", \"sdt_ctx\": \"Sdt a Tùng là 0777607911, a cần đặt lịch khám định kỳ.\", \"customer_name\": \"Tùng\"},\n",
        "\t{\"sdt\": \"0969662741\", \"sdt_ctx\": \"0969662741, cô Hạnh cần hẹn khám sớm, xin hỗ trợ.\", \"customer_name\": \"Hạnh\"},\n",
        "\t{\"sdt\": \"0589818391\", \"sdt_ctx\": \"A Quang xin tư vấn, sdt a 0589818391, e hỗ trợ nhé.\", \"customer_name\": \"Quang\"},\n",
        "\t{\"sdt\": \"0398243002\", \"sdt_ctx\": \"C Thư cần lịch khám, 0398243002 là sdt c, cảm ơn e.\", \"customer_name\": \"Thư\"},\n",
        "\t{\"sdt\": \"0762377225\", \"sdt_ctx\": \"Sdt chú Bảo là 0762377225, chú cần hẹn khám gấp.\", \"customer_name\": \"Bảo\"},\n",
        "\t{\"sdt\": \"0566011575\", \"sdt_ctx\": \"0566011575, c Nhung cần tư vấn y tế, mong hỗ trợ.\", \"customer_name\": \"Nhung\"},\n",
        "\t{\"sdt\": \"0947206571\", \"sdt_ctx\": \"E ơi, a Cường xin lịch khám, sdt a là 0947206571.\", \"customer_name\": \"Cường\"},\n",
        "\t{\"sdt\": \"0388615692\", \"sdt_ctx\": \"Cô Tuyết cần đặt lịch, 0388615692 là sdt, xin cảm ơn.\", \"customer_name\": \"Tuyết\"},\n",
        "\t{\"sdt\": \"0775882254\", \"sdt_ctx\": \"Sdt a Khánh là 0775882254, a cần tư vấn y tế nhé.\", \"customer_name\": \"Khánh\"},\n",
        "\t{\"sdt\": \"0941207374\", \"sdt_ctx\": \"0941207374, c Yến cần lịch khám định kỳ, e hỗ trợ c.\", \"customer_name\": \"Yến\"},\n",
        "\t{\"sdt\": \"0963780221\", \"sdt_ctx\": \"Chú Hùng mong tư vấn, sdt chú 0963780221, cảm ơn nhiều.\", \"customer_name\": \"Hùng\"},\n",
        "\t{\"sdt\": \"0973564830\", \"sdt_ctx\": \"E ơi, c Hoa cần hẹn khám, sdt c là 0973564830.\", \"customer_name\": \"Hoa\"},\n",
        "\t{\"sdt\": \"0928039208\", \"sdt_ctx\": \"Sdt a Duy là 0928039208, a cần đặt lịch khám sớm.\", \"customer_name\": \"Duy\"},\n",
        "\t{\"sdt\": \"0846981522\", \"sdt_ctx\": \"0846981522, cô Mai cần tư vấn y tế, xin hỗ trợ.\", \"customer_name\": \"Mai\"},\n",
        "\t{\"sdt\": \"0963695124\", \"sdt_ctx\": \"A Tài xin lịch khám, sdt a 0963695124, e sắp xếp nhé.\", \"customer_name\": \"Tài\"},\n",
        "\t{\"sdt\": \"0347355777\", \"sdt_ctx\": \"C Ngọc Anh cần hẹn khám, 0347355777 là sdt c, cảm ơn.\", \"customer_name\": \"Ngọc Anh\"},\n",
        "\t{\"sdt\": \"0785696675\", \"sdt_ctx\": \"Sdt a Hưng là 0785696675, a cần tư vấn y tế nhé.\", \"customer_name\": \"Hưng\"},\n",
        "\t{\"sdt\": \"0379707413\", \"sdt_ctx\": \"0379707413, cô Liên cần lịch khám gấp, mong hỗ trợ.\", \"customer_name\": \"Liên\"},\n",
        "\t{\"sdt\": \"0909391345\", \"sdt_ctx\": \"E ơi, chú Tín xin tư vấn, sdt chú là 0909391345.\", \"customer_name\": \"Tín\"},\n",
        "\t{\"sdt\": \"0933995375\", \"sdt_ctx\": \"C Oanh cần đặt lịch, 0933995375 là sdt c, xin cảm ơn.\", \"customer_name\": \"Oanh\"},\n",
        "\t{\"sdt\": \"0817313638\", \"sdt_ctx\": \"Sdt a Phúc là 0817313638, a cần hẹn khám định kỳ.\", \"customer_name\": \"Phúc\"},\n",
        "\t{\"sdt\": \"0891660663\", \"sdt_ctx\": \"0891660663, cô Thủy cần tư vấn y tế, e hỗ trợ nhé.\", \"customer_name\": \"Thủy\"},\n",
        "\t{\"sdt\": \"0399348687\", \"sdt_ctx\": \"A Kiên xin lịch khám, sdt a 0399348687, cảm ơn e.\", \"customer_name\": \"Kiên\"},\n",
        "\t{\"sdt\": \"0998492222\", \"sdt_ctx\": \"C Hiền cần hẹn khám, 0998492222 là sdt c, mong hỗ trợ.\", \"customer_name\": \"Hiền\"},\n",
        "\t{\"sdt\": \"0582662304\", \"sdt_ctx\": \"Sdt chú Sang là 0582662304, chú cần tư vấn y tế nhé.\", \"customer_name\": \"Sang\"},\n",
        "\t{\"sdt\": \"0855072441\", \"sdt_ctx\": \"0855072441, c Thu cần lịch khám sớm, xin hỗ trợ.\", \"customer_name\": \"Thu\"},\n",
        "\t{\"sdt\": \"0369780385\", \"sdt_ctx\": \"E ơi, a Bình xin tư vấn, sdt a là 0369780385.\", \"customer_name\": \"Bình\"},\n",
        "\t{\"sdt\": \"0913074361\", \"sdt_ctx\": \"Cô Vân cần đặt lịch, 0913074361 là sdt, cảm ơn nhiều.\", \"customer_name\": \"Vân\"},\n",
        "\t{\"sdt\": \"0949232331\", \"sdt_ctx\": \"Sdt a Thắng là 0949232331, a cần hẹn khám gấp.\", \"customer_name\": \"Thắng\"},\n",
        "\t{\"sdt\": \"0592364812\", \"sdt_ctx\": \"0592364812, chú Đức cần tư vấn y tế, mong hỗ trợ.\", \"customer_name\": \"Đức\"},\n",
        "\t{\"sdt\": \"0364399049\", \"sdt_ctx\": \"C Nhàn xin lịch khám, sdt c 0364399049, e hỗ trợ nhé.\", \"customer_name\": \"Nhàn\"},\n",
        "\t{\"sdt\": \"0907978992\", \"sdt_ctx\": \"Sdt a Tâm là 0907978992, a cần đặt lịch khám định kỳ.\", \"customer_name\": \"Tâm\"},\n",
        "\t{\"sdt\": \"0345350400\", \"sdt_ctx\": \"0345350400, cô Hồng cần hẹn khám sớm, xin cảm ơn.\", \"customer_name\": \"Hồng\"},\n",
        "\t{\"sdt\": \"0998569408\", \"sdt_ctx\": \"E ơi, chú Tiến xin tư vấn, sdt chú là 0998569408.\", \"customer_name\": \"Tiến\"},\n",
        "\t{\"sdt\": \"0884955086\", \"sdt_ctx\": \"C Lan Anh cần lịch khám, 0884955086 là sdt c, cảm ơn.\", \"customer_name\": \"Lan Anh\"},\n",
        "\t{\"sdt\": \"0862892495\", \"sdt_ctx\": \"Sdt a Hoàng là 0862892495, a cần tư vấn y tế nhé.\", \"customer_name\": \"Hoàng\"},\n",
        "\t{\"sdt\": \"0389573730\", \"sdt_ctx\": \"0389573730, cô Nguyệt cần hẹn khám gấp, mong hỗ trợ.\", \"customer_name\": \"Nguyệt\"},\n",
        "\t{\"sdt\": \"0928369529\", \"sdt_ctx\": \"A Việt xin lịch khám, sdt a 0928369529, e hỗ trợ nhé.\", \"customer_name\": \"Việt\"},\n",
        "\t{\"sdt\": \"0347443933\", \"sdt_ctx\": \"C Hà Anh cần đặt lịch, 0347443933 là sdt c, xin cảm ơn.\", \"customer_name\": \"Hà Anh\"},\n",
        "\t{\"sdt\": \"0995083688\", \"sdt_ctx\": \"Sdt chú Lâm là 0995083688, chú cần tư vấn y tế nhé.\", \"customer_name\": \"Lâm\"},\n",
        "\t{\"sdt\": \"0794291418\", \"sdt_ctx\": \"0794291418, c Thảo Anh cần lịch khám sớm, mong hỗ trợ.\", \"customer_name\": \"Thảo Anh\"},\n",
        "\t{\"sdt\": \"0864553501\", \"sdt_ctx\": \"E ơi, a Trung xin tư vấn, sdt a là 0864553501.\", \"customer_name\": \"Trung\"},\n",
        "\t{\"sdt\": \"0892988122\", \"sdt_ctx\": \"C Phượng cần hẹn khám, 0892988122 là sdt c, cảm ơn e.\", \"customer_name\": \"Phượng\"},\n",
        "\t{\"sdt\": \"0592783689\", \"sdt_ctx\": \"Sdt a Nam là 0592783689, a cần đặt lịch khám định kỳ.\", \"customer_name\": \"Nam\"},\n",
        "\t{\"sdt\": \"0399946303\", \"sdt_ctx\": \"0399946303, cô Hương Giang cần tư vấn y tế, xin hỗ trợ.\", \"customer_name\": \"Hương Giang\"},\n",
        "\t{\"sdt\": \"0358398836\", \"sdt_ctx\": \"A Toàn xin lịch khám, sdt a 0358398836, e hỗ trợ nhé.\", \"customer_name\": \"Toàn\"},\n",
        "\t{\"sdt\": \"0929393945\", \"sdt_ctx\": \"C Trang cần đặt lịch, 0929393945 là sdt c, cảm ơn nhiều.\", \"customer_name\": \"Trang\"},\n",
        "\t{\"sdt\": \"0881130193\", \"sdt_ctx\": \"Sdt a Cường là 0881130193, a cần hẹn khám gấp.\", \"customer_name\": \"Cường\"},\n",
        "\t{\"sdt\": \"0907935597\", \"sdt_ctx\": \"0907935597, cô Loan cần tư vấn y tế, mong hỗ trợ.\", \"customer_name\": \"Loan\"},\n",
        "\t{\"sdt\": \"0824929446\", \"sdt_ctx\": \"E ơi, a Hậu xin lịch khám, sdt a là 0824929446.\", \"customer_name\": \"Hậu\"},\n",
        "\t{\"sdt\": \"0791134565\", \"sdt_ctx\": \"C Mỹ cần hẹn khám, 0791134565 là sdt c, xin cảm ơn.\", \"customer_name\": \"Mỹ\"},\n",
        "\t{\"sdt\": \"0393659912\", \"sdt_ctx\": \"Sdt chú Tâm là 0393659912, chú cần đặt lịch khám sớm.\", \"customer_name\": \"Tâm\"},\n",
        "\t{\"sdt\": \"0835395630\", \"sdt_ctx\": \"0835395630, c Ngọc Hà cần tư vấn y tế, e hỗ trợ nhé.\", \"customer_name\": \"Ngọc Hà\"},\n",
        "\t{\"sdt\": \"0370007555\", \"sdt_ctx\": \"A Kha xin lịch khám, sdt a 0370007555, cảm ơn e.\", \"customer_name\": \"Kha\"},\n",
        "\t{\"sdt\": \"0770001589\", \"sdt_ctx\": \"Cô Hường cần hẹn khám, 0770001589 là sdt, mong hỗ trợ.\", \"customer_name\": \"Hường\"},\n",
        "\t{\"sdt\": \"0921771810\", \"sdt_ctx\": \"Sdt a Lộc là 0921771810, a cần tư vấn y tế nhé.\", \"customer_name\": \"Lộc\"},\n",
        "\t{\"sdt\": \"0585376772\", \"sdt_ctx\": \"0585376772, c Thắm cần đặt lịch khám sớm, xin hỗ trợ.\", \"customer_name\": \"Thắm\"},\n",
        "\t{\"sdt\": \"0933566362\", \"sdt_ctx\": \"Chú Phẩm mong tư vấn, sdt chú 0933566362, cảm ơn nhiều.\", \"customer_name\": \"Phẩm\"},\n",
        "\t{\"sdt\": \"0820861544\", \"sdt_ctx\": \"E ơi, c Duyên xin lịch khám, sdt c là 0820861544.\", \"customer_name\": \"Duyên\"},\n",
        "\t{\"sdt\": \"0760450275\", \"sdt_ctx\": \"Sdt a Tính là 0760450275, a cần hẹn khám gấp.\", \"customer_name\": \"Tính\"},\n",
        "\t{\"sdt\": \"0701154704\", \"sdt_ctx\": \"0701154704, cô Thanh cần tư vấn y tế, e hỗ trợ nhé.\", \"customer_name\": \"Thanh\"},\n",
        "\t{\"sdt\": \"0323142518\", \"sdt_ctx\": \"A Hảo xin lịch khám, sdt a 0323142518, cảm ơn e.\", \"customer_name\": \"Hảo\"},\n",
        "\t{\"sdt\": \"0822245014\", \"sdt_ctx\": \"C Lệ cần đặt lịch, 0822245014 là sdt c, xin hỗ trợ.\", \"customer_name\": \"Lệ\"},\n",
        "\t{\"sdt\": \"0847418409\", \"sdt_ctx\": \"Sdt chú Tường là 0847418409, chú cần tư vấn y tế nhé.\", \"customer_name\": \"Tường\"},\n",
        "\t{\"sdt\": \"0931033651\", \"sdt_ctx\": \"0931033651, c Minh Anh cần hẹn khám sớm, mong hỗ trợ.\", \"customer_name\": \"Minh Anh\"},\n",
        "\t{\"sdt\": \"0763749708\", \"sdt_ctx\": \"E ơi, a Quân xin tư vấn, sdt a là 0763749708.\", \"customer_name\": \"Quân\"},\n",
        "\t{\"sdt\": \"0778022532\", \"sdt_ctx\": \"Cô Xuân cần lịch khám, 0778022532 là sdt, cảm ơn e.\", \"customer_name\": \"Xuân\"},\n",
        "\t{\"sdt\": \"0836060078\", \"sdt_ctx\": \"Sdt a Vương là 0836060078, a cần đặt lịch khám định kỳ.\", \"customer_name\": \"Vương\"},\n",
        "\t{\"sdt\": \"0827893957\", \"sdt_ctx\": \"0827893957, c Tâm cần tư vấn y tế, xin hỗ trợ.\", \"customer_name\": \"Tâm\"},\n",
        "\t{\"sdt\": \"0357037240\", \"sdt_ctx\": \"Chú Dần mong hẹn khám, sdt chú 0357037240, e hỗ trợ nhé.\", \"customer_name\": \"Dần\"},\n",
        "\t{\"sdt\": \"0812582448\", \"sdt_ctx\": \"E ơi, c Hằng xin lịch khám, sdt c là 0812582448.\", \"customer_name\": \"Hằng\"},\n",
        "\t{\"sdt\": \"0785092688\", \"sdt_ctx\": \"Sdt a Thịnh là 0785092688, a cần tư vấn y tế nhé.\", \"customer_name\": \"Thịnh\"},\n",
        "\t{\"sdt\": \"0968953735\", \"sdt_ctx\": \"0968953735, cô Huệ cần hẹn khám gấp, mong hỗ trợ.\", \"customer_name\": \"Huệ\"},\n",
        "\t{\"sdt\": \"0599690943\", \"sdt_ctx\": \"A Nghĩa xin lịch khám, sdt a 0599690943, cảm ơn e.\", \"customer_name\": \"Nghĩa\"},\n",
        "\t{\"sdt\": \"0358384527\", \"sdt_ctx\": \"Cô Hồng Nhung cần tư vấn, sdt là 0358384527, xin hỗ trợ.\", \"customer_name\": \"Hồng Nhung\"},\n",
        "\t{\"sdt\": \"0773252446\", \"sdt_ctx\": \"Sdt a Phát là 0773252446, a cần đặt lịch khám sớm.\", \"customer_name\": \"Phát\"},\n",
        "\t{\"sdt\": \"0856542676\", \"sdt_ctx\": \"0856542676, c Thùy cần hẹn khám định kỳ, e hỗ trợ nhé.\", \"customer_name\": \"Thùy\"},\n",
        "\t{\"sdt\": \"0323105882\", \"sdt_ctx\": \"E ơi, chú Hiền xin tư vấn, sdt chú là 0323105882.\", \"customer_name\": \"Hiền\"}\n",
        "]"
      ],
      "metadata": {
        "id": "dMTR0iFtM_Sb"
      },
      "execution_count": null,
      "outputs": []
    },
    {
      "cell_type": "markdown",
      "source": [
        "##### correct_medical_department"
      ],
      "metadata": {
        "id": "7wDdQkTpMqz0"
      }
    },
    {
      "cell_type": "code",
      "source": [
        "correct_medical_department = [{\"sdt\": \"0858749444\", \"sdt_ctx\": \"E xin đặt lịch khám mắt, số e là 0858749444\", \"medical_department\": \"mắt\"},\n",
        "    {\"sdt\": \"0701006790\", \"sdt_ctx\": \"C mong muốn đăng ký khám phụ khoa, số c là 0701006790\", \"medical_department\": \"phụ khoa\"},\n",
        "    {\"sdt\": \"0563527563\", \"sdt_ctx\": \"A xin hỏi bác sĩ tai mũi họng mai có làm việc không, số a là 0563527563\", \"medical_department\": \"tai mũi họng\"},\n",
        "    {\"sdt\": \"0794671941\", \"sdt_ctx\": \"E cần đặt lịch khám tim mạch khẩn cấp, số e là 0794671941\", \"medical_department\": \"tim mạch\"},\n",
        "    {\"sdt\": \"0993819666\", \"sdt_ctx\": \"E muốn kiểm tra da liễu, số e là 0993819666\", \"medical_department\": \"da liễu\"},\n",
        "    {\"sdt\": \"0764901721\", \"sdt_ctx\": \"C xin đăng ký khám tổng quát, số c là 0764901721\", \"medical_department\": \"tổng quát\"},\n",
        "    {\"sdt\": \"0787457165\", \"sdt_ctx\": \"A muốn đặt lịch khám nha khoa, số a là 0787457165\", \"medical_department\": \"nha khoa\"},\n",
        "    {\"sdt\": \"0580187189\", \"sdt_ctx\": \"E xin đặt lịch siêu âm, số e là 0580187189\", \"medical_department\": \"siêu âm\"},\n",
        "    {\"sdt\": \"0949760992\", \"sdt_ctx\": \"A cần kiểm tra chức năng gan, số a là 0949760992\", \"medical_department\": \"gan\"},\n",
        "    {\"sdt\": \"0398600654\", \"sdt_ctx\": \"E xin đặt lịch khám nhi cho con, số e là 0398600654\", \"medical_department\": \"nhi\"},\n",
        "    {\"sdt\": \"0978536793\", \"sdt_ctx\": \"C mong được tư vấn về dinh dưỡng, số c là 0978536793\", \"medical_department\": \"dinh dưỡng\"},\n",
        "    {\"sdt\": \"0380600003\", \"sdt_ctx\": \"A xin đăng ký khám hô hấp, số a là 0380600003\", \"medical_department\": \"hô hấp\"},\n",
        "    {\"sdt\": \"0328255789\", \"sdt_ctx\": \"E cần khám xương khớp, số e là 0328255789\", \"medical_department\": \"xương khớp\"},\n",
        "    {\"sdt\": \"0949096470\", \"sdt_ctx\": \"A xin hẹn gặp bác sĩ sớm nhất có thể, số a là 0949096470\", \"medical_department\": \"\"},\n",
        "    {\"sdt\": \"0367227841\", \"sdt_ctx\": \"C muốn kiểm tra tình trạng da, số c là 0367227841\", \"medical_department\": \"da\"},\n",
        "    {\"sdt\": \"0810820426\", \"sdt_ctx\": \"A xin hỏi lịch làm việc của bác sĩ nội, số a là 0810820426\", \"medical_department\": \"nội\"},\n",
        "    {\"sdt\": \"0793672211\", \"sdt_ctx\": \"E cần làm xét nghiệm máu, số e là 0793672211\", \"medical_department\": \"xét nghiệm máu\"},\n",
        "    {\"sdt\": \"0345709481\", \"sdt_ctx\": \"A xin đặt lịch khám sức khỏe định kỳ, số a là 0345709481\", \"medical_department\": \"sức khỏe định kỳ\"},\n",
        "    {\"sdt\": \"0922945534\", \"sdt_ctx\": \"C mong muốn đăng ký siêu âm, số c là 0922945534\", \"medical_department\": \"siêu âm\"},\n",
        "    {\"sdt\": \"0882380618\", \"sdt_ctx\": \"E xin đặt lịch khám tai mũi họng, số e là 0882380618\", \"medical_department\": \"tai mũi họng\"},\n",
        "    {\"sdt\": \"0819730400\", \"sdt_ctx\": \"A cần tư vấn về sức khỏe tim mạch, số a là 0819730400\", \"medical_department\": \"tim mạch\"},\n",
        "    {\"sdt\": \"0342092102\", \"sdt_ctx\": \"C xin đăng ký khám nha khoa, số c là 0342092102\", \"medical_department\": \"nha khoa\"},\n",
        "    {\"sdt\": \"0598036979\", \"sdt_ctx\": \"E muốn kiểm tra chức năng phổi, số e là 0598036979\", \"medical_department\": \"phổi\"},\n",
        "    {\"sdt\": \"0344430168\", \"sdt_ctx\": \"A xin đặt lịch khám mắt, số a là 0344430168\", \"medical_department\": \"mắt\"},\n",
        "    {\"sdt\": \"0943440483\", \"sdt_ctx\": \"C cần khám phụ khoa, số c là 0943440483\", \"medical_department\": \"phụ khoa\"},\n",
        "    {\"sdt\": \"0362771341\", \"sdt_ctx\": \"E xin hẹn khám da liễu, số e là 0362771341\", \"medical_department\": \"da liễu\"},\n",
        "    {\"sdt\": \"0811585114\", \"sdt_ctx\": \"A mong được tư vấn về dinh dưỡng, số a là 0811585114\", \"medical_department\": \"dinh dưỡng\"},\n",
        "    {\"sdt\": \"0346218904\", \"sdt_ctx\": \"C xin đặt lịch khám tổng quát, số c là 0346218904\", \"medical_department\": \"tổng quát\"},\n",
        "    {\"sdt\": \"0867736607\", \"sdt_ctx\": \"E cần kiểm tra xương khớp, số e là 0867736607\", \"medical_department\": \"xương khớp\"},\n",
        "    {\"sdt\": \"0973719055\", \"sdt_ctx\": \"A xin đăng ký khám nhi cho con, số a là 0973719055\", \"medical_department\": \"nhi\"},\n",
        "    {\"sdt\": \"0329447696\", \"sdt_ctx\": \"C muốn kiểm tra chức năng gan, số c là 0329447696\", \"medical_department\": \"gan\"},\n",
        "    {\"sdt\": \"0976613352\", \"sdt_ctx\": \"E xin hỏi lịch bác sĩ tai mũi họng, số e là 0976613352\", \"medical_department\": \"tai mũi họng\"},\n",
        "    {\"sdt\": \"0341713737\", \"sdt_ctx\": \"A cần làm xét nghiệm máu, số a là 0341713737\", \"medical_department\": \"xét nghiệm máu\"},\n",
        "    {\"sdt\": \"0768808077\", \"sdt_ctx\": \"C xin đặt lịch siêu âm, số c là 0768808077\", \"medical_department\": \"siêu âm\"},\n",
        "    {\"sdt\": \"0352142570\", \"sdt_ctx\": \"E muốn khám tim mạch, số e là 0352142570\", \"medical_department\": \"tim mạch\"},\n",
        "    {\"sdt\": \"0933335609\", \"sdt_ctx\": \"A xin đăng ký khám nha khoa, số a là 0933335609\", \"medical_department\": \"nha khoa\"},\n",
        "    {\"sdt\": \"0321787761\", \"sdt_ctx\": \"C cần kiểm tra da liễu, số c là 0321787761\", \"medical_department\": \"da liễu\"},\n",
        "    {\"sdt\": \"0814145586\", \"sdt_ctx\": \"E xin hẹn khám sức khỏe định kỳ, số e là 0814145586\", \"medical_department\": \"sức khỏe định kỳ\"},\n",
        "    {\"sdt\": \"0788131241\", \"sdt_ctx\": \"A mong được tư vấn về hô hấp, số a là 0788131241\", \"medical_department\": \"hô hấp\"},\n",
        "    {\"sdt\": \"0388458856\", \"sdt_ctx\": \"C xin đặt lịch khám phụ khoa, số c là 0388458856\", \"medical_department\": \"phụ khoa\"},\n",
        "    {\"sdt\": \"0929837908\", \"sdt_ctx\": \"E cần khám mắt, số e là 0929837908\", \"medical_department\": \"mắt\"},\n",
        "    {\"sdt\": \"0857101550\", \"sdt_ctx\": \"A xin đăng ký khám xương khớp, số a là 0857101550\", \"medical_department\": \"xương khớp\"},\n",
        "    {\"sdt\": \"0911253933\", \"sdt_ctx\": \"C muốn kiểm tra chức năng gan, số c là 0911253933\", \"medical_department\": \"gan\"},\n",
        "    {\"sdt\": \"0397975639\", \"sdt_ctx\": \"E xin đặt lịch khám nhi cho con, số e là 0397975639\", \"medical_department\": \"nhi\"},\n",
        "    {\"sdt\": \"0978266462\", \"sdt_ctx\": \"A cần tư vấn về dinh dưỡng, số a là 0978266462\", \"medical_department\": \"dinh dưỡng\"},\n",
        "    {\"sdt\": \"0597080791\", \"sdt_ctx\": \"C xin hẹn khám tai mũi họng, số c là 0597080791\", \"medical_department\": \"tai mũi họng\"},\n",
        "    {\"sdt\": \"0815016002\", \"sdt_ctx\": \"E muốn làm xét nghiệm máu, số e là 0815016002\", \"medical_department\": \"xét nghiệm máu\"},\n",
        "    {\"sdt\": \"0704989136\", \"sdt_ctx\": \"A xin đặt lịch khám tổng quát, số a là 0704989136\", \"medical_department\": \"tổng quát\"},\n",
        "    {\"sdt\": \"0369905884\", \"sdt_ctx\": \"C cần khám tim mạch, số c là 0369905884\", \"medical_department\": \"tim mạch\"},\n",
        "    {\"sdt\": \"0938624813\", \"sdt_ctx\": \"E xin đăng ký khám nha khoa, số e là 0938624813\", \"medical_department\": \"nha khoa\"},\n",
        "    {\"sdt\": \"0986146945\", \"sdt_ctx\": \"A muốn kiểm tra phổi, số a là 0986146945\", \"medical_department\": \"phổi\"},\n",
        "    {\"sdt\": \"0392627542\", \"sdt_ctx\": \"C xin đặt lịch siêu âm, số c là 0392627542\", \"medical_department\": \"siêu âm\"},\n",
        "    {\"sdt\": \"0914775491\", \"sdt_ctx\": \"E cần khám da liễu, số e là 0914775491\", \"medical_department\": \"da liễu\"},\n",
        "    {\"sdt\": \"0928267264\", \"sdt_ctx\": \"A xin hẹn khám sức khỏe định kỳ, số a là 0928267264\", \"medical_department\": \"sức khỏe định kỳ\"},\n",
        "    {\"sdt\": \"0768872237\", \"sdt_ctx\": \"C mong được tư vấn về dinh dưỡng, số c là 0768872237\", \"medical_department\": \"dinh dưỡng\"},\n",
        "    {\"sdt\": \"0393863572\", \"sdt_ctx\": \"E xin đặt lịch khám nhi, số e là 0393863572\", \"medical_department\": \"nhi\"},\n",
        "    {\"sdt\": \"0765819377\", \"sdt_ctx\": \"A cần kiểm tra mắt, số a là 0765819377\", \"medical_department\": \"mắt\"},\n",
        "    {\"sdt\": \"0811514339\", \"sdt_ctx\": \"C xin đặt lịch khám phụ khoa, số c là 0811514339\", \"medical_department\": \"phụ khoa\"},\n",
        "    {\"sdt\": \"0986873526\", \"sdt_ctx\": \"E muốn làm xét nghiệm máu, số e là 0986873526\", \"medical_department\": \"xét nghiệm máu\"},\n",
        "    {\"sdt\": \"0703626404\", \"sdt_ctx\": \"A xin hỏi lịch bác sĩ tai mũi họng, số a là 0703626404\", \"medical_department\": \"tai mũi họng\"},\n",
        "    {\"sdt\": \"0980649936\", \"sdt_ctx\": \"C cần khám xương khớp, số c là 0980649936\", \"medical_department\": \"xương khớp\"},\n",
        "    {\"sdt\": \"0810278365\", \"sdt_ctx\": \"E xin đặt lịch siêu âm, số e là 0810278365\", \"medical_department\": \"siêu âm\"},\n",
        "    {\"sdt\": \"0960589739\", \"sdt_ctx\": \"A muốn kiểm tra chức năng gan, số a là 0960589739\", \"medical_department\": \"gan\"},\n",
        "    {\"sdt\": \"0826021092\", \"sdt_ctx\": \"C xin hẹn khám nha khoa, số c là 0826021092\", \"medical_department\": \"nha khoa\"},\n",
        "    {\"sdt\": \"0848170488\", \"sdt_ctx\": \"E cần khám tim mạch, số e là 0848170488\", \"medical_department\": \"tim mạch\"},\n",
        "    {\"sdt\": \"0774672905\", \"sdt_ctx\": \"A xin đăng ký khám tổng quát, số a là 0774672905\", \"medical_department\": \"tổng quát\"},\n",
        "    {\"sdt\": \"0995668261\", \"sdt_ctx\": \"C muốn kiểm tra da liễu, số c là 0995668261\", \"medical_department\": \"da liễu\"},\n",
        "    {\"sdt\": \"0895895589\", \"sdt_ctx\": \"E xin đặt lịch khám nhi cho con, số e là 0895895589\", \"medical_department\": \"nhi\"},\n",
        "    {\"sdt\": \"0984299424\", \"sdt_ctx\": \"A cần tư vấn về hô hấp, số a là 0984299424\", \"medical_department\": \"hô hấp\"},\n",
        "    {\"sdt\": \"0368467173\", \"sdt_ctx\": \"C xin hẹn khám sức khỏe định kỳ, số c là 0368467173\", \"medical_department\": \"sức khỏe định kỳ\"},\n",
        "    {\"sdt\": \"0383612477\", \"sdt_ctx\": \"E muốn khám mắt, số e là 0383612477\", \"medical_department\": \"mắt\"},\n",
        "    {\"sdt\": \"0813673545\", \"sdt_ctx\": \"A xin đặt lịch siêu âm, số a là 0813673545\", \"medical_department\": \"siêu âm\"},\n",
        "    {\"sdt\": \"0845524020\", \"sdt_ctx\": \"C cần kiểm tra phụ khoa, số c là 0845524020\", \"medical_department\": \"phụ khoa\"},\n",
        "    {\"sdt\": \"0339179642\", \"sdt_ctx\": \"E xin đăng ký khám nha khoa, số e là 0339179642\", \"medical_department\": \"nha khoa\"},\n",
        "    {\"sdt\": \"0932231545\", \"sdt_ctx\": \"A muốn kiểm tra xương khớp, số a là 0932231545\", \"medical_department\": \"xương khớp\"},\n",
        "    {\"sdt\": \"0390161629\", \"sdt_ctx\": \"C xin hẹn khám tai mũi họng, số c là 0390161629\", \"medical_department\": \"tai mũi họng\"},\n",
        "    {\"sdt\": \"0708719692\", \"sdt_ctx\": \"E cần làm xét nghiệm máu, số e là 0708719692\", \"medical_department\": \"xét nghiệm máu\"},\n",
        "    {\"sdt\": \"0913871013\", \"sdt_ctx\": \"A xin đặt lịch khám tổng quát, số a là 0913871013\", \"medical_department\": \"tổng quát\"},\n",
        "    {\"sdt\": \"0892977463\", \"sdt_ctx\": \"C mong được tư vấn về dinh dưỡng, số c là 0892977463\", \"medical_department\": \"dinh dưỡng\"},\n",
        "    {\"sdt\": \"0969554016\", \"sdt_ctx\": \"E muốn khám tim mạch, số e là 0969554016\", \"medical_department\": \"tim mạch\"},\n",
        "    {\"sdt\": \"0967968418\", \"sdt_ctx\": \"A xin đăng ký khám nhi cho con, số a là 0967968418\", \"medical_department\": \"nhi\"},\n",
        "    {\"sdt\": \"0989189835\", \"sdt_ctx\": \"C cần kiểm tra da liễu, số c là 0989189835\", \"medical_department\": \"da liễu\"},\n",
        "    {\"sdt\": \"0934988280\", \"sdt_ctx\": \"E xin hẹn khám sức khỏe định kỳ, số e là 0934988280\", \"medical_department\": \"sức khỏe định kỳ\"},\n",
        "    {\"sdt\": \"0597334911\", \"sdt_ctx\": \"A muốn kiểm tra chức năng gan, số a là 0597334911\", \"medical_department\": \"gan\"},\n",
        "    {\"sdt\": \"0922724393\", \"sdt_ctx\": \"C xin đặt lịch siêu âm, số c là 0922724393\", \"medical_department\": \"siêu âm\"},\n",
        "    {\"sdt\": \"0763859982\", \"sdt_ctx\": \"E cần khám mắt, số e là 0763859982\", \"medical_department\": \"mắt\"},\n",
        "    {\"sdt\": \"0598995285\", \"sdt_ctx\": \"A xin đăng ký khám nha khoa, số a là 0598995285\", \"medical_department\": \"nha khoa\"},\n",
        "    {\"sdt\": \"0772502794\", \"sdt_ctx\": \"C cần kiểm tra phụ khoa, số c là 0772502794\", \"medical_department\": \"phụ khoa\"},\n",
        "    {\"sdt\": \"0905532463\", \"sdt_ctx\": \"E xin hẹn khám tai mũi họng, số e là 0905532463\", \"medical_department\": \"tai mũi họng\"},\n",
        "    {\"sdt\": \"0821855289\", \"sdt_ctx\": \"A cần tư vấn về hô hấp, số a là 0821855289\", \"medical_department\": \"hô hấp\"},\n",
        "    {\"sdt\": \"0789642047\", \"sdt_ctx\": \"C xin đặt lịch khám tổng quát, số c là 0789642047\", \"medical_department\": \"tổng quát\"},\n",
        "    {\"sdt\": \"0351686523\", \"sdt_ctx\": \"E muốn làm xét nghiệm máu, số e là 0351686523\", \"medical_department\": \"xét nghiệm máu\"},\n",
        "    {\"sdt\": \"0333829800\", \"sdt_ctx\": \"A xin đăng ký khám xương khớp, số a là 0333829800\", \"medical_department\": \"xương khớp\"},\n",
        "    {\"sdt\": \"0887773056\", \"sdt_ctx\": \"C cần kiểm tra da liễu, số c là 0887773056\", \"medical_department\": \"da liễu\"},\n",
        "    {\"sdt\": \"0816206926\", \"sdt_ctx\": \"E xin đặt lịch khám nhi cho con, số e là 0816206926\", \"medical_department\": \"nhi\"},\n",
        "    {\"sdt\": \"0896895439\", \"sdt_ctx\": \"A mong được tư vấn về dinh dưỡng, số a là 0896895439\", \"medical_department\": \"dinh dưỡng\"},\n",
        "    {\"sdt\": \"0881677754\", \"sdt_ctx\": \"C xin đặt lịch siêu âm, số c là 0881677754\", \"medical_department\": \"siêu âm\"},\n",
        "    {\"sdt\": \"0818082294\", \"sdt_ctx\": \"E cần khám tim mạch, số e là 0818082294\", \"medical_department\": \"tim mạch\"},\n",
        "    {\"sdt\": \"0921180704\", \"sdt_ctx\": \"A xin đăng ký khám nha khoa, số a là 0921180704\", \"medical_department\": \"nha khoa\"},\n",
        "    {\"sdt\": \"0938005690\", \"sdt_ctx\": \"C muốn kiểm tra chức năng gan, số c là 0938005690\", \"medical_department\": \"gan\"},\n",
        "\t{\"sdt\": \"0916636421\", \"sdt_ctx\": \"A ơi, đặt lịch khám tiêu hóa cho e, sdt 0916636421 nha!\", \"medical_department\": \"tiêu hóa\"},\n",
        "\t{\"sdt\": \"0595709154\", \"sdt_ctx\": \"C ơi, sdt 0595709154, e muốn khám mắt, sắp xếp giùm nha!\", \"medical_department\": \"mắt\"},\n",
        "\t{\"sdt\": \"0941756475\", \"sdt_ctx\": \"Sdt 0941756475 đây, đặt khám hô hấp cho a chiều nay được hem?\", \"medical_department\": \"hô hấp\"},\n",
        "\t{\"sdt\": \"0930462457\", \"sdt_ctx\": \"Bác sĩ ơi, sdt 0930462457, e cần khám xương khớp, tư vấn nha!\", \"medical_department\": \"xương khớp\"},\n",
        "\t{\"sdt\": \"0961763243\", \"sdt_ctx\": \"Khám thần kinh cho e, sdt 0961763243, c đặt lịch giùm nha!\", \"medical_department\": \"thần kinh\"},\n",
        "\t{\"sdt\": \"0947342336\", \"sdt_ctx\": \"Sdt 0947342336, a muốn kiểm tra tim mạch, đặt sớm nha c!\", \"medical_department\": \"tim mạch\"},\n",
        "\t{\"sdt\": \"0352381136\", \"sdt_ctx\": \"C ơi, sdt 0352381136, đặt khám da liễu cho e tuần này!\", \"medical_department\": \"da liễu\"},\n",
        "\t{\"sdt\": \"0984583499\", \"sdt_ctx\": \"E cần khám nội tổng quát, sdt 0984583499, a sắp xếp gấp nha!\", \"medical_department\": \"nội tổng quát\"},\n",
        "\t{\"sdt\": \"0998035076\", \"sdt_ctx\": \"Sdt 0998035076, đặt lịch nha khoa cho a, c ơi!\", \"medical_department\": \"nha khoa\"},\n",
        "\t{\"sdt\": \"0844651709\", \"sdt_ctx\": \"Bác sĩ ơi, sdt 0844651709, e muốn khám tiết niệu, ok hem?\", \"medical_department\": \"tiết niệu\"},\n",
        "\t{\"sdt\": \"0770360638\", \"sdt_ctx\": \"Sdt 0770360638, khám tai mũi họng cho e, c đặt giùm!\", \"medical_department\": \"tai mũi họng\"},\n",
        "\t{\"sdt\": \"0788699946\", \"sdt_ctx\": \"A ơi, sdt 0788699946, đặt khám tiêu hóa tuần này nha!\", \"medical_department\": \"tiêu hóa\"},\n",
        "\t{\"sdt\": \"0329530418\", \"sdt_ctx\": \"C ơi, sdt 0329530418, e cần khám thần kinh, sắp xếp nha!\", \"medical_department\": \"thần kinh\"},\n",
        "\t{\"sdt\": \"0948907488\", \"sdt_ctx\": \"Kiểm tra gan cho a, sdt 0948907488, đặt nội tiêu hóa nha!\", \"medical_department\": \"nội tiêu hóa\"},\n",
        "\t{\"sdt\": \"0763922111\", \"sdt_ctx\": \"Sdt 0763922111, bác sĩ ơi, e muốn khám xương khớp!\", \"medical_department\": \"xương khớp\"},\n",
        "\t{\"sdt\": \"0566083586\", \"sdt_ctx\": \"C ơi, sdt 0566083586, đặt khám da liễu gấp cho e nha!\", \"medical_department\": \"da liễu\"},\n",
        "\t{\"sdt\": \"0791945286\", \"sdt_ctx\": \"Khám tim mạch cho e, sdt 0791945286, a ơi đặt giùm!\", \"medical_department\": \"tim mạch\"},\n",
        "\t{\"sdt\": \"0961264072\", \"sdt_ctx\": \"Sdt 0961264072, e cần khám thần kinh, đặt lịch nha c!\", \"medical_department\": \"thần kinh\"},\n",
        "\t{\"sdt\": \"0924585428\", \"sdt_ctx\": \"Bác sĩ ơi, sdt 0924585428, đặt khám tai mũi họng cho e!\", \"medical_department\": \"tai mũi họng\"},\n",
        "\t{\"sdt\": \"0709938901\", \"sdt_ctx\": \"Sdt 0709938901, a muốn khám nội tổng quát, c sắp xếp nha!\", \"medical_department\": \"nội tổng quát\"},\n",
        "\t{\"sdt\": \"0599170765\", \"sdt_ctx\": \"C ơi, sdt 0599170765, đặt lịch nha khoa cho e nha!\", \"medical_department\": \"nha khoa\"},\n",
        "\t{\"sdt\": \"0919262627\", \"sdt_ctx\": \"Khám tiêu hóa cho a, sdt 0919262627, đặt gấp nha!\", \"medical_department\": \"tiêu hóa\"},\n",
        "\t{\"sdt\": \"0848483508\", \"sdt_ctx\": \"Sdt 0848483508, e cần khám mắt, c đặt lịch giùm!\", \"medical_department\": \"mắt\"},\n",
        "\t{\"sdt\": \"0593330530\", \"sdt_ctx\": \"A ơi, sdt 0593330530, đặt khám hô hấp cho e nha!\", \"medical_department\": \"hô hấp\"},\n",
        "\t{\"sdt\": \"0588051623\", \"sdt_ctx\": \"Sdt 0588051623, bác sĩ ơi, e muốn khám xương khớp!\", \"medical_department\": \"xương khớp\"},\n",
        "\t{\"sdt\": \"0368022039\", \"sdt_ctx\": \"C ơi, sdt 0368022039, đặt khám thần kinh cho e nha!\", \"medical_department\": \"thần kinh\"},\n",
        "\t{\"sdt\": \"0397531951\", \"sdt_ctx\": \"Khám tim mạch cho a, sdt 0397531951, đặt lịch gấp!\", \"medical_department\": \"tim mạch\"},\n",
        "\t{\"sdt\": \"0589141229\", \"sdt_ctx\": \"Sdt 0589141229, e cần khám da liễu, c sắp xếp nha!\", \"medical_department\": \"da liễu\"},\n",
        "\t{\"sdt\": \"0706197122\", \"sdt_ctx\": \"A ơi, sdt 0706197122, đặt khám tiết niệu cho e!\", \"medical_department\": \"tiết niệu\"},\n",
        "\t{\"sdt\": \"0598864977\", \"sdt_ctx\": \"Sdt 0598864977, đặt khám tai mũi họng cho a nha c!\", \"medical_department\": \"tai mũi họng\"},\n",
        "\t{\"sdt\": \"0767473967\", \"sdt_ctx\": \"Bác sĩ ơi, sdt 0767473967, e muốn khám nội tiêu hóa!\", \"medical_department\": \"nội tiêu hóa\"},\n",
        "\t{\"sdt\": \"0347321090\", \"sdt_ctx\": \"Sdt 0347321090, đặt khám nha khoa cho e, c ơi!\", \"medical_department\": \"nha khoa\"},\n",
        "\t{\"sdt\": \"0786121962\", \"sdt_ctx\": \"C ơi, sdt 0786121962, e cần khám tiêu hóa, đặt nha!\", \"medical_department\": \"tiêu hóa\"},\n",
        "\t{\"sdt\": \"0969022460\", \"sdt_ctx\": \"Khám mắt cho a, sdt 0969022460, đặt lịch tuần này!\", \"medical_department\": \"mắt\"},\n",
        "\t{\"sdt\": \"0854241844\", \"sdt_ctx\": \"Sdt 0854241844, e muốn khám hô hấp, a sắp xếp nha!\", \"medical_department\": \"hô hấp\"},\n",
        "\t{\"sdt\": \"0354099512\", \"sdt_ctx\": \"Bác sĩ ơi, sdt 0354099512, đặt khám xương khớp cho e!\", \"medical_department\": \"xương khớp\"},\n",
        "\t{\"sdt\": \"0580070579\", \"sdt_ctx\": \"Sdt 0580070579, c ơi, đặt khám thần kinh cho a nha!\", \"medical_department\": \"thần kinh\"},\n",
        "\t{\"sdt\": \"0336718293\", \"sdt_ctx\": \"A ơi, sdt 0336718293, khám tim mạch cho e, đặt gấp!\", \"medical_department\": \"tim mạch\"},\n",
        "\t{\"sdt\": \"0328959387\", \"sdt_ctx\": \"Sdt 0328959387, đặt khám da liễu cho e, c ơi!\", \"medical_department\": \"da liễu\"},\n",
        "\t{\"sdt\": \"0384710398\", \"sdt_ctx\": \"Khám nội tổng quát cho a, sdt 0384710398, đặt nha!\", \"medical_department\": \"nội tổng quát\"},\n",
        "\t{\"sdt\": \"0321693187\", \"sdt_ctx\": \"Sdt 0321693187, e cần khám tiết niệu, c sắp xếp!\", \"medical_department\": \"tiết niệu\"},\n",
        "\t{\"sdt\": \"0893943115\", \"sdt_ctx\": \"C ơi, sdt 0893943115, đặt khám tai mũi họng cho e nha!\", \"medical_department\": \"tai mũi họng\"},\n",
        "\t{\"sdt\": \"0780063620\", \"sdt_ctx\": \"Sdt 0780063620, a muốn khám nội tiêu hóa, đặt lịch!\", \"medical_department\": \"nội tiêu hóa\"},\n",
        "\t{\"sdt\": \"0920016830\", \"sdt_ctx\": \"Bác sĩ ơi, sdt 0920016830, e cần khám nha khoa!\", \"medical_department\": \"nha khoa\"},\n",
        "\t{\"sdt\": \"0815653881\", \"sdt_ctx\": \"Sdt 0815653881, đặt khám tiêu hóa cho a, c ơi!\", \"medical_department\": \"tiêu hóa\"},\n",
        "\t{\"sdt\": \"0360199914\", \"sdt_ctx\": \"C ơi, sdt 0360199914, e muốn khám mắt, sắp xếp nha!\", \"medical_department\": \"mắt\"},\n",
        "\t{\"sdt\": \"0995912261\", \"sdt_ctx\": \"Khám hô hấp cho e, sdt 0995912261, a đặt giùm!\", \"medical_department\": \"hô hấp\"},\n",
        "\t{\"sdt\": \"0843351905\", \"sdt_ctx\": \"Sdt 0843351905, e cần khám xương khớp, c đặt nha!\", \"medical_department\": \"xương khớp\"},\n",
        "\t{\"sdt\": \"0930172382\", \"sdt_ctx\": \"A ơi, sdt 0930172382, đặt khám thần kinh cho e!\", \"medical_department\": \"thần kinh\"},\n",
        "\t{\"sdt\": \"0799978602\", \"sdt_ctx\": \"Sdt 0799978602, khám tim mạch cho a, đặt gấp nha!\", \"medical_department\": \"tim mạch\"},\n",
        "\t{\"sdt\": \"0947692973\", \"sdt_ctx\": \"C ơi, sdt 0947692973, đặt khám da liễu cho e nha!\", \"medical_department\": \"da liễu\"},\n",
        "\t{\"sdt\": \"0790278955\", \"sdt_ctx\": \"Sdt 0790278955, e muốn khám nội tổng quát, a sắp xếp!\", \"medical_department\": \"nội tổng quát\"},\n",
        "\t{\"sdt\": \"0863254998\", \"sdt_ctx\": \"Bác sĩ ơi, sdt 0863254998, đặt khám tiết niệu cho e!\", \"medical_department\": \"tiết niệu\"},\n",
        "\t{\"sdt\": \"0988629039\", \"sdt_ctx\": \"Sdt 0988629039, c ơi, đặt khám tai mũi họng cho a!\", \"medical_department\": \"tai mũi họng\"},\n",
        "\t{\"sdt\": \"0566340375\", \"sdt_ctx\": \"A ơi, sdt 0566340375, khám nội tiêu hóa cho e nha!\", \"medical_department\": \"nội tiêu hóa\"},\n",
        "\t{\"sdt\": \"0940032413\", \"sdt_ctx\": \"Sdt 0940032413, đặt khám nha khoa cho e, c sắp xếp!\", \"medical_department\": \"nha khoa\"},\n",
        "\t{\"sdt\": \"0962029690\", \"sdt_ctx\": \"C ơi, sdt 0962029690, e cần khám tiêu hóa, đặt nha!\", \"medical_department\": \"tiêu hóa\"},\n",
        "\t{\"sdt\": \"0989419135\", \"sdt_ctx\": \"Khám mắt cho a, sdt 0989419135, đặt lịch tuần này!\", \"medical_department\": \"mắt\"},\n",
        "\t{\"sdt\": \"0993490608\", \"sdt_ctx\": \"Sdt 0993490608, e muốn khám hô hấp, a đặt giùm!\", \"medical_department\": \"hô hấp\"},\n",
        "\t{\"sdt\": \"0907892408\", \"sdt_ctx\": \"Bác sĩ ơi, sdt 0907892408, đặt khám xương khớp cho e!\", \"medical_department\": \"xương khớp\"},\n",
        "\t{\"sdt\": \"0862506784\", \"sdt_ctx\": \"Sdt 0862506784, c ơi, đặt khám thần kinh cho a nha!\", \"medical_department\": \"thần kinh\"},\n",
        "\t{\"sdt\": \"0704952812\", \"sdt_ctx\": \"A ơi, sdt 0704952812, khám tim mạch cho e, đặt gấp!\", \"medical_department\": \"tim mạch\"},\n",
        "\t{\"sdt\": \"0325769978\", \"sdt_ctx\": \"Sdt 0325769978, đặt khám da liễu cho e, c ơi!\", \"medical_department\": \"da liễu\"},\n",
        "\t{\"sdt\": \"0760766662\", \"sdt_ctx\": \"Khám nội tổng quát cho a, sdt 0760766662, đặt nha!\", \"medical_department\": \"nội tổng quát\"},\n",
        "\t{\"sdt\": \"0946263880\", \"sdt_ctx\": \"Sdt 0946263880, e cần khám tiết niệu, c sắp xếp!\", \"medical_department\": \"tiết niệu\"},\n",
        "\t{\"sdt\": \"0586298118\", \"sdt_ctx\": \"C ơi, sdt 0586298118, đặt khám tai mũi họng cho e nha!\", \"medical_department\": \"tai mũi họng\"},\n",
        "\t{\"sdt\": \"0321823060\", \"sdt_ctx\": \"Sdt 0321823060, a muốn khám nội tiêu hóa, đặt lịch!\", \"medical_department\": \"nội tiêu hóa\"},\n",
        "\t{\"sdt\": \"0997764205\", \"sdt_ctx\": \"Bác sĩ ơi, sdt 0997764205, e cần khám nha khoa!\", \"medical_department\": \"nha khoa\"},\n",
        "\t{\"sdt\": \"0795398464\", \"sdt_ctx\": \"Sdt 0795398464, đặt khám tiêu hóa cho a, c ơi!\", \"medical_department\": \"tiêu hóa\"},\n",
        "\t{\"sdt\": \"0824925685\", \"sdt_ctx\": \"C ơi, sdt 0824925685, e muốn khám mắt, sắp xếp nha!\", \"medical_department\": \"mắt\"},\n",
        "\t{\"sdt\": \"0864227595\", \"sdt_ctx\": \"Khám hô hấp cho e, sdt 0864227595, a đặt giùm!\", \"medical_department\": \"hô hấp\"},\n",
        "\t{\"sdt\": \"0933431882\", \"sdt_ctx\": \"Sdt 0933431882, e cần khám xương khớp, c đặt nha!\", \"medical_department\": \"xương khớp\"},\n",
        "\t{\"sdt\": \"0907687749\", \"sdt_ctx\": \"A ơi, sdt 0907687749, đặt khám thần kinh cho e!\", \"medical_department\": \"thần kinh\"},\n",
        "\t{\"sdt\": \"0994503476\", \"sdt_ctx\": \"Sdt 0994503476, khám tim mạch cho a, đặt gấp nha!\", \"medical_department\": \"tim mạch\"},\n",
        "\t{\"sdt\": \"0363574625\", \"sdt_ctx\": \"C ơi, sdt 0363574625, đặt khám da liễu cho e nha!\", \"medical_department\": \"da liễu\"},\n",
        "\t{\"sdt\": \"0379938252\", \"sdt_ctx\": \"Sdt 0379938252, e muốn khám nội tổng quát, a sắp xếp!\", \"medical_department\": \"nội tổng quát\"},\n",
        "\t{\"sdt\": \"0850192498\", \"sdt_ctx\": \"Bác sĩ ơi, sdt 0850192498, đặt khám tiết niệu cho e!\", \"medical_department\": \"tiết niệu\"},\n",
        "\t{\"sdt\": \"0988651466\", \"sdt_ctx\": \"Sdt 0988651466, c ơi, đặt khám tai mũi họng cho a!\", \"medical_department\": \"tai mũi họng\"},\n",
        "\t{\"sdt\": \"0834174487\", \"sdt_ctx\": \"A ơi, sdt 0834174487, khám nội tiêu hóa cho e nha!\", \"medical_department\": \"nội tiêu hóa\"},\n",
        "\t{\"sdt\": \"0897590186\", \"sdt_ctx\": \"Sdt 0897590186, đặt khám nha khoa cho e, c sắp xếp!\", \"medical_department\": \"nha khoa\"},\n",
        "\t{\"sdt\": \"0361690894\", \"sdt_ctx\": \"C ơi, sdt 0361690894, e cần khám tiêu hóa, đặt nha!\", \"medical_department\": \"tiêu hóa\"},\n",
        "\t{\"sdt\": \"0356609133\", \"sdt_ctx\": \"Khám mắt cho a, sdt 0356609133, đặt lịch tuần này!\", \"medical_department\": \"mắt\"},\n",
        "\t{\"sdt\": \"0772916887\", \"sdt_ctx\": \"Sdt 0772916887, e muốn khám hô hấp, a đặt giùm!\", \"medical_department\": \"hô hấp\"},\n",
        "\t{\"sdt\": \"0324697747\", \"sdt_ctx\": \"Bác sĩ ơi, sdt 0324697747, đặt khám xương khớp cho e!\", \"medical_department\": \"xương khớp\"},\n",
        "\t{\"sdt\": \"0990159175\", \"sdt_ctx\": \"Sdt 0990159175, c ơi, đặt khám thần kinh cho a nha!\", \"medical_department\": \"thần kinh\"},\n",
        "\t{\"sdt\": \"0997653363\", \"sdt_ctx\": \"A ơi, sdt 0997653363, khám tim mạch cho e, đặt gấp!\", \"medical_department\": \"tim mạch\"},\n",
        "\t{\"sdt\": \"0344557818\", \"sdt_ctx\": \"Sdt 0344557818, đặt khám da liễu cho e, c ơi!\", \"medical_department\": \"da liễu\"},\n",
        "\t{\"sdt\": \"0845417333\", \"sdt_ctx\": \"Khám nội tổng quát cho a, sdt 0845417333, đặt nha!\", \"medical_department\": \"nội tổng quát\"},\n",
        "\t{\"sdt\": \"0975588506\", \"sdt_ctx\": \"Sdt 0975588506, e cần khám tiết niệu, c sắp xếp!\", \"medical_department\": \"tiết niệu\"},\n",
        "\t{\"sdt\": \"0704589719\", \"sdt_ctx\": \"C ơi, sdt 0704589719, đặt khám tai mũi họng cho e nha!\", \"medical_department\": \"tai mũi họng\"},\n",
        "\t{\"sdt\": \"0992458045\", \"sdt_ctx\": \"Sdt 0992458045, a muốn khám nội tiêu hóa, đặt lịch!\", \"medical_department\": \"nội tiêu hóa\"},\n",
        "\t{\"sdt\": \"0826383654\", \"sdt_ctx\": \"Bác sĩ ơi, sdt 0826383654, e cần khám nha khoa!\", \"medical_department\": \"nha khoa\"},\n",
        "\t{\"sdt\": \"0703624841\", \"sdt_ctx\": \"Sdt 0703624841, đặt khám tiêu hóa cho a, c ơi!\", \"medical_department\": \"tiêu hóa\"},\n",
        "\t{\"sdt\": \"0856949902\", \"sdt_ctx\": \"C ơi, sdt 0856949902, e muốn khám mắt, sắp xếp nha!\", \"medical_department\": \"mắt\"},\n",
        "\t{\"sdt\": \"0976530368\", \"sdt_ctx\": \"Khám hô hấp cho e, sdt 0976530368, a đặt giùm!\", \"medical_department\": \"hô hấp\"},\n",
        "\t{\"sdt\": \"0799571689\", \"sdt_ctx\": \"Sdt 0799571689, e cần khám xương khớp, c đặt nha!\", \"medical_department\": \"xương khớp\"},\n",
        "\t{\"sdt\": \"0795800699\", \"sdt_ctx\": \"A ơi, sdt 0795800699, đặt khám thần kinh cho e!\", \"medical_department\": \"thần kinh\"},\n",
        "\t{\"sdt\": \"0978590008\", \"sdt_ctx\": \"Sdt 0978590008, khám tim mạch cho a, đặt gấp nha!\", \"medical_department\": \"tim mạch\"},\n",
        "\t{\"sdt\": \"0332605714\", \"sdt_ctx\": \"C ơi, sdt 0332605714, đặt khám da liễu cho e nha!\", \"medical_department\": \"da liễu\"},\n",
        "\t{\"sdt\": \"0843632773\", \"sdt_ctx\": \"Sdt 0843632773, e muốn khám nội tổng quát, a sắp xếp!\", \"medical_department\": \"nội tổng quát\"},\n",
        "\t{\"sdt\": \"0970107117\", \"sdt_ctx\": \"Chị ơi, đặt khám tiêu hóa cho em nha, sdt 0970107117!\", \"medical_department\": \"tiêu hóa\"},\n",
        "\t{\"sdt\": \"0567451812\", \"sdt_ctx\": \"Sdt 0567451812, bạn ơi, giúp em đặt khám mắt!\", \"medical_department\": \"mắt\"},\n",
        "\t{\"sdt\": \"0865938265\", \"sdt_ctx\": \"Anh ơi, sdt 0865938265, đặt khám hô hấp gấp nha!\", \"medical_department\": \"hô hấp\"},\n",
        "\t{\"sdt\": \"0867456569\", \"sdt_ctx\": \"Xương khớp cho chú, sdt 0867456569, đặt giùm nha!\", \"medical_department\": \"xương khớp\"},\n",
        "\t{\"sdt\": \"0922835649\", \"sdt_ctx\": \"Sdt 0922835649, chị giúp em đặt khám thần kinh nha!\", \"medical_department\": \"thần kinh\"},\n",
        "\t{\"sdt\": \"0827289562\", \"sdt_ctx\": \"Tim mạch nha bạn, sdt 0827289562, đặt nhanh!\", \"medical_department\": \"tim mạch\"},\n",
        "\t{\"sdt\": \"0966834960\", \"sdt_ctx\": \"Em muốn khám da liễu, sdt 0966834960, anh ơi đặt nha!\", \"medical_department\": \"da liễu\"},\n",
        "\t{\"sdt\": \"0596047490\", \"sdt_ctx\": \"Sdt 0596047490, nội tổng quát cho chú, đặt gấp!\", \"medical_department\": \"nội tổng quát\"},\n",
        "\t{\"sdt\": \"0790273044\", \"sdt_ctx\": \"Nha khoa nha chị, sdt 0790273044, đặt cho em!\", \"medical_department\": \"nha khoa\"},\n",
        "\t{\"sdt\": \"0967303029\", \"sdt_ctx\": \"Sdt 0967303029, bạn ơi, đặt khám tiết niệu nha!\", \"medical_department\": \"tiết niệu\"},\n",
        "\t{\"sdt\": \"0799757786\", \"sdt_ctx\": \"Tai mũi họng cho anh, sdt 0799757786, đặt giùm nha!\", \"medical_department\": \"tai mũi họng\"},\n",
        "\t{\"sdt\": \"0320304560\", \"sdt_ctx\": \"Sdt 0320304560, tiêu hóa tuần này, chị ơi đặt nha!\", \"medical_department\": \"tiêu hóa\"},\n",
        "\t{\"sdt\": \"0338431155\", \"sdt_ctx\": \"Thần kinh nha bạn, sdt 0338431155, đặt cho em!\", \"medical_department\": \"thần kinh\"},\n",
        "\t{\"sdt\": \"0340951793\", \"sdt_ctx\": \"Sdt 0340951793, nội tiêu hóa cho chú, anh ơi đặt!\", \"medical_department\": \"nội tiêu hóa\"},\n",
        "\t{\"sdt\": \"0896661510\", \"sdt_ctx\": \"Xương khớp nha chị, sdt 0896661510, đặt gấp cho em!\", \"medical_department\": \"xương khớp\"},\n",
        "\t{\"sdt\": \"0581603206\", \"sdt_ctx\": \"Sdt 0581603206, da liễu bạn ơi, đặt cho anh nha!\", \"medical_department\": \"da liễu\"},\n",
        "\t{\"sdt\": \"0943781560\", \"sdt_ctx\": \"Tim mạch gấp nha anh, sdt 0943781560, đặt liền!\", \"medical_department\": \"tim mạch\"},\n",
        "\t{\"sdt\": \"0869052034\", \"sdt_ctx\": \"Sdt 0869052034, chị ơi đặt khám thần kinh cho em!\", \"medical_department\": \"thần kinh\"},\n",
        "\t{\"sdt\": \"0772171882\", \"sdt_ctx\": \"Tai mũi họng nha bạn, sdt 0772171882, đặt cho chú!\", \"medical_department\": \"tai mũi họng\"},\n",
        "\t{\"sdt\": \"0333007518\", \"sdt_ctx\": \"Sdt 0333007518, nội tổng quát cho anh, đặt gấp nha!\", \"medical_department\": \"nội tổng quát\"},\n",
        "\t{\"sdt\": \"0338094487\", \"sdt_ctx\": \"Nha khoa tuần này, sdt 0338094487, chị ơi đặt cho em!\", \"medical_department\": \"nha khoa\"},\n",
        "\t{\"sdt\": \"0947866282\", \"sdt_ctx\": \"Sdt 0947866282, tiêu hóa nha bạn, đặt cho chú!\", \"medical_department\": \"tiêu hóa\"},\n",
        "\t{\"sdt\": \"0323871438\", \"sdt_ctx\": \"Mắt nha anh, sdt 0323871438, đặt giùm em!\", \"medical_department\": \"mắt\"},\n",
        "\t{\"sdt\": \"0597094034\", \"sdt_ctx\": \"Sdt 0597094034, hô hấp cho chị, đặt nhanh nha!\", \"medical_department\": \"hô hấp\"},\n",
        "\t{\"sdt\": \"0831418943\", \"sdt_ctx\": \"Xương khớp gấp nha bạn, sdt 0831418943, đặt cho em!\", \"medical_department\": \"xương khớp\"},\n",
        "\t{\"sdt\": \"0829671443\", \"sdt_ctx\": \"Sdt 0829671443, thần kinh cho anh, chị ơi đặt!\", \"medical_department\": \"thần kinh\"},\n",
        "\t{\"sdt\": \"0798019618\", \"sdt_ctx\": \"Tim mạch tuần này, sdt 0798019618, bạn ơi đặt nha!\", \"medical_department\": \"tim mạch\"},\n",
        "\t{\"sdt\": \"0590149154\", \"sdt_ctx\": \"Sdt 0590149154, da liễu cho chú, anh ơi đặt!\", \"medical_department\": \"da liễu\"},\n",
        "\t{\"sdt\": \"0927897229\", \"sdt_ctx\": \"Nội tổng quát gấp nha chị, sdt 0927897229, đặt cho em!\", \"medical_department\": \"nội tổng quát\"},\n",
        "\t{\"sdt\": \"0379401130\", \"sdt_ctx\": \"Sdt 0379401130, nha khoa cho em, bạn ơi đặt nha!\", \"medical_department\": \"nha khoa\"},\n",
        "\t{\"sdt\": \"0374043475\", \"sdt_ctx\": \"Tiết niệu nha anh, sdt 0374043475, đặt gấp cho chú!\", \"medical_department\": \"tiết niệu\"},\n",
        "\t{\"sdt\": \"0775927963\", \"sdt_ctx\": \"Sdt 0775927963, tai mũi họng cho chị, đặt nhanh nha!\", \"medical_department\": \"tai mũi họng\"},\n",
        "\t{\"sdt\": \"0984726704\", \"sdt_ctx\": \"Tiêu hóa gấp nha bạn, sdt 0984726704, đặt cho em!\", \"medical_department\": \"tiêu hóa\"},\n",
        "\t{\"sdt\": \"0593458660\", \"sdt_ctx\": \"Sdt 0593458660, mắt cho anh, chị ơi đặt nha!\", \"medical_department\": \"mắt\"},\n",
        "\t{\"sdt\": \"0779850844\", \"sdt_ctx\": \"Hô hấp tuần này, sdt 0779850844, bạn ơi đặt cho chú!\", \"medical_department\": \"hô hấp\"},\n",
        "\t{\"sdt\": \"0366333430\", \"sdt_ctx\": \"Sdt 0366333430, xương khớp cho em, anh ơi đặt gấp!\", \"medical_department\": \"xương khớp\"},\n",
        "\t{\"sdt\": \"0833686129\", \"sdt_ctx\": \"Thần kinh nha chị, sdt 0833686129, đặt cho bạn!\", \"medical_department\": \"thần kinh\"},\n",
        "\t{\"sdt\": \"0569241509\", \"sdt_ctx\": \"Sdt 0569241509, tim mạch cho chú, bạn ơi đặt nha!\", \"medical_department\": \"tim mạch\"},\n",
        "\t{\"sdt\": \"0378325185\", \"sdt_ctx\": \"Da liễu nha anh, sdt 0378325185, đặt gấp cho em!\", \"medical_department\": \"da liễu\"},\n",
        "\t{\"sdt\": \"0340108029\", \"sdt_ctx\": \"Sdt 0340108029, nội tổng quát cho chị, đặt nhanh nha!\", \"medical_department\": \"nội tổng quát\"},\n",
        "\t{\"sdt\": \"0566232674\", \"sdt_ctx\": \"Nha khoa nha bạn, sdt 0566232674, đặt gấp cho anh!\", \"medical_department\": \"nha khoa\"},\n",
        "\t{\"sdt\": \"0586000541\", \"sdt_ctx\": \"Sdt 0586000541, tiết niệu cho chú, chị ơi đặt nha!\", \"medical_department\": \"tiết niệu\"},\n",
        "\t{\"sdt\": \"0567532396\", \"sdt_ctx\": \"Tai mũi họng tuần này, sdt 0567532396, bạn ơi đặt cho em!\", \"medical_department\": \"tai mũi họng\"},\n",
        "\t{\"sdt\": \"0773401880\", \"sdt_ctx\": \"Sdt 0773401880, tiêu hóa cho anh, anh ơi đặt nha!\", \"medical_department\": \"tiêu hóa\"},\n",
        "\t{\"sdt\": \"0791810915\", \"sdt_ctx\": \"Mắt nha chị, sdt 0791810915, đặt gấp cho em!\", \"medical_department\": \"mắt\"},\n",
        "\t{\"sdt\": \"0338761735\", \"sdt_ctx\": \"Sdt 0338761735, hô hấp cho bạn, anh ơi đặt nha!\", \"medical_department\": \"hô hấp\"},\n",
        "\t{\"sdt\": \"0963353524\", \"sdt_ctx\": \"Xương khớp gấp nha chị, sdt 0963353524, đặt cho em!\", \"medical_department\": \"xương khớp\"},\n",
        "\t{\"sdt\": \"0854015402\", \"sdt_ctx\": \"Sdt 0854015402, thần kinh cho anh, bạn ơi đặt nha!\", \"medical_department\": \"thần kinh\"},\n",
        "\t{\"sdt\": \"0381027672\", \"sdt_ctx\": \"Tim mạch nha anh, sdt 0381027672, đặt nhanh cho chú!\", \"medical_department\": \"tim mạch\"},\n",
        "\t{\"sdt\": \"0964588367\", \"sdt_ctx\": \"Sdt 0964588367, da liễu cho chị, đặt gấp nha bạn!\", \"medical_department\": \"da liễu\"},\n",
        "\t{\"sdt\": \"0708215320\", \"sdt_ctx\": \"Nội tổng quát tuần này, sdt 0708215320, anh ơi đặt cho em!\", \"medical_department\": \"nội tổng quát\"},\n",
        "\t{\"sdt\": \"0847865827\", \"sdt_ctx\": \"Sdt 0847865827, nha khoa cho bạn, chị ơi đặt nha!\", \"medical_department\": \"nha khoa\"},\n",
        "\t{\"sdt\": \"0980573166\", \"sdt_ctx\": \"Tiết niệu gấp nha anh, sdt 0980573166, đặt cho chú!\", \"medical_department\": \"tiết niệu\"},\n",
        "\t{\"sdt\": \"0819765441\", \"sdt_ctx\": \"Sdt 0819765441, tai mũi họng cho em, bạn ơi đặt nha!\", \"medical_department\": \"tai mũi họng\"},\n",
        "\t{\"sdt\": \"0345780228\", \"sdt_ctx\": \"Tiêu hóa nha chị, sdt 0345780228, đặt gấp cho anh!\", \"medical_department\": \"tiêu hóa\"},\n",
        "\t{\"sdt\": \"0398460334\", \"sdt_ctx\": \"Sdt 0398460334, mắt cho bạn, anh ơi đặt nha!\", \"medical_department\": \"mắt\"},\n",
        "\t{\"sdt\": \"0982113628\", \"sdt_ctx\": \"Hô hấp gấp nha chị, sdt 0982113628, đặt cho em!\", \"medical_department\": \"hô hấp\"},\n",
        "\t{\"sdt\": \"0797042160\", \"sdt_ctx\": \"Sdt 0797042160, xương khớp cho anh, bạn ơi đặt nha!\", \"medical_department\": \"xương khớp\"},\n",
        "\t{\"sdt\": \"0976089559\", \"sdt_ctx\": \"Thần kinh tuần này, sdt 0976089559, chị ơi đặt cho chú!\", \"medical_department\": \"thần kinh\"},\n",
        "\t{\"sdt\": \"0918309651\", \"sdt_ctx\": \"Sdt 0918309651, tim mạch cho em, anh ơi đặt gấp!\", \"medical_department\": \"tim mạch\"},\n",
        "\t{\"sdt\": \"0847938120\", \"sdt_ctx\": \"Da liễu nha bạn, sdt 0847938120, đặt nhanh cho chị!\", \"medical_department\": \"da liễu\"},\n",
        "\t{\"sdt\": \"0816689617\", \"sdt_ctx\": \"Sdt 0816689617, nội tổng quát cho anh, chị ơi đặt nha!\", \"medical_department\": \"nội tổng quát\"},\n",
        "\t{\"sdt\": \"0333852551\", \"sdt_ctx\": \"Nha khoa nha anh, sdt 0333852551, đặt gấp cho em!\", \"medical_department\": \"nha khoa\"},\n",
        "\t{\"sdt\": \"0843967004\", \"sdt_ctx\": \"Sdt 0843967004, tiết niệu cho chú, bạn ơi đặt nha!\", \"medical_department\": \"tiết niệu\"},\n",
        "\t{\"sdt\": \"0931744949\", \"sdt_ctx\": \"Tai mũi họng nha chị, sdt 0931744949, đặt cho bạn!\", \"medical_department\": \"tai mũi họng\"},\n",
        "\t{\"sdt\": \"0819000312\", \"sdt_ctx\": \"Sdt 0819000312, tiêu hóa cho em, anh ơi đặt nha!\", \"medical_department\": \"tiêu hóa\"},\n",
        "\t{\"sdt\": \"0826366776\", \"sdt_ctx\": \"Mắt tuần này, sdt 0826366776, chị ơi đặt cho anh!\", \"medical_department\": \"mắt\"},\n",
        "\t{\"sdt\": \"0584310551\", \"sdt_ctx\": \"Sdt 0584310551, hô hấp cho bạn, anh ơi đặt gấp!\", \"medical_department\": \"hô hấp\"},\n",
        "\t{\"sdt\": \"0970425765\", \"sdt_ctx\": \"Xương khớp nha chị, sdt 0970425765, đặt nhanh cho em!\", \"medical_department\": \"xương khớp\"},\n",
        "\t{\"sdt\": \"0882364302\", \"sdt_ctx\": \"Sdt 0882364302, thần kinh cho chú, bạn ơi đặt nha!\", \"medical_department\": \"thần kinh\"},\n",
        "\t{\"sdt\": \"0944274112\", \"sdt_ctx\": \"Tim mạch gấp nha anh, sdt 0944274112, đặt cho chị!\", \"medical_department\": \"tim mạch\"},\n",
        "\t{\"sdt\": \"0371044315\", \"sdt_ctx\": \"Sdt 0371044315, da liễu cho em, chị ơi đặt nha!\", \"medical_department\": \"da liễu\"},\n",
        "\t{\"sdt\": \"0966229132\", \"sdt_ctx\": \"Nội tổng quát nha bạn, sdt 0966229132, đặt gấp cho anh!\", \"medical_department\": \"nội tổng quát\"},\n",
        "\t{\"sdt\": \"0840058737\", \"sdt_ctx\": \"Sdt 0840058737, nha khoa cho chú, anh ơi đặt nha!\", \"medical_department\": \"nha khoa\"},\n",
        "\t{\"sdt\": \"0779159814\", \"sdt_ctx\": \"Tiết niệu tuần này, sdt 0779159814, chị ơi đặt cho em!\", \"medical_department\": \"tiết niệu\"},\n",
        "\t{\"sdt\": \"0938214862\", \"sdt_ctx\": \"Sdt 0938214862, tai mũi họng cho bạn, anh ơi đặt nha!\", \"medical_department\": \"tai mũi họng\"},\n",
        "\t{\"sdt\": \"0799218820\", \"sdt_ctx\": \"Tiêu hóa gấp nha chị, sdt 0799218820, đặt cho chú!\", \"medical_department\": \"tiêu hóa\"},\n",
        "\t{\"sdt\": \"0567627328\", \"sdt_ctx\": \"Sdt 0567627328, mắt cho em, bạn ơi đặt nha!\", \"medical_department\": \"mắt\"},\n",
        "\t{\"sdt\": \"0851678340\", \"sdt_ctx\": \"Hô hấp nha anh, sdt 0851678340, đặt gấp cho chị!\", \"medical_department\": \"hô hấp\"},\n",
        "\t{\"sdt\": \"0794855763\", \"sdt_ctx\": \"Sdt 0794855763, xương khớp cho bạn, chị ơi đặt nha!\", \"medical_department\": \"xương khớp\"},\n",
        "\t{\"sdt\": \"0975160735\", \"sdt_ctx\": \"Thần kinh nha anh, sdt 0975160735, đặt nhanh cho em!\", \"medical_department\": \"thần kinh\"},\n",
        "\t{\"sdt\": \"0389655446\", \"sdt_ctx\": \"Sdt 0389655446, tim mạch cho chú, bạn ơi đặt nha!\", \"medical_department\": \"tim mạch\"},\n",
        "\t{\"sdt\": \"0385218398\", \"sdt_ctx\": \"Da liễu tuần này, sdt 0385218398, anh ơi đặt cho chị!\", \"medical_department\": \"da liễu\"},\n",
        "\t{\"sdt\": \"0967484067\", \"sdt_ctx\": \"Sdt 0967484067, nội tổng quát cho em, chị ơi đặt gấp!\", \"medical_department\": \"nội tổng quát\"},\n",
        "\t{\"sdt\": \"0842345551\", \"sdt_ctx\": \"Nha khoa nha bạn, sdt 0842345551, đặt nhanh cho anh!\", \"medical_department\": \"nha khoa\"},\n",
        "\t{\"sdt\": \"0779240156\", \"sdt_ctx\": \"Sdt 0779240156, tiết niệu cho chú, chị ơi đặt nha!\", \"medical_department\": \"tiết niệu\"},\n",
        "\t{\"sdt\": \"0972916442\", \"sdt_ctx\": \"Tai mũi họng gấp nha anh, sdt 0972916442, đặt cho em!\", \"medical_department\": \"tai mũi họng\"},\n",
        "\t{\"sdt\": \"0399068907\", \"sdt_ctx\": \"Sdt 0399068907, tiêu hóa cho bạn, chị ơi đặt nha!\", \"medical_department\": \"tiêu hóa\"},\n",
        "\t{\"sdt\": \"0904711076\", \"sdt_ctx\": \"Mắt nha anh, sdt 0904711076, đặt gấp cho chị!\", \"medical_department\": \"mắt\"},\n",
        "\t{\"sdt\": \"0582229017\", \"sdt_ctx\": \"Sdt 0582229017, hô hấp cho em, bạn ơi đặt nha!\", \"medical_department\": \"hô hấp\"},\n",
        "\t{\"sdt\": \"0360104286\", \"sdt_ctx\": \"Xương khớp tuần này, sdt 0360104286, anh ơi đặt cho chú!\", \"medical_department\": \"xương khớp\"},\n",
        "\t{\"sdt\": \"0376899170\", \"sdt_ctx\": \"Sdt 0376899170, thần kinh cho chị, đặt gấp nha bạn!\", \"medical_department\": \"thần kinh\"},\n",
        "\t{\"sdt\": \"0787210806\", \"sdt_ctx\": \"Tim mạch nha chị, sdt 0787210806, đặt nhanh cho em!\", \"medical_department\": \"tim mạch\"},\n",
        "\t{\"sdt\": \"0933229388\", \"sdt_ctx\": \"Sdt 0933229388, da liễu cho anh, bạn ơi đặt nha!\", \"medical_department\": \"da liễu\"},\n",
        "\t{\"sdt\": \"0836696943\", \"sdt_ctx\": \"Nội tổng quát gấp nha anh, sdt 0836696943, đặt cho chú!\", \"medical_department\": \"nội tổng quát\"},\n",
        "\t{\"sdt\": \"0994431516\", \"sdt_ctx\": \"Sdt 0994431516, nha khoa cho em, chị ơi đặt nha!\", \"medical_department\": \"nha khoa\"},\n",
        "\t{\"sdt\": \"0701376146\", \"sdt_ctx\": \"Tiết niệu nha bạn, sdt 0701376146, đặt gấp cho anh!\", \"medical_department\": \"tiết niệu\"},\n",
        "\t{\"sdt\": \"0580073065\", \"sdt_ctx\": \"Sdt 0580073065, tai mũi họng cho chị, anh ơi đặt nha!\", \"medical_department\": \"tai mũi họng\"},\n",
        "\t{\"sdt\": \"0330768126\", \"sdt_ctx\": \"Tiêu hóa tuần này, sdt 0330768126, bạn ơi đặt cho em!\", \"medical_department\": \"tiêu hóa\"},\n",
        "\t{\"sdt\": \"0854505712\", \"sdt_ctx\": \"Sdt 0854505712, mắt cho chú, chị ơi đặt gấp!\", \"medical_department\": \"mắt\"},\n",
        "    {\"sdt\": \"0708355516\", \"sdt_ctx\": \"Số em 0708355516, đặt khám mắt nhé\", \"medical_department\": \"mắt\"},\n",
        "    {\"sdt\": \"0567209351\", \"sdt_ctx\": \"Chị cần khám phụ khoa, sđt 0567209351\", \"medical_department\": \"phụ khoa\"},\n",
        "    {\"sdt\": \"0707374418\", \"sdt_ctx\": \"Anh hỏi bs tai mũi họng mai rảnh ko, số 0707374418\", \"medical_department\": \"tai mũi họng\"},\n",
        "    {\"sdt\": \"0340949436\", \"sdt_ctx\": \"0340949436, chú cần khám tim gấp\", \"medical_department\": \"tim\"},\n",
        "    {\"sdt\": \"0853881449\", \"sdt_ctx\": \"Số em 0853881449, kiểm tra da liễu\", \"medical_department\": \"da liễu\"},\n",
        "    {\"sdt\": \"0372258179\", \"sdt_ctx\": \"Chị đặt khám tổng quát, sđt 0372258179\", \"medical_department\": \"tổng quát\"},\n",
        "    {\"sdt\": \"0909575491\", \"sdt_ctx\": \"Anh cần khám răng, số 0909575491\", \"medical_department\": \"răng\"},\n",
        "    {\"sdt\": \"0364903300\", \"sdt_ctx\": \"0364903300, em muốn siêu âm\", \"medical_department\": \"siêu âm\"},\n",
        "    {\"sdt\": \"0933338998\", \"sdt_ctx\": \"Số chú 0933338998, kiểm tra gan\", \"medical_department\": \"gan\"},\n",
        "    {\"sdt\": \"0890531761\", \"sdt_ctx\": \"Số em 0890531761, đặt khám nhi\", \"medical_department\": \"nhi\"},\n",
        "    {\"sdt\": \"0344330227\", \"sdt_ctx\": \"Chị cần tư vấn dinh dưỡng, sđt 0344330227\", \"medical_department\": \"dinh dưỡng\"},\n",
        "    {\"sdt\": \"0944551691\", \"sdt_ctx\": \"Anh kiểm tra phổi, số 0944551691\", \"medical_department\": \"phổi\"},\n",
        "    {\"sdt\": \"0343318998\", \"sdt_ctx\": \"Số em 0343318998, khám xương khớp\", \"medical_department\": \"xương khớp\"},\n",
        "    {\"sdt\": \"0356912688\", \"sdt_ctx\": \"Chú hẹn bs gấp, sđt 0356912688\", \"medical_department\": \"\"},\n",
        "    {\"sdt\": \"0376056374\", \"sdt_ctx\": \"Số chị 0376056374, khám da liễu\", \"medical_department\": \"da liễu\"},\n",
        "    {\"sdt\": \"0820334628\", \"sdt_ctx\": \"Anh hỏi lịch bs nội, số 0820334628\", \"medical_department\": \"nội\"},\n",
        "    {\"sdt\": \"0789105690\", \"sdt_ctx\": \"Số em 0789105690, xét nghiệm máu\", \"medical_department\": \"xét nghiệm máu\"},\n",
        "    {\"sdt\": \"0589329308\", \"sdt_ctx\": \"Chú khám định kỳ, sđt 0589329308\", \"medical_department\": \"định kỳ\"},\n",
        "    {\"sdt\": \"0595655324\", \"sdt_ctx\": \"Số chị 0595655324, siêu âm nhé\", \"medical_department\": \"siêu âm\"},\n",
        "    {\"sdt\": \"0820410980\", \"sdt_ctx\": \"Anh khám tai mũi họng, số 0820410980\", \"medical_department\": \"tai mũi họng\"},\n",
        "    {\"sdt\": \"0706524461\", \"sdt_ctx\": \"Số em 0706524461, tư vấn tim mạch\", \"medical_department\": \"tim mạch\"},\n",
        "    {\"sdt\": \"0770291709\", \"sdt_ctx\": \"Chị đặt khám nha khoa, sđt 0770291709\", \"medical_department\": \"nha khoa\"},\n",
        "    {\"sdt\": \"0705306031\", \"sdt_ctx\": \"Số em 0705306031, kiểm tra phổi\", \"medical_department\": \"phổi\"},\n",
        "    {\"sdt\": \"0777290534\", \"sdt_ctx\": \"Anh cần khám mắt, số 0777290534\", \"medical_department\": \"mắt\"},\n",
        "    {\"sdt\": \"0390625947\", \"sdt_ctx\": \"Số chị 0390625947, khám phụ khoa\", \"medical_department\": \"phụ khoa\"},\n",
        "    {\"sdt\": \"0882516223\", \"sdt_ctx\": \"Em khám da liễu, sđt 0882516223\", \"medical_department\": \"da liễu\"},\n",
        "    {\"sdt\": \"0867905377\", \"sdt_ctx\": \"Số anh 0867905377, tư vấn dinh dưỡng\", \"medical_department\": \"dinh dưỡng\"},\n",
        "    {\"sdt\": \"0945290825\", \"sdt_ctx\": \"Chị đặt khám tổng quát, sđt 0945290825\", \"medical_department\": \"tổng quát\"},\n",
        "    {\"sdt\": \"0925718736\", \"sdt_ctx\": \"Số em 0925718736, khám xương khớp\", \"medical_department\": \"xương khớp\"},\n",
        "    {\"sdt\": \"0333573892\", \"sdt_ctx\": \"Anh cần khám nhi, số 0333573892\", \"medical_department\": \"nhi\"},\n",
        "    {\"sdt\": \"0839915030\", \"sdt_ctx\": \"Số chú 0839915030, kiểm tra gan\", \"medical_department\": \"gan\"},\n",
        "    {\"sdt\": \"0776900840\", \"sdt_ctx\": \"Chị hỏi lịch bs tai mũi họng, sđt 0776900840\", \"medical_department\": \"tai mũi họng\"},\n",
        "    {\"sdt\": \"0881843097\", \"sdt_ctx\": \"Số em 0881843097, xét nghiệm máu\", \"medical_department\": \"xét nghiệm máu\"},\n",
        "    {\"sdt\": \"0587698324\", \"sdt_ctx\": \"Anh khám tim, sđt 0587698324\", \"medical_department\": \"tim\"},\n",
        "    {\"sdt\": \"0327908877\", \"sdt_ctx\": \"Số chị 0327908877, siêu âm nhé\", \"medical_department\": \"siêu âm\"},\n",
        "    {\"sdt\": \"0864383319\", \"sdt_ctx\": \"Em cần khám nha khoa, sđt 0864383319\", \"medical_department\": \"nha khoa\"},\n",
        "    {\"sdt\": \"0329490114\", \"sdt_ctx\": \"Số anh 0329490114, kiểm tra da\", \"medical_department\": \"da\"},\n",
        "    {\"sdt\": \"0994454969\", \"sdt_ctx\": \"Chị khám phụ khoa, sđt 0994454969\", \"medical_department\": \"phụ khoa\"},\n",
        "    {\"sdt\": \"0947188949\", \"sdt_ctx\": \"Số em 0947188949, khám tổng quát\", \"medical_department\": \"tổng quát\"},\n",
        "    {\"sdt\": \"0893416171\", \"sdt_ctx\": \"Anh cần khám phổi, số 0893416171\", \"medical_department\": \"phổi\"},\n",
        "    {\"sdt\": \"0589962939\", \"sdt_ctx\": \"Số chú 0589962939, hẹn bs gấp\", \"medical_department\": \"\"},\n",
        "    {\"sdt\": \"0890917276\", \"sdt_ctx\": \"Chị kiểm tra mắt, sđt 0890917276\", \"medical_department\": \"mắt\"},\n",
        "    {\"sdt\": \"0902850564\", \"sdt_ctx\": \"Số em 0902850564, khám nhi\", \"medical_department\": \"nhi\"},\n",
        "    {\"sdt\": \"0988807707\", \"sdt_ctx\": \"Anh hỏi lịch bs nội, số 0988807707\", \"medical_department\": \"nội\"},\n",
        "    {\"sdt\": \"0342896211\", \"sdt_ctx\": \"Số chị 0342896211, tư vấn dinh dưỡng\", \"medical_department\": \"dinh dưỡng\"},\n",
        "    {\"sdt\": \"0949561223\", \"sdt_ctx\": \"Em khám xương khớp, sđt 0949561223\", \"medical_department\": \"xương khớp\"},\n",
        "    {\"sdt\": \"0772979827\", \"sdt_ctx\": \"Số anh 0772979827, siêu âm nhé\", \"medical_department\": \"siêu âm\"},\n",
        "    {\"sdt\": \"0824521622\", \"sdt_ctx\": \"Chị cần khám da liễu, sđt 0824521622\", \"medical_department\": \"da liễu\"},\n",
        "    {\"sdt\": \"0325691243\", \"sdt_ctx\": \"Số em 0325691243, xét nghiệm máu\", \"medical_department\": \"xét nghiệm máu\"},\n",
        "    {\"sdt\": \"0910512626\", \"sdt_ctx\": \"Anh khám tim mạch, số 0910512626\", \"medical_department\": \"tim mạch\"},\n",
        "    {\"sdt\": \"0964401572\", \"sdt_ctx\": \"Số chị 0964401572, khám nha khoa\", \"medical_department\": \"nha khoa\"},\n",
        "    {\"sdt\": \"0769809555\", \"sdt_ctx\": \"Em cần khám phổi, sđt 0769809555\", \"medical_department\": \"phổi\"},\n",
        "    {\"sdt\": \"0899975668\", \"sdt_ctx\": \"Số anh 0899975668, kiểm tra gan\", \"medical_department\": \"gan\"},\n",
        "    {\"sdt\": \"0894541464\", \"sdt_ctx\": \"Chị khám phụ khoa, sđt 0894541464\", \"medical_department\": \"phụ khoa\"},\n",
        "    {\"sdt\": \"0598991497\", \"sdt_ctx\": \"Số em 0598991497, khám mắt\", \"medical_department\": \"mắt\"},\n",
        "    {\"sdt\": \"0365277608\", \"sdt_ctx\": \"Anh đặt khám tổng quát, số 0365277608\", \"medical_department\": \"tổng quát\"},\n",
        "    {\"sdt\": \"0835348658\", \"sdt_ctx\": \"Số chị 0835348658, siêu âm\", \"medical_department\": \"siêu âm\"},\n",
        "    {\"sdt\": \"0783248614\", \"sdt_ctx\": \"Em khám nhi, sđt 0783248614\", \"medical_department\": \"nhi\"},\n",
        "    {\"sdt\": \"0342693295\", \"sdt_ctx\": \"Số anh 0342693295, kiểm tra da liễu\", \"medical_department\": \"da liễu\"},\n",
        "    {\"sdt\": \"0340294847\", \"sdt_ctx\": \"Chị cần khám tim, sđt 0340294847\", \"medical_department\": \"tim\"},\n",
        "    {\"sdt\": \"0850757010\", \"sdt_ctx\": \"Số em 0850757010, tư vấn dinh dưỡng\", \"medical_department\": \"dinh dưỡng\"},\n",
        "    {\"sdt\": \"0880225233\", \"sdt_ctx\": \"Anh khám nha khoa, số 0880225233\", \"medical_department\": \"nha khoa\"},\n",
        "    {\"sdt\": \"0920439129\", \"sdt_ctx\": \"Số chị 0920439129, siêu âm nhé\", \"medical_department\": \"siêu âm\"},\n",
        "    {\"sdt\": \"0787213060\", \"sdt_ctx\": \"Em xét nghiệm máu, sđt 0787213060\", \"medical_department\": \"xét nghiệm máu\"},\n",
        "    {\"sdt\": \"0343787913\", \"sdt_ctx\": \"Số anh 0343787913, khám xương khớp\", \"medical_department\": \"xương khớp\"},\n",
        "    {\"sdt\": \"0706768898\", \"sdt_ctx\": \"Chị khám phụ khoa, sđt 0706768898\", \"medical_department\": \"phụ khoa\"},\n",
        "    {\"sdt\": \"0825296239\", \"sdt_ctx\": \"Số em 0825296239, kiểm tra phổi\", \"medical_department\": \"phổi\"},\n",
        "    {\"sdt\": \"0332911330\", \"sdt_ctx\": \"Anh cần khám mắt, số 0332911330\", \"medical_department\": \"mắt\"},\n",
        "    {\"sdt\": \"0898117299\", \"sdt_ctx\": \"Số chị 0898117299, khám tổng quát\", \"medical_department\": \"tổng quát\"},\n",
        "    {\"sdt\": \"0969130785\", \"sdt_ctx\": \"Em khám nhi, sđt 0969130785\", \"medical_department\": \"nhi\"},\n",
        "    {\"sdt\": \"0325044606\", \"sdt_ctx\": \"Số anh 0325044606, kiểm tra gan\", \"medical_department\": \"gan\"},\n",
        "    {\"sdt\": \"0867451054\", \"sdt_ctx\": \"Chị hỏi lịch bs tai mũi họng, sđt 0867451054\", \"medical_department\": \"tai mũi họng\"},\n",
        "    {\"sdt\": \"0351545002\", \"sdt_ctx\": \"Số em 0351545002, xét nghiệm máu\", \"medical_department\": \"xét nghiệm máu\"},\n",
        "    {\"sdt\": \"0840214121\", \"sdt_ctx\": \"Anh khám tim, sđt 0840214121\", \"medical_department\": \"tim\"},\n",
        "    {\"sdt\": \"0911978873\", \"sdt_ctx\": \"Số chị 0911978873, siêu âm\", \"medical_department\": \"siêu âm\"},\n",
        "    {\"sdt\": \"0569254626\", \"sdt_ctx\": \"Em cần khám nha khoa, sđt 0569254626\", \"medical_department\": \"nha khoa\"},\n",
        "    {\"sdt\": \"0323561319\", \"sdt_ctx\": \"Số anh 0323561319, kiểm tra da\", \"medical_department\": \"da\"},\n",
        "    {\"sdt\": \"0983180731\", \"sdt_ctx\": \"Chị khám phụ khoa, sđt 0983180731\", \"medical_department\": \"phụ khoa\"},\n",
        "    {\"sdt\": \"0565381911\", \"sdt_ctx\": \"Số em 0565381911, khám tổng quát\", \"medical_department\": \"tổng quát\"},\n",
        "    {\"sdt\": \"0704753848\", \"sdt_ctx\": \"Anh cần khám phổi, số 0704753848\", \"medical_department\": \"phổi\"},\n",
        "    {\"sdt\": \"0385847776\", \"sdt_ctx\": \"Số chú 0385847776, hẹn bs gấp\", \"medical_department\": \"\"},\n",
        "    {\"sdt\": \"0593478516\", \"sdt_ctx\": \"Chị kiểm tra mắt, sđt 0593478516\", \"medical_department\": \"mắt\"},\n",
        "    {\"sdt\": \"0394796217\", \"sdt_ctx\": \"Số em 0394796217, khám nhi\", \"medical_department\": \"nhi\"},\n",
        "    {\"sdt\": \"0761781943\", \"sdt_ctx\": \"Anh hỏi lịch bs nội, số 0761781943\", \"medical_department\": \"nội\"},\n",
        "    {\"sdt\": \"0768181126\", \"sdt_ctx\": \"Số chị 0768181126, tư vấn dinh dưỡng\", \"medical_department\": \"dinh dưỡng\"},\n",
        "    {\"sdt\": \"0330222041\", \"sdt_ctx\": \"Em khám xương khớp, sđt 0330222041\", \"medical_department\": \"xương khớp\"},\n",
        "    {\"sdt\": \"0790294645\", \"sdt_ctx\": \"Số anh 0790294645, siêu âm nhé\", \"medical_department\": \"siêu âm\"},\n",
        "    {\"sdt\": \"0766318923\", \"sdt_ctx\": \"Chị cần khám da liễu, sđt 0766318923\", \"medical_department\": \"da liễu\"},\n",
        "    {\"sdt\": \"0381361695\", \"sdt_ctx\": \"Số em 0381361695, xét nghiệm máu\", \"medical_department\": \"xét nghiệm máu\"},\n",
        "    {\"sdt\": \"0946714232\", \"sdt_ctx\": \"Anh khám tim mạch, số 0946714232\", \"medical_department\": \"tim mạch\"},\n",
        "    {\"sdt\": \"0344517791\", \"sdt_ctx\": \"Số chị 0344517791, khám nha khoa\", \"medical_department\": \"nha khoa\"},\n",
        "    {\"sdt\": \"0332121643\", \"sdt_ctx\": \"Em cần khám phổi, sđt 0332121643\", \"medical_department\": \"phổi\"},\n",
        "    {\"sdt\": \"0944160911\", \"sdt_ctx\": \"Số anh 0944160911, kiểm tra gan\", \"medical_department\": \"gan\"},\n",
        "    {\"sdt\": \"0834909857\", \"sdt_ctx\": \"Chị khám phụ khoa, sđt 0834909857\", \"medical_department\": \"phụ khoa\"},\n",
        "    {\"sdt\": \"0793612725\", \"sdt_ctx\": \"Số em 0793612725, khám mắt\", \"medical_department\": \"mắt\"},\n",
        "    {\"sdt\": \"0771885747\", \"sdt_ctx\": \"Anh đặt khám tổng quát, số 0771885747\", \"medical_department\": \"tổng quát\"},\n",
        "    {\"sdt\": \"0931758120\", \"sdt_ctx\": \"Số chị 0931758120, siêu âm\", \"medical_department\": \"siêu âm\"},\n",
        "    {\"sdt\": \"0934369548\", \"sdt_ctx\": \"Em khám nhi, sđt 0934369548\", \"medical_department\": \"nhi\"},\n",
        "    {\"sdt\": \"0889870705\", \"sdt_ctx\": \"Số anh 0889870705, kiểm tra da liễu\", \"medical_department\": \"da liễu\"},\n",
        "    {\"sdt\": \"0927647312\", \"sdt_ctx\": \"Chị cần khám tim, sđt 0927647312\", \"medical_department\": \"tim\"}\n",
        "]"
      ],
      "metadata": {
        "id": "i6jzGC7wNA4r"
      },
      "execution_count": null,
      "outputs": []
    },
    {
      "cell_type": "markdown",
      "source": [
        "##### incorrect_vanilla"
      ],
      "metadata": {
        "id": "ZMpnIWH0MuBk"
      }
    },
    {
      "cell_type": "code",
      "source": [
        "incorrect_vanilla = [\n",
        "    {\"sdt\": \"08163865\", \"sdt_ctx\": \"Chị cần đặt lịch khám, số điện thoại là 08163865, xin cảm ơn.\"},\n",
        "    {\"sdt\": \"03371078\", \"sdt_ctx\": \"Em ơi, anh muốn tư vấn y tế với số điện thoại 03371078.\"},\n",
        "    {\"sdt\": \"03888743\", \"sdt_ctx\": \"Số điện thoại 03888743, cô cần lịch hẹn khám gấp.\"},\n",
        "    {\"sdt\": \"089672855090088\", \"sdt_ctx\": \"Chú nhờ em đặt lịch khám, số điện thoại chú 089672855090088.\"},\n",
        "    {\"sdt\": \"084795018048806\", \"sdt_ctx\": \"Bác cần gặp tư vấn viên y tế, số điện thoại là 084795018048806.\"},\n",
        "    {\"sdt\": \"07646373296\", \"sdt_ctx\": \"Số điện thoại của chị là 07646373296, chị muốn khám định kỳ.\"},\n",
        "    {\"sdt\": \"078429584\", \"sdt_ctx\": \"Anh nhờ đặt lịch khám với số điện thoại 078429584, cảm ơn em.\"},\n",
        "    {\"sdt\": \"0386724\", \"sdt_ctx\": \"Cô cần tư vấn sức khỏe, số điện thoại cô là 0386724.\"},\n",
        "    {\"sdt\": \"034759\", \"sdt_ctx\": \"Số điện thoại 034759, chú cần lịch hẹn với bác sĩ.\"},\n",
        "    {\"sdt\": \"0390428\", \"sdt_ctx\": \"Chị muốn đặt lịch khám, số điện thoại là 0390428, xin hỗ trợ.\"},\n",
        "    {\"sdt\": \"093128617928\", \"sdt_ctx\": \"Bác nhờ em sắp xếp lịch khám, số điện thoại bác 093128617928.\"},\n",
        "    {\"sdt\": \"056729453332\", \"sdt_ctx\": \"Số điện thoại của anh là 056729453332, anh cần tư vấn y tế.\"},\n",
        "    {\"sdt\": \"08518\", \"sdt_ctx\": \"Cô cần lịch khám gấp, số điện thoại cô 08518, cảm ơn.\"},\n",
        "    {\"sdt\": \"09167\", \"sdt_ctx\": \"Anh muốn gặp tư vấn viên, số điện thoại là 09167.\"},\n",
        "    {\"sdt\": \"034929795179\", \"sdt_ctx\": \"Số điện thoại 034929795179, chị cần đặt lịch khám định kỳ.\"},\n",
        "    {\"sdt\": \"03312754397\", \"sdt_ctx\": \"Chú cần tư vấn y tế, số điện thoại chú là 03312754397.\"},\n",
        "    {\"sdt\": \"056349619959\", \"sdt_ctx\": \"Bác muốn đặt lịch khám, số điện thoại bác 056349619959.\"},\n",
        "    {\"sdt\": \"0830796\", \"sdt_ctx\": \"Số điện thoại của cô là 0830796, cô cần lịch hẹn gấp.\"},\n",
        "    {\"sdt\": \"0366438255845\", \"sdt_ctx\": \"Anh nhờ em hỗ trợ lịch khám, số điện thoại 0366438255845.\"},\n",
        "    {\"sdt\": \"0989138\", \"sdt_ctx\": \"Chị cần gặp bác sĩ, số điện thoại chị là 0989138.\"},\n",
        "    {\"sdt\": \"086981\", \"sdt_ctx\": \"Số điện thoại 086981, chú muốn tư vấn sức khỏe.\"},\n",
        "    {\"sdt\": \"0584695879820\", \"sdt_ctx\": \"Bác cần lịch khám, số điện thoại là 0584695879820, xin hỗ trợ.\"},\n",
        "    {\"sdt\": \"03589\", \"sdt_ctx\": \"Cô nhờ đặt lịch khám với số điện thoại 03589.\"},\n",
        "    {\"sdt\": \"089556549649\", \"sdt_ctx\": \"Anh cần tư vấn y tế, số điện thoại anh 089556549649.\"},\n",
        "    {\"sdt\": \"09794\", \"sdt_ctx\": \"Số điện thoại của chị là 09794, chị muốn đặt lịch khám.\"},\n",
        "    {\"sdt\": \"091268\", \"sdt_ctx\": \"Chú cần lịch hẹn gấp, số điện thoại chú 091268.\"},\n",
        "    {\"sdt\": \"08921\", \"sdt_ctx\": \"Bác muốn tư vấn sức khỏe, số điện thoại là 08921.\"},\n",
        "    {\"sdt\": \"03498\", \"sdt_ctx\": \"Số điện thoại 03498, cô cần gặp tư vấn viên y tế.\"},\n",
        "    {\"sdt\": \"0388611\", \"sdt_ctx\": \"Anh nhờ em đặt lịch, số điện thoại anh 0388611, cảm ơn.\"},\n",
        "    {\"sdt\": \"086502193\", \"sdt_ctx\": \"Chị cần lịch khám định kỳ, số điện thoại chị là 086502193.\"},\n",
        "    {\"sdt\": \"07792\", \"sdt_ctx\": \"Số điện thoại của chú là 07792, chú cần tư vấn y tế.\"},\n",
        "    {\"sdt\": \"094382\", \"sdt_ctx\": \"Bác cần đặt lịch khám, số điện thoại bác 094382.\"},\n",
        "    {\"sdt\": \"03616\", \"sdt_ctx\": \"Cô muốn gặp bác sĩ, số điện thoại là 03616, xin hỗ trợ.\"},\n",
        "    {\"sdt\": \"08856\", \"sdt_ctx\": \"Anh cần lịch hẹn, số điện thoại anh 08856.\"},\n",
        "    {\"sdt\": \"07072086873540\", \"sdt_ctx\": \"Số điện thoại 07072086873540, chị nhờ em sắp xếp lịch khám.\"},\n",
        "    {\"sdt\": \"09248637200\", \"sdt_ctx\": \"Chú cần tư vấn sức khỏe, số điện thoại chú là 09248637200.\"},\n",
        "    {\"sdt\": \"05680601579\", \"sdt_ctx\": \"Bác muốn đặt lịch khám, số điện thoại 05680601579.\"},\n",
        "    {\"sdt\": \"03635079\", \"sdt_ctx\": \"Số điện thoại của cô là 03635079, cô cần lịch hẹn gấp.\"},\n",
        "    {\"sdt\": \"07787288260\", \"sdt_ctx\": \"Anh nhờ em hỗ trợ lịch khám, số điện thoại anh 07787288260.\"},\n",
        "    {\"sdt\": \"082587380127\", \"sdt_ctx\": \"Chị cần gặp tư vấn viên, số điện thoại là 082587380127.\"},\n",
        "    {\"sdt\": \"088965400\", \"sdt_ctx\": \"Số điện thoại 088965400, chú cần lịch khám định kỳ.\"},\n",
        "    {\"sdt\": \"05648738845\", \"sdt_ctx\": \"Bác cần tư vấn y tế, số điện thoại bác 05648738845.\"},\n",
        "    {\"sdt\": \"05945525055011\", \"sdt_ctx\": \"Cô muốn đặt lịch khám, số điện thoại cô là 05945525055011.\"},\n",
        "    {\"sdt\": \"092277114456533\", \"sdt_ctx\": \"Anh cần lịch hẹn gấp, số điện thoại 092277114456533.\"},\n",
        "    {\"sdt\": \"076247522\", \"sdt_ctx\": \"Số điện thoại của chị là 076247522, chị cần tư vấn sức khỏe.\"},\n",
        "    {\"sdt\": \"083208586\", \"sdt_ctx\": \"Chú nhờ em đặt lịch, số điện thoại chú 083208586.\"},\n",
        "    {\"sdt\": \"0936207843097\", \"sdt_ctx\": \"Bác cần gặp bác sĩ, số điện thoại là 0936207843097.\"},\n",
        "    {\"sdt\": \"03814456291\", \"sdt_ctx\": \"Số điện thoại 03814456291, cô cần lịch khám gấp.\"},\n",
        "    {\"sdt\": \"05946255727721\", \"sdt_ctx\": \"Anh muốn tư vấn y tế, số điện thoại anh 05946255727721.\"},\n",
        "    {\"sdt\": \"094914731614\", \"sdt_ctx\": \"Chị cần đặt lịch khám, số điện thoại chị là 094914731614.\"},\n",
        "    {\"sdt\": \"08134958708639\", \"sdt_ctx\": \"Số điện thoại của chú là 08134958708639, chú cần lịch hẹn.\"},\n",
        "    {\"sdt\": \"079732879490\", \"sdt_ctx\": \"Bác nhờ em hỗ trợ lịch khám, số điện thoại 079732879490.\"},\n",
        "    {\"sdt\": \"070453700425\", \"sdt_ctx\": \"Cô cần tư vấn sức khỏe, số điện thoại cô 070453700425.\"},\n",
        "    {\"sdt\": \"034247049\", \"sdt_ctx\": \"Số điện thoại 034247049, anh cần gặp tư vấn viên.\"},\n",
        "    {\"sdt\": \"059718831371737\", \"sdt_ctx\": \"Chị muốn khám định kỳ, số điện thoại là 059718831371737.\"},\n",
        "    {\"sdt\": \"0766057\", \"sdt_ctx\": \"Chú cần lịch khám, số điện thoại chú 0766057, xin cảm ơn.\"},\n",
        "    {\"sdt\": \"094051409302\", \"sdt_ctx\": \"Số điện thoại của bác là 094051409302, bác cần tư vấn y tế.\"},\n",
        "    {\"sdt\": \"0980673589912\", \"sdt_ctx\": \"Anh nhờ em đặt lịch, số điện thoại 0980673589912.\"},\n",
        "    {\"sdt\": \"03957\", \"sdt_ctx\": \"Cô cần lịch hẹn gấp, số điện thoại cô là 03957.\"},\n",
        "    {\"sdt\": \"09361682\", \"sdt_ctx\": \"Số điện thoại 09361682, chị muốn gặp bác sĩ.\"},\n",
        "    {\"sdt\": \"084065392\", \"sdt_ctx\": \"Bác cần tư vấn sức khỏe, số điện thoại bác 084065392.\"},\n",
        "    {\"sdt\": \"036299982830\", \"sdt_ctx\": \"Anh muốn đặt lịch khám, số điện thoại là 036299982830.\"},\n",
        "    {\"sdt\": \"07004250006\", \"sdt_ctx\": \"Số điện thoại của chú là 07004250006, chú cần lịch khám.\"},\n",
        "    {\"sdt\": \"086168518\", \"sdt_ctx\": \"Chị nhờ em hỗ trợ lịch khám, số điện thoại chị 086168518.\"},\n",
        "    {\"sdt\": \"08160\", \"sdt_ctx\": \"Cô cần gặp tư vấn viên, số điện thoại 08160, xin hỗ trợ.\"},\n",
        "    {\"sdt\": \"09245569166885\", \"sdt_ctx\": \"Số điện thoại 09245569166885, anh cần lịch hẹn gấp.\"},\n",
        "    {\"sdt\": \"082522873406\", \"sdt_ctx\": \"Bác muốn khám định kỳ, số điện thoại bác là 082522873406.\"},\n",
        "    {\"sdt\": \"0377999948614\", \"sdt_ctx\": \"Chú cần tư vấn y tế, số điện thoại 0377999948614.\"},\n",
        "    {\"sdt\": \"0829824\", \"sdt_ctx\": \"Số điện thoại của cô là 0829824, cô cần đặt lịch khám.\"},\n",
        "    {\"sdt\": \"086604319528\", \"sdt_ctx\": \"Anh cần lịch khám, số điện thoại anh 086604319528.\"},\n",
        "    {\"sdt\": \"07021\", \"sdt_ctx\": \"Chị muốn tư vấn sức khỏe, số điện thoại là 07021.\"},\n",
        "    {\"sdt\": \"09989891342578\", \"sdt_ctx\": \"Số điện thoại 09989891342578, chú nhờ em đặt lịch.\"},\n",
        "    {\"sdt\": \"076539457\", \"sdt_ctx\": \"Bác cần gặp bác sĩ, số điện thoại bác 076539457.\"},\n",
        "    {\"sdt\": \"0999713819429\", \"sdt_ctx\": \"Cô cần lịch khám gấp, số điện thoại là 0999713819429.\"},\n",
        "    {\"sdt\": \"091200\", \"sdt_ctx\": \"Số điện thoại của anh là 091200, anh cần tư vấn y tế.\"},\n",
        "    {\"sdt\": \"078263\", \"sdt_ctx\": \"Chị cần đặt lịch khám, số điện thoại chị 078263.\"},\n",
        "    {\"sdt\": \"0334219\", \"sdt_ctx\": \"Chú muốn khám định kỳ, số điện thoại 0334219, xin hỗ trợ.\"},\n",
        "    {\"sdt\": \"082029597149\", \"sdt_ctx\": \"Số điện thoại 082029597149, bác cần lịch hẹn gấp.\"},\n",
        "    {\"sdt\": \"0946507682459\", \"sdt_ctx\": \"Cô nhờ em hỗ trợ lịch khám, số điện thoại cô 0946507682459.\"},\n",
        "    {\"sdt\": \"03495\", \"sdt_ctx\": \"Anh cần tư vấn sức khỏe, số điện thoại là 03495.\"},\n",
        "    {\"sdt\": \"07672789\", \"sdt_ctx\": \"Số điện thoại của chị là 07672789, chị cần gặp tư vấn viên.\"},\n",
        "    {\"sdt\": \"09448693655634\", \"sdt_ctx\": \"Chú cần lịch khám, số điện thoại chú 09448693655634.\"},\n",
        "    {\"sdt\": \"038773\", \"sdt_ctx\": \"Bác muốn đặt lịch khám, số điện thoại 038773, xin cảm ơn.\"},\n",
        "    {\"sdt\": \"083852305831273\", \"sdt_ctx\": \"Số điện thoại 083852305831273, cô cần tư vấn y tế.\"},\n",
        "    {\"sdt\": \"08450731647\", \"sdt_ctx\": \"Anh nhờ em đặt lịch, số điện thoại anh 08450731647.\"},\n",
        "    {\"sdt\": \"03551671771\", \"sdt_ctx\": \"Chị cần lịch hẹn gấp, số điện thoại chị là 03551671771.\"},\n",
        "    {\"sdt\": \"09394\", \"sdt_ctx\": \"Số điện thoại 09394, chú cần gặp bác sĩ.\"},\n",
        "    {\"sdt\": \"096892\", \"sdt_ctx\": \"Bác cần tư vấn sức khỏe, số điện thoại bác 096892.\"},\n",
        "    {\"sdt\": \"08519935\", \"sdt_ctx\": \"Cô muốn khám định kỳ, số điện thoại là 08519935.\"},\n",
        "    {\"sdt\": \"098077592385020\", \"sdt_ctx\": \"Số điện thoại của anh là 098077592385020, anh cần lịch khám.\"},\n",
        "    {\"sdt\": \"03931970029399\", \"sdt_ctx\": \"Chị nhờ em hỗ trợ lịch khám, số điện thoại 03931970029399.\"},\n",
        "    {\"sdt\": \"07919\", \"sdt_ctx\": \"Chú cần tư vấn y tế, số điện thoại chú 07919.\"},\n",
        "    {\"sdt\": \"084798\", \"sdt_ctx\": \"Số điện thoại 084798, cô cần đặt lịch khám gấp.\"},\n",
        "    {\"sdt\": \"09166\", \"sdt_ctx\": \"Anh muốn gặp tư vấn viên, số điện thoại là 09166.\"},\n",
        "    {\"sdt\": \"09613\", \"sdt_ctx\": \"Số điện thoại của chị là 09613, chị cần lịch hẹn.\"},\n",
        "    {\"sdt\": \"092897\", \"sdt_ctx\": \"Bác cần lịch khám, số điện thoại bác 092897, xin hỗ trợ.\"},\n",
        "    {\"sdt\": \"08430557586939\", \"sdt_ctx\": \"Cô nhờ em đặt lịch, số điện thoại 08430557586939.\"},\n",
        "    {\"sdt\": \"0927854740074\", \"sdt_ctx\": \"Anh cần tư vấn sức khỏe, số điện thoại anh 0927854740074.\"},\n",
        "    {\"sdt\": \"086457294\", \"sdt_ctx\": \"Số điện thoại 086457294, chú cần lịch khám định kỳ.\"},\n",
        "    {\"sdt\": \"0349308\", \"sdt_ctx\": \"Chị muốn đặt lịch khám, số điện thoại chị là 0349308.\"},\n",
        "  {\"sdt\": \"08163865\", \"sdt_ctx\": \"Anh cần đặt lịch khám, số anh đây: 08163865\"},\n",
        "  {\"sdt\": \"03371078\", \"sdt_ctx\": \"Chị ơi, 03371078 là số của em, đặt giúp lịch khám nha\"},\n",
        "  {\"sdt\": \"03888743\", \"sdt_ctx\": \"03888743, cô muốn tư vấn y tế gấp\"},\n",
        "  {\"sdt\": \"089672855090088\", \"sdt_ctx\": \"Em cần lịch khám, số em là 089672855090088 nhé\"},\n",
        "  {\"sdt\": \"084795018048806\", \"sdt_ctx\": \"Chú nhờ đặt cuộc hẹn, số chú: 084795018048806\"},\n",
        "  {\"sdt\": \"07646373296\", \"sdt_ctx\": \"Số 07646373296 đây, anh cần gặp bác sĩ sớm\"},\n",
        "  {\"sdt\": \"078429584\", \"sdt_ctx\": \"Bác ơi, đặt lịch khám giúp em, số là 078429584\"},\n",
        "  {\"sdt\": \"0386724\", \"sdt_ctx\": \"0386724 là số của chị, cần tư vấn sức khỏe\"},\n",
        "  {\"sdt\": \"034759\", \"sdt_ctx\": \"Cô cần khám định kỳ, số đây: 034759\"},\n",
        "  {\"sdt\": \"0390428\", \"sdt_ctx\": \"Số em 0390428, nhờ anh đặt lịch khám hộ\"},\n",
        "  {\"sdt\": \"093128617928\", \"sdt_ctx\": \"Chị muốn tư vấn y tế, số chị 093128617928 nha\"},\n",
        "  {\"sdt\": \"056729453332\", \"sdt_ctx\": \"056729453332, chú cần lịch khám gấp\"},\n",
        "  {\"sdt\": \"08518\", \"sdt_ctx\": \"Anh ơi, số em 08518, đặt lịch khám giúp em\"},\n",
        "  {\"sdt\": \"09167\", \"sdt_ctx\": \"Số 09167 đây, cô muốn gặp tư vấn viên\"},\n",
        "  {\"sdt\": \"034929795179\", \"sdt_ctx\": \"Bác nhờ đặt lịch, số bác là 034929795179\"},\n",
        "  {\"sdt\": \"03312754397\", \"sdt_ctx\": \"Chị cần khám, số chị: 03312754397 nhé\"},\n",
        "  {\"sdt\": \"056349619959\", \"sdt_ctx\": \"056349619959 là số của em, cần tư vấn y tế\"},\n",
        "  {\"sdt\": \"0830796\", \"sdt_ctx\": \"Anh muốn đặt lịch, số anh 0830796\"},\n",
        "  {\"sdt\": \"0366438255845\", \"sdt_ctx\": \"Số 0366438255845, chú cần gặp bác sĩ\"},\n",
        "  {\"sdt\": \"0989138\", \"sdt_ctx\": \"Cô ơi, 0989138 là số em, đặt lịch khám hộ em\"},\n",
        "  {\"sdt\": \"086981\", \"sdt_ctx\": \"086981, chị cần tư vấn sức khỏe gấp\"},\n",
        "  {\"sdt\": \"0584695879820\", \"sdt_ctx\": \"Bác cần lịch khám, số bác: 0584695879820\"},\n",
        "  {\"sdt\": \"03589\", \"sdt_ctx\": \"Số em 03589, nhờ anh tư vấn y tế\"},\n",
        "  {\"sdt\": \"089556549649\", \"sdt_ctx\": \"089556549649 là số của chị, đặt lịch khám nha\"},\n",
        "  {\"sdt\": \"09794\", \"sdt_ctx\": \"Anh ơi, số 09794 đây, cần lịch khám\"},\n",
        "  {\"sdt\": \"091268\", \"sdt_ctx\": \"Cô muốn tư vấn, số cô 091268 nhé\"},\n",
        "  {\"sdt\": \"08921\", \"sdt_ctx\": \"Số 08921, chú cần đặt lịch gấp\"},\n",
        "  {\"sdt\": \"03498\", \"sdt_ctx\": \"03498 là số em, nhờ chị đặt lịch khám\"},\n",
        "  {\"sdt\": \"0388611\", \"sdt_ctx\": \"Bác ơi, số bác 0388611, cần tư vấn y tế\"},\n",
        "  {\"sdt\": \"086502193\", \"sdt_ctx\": \"086502193, anh muốn gặp bác sĩ sớm\"},\n",
        "  {\"sdt\": \"07792\", \"sdt_ctx\": \"Số em 07792, đặt lịch khám giúp em nha\"},\n",
        "  {\"sdt\": \"094382\", \"sdt_ctx\": \"Chị cần tư vấn, số chị: 094382\"},\n",
        "  {\"sdt\": \"03616\", \"sdt_ctx\": \"03616 là số của cô, cần lịch khám\"},\n",
        "  {\"sdt\": \"08856\", \"sdt_ctx\": \"Anh ơi, 08856 là số em, tư vấn y tế hộ em\"},\n",
        "  {\"sdt\": \"07072086873540\", \"sdt_ctx\": \"Số 07072086873540, chú cần khám định kỳ\"},\n",
        "  {\"sdt\": \"09248637200\", \"sdt_ctx\": \"Bác muốn đặt lịch, số bác 09248637200 nhé\"},\n",
        "  {\"sdt\": \"05680601579\", \"sdt_ctx\": \"05680601579 là số của chị, cần gặp tư vấn viên\"},\n",
        "  {\"sdt\": \"03635079\", \"sdt_ctx\": \"Anh cần khám, số anh: 03635079\"},\n",
        "  {\"sdt\": \"07787288260\", \"sdt_ctx\": \"Số em 07787288260, nhờ cô đặt lịch khám\"},\n",
        "  {\"sdt\": \"082587380127\", \"sdt_ctx\": \"082587380127, chú cần tư vấn y tế gấp\"},\n",
        "  {\"sdt\": \"088965400\", \"sdt_ctx\": \"Cô ơi, số cô 088965400, đặt lịch khám hộ\"},\n",
        "  {\"sdt\": \"05648738845\", \"sdt_ctx\": \"Số 05648738845, chị muốn gặp bác sĩ\"},\n",
        "  {\"sdt\": \"05945525055011\", \"sdt_ctx\": \"Bác cần lịch khám, số bác: 05945525055011\"},\n",
        "  {\"sdt\": \"092277114456533\", \"sdt_ctx\": \"092277114456533 là số của em, cần tư vấn\"},\n",
        "  {\"sdt\": \"076247522\", \"sdt_ctx\": \"Anh ơi, số 076247522, đặt lịch khám giúp em\"},\n",
        "  {\"sdt\": \"083208586\", \"sdt_ctx\": \"Số cô 083208586, cần tư vấn sức khỏe\"},\n",
        "  {\"sdt\": \"0936207843097\", \"sdt_ctx\": \"0936207843097, chú cần lịch khám gấp\"},\n",
        "  {\"sdt\": \"03814456291\", \"sdt_ctx\": \"Chị muốn tư vấn, số chị 03814456291 nha\"},\n",
        "  {\"sdt\": \"05946255727721\", \"sdt_ctx\": \"Số 05946255727721, bác cần gặp bác sĩ\"},\n",
        "  {\"sdt\": \"094914731614\", \"sdt_ctx\": \"094914731614 là số của em, đặt lịch khám\"},\n",
        "  {\"sdt\": \"08134958708639\", \"sdt_ctx\": \"Anh cần khám, số anh: 08134958708639\"},\n",
        "  {\"sdt\": \"079732879490\", \"sdt_ctx\": \"Số cô 079732879490, nhờ tư vấn y tế\"},\n",
        "  {\"sdt\": \"070453700425\", \"sdt_ctx\": \"070453700425, chị cần lịch khám sớm\"},\n",
        "  {\"sdt\": \"034247049\", \"sdt_ctx\": \"Bác ơi, số 034247049, đặt lịch khám hộ bác\"},\n",
        "  {\"sdt\": \"059718831371737\", \"sdt_ctx\": \"Số em 059718831371737, cần tư vấn gấp\"},\n",
        "  {\"sdt\": \"0766057\", \"sdt_ctx\": \"Anh muốn đặt lịch, số anh 0766057 nhé\"},\n",
        "  {\"sdt\": \"094051409302\", \"sdt_ctx\": \"094051409302 là số của cô, cần lịch khám\"},\n",
        "  {\"sdt\": \"0980673589912\", \"sdt_ctx\": \"Số 0980673589912, chú cần gặp tư vấn viên\"},\n",
        "  {\"sdt\": \"03957\", \"sdt_ctx\": \"Chị ơi, số em 03957, đặt lịch khám nha\"},\n",
        "  {\"sdt\": \"09361682\", \"sdt_ctx\": \"09361682, anh cần tư vấn y tế\"},\n",
        "  {\"sdt\": \"084065392\", \"sdt_ctx\": \"Số cô 084065392, nhờ đặt lịch khám\"},\n",
        "  {\"sdt\": \"036299982830\", \"sdt_ctx\": \"036299982830 là số của bác, cần tư vấn\"},\n",
        "  {\"sdt\": \"07004250006\", \"sdt_ctx\": \"Anh cần lịch khám, số anh: 07004250006\"},\n",
        "  {\"sdt\": \"086168518\", \"sdt_ctx\": \"Số 086168518, chị muốn gặp bác sĩ\"},\n",
        "  {\"sdt\": \"08160\", \"sdt_ctx\": \"08160 là số em, nhờ cô tư vấn y tế\"},\n",
        "  {\"sdt\": \"09245569166885\", \"sdt_ctx\": \"Số chú 09245569166885, cần lịch khám gấp\"},\n",
        "  {\"sdt\": \"082522873406\", \"sdt_ctx\": \"082522873406, bác cần tư vấn sức khỏe\"},\n",
        "  {\"sdt\": \"0377999948614\", \"sdt_ctx\": \"Số em 0377999948614, đặt lịch khám giúp em\"},\n",
        "  {\"sdt\": \"0829824\", \"sdt_ctx\": \"Anh ơi, số 0829824, cần gặp tư vấn viên\"},\n",
        "  {\"sdt\": \"086604319528\", \"sdt_ctx\": \"086604319528 là số của chị, cần lịch khám\"},\n",
        "  {\"sdt\": \"07021\", \"sdt_ctx\": \"Số cô 07021, nhờ đặt lịch khám hộ\"},\n",
        "  {\"sdt\": \"09989891342578\", \"sdt_ctx\": \"09989891342578, chú cần tư vấn y tế\"},\n",
        "  {\"sdt\": \"076539457\", \"sdt_ctx\": \"Số 076539457, anh muốn đặt lịch sớm\"},\n",
        "  {\"sdt\": \"0999713819429\", \"sdt_ctx\": \"0999713819429 là số của em, cần khám\"},\n",
        "  {\"sdt\": \"091200\", \"sdt_ctx\": \"Bác ơi, số bác 091200, đặt lịch khám nha\"},\n",
        "  {\"sdt\": \"078263\", \"sdt_ctx\": \"Số chị 078263, cần tư vấn sức khỏe\"},\n",
        "  {\"sdt\": \"0334219\", \"sdt_ctx\": \"0334219, cô cần lịch khám gấp\"},\n",
        "  {\"sdt\": \"082029597149\", \"sdt_ctx\": \"Số 082029597149, anh cần gặp bác sĩ\"},\n",
        "  {\"sdt\": \"0946507682459\", \"sdt_ctx\": \"0946507682459 là số của chú, cần tư vấn\"},\n",
        "  {\"sdt\": \"03495\", \"sdt_ctx\": \"Chị ơi, số em 03495, đặt lịch khám hộ\"},\n",
        "  {\"sdt\": \"07672789\", \"sdt_ctx\": \"Số 07672789, bác cần lịch khám sớm\"},\n",
        "  {\"sdt\": \"09448693655634\", \"sdt_ctx\": \"09448693655634, chị muốn tư vấn y tế\"},\n",
        "  {\"sdt\": \"038773\", \"sdt_ctx\": \"Anh cần khám, số anh: 038773\"},\n",
        "  {\"sdt\": \"083852305831273\", \"sdt_ctx\": \"Số cô 083852305831273, nhờ đặt lịch\"},\n",
        "  {\"sdt\": \"08450731647\", \"sdt_ctx\": \"08450731647 là số của em, cần tư vấn\"},\n",
        "  {\"sdt\": \"03551671771\", \"sdt_ctx\": \"Số 03551671771, chú cần gặp bác sĩ\"},\n",
        "  {\"sdt\": \"09394\", \"sdt_ctx\": \"Anh ơi, số 09394, đặt lịch khám nha\"},\n",
        "  {\"sdt\": \"096892\", \"sdt_ctx\": \"Số chị 096892, cần lịch khám gấp\"},\n",
        "  {\"sdt\": \"08519935\", \"sdt_ctx\": \"08519935, bác cần tư vấn sức khỏe\"},\n",
        "  {\"sdt\": \"098077592385020\", \"sdt_ctx\": \"Số em 098077592385020, nhờ đặt lịch\"},\n",
        "  {\"sdt\": \"03931970029399\", \"sdt_ctx\": \"03931970029399 là số của cô, cần khám\"},\n",
        "  {\"sdt\": \"07919\", \"sdt_ctx\": \"Số 07919, anh cần gặp tư vấn viên\"},\n",
        "  {\"sdt\": \"084798\", \"sdt_ctx\": \"Chị ơi, số chị 084798, đặt lịch khám\"},\n",
        "  {\"sdt\": \"09166\", \"sdt_ctx\": \"Số 09166, chú cần tư vấn y tế\"},\n",
        "  {\"sdt\": \"09613\", \"sdt_ctx\": \"09613 là số của em, cần lịch khám\"},\n",
        "  {\"sdt\": \"092897\", \"sdt_ctx\": \"Số cô 092897, nhờ tư vấn sức khỏe\"},\n",
        "  {\"sdt\": \"08430557586939\", \"sdt_ctx\": \"08430557586939, anh cần đặt lịch gấp\"},\n",
        "  {\"sdt\": \"0927854740074\", \"sdt_ctx\": \"Số 0927854740074, chị muốn gặp bác sĩ\"},\n",
        "  {\"sdt\": \"086457294\", \"sdt_ctx\": \"086457294 là số của bác, cần tư vấn\"},\n",
        "  {\"sdt\": \"0349308\", \"sdt_ctx\": \"Số em 0349308, đặt lịch khám giúp em\"},\n",
        "  {\"sdt\": \"08163865\", \"sdt_ctx\": \"a cần lịch khám, số a 08163865 nha\"},\n",
        "  {\"sdt\": \"03371078\", \"sdt_ctx\": \"e ơi, 03371078 là số c, đặt lịch khám hộ\"},\n",
        "  {\"sdt\": \"03888743\", \"sdt_ctx\": \"03888743, c cần tư vấn y tế gấp\"},\n",
        "  {\"sdt\": \"089672855090088\", \"sdt_ctx\": \"số e là 089672855090088, đặt lịch khám nhé\"},\n",
        "  {\"sdt\": \"084795018048806\", \"sdt_ctx\": \"a muốn gặp bs, số a: 084795018048806\"},\n",
        "  {\"sdt\": \"07646373296\", \"sdt_ctx\": \"07646373296 là số e, c ơi đặt lịch khám\"},\n",
        "  {\"sdt\": \"078429584\", \"sdt_ctx\": \"e cần tư vấn, số e 078429584 nha\"},\n",
        "  {\"sdt\": \"0386724\", \"sdt_ctx\": \"số c 0386724, a giúp đặt lịch khám\"},\n",
        "  {\"sdt\": \"034759\", \"sdt_ctx\": \"034759, e cần lịch khám gấp\"},\n",
        "  {\"sdt\": \"0390428\", \"sdt_ctx\": \"a ơi, số e 0390428, tư vấn y tế hộ\"},\n",
        "  {\"sdt\": \"093128617928\", \"sdt_ctx\": \"c cần khám, 093128617928 là số c\"},\n",
        "  {\"sdt\": \"056729453332\", \"sdt_ctx\": \"056729453332, a muốn đặt lịch sớm\"},\n",
        "  {\"sdt\": \"08518\", \"sdt_ctx\": \"e ơi, 08518 là số c, đặt lịch khám nha\"},\n",
        "  {\"sdt\": \"09167\", \"sdt_ctx\": \"số a 09167, cần tư vấn y tế\"},\n",
        "  {\"sdt\": \"034929795179\", \"sdt_ctx\": \"034929795179 là số e, a đặt lịch hộ\"},\n",
        "  {\"sdt\": \"03312754397\", \"sdt_ctx\": \"c cần gặp bs, số c: 03312754397\"},\n",
        "  {\"sdt\": \"056349619959\", \"sdt_ctx\": \"056349619959, e cần lịch khám nhé\"},\n",
        "  {\"sdt\": \"0830796\", \"sdt_ctx\": \"a muốn tư vấn, số a 0830796 nha\"},\n",
        "  {\"sdt\": \"0366438255845\", \"sdt_ctx\": \"số c 0366438255845, cần khám gấp\"},\n",
        "  {\"sdt\": \"0989138\", \"sdt_ctx\": \"e ơi, 0989138 là số a, đặt lịch khám\"},\n",
        "  {\"sdt\": \"086981\", \"sdt_ctx\": \"086981, c cần tư vấn sức khỏe\"},\n",
        "  {\"sdt\": \"0584695879820\", \"sdt_ctx\": \"a cần lịch khám, 0584695879820 là số\"},\n",
        "  {\"sdt\": \"03589\", \"sdt_ctx\": \"số e 03589, c giúp tư vấn y tế\"},\n",
        "  {\"sdt\": \"089556549649\", \"sdt_ctx\": \"089556549649 là số a, đặt lịch nha\"},\n",
        "  {\"sdt\": \"09794\", \"sdt_ctx\": \"e ơi, số c 09794, cần lịch khám\"},\n",
        "  {\"sdt\": \"091268\", \"sdt_ctx\": \"091268, a muốn tư vấn y tế gấp\"},\n",
        "  {\"sdt\": \"08921\", \"sdt_ctx\": \"số c 08921, e đặt lịch khám hộ\"},\n",
        "  {\"sdt\": \"03498\", \"sdt_ctx\": \"03498 là số e, a ơi tư vấn sức khỏe\"},\n",
        "  {\"sdt\": \"0388611\", \"sdt_ctx\": \"c cần gặp bs, 0388611 là số c\"},\n",
        "  {\"sdt\": \"086502193\", \"sdt_ctx\": \"086502193, a cần lịch khám sớm\"},\n",
        "  {\"sdt\": \"07792\", \"sdt_ctx\": \"số e 07792, c ơi đặt lịch nha\"},\n",
        "  {\"sdt\": \"094382\", \"sdt_ctx\": \"094382 là số a, cần tư vấn y tế\"},\n",
        "  {\"sdt\": \"03616\", \"sdt_ctx\": \"e ơi, 03616 là số c, đặt lịch khám\"},\n",
        "  {\"sdt\": \"08856\", \"sdt_ctx\": \"số a 08856, cần lịch khám gấp\"},\n",
        "  {\"sdt\": \"07072086873540\", \"sdt_ctx\": \"07072086873540, c cần tư vấn sức khỏe\"},\n",
        "  {\"sdt\": \"09248637200\", \"sdt_ctx\": \"a muốn đặt lịch, 09248637200 là số\"},\n",
        "  {\"sdt\": \"05680601579\", \"sdt_ctx\": \"05680601579 là số e, c giúp tư vấn\"},\n",
        "  {\"sdt\": \"03635079\", \"sdt_ctx\": \"số a 03635079, cần gặp bs\"},\n",
        "  {\"sdt\": \"07787288260\", \"sdt_ctx\": \"07787288260, e cần lịch khám nha\"},\n",
        "  {\"sdt\": \"082587380127\", \"sdt_ctx\": \"c cần tư vấn, 082587380127 là số\"},\n",
        "  {\"sdt\": \"088965400\", \"sdt_ctx\": \"số a 088965400, e ơi đặt lịch khám\"},\n",
        "  {\"sdt\": \"05648738845\", \"sdt_ctx\": \"05648738845, c muốn gặp bs gấp\"},\n",
        "  {\"sdt\": \"05945525055011\", \"sdt_ctx\": \"a cần lịch khám, số a: 05945525055011\"},\n",
        "  {\"sdt\": \"092277114456533\", \"sdt_ctx\": \"092277114456533 là số e, cần tư vấn\"},\n",
        "  {\"sdt\": \"076247522\", \"sdt_ctx\": \"e ơi, 076247522 là số c, đặt lịch nha\"},\n",
        "  {\"sdt\": \"083208586\", \"sdt_ctx\": \"số a 083208586, cần khám định kỳ\"},\n",
        "  {\"sdt\": \"0936207843097\", \"sdt_ctx\": \"0936207843097, c cần lịch khám gấp\"},\n",
        "  {\"sdt\": \"03814456291\", \"sdt_ctx\": \"a muốn tư vấn, 03814456291 là số\"},\n",
        "  {\"sdt\": \"05946255727721\", \"sdt_ctx\": \"số e 05946255727721, c ơi đặt lịch\"},\n",
        "  {\"sdt\": \"094914731614\", \"sdt_ctx\": \"094914731614 là số a, cần gặp bs\"},\n",
        "  {\"sdt\": \"08134958708639\", \"sdt_ctx\": \"c cần khám, số c: 08134958708639\"},\n",
        "  {\"sdt\": \"079732879490\", \"sdt_ctx\": \"079732879490, e cần tư vấn y tế\"},\n",
        "  {\"sdt\": \"070453700425\", \"sdt_ctx\": \"số a 070453700425, đặt lịch khám nha\"},\n",
        "  {\"sdt\": \"034247049\", \"sdt_ctx\": \"034247049 là số c, e giúp tư vấn\"},\n",
        "  {\"sdt\": \"059718831371737\", \"sdt_ctx\": \"e cần lịch khám, 059718831371737 là số\"},\n",
        "  {\"sdt\": \"0766057\", \"sdt_ctx\": \"số a 0766057, c ơi đặt lịch gấp\"},\n",
        "  {\"sdt\": \"094051409302\", \"sdt_ctx\": \"094051409302, c cần tư vấn sức khỏe\"},\n",
        "  {\"sdt\": \"0980673589912\", \"sdt_ctx\": \"a muốn gặp bs, 0980673589912 là số\"},\n",
        "  {\"sdt\": \"03957\", \"sdt_ctx\": \"e ơi, số c 03957, đặt lịch khám\"},\n",
        "  {\"sdt\": \"09361682\", \"sdt_ctx\": \"09361682, a cần tư vấn y tế\"},\n",
        "  {\"sdt\": \"084065392\", \"sdt_ctx\": \"số e 084065392, c giúp đặt lịch\"},\n",
        "  {\"sdt\": \"036299982830\", \"sdt_ctx\": \"036299982830 là số a, cần khám gấp\"},\n",
        "  {\"sdt\": \"07004250006\", \"sdt_ctx\": \"c cần lịch khám, 07004250006 là số\"},\n",
        "  {\"sdt\": \"086168518\", \"sdt_ctx\": \"số e 086168518, a ơi tư vấn sức khỏe\"},\n",
        "  {\"sdt\": \"08160\", \"sdt_ctx\": \"08160, c cần gặp bs nha\"},\n",
        "  {\"sdt\": \"09245569166885\", \"sdt_ctx\": \"a muốn tư vấn, 09245569166885 là số\"},\n",
        "  {\"sdt\": \"082522873406\", \"sdt_ctx\": \"số c 082522873406, e đặt lịch khám\"},\n",
        "  {\"sdt\": \"0377999948614\", \"sdt_ctx\": \"0377999948614, a cần lịch khám gấp\"},\n",
        "  {\"sdt\": \"0829824\", \"sdt_ctx\": \"e ơi, số a 0829824, tư vấn y tế\"},\n",
        "  {\"sdt\": \"086604319528\", \"sdt_ctx\": \"086604319528 là số c, cần gặp bs\"},\n",
        "  {\"sdt\": \"07021\", \"sdt_ctx\": \"số e 07021, a ơi đặt lịch nha\"},\n",
        "  {\"sdt\": \"09989891342578\", \"sdt_ctx\": \"09989891342578, c cần tư vấn gấp\"},\n",
        "  {\"sdt\": \"076539457\", \"sdt_ctx\": \"a cần khám, 076539457 là số\"},\n",
        "  {\"sdt\": \"0999713819429\", \"sdt_ctx\": \"số e 0999713819429, c giúp đặt lịch\"},\n",
        "  {\"sdt\": \"091200\", \"sdt_ctx\": \"091200, a muốn tư vấn y tế\"},\n",
        "  {\"sdt\": \"078263\", \"sdt_ctx\": \"e ơi, số c 078263, đặt lịch khám\"},\n",
        "  {\"sdt\": \"0334219\", \"sdt_ctx\": \"0334219 là số a, cần lịch khám gấp\"},\n",
        "  {\"sdt\": \"082029597149\", \"sdt_ctx\": \"số c 082029597149, e ơi tư vấn\"},\n",
        "  {\"sdt\": \"0946507682459\", \"sdt_ctx\": \"0946507682459, a cần gặp bs\"},\n",
        "  {\"sdt\": \"03495\", \"sdt_ctx\": \"số e 03495, c đặt lịch khám nha\"},\n",
        "  {\"sdt\": \"07672789\", \"sdt_ctx\": \"07672789 là số a, cần tư vấn\"},\n",
        "  {\"sdt\": \"09448693655634\", \"sdt_ctx\": \"c cần lịch khám, 09448693655634 là số\"},\n",
        "  {\"sdt\": \"038773\", \"sdt_ctx\": \"số e 038773, a ơi tư vấn y tế\"},\n",
        "  {\"sdt\": \"083852305831273\", \"sdt_ctx\": \"083852305831273, c cần gặp bs gấp\"},\n",
        "  {\"sdt\": \"08450731647\", \"sdt_ctx\": \"số a 08450731647, đặt lịch khám\"},\n",
        "  {\"sdt\": \"03551671771\", \"sdt_ctx\": \"03551671771 là số e, c ơi tư vấn\"},\n",
        "  {\"sdt\": \"09394\", \"sdt_ctx\": \"e ơi, số a 09394, đặt lịch nha\"},\n",
        "  {\"sdt\": \"096892\", \"sdt_ctx\": \"096892, c cần lịch khám gấp\"},\n",
        "  {\"sdt\": \"08519935\", \"sdt_ctx\": \"số a 08519935, cần tư vấn sức khỏe\"},\n",
        "  {\"sdt\": \"098077592385020\", \"sdt_ctx\": \"098077592385020 là số e, c đặt lịch\"},\n",
        "  {\"sdt\": \"03931970029399\", \"sdt_ctx\": \"số c 03931970029399, a ơi tư vấn\"},\n",
        "  {\"sdt\": \"07919\", \"sdt_ctx\": \"07919, e cần lịch khám nha\"},\n",
        "  {\"sdt\": \"084798\", \"sdt_ctx\": \"số a 084798, c giúp đặt lịch\"},\n",
        "  {\"sdt\": \"09166\", \"sdt_ctx\": \"09166 là số c, cần tư vấn y tế\"},\n",
        "  {\"sdt\": \"09613\", \"sdt_ctx\": \"e ơi, số a 09613, đặt lịch khám\"},\n",
        "  {\"sdt\": \"092897\", \"sdt_ctx\": \"092897, c cần gặp bs gấp\"},\n",
        "  {\"sdt\": \"08430557586939\", \"sdt_ctx\": \"số a 08430557586939, cần lịch khám\"},\n",
        "  {\"sdt\": \"0927854740074\", \"sdt_ctx\": \"0927854740074 là số e, c ơi tư vấn\"},\n",
        "  {\"sdt\": \"086457294\", \"sdt_ctx\": \"số c 086457294, a đặt lịch nha\"},\n",
        "  {\"sdt\": \"0349308\", \"sdt_ctx\": \"0349308, e cần tư vấn sức khỏe\"},\n",
        "  {\"sdt\": \"08879557\", \"sdt_ctx\": \"A ơi, liên hệ e qua sdt 08879557 nha, cần tư vấn gấp!\"},\n",
        "  {\"sdt\": \"07950705316\", \"sdt_ctx\": \"Cần tư vấn y tế, c gọi e ở 07950705316 nha!\"},\n",
        "  {\"sdt\": \"08626420\", \"sdt_ctx\": \"E để sdt 08626420 đây, a gọi tư vấn giúp e!\"},\n",
        "  {\"sdt\": \"0585962\", \"sdt_ctx\": \"Sdt 0585962 nè, c nhắn e để tư vấn nhé!\"},\n",
        "  {\"sdt\": \"05983703319\", \"sdt_ctx\": \"A gọi 05983703319 tư vấn y tế cho e với!\"},\n",
        "  {\"sdt\": \"059637\", \"sdt_ctx\": \"C ơi, sdt e 059637, liên hệ tư vấn nha!\"},\n",
        "  {\"sdt\": \"05820765819\", \"sdt_ctx\": \"E cần tư vấn, a gọi sdt 05820765819 nhé!\"},\n",
        "  {\"sdt\": \"05968591\", \"sdt_ctx\": \"Sdt 05968591 đây, c nhắn tư vấn giúp e!\"},\n",
        "  {\"sdt\": \"039300077\", \"sdt_ctx\": \"A liên hệ e qua 039300077 để tư vấn nha!\"},\n",
        "  {\"sdt\": \"0399502048793\", \"sdt_ctx\": \"C gọi sdt 0399502048793 tư vấn y tế cho e!\"},\n",
        "  {\"sdt\": \"03472\", \"sdt_ctx\": \"E để sdt 03472, a nhắn tư vấn giúp nha!\"},\n",
        "  {\"sdt\": \"07736\", \"sdt_ctx\": \"Sdt 07736 nè, c gọi e tư vấn gấp!\"},\n",
        "  {\"sdt\": \"03232748697691\", \"sdt_ctx\": \"A ơi, gọi 03232748697691 tư vấn cho e nha!\"},\n",
        "  {\"sdt\": \"07919357835570\", \"sdt_ctx\": \"C liên hệ e ở 07919357835570 để tư vấn!\"},\n",
        "  {\"sdt\": \"09700658\", \"sdt_ctx\": \"E cần tư vấn y tế, a gọi 09700658 nha!\"},\n",
        "  {\"sdt\": \"035433\", \"sdt_ctx\": \"Sdt e 035433, c nhắn tư vấn nhanh nè!\"},\n",
        "  {\"sdt\": \"03960727887083\", \"sdt_ctx\": \"A gọi sdt 03960727887083 tư vấn giúp e!\"},\n",
        "  {\"sdt\": \"0888937\", \"sdt_ctx\": \"C ơi, liên hệ e qua 0888937 nha!\"},\n",
        "  {\"sdt\": \"0973476307958\", \"sdt_ctx\": \"E để sdt 0973476307958, a tư vấn gấp!\"},\n",
        "  {\"sdt\": \"0338943\", \"sdt_ctx\": \"Sdt 0338943 nè, c gọi e tư vấn nha!\"},\n",
        "  {\"sdt\": \"081243521\", \"sdt_ctx\": \"A nhắn 081243521 để tư vấn y tế cho e!\"},\n",
        "  {\"sdt\": \"076647089220936\", \"sdt_ctx\": \"C gọi sdt 076647089220936 tư vấn e nha!\"},\n",
        "  {\"sdt\": \"09244\", \"sdt_ctx\": \"E cần tư vấn, a liên hệ 09244 nhé!\"},\n",
        "  {\"sdt\": \"0769060\", \"sdt_ctx\": \"Sdt 0769060 đây, c nhắn e tư vấn gấp!\"},\n",
        "  {\"sdt\": \"082165875\", \"sdt_ctx\": \"A gọi 082165875 tư vấn y tế cho e nha!\"},\n",
        "  {\"sdt\": \"084279015\", \"sdt_ctx\": \"C ơi, sdt e 084279015, liên hệ nha!\"},\n",
        "  {\"sdt\": \"0847836421980\", \"sdt_ctx\": \"E để sdt 0847836421980, a tư vấn giúp!\"},\n",
        "  {\"sdt\": \"08263956265\", \"sdt_ctx\": \"Sdt 08263956265 nè, c gọi tư vấn e!\"},\n",
        "  {\"sdt\": \"0880311768647\", \"sdt_ctx\": \"A liên hệ 0880311768647 tư vấn y tế nha!\"},\n",
        "  {\"sdt\": \"08261\", \"sdt_ctx\": \"C nhắn sdt 08261 để tư vấn e nhé!\"},\n",
        "  {\"sdt\": \"09497965\", \"sdt_ctx\": \"E cần tư vấn, a gọi 09497965 nha!\"},\n",
        "  {\"sdt\": \"03248175031\", \"sdt_ctx\": \"Sdt 03248175031 đây, c tư vấn giúp e!\"},\n",
        "  {\"sdt\": \"0328491993328\", \"sdt_ctx\": \"A gọi sdt 0328491993328 tư vấn e nha!\"},\n",
        "  {\"sdt\": \"059275231\", \"sdt_ctx\": \"C ơi, liên hệ e qua 059275231 nhé!\"},\n",
        "  {\"sdt\": \"084013528\", \"sdt_ctx\": \"E để sdt 084013528, a nhắn tư vấn nha!\"},\n",
        "  {\"sdt\": \"078681308565152\", \"sdt_ctx\": \"Sdt 078681308565152 nè, c gọi e gấp!\"},\n",
        "  {\"sdt\": \"08234728\", \"sdt_ctx\": \"A liên hệ 08234728 tư vấn y tế cho e!\"},\n",
        "  {\"sdt\": \"03240\", \"sdt_ctx\": \"C nhắn sdt 03240 để tư vấn e nha!\"},\n",
        "  {\"sdt\": \"058837390425\", \"sdt_ctx\": \"E cần tư vấn, a gọi 058837390425 nhé!\"},\n",
        "  {\"sdt\": \"0369728380555\", \"sdt_ctx\": \"Sdt 0369728380555 đây, c tư vấn e!\"},\n",
        "  {\"sdt\": \"03880014666\", \"sdt_ctx\": \"A gọi sdt 03880014666 tư vấn gấp nha!\"},\n",
        "  {\"sdt\": \"0357352591528\", \"sdt_ctx\": \"C ơi, liên hệ e qua 0357352591528!\"},\n",
        "  {\"sdt\": \"096138473\", \"sdt_ctx\": \"E để sdt 096138473, a nhắn tư vấn nha!\"},\n",
        "  {\"sdt\": \"08284\", \"sdt_ctx\": \"Sdt 08284 nè, c gọi e tư vấn nhé!\"},\n",
        "  {\"sdt\": \"079614370\", \"sdt_ctx\": \"A liên hệ 079614370 tư vấn y tế e nha!\"},\n",
        "  {\"sdt\": \"090331041181735\", \"sdt_ctx\": \"C nhắn sdt 090331041181735 tư vấn e!\"},\n",
        "  {\"sdt\": \"08302\", \"sdt_ctx\": \"E cần tư vấn, a gọi 08302 gấp nha!\"},\n",
        "  {\"sdt\": \"079559205156773\", \"sdt_ctx\": \"Sdt 079559205156773 đây, c tư vấn e!\"},\n",
        "  {\"sdt\": \"058553\", \"sdt_ctx\": \"A gọi sdt 058553 tư vấn y tế nha!\"},\n",
        "  {\"sdt\": \"056626661\", \"sdt_ctx\": \"C ơi, liên hệ e qua 056626661 nhé!\"},\n",
        "  {\"sdt\": \"037306\", \"sdt_ctx\": \"E để sdt 037306, a nhắn tư vấn nha!\"},\n",
        "  {\"sdt\": \"0856026\", \"sdt_ctx\": \"Sdt 0856026 nè, c gọi e tư vấn gấp!\"},\n",
        "  {\"sdt\": \"099833260354\", \"sdt_ctx\": \"A liên hệ 099833260354 tư vấn e nha!\"},\n",
        "  {\"sdt\": \"098165\", \"sdt_ctx\": \"C nhắn sdt 098165 để tư vấn e nhé!\"},\n",
        "  {\"sdt\": \"037599\", \"sdt_ctx\": \"E cần tư vấn, a gọi 037599 nha!\"},\n",
        "  {\"sdt\": \"093807849\", \"sdt_ctx\": \"Sdt 093807849 đây, c tư vấn giúp e!\"},\n",
        "  {\"sdt\": \"03555684\", \"sdt_ctx\": \"A gọi sdt 03555684 tư vấn y tế e nha!\"},\n",
        "  {\"sdt\": \"09213275831\", \"sdt_ctx\": \"C ơi, liên hệ e qua 09213275831 nhé!\"},\n",
        "  {\"sdt\": \"03990\", \"sdt_ctx\": \"E để sdt 03990, a nhắn tư vấn nha!\"},\n",
        "  {\"sdt\": \"09499192717\", \"sdt_ctx\": \"Sdt 09499192717 nè, c gọi e tư vấn!\"},\n",
        "  {\"sdt\": \"09773763296\", \"sdt_ctx\": \"A liên hệ 09773763296 tư vấn e nha!\"},\n",
        "  {\"sdt\": \"08299655672\", \"sdt_ctx\": \"C nhắn sdt 08299655672 tư vấn e nhé!\"},\n",
        "  {\"sdt\": \"0887533\", \"sdt_ctx\": \"E cần tư vấn, a gọi 0887533 gấp nha!\"},\n",
        "  {\"sdt\": \"03678764\", \"sdt_ctx\": \"Sdt 03678764 đây, c tư vấn giúp e!\"},\n",
        "  {\"sdt\": \"038697334\", \"sdt_ctx\": \"A gọi sdt 038697334 tư vấn y tế nha!\"},\n",
        "  {\"sdt\": \"0792819627063\", \"sdt_ctx\": \"C ơi, liên hệ e qua 0792819627063!\"},\n",
        "  {\"sdt\": \"08965859434830\", \"sdt_ctx\": \"E để sdt 08965859434830, a nhắn nha!\"},\n",
        "  {\"sdt\": \"08274042\", \"sdt_ctx\": \"Sdt 08274042 nè, c gọi e tư vấn gấp!\"},\n",
        "  {\"sdt\": \"077917264045120\", \"sdt_ctx\": \"A liên hệ 077917264045120 tư vấn e!\"},\n",
        "  {\"sdt\": \"097965758\", \"sdt_ctx\": \"C nhắn sdt 097965758 tư vấn e nhé!\"},\n",
        "  {\"sdt\": \"038429652\", \"sdt_ctx\": \"E cần tư vấn, a gọi 038429652 nha!\"},\n",
        "  {\"sdt\": \"05619\", \"sdt_ctx\": \"Sdt 05619 đây, c tư vấn giúp e nha!\"},\n",
        "  {\"sdt\": \"09359197674\", \"sdt_ctx\": \"A gọi sdt 09359197674 tư vấn e nha!\"},\n",
        "  {\"sdt\": \"0999758078083\", \"sdt_ctx\": \"C ơi, liên hệ e qua 0999758078083!\"},\n",
        "  {\"sdt\": \"08561572726520\", \"sdt_ctx\": \"E để sdt 08561572726520, a nhắn nha!\"},\n",
        "  {\"sdt\": \"07894\", \"sdt_ctx\": \"Sdt 07894 nè, c gọi e tư vấn gấp!\"},\n",
        "  {\"sdt\": \"03576\", \"sdt_ctx\": \"A liên hệ 03576 tư vấn y tế e nha!\"},\n",
        "  {\"sdt\": \"089758\", \"sdt_ctx\": \"C nhắn sdt 089758 để tư vấn e nhé!\"},\n",
        "  {\"sdt\": \"081908264\", \"sdt_ctx\": \"E cần tư vấn, a gọi 081908264 nha!\"},\n",
        "  {\"sdt\": \"09484868\", \"sdt_ctx\": \"Sdt 09484868 đây, c tư vấn giúp e!\"},\n",
        "  {\"sdt\": \"077369\", \"sdt_ctx\": \"A gọi sdt 077369 tư vấn y tế nha!\"},\n",
        "  {\"sdt\": \"070367523703004\", \"sdt_ctx\": \"C ơi, liên hệ e qua 070367523703004!\"},\n",
        "  {\"sdt\": \"08964616967052\", \"sdt_ctx\": \"E để sdt 08964616967052, a nhắn nha!\"},\n",
        "  {\"sdt\": \"076065\", \"sdt_ctx\": \"Sdt 076065 nè, c gọi e tư vấn gấp!\"},\n",
        "  {\"sdt\": \"099950368046854\", \"sdt_ctx\": \"A liên hệ 099950368046854 tư vấn e!\"},\n",
        "  {\"sdt\": \"08844310782251\", \"sdt_ctx\": \"C nhắn sdt 08844310782251 tư vấn e!\"},\n",
        "  {\"sdt\": \"0845047\", \"sdt_ctx\": \"E cần tư vấn, a gọi 0845047 nha!\"},\n",
        "  {\"sdt\": \"05617552532\", \"sdt_ctx\": \"Sdt 05617552532 đây, c tư vấn e nha!\"},\n",
        "  {\"sdt\": \"083435221\", \"sdt_ctx\": \"A gọi sdt 083435221 tư vấn y tế nha!\"},\n",
        "  {\"sdt\": \"034270853071106\", \"sdt_ctx\": \"C ơi, liên hệ e qua 034270853071106!\"},\n",
        "  {\"sdt\": \"09931\", \"sdt_ctx\": \"E để sdt 09931, a nhắn tư vấn nha!\"},\n",
        "  {\"sdt\": \"07061\", \"sdt_ctx\": \"Sdt 07061 nè, c gọi e tư vấn gấp!\"},\n",
        "  {\"sdt\": \"03415\", \"sdt_ctx\": \"A liên hệ 03415 tư vấn y tế e nha!\"},\n",
        "  {\"sdt\": \"07908017821\", \"sdt_ctx\": \"C nhắn sdt 07908017821 tư vấn e nhé!\"},\n",
        "  {\"sdt\": \"093035861632070\", \"sdt_ctx\": \"E cần tư vấn, a gọi 093035861632070!\"},\n",
        "  {\"sdt\": \"09285951378550\", \"sdt_ctx\": \"Sdt 09285951378550 đây, c tư vấn e!\"},\n",
        "  {\"sdt\": \"0763629064759\", \"sdt_ctx\": \"A gọi sdt 0763629064759 tư vấn nha!\"},\n",
        "  {\"sdt\": \"08628\", \"sdt_ctx\": \"C ơi, liên hệ e qua 08628 nhé!\"},\n",
        "  {\"sdt\": \"083921670652169\", \"sdt_ctx\": \"E để sdt 083921670652169, a nhắn nha!\"},\n",
        "  {\"sdt\": \"079501596\", \"sdt_ctx\": \"Sdt 079501596 nè, c gọi e tư vấn gấp!\"},\n",
        "  {\"sdt\": \"0392904\", \"sdt_ctx\": \"Anh ơi, liên hệ em qua 0392904 để gửi thông tin nha\"},\n",
        "  {\"sdt\": \"0585215\", \"sdt_ctx\": \"Chị gửi thông tin cho em ở số 0585215 được không\"},\n",
        "  {\"sdt\": \"0974607077234\", \"sdt_ctx\": \"Em để số 0974607077234 đây, anh gọi tư vấn giúp em\"},\n",
        "  {\"sdt\": \"037167569\", \"sdt_ctx\": \"Chú ơi, 037167569 là số em, gửi thông tin cho em nha\"},\n",
        "  {\"sdt\": \"0991735\", \"sdt_ctx\": \"Bác gọi em qua 0991735 để trao đổi thông tin nhé\"},\n",
        "  {\"sdt\": \"0976812588319\", \"sdt_ctx\": \"Anh nhắn em qua số 0976812588319 nha, em cần thông tin gấp\"},\n",
        "  {\"sdt\": \"0597769\", \"sdt_ctx\": \"Em là 0597769, chị gửi thông tin khám cho em được không\"},\n",
        "  {\"sdt\": \"05874192814526\", \"sdt_ctx\": \"05874192814526 đây anh, liên hệ em để gửi thông tin\"},\n",
        "  {\"sdt\": \"090914569559845\", \"sdt_ctx\": \"Chị ơi, em để số 090914569559845, nhắn em nha\"},\n",
        "  {\"sdt\": \"03648422906659\", \"sdt_ctx\": \"Bác nhắn thông tin qua 03648422906659 giúp em\"},\n",
        "  {\"sdt\": \"038654351927\", \"sdt_ctx\": \"038654351927 là số em, anh gọi tư vấn nha\"},\n",
        "  {\"sdt\": \"08671418\", \"sdt_ctx\": \"Chị liên hệ em qua 08671418 để gửi thông tin nhé\"},\n",
        "  {\"sdt\": \"08616204\", \"sdt_ctx\": \"Em để 08616204, chú nhắn thông tin cho em nha\"},\n",
        "  {\"sdt\": \"097000262879309\", \"sdt_ctx\": \"Anh ơi, 097000262879309 là số em, gửi thông tin giúp\"},\n",
        "  {\"sdt\": \"034306309591447\", \"sdt_ctx\": \"Số 034306309591447 đây, chị gọi em nha\"},\n",
        "  {\"sdt\": \"098712745448180\", \"sdt_ctx\": \"Em là 098712745448180, bác gửi thông tin qua số này\"},\n",
        "  {\"sdt\": \"0322654\", \"sdt_ctx\": \"Anh nhắn em ở 0322654 để gửi thông tin nha\"},\n",
        "  {\"sdt\": \"097665\", \"sdt_ctx\": \"Chị ơi, liên hệ em qua 097665 được không\"},\n",
        "  {\"sdt\": \"08266\", \"sdt_ctx\": \"08266 là số em, chú gọi để trao đổi thông tin nhé\"},\n",
        "  {\"sdt\": \"056607301\", \"sdt_ctx\": \"Bác ơi, em để số 056607301, nhắn thông tin nha\"},\n",
        "  {\"sdt\": \"035331\", \"sdt_ctx\": \"Anh liên hệ 035331 để gửi thông tin cho em nha\"},\n",
        "  {\"sdt\": \"076909889690\", \"sdt_ctx\": \"Số 076909889690 đây, chị nhắn em nhé\"},\n",
        "  {\"sdt\": \"077354253\", \"sdt_ctx\": \"Em để 077354253, anh gọi tư vấn thông tin nha\"},\n",
        "  {\"sdt\": \"0595198\", \"sdt_ctx\": \"Chú ơi, 0595198 là số em, gửi thông tin giúp\"},\n",
        "  {\"sdt\": \"03721984\", \"sdt_ctx\": \"Bác nhắn em qua 03721984 để gửi thông tin nha\"},\n",
        "  {\"sdt\": \"034771023753\", \"sdt_ctx\": \"034771023753 là số em, chị liên hệ nha\"},\n",
        "  {\"sdt\": \"094694\", \"sdt_ctx\": \"Anh ơi, gọi em qua 094694 để trao đổi thông tin\"},\n",
        "  {\"sdt\": \"03866097226907\", \"sdt_ctx\": \"Em để số 03866097226907, bác nhắn thông tin nhé\"},\n",
        "  {\"sdt\": \"083508670549\", \"sdt_ctx\": \"Chị gọi 083508670549 để gửi thông tin cho em nha\"},\n",
        "  {\"sdt\": \"036672999681\", \"sdt_ctx\": \"036672999681 là số em, anh nhắn thông tin nha\"},\n",
        "  {\"sdt\": \"0991310837530\", \"sdt_ctx\": \"Chú ơi, liên hệ em qua 0991310837530 nhé\"},\n",
        "  {\"sdt\": \"037177026538\", \"sdt_ctx\": \"Bác ơi, 037177026538 là số em, gửi thông tin nha\"},\n",
        "  {\"sdt\": \"09935\", \"sdt_ctx\": \"Anh nhắn em ở 09935 để gửi thông tin được không\"},\n",
        "  {\"sdt\": \"0854276\", \"sdt_ctx\": \"Chị ơi, em để 0854276, liên hệ em nha\"},\n",
        "  {\"sdt\": \"099109572\", \"sdt_ctx\": \"099109572 là số em, bác gọi tư vấn nhé\"},\n",
        "  {\"sdt\": \"076825363107861\", \"sdt_ctx\": \"Em để số 076825363107861, anh nhắn thông tin nha\"},\n",
        "  {\"sdt\": \"037139\", \"sdt_ctx\": \"Chú gọi em qua 037139 để gửi thông tin nhé\"},\n",
        "  {\"sdt\": \"08818\", \"sdt_ctx\": \"Bác ơi, 08818 là số em, nhắn em nha\"},\n",
        "  {\"sdt\": \"05886540\", \"sdt_ctx\": \"Anh liên hệ 05886540 để gửi thông tin cho em\"},\n",
        "  {\"sdt\": \"070755\", \"sdt_ctx\": \"Chị ơi, gọi em qua 070755 nha\"},\n",
        "  {\"sdt\": \"0773177192049\", \"sdt_ctx\": \"0773177192049 là số em, bác nhắn thông tin nhé\"},\n",
        "  {\"sdt\": \"0867026\", \"sdt_ctx\": \"Em để 0867026, anh gọi tư vấn nha\"},\n",
        "  {\"sdt\": \"03707562\", \"sdt_ctx\": \"Chú ơi, nhắn em qua 03707562 để gửi thông tin\"},\n",
        "  {\"sdt\": \"0784087\", \"sdt_ctx\": \"Bác liên hệ em ở 0784087 nha\"},\n",
        "  {\"sdt\": \"099810611704\", \"sdt_ctx\": \"Anh ơi, 099810611704 là số em, gửi thông tin nhé\"},\n",
        "  {\"sdt\": \"09416\", \"sdt_ctx\": \"Chị gọi em qua 09416 để trao đổi thông tin nha\"},\n",
        "  {\"sdt\": \"0976702885104\", \"sdt_ctx\": \"Em để số 0976702885104, bác nhắn em nhé\"},\n",
        "  {\"sdt\": \"079047\", \"sdt_ctx\": \"Anh nhắn 079047 để gửi thông tin cho em nha\"},\n",
        "  {\"sdt\": \"03327231\", \"sdt_ctx\": \"Chú ơi, 03327231 là số em, liên hệ nha\"},\n",
        "  {\"sdt\": \"084333700471\", \"sdt_ctx\": \"Bác gọi em qua 084333700471 để gửi thông tin\"},\n",
        "  {\"sdt\": \"0391889828136\", \"sdt_ctx\": \"0391889828136 là số em, chị nhắn thông tin nha\"},\n",
        "  {\"sdt\": \"0784167\", \"sdt_ctx\": \"Anh ơi, liên hệ em ở 0784167 nhé\"},\n",
        "  {\"sdt\": \"08624\", \"sdt_ctx\": \"Chị ơi, em để 08624, gọi em nha\"},\n",
        "  {\"sdt\": \"0764909\", \"sdt_ctx\": \"Bác nhắn em qua 0764909 để gửi thông tin\"},\n",
        "  {\"sdt\": \"058940\", \"sdt_ctx\": \"Anh gọi 058940 để tư vấn thông tin cho em nha\"},\n",
        "  {\"sdt\": \"034881234475\", \"sdt_ctx\": \"034881234475 là số em, chú liên hệ nhé\"},\n",
        "  {\"sdt\": \"0372619\", \"sdt_ctx\": \"Chị ơi, nhắn em qua 0372619 nha\"},\n",
        "  {\"sdt\": \"03656910125\", \"sdt_ctx\": \"Em để số 03656910125, bác gửi thông tin nhé\"},\n",
        "  {\"sdt\": \"099297800\", \"sdt_ctx\": \"Anh liên hệ 099297800 để gửi thông tin nha\"},\n",
        "  {\"sdt\": \"0830675\", \"sdt_ctx\": \"Chú ơi, 0830675 là số em, nhắn em nha\"},\n",
        "  {\"sdt\": \"0858316\", \"sdt_ctx\": \"Bác gọi em qua 0858316 để tư vấn thông tin\"},\n",
        "  {\"sdt\": \"09972770\", \"sdt_ctx\": \"Chị ơi, 09972770 là số em, liên hệ nha\"},\n",
        "  {\"sdt\": \"09870\", \"sdt_ctx\": \"Anh nhắn em ở 09870 để gửi thông tin nhé\"},\n",
        "  {\"sdt\": \"08335437367540\", \"sdt_ctx\": \"08335437367540 là số em, bác gọi nha\"},\n",
        "  {\"sdt\": \"09110064\", \"sdt_ctx\": \"Chú ơi, liên hệ em qua 09110064 nhé\"},\n",
        "  {\"sdt\": \"077315859\", \"sdt_ctx\": \"Chị gọi 077315859 để gửi thông tin cho em\"},\n",
        "  {\"sdt\": \"03280481252701\", \"sdt_ctx\": \"Em để số 03280481252701, anh nhắn thông tin nha\"},\n",
        "  {\"sdt\": \"07602385\", \"sdt_ctx\": \"Bác ơi, 07602385 là số em, gửi thông tin nhé\"},\n",
        "  {\"sdt\": \"0846410476608\", \"sdt_ctx\": \"Anh liên hệ 0846410476608 để tư vấn nha\"},\n",
        "  {\"sdt\": \"086134352\", \"sdt_ctx\": \"Chị ơi, nhắn em qua 086134352 nhé\"},\n",
        "  {\"sdt\": \"09112077\", \"sdt_ctx\": \"Chú gọi em ở 09112077 để gửi thông tin\"},\n",
        "  {\"sdt\": \"03724142\", \"sdt_ctx\": \"Bác ơi, 03724142 là số em, liên hệ nha\"},\n",
        "  {\"sdt\": \"092609\", \"sdt_ctx\": \"Anh nhắn 092609 để gửi thông tin cho em\"},\n",
        "  {\"sdt\": \"0897920273571\", \"sdt_ctx\": \"0897920273571 là số em, chị gọi nha\"},\n",
        "  {\"sdt\": \"034236191\", \"sdt_ctx\": \"Chú ơi, em để số 034236191, nhắn em nhé\"},\n",
        "  {\"sdt\": \"0996205\", \"sdt_ctx\": \"Bác liên hệ 0996205 để gửi thông tin nha\"},\n",
        "  {\"sdt\": \"088104312327176\", \"sdt_ctx\": \"Anh ơi, 088104312327176 là số em, gọi nha\"},\n",
        "  {\"sdt\": \"097808\", \"sdt_ctx\": \"Chị nhắn em qua 097808 để tư vấn thông tin\"},\n",
        "  {\"sdt\": \"03669\", \"sdt_ctx\": \"Chú ơi, 03669 là số em, gửi thông tin nha\"},\n",
        "  {\"sdt\": \"09749842449\", \"sdt_ctx\": \"Bác gọi 09749842449 để liên hệ em nhé\"},\n",
        "  {\"sdt\": \"09120787957939\", \"sdt_ctx\": \"Anh ơi, nhắn em qua 09120787957939 nha\"},\n",
        "  {\"sdt\": \"03601569088\", \"sdt_ctx\": \"Chị ơi, 03601569088 là số em, gọi nha\"},\n",
        "  {\"sdt\": \"05915026\", \"sdt_ctx\": \"Chú liên hệ 05915026 để gửi thông tin em nhé\"},\n",
        "  {\"sdt\": \"092153343690143\", \"sdt_ctx\": \"Bác ơi, em để số 092153343690143, nhắn nha\"},\n",
        "  {\"sdt\": \"089653\", \"sdt_ctx\": \"Anh gọi 089653 để tư vấn thông tin cho em\"},\n",
        "  {\"sdt\": \"08669838425\", \"sdt_ctx\": \"Chị ơi, 08669838425 là số em, liên hệ nha\"},\n",
        "  {\"sdt\": \"05649885705578\", \"sdt_ctx\": \"Chú nhắn em qua 05649885705578 nhé\"},\n",
        "  {\"sdt\": \"05860206525\", \"sdt_ctx\": \"Bác ơi, gọi em ở 05860206525 để gửi thông tin\"},\n",
        "  {\"sdt\": \"033348765428555\", \"sdt_ctx\": \"Anh liên hệ 033348765428555 để nhắn thông tin nha\"},\n",
        "  {\"sdt\": \"07897887\", \"sdt_ctx\": \"Chị ơi, 07897887 là số em, gửi thông tin nhé\"},\n",
        "  {\"sdt\": \"090317396423\", \"sdt_ctx\": \"Chú gọi 090317396423 để tư vấn cho em nha\"},\n",
        "  {\"sdt\": \"09769068\", \"sdt_ctx\": \"Bác ơi, nhắn em qua 09769068 nhé\"},\n",
        "  {\"sdt\": \"081793830511\", \"sdt_ctx\": \"Anh ơi, 081793830511 là số em, liên hệ nha\"},\n",
        "  {\"sdt\": \"08966123\", \"sdt_ctx\": \"Chị gọi 08966123 để gửi thông tin em nhé\"},\n",
        "  {\"sdt\": \"0598370\", \"sdt_ctx\": \"Chú ơi, em để số 0598370, nhắn nha\"},\n",
        "  {\"sdt\": \"0940941837403\", \"sdt_ctx\": \"Bác liên hệ 0940941837403 để tư vấn thông tin\"},\n",
        "  {\"sdt\": \"037335\", \"sdt_ctx\": \"Anh nhắn em ở 037335 để gửi thông tin nha\"},\n",
        "  {\"sdt\": \"036803424541716\", \"sdt_ctx\": \"Chị ơi, 036803424541716 là số em, gọi nha\"},\n",
        "  {\"sdt\": \"09351344\", \"sdt_ctx\": \"Chú gọi 09351344 để liên hệ em nhé\"},\n",
        "  {\"sdt\": \"03904\", \"sdt_ctx\": \"Bác ơi, nhắn em qua 03904 để gửi thông tin\"},\n",
        "  {\"sdt\": \"0353261187258\", \"sdt_ctx\": \"E gửi số 0353261187258 đây, bác sĩ cần thêm gì hem?\"},\n",
        "  {\"sdt\": \"03755129918\", \"sdt_ctx\": \"Số e nè 03755129918, liên lạc khi nào tiện?\"},\n",
        "  {\"sdt\": \"09814\", \"sdt_ctx\": \"A để lại 09814, gọi e nếu cần info nha\"},\n",
        "  {\"sdt\": \"0333784\", \"sdt_ctx\": \"Cứ gọi 0333784 nha, e là bệnh nhân mới\"},\n",
        "  {\"sdt\": \"09103207\", \"sdt_ctx\": \"E mới đăng ký, số 09103207 đây chị ơi\"},\n",
        "  {\"sdt\": \"0590610034376\", \"sdt_ctx\": \"Bác sĩ ơi, 0590610034376 là số e, có gì nhắn e nha\"},\n",
        "  {\"sdt\": \"082441\", \"sdt_ctx\": \"Số e 082441, a lưu giúp e với\"},\n",
        "  {\"sdt\": \"08660122\", \"sdt_ctx\": \"E gửi 08660122, bác sĩ cứ liên lạc số này\"},\n",
        "  {\"sdt\": \"03248916\", \"sdt_ctx\": \"03248916 đây, e mới khám, có gì gọi e nha\"},\n",
        "  {\"sdt\": \"035851132379208\", \"sdt_ctx\": \"C ơi, số e 035851132379208, nhắn e nếu cần\"},\n",
        "  {\"sdt\": \"077678828416444\", \"sdt_ctx\": \"E để số 077678828416444 đây, liên lạc e nha\"},\n",
        "  {\"sdt\": \"088216490\", \"sdt_ctx\": \"088216490 là số e, bác sĩ cứ gọi thoải mái\"},\n",
        "  {\"sdt\": \"08447881\", \"sdt_ctx\": \"A lưu số e 08447881 nha, có gì nhắn e\"},\n",
        "  {\"sdt\": \"07653\", \"sdt_ctx\": \"Số e 07653, c gọi khi nào tiện nha\"},\n",
        "  {\"sdt\": \"086721516910\", \"sdt_ctx\": \"E gửi số 086721516910, bác sĩ cần gì cứ hỏi\"},\n",
        "  {\"sdt\": \"038151032\", \"sdt_ctx\": \"038151032 đây c, e mới đăng ký khám\"},\n",
        "  {\"sdt\": \"084617709\", \"sdt_ctx\": \"E để lại 084617709, liên lạc e nếu cần nha\"},\n",
        "  {\"sdt\": \"09392768930\", \"sdt_ctx\": \"Bác sĩ ơi, số e 09392768930, có gì nhắn nha\"},\n",
        "  {\"sdt\": \"033788\", \"sdt_ctx\": \"Số e 033788, a lưu giúp e với nha\"},\n",
        "  {\"sdt\": \"09421777545930\", \"sdt_ctx\": \"09421777545930 là số e, c cứ gọi khi cần\"},\n",
        "  {\"sdt\": \"03541225\", \"sdt_ctx\": \"E gửi 03541225, bác sĩ liên lạc số này nha\"},\n",
        "  {\"sdt\": \"056672079031\", \"sdt_ctx\": \"Số e 056672079031, có gì nhắn e nha c\"},\n",
        "  {\"sdt\": \"089008012\", \"sdt_ctx\": \"A ơi, 089008012 là số e, lưu nha\"},\n",
        "  {\"sdt\": \"05631343828\", \"sdt_ctx\": \"E để số 05631343828, bác sĩ cứ gọi thoải mái\"},\n",
        "  {\"sdt\": \"077626867588\", \"sdt_ctx\": \"077626867588 đây, e mới khám, nhắn e nha\"},\n",
        "  {\"sdt\": \"03453623733\", \"sdt_ctx\": \"Số e 03453623733, c lưu giúp e với\"},\n",
        "  {\"sdt\": \"03383302844824\", \"sdt_ctx\": \"E gửi 03383302844824, bác sĩ cần gì cứ hỏi\"},\n",
        "  {\"sdt\": \"07691016949\", \"sdt_ctx\": \"07691016949 là số e, liên lạc e nha a\"},\n",
        "  {\"sdt\": \"09729097334\", \"sdt_ctx\": \"C ơi, số e 09729097334, có gì gọi nha\"},\n",
        "  {\"sdt\": \"08579281645361\", \"sdt_ctx\": \"E để lại 08579281645361, bác sĩ nhắn e nha\"},\n",
        "  {\"sdt\": \"084701369306\", \"sdt_ctx\": \"Số e 084701369306, a gọi khi tiện nha\"},\n",
        "  {\"sdt\": \"081292060706\", \"sdt_ctx\": \"081292060706 đây c, e mới đăng ký\"},\n",
        "  {\"sdt\": \"093053070392\", \"sdt_ctx\": \"E gửi số 093053070392, bác sĩ cứ liên lạc\"},\n",
        "  {\"sdt\": \"05907917951\", \"sdt_ctx\": \"Số e 05907917951, có gì nhắn e nha a\"},\n",
        "  {\"sdt\": \"032855498\", \"sdt_ctx\": \"032855498 là số e, c lưu nha\"},\n",
        "  {\"sdt\": \"088132715643451\", \"sdt_ctx\": \"E để số 088132715643451, bác sĩ gọi e nha\"},\n",
        "  {\"sdt\": \"038982695\", \"sdt_ctx\": \"038982695 đây, e mới khám, nhắn e nha\"},\n",
        "  {\"sdt\": \"036437937298\", \"sdt_ctx\": \"Số e 036437937298, a liên lạc khi cần\"},\n",
        "  {\"sdt\": \"038427354696975\", \"sdt_ctx\": \"E gửi 038427354696975, bác sĩ cứ hỏi nha\"},\n",
        "  {\"sdt\": \"0790630323120\", \"sdt_ctx\": \"0790630323120 là số e, c gọi thoải mái\"},\n",
        "  {\"sdt\": \"0761949\", \"sdt_ctx\": \"Số e 0761949, a lưu giúp e nha\"},\n",
        "  {\"sdt\": \"08261127\", \"sdt_ctx\": \"08261127 đây c, e mới đăng ký khám\"},\n",
        "  {\"sdt\": \"09466127\", \"sdt_ctx\": \"E để lại 09466127, bác sĩ nhắn e nha\"},\n",
        "  {\"sdt\": \"098741892887\", \"sdt_ctx\": \"Số e 098741892887, có gì gọi e nha a\"},\n",
        "  {\"sdt\": \"033984644346579\", \"sdt_ctx\": \"033984644346579 là số e, c liên lạc nha\"},\n",
        "  {\"sdt\": \"03660432\", \"sdt_ctx\": \"E gửi số 03660432, bác sĩ cứ gọi\"},\n",
        "  {\"sdt\": \"08425239738\", \"sdt_ctx\": \"08425239738 đây, e mới khám, nhắn e nha\"},\n",
        "  {\"sdt\": \"0972419474087\", \"sdt_ctx\": \"Số e 0972419474087, a lưu nha\"},\n",
        "  {\"sdt\": \"08455407935070\", \"sdt_ctx\": \"E để số 08455407935070, bác sĩ liên lạc nha\"},\n",
        "  {\"sdt\": \"03651899148203\", \"sdt_ctx\": \"03651899148203 là số e, c gọi khi cần\"},\n",
        "  {\"sdt\": \"07017195837\", \"sdt_ctx\": \"Số e 07017195837, a nhắn e nha\"},\n",
        "  {\"sdt\": \"09109672\", \"sdt_ctx\": \"09109672 đây c, e mới đăng ký\"},\n",
        "  {\"sdt\": \"03921631794091\", \"sdt_ctx\": \"E gửi 03921631794091, bác sĩ cứ hỏi nha\"},\n",
        "  {\"sdt\": \"0598396359871\", \"sdt_ctx\": \"Số e 0598396359871, có gì gọi e nha\"},\n",
        "  {\"sdt\": \"0708243\", \"sdt_ctx\": \"0708243 là số e, a lưu giúp e\"},\n",
        "  {\"sdt\": \"03250\", \"sdt_ctx\": \"E để lại 03250, bác sĩ nhắn e nha\"},\n",
        "  {\"sdt\": \"078305784\", \"sdt_ctx\": \"Số e 078305784, c liên lạc nha\"},\n",
        "  {\"sdt\": \"09890\", \"sdt_ctx\": \"09890 đây a, e mới khám, gọi e nha\"},\n",
        "  {\"sdt\": \"03314417945780\", \"sdt_ctx\": \"E gửi số 03314417945780, bác sĩ cứ gọi\"},\n",
        "  {\"sdt\": \"091924267363557\", \"sdt_ctx\": \"091924267363557 là số e, c nhắn nha\"},\n",
        "  {\"sdt\": \"096369662979\", \"sdt_ctx\": \"Số e 096369662979, a gọi khi tiện\"},\n",
        "  {\"sdt\": \"076325\", \"sdt_ctx\": \"076325 đây c, e mới đăng ký khám\"},\n",
        "  {\"sdt\": \"03345571479839\", \"sdt_ctx\": \"E để số 03345571479839, bác sĩ liên lạc nha\"},\n",
        "  {\"sdt\": \"0982188\", \"sdt_ctx\": \"Số e 0982188, a lưu nha\"},\n",
        "  {\"sdt\": \"077645420846\", \"sdt_ctx\": \"077645420846 là số e, c gọi e nha\"},\n",
        "  {\"sdt\": \"03834661681\", \"sdt_ctx\": \"E gửi 03834661681, bác sĩ nhắn e nha\"},\n",
        "  {\"sdt\": \"0900070\", \"sdt_ctx\": \"0900070 đây a, e mới khám, liên lạc nha\"},\n",
        "  {\"sdt\": \"03265087189941\", \"sdt_ctx\": \"Số e 03265087189941, c cứ gọi\"},\n",
        "  {\"sdt\": \"032451\", \"sdt_ctx\": \"032451 là số e, a nhắn e nha\"},\n",
        "  {\"sdt\": \"038351\", \"sdt_ctx\": \"E để lại 038351, bác sĩ gọi e nha\"},\n",
        "  {\"sdt\": \"077632292171525\", \"sdt_ctx\": \"077632292171525 đây c, e mới đăng ký\"},\n",
        "  {\"sdt\": \"0815213994896\", \"sdt_ctx\": \"Số e 0815213994896, a liên lạc nha\"},\n",
        "  {\"sdt\": \"059725969654945\", \"sdt_ctx\": \"E gửi 059725969654945, bác sĩ cứ hỏi\"},\n",
        "  {\"sdt\": \"097707998561462\", \"sdt_ctx\": \"097707998561462 là số e, c nhắn nha\"},\n",
        "  {\"sdt\": \"093637\", \"sdt_ctx\": \"Số e 093637, a lưu giúp e\"},\n",
        "  {\"sdt\": \"09695274\", \"sdt_ctx\": \"09695274 đây c, e mới khám, gọi e nha\"},\n",
        "  {\"sdt\": \"097768693\", \"sdt_ctx\": \"E để số 097768693, bác sĩ liên lạc nha\"},\n",
        "  {\"sdt\": \"079881779136267\", \"sdt_ctx\": \"079881779136267 là số e, a gọi nha\"},\n",
        "  {\"sdt\": \"08602810369458\", \"sdt_ctx\": \"Số e 08602810369458, c nhắn e nha\"},\n",
        "  {\"sdt\": \"03293981743554\", \"sdt_ctx\": \"E gửi 03293981743554, bác sĩ cứ gọi\"},\n",
        "  {\"sdt\": \"09432\", \"sdt_ctx\": \"09432 đây a, e mới đăng ký, liên lạc nha\"},\n",
        "  {\"sdt\": \"0961440\", \"sdt_ctx\": \"Số e 0961440, c lưu nha\"},\n",
        "  {\"sdt\": \"05972550\", \"sdt_ctx\": \"05972550 là số e, a gọi khi tiện\"},\n",
        "  {\"sdt\": \"08575626\", \"sdt_ctx\": \"E để lại 08575626, bác sĩ nhắn e nha\"},\n",
        "  {\"sdt\": \"0829886\", \"sdt_ctx\": \"Số e 0829886, c liên lạc nha\"},\n",
        "  {\"sdt\": \"032870284\", \"sdt_ctx\": \"032870284 đây a, e mới khám, gọi e nha\"},\n",
        "  {\"sdt\": \"09760185\", \"sdt_ctx\": \"E gửi số 09760185, bác sĩ cứ hỏi\"},\n",
        "  {\"sdt\": \"0841499\", \"sdt_ctx\": \"0841499 là số e, c nhắn nha\"},\n",
        "  {\"sdt\": \"05697\", \"sdt_ctx\": \"Số e 05697, a lưu giúp e nha\"},\n",
        "  {\"sdt\": \"078832598976\", \"sdt_ctx\": \"078832598976 đây c, e mới đăng ký\"},\n",
        "  {\"sdt\": \"08917652185\", \"sdt_ctx\": \"E để số 08917652185, bác sĩ gọi e nha\"},\n",
        "  {\"sdt\": \"0914901\", \"sdt_ctx\": \"Số e 0914901, a nhắn e nha\"},\n",
        "  {\"sdt\": \"08878\", \"sdt_ctx\": \"08878 là số e, c liên lạc nha\"},\n",
        "  {\"sdt\": \"03789377\", \"sdt_ctx\": \"E gửi 03789377, bác sĩ cứ gọi nha\"},\n",
        "  {\"sdt\": \"058546\", \"sdt_ctx\": \"058546 đây a, e mới khám, nhắn e nha\"},\n",
        "  {\"sdt\": \"0825124787772\", \"sdt_ctx\": \"Số e 0825124787772, c lưu nha\"},\n",
        "  {\"sdt\": \"092800077\", \"sdt_ctx\": \"092800077 là số e, a gọi e nha\"},\n",
        "  {\"sdt\": \"08345701466\", \"sdt_ctx\": \"E để số 08345701466, bác sĩ nhắn e nha\"},\n",
        "  {\"sdt\": \"07879383\", \"sdt_ctx\": \"Số e 07879383, c liên lạc nha\"},\n",
        "  {\"sdt\": \"0960250\", \"sdt_ctx\": \"0960250 đây a, e mới đăng ký, gọi e nha\"}\n",
        "]"
      ],
      "metadata": {
        "id": "XIa9q4LtM9_V"
      },
      "execution_count": null,
      "outputs": []
    },
    {
      "cell_type": "markdown",
      "source": [
        "##### incorrect_customer_name"
      ],
      "metadata": {
        "id": "cdu-2GzHMwdw"
      }
    },
    {
      "cell_type": "code",
      "source": [
        "incorrect_customer_name = [{\"sdt\": \"082106968980208\", \"sdt_ctx\": \"Chị Lan Hương cần tư vấn y tế, sdt chị là 082106968980208 nhé.\", \"customer_name\": \"Lan Hương\"},\n",
        "    {\"sdt\": \"096772492133\", \"sdt_ctx\": \"A đặt lịch khám giúp em với, sdt a là 096772492133, a tên Minh Tuấn.\", \"customer_name\": \"Minh Tuấn\"},\n",
        "    {\"sdt\": \"03714851458507\", \"sdt_ctx\": \"Sdt 03714851458507 là của chị Ngọc Ánh, chị muốn đặt lịch khám định kỳ.\", \"customer_name\": \"Ngọc Ánh\"},\n",
        "    {\"sdt\": \"098156504665790\", \"sdt_ctx\": \"E ơi, anh Quốc Hưng cần gặp tư vấn viên y tế, sdt a 098156504665790.\", \"customer_name\": \"Quốc Hưng\"},\n",
        "    {\"sdt\": \"0377435622668\", \"sdt_ctx\": \"Chú cần lịch hẹn gấp, sdt chú là 0377435622668, chú tên Thanh Tùng.\", \"customer_name\": \"Thanh Tùng\"},\n",
        "    {\"sdt\": \"09277\", \"sdt_ctx\": \"Sdt của c Hương Giang là 09277, chị cần tư vấn sức khỏe.\", \"customer_name\": \"Hương Giang\"},\n",
        "    {\"sdt\": \"0594058\", \"sdt_ctx\": \"A Hoàng Anh, sdt 0594058, muốn đặt lịch khám sớm.\", \"customer_name\": \"Hoàng Anh\"},\n",
        "    {\"sdt\": \"037510119275838\", \"sdt_ctx\": \"Chị Thảo Vy nhờ đặt lịch khám, sdt chị 037510119275838 nhé.\", \"customer_name\": \"Thảo Vy\"},\n",
        "    {\"sdt\": \"03716977\", \"sdt_ctx\": \"Sdt 03716977, a Minh Đức cần tư vấn y tế gấp.\", \"customer_name\": \"Minh Đức\"},\n",
        "    {\"sdt\": \"07929235871\", \"sdt_ctx\": \"E hỗ trợ chị lịch khám với, c tên Mai Linh, sdt 07929235871.\", \"customer_name\": \"Mai Linh\"},\n",
        "    {\"sdt\": \"0357790\", \"sdt_ctx\": \"Anh cần tư vấn sức khỏe, sdt a là 0357790, a tên Quang Vinh.\", \"customer_name\": \"Quang Vinh\"},\n",
        "    {\"sdt\": \"0881420\", \"sdt_ctx\": \"Sdt của chú Bảo Long là 0881420, chú muốn đặt lịch khám.\", \"customer_name\": \"Bảo Long\"},\n",
        "    {\"sdt\": \"037275402315059\", \"sdt_ctx\": \"Chị Ngọc Mai, sdt 037275402315059, cần lịch hẹn với bác sĩ.\", \"customer_name\": \"Ngọc Mai\"},\n",
        "    {\"sdt\": \"09202890197571\", \"sdt_ctx\": \"A nhờ e đặt lịch khám, sdt a 09202890197571, a là Thành Đạt.\", \"customer_name\": \"Thành Đạt\"},\n",
        "    {\"sdt\": \"09994021752\", \"sdt_ctx\": \"Sdt 09994021752 là của chị Thu Hà, chị cần tư vấn y tế.\", \"customer_name\": \"Thu Hà\"},\n",
        "    {\"sdt\": \"058699194\", \"sdt_ctx\": \"Chú Tấn Phát cần khám định kỳ, sdt chú 058699194.\", \"customer_name\": \"Tấn Phát\"},\n",
        "    {\"sdt\": \"059084\", \"sdt_ctx\": \"Sdt của a Gia Bảo là 059084, anh muốn đặt lịch khám.\", \"customer_name\": \"Gia Bảo\"},\n",
        "    {\"sdt\": \"084523\", \"sdt_ctx\": \"Chị cần tư vấn viên hỗ trợ, sdt c là 084523, c tên Minh Thư.\", \"customer_name\": \"Minh Thư\"},\n",
        "    {\"sdt\": \"0342414141930\", \"sdt_ctx\": \"A Quốc Anh, sdt 0342414141930, cần lịch hẹn khám gấp.\", \"customer_name\": \"Quốc Anh\"},\n",
        "    {\"sdt\": \"098125\", \"sdt_ctx\": \"Sdt 098125, c Hồng Nhung nhờ đặt lịch khám.\", \"customer_name\": \"Hồng Nhung\"},\n",
        "    {\"sdt\": \"039833\", \"sdt_ctx\": \"Chú Hoàng Vũ muốn tư vấn y tế, sdt chú là 039833.\", \"customer_name\": \"Hoàng Vũ\"},\n",
        "    {\"sdt\": \"083078353777868\", \"sdt_ctx\": \"E ơi, chị Bảo Trân cần lịch khám, sdt chị 083078353777868.\", \"customer_name\": \"Bảo Trân\"},\n",
        "    {\"sdt\": \"03434\", \"sdt_ctx\": \"Sdt của a Đức Anh là 03434, anh cần tư vấn sức khỏe.\", \"customer_name\": \"Đức Anh\"},\n",
        "    {\"sdt\": \"0792688\", \"sdt_ctx\": \"Chị muốn đặt lịch khám, sdt c là 0792688, c tên Thùy Trang.\", \"customer_name\": \"Thùy Trang\"},\n",
        "    {\"sdt\": \"03574\", \"sdt_ctx\": \"A nhờ e hỗ trợ lịch khám, sdt a 03574, a là Minh Khang.\", \"customer_name\": \"Minh Khang\"},\n",
        "    {\"sdt\": \"076330591227\", \"sdt_ctx\": \"Sdt 076330591227, chú Văn Hùng cần gặp bác sĩ.\", \"customer_name\": \"Văn Hùng\"},\n",
        "    {\"sdt\": \"0374628722649\", \"sdt_ctx\": \"Chị Ngọc Diệp, sdt 0374628722649, muốn tư vấn y tế.\", \"customer_name\": \"Ngọc Diệp\"},\n",
        "    {\"sdt\": \"032321376931845\", \"sdt_ctx\": \"A đặt lịch khám giúp, sdt a 032321376931845, a tên Thành Công.\", \"customer_name\": \"Thành Công\"},\n",
        "    {\"sdt\": \"056144723\", \"sdt_ctx\": \"Sdt của chị Kim Ngân là 056144723, chị cần lịch hẹn.\", \"customer_name\": \"Kim Ngân\"},\n",
        "    {\"sdt\": \"086808313631\", \"sdt_ctx\": \"Chú cần tư vấn sức khỏe, sdt chú 086808313631, chú là Quang Huy.\", \"customer_name\": \"Quang Huy\"},\n",
        "    {\"sdt\": \"09495\", \"sdt_ctx\": \"Sdt 09495, a Bảo Nam muốn đặt lịch khám.\", \"customer_name\": \"Bảo Nam\"},\n",
        "    {\"sdt\": \"058110\", \"sdt_ctx\": \"Chị Thảo Nguyên nhờ hỗ trợ lịch khám, sdt chị 058110.\", \"customer_name\": \"Thảo Nguyên\"},\n",
        "    {\"sdt\": \"088461773024144\", \"sdt_ctx\": \"A Minh Trí, sdt 088461773024144, cần gặp tư vấn viên.\", \"customer_name\": \"Minh Trí\"},\n",
        "    {\"sdt\": \"0940628375045\", \"sdt_ctx\": \"Sdt của chị Linh Chi là 0940628375045, chị muốn khám định kỳ.\", \"customer_name\": \"Linh Chi\"},\n",
        "    {\"sdt\": \"0781472\", \"sdt_ctx\": \"Chú Tấn Lộc cần lịch hẹn, sdt chú 0781472.\", \"customer_name\": \"Tấn Lộc\"},\n",
        "    {\"sdt\": \"0391475484478\", \"sdt_ctx\": \"E ơi, chị Thanh Huyền cần tư vấn, sdt chị 0391475484478.\", \"customer_name\": \"Thanh Huyền\"},\n",
        "    {\"sdt\": \"039917270105488\", \"sdt_ctx\": \"A đặt lịch khám, sdt a 039917270105488, a tên Gia Hưng.\", \"customer_name\": \"Gia Hưng\"},\n",
        "    {\"sdt\": \"083450\", \"sdt_ctx\": \"Sdt 083450 là của chị Ngọc Lan, chị cần tư vấn y tế.\", \"customer_name\": \"Ngọc Lan\"},\n",
        "    {\"sdt\": \"09922870342766\", \"sdt_ctx\": \"Chú Minh Quang, sdt 09922870342766, muốn đặt lịch khám.\", \"customer_name\": \"Minh Quang\"},\n",
        "    {\"sdt\": \"03922297374433\", \"sdt_ctx\": \"Sdt của a Thành An là 03922297374433, anh cần lịch hẹn.\", \"customer_name\": \"Thành An\"},\n",
        "    {\"sdt\": \"09226536689740\", \"sdt_ctx\": \"Chị muốn tư vấn sức khỏe, sdt c 09226536689740, c tên Mai Anh.\", \"customer_name\": \"Mai Anh\"},\n",
        "    {\"sdt\": \"05917654908\", \"sdt_ctx\": \"A Bảo Anh, sdt 05917654908, nhờ đặt lịch khám.\", \"customer_name\": \"Bảo Anh\"},\n",
        "    {\"sdt\": \"09708197357\", \"sdt_ctx\": \"Sdt 09708197357, chị Thùy Linh cần gặp bác sĩ.\", \"customer_name\": \"Thùy Linh\"},\n",
        "    {\"sdt\": \"059851\", \"sdt_ctx\": \"Chú Văn Thành muốn tư vấn y tế, sdt chú 059851.\", \"customer_name\": \"Văn Thành\"},\n",
        "    {\"sdt\": \"059543287390890\", \"sdt_ctx\": \"E hỗ trợ a lịch khám với, sdt a 059543287390890, a là Quốc Bảo.\", \"customer_name\": \"Quốc Bảo\"},\n",
        "    {\"sdt\": \"0704944375192\", \"sdt_ctx\": \"Sdt của chị Hồng Ngọc là 0704944375192, chị cần lịch khám.\", \"customer_name\": \"Hồng Ngọc\"},\n",
        "    {\"sdt\": \"092299\", \"sdt_ctx\": \"A Minh Hoàng, sdt 092299, muốn tư vấn sức khỏe.\", \"customer_name\": \"Minh Hoàng\"},\n",
        "    {\"sdt\": \"07958636\", \"sdt_ctx\": \"Chị cần đặt lịch khám, sdt c 07958636, c tên Thanh Thảo.\", \"customer_name\": \"Thanh Thảo\"},\n",
        "    {\"sdt\": \"0981272\", \"sdt_ctx\": \"Sdt 0981272 là của chú Tấn Tài, chú cần gặp tư vấn viên.\", \"customer_name\": \"Tấn Tài\"},\n",
        "    {\"sdt\": \"089029281\", \"sdt_ctx\": \"A nhờ e hỗ trợ lịch khám, sdt a 089029281, a là Gia Huy.\", \"customer_name\": \"Gia Huy\"},\n",
        "    {\"sdt\": \"0786282808766\", \"sdt_ctx\": \"Chị Minh Anh, sdt 0786282808766, cần tư vấn y tế gấp.\", \"customer_name\": \"Minh Anh\"},\n",
        "    {\"sdt\": \"091456259917\", \"sdt_ctx\": \"Sdt của a Quang Minh là 091456259917, anh muốn đặt lịch.\", \"customer_name\": \"Quang Minh\"},\n",
        "    {\"sdt\": \"09939740121614\", \"sdt_ctx\": \"Chú cần lịch hẹn khám, sdt chú 09939740121614, chú tên Văn Dũng.\", \"customer_name\": \"Văn Dũng\"},\n",
        "    {\"sdt\": \"097561511577067\", \"sdt_ctx\": \"E ơi, chị Ngọc Trâm cần tư vấn, sdt chị 097561511577067.\", \"customer_name\": \"Ngọc Trâm\"},\n",
        "    {\"sdt\": \"0886016\", \"sdt_ctx\": \"Sdt 0886016, a Thành Nhân muốn khám định kỳ.\", \"customer_name\": \"Thành Nhân\"},\n",
        "    {\"sdt\": \"05822621415431\", \"sdt_ctx\": \"Chị Bảo Linh, sdt 05822621415431, nhờ đặt lịch khám.\", \"customer_name\": \"Bảo Linh\"},\n",
        "    {\"sdt\": \"056653\", \"sdt_ctx\": \"A Quốc Huy cần tư vấn y tế, sdt a 056653.\", \"customer_name\": \"Quốc Huy\"},\n",
        "    {\"sdt\": \"092215261\", \"sdt_ctx\": \"Sdt của chị Thùy An là 092215261, chị cần lịch hẹn.\", \"customer_name\": \"Thùy An\"},\n",
        "    {\"sdt\": \"0924820809170\", \"sdt_ctx\": \"Chú Minh Tuấn, sdt 0924820809170, muốn gặp bác sĩ.\", \"customer_name\": \"Minh Tuấn\"},\n",
        "    {\"sdt\": \"081989\", \"sdt_ctx\": \"Sdt 081989, a Gia Khang nhờ hỗ trợ lịch khám.\", \"customer_name\": \"Gia Khang\"},\n",
        "    {\"sdt\": \"098373264876890\", \"sdt_ctx\": \"Chị cần tư vấn sức khỏe, sdt c 098373264876890, c tên Hồng Nhung.\", \"customer_name\": \"Hồng Nhung\"},\n",
        "    {\"sdt\": \"03449097078\", \"sdt_ctx\": \"A đặt lịch khám, sdt a 03449097078, a là Thành Đạt.\", \"customer_name\": \"Thành Đạt\"},\n",
        "    {\"sdt\": \"0333613631674\", \"sdt_ctx\": \"Sdt của chú Văn Hùng là 0333613631674, chú cần tư vấn y tế.\", \"customer_name\": \"Văn Hùng\"},\n",
        "    {\"sdt\": \"09816649085\", \"sdt_ctx\": \"Chị Thảo Linh, sdt 09816649085, muốn đặt lịch khám.\", \"customer_name\": \"Thảo Linh\"},\n",
        "    {\"sdt\": \"0797413\", \"sdt_ctx\": \"A Minh Đức nhờ e hỗ trợ, sdt a 0797413.\", \"customer_name\": \"Minh Đức\"},\n",
        "    {\"sdt\": \"08247\", \"sdt_ctx\": \"Sdt 08247, chị Ngọc Ánh cần lịch hẹn gấp.\", \"customer_name\": \"Ngọc Ánh\"},\n",
        "    {\"sdt\": \"058558718\", \"sdt_ctx\": \"Chú Tấn Phát, sdt 058558718, muốn tư vấn sức khỏe.\", \"customer_name\": \"Tấn Phát\"},\n",
        "    {\"sdt\": \"037907\", \"sdt_ctx\": \"Sdt của a Quốc Anh là 037907, anh cần gặp bác sĩ.\", \"customer_name\": \"Quốc Anh\"},\n",
        "    {\"sdt\": \"08456487051727\", \"sdt_ctx\": \"Chị Minh Thư, sdt 08456487051727, nhờ đặt lịch khám.\", \"customer_name\": \"Minh Thư\"},\n",
        "    {\"sdt\": \"033770067479\", \"sdt_ctx\": \"A nhờ e tư vấn y tế, sdt a 033770067479, a là Gia Bảo.\", \"customer_name\": \"Gia Bảo\"},\n",
        "    {\"sdt\": \"0932637807648\", \"sdt_ctx\": \"Sdt 0932637807648, chị Thanh Huyền cần lịch khám.\", \"customer_name\": \"Thanh Huyền\"},\n",
        "    {\"sdt\": \"08133\", \"sdt_ctx\": \"Chú Văn Thành muốn đặt lịch, sdt chú 08133.\", \"customer_name\": \"Văn Thành\"},\n",
        "    {\"sdt\": \"0943456074615\", \"sdt_ctx\": \"Chị cần tư vấn viên hỗ trợ, sdt c 0943456074615, c tên Thùy Trang.\", \"customer_name\": \"Thùy Trang\"},\n",
        "    {\"sdt\": \"0997970270800\", \"sdt_ctx\": \"A Minh Khang, sdt 0997970270800, cần lịch hẹn khám.\", \"customer_name\": \"Minh Khang\"},\n",
        "    {\"sdt\": \"05829349\", \"sdt_ctx\": \"Sdt của chị Linh Chi là 05829349, chị muốn khám định kỳ.\", \"customer_name\": \"Linh Chi\"},\n",
        "    {\"sdt\": \"08891\", \"sdt_ctx\": \"Chú Tấn Lộc cần tư vấn y tế, sdt chú 08891.\", \"customer_name\": \"Tấn Lộc\"},\n",
        "    {\"sdt\": \"085296990\", \"sdt_ctx\": \"Sdt 085296990, a Thành An nhờ hỗ trợ lịch khám.\", \"customer_name\": \"Thành An\"},\n",
        "    {\"sdt\": \"08533\", \"sdt_ctx\": \"Chị Bảo Trân muốn đặt lịch, sdt chị 08533.\", \"customer_name\": \"Bảo Trân\"},\n",
        "    {\"sdt\": \"08865389\", \"sdt_ctx\": \"A Quốc Bảo, sdt 08865389, cần gặp tư vấn viên.\", \"customer_name\": \"Quốc Bảo\"},\n",
        "    {\"sdt\": \"036811\", \"sdt_ctx\": \"Sdt của chị Hồng Ngọc là 036811, chị cần lịch khám.\", \"customer_name\": \"Hồng Ngọc\"},\n",
        "    {\"sdt\": \"034337753\", \"sdt_ctx\": \"Chú Minh Quang nhờ e hỗ trợ, sdt chú 034337753.\", \"customer_name\": \"Minh Quang\"},\n",
        "    {\"sdt\": \"0320811677217\", \"sdt_ctx\": \"Chị Thùy An, sdt 0320811677217, muốn tư vấn sức khỏe.\", \"customer_name\": \"Thùy An\"},\n",
        "    {\"sdt\": \"078309\", \"sdt_ctx\": \"Sdt 078309, a Gia Huy cần lịch hẹn gấp.\", \"customer_name\": \"Gia Huy\"},\n",
        "    {\"sdt\": \"07773\", \"sdt_ctx\": \"Chị Minh Anh muốn khám định kỳ, sdt chị 07773.\", \"customer_name\": \"Minh Anh\"},\n",
        "    {\"sdt\": \"0324629740243\", \"sdt_ctx\": \"A Quang Minh, sdt 0324629740243, nhờ đặt lịch khám.\", \"customer_name\": \"Quang Minh\"},\n",
        "    {\"sdt\": \"035475523\", \"sdt_ctx\": \"Sdt của chú Văn Dũng là 035475523, chú cần tư vấn y tế.\", \"customer_name\": \"Văn Dũng\"},\n",
        "    {\"sdt\": \"09627935\", \"sdt_ctx\": \"Chị Ngọc Trâm, sdt 09627935, muốn đặt lịch khám.\", \"customer_name\": \"Ngọc Trâm\"},\n",
        "    {\"sdt\": \"09871\", \"sdt_ctx\": \"Sdt 09871, a Thành Nhân cần gặp bác sĩ.\", \"customer_name\": \"Thành Nhân\"},\n",
        "    {\"sdt\": \"08982836082074\", \"sdt_ctx\": \"Chị Bảo Linh nhờ hỗ trợ lịch khám, sdt chị 08982836082074.\", \"customer_name\": \"Bảo Linh\"},\n",
        "    {\"sdt\": \"05611344924\", \"sdt_ctx\": \"A Quốc Huy, sdt 05611344924, cần tư vấn sức khỏe.\", \"customer_name\": \"Quốc Huy\"},\n",
        "    {\"sdt\": \"03542103\", \"sdt_ctx\": \"Sdt của chị Thùy An là 03542103, chị muốn lịch hẹn.\", \"customer_name\": \"Thùy An\"},\n",
        "    {\"sdt\": \"081806100044401\", \"sdt_ctx\": \"Chú Minh Tuấn, sdt 081806100044401, cần gặp tư vấn viên.\", \"customer_name\": \"Minh Tuấn\"},\n",
        "    {\"sdt\": \"056732177513\", \"sdt_ctx\": \"Chị Thảo Linh nhờ e hỗ trợ, sdt chị 056732177513.\", \"customer_name\": \"Thảo Linh\"},\n",
        "    {\"sdt\": \"03780\", \"sdt_ctx\": \"Sdt 03780, a Gia Khang muốn khám định kỳ.\", \"customer_name\": \"Gia Khang\"},\n",
        "    {\"sdt\": \"09760411436\", \"sdt_ctx\": \"Chị Hồng Nhung, sdt 09760411436, cần lịch khám gấp.\", \"customer_name\": \"Hồng Nhung\"},\n",
        "    {\"sdt\": \"05658\", \"sdt_ctx\": \"A Thành Đạt muốn tư vấn y tế, sdt a 05658.\", \"customer_name\": \"Thành Đạt\"},\n",
        "    {\"sdt\": \"03740086290\", \"sdt_ctx\": \"Sdt của chú Văn Hùng là 03740086290, chú cần lịch hẹn.\", \"customer_name\": \"Văn Hùng\"},\n",
        "    {\"sdt\": \"096206949860647\", \"sdt_ctx\": \"Chị Thanh Huyền, sdt 096206949860647, muốn đặt lịch khám.\", \"customer_name\": \"Thanh Huyền\"},\n",
        "    {\"sdt\": \"035309456\", \"sdt_ctx\": \"A Minh Đức, sdt 035309456, nhờ hỗ trợ lịch khám.\", \"customer_name\": \"Minh Đức\"},\n",
        "    {\"sdt\": \"08967508210749\", \"sdt_ctx\": \"Sdt 08967508210749, chị Ngọc Ánh cần tư vấn sức khỏe.\", \"customer_name\": \"Ngọc Ánh\"},\n",
        "    {\"sdt\": \"070971\", \"sdt_ctx\": \"Chị Ngọc Lan cần tư vấn y tế, sdt chị là 070971 nhé.\", \"customer_name\": \"Ngọc Lan\"},\n",
        "    {\"sdt\": \"03699997575854\", \"sdt_ctx\": \"A đặt lịch khám giúp em với, sdt a 03699997575854, a tên Minh Tuấn.\", \"customer_name\": \"Minh Tuấn\"},\n",
        "    {\"sdt\": \"079385125737833\", \"sdt_ctx\": \"Sdt 079385125737833 là của chị Thảo Vy, chị muốn đặt lịch khám.\", \"customer_name\": \"Thảo Vy\"},\n",
        "    {\"sdt\": \"0845840413907\", \"sdt_ctx\": \"E ơi, anh Quốc Hưng cần gặp tư vấn viên, sdt a 0845840413907.\", \"customer_name\": \"Quốc Hưng\"},\n",
        "    {\"sdt\": \"08655527703095\", \"sdt_ctx\": \"Chú cần lịch hẹn gấp, sdt chú 08655527703095, chú tên Thanh Tùng.\", \"customer_name\": \"Thanh Tùng\"},\n",
        "    {\"sdt\": \"089403507\", \"sdt_ctx\": \"Sdt của c Hương Giang là 089403507, chị cần tư vấn sức khỏe.\", \"customer_name\": \"Hương Giang\"},\n",
        "    {\"sdt\": \"085896\", \"sdt_ctx\": \"A Hoàng Anh, sdt 085896, muốn đặt lịch khám sớm.\", \"customer_name\": \"Hoàng Anh\"},\n",
        "    {\"sdt\": \"070760125398\", \"sdt_ctx\": \"Chị Minh Thư nhờ đặt lịch khám, sdt chị 070760125398 nhé.\", \"customer_name\": \"Minh Thư\"},\n",
        "    {\"sdt\": \"089965197\", \"sdt_ctx\": \"Sdt 089965197, a Minh Đức cần tư vấn y tế gấp.\", \"customer_name\": \"Minh Đức\"},\n",
        "    {\"sdt\": \"088768202082\", \"sdt_ctx\": \"E hỗ trợ chị lịch khám với, c tên Mai Linh, sdt 088768202082.\", \"customer_name\": \"Mai Linh\"},\n",
        "    {\"sdt\": \"0377758894127\", \"sdt_ctx\": \"Anh cần tư vấn sức khỏe, sdt a là 0377758894127, a tên Quang Vinh.\", \"customer_name\": \"Quang Vinh\"},\n",
        "    {\"sdt\": \"03588789\", \"sdt_ctx\": \"Sdt của chú Bảo Long là 03588789, chú muốn đặt lịch khám.\", \"customer_name\": \"Bảo Long\"},\n",
        "    {\"sdt\": \"03847913903342\", \"sdt_ctx\": \"Chị Ngọc Mai, sdt 03847913903342, cần lịch hẹn với bác sĩ.\", \"customer_name\": \"Ngọc Mai\"},\n",
        "    {\"sdt\": \"09092761689518\", \"sdt_ctx\": \"A nhờ e đặt lịch khám, sdt a 09092761689518, a là Thành Đạt.\", \"customer_name\": \"Thành Đạt\"},\n",
        "    {\"sdt\": \"03709243\", \"sdt_ctx\": \"Sdt 03709243 là của chị Thu Hà, chị cần tư vấn y tế.\", \"customer_name\": \"Thu Hà\"},\n",
        "    {\"sdt\": \"08420575\", \"sdt_ctx\": \"Chú Tấn Phát cần khám định kỳ, sdt chú 08420575.\", \"customer_name\": \"Tấn Phát\"},\n",
        "    {\"sdt\": \"07926571\", \"sdt_ctx\": \"Sdt của a Gia Bảo là 07926571, anh muốn đặt lịch khám.\", \"customer_name\": \"Gia Bảo\"},\n",
        "    {\"sdt\": \"09101414\", \"sdt_ctx\": \"Chị cần tư vấn viên hỗ trợ, sdt c là 09101414, c tên Thùy Trang.\", \"customer_name\": \"Thùy Trang\"},\n",
        "    {\"sdt\": \"03665881\", \"sdt_ctx\": \"A Quốc Anh, sdt 03665881, cần lịch hẹn khám gấp.\", \"customer_name\": \"Quốc Anh\"},\n",
        "    {\"sdt\": \"084070017429\", \"sdt_ctx\": \"Sdt 084070017429, c Hồng Nhung nhờ đặt lịch khám.\", \"customer_name\": \"Hồng Nhung\"},\n",
        "    {\"sdt\": \"08146266\", \"sdt_ctx\": \"Chú Hoàng Vũ muốn tư vấn y tế, sdt chú là 08146266.\", \"customer_name\": \"Hoàng Vũ\"},\n",
        "    {\"sdt\": \"081135\", \"sdt_ctx\": \"E ơi, chị Bảo Trân cần lịch khám, sdt chị 081135.\", \"customer_name\": \"Bảo Trân\"},\n",
        "    {\"sdt\": \"093934\", \"sdt_ctx\": \"Sdt của a Đức Anh là 093934, anh cần tư vấn sức khỏe.\", \"customer_name\": \"Đức Anh\"},\n",
        "    {\"sdt\": \"08995\", \"sdt_ctx\": \"Chị muốn đặt lịch khám, sdt c là 08995, c tên Minh Anh.\", \"customer_name\": \"Minh Anh\"},\n",
        "    {\"sdt\": \"0363707\", \"sdt_ctx\": \"A nhờ e hỗ trợ lịch khám, sdt a 0363707, a là Minh Khang.\", \"customer_name\": \"Minh Khang\"},\n",
        "    {\"sdt\": \"070299143\", \"sdt_ctx\": \"Sdt 070299143, chú Văn Hùng cần gặp bác sĩ.\", \"customer_name\": \"Văn Hùng\"},\n",
        "    {\"sdt\": \"09737792865\", \"sdt_ctx\": \"Chị Ngọc Diệp, sdt 09737792865, muốn tư vấn y tế.\", \"customer_name\": \"Ngọc Diệp\"},\n",
        "    {\"sdt\": \"07941956\", \"sdt_ctx\": \"A đặt lịch khám giúp, sdt a 07941956, a tên Thành Công.\", \"customer_name\": \"Thành Công\"},\n",
        "    {\"sdt\": \"0762865\", \"sdt_ctx\": \"Sdt của chị Kim Ngân là 0762865, chị cần lịch hẹn.\", \"customer_name\": \"Kim Ngân\"},\n",
        "    {\"sdt\": \"08695900\", \"sdt_ctx\": \"Chú cần tư vấn sức khỏe, sdt chú 08695900, chú là Quang Huy.\", \"customer_name\": \"Quang Huy\"},\n",
        "    {\"sdt\": \"0768401312965\", \"sdt_ctx\": \"Sdt 0768401312965, a Bảo Nam muốn đặt lịch khám.\", \"customer_name\": \"Bảo Nam\"},\n",
        "    {\"sdt\": \"05832988647748\", \"sdt_ctx\": \"Chị Thảo Nguyên nhờ hỗ trợ lịch khám, sdt chị 05832988647748.\", \"customer_name\": \"Thảo Nguyên\"},\n",
        "    {\"sdt\": \"0973496\", \"sdt_ctx\": \"A Minh Trí, sdt 0973496, cần gặp tư vấn viên.\", \"customer_name\": \"Minh Trí\"},\n",
        "    {\"sdt\": \"070132138\", \"sdt_ctx\": \"Sdt của chị Linh Chi là 070132138, chị muốn khám định kỳ.\", \"customer_name\": \"Linh Chi\"},\n",
        "    {\"sdt\": \"03253011429\", \"sdt_ctx\": \"Chú Tấn Lộc cần lịch hẹn, sdt chú 03253011429.\", \"customer_name\": \"Tấn Lộc\"},\n",
        "    {\"sdt\": \"076797629\", \"sdt_ctx\": \"E ơi, chị Thanh Huyền cần tư vấn, sdt chị 076797629.\", \"customer_name\": \"Thanh Huyền\"},\n",
        "    {\"sdt\": \"09622\", \"sdt_ctx\": \"Sdt 09622 là của a Gia Hưng, anh cần tư vấn y tế.\", \"customer_name\": \"Gia Hưng\"},\n",
        "    {\"sdt\": \"0921527230384\", \"sdt_ctx\": \"Chú Minh Quang, sdt 0921527230384, muốn đặt lịch khám.\", \"customer_name\": \"Minh Quang\"},\n",
        "    {\"sdt\": \"09029\", \"sdt_ctx\": \"Sdt của a Thành An là 09029, anh cần lịch hẹn.\", \"customer_name\": \"Thành An\"},\n",
        "    {\"sdt\": \"084704733\", \"sdt_ctx\": \"Chị muốn tư vấn sức khỏe, sdt c 084704733, c tên Mai Anh.\", \"customer_name\": \"Mai Anh\"},\n",
        "    {\"sdt\": \"0331508962706\", \"sdt_ctx\": \"A Bảo Anh, sdt 0331508962706, nhờ đặt lịch khám.\", \"customer_name\": \"Bảo Anh\"},\n",
        "    {\"sdt\": \"03495298711\", \"sdt_ctx\": \"Sdt 03495298711, chị Thùy Linh cần gặp bác sĩ.\", \"customer_name\": \"Thùy Linh\"},\n",
        "    {\"sdt\": \"05956871193332\", \"sdt_ctx\": \"Chú Văn Thành muốn tư vấn y tế, sdt chú 05956871193332.\", \"customer_name\": \"Văn Thành\"},\n",
        "    {\"sdt\": \"098111949236526\", \"sdt_ctx\": \"E hỗ trợ a lịch khám với, sdt a 098111949236526, a là Quốc Bảo.\", \"customer_name\": \"Quốc Bảo\"},\n",
        "    {\"sdt\": \"093284100251\", \"sdt_ctx\": \"Sdt của chị Hồng Ngọc là 093284100251, chị cần lịch khám.\", \"customer_name\": \"Hồng Ngọc\"},\n",
        "    {\"sdt\": \"05691222695\", \"sdt_ctx\": \"A Minh Hoàng, sdt 05691222695, muốn tư vấn sức khỏe.\", \"customer_name\": \"Minh Hoàng\"},\n",
        "    {\"sdt\": \"09680384945840\", \"sdt_ctx\": \"Chị cần đặt lịch khám, sdt c 09680384945840, c tên Thanh Thảo.\", \"customer_name\": \"Thanh Thảo\"},\n",
        "    {\"sdt\": \"092919639\", \"sdt_ctx\": \"Sdt 092919639 là của chú Tấn Tài, chú cần gặp tư vấn viên.\", \"customer_name\": \"Tấn Tài\"},\n",
        "    {\"sdt\": \"099587\", \"sdt_ctx\": \"A nhờ e hỗ trợ lịch khám, sdt a 099587, a là Gia Huy.\", \"customer_name\": \"Gia Huy\"},\n",
        "    {\"sdt\": \"03929840239\", \"sdt_ctx\": \"Chị Minh Anh, sdt 03929840239, cần tư vấn y tế gấp.\", \"customer_name\": \"Minh Anh\"},\n",
        "    {\"sdt\": \"08807\", \"sdt_ctx\": \"Sdt của a Quang Minh là 08807, anh muốn đặt lịch.\", \"customer_name\": \"Quang Minh\"},\n",
        "    {\"sdt\": \"05955462861902\", \"sdt_ctx\": \"Chú cần lịch hẹn khám, sdt chú 05955462861902, chú tên Văn Dũng.\", \"customer_name\": \"Văn Dũng\"},\n",
        "    {\"sdt\": \"03986150692033\", \"sdt_ctx\": \"E ơi, chị Ngọc Trâm cần tư vấn, sdt chị 03986150692033.\", \"customer_name\": \"Ngọc Trâm\"},\n",
        "    {\"sdt\": \"091841532\", \"sdt_ctx\": \"Sdt 091841532, a Thành Nhân muốn khám định kỳ.\", \"customer_name\": \"Thành Nhân\"},\n",
        "    {\"sdt\": \"085711701681364\", \"sdt_ctx\": \"Chị Bảo Linh, sdt 085711701681364, nhờ đặt lịch khám.\", \"customer_name\": \"Bảo Linh\"},\n",
        "    {\"sdt\": \"078024314787092\", \"sdt_ctx\": \"A Quốc Huy cần tư vấn y tế, sdt a 078024314787092.\", \"customer_name\": \"Quốc Huy\"},\n",
        "    {\"sdt\": \"099349\", \"sdt_ctx\": \"Sdt của chị Thùy An là 099349, chị cần lịch hẹn.\", \"customer_name\": \"Thùy An\"},\n",
        "    {\"sdt\": \"09776209074639\", \"sdt_ctx\": \"Chú Minh Tuấn, sdt 09776209074639, muốn gặp bác sĩ.\", \"customer_name\": \"Minh Tuấn\"},\n",
        "    {\"sdt\": \"0337978636204\", \"sdt_ctx\": \"Chị Thảo Linh nhờ e hỗ trợ, sdt chị 0337978636204.\", \"customer_name\": \"Thảo Linh\"},\n",
        "    {\"sdt\": \"077181532463405\", \"sdt_ctx\": \"Sdt 077181532463405, a Gia Khang muốn khám định kỳ.\", \"customer_name\": \"Gia Khang\"},\n",
        "    {\"sdt\": \"099419266\", \"sdt_ctx\": \"Chị Hồng Nhung, sdt 099419266, cần lịch khám gấp.\", \"customer_name\": \"Hồng Nhung\"},\n",
        "    {\"sdt\": \"089647609\", \"sdt_ctx\": \"A Thành Đạt muốn tư vấn y tế, sdt a 089647609.\", \"customer_name\": \"Thành Đạt\"},\n",
        "    {\"sdt\": \"03621\", \"sdt_ctx\": \"Sdt của chú Văn Hùng là 03621, chú cần lịch hẹn.\", \"customer_name\": \"Văn Hùng\"},\n",
        "    {\"sdt\": \"08504\", \"sdt_ctx\": \"Chị Thanh Huyền, sdt 08504, muốn đặt lịch khám.\", \"customer_name\": \"Thanh Huyền\"},\n",
        "    {\"sdt\": \"07892820161792\", \"sdt_ctx\": \"A Minh Đức, sdt 07892820161792, nhờ hỗ trợ lịch khám.\", \"customer_name\": \"Minh Đức\"},\n",
        "    {\"sdt\": \"082320713\", \"sdt_ctx\": \"Sdt 082320713, chị Ngọc Ánh cần tư vấn sức khỏe.\", \"customer_name\": \"Ngọc Ánh\"},\n",
        "    {\"sdt\": \"090063542\", \"sdt_ctx\": \"Chú Tấn Phát, sdt 090063542, muốn tư vấn sức khỏe.\", \"customer_name\": \"Tấn Phát\"},\n",
        "    {\"sdt\": \"08872\", \"sdt_ctx\": \"Sdt của a Quốc Anh là 08872, anh cần gặp bác sĩ.\", \"customer_name\": \"Quốc Anh\"},\n",
        "    {\"sdt\": \"077895989340597\", \"sdt_ctx\": \"Chị Minh Thư, sdt 077895989340597, nhờ đặt lịch khám.\", \"customer_name\": \"Minh Thư\"},\n",
        "    {\"sdt\": \"089096385704576\", \"sdt_ctx\": \"A nhờ e tư vấn y tế, sdt a 089096385704576, a là Gia Bảo.\", \"customer_name\": \"Gia Bảo\"},\n",
        "    {\"sdt\": \"085097357606\", \"sdt_ctx\": \"Sdt 085097357606, chị Thanh Huyền cần lịch khám.\", \"customer_name\": \"Thanh Huyền\"},\n",
        "    {\"sdt\": \"056706\", \"sdt_ctx\": \"Chú Văn Thành muốn đặt lịch, sdt chú 056706.\", \"customer_name\": \"Văn Thành\"},\n",
        "    {\"sdt\": \"0900989504018\", \"sdt_ctx\": \"Chị cần tư vấn viên hỗ trợ, sdt c 0900989504018, c tên Thùy Trang.\", \"customer_name\": \"Thùy Trang\"},\n",
        "    {\"sdt\": \"09282590604\", \"sdt_ctx\": \"A Minh Khang, sdt 09282590604, cần lịch hẹn khám.\", \"customer_name\": \"Minh Khang\"},\n",
        "    {\"sdt\": \"09407\", \"sdt_ctx\": \"Sdt của chị Linh Chi là 09407, chị muốn khám định kỳ.\", \"customer_name\": \"Linh Chi\"},\n",
        "    {\"sdt\": \"08247\", \"sdt_ctx\": \"Chú Tấn Lộc cần tư vấn y tế, sdt chú 08247.\", \"customer_name\": \"Tấn Lộc\"},\n",
        "    {\"sdt\": \"086972260\", \"sdt_ctx\": \"Sdt 086972260, a Thành An nhờ hỗ trợ lịch khám.\", \"customer_name\": \"Thành An\"},\n",
        "    {\"sdt\": \"09748050701045\", \"sdt_ctx\": \"Chị Bảo Trân muốn đặt lịch, sdt chị 09748050701045.\", \"customer_name\": \"Bảo Trân\"},\n",
        "    {\"sdt\": \"090975\", \"sdt_ctx\": \"A Quốc Bảo, sdt 090975, cần gặp tư vấn viên.\", \"customer_name\": \"Quốc Bảo\"},\n",
        "    {\"sdt\": \"03749242\", \"sdt_ctx\": \"Sdt của chị Hồng Ngọc là 03749242, chị cần lịch khám.\", \"customer_name\": \"Hồng Ngọc\"},\n",
        "    {\"sdt\": \"09474\", \"sdt_ctx\": \"Chú Minh Quang nhờ e hỗ trợ, sdt chú 09474.\", \"customer_name\": \"Minh Quang\"},\n",
        "    {\"sdt\": \"08360769\", \"sdt_ctx\": \"Chị Thùy An, sdt 08360769, muốn tư vấn sức khỏe.\", \"customer_name\": \"Thùy An\"},\n",
        "    {\"sdt\": \"09600262723688\", \"sdt_ctx\": \"Sdt 09600262723688, a Gia Huy cần lịch hẹn gấp.\", \"customer_name\": \"Gia Huy\"},\n",
        "    {\"sdt\": \"038499\", \"sdt_ctx\": \"Chị Minh Anh muốn khám định kỳ, sdt chị 038499.\", \"customer_name\": \"Minh Anh\"},\n",
        "    {\"sdt\": \"0987374389721\", \"sdt_ctx\": \"A Quang Minh, sdt 0987374389721, nhờ đặt lịch khám.\", \"customer_name\": \"Quang Minh\"},\n",
        "    {\"sdt\": \"0387293354876\", \"sdt_ctx\": \"Sdt của chú Văn Dũng là 0387293354876, chú cần tư vấn y tế.\", \"customer_name\": \"Văn Dũng\"},\n",
        "    {\"sdt\": \"0833077\", \"sdt_ctx\": \"Chị Ngọc Trâm, sdt 0833077, muốn đặt lịch khám.\", \"customer_name\": \"Ngọc Trâm\"},\n",
        "    {\"sdt\": \"08892471601562\", \"sdt_ctx\": \"Chị Bảo Linh nhờ hỗ trợ lịch khám, sdt chị 08892471601562.\", \"customer_name\": \"Bảo Linh\"},\n",
        "    {\"sdt\": \"09976268\", \"sdt_ctx\": \"A Quốc Huy, sdt 09976268, cần tư vấn sức khỏe.\", \"customer_name\": \"Quốc Huy\"},\n",
        "    {\"sdt\": \"03841647\", \"sdt_ctx\": \"Sdt của chị Thùy An là 03841647, chị cần lịch hẹn.\", \"customer_name\": \"Thùy An\"},\n",
        "    {\"sdt\": \"09394\", \"sdt_ctx\": \"Chú Minh Tuấn, sdt 09394, muốn gặp bác sĩ.\", \"customer_name\": \"Minh Tuấn\"},\n",
        "    {\"sdt\": \"05832\", \"sdt_ctx\": \"Sdt 05832, a Gia Khang nhờ hỗ trợ lịch khám.\", \"customer_name\": \"Gia Khang\"},\n",
        "    {\"sdt\": \"07017392277\", \"sdt_ctx\": \"Chị Hồng Nhung, sdt 07017392277, cần lịch khám gấp.\", \"customer_name\": \"Hồng Nhung\"},\n",
        "    {\"sdt\": \"0705722\", \"sdt_ctx\": \"A Thành Đạt muốn tư vấn y tế, sdt a 0705722.\", \"customer_name\": \"Thành Đạt\"},\n",
        "    {\"sdt\": \"05612844973\", \"sdt_ctx\": \"Sdt của chú Văn Hùng là 05612844973, chú cần lịch hẹn.\", \"customer_name\": \"Văn Hùng\"},\n",
        "    {\"sdt\": \"091093733655986\", \"sdt_ctx\": \"Chị Thanh Huyền, sdt 091093733655986, muốn đặt lịch khám.\", \"customer_name\": \"Thanh Huyền\"},\n",
        "    {\"sdt\": \"03927\", \"sdt_ctx\": \"Sdt 03927, a Minh Đức cần tư vấn sức khỏe.\", \"customer_name\": \"Minh Đức\"},\n",
        "    {\"sdt\": \"077921\", \"sdt_ctx\": \"Chị Ngọc Ánh muốn khám định kỳ, sdt chị 077921.\", \"customer_name\": \"Ngọc Ánh\"},\n",
        "    {\"sdt\": \"0336040\", \"sdt_ctx\": \"A Quốc Anh, sdt 0336040, nhờ đặt lịch khám.\", \"customer_name\": \"Quốc Anh\"},\n",
        "    {\"sdt\": \"081465840666\", \"sdt_ctx\": \"Sdt của chị Minh Thư là 081465840666, chị cần tư vấn y tế.\", \"customer_name\": \"Minh Thư\"},\n",
        "    {\"sdt\": \"03263361276\", \"sdt_ctx\": \"Số điện thoại chị Linh là 03263361276 nhé\", \"customer_name\": \"Linh\"},\n",
        "    {\"sdt\": \"084680528412\", \"sdt_ctx\": \"Em ơi, chị Hương đặt lịch khám, số điện thoại 084680528412\", \"customer_name\": \"Hương\"},\n",
        "    {\"sdt\": \"0867532\", \"sdt_ctx\": \"Số điện thoại anh Tùng là 0867532\", \"customer_name\": \"Tùng\"},\n",
        "    {\"sdt\": \"0784287138250\", \"sdt_ctx\": \"0784287138250, tôi cần khám gấp\", \"customer_name\": \"Nam\"},\n",
        "    {\"sdt\": \"08386030\", \"sdt_ctx\": \"Chú Minh cần lịch khám, số điện thoại 08386030\", \"customer_name\": \"Minh\"},\n",
        "    {\"sdt\": \"094624543249435\", \"sdt_ctx\": \"Chị Thảo đặt lịch khám, số điện thoại chị 094624543249435\", \"customer_name\": \"Thảo\"},\n",
        "    {\"sdt\": \"07605801166812\", \"sdt_ctx\": \"Số điện thoại 07605801166812, anh Huy cần tư vấn\", \"customer_name\": \"Huy\"},\n",
        "    {\"sdt\": \"0819616104986\", \"sdt_ctx\": \"Anh Long, số điện thoại 0819616104986, đặt lịch khám\", \"customer_name\": \"Long\"},\n",
        "    {\"sdt\": \"086440\", \"sdt_ctx\": \"086440 là số điện thoại chị Mai\", \"customer_name\": \"Mai\"},\n",
        "    {\"sdt\": \"036144653\", \"sdt_ctx\": \"Chị Ngọc cần khám, số điện thoại 036144653\", \"customer_name\": \"Ngọc\"},\n",
        "    {\"sdt\": \"08831290747624\", \"sdt_ctx\": \"Số điện thoại anh Phong 08831290747624 nhé\", \"customer_name\": \"Phong\"},\n",
        "    {\"sdt\": \"091769543\", \"sdt_ctx\": \"Em ơi, anh Đức đặt lịch, số điện thoại 091769543\", \"customer_name\": \"Đức\"},\n",
        "    {\"sdt\": \"0796613969949\", \"sdt_ctx\": \"0796613969949, chị Lan cần tư vấn\", \"customer_name\": \"Lan\"},\n",
        "    {\"sdt\": \"098179\", \"sdt_ctx\": \"Số điện thoại chú Tuấn là 098179\", \"customer_name\": \"Tuấn\"},\n",
        "    {\"sdt\": \"093237409249939\", \"sdt_ctx\": \"Chị Hà đặt lịch, số điện thoại 093237409249939\", \"customer_name\": \"Hà\"},\n",
        "    {\"sdt\": \"05649\", \"sdt_ctx\": \"05649, anh Kiên cần khám\", \"customer_name\": \"Kiên\"},\n",
        "    {\"sdt\": \"0916066008487\", \"sdt_ctx\": \"Số điện thoại chị Vy là 0916066008487\", \"customer_name\": \"Vy\"},\n",
        "    {\"sdt\": \"088236729\", \"sdt_ctx\": \"Anh Bảo đặt lịch, số điện thoại 088236729\", \"customer_name\": \"Bảo\"},\n",
        "    {\"sdt\": \"07866122\", \"sdt_ctx\": \"07866122 là số điện thoại chú Hùng\", \"customer_name\": \"Hùng\"},\n",
        "    {\"sdt\": \"08509\", \"sdt_ctx\": \"Chị Linh cần tư vấn, số điện thoại 08509\", \"customer_name\": \"Linh\"},\n",
        "    {\"sdt\": \"076480243020469\", \"sdt_ctx\": \"Số điện thoại 076480243020469, anh Tín đặt lịch\", \"customer_name\": \"Tín\"},\n",
        "    {\"sdt\": \"05678853037472\", \"sdt_ctx\": \"Chị Trâm cần khám, số điện thoại 05678853037472\", \"customer_name\": \"Trâm\"},\n",
        "    {\"sdt\": \"0837338\", \"sdt_ctx\": \"Số điện thoại anh Khoa là 0837338\", \"customer_name\": \"Khoa\"},\n",
        "    {\"sdt\": \"08402605288\", \"sdt_ctx\": \"08402605288, chị Nhi đặt lịch\", \"customer_name\": \"Nhi\"},\n",
        "    {\"sdt\": \"08450\", \"sdt_ctx\": \"Chú Vinh cần tư vấn, số điện thoại 08450\", \"customer_name\": \"Vinh\"},\n",
        "    {\"sdt\": \"07781431464723\", \"sdt_ctx\": \"Số điện thoại chị Duyên 07781431464723 nhé\", \"customer_name\": \"Duyên\"},\n",
        "    {\"sdt\": \"0908737248202\", \"sdt_ctx\": \"Anh Nam đặt lịch, số điện thoại 0908737248202\", \"customer_name\": \"Nam\"},\n",
        "    {\"sdt\": \"0962353645174\", \"sdt_ctx\": \"Số điện thoại 0962353645174, chị My cần khám\", \"customer_name\": \"My\"},\n",
        "    {\"sdt\": \"03832618475\", \"sdt_ctx\": \"Chị Ánh cần tư vấn, số điện thoại 03832618475\", \"customer_name\": \"Ánh\"},\n",
        "    {\"sdt\": \"0979851092608\", \"sdt_ctx\": \"Số điện thoại anh Tuấn 0979851092608\", \"customer_name\": \"Tuấn\"},\n",
        "    {\"sdt\": \"03933210\", \"sdt_ctx\": \"03933210, chú Long cần lịch\", \"customer_name\": \"Long\"},\n",
        "    {\"sdt\": \"079039050307957\", \"sdt_ctx\": \"Chị Hân đặt lịch, số điện thoại 079039050307957\", \"customer_name\": \"Hân\"},\n",
        "    {\"sdt\": \"032175505692\", \"sdt_ctx\": \"Số điện thoại chị Phương là 032175505692\", \"customer_name\": \"Phương\"},\n",
        "    {\"sdt\": \"039703448381\", \"sdt_ctx\": \"Anh Khang cần khám, số điện thoại 039703448381\", \"customer_name\": \"Khang\"},\n",
        "    {\"sdt\": \"0942107\", \"sdt_ctx\": \"0942107, chị Nhung đặt lịch\", \"customer_name\": \"Nhung\"},\n",
        "    {\"sdt\": \"090714977361884\", \"sdt_ctx\": \"Số điện thoại chú Tài 090714977361884 nhé\", \"customer_name\": \"Tài\"},\n",
        "    {\"sdt\": \"03855659\", \"sdt_ctx\": \"Chị Thư cần tư vấn, số điện thoại 03855659\", \"customer_name\": \"Thư\"},\n",
        "    {\"sdt\": \"03782558726054\", \"sdt_ctx\": \"Số điện thoại 03782558726054, anh Hậu đặt lịch\", \"customer_name\": \"Hậu\"},\n",
        "    {\"sdt\": \"097026924354\", \"sdt_ctx\": \"Anh Tâm đặt lịch, số điện thoại 097026924354\", \"customer_name\": \"Tâm\"},\n",
        "    {\"sdt\": \"056200074349\", \"sdt_ctx\": \"Số điện thoại chị Quỳnh là 056200074349\", \"customer_name\": \"Quỳnh\"},\n",
        "    {\"sdt\": \"0843515972049\", \"sdt_ctx\": \"0843515972049, chú Dũng cần khám\", \"customer_name\": \"Dũng\"},\n",
        "    {\"sdt\": \"037062\", \"sdt_ctx\": \"Anh Vinh cần tư vấn, số điện thoại 037062\", \"customer_name\": \"Vinh\"},\n",
        "    {\"sdt\": \"078012052083\", \"sdt_ctx\": \"Số điện thoại 078012052083, chị Loan đặt lịch\", \"customer_name\": \"Loan\"},\n",
        "    {\"sdt\": \"093745044\", \"sdt_ctx\": \"Chị Hằng đặt lịch, số điện thoại 093745044\", \"customer_name\": \"Hằng\"},\n",
        "    {\"sdt\": \"0886678\", \"sdt_ctx\": \"Số điện thoại anh Phúc là 0886678\", \"customer_name\": \"Phúc\"},\n",
        "    {\"sdt\": \"082517173515229\", \"sdt_ctx\": \"082517173515229, chị Trinh cần tư vấn\", \"customer_name\": \"Trinh\"},\n",
        "    {\"sdt\": \"084342577594049\", \"sdt_ctx\": \"Anh Quang đặt lịch, số điện thoại 084342577594049\", \"customer_name\": \"Quang\"},\n",
        "    {\"sdt\": \"088616519763908\", \"sdt_ctx\": \"Số điện thoại chú Hưng 088616519763908\", \"customer_name\": \"Hưng\"},\n",
        "    {\"sdt\": \"098424\", \"sdt_ctx\": \"098424, chị Yến cần khám\", \"customer_name\": \"Yến\"},\n",
        "    {\"sdt\": \"038261415\", \"sdt_ctx\": \"Số điện thoại anh Thái là 038261415\", \"customer_name\": \"Thái\"},\n",
        "    {\"sdt\": \"0580841657242\", \"sdt_ctx\": \"Chị Vân cần tư vấn, số điện thoại 0580841657242\", \"customer_name\": \"Vân\"},\n",
        "    {\"sdt\": \"099440247050150\", \"sdt_ctx\": \"Số điện thoại 099440247050150, anh Đạt đặt lịch\", \"customer_name\": \"Đạt\"},\n",
        "    {\"sdt\": \"09445\", \"sdt_ctx\": \"09445, chú Hòa cần lịch\", \"customer_name\": \"Hòa\"},\n",
        "    {\"sdt\": \"081130978937\", \"sdt_ctx\": \"Chị Mai đặt lịch, số điện thoại 081130978937\", \"customer_name\": \"Mai\"},\n",
        "    {\"sdt\": \"09680554999261\", \"sdt_ctx\": \"Số điện thoại chị Nhí là 09680554999261\", \"customer_name\": \"Nhí\"},\n",
        "    {\"sdt\": \"09267772180432\", \"sdt_ctx\": \"Anh Khôi cần khám, số điện thoại 09267772180432\", \"customer_name\": \"Khôi\"},\n",
        "    {\"sdt\": \"08263645\", \"sdt_ctx\": \"08263645, chị Oanh đặt lịch\", \"customer_name\": \"Oanh\"},\n",
        "    {\"sdt\": \"0705343359674\", \"sdt_ctx\": \"Số điện thoại chú Tín 0705343359674\", \"customer_name\": \"Tín\"},\n",
        "    {\"sdt\": \"094878665\", \"sdt_ctx\": \"Anh Sơn cần tư vấn, số điện thoại 094878665\", \"customer_name\": \"Sơn\"},\n",
        "    {\"sdt\": \"05837\", \"sdt_ctx\": \"Số điện thoại chị Huyền là 05837\", \"customer_name\": \"Huyền\"},\n",
        "    {\"sdt\": \"07079701\", \"sdt_ctx\": \"07079701, anh Nguyên đặt lịch\", \"customer_name\": \"Nguyên\"},\n",
        "    {\"sdt\": \"0865760\", \"sdt_ctx\": \"Chị Ngân cần khám, số điện thoại 0865760\", \"customer_name\": \"Ngân\"},\n",
        "    {\"sdt\": \"08172958921\", \"sdt_ctx\": \"Số điện thoại 08172958921, chú Lộc cần tư vấn\", \"customer_name\": \"Lộc\"},\n",
        "    {\"sdt\": \"0395870\", \"sdt_ctx\": \"Anh Kha đặt lịch, số điện thoại 0395870\", \"customer_name\": \"Kha\"},\n",
        "    {\"sdt\": \"098105246648\", \"sdt_ctx\": \"Số điện thoại chị Tâm 098105246648 nhé\", \"customer_name\": \"Tâm\"},\n",
        "    {\"sdt\": \"058371090\", \"sdt_ctx\": \"058371090, anh Minh cần khám\", \"customer_name\": \"Minh\"},\n",
        "    {\"sdt\": \"056049582870\", \"sdt_ctx\": \"Chị Linh đặt lịch, số điện thoại 056049582870\", \"customer_name\": \"Linh\"},\n",
        "    {\"sdt\": \"07740477\", \"sdt_ctx\": \"Số điện thoại chú Hào là 07740477\", \"customer_name\": \"Hào\"},\n",
        "    {\"sdt\": \"084237226148689\", \"sdt_ctx\": \"Anh Duy cần tư vấn, số điện thoại 084237226148689\", \"customer_name\": \"Duy\"},\n",
        "    {\"sdt\": \"08490\", \"sdt_ctx\": \"08490, chị Nhàn cần lịch\", \"customer_name\": \"Nhàn\"},\n",
        "    {\"sdt\": \"091828544\", \"sdt_ctx\": \"Số điện thoại anh Hiếu 091828544\", \"customer_name\": \"Hiếu\"},\n",
        "    {\"sdt\": \"078630299711\", \"sdt_ctx\": \"Chị Thảo cần khám, số điện thoại 078630299711\", \"customer_name\": \"Thảo\"},\n",
        "    {\"sdt\": \"089673853874\", \"sdt_ctx\": \"Số điện thoại 089673853874, chú Vinh đặt lịch\", \"customer_name\": \"Vinh\"},\n",
        "    {\"sdt\": \"096806\", \"sdt_ctx\": \"096806 là số điện thoại chị Hương\", \"customer_name\": \"Hương\"},\n",
        "    {\"sdt\": \"05919405\", \"sdt_ctx\": \"Anh Tùng cần tư vấn, số điện thoại 05919405\", \"customer_name\": \"Tùng\"},\n",
        "    {\"sdt\": \"07902\", \"sdt_ctx\": \"07902, chị Lan đặt lịch\", \"customer_name\": \"Lan\"},\n",
        "    {\"sdt\": \"088619049332\", \"sdt_ctx\": \"Số điện thoại anh Nam 088619049332 nhé\", \"customer_name\": \"Nam\"},\n",
        "    {\"sdt\": \"058899137537764\", \"sdt_ctx\": \"Chị Vy cần khám, số điện thoại 058899137537764\", \"customer_name\": \"Vy\"},\n",
        "    {\"sdt\": \"032921\", \"sdt_ctx\": \"Số điện thoại chú Tuấn là 032921\", \"customer_name\": \"Tuấn\"},\n",
        "    {\"sdt\": \"0787238\", \"sdt_ctx\": \"0787238, anh Đức cần tư vấn\", \"customer_name\": \"Đức\"},\n",
        "    {\"sdt\": \"082728529575637\", \"sdt_ctx\": \"Chị Hà đặt lịch, số điện thoại 082728529575637\", \"customer_name\": \"Hà\"},\n",
        "    {\"sdt\": \"07604319626317\", \"sdt_ctx\": \"Số điện thoại 07604319626317, anh Kiên cần khám\", \"customer_name\": \"Kiên\"},\n",
        "    {\"sdt\": \"096812193414683\", \"sdt_ctx\": \"Anh Bảo đặt lịch, số điện thoại 096812193414683\", \"customer_name\": \"Bảo\"},\n",
        "    {\"sdt\": \"058668672267236\", \"sdt_ctx\": \"Số điện thoại chị My 058668672267236\", \"customer_name\": \"My\"},\n",
        "    {\"sdt\": \"058310167557016\", \"sdt_ctx\": \"058310167557016, chú Hùng cần tư vấn\", \"customer_name\": \"Hùng\"},\n",
        "    {\"sdt\": \"08305928717\", \"sdt_ctx\": \"Chị Ánh cần lịch, số điện thoại 08305928717\", \"customer_name\": \"Ánh\"},\n",
        "    {\"sdt\": \"03305566485398\", \"sdt_ctx\": \"Số điện thoại anh Tuấn 03305566485398 nhé\", \"customer_name\": \"Tuấn\"},\n",
        "    {\"sdt\": \"0850066\", \"sdt_ctx\": \"Anh Long cần khám, số điện thoại 0850066\", \"customer_name\": \"Long\"},\n",
        "    {\"sdt\": \"078018915844067\", \"sdt_ctx\": \"Số điện thoại 078018915844067, chị Hân đặt lịch\", \"customer_name\": \"Hân\"},\n",
        "    {\"sdt\": \"03904197111\", \"sdt_ctx\": \"Chị Phương đặt lịch, số điện thoại 03904197111\", \"customer_name\": \"Phương\"},\n",
        "    {\"sdt\": \"07615031\", \"sdt_ctx\": \"Số điện thoại chú Tài là 07615031\", \"customer_name\": \"Tài\"},\n",
        "    {\"sdt\": \"0939776\", \"sdt_ctx\": \"0939776, anh Khang cần tư vấn\", \"customer_name\": \"Khang\"},\n",
        "    {\"sdt\": \"03403647032\", \"sdt_ctx\": \"Chị Nhung cần khám, số điện thoại 03403647032\", \"customer_name\": \"Nhung\"},\n",
        "    {\"sdt\": \"058646374\", \"sdt_ctx\": \"Số điện thoại anh Hậu 058646374\", \"customer_name\": \"Hậu\"},\n",
        "    {\"sdt\": \"059700\", \"sdt_ctx\": \"059700, chị Thư đặt lịch\", \"customer_name\": \"Thư\"},\n",
        "    {\"sdt\": \"092946\", \"sdt_ctx\": \"Anh Tâm cần tư vấn, số điện thoại 092946\", \"customer_name\": \"Tâm\"},\n",
        "    {\"sdt\": \"08492749\", \"sdt_ctx\": \"Số điện thoại chị Quỳnh 08492749 nhé\", \"customer_name\": \"Quỳnh\"},\n",
        "    {\"sdt\": \"059820051369081\", \"sdt_ctx\": \"Chị Loan đặt lịch, số điện thoại 059820051369081\", \"customer_name\": \"Loan\"},\n",
        "    {\"sdt\": \"079294\", \"sdt_ctx\": \"079294, anh Quang cần khám\", \"customer_name\": \"Quang\"},\n",
        "    {\"sdt\": \"07742\", \"sdt_ctx\": \"Số điện thoại chú Dũng là 07742\", \"customer_name\": \"Dũng\"},\n",
        "    {\"sdt\": \"03263361276\", \"sdt_ctx\": \"Sdt c Linh là 03263361276 nhé\", \"customer_name\": \"Linh\"},\n",
        "    {\"sdt\": \"084680528412\", \"sdt_ctx\": \"E ơi, c Hương đặt lịch khám, sdt 084680528412\", \"customer_name\": \"Hương\"},\n",
        "    {\"sdt\": \"0867532\", \"sdt_ctx\": \"Sdt a Tùng là 0867532\", \"customer_name\": \"Tùng\"},\n",
        "    {\"sdt\": \"0784287138250\", \"sdt_ctx\": \"0784287138250, t cần khám gấp\", \"customer_name\": \"Nam\"},\n",
        "    {\"sdt\": \"08386030\", \"sdt_ctx\": \"Chú Minh cần lịch khám, sdt 08386030\", \"customer_name\": \"Minh\"},\n",
        "    {\"sdt\": \"094624543249435\", \"sdt_ctx\": \"C Thảo book lịch khám, sdt c 094624543249435\", \"customer_name\": \"Thảo\"},\n",
        "    {\"sdt\": \"07605801166812\", \"sdt_ctx\": \"Sdt 07605801166812, a Huy cần tư vấn\", \"customer_name\": \"Huy\"},\n",
        "    {\"sdt\": \"0819616104986\", \"sdt_ctx\": \"A Long, sdt 0819616104986, đặt lịch khám\", \"customer_name\": \"Long\"},\n",
        "    {\"sdt\": \"086440\", \"sdt_ctx\": \"086440 là sdt c Mai\", \"customer_name\": \"Mai\"},\n",
        "    {\"sdt\": \"036144653\", \"sdt_ctx\": \"C Ngọc cần khám, sdt 036144653\", \"customer_name\": \"Ngọc\"},\n",
        "    {\"sdt\": \"08831290747624\", \"sdt_ctx\": \"Sdt a Phong 08831290747624 nhé\", \"customer_name\": \"Phong\"},\n",
        "    {\"sdt\": \"091769543\", \"sdt_ctx\": \"E ơi, a Đức đặt lịch, sdt 091769543\", \"customer_name\": \"Đức\"},\n",
        "    {\"sdt\": \"0796613969949\", \"sdt_ctx\": \"0796613969949, c Lan cần tư vấn\", \"customer_name\": \"Lan\"},\n",
        "    {\"sdt\": \"098179\", \"sdt_ctx\": \"Sdt chú Tuấn là 098179\", \"customer_name\": \"Tuấn\"},\n",
        "    {\"sdt\": \"093237409249939\", \"sdt_ctx\": \"C Hà book lịch, sdt 093237409249939\", \"customer_name\": \"Hà\"},\n",
        "    {\"sdt\": \"05649\", \"sdt_ctx\": \"05649, a Kiên cần khám\", \"customer_name\": \"Kiên\"},\n",
        "    {\"sdt\": \"0916066008487\", \"sdt_ctx\": \"Sdt c Vy là 0916066008487\", \"customer_name\": \"Vy\"},\n",
        "    {\"sdt\": \"088236729\", \"sdt_ctx\": \"A Bảo đặt lịch, sdt 088236729\", \"customer_name\": \"Bảo\"},\n",
        "    {\"sdt\": \"07866122\", \"sdt_ctx\": \"07866122 là sdt chú Hùng\", \"customer_name\": \"Hùng\"},\n",
        "    {\"sdt\": \"08509\", \"sdt_ctx\": \"C Linh cần tư vấn, sdt 08509\", \"customer_name\": \"Linh\"},\n",
        "    {\"sdt\": \"076480243020469\", \"sdt_ctx\": \"Sdt 076480243020469, a Tín book lịch\", \"customer_name\": \"Tín\"},\n",
        "    {\"sdt\": \"05678853037472\", \"sdt_ctx\": \"C Trâm cần khám, sdt 05678853037472\", \"customer_name\": \"Trâm\"},\n",
        "    {\"sdt\": \"0837338\", \"sdt_ctx\": \"Sdt a Khoa là 0837338\", \"customer_name\": \"Khoa\"},\n",
        "    {\"sdt\": \"08402605288\", \"sdt_ctx\": \"08402605288, c Nhi đặt lịch\", \"customer_name\": \"Nhi\"},\n",
        "    {\"sdt\": \"08450\", \"sdt_ctx\": \"Chú Vinh cần tư vấn, sdt 08450\", \"customer_name\": \"Vinh\"},\n",
        "    {\"sdt\": \"07781431464723\", \"sdt_ctx\": \"Sdt c Duyên 07781431464723 nhé\", \"customer_name\": \"Duyên\"},\n",
        "    {\"sdt\": \"0908737248202\", \"sdt_ctx\": \"A Nam book lịch, sdt 0908737248202\", \"customer_name\": \"Nam\"},\n",
        "    {\"sdt\": \"0962353645174\", \"sdt_ctx\": \"Sdt 0962353645174, c My cần khám\", \"customer_name\": \"My\"},\n",
        "    {\"sdt\": \"03832618475\", \"sdt_ctx\": \"C Ánh cần tư vấn, sdt 03832618475\", \"customer_name\": \"Ánh\"},\n",
        "    {\"sdt\": \"0979851092608\", \"sdt_ctx\": \"Sdt a Tuấn 0979851092608\", \"customer_name\": \"Tuấn\"},\n",
        "    {\"sdt\": \"03933210\", \"sdt_ctx\": \"03933210, chú Long cần lịch\", \"customer_name\": \"Long\"},\n",
        "    {\"sdt\": \"079039050307957\", \"sdt_ctx\": \"C Hân đặt lịch, sdt 079039050307957\", \"customer_name\": \"Hân\"},\n",
        "    {\"sdt\": \"032175505692\", \"sdt_ctx\": \"Sdt c Phương là 032175505692\", \"customer_name\": \"Phương\"},\n",
        "    {\"sdt\": \"039703448381\", \"sdt_ctx\": \"A Khang cần khám, sdt 039703448381\", \"customer_name\": \"Khang\"},\n",
        "    {\"sdt\": \"0942107\", \"sdt_ctx\": \"0942107, c Nhung book lịch\", \"customer_name\": \"Nhung\"},\n",
        "    {\"sdt\": \"090714977361884\", \"sdt_ctx\": \"Sdt chú Tài 090714977361884 nhé\", \"customer_name\": \"Tài\"},\n",
        "    {\"sdt\": \"03855659\", \"sdt_ctx\": \"C Thư cần tư vấn, sdt 03855659\", \"customer_name\": \"Thư\"},\n",
        "    {\"sdt\": \"03782558726054\", \"sdt_ctx\": \"Sdt 03782558726054, a Hậu đặt lịch\", \"customer_name\": \"Hậu\"},\n",
        "    {\"sdt\": \"097026924354\", \"sdt_ctx\": \"A Tâm book lịch, sdt 097026924354\", \"customer_name\": \"Tâm\"},\n",
        "    {\"sdt\": \"056200074349\", \"sdt_ctx\": \"Sdt c Quỳnh là 056200074349\", \"customer_name\": \"Quỳnh\"},\n",
        "    {\"sdt\": \"0843515972049\", \"sdt_ctx\": \"0843515972049, chú Dũng cần khám\", \"customer_name\": \"Dũng\"},\n",
        "    {\"sdt\": \"037062\", \"sdt_ctx\": \"A Vinh cần tư vấn, sdt 037062\", \"customer_name\": \"Vinh\"},\n",
        "    {\"sdt\": \"078012052083\", \"sdt_ctx\": \"Sdt 078012052083, c Loan book lịch\", \"customer_name\": \"Loan\"},\n",
        "    {\"sdt\": \"093745044\", \"sdt_ctx\": \"C Hằng đặt lịch, sdt 093745044\", \"customer_name\": \"Hằng\"},\n",
        "    {\"sdt\": \"0886678\", \"sdt_ctx\": \"Sdt a Phúc là 0886678\", \"customer_name\": \"Phúc\"},\n",
        "    {\"sdt\": \"082517173515229\", \"sdt_ctx\": \"082517173515229, c Trinh cần tư vấn\", \"customer_name\": \"Trinh\"},\n",
        "    {\"sdt\": \"084342577594049\", \"sdt_ctx\": \"A Quang book lịch, sdt 084342577594049\", \"customer_name\": \"Quang\"},\n",
        "    {\"sdt\": \"088616519763908\", \"sdt_ctx\": \"Sdt chú Hưng 088616519763908\", \"customer_name\": \"Hưng\"},\n",
        "    {\"sdt\": \"098424\", \"sdt_ctx\": \"098424, c Yến cần khám\", \"customer_name\": \"Yến\"},\n",
        "    {\"sdt\": \"038261415\", \"sdt_ctx\": \"Sdt a Thái là 038261415\", \"customer_name\": \"Thái\"},\n",
        "    {\"sdt\": \"0580841657242\", \"sdt_ctx\": \"C Vân cần tư vấn, sdt 0580841657242\", \"customer_name\": \"Vân\"},\n",
        "    {\"sdt\": \"099440247050150\", \"sdt_ctx\": \"Sdt 099440247050150, a Đạt book lịch\", \"customer_name\": \"Đạt\"},\n",
        "    {\"sdt\": \"09445\", \"sdt_ctx\": \"09445, chú Hòa cần lịch\", \"customer_name\": \"Hòa\"},\n",
        "    {\"sdt\": \"081130978937\", \"sdt_ctx\": \"C Mai đặt lịch, sdt 081130978937\", \"customer_name\": \"Mai\"},\n",
        "    {\"sdt\": \"09680554999261\", \"sdt_ctx\": \"Sdt c Nhí là 09680554999261\", \"customer_name\": \"Nhí\"},\n",
        "    {\"sdt\": \"09267772180432\", \"sdt_ctx\": \"A Khôi cần khám, sdt 09267772180432\", \"customer_name\": \"Khôi\"},\n",
        "    {\"sdt\": \"08263645\", \"sdt_ctx\": \"08263645, c Oanh book lịch\", \"customer_name\": \"Oanh\"},\n",
        "    {\"sdt\": \"0705343359674\", \"sdt_ctx\": \"Sdt chú Tín 0705343359674\", \"customer_name\": \"Tín\"},\n",
        "    {\"sdt\": \"094878665\", \"sdt_ctx\": \"A Sơn cần tư vấn, sdt 094878665\", \"customer_name\": \"Sơn\"},\n",
        "    {\"sdt\": \"05837\", \"sdt_ctx\": \"Sdt c Huyền là 05837\", \"customer_name\": \"Huyền\"},\n",
        "    {\"sdt\": \"07079701\", \"sdt_ctx\": \"07079701, a Nguyên book lịch\", \"customer_name\": \"Nguyên\"},\n",
        "    {\"sdt\": \"0865760\", \"sdt_ctx\": \"C Ngân cần khám, sdt 0865760\", \"customer_name\": \"Ngân\"},\n",
        "    {\"sdt\": \"08172958921\", \"sdt_ctx\": \"Sdt 08172958921, chú Lộc cần tư vấn\", \"customer_name\": \"Lộc\"},\n",
        "    {\"sdt\": \"0395870\", \"sdt_ctx\": \"A Kha đặt lịch, sdt 0395870\", \"customer_name\": \"Kha\"},\n",
        "    {\"sdt\": \"098105246648\", \"sdt_ctx\": \"Sdt c Tâm 098105246648 nhé\", \"customer_name\": \"Tâm\"},\n",
        "    {\"sdt\": \"058371090\", \"sdt_ctx\": \"058371090, a Minh cần khám\", \"customer_name\": \"Minh\"},\n",
        "    {\"sdt\": \"056049582870\", \"sdt_ctx\": \"C Linh book lịch, sdt 056049582870\", \"customer_name\": \"Linh\"},\n",
        "    {\"sdt\": \"07740477\", \"sdt_ctx\": \"Sdt chú Hào là 07740477\", \"customer_name\": \"Hào\"},\n",
        "    {\"sdt\": \"084237226148689\", \"sdt_ctx\": \"A Duy cần tư vấn, sdt 084237226148689\", \"customer_name\": \"Duy\"},\n",
        "    {\"sdt\": \"08490\", \"sdt_ctx\": \"08490, c Nhàn cần lịch\", \"customer_name\": \"Nhàn\"},\n",
        "    {\"sdt\": \"091828544\", \"sdt_ctx\": \"Sdt a Hiếu 091828544\", \"customer_name\": \"Hiếu\"},\n",
        "    {\"sdt\": \"078630299711\", \"sdt_ctx\": \"C Thảo cần khám, sdt 078630299711\", \"customer_name\": \"Thảo\"},\n",
        "    {\"sdt\": \"089673853874\", \"sdt_ctx\": \"Sdt 089673853874, chú Vinh book lịch\", \"customer_name\": \"Vinh\"},\n",
        "    {\"sdt\": \"096806\", \"sdt_ctx\": \"096806 là sdt c Hương\", \"customer_name\": \"Hương\"},\n",
        "    {\"sdt\": \"05919405\", \"sdt_ctx\": \"A Tùng cần tư vấn, sdt 05919405\", \"customer_name\": \"Tùng\"},\n",
        "    {\"sdt\": \"07902\", \"sdt_ctx\": \"07902, c Lan đặt lịch\", \"customer_name\": \"Lan\"},\n",
        "    {\"sdt\": \"088619049332\", \"sdt_ctx\": \"Sdt a Nam 088619049332 nhé\", \"customer_name\": \"Nam\"},\n",
        "    {\"sdt\": \"058899137537764\", \"sdt_ctx\": \"C Vy cần khám, sdt 058899137537764\", \"customer_name\": \"Vy\"},\n",
        "    {\"sdt\": \"032921\", \"sdt_ctx\": \"Sdt chú Tuấn là 032921\", \"customer_name\": \"Tuấn\"},\n",
        "    {\"sdt\": \"0787238\", \"sdt_ctx\": \"0787238, a Đức cần tư vấn\", \"customer_name\": \"Đức\"},\n",
        "    {\"sdt\": \"082728529575637\", \"sdt_ctx\": \"C Hà book lịch, sdt 082728529575637\", \"customer_name\": \"Hà\"},\n",
        "    {\"sdt\": \"07604319626317\", \"sdt_ctx\": \"Sdt 07604319626317, a Kiên cần khám\", \"customer_name\": \"Kiên\"},\n",
        "    {\"sdt\": \"096812193414683\", \"sdt_ctx\": \"A Bảo đặt lịch, sdt 096812193414683\", \"customer_name\": \"Bảo\"},\n",
        "    {\"sdt\": \"058668672267236\", \"sdt_ctx\": \"Sdt c My 058668672267236\", \"customer_name\": \"My\"},\n",
        "    {\"sdt\": \"058310167557016\", \"sdt_ctx\": \"058310167557016, chú Hùng cần tư vấn\", \"customer_name\": \"Hùng\"},\n",
        "    {\"sdt\": \"08305928717\", \"sdt_ctx\": \"C Ánh cần lịch, sdt 08305928717\", \"customer_name\": \"Ánh\"},\n",
        "    {\"sdt\": \"03305566485398\", \"sdt_ctx\": \"Sdt a Tuấn 03305566485398 nhé\", \"customer_name\": \"Tuấn\"},\n",
        "    {\"sdt\": \"0850066\", \"sdt_ctx\": \"A Long cần khám, sdt 0850066\", \"customer_name\": \"Long\"},\n",
        "    {\"sdt\": \"078018915844067\", \"sdt_ctx\": \"Sdt 078018915844067, c Hân book lịch\", \"customer_name\": \"Hân\"},\n",
        "    {\"sdt\": \"03904197111\", \"sdt_ctx\": \"C Phương đặt lịch, sdt 03904197111\", \"customer_name\": \"Phương\"},\n",
        "    {\"sdt\": \"07615031\", \"sdt_ctx\": \"Sdt chú Tài là 07615031\", \"customer_name\": \"Tài\"},\n",
        "    {\"sdt\": \"0939776\", \"sdt_ctx\": \"0939776, a Khang cần tư vấn\", \"customer_name\": \"Khang\"},\n",
        "    {\"sdt\": \"03403647032\", \"sdt_ctx\": \"C Nhung cần khám, sdt 03403647032\", \"customer_name\": \"Nhung\"},\n",
        "    {\"sdt\": \"058646374\", \"sdt_ctx\": \"Sdt a Hậu 058646374\", \"customer_name\": \"Hậu\"},\n",
        "    {\"sdt\": \"059700\", \"sdt_ctx\": \"059700, c Thư book lịch\", \"customer_name\": \"Thư\"},\n",
        "    {\"sdt\": \"092946\", \"sdt_ctx\": \"A Tâm cần tư vấn, sdt 092946\", \"customer_name\": \"Tâm\"},\n",
        "    {\"sdt\": \"08492749\", \"sdt_ctx\": \"Sdt c Quỳnh 08492749 nhé\", \"customer_name\": \"Quỳnh\"},\n",
        "    {\"sdt\": \"059820051369081\", \"sdt_ctx\": \"C Loan đặt lịch, sdt 059820051369081\", \"customer_name\": \"Loan\"},\n",
        "    {\"sdt\": \"079294\", \"sdt_ctx\": \"079294, a Quang cần khám\", \"customer_name\": \"Quang\"},\n",
        "    {\"sdt\": \"07742\", \"sdt_ctx\": \"Sdt chú Dũng là 07742\", \"customer_name\": \"Dũng\"}\n",
        "]"
      ],
      "metadata": {
        "id": "E1FMw33LM8mJ"
      },
      "execution_count": null,
      "outputs": []
    },
    {
      "cell_type": "markdown",
      "source": [
        "##### incorrect_medical_department"
      ],
      "metadata": {
        "id": "O-SeiflHM0Fe"
      }
    },
    {
      "cell_type": "code",
      "source": [
        "incorrect_medical_department = [{\"sdt\": \"098838119\", \"sdt_ctx\": \"Chị ơi, số chị 098838119, đặt khám mắt giúp\", \"medical_department\": \"mắt\"},\n",
        "    {\"sdt\": \"0947387\", \"sdt_ctx\": \"Số anh 0947387, hỏi lịch bác sĩ nội\", \"medical_department\": \"nội\"},\n",
        "    {\"sdt\": \"077044\", \"sdt_ctx\": \"Chú cần hẹn khám tim, số 077044\", \"medical_department\": \"tim\"},\n",
        "    {\"sdt\": \"0708165913213\", \"sdt_ctx\": \"Số em 0708165913213, bác sĩ răng mai rảnh không?\", \"medical_department\": \"răng\"},\n",
        "    {\"sdt\": \"038312481981204\", \"sdt_ctx\": \"038312481981204, em muốn khám da liễu\", \"medical_department\": \"da liễu\"},\n",
        "    {\"sdt\": \"089667580\", \"sdt_ctx\": \"Anh cần khám tổng quát, số 089667580\", \"medical_department\": \"tổng quát\"},\n",
        "    {\"sdt\": \"089667425\", \"sdt_ctx\": \"Số em 089667425, đặt khám phụ khoa\", \"medical_department\": \"phụ khoa\"},\n",
        "    {\"sdt\": \"0982685574212\", \"sdt_ctx\": \"Số anh 0982685574212, hỏi bác sĩ tai mũi họng\", \"medical_department\": \"tai mũi họng\"},\n",
        "    {\"sdt\": \"0384994403100\", \"sdt_ctx\": \"0384994403100, em cần khám xương khớp\", \"medical_department\": \"xương khớp\"},\n",
        "    {\"sdt\": \"0977043615879\", \"sdt_ctx\": \"Số em 0977043615879, mai khám nhi được không?\", \"medical_department\": \"nhi\"},\n",
        "    {\"sdt\": \"08663261\", \"sdt_ctx\": \"Số anh 08663261, kiểm tra dạ dày nhé\", \"medical_department\": \"dạ dày\"},\n",
        "    {\"sdt\": \"03665165872673\", \"sdt_ctx\": \"Số anh 03665165872673, cần khám phổi\", \"medical_department\": \"phổi\"},\n",
        "    {\"sdt\": \"03233564215888\", \"sdt_ctx\": \"Số em 03233564215888, đặt khám tai\", \"medical_department\": \"tai\"},\n",
        "    {\"sdt\": \"0362170009906\", \"sdt_ctx\": \"Số anh 0362170009906, kiểm tra gan\", \"medical_department\": \"gan\"},\n",
        "    {\"sdt\": \"070326\", \"sdt_ctx\": \"Chú cần khám mắt, số 070326\", \"medical_department\": \"mắt\"},\n",
        "    {\"sdt\": \"056553\", \"sdt_ctx\": \"Số em 056553, cần khám tổng quát\", \"medical_department\": \"tổng quát\"},\n",
        "    {\"sdt\": \"094555\", \"sdt_ctx\": \"Số anh 094555, hỏi lịch bác sĩ răng\", \"medical_department\": \"răng\"},\n",
        "    {\"sdt\": \"08413739561\", \"sdt_ctx\": \"Số chị 08413739561, đặt khám da\", \"medical_department\": \"da\"},\n",
        "    {\"sdt\": \"09333663\", \"sdt_ctx\": \"Số em 09333663, kiểm tra tim nhé\", \"medical_department\": \"tim\"},\n",
        "    {\"sdt\": \"09841459255\", \"sdt_ctx\": \"Số anh 09841459255, cần khám mắt\", \"medical_department\": \"mắt\"},\n",
        "    {\"sdt\": \"05972717556\", \"sdt_ctx\": \"Số anh 05972717556, cần khám răng\", \"medical_department\": \"răng\"},\n",
        "    {\"sdt\": \"081761846\", \"sdt_ctx\": \"Số chị 081761846, đặt khám phụ khoa\", \"medical_department\": \"phụ khoa\"},\n",
        "    {\"sdt\": \"08246756215\", \"sdt_ctx\": \"Số em 08246756215, đặt khám da liễu\", \"medical_department\": \"da liễu\"},\n",
        "    {\"sdt\": \"082505975594\", \"sdt_ctx\": \"Số anh 082505975594, tư vấn xương khớp\", \"medical_department\": \"xương khớp\"},\n",
        "    {\"sdt\": \"03738254279\", \"sdt_ctx\": \"Số em 03738254279, cần khám tai mũi họng\", \"medical_department\": \"tai mũi họng\"},\n",
        "    {\"sdt\": \"03726770\", \"sdt_ctx\": \"Số anh 03726770, kiểm tra phổi\", \"medical_department\": \"phổi\"},\n",
        "    {\"sdt\": \"089220566502\", \"sdt_ctx\": \"Số chị 089220566502, hỏi lịch bác sĩ nội\", \"medical_department\": \"nội\"},\n",
        "    {\"sdt\": \"038295974\", \"sdt_ctx\": \"Số em 038295974, đặt khám da\", \"medical_department\": \"da\"},\n",
        "    {\"sdt\": \"079506\", \"sdt_ctx\": \"Chú cần kiểm tra gan, số 079506\", \"medical_department\": \"gan\"},\n",
        "    {\"sdt\": \"077380726218837\", \"sdt_ctx\": \"Số em 077380726218837, đặt khám nhi\", \"medical_department\": \"nhi\"},\n",
        "    {\"sdt\": \"096383707\", \"sdt_ctx\": \"Số chị 096383707, cần khám tổng quát\", \"medical_department\": \"tổng quát\"},\n",
        "    {\"sdt\": \"0586711\", \"sdt_ctx\": \"Số anh 0586711, hỏi lịch bác sĩ mắt\", \"medical_department\": \"mắt\"},\n",
        "    {\"sdt\": \"089154214873897\", \"sdt_ctx\": \"Số chị 089154214873897, đặt khám phụ khoa\", \"medical_department\": \"phụ khoa\"},\n",
        "    {\"sdt\": \"037688587486\", \"sdt_ctx\": \"Số anh 037688587486, cần khám tim\", \"medical_department\": \"tim\"},\n",
        "    {\"sdt\": \"077744626141751\", \"sdt_ctx\": \"Số em 077744626141751, cần khám răng\", \"medical_department\": \"răng\"},\n",
        "    {\"sdt\": \"0333204767160\", \"sdt_ctx\": \"Số anh 0333204767160, hỏi lịch bác sĩ phổi\", \"medical_department\": \"phổi\"},\n",
        "    {\"sdt\": \"0569094\", \"sdt_ctx\": \"Số chị 0569094, đặt khám da liễu\", \"medical_department\": \"da liễu\"},\n",
        "    {\"sdt\": \"096180783\", \"sdt_ctx\": \"Số em 096180783, cần khám mắt\", \"medical_department\": \"mắt\"},\n",
        "    {\"sdt\": \"0347922\", \"sdt_ctx\": \"Số anh 0347922, kiểm tra gan\", \"medical_department\": \"gan\"},\n",
        "    {\"sdt\": \"089106206\", \"sdt_ctx\": \"Số chị 089106206, đặt khám tổng quát\", \"medical_department\": \"tổng quát\"},\n",
        "    {\"sdt\": \"05803913175\", \"sdt_ctx\": \"Số anh 05803913175, cần khám tai\", \"medical_department\": \"tai\"},\n",
        "    {\"sdt\": \"07719172985\", \"sdt_ctx\": \"Số chị 07719172985, đặt lịch siêu âm\", \"medical_department\": \"\"},\n",
        "    {\"sdt\": \"08605737671698\", \"sdt_ctx\": \"Số em 08605737671698, kiểm tra phổi\", \"medical_department\": \"phổi\"},\n",
        "    {\"sdt\": \"0353884440457\", \"sdt_ctx\": \"Số chị 0353884440457, cần khám phụ khoa\", \"medical_department\": \"phụ khoa\"},\n",
        "    {\"sdt\": \"0595258\", \"sdt_ctx\": \"Số anh 0595258, hỏi lịch bác sĩ răng\", \"medical_department\": \"răng\"},\n",
        "    {\"sdt\": \"09421945566030\", \"sdt_ctx\": \"Số em 09421945566030, đặt khám nhi\", \"medical_department\": \"nhi\"},\n",
        "    {\"sdt\": \"092609163866\", \"sdt_ctx\": \"Số anh 092609163866, cần khám mắt\", \"medical_department\": \"mắt\"},\n",
        "    {\"sdt\": \"0906480337814\", \"sdt_ctx\": \"Số em 0906480337814, kiểm tra tim\", \"medical_department\": \"tim\"},\n",
        "    {\"sdt\": \"09835177\", \"sdt_ctx\": \"Số anh 09835177, cần khám da\", \"medical_department\": \"da\"},\n",
        "    {\"sdt\": \"0895085860512\", \"sdt_ctx\": \"Số chị 0895085860512, đặt khám tổng quát\", \"medical_department\": \"tổng quát\"},\n",
        "    {\"sdt\": \"058410466128\", \"sdt_ctx\": \"Số em 058410466128, hỏi lịch bác sĩ nội\", \"medical_department\": \"nội\"},\n",
        "    {\"sdt\": \"0705118\", \"sdt_ctx\": \"Chú cần kiểm tra gan, số 0705118\", \"medical_department\": \"gan\"},\n",
        "    {\"sdt\": \"08552207\", \"sdt_ctx\": \"Số anh 08552207, cần khám răng\", \"medical_department\": \"răng\"},\n",
        "    {\"sdt\": \"07849174854681\", \"sdt_ctx\": \"Số chị 07849174854681, đặt khám phụ khoa\", \"medical_department\": \"phụ khoa\"},\n",
        "    {\"sdt\": \"09378007227\", \"sdt_ctx\": \"Số anh 09378007227, cần khám phổi\", \"medical_department\": \"phổi\"},\n",
        "    {\"sdt\": \"084315738402893\", \"sdt_ctx\": \"Số em 084315738402893, đặt khám da liễu\", \"medical_department\": \"da liễu\"},\n",
        "    {\"sdt\": \"033729278118\", \"sdt_ctx\": \"Số chị 033729278118, cần khám mắt\", \"medical_department\": \"mắt\"},\n",
        "    {\"sdt\": \"081447981\", \"sdt_ctx\": \"Số anh 081447981, hỏi lịch bác sĩ tai mũi họng\", \"medical_department\": \"tai mũi họng\"},\n",
        "    {\"sdt\": \"08652182319\", \"sdt_ctx\": \"Số em 08652182319, đặt khám nhi\", \"medical_department\": \"nhi\"},\n",
        "    {\"sdt\": \"07662482945779\", \"sdt_ctx\": \"Số chị 07662482945779, đặt lịch siêu âm\", \"medical_department\": \"\"},\n",
        "    {\"sdt\": \"078672580\", \"sdt_ctx\": \"Số anh 078672580, cần khám tim\", \"medical_department\": \"tim\"},\n",
        "    {\"sdt\": \"08931802\", \"sdt_ctx\": \"Số em 08931802, kiểm tra phổi\", \"medical_department\": \"phổi\"},\n",
        "    {\"sdt\": \"08915141038858\", \"sdt_ctx\": \"Số chị 08915141038858, đặt khám tổng quát\", \"medical_department\": \"tổng quát\"},\n",
        "    {\"sdt\": \"0880251816377\", \"sdt_ctx\": \"Số anh 0880251816377, hỏi lịch bác sĩ răng\", \"medical_department\": \"răng\"},\n",
        "    {\"sdt\": \"086156203\", \"sdt_ctx\": \"Số em 086156203, cần khám da\", \"medical_department\": \"da\"},\n",
        "    {\"sdt\": \"032185360085481\", \"sdt_ctx\": \"Số chị 032185360085481, đặt khám phụ khoa\", \"medical_department\": \"phụ khoa\"},\n",
        "    {\"sdt\": \"0886076123718\", \"sdt_ctx\": \"Số anh 0886076123718, cần khám mắt\", \"medical_department\": \"mắt\"},\n",
        "\t{\"sdt\": \"08204382358\", \"sdt_ctx\": \"Chào c, e muốn đặt lịch khám ở khoa nội tiết, c hỗ trợ e với ạ. SĐT: 08204382358\", \"medical_department\": \"nội tiết\"},\n",
        "\t{\"sdt\": \"03445\", \"sdt_ctx\": \"Chào a, e cần đặt lịch khám khoa xương khớp, a giúp e nhé. SĐT: 03445\", \"medical_department\": \"xương khớp\"},\n",
        "\t{\"sdt\": \"0980363\", \"sdt_ctx\": \"Chào c, e muốn đăng ký kiểm tra sức khỏe ở khoa tổng quát, c tư vấn giúp e ạ. SĐT: 0980363\", \"medical_department\": \"tổng quát\"},\n",
        "\t{\"sdt\": \"0370171271438\", \"sdt_ctx\": \"Chào a, e muốn đặt lịch khám khoa mắt cho con, a hỗ trợ e với. SĐT: 0370171271438\", \"medical_department\": \"mắt\"},\n",
        "\t{\"sdt\": \"088779545942\", \"sdt_ctx\": \"Chào c, e cần khám ở khoa tiêu hóa, c hướng dẫn e đặt lịch ạ. SĐT: 088779545942\", \"medical_department\": \"tiêu hóa\"},\n",
        "\t{\"sdt\": \"0324487818177\", \"sdt_ctx\": \"Chào a, e muốn đăng ký khám ở khoa phụ khoa, a tư vấn quy trình nhé. SĐT: 0324487818177\", \"medical_department\": \"phụ khoa\"},\n",
        "\t{\"sdt\": \"082520303226908\", \"sdt_ctx\": \"Chào c, e cần đặt lịch khám khoa tim mạch, c hỗ trợ e ạ. SĐT: 082520303226908\", \"medical_department\": \"tim mạch\"},\n",
        "\t{\"sdt\": \"090627975383039\", \"sdt_ctx\": \"Chào a, e muốn tư vấn về tiêm vắc-xin ở khoa nhi, a hỗ trợ e với. SĐT: 090627975383039\", \"medical_department\": \"nhi\"},\n",
        "\t{\"sdt\": \"077686886536566\", \"sdt_ctx\": \"Chào c, e muốn đặt lịch khám khoa da liễu, c giúp e nhé. SĐT: 077686886536566\", \"medical_department\": \"da liễu\"},\n",
        "\t{\"sdt\": \"096676007486639\", \"sdt_ctx\": \"Chào a, e cần tư vấn khám ở khoa chấn thương chỉnh hình, a hỗ trợ e ạ. SĐT: 096676007486639\", \"medical_department\": \"chấn thương chỉnh hình\"},\n",
        "\t{\"sdt\": \"08547413824278\", \"sdt_ctx\": \"Chào c, e muốn đặt lịch khám khoa răng hàm mặt cho bé, c hướng dẫn e ạ. SĐT: 08547413824278\", \"medical_department\": \"răng hàm mặt\"},\n",
        "\t{\"sdt\": \"098777\", \"sdt_ctx\": \"Chào a, e cần kiểm tra sức khỏe ở khoa nội tổng hợp, a hỗ trợ đặt lịch nhé. SĐT: 098777\", \"medical_department\": \"nội tổng hợp\"},\n",
        "\t{\"sdt\": \"039442\", \"sdt_ctx\": \"Chào c, e muốn tư vấn khám ở khoa tâm thần, c giúp e liên hệ ạ. SĐT: 039442\", \"medical_department\": \"tâm thần\"},\n",
        "\t{\"sdt\": \"037685941149\", \"sdt_ctx\": \"Chào a, e muốn đặt lịch khám khoa hô hấp, a hỗ trợ e với. SĐT: 037685941149\", \"medical_department\": \"hô hấp\"},\n",
        "\t{\"sdt\": \"07862031474111\", \"sdt_ctx\": \"Chào c, e cần đăng ký khám ở khoa tổng quát, c tư vấn giúp e ạ. SĐT: 07862031474111\", \"medical_department\": \"tổng quát\"},\n",
        "\t{\"sdt\": \"0994860\", \"sdt_ctx\": \"Chào a, e muốn đặt lịch khám khoa tai mũi họng, a hướng dẫn e nhé. SĐT: 0994860\", \"medical_department\": \"tai mũi họng\"},\n",
        "\t{\"sdt\": \"08871\", \"sdt_ctx\": \"Chào c, e cần tư vấn về dinh dưỡng ở khoa dinh dưỡng, c hỗ trợ e ạ. SĐT: 08871\", \"medical_department\": \"dinh dưỡng\"},\n",
        "\t{\"sdt\": \"038820424179487\", \"sdt_ctx\": \"Chào a, e muốn khám ở khoa tiết niệu, a giúp e đặt lịch ạ. SĐT: 038820424179487\", \"medical_department\": \"tiết niệu\"},\n",
        "\t{\"sdt\": \"099720\", \"sdt_ctx\": \"Chào c, e cần tư vấn khám ở khoa sản, c hỗ trợ e với ạ. SĐT: 099720\", \"medical_department\": \"sản\"},\n",
        "\t{\"sdt\": \"0360026952459\", \"sdt_ctx\": \"Chào a, e muốn đặt lịch khám khoa thần kinh, a tư vấn giúp e nhé. SĐT: 0360026952459\", \"medical_department\": \"thần kinh\"},\n",
        "\t{\"sdt\": \"089791515850068\", \"sdt_ctx\": \"Chào c, e muốn đặt lịch khám khoa nhi cho con, c hỗ trợ e ạ. SĐT: 089791515850068\", \"medical_department\": \"nhi\"},\n",
        "\t{\"sdt\": \"038010743981\", \"sdt_ctx\": \"Chào a, e cần khám ở khoa nội tiết, a giúp e đặt lịch nhé. SĐT: 038010743981\", \"medical_department\": \"nội tiết\"},\n",
        "\t{\"sdt\": \"058471542\", \"sdt_ctx\": \"Chào c, e muốn đặt lịch khám khoa da liễu, c hỗ trợ e ạ. SĐT: 058471542\", \"medical_department\": \"da liễu\"},\n",
        "\t{\"sdt\": \"09628185363\", \"sdt_ctx\": \"Chào a, e cần khám ở khoa thần kinh, a hướng dẫn e đặt lịch ạ. SĐT: 09628185363\", \"medical_department\": \"thần kinh\"},\n",
        "\t{\"sdt\": \"09687126\", \"sdt_ctx\": \"Chào c, e muốn đăng ký khám ở khoa tổng quát, c tư vấn giúp e nhé. SĐT: 09687126\", \"medical_department\": \"tổng quát\"},\n",
        "\t{\"sdt\": \"08242748611\", \"sdt_ctx\": \"Chào a, e cần đặt lịch khám khoa tim mạch, a hỗ trợ e với ạ. SĐT: 08242748611\", \"medical_department\": \"tim mạch\"},\n",
        "\t{\"sdt\": \"09946\", \"sdt_ctx\": \"Chào c, e muốn khám ở khoa tiêu hóa, c giúp e liên hệ nhé. SĐT: 09946\", \"medical_department\": \"tiêu hóa\"},\n",
        "\t{\"sdt\": \"0926349390638\", \"sdt_ctx\": \"Chào a, e cần đặt lịch khám khoa mắt, a hỗ trợ e ạ. SĐT: 0926349390638\", \"medical_department\": \"mắt\"},\n",
        "\t{\"sdt\": \"094640\", \"sdt_ctx\": \"Chào c, e muốn tư vấn tiêm vắc-xin ở khoa nhi, c hỗ trợ e với ạ. SĐT: 094640\", \"medical_department\": \"nhi\"},\n",
        "\t{\"sdt\": \"03440091\", \"sdt_ctx\": \"Chào a, e muốn đặt lịch khám khoa phụ khoa, a giúp e nhé. SĐT: 03440091\", \"medical_department\": \"phụ khoa\"},\n",
        "\t{\"sdt\": \"090769098202674\", \"sdt_ctx\": \"Chào c, e cần khám ở khoa xương khớp, c hỗ trợ e đặt lịch ạ. SĐT: 090769098202674\", \"medical_department\": \"xương khớp\"},\n",
        "\t{\"sdt\": \"07019\", \"sdt_ctx\": \"Chào a, e muốn tư vấn khám ở khoa tâm thần, a liên hệ giúp e nhé. SĐT: 07019\", \"medical_department\": \"tâm thần\"},\n",
        "\t{\"sdt\": \"09741538\", \"sdt_ctx\": \"Chào c, e cần đặt lịch khám khoa tiêu hóa, c tư vấn giúp e ạ. SĐT: 09741538\", \"medical_department\": \"tiêu hóa\"},\n",
        "\t{\"sdt\": \"0975067\", \"sdt_ctx\": \"Chào a, e muốn khám ở khoa tai mũi họng, a hỗ trợ e đặt lịch nhé. SĐT: 0975067\", \"medical_department\": \"tai mũi họng\"},\n",
        "\t{\"sdt\": \"09020199102909\", \"sdt_ctx\": \"Chào c, e cần đăng ký khám ở khoa tổng quát, c tư vấn giúp e ạ. SĐT: 09020199102909\", \"medical_department\": \"tổng quát\"},\n",
        "\t{\"sdt\": \"034148011576\", \"sdt_ctx\": \"Chào a, e muốn đặt lịch khám khoa nhi cho bé, a hỗ trợ e với. SĐT: 034148011576\", \"medical_department\": \"nhi\"},\n",
        "\t{\"sdt\": \"035938823\", \"sdt_ctx\": \"Chào c, e cần khám ở khoa thần kinh, c giúp e liên hệ ạ. SĐT: 035938823\", \"medical_department\": \"thần kinh\"},\n",
        "\t{\"sdt\": \"09645\", \"sdt_ctx\": \"Chào a, e muốn đặt lịch khám khoa da liễu, a hỗ trợ e nhé. SĐT: 09645\", \"medical_department\": \"da liễu\"},\n",
        "\t{\"sdt\": \"032859\", \"sdt_ctx\": \"Chào c, e cần khám ở khoa tim mạch, c hướng dẫn e đặt lịch ạ. SĐT: 032859\", \"medical_department\": \"tim mạch\"},\n",
        "\t{\"sdt\": \"038501205851070\", \"sdt_ctx\": \"Chào a, e muốn đặt lịch khám khoa mắt, a hỗ trợ e với. SĐT: 038501205851070\", \"medical_department\": \"mắt\"},\n",
        "\t{\"sdt\": \"0834189515391\", \"sdt_ctx\": \"Chào c, e cần tư vấn ở khoa dinh dưỡng, c liên hệ bác sĩ giúp e ạ. SĐT: 0834189515391\", \"medical_department\": \"dinh dưỡng\"},\n",
        "\t{\"sdt\": \"056556\", \"sdt_ctx\": \"Chào a, e muốn khám ở khoa tiêu hóa, a hướng dẫn e nhé. SĐT: 056556\", \"medical_department\": \"tiêu hóa\"},\n",
        "\t{\"sdt\": \"0894726285550\", \"sdt_ctx\": \"Chào c, e cần đặt lịch khám khoa nội tiết, c hỗ trợ e ạ. SĐT: 0894726285550\", \"medical_department\": \"nội tiết\"},\n",
        "\t{\"sdt\": \"085212013\", \"sdt_ctx\": \"Chào a, e muốn khám ở khoa răng hàm mặt, a giúp e đặt lịch nhé. SĐT: 085212013\", \"medical_department\": \"răng hàm mặt\"},\n",
        "\t{\"sdt\": \"08431816715\", \"sdt_ctx\": \"Chào c, e cần tư vấn khám ở khoa tâm thần, c hỗ trợ e với ạ. SĐT: 08431816715\", \"medical_department\": \"tâm thần\"},\n",
        "\t{\"sdt\": \"084646112\", \"sdt_ctx\": \"Chào a, e muốn đặt lịch khám khoa hô hấp, a hỗ trợ e nhé. SĐT: 084646112\", \"medical_department\": \"hô hấp\"},\n",
        "\t{\"sdt\": \"03419637695638\", \"sdt_ctx\": \"Chào c, e cần khám ở khoa phụ khoa, c giúp e đặt lịch ạ. SĐT: 03419637695638\", \"medical_department\": \"phụ khoa\"},\n",
        "\t{\"sdt\": \"0397418\", \"sdt_ctx\": \"Chào a, e muốn đặt lịch khám khoa tim mạch, a hỗ trợ e với. SĐT: 0397418\", \"medical_department\": \"tim mạch\"},\n",
        "\t{\"sdt\": \"03714\", \"sdt_ctx\": \"Chào c, e cần tư vấn tiêm vắc-xin ở khoa nhi, c hỗ trợ e ạ. SĐT: 03714\", \"medical_department\": \"nhi\"},\n",
        "\t{\"sdt\": \"0796598650223\", \"sdt_ctx\": \"Chào a, e muốn khám ở khoa xương khớp, a giúp e đặt lịch nhé. SĐT: 0796598650223\", \"medical_department\": \"xương khớp\"},\n",
        "\t{\"sdt\": \"097940125509\", \"sdt_ctx\": \"Chào c, e cần đăng ký khám ở khoa tổng quát, c tư vấn giúp e ạ. SĐT: 097940125509\", \"medical_department\": \"tổng quát\"},\n",
        "\t{\"sdt\": \"035412596346\", \"sdt_ctx\": \"Chào a, e muốn đặt lịch khám khoa da liễu, a hỗ trợ e nhé. SĐT: 035412596346\", \"medical_department\": \"da liễu\"},\n",
        "\t{\"sdt\": \"03995921600\", \"sdt_ctx\": \"Chào c, e cần khám ở khoa mắt cho bé, c giúp e đặt lịch ạ. SĐT: 03995921600\", \"medical_department\": \"mắt\"},\n",
        "\t{\"sdt\": \"08576287331879\", \"sdt_ctx\": \"Chào a, e muốn khám ở khoa thần kinh, a hướng dẫn e nhé. SĐT: 08576287331879\", \"medical_department\": \"thần kinh\"},\n",
        "\t{\"sdt\": \"0580252\", \"sdt_ctx\": \"Chào c, e cần tư vấn ở khoa dinh dưỡng, c liên hệ bác sĩ giúp e ạ. SĐT: 0580252\", \"medical_department\": \"dinh dưỡng\"},\n",
        "\t{\"sdt\": \"0819280032890\", \"sdt_ctx\": \"Chào a, e muốn đặt lịch khám khoa tai mũi họng, a hỗ trợ e với. SĐT: 0819280032890\", \"medical_department\": \"tai mũi họng\"},\n",
        "\t{\"sdt\": \"090045555184\", \"sdt_ctx\": \"Chào c, e cần khám ở khoa tiêu hóa, c giúp e liên hệ ạ. SĐT: 090045555184\", \"medical_department\": \"tiêu hóa\"},\n",
        "\t{\"sdt\": \"0967505063084\", \"sdt_ctx\": \"Chào a, e muốn đặt lịch khám khoa nhi cho con, a hỗ trợ e nhé. SĐT: 0967505063084\", \"medical_department\": \"nhi\"},\n",
        "\t{\"sdt\": \"097914768033\", \"sdt_ctx\": \"Chào c, e cần khám ở khoa thần kinh, c hướng dẫn e đặt lịch ạ. SĐT: 097914768033\", \"medical_department\": \"thần kinh\"},\n",
        "\t{\"sdt\": \"0921398\", \"sdt_ctx\": \"Chào a, e muốn kiểm tra sức khỏe ở khoa nội tổng hợp, a hỗ trợ e với. SĐT: 0921398\", \"medical_department\": \"nội tổng hợp\"},\n",
        "\t{\"sdt\": \"07725727\", \"sdt_ctx\": \"Chào c, e cần đặt lịch khám khoa da liễu, c hỗ trợ e ạ. SĐT: 07725727\", \"medical_department\": \"da liễu\"},\n",
        "\t{\"sdt\": \"059456\", \"sdt_ctx\": \"Chào a, e muốn khám ở khoa tiêu hóa, a giúp e đặt lịch nhé. SĐT: 059456\", \"medical_department\": \"tiêu hóa\"},\n",
        "\t{\"sdt\": \"058521435483\", \"sdt_ctx\": \"Chào c, e cần khám ở khoa răng hàm mặt, c hướng dẫn e ạ. SĐT: 058521435483\", \"medical_department\": \"răng hàm mặt\"},\n",
        "\t{\"sdt\": \"09096590\", \"sdt_ctx\": \"Chào a, e muốn đặt lịch khám khoa tim mạch, a hỗ trợ e nhé. SĐT: 09096590\", \"medical_department\": \"tim mạch\"},\n",
        "\t{\"sdt\": \"0891561\", \"sdt_ctx\": \"Chào c, e cần tư vấn khám ở khoa tâm thần, c giúp e liên hệ ạ. SĐT: 0891561\", \"medical_department\": \"tâm thần\"},\n",
        "\t{\"sdt\": \"085905\", \"sdt_ctx\": \"Chào a, e muốn khám ở khoa hô hấp, a hướng dẫn e đặt lịch nhé. SĐT: 085905\", \"medical_department\": \"hô hấp\"},\n",
        "\t{\"sdt\": \"090382846436366\", \"sdt_ctx\": \"Chào c, e cần đặt lịch khám khoa phụ khoa, c hỗ trợ e ạ. SĐT: 090382846436366\", \"medical_department\": \"phụ khoa\"},\n",
        "\t{\"sdt\": \"08651808061\", \"sdt_ctx\": \"Chào a, e muốn khám ở khoa mắt, a giúp e đặt lịch nhé. SĐT: 08651808061\", \"medical_department\": \"mắt\"},\n",
        "\t{\"sdt\": \"07610\", \"sdt_ctx\": \"Chào c, e cần tư vấn tiêm vắc-xin ở khoa nhi, c hỗ trợ e với ạ. SĐT: 07610\", \"medical_department\": \"nhi\"},\n",
        "\t{\"sdt\": \"0938678\", \"sdt_ctx\": \"Chào a, e muốn đặt lịch khám khoa xương khớp, a hỗ trợ e nhé. SĐT: 0938678\", \"medical_department\": \"xương khớp\"},\n",
        "\t{\"sdt\": \"083815900\", \"sdt_ctx\": \"Chào c, e cần đăng ký khám ở khoa tổng quát, c tư vấn giúp e ạ. SĐT: 083815900\", \"medical_department\": \"tổng quát\"},\n",
        "\t{\"sdt\": \"037518\", \"sdt_ctx\": \"Chào a, e muốn khám ở khoa da liễu, a giúp e đặt lịch nhé. SĐT: 037518\", \"medical_department\": \"da liễu\"},\n",
        "\t{\"sdt\": \"0943247\", \"sdt_ctx\": \"Chào c, e cần khám ở khoa mắt cho bé, c hỗ trợ e đặt lịch ạ. SĐT: 0943247\", \"medical_department\": \"mắt\"},\n",
        "\t{\"sdt\": \"032256745850259\", \"sdt_ctx\": \"Chào a, e muốn đặt lịch khám khoa thần kinh, a hướng dẫn e nhé. SĐT: 032256745850259\", \"medical_department\": \"thần kinh\"},\n",
        "\t{\"sdt\": \"0395899316638\", \"sdt_ctx\": \"Chào c, e cần tư vấn ở khoa dinh dưỡng, c liên hệ bác sĩ giúp e ạ. SĐT: 0395899316638\", \"medical_department\": \"dinh dưỡng\"},\n",
        "\t{\"sdt\": \"039721233905\", \"sdt_ctx\": \"Chào a, e muốn khám ở khoa tai mũi họng, a hỗ trợ e đặt lịch nhé. SĐT: 039721233905\", \"medical_department\": \"tai mũi họng\"},\n",
        "\t{\"sdt\": \"099071054\", \"sdt_ctx\": \"Chào c, e cần khám ở khoa tiêu hóa, c giúp e liên hệ ạ. SĐT: 099071054\", \"medical_department\": \"tiêu hóa\"},\n",
        "\t{\"sdt\": \"09202901\", \"sdt_ctx\": \"Chào a, e muốn đặt lịch khám khoa nhi cho con, a hỗ trợ e với. SĐT: 09202901\", \"medical_department\": \"nhi\"},\n",
        "\t{\"sdt\": \"088602120\", \"sdt_ctx\": \"Chào c, e cần khám ở khoa thần kinh, c hướng dẫn e đặt lịch ạ. SĐT: 088602120\", \"medical_department\": \"thần kinh\"},\n",
        "\t{\"sdt\": \"08596828\", \"sdt_ctx\": \"Chào a, e muốn kiểm tra sức khỏe ở khoa nội tổng hợp, a hỗ trợ e nhé. SĐT: 08596828\", \"medical_department\": \"nội tổng hợp\"},\n",
        "\t{\"sdt\": \"0918747671741\", \"sdt_ctx\": \"Chào c, e cần đặt lịch khám khoa da liễu, c hỗ trợ e ạ. SĐT: 0918747671741\", \"medical_department\": \"da liễu\"},\n",
        "\t{\"sdt\": \"09436\", \"sdt_ctx\": \"Chào a, e muốn khám ở khoa tiêu hóa, a giúp e đặt lịch nhé. SĐT: 09436\", \"medical_department\": \"tiêu hóa\"},\n",
        "\t{\"sdt\": \"0326329199089\", \"sdt_ctx\": \"Chào c, e cần khám ở khoa răng hàm mặt, c hướng dẫn e ạ. SĐT: 0326329199089\", \"medical_department\": \"răng hàm mặt\"},\n",
        "\t{\"sdt\": \"08381371272233\", \"sdt_ctx\": \"Chào a, e muốn đặt lịch khám khoa tim mạch, a hỗ trợ e với. SĐT: 08381371272233\", \"medical_department\": \"tim mạch\"},\n",
        "\t{\"sdt\": \"09123371786\", \"sdt_ctx\": \"Chào c, e cần tư vấn khám ở khoa tâm thần, c giúp e liên hệ ạ. SĐT: 09123371786\", \"medical_department\": \"tâm thần\"},\n",
        "\t{\"sdt\": \"07031165756\", \"sdt_ctx\": \"Chào a, e muốn khám ở khoa hô hấp, a hướng dẫn e đặt lịch nhé. SĐT: 07031165756\", \"medical_department\": \"hô hấp\"},\n",
        "\t{\"sdt\": \"0588478\", \"sdt_ctx\": \"Chào c, e cần đặt lịch khám khoa phụ khoa, c hỗ trợ e ạ. SĐT: 0588478\", \"medical_department\": \"phụ khoa\"},\n",
        "\t{\"sdt\": \"09094314099252\", \"sdt_ctx\": \"Chào a, e muốn khám ở khoa mắt, a giúp e đặt lịch nhé. SĐT: 09094314099252\", \"medical_department\": \"mắt\"},\n",
        "\t{\"sdt\": \"0882155\", \"sdt_ctx\": \"Chào c, e cần tư vấn tiêm vắc-xin ở khoa nhi, c hỗ trợ e với ạ. SĐT: 0882155\", \"medical_department\": \"nhi\"},\n",
        "\t{\"sdt\": \"082566515570\", \"sdt_ctx\": \"Chào a, e muốn đặt lịch khám khoa xương khớp, a hỗ trợ e nhé. SĐT: 082566515570\", \"medical_department\": \"xương khớp\"},\n",
        "\t{\"sdt\": \"09993097200\", \"sdt_ctx\": \"Chào c, e cần đăng ký khám ở khoa tổng quát, c tư vấn giúp e ạ. SĐT: 09993097200\", \"medical_department\": \"tổng quát\"},\n",
        "\t{\"sdt\": \"0977705\", \"sdt_ctx\": \"Chào a, e muốn khám ở khoa da liễu, a giúp e đặt lịch nhé. SĐT: 0977705\", \"medical_department\": \"da liễu\"},\n",
        "\t{\"sdt\": \"092918905160119\", \"sdt_ctx\": \"Chào c, e cần khám ở khoa mắt cho bé, c hỗ trợ e đặt lịch ạ. SĐT: 092918905160119\", \"medical_department\": \"mắt\"},\n",
        "\t{\"sdt\": \"09396580451\", \"sdt_ctx\": \"Chào a, e muốn đặt lịch khám khoa thần kinh, a hướng dẫn e nhé. SĐT: 09396580451\", \"medical_department\": \"thần kinh\"},\n",
        "\t{\"sdt\": \"03329681316\", \"sdt_ctx\": \"Chào c, e cần tư vấn ở khoa dinh dưỡng, c liên hệ bác sĩ giúp e ạ. SĐT: 03329681316\", \"medical_department\": \"dinh dưỡng\"},\n",
        "\t{\"sdt\": \"082708\", \"sdt_ctx\": \"Chào a, e muốn khám ở khoa tai mũi họng, a hỗ trợ e đặt lịch nhé. SĐT: 082708\", \"medical_department\": \"tai mũi họng\"},\n",
        "\t{\"sdt\": \"07080\", \"sdt_ctx\": \"Chào c, e cần khám ở khoa tiêu hóa, c giúp e liên hệ ạ. SĐT: 07080\", \"medical_department\": \"tiêu hóa\"},\n",
        "\t{\"sdt\": \"07871421642\", \"sdt_ctx\": \"Chào a, e muốn đặt lịch khám khoa nhi cho con, a hỗ trợ e với. SĐT: 07871421642\", \"medical_department\": \"nhi\"},\n",
        "\t{\"sdt\": \"03345561728018\", \"sdt_ctx\": \"Chào c, e cần khám ở khoa phụ khoa, c hướng dẫn e đặt lịch ạ. SĐT: 03345561728018\", \"medical_department\": \"phụ khoa\"},\n",
        "\t{\"sdt\": \"08976955290758\", \"sdt_ctx\": \"Chào a, e muốn đặt lịch khám khoa tim mạch, a hỗ trợ e nhé. SĐT: 08976955290758\", \"medical_department\": \"tim mạch\"},\n",
        "\t{\"sdt\": \"03515817876994\", \"sdt_ctx\": \"Chào chị, em cần khám khoa nội tiết, chị đặt lịch nhé. Số em: 03515817876994.\", \"medical_department\": \"nội tiết\"},\n",
        "\t{\"sdt\": \"07857\", \"sdt_ctx\": \"Số anh là 07857, anh cần khám khoa xương khớp.\", \"medical_department\": \"xương khớp\"},\n",
        "\t{\"sdt\": \"0785494\", \"sdt_ctx\": \"Chào chú, tôi cần khám định kỳ khoa tổng quát, chú hỗ trợ nhé. Số tôi: 0785494.\", \"medical_department\": \"tổng quát\"},\n",
        "\t{\"sdt\": \"0380256\", \"sdt_ctx\": \"Hey bác, em cần khám khoa mắt, bác set lịch nha. Số em: 0380256.\", \"medical_department\": \"mắt\"},\n",
        "\t{\"sdt\": \"036051862827\", \"sdt_ctx\": \"Số chị là 036051862827, chị cần khám khoa tiêu hóa nhé.\", \"medical_department\": \"tiêu hóa\"},\n",
        "\t{\"sdt\": \"092872816983\", \"sdt_ctx\": \"Chào anh, em cần khám khoa phụ khoa, anh đặt lịch giúp. Số em: 092872816983.\", \"medical_department\": \"phụ khoa\"},\n",
        "\t{\"sdt\": \"09497833613\", \"sdt_ctx\": \"Chú cần khám gấp khoa tim mạch, số chú là 09497833613.\", \"medical_department\": \"tim mạch\"},\n",
        "\t{\"sdt\": \"0366027\", \"sdt_ctx\": \"Chào chị, em cần khám khoa nhi, chị hỗ trợ nhé. Số em: 0366027.\", \"medical_department\": \"nhi\"},\n",
        "\t{\"sdt\": \"077474862\", \"sdt_ctx\": \"Số anh là 077474862, anh cần khám khoa da liễu.\", \"medical_department\": \"da liễu\"},\n",
        "\t{\"sdt\": \"097830114644324\", \"sdt_ctx\": \"Chào bác, em cần khám khoa chấn thương chỉnh hình, bác đặt lịch nha. Số em: 097830114644324.\", \"medical_department\": \"chấn thương chỉnh hình\"},\n",
        "\t{\"sdt\": \"03316418033374\", \"sdt_ctx\": \"Số chị là 03316418033374, chị cần khám khoa răng hàm mặt nhé.\", \"medical_department\": \"răng hàm mặt\"},\n",
        "\t{\"sdt\": \"098590756266073\", \"sdt_ctx\": \"Chào anh, tôi cần khám định kỳ khoa nội tổng hợp, anh giúp nhé. Số tôi: 098590756266073.\", \"medical_department\": \"nội tổng hợp\"},\n",
        "\t{\"sdt\": \"070762381686163\", \"sdt_ctx\": \"Chào chú, em cần khám khoa tâm thần, chú set lịch nha. Số em: 070762381686163.\", \"medical_department\": \"tâm thần\"},\n",
        "\t{\"sdt\": \"08485\", \"sdt_ctx\": \"Số anh là 08485, anh cần khám khoa hô hấp.\", \"medical_department\": \"hô hấp\"},\n",
        "\t{\"sdt\": \"088193\", \"sdt_ctx\": \"Chào chị, tôi cần khám khoa tiết niệu, chị đặt lịch nhé. Số tôi: 088193.\", \"medical_department\": \"tiết niệu\"},\n",
        "\t{\"sdt\": \"0949248445320\", \"sdt_ctx\": \"Chào em, chị cần khám khoa sản, em hỗ trợ nhé. Số chị: 0949248445320.\", \"medical_department\": \"sản\"},\n",
        "\t{\"sdt\": \"056163\", \"sdt_ctx\": \"Số bác là 056163, bác cần khám khoa thần kinh nhé.\", \"medical_department\": \"thần kinh\"},\n",
        "\t{\"sdt\": \"0941049170568\", \"sdt_ctx\": \"Chào anh, em cần khám khoa nhi, anh đặt lịch giúp. Số em: 0941049170568.\", \"medical_department\": \"nhi\"},\n",
        "\t{\"sdt\": \"056860798\", \"sdt_ctx\": \"Số chị là 056860798, chị cần khám khoa da liễu.\", \"medical_department\": \"da liễu\"},\n",
        "\t{\"sdt\": \"0333912\", \"sdt_ctx\": \"Chào chú, tôi cần khám khoa tổng quát, chú giúp nhé. Số tôi: 0333912.\", \"medical_department\": \"tổng quát\"},\n",
        "\t{\"sdt\": \"037169667\", \"sdt_ctx\": \"Chào bác, em cần khám khoa tim mạch, bác set lịch nha. Số em: 037169667.\", \"medical_department\": \"tim mạch\"},\n",
        "\t{\"sdt\": \"07908818085\", \"sdt_ctx\": \"Số chị là 07908818085, chị cần khám khoa phụ khoa nhé.\", \"medical_department\": \"phụ khoa\"},\n",
        "\t{\"sdt\": \"092080845593721\", \"sdt_ctx\": \"Chào anh, tôi cần khám khoa mắt, anh đặt lịch nhé. Số tôi: 092080845593721.\", \"medical_department\": \"mắt\"},\n",
        "\t{\"sdt\": \"09375528558\", \"sdt_ctx\": \"Chào em, chị cần khám khoa tiêu hóa, em hỗ trợ nhé. Số chị: 09375528558.\", \"medical_department\": \"tiêu hóa\"},\n",
        "\t{\"sdt\": \"03266663228\", \"sdt_ctx\": \"Số bác là 03266663228, bác cần khám khoa nội tiết.\", \"medical_department\": \"nội tiết\"},\n",
        "\t{\"sdt\": \"05678400428\", \"sdt_ctx\": \"Chào chị, em cần khám khoa răng hàm mặt, chị đặt lịch nhé. Số em: 05678400428.\", \"medical_department\": \"răng hàm mặt\"},\n",
        "\t{\"sdt\": \"07829\", \"sdt_ctx\": \"Chào anh, bạn cần khám khoa hô hấp, anh giúp nhé. Số tôi: 07829.\", \"medical_department\": \"hô hấp\"},\n",
        "\t{\"sdt\": \"03253\", \"sdt_ctx\": \"Số chú là 03253, chú cần khám khoa thần kinh.\", \"medical_department\": \"thần kinh\"},\n",
        "\t{\"sdt\": \"079620888792733\", \"sdt_ctx\": \"Chào em, chị cần khám khoa sản, em set lịch nhé. Số chị: 079620888792733.\", \"medical_department\": \"sản\"},\n",
        "\t{\"sdt\": \"099070723\", \"sdt_ctx\": \"Số anh là 099070723, anh cần khám khoa da liễu.\", \"medical_department\": \"da liễu\"},\n",
        "\t{\"sdt\": \"092067\", \"sdt_ctx\": \"Chào chị, em cần khám định kỳ khoa tổng quát, chị hỗ trợ nhé. Số em: 092067.\", \"medical_department\": \"tổng quát\"},\n",
        "\t{\"sdt\": \"085344213\", \"sdt_ctx\": \"Chào bác, tôi cần khám gấp khoa tim mạch, bác đặt lịch nha. Số tôi: 085344213.\", \"medical_department\": \"tim mạch\"},\n",
        "\t{\"sdt\": \"099473650154\", \"sdt_ctx\": \"Số chị là 099473650154, chị cần khám khoa nhi nhé.\", \"medical_department\": \"nhi\"},\n",
        "\t{\"sdt\": \"099709070\", \"sdt_ctx\": \"Chào anh, em cần khám khoa phụ khoa, anh set lịch nhé. Số em: 099709070.\", \"medical_department\": \"phụ khoa\"},\n",
        "\t{\"sdt\": \"0845364\", \"sdt_ctx\": \"Số bác là 0845364, bác cần khám khoa mắt.\", \"medical_department\": \"mắt\"},\n",
        "\t{\"sdt\": \"094476390029847\", \"sdt_ctx\": \"Chào chú, tôi cần khám khoa tiêu hóa, chú giúp nhé. Số tôi: 094476390029847.\", \"medical_department\": \"tiêu hóa\"},\n",
        "\t{\"sdt\": \"0386464\", \"sdt_ctx\": \"Số anh là 0386464, anh cần khám định kỳ khoa nội tổng hợp.\", \"medical_department\": \"nội tổng hợp\"},\n",
        "\t{\"sdt\": \"089714196105\", \"sdt_ctx\": \"Chào chị, em cần khám khoa tâm thần, chị đặt lịch nha. Số em: 089714196105.\", \"medical_department\": \"tâm thần\"},\n",
        "\t{\"sdt\": \"083563\", \"sdt_ctx\": \"Chào em, bác cần khám khoa hô hấp, em hỗ trợ nhé. Số bác: 083563.\", \"medical_department\": \"hô hấp\"},\n",
        "\t{\"sdt\": \"0785936\", \"sdt_ctx\": \"Số chị là 0785936, chị cần khám khoa tiết niệu nhé.\", \"medical_department\": \"tiết niệu\"},\n",
        "\t{\"sdt\": \"07955088486\", \"sdt_ctx\": \"Chào anh, tôi cần khám khoa sản, anh set lịch nhé. Số tôi: 07955088486.\", \"medical_department\": \"sản\"},\n",
        "\t{\"sdt\": \"03774421\", \"sdt_ctx\": \"Chào chú, em cần khám khoa da liễu, chú giúp nha. Số em: 03774421.\", \"medical_department\": \"da liễu\"},\n",
        "\t{\"sdt\": \"083076975853\", \"sdt_ctx\": \"Số bác là 083076975853, bác cần khám khoa tổng quát.\", \"medical_department\": \"tổng quát\"},\n",
        "\t{\"sdt\": \"08237\", \"sdt_ctx\": \"Chào chị, anh cần khám khoa tim mạch, chị đặt lịch nhé. Số anh: 08237.\", \"medical_department\": \"tim mạch\"},\n",
        "\t{\"sdt\": \"083216988383\", \"sdt_ctx\": \"Số chú là 083216988383, chú cần khám khoa nhi.\", \"medical_department\": \"nhi\"},\n",
        "\t{\"sdt\": \"09709\", \"sdt_ctx\": \"Chào em, chị cần khám khoa phụ khoa, em hỗ trợ nhé. Số chị: 09709.\", \"medical_department\": \"phụ khoa\"},\n",
        "\t{\"sdt\": \"09151128943\", \"sdt_ctx\": \"Số anh là 09151128943, anh cần khám khoa mắt.\", \"medical_department\": \"mắt\"},\n",
        "\t{\"sdt\": \"07845\", \"sdt_ctx\": \"Chào bác, tôi cần khám khoa tiêu hóa, bác set lịch nhé. Số tôi: 07845.\", \"medical_department\": \"tiêu hóa\"},\n",
        "\t{\"sdt\": \"089638050397\", \"sdt_ctx\": \"Chào chị, em cần khám khoa nội tổng hợp, chị giúp nha. Số em: 089638050397.\", \"medical_department\": \"nội tổng hợp\"},\n",
        "\t{\"sdt\": \"079293348\", \"sdt_ctx\": \"Số bác là 079293348, bác cần khám khoa tâm thần.\", \"medical_department\": \"tâm thần\"},\n",
        "\t{\"sdt\": \"090110671296\", \"sdt_ctx\": \"Chào anh, tôi cần khám khoa hô hấp, anh đặt lịch nhé. Số tôi: 090110671296.\", \"medical_department\": \"hô hấp\"},\n",
        "\t{\"sdt\": \"077627962\", \"sdt_ctx\": \"Số chị là 077627962, chị cần khám khoa tiết niệu nhé.\", \"medical_department\": \"tiết niệu\"},\n",
        "\t{\"sdt\": \"035693743\", \"sdt_ctx\": \"Chào em, bác cần khám khoa sản, em hỗ trợ nhé. Số bác: 035693743.\", \"medical_department\": \"sản\"},\n",
        "\t{\"sdt\": \"08241\", \"sdt_ctx\": \"Số anh là 08241, anh cần khám khoa da liễu.\", \"medical_department\": \"da liễu\"},\n",
        "\t{\"sdt\": \"08949\", \"sdt_ctx\": \"Chào chị, tôi cần khám định kỳ khoa tổng quát, chị set lịch nhé. Số tôi: 08949.\", \"medical_department\": \"tổng quát\"},\n",
        "\t{\"sdt\": \"093400\", \"sdt_ctx\": \"Chào chú, em cần khám khoa tim mạch, chú giúp nha. Số em: 093400.\", \"medical_department\": \"tim mạch\"},\n",
        "\t{\"sdt\": \"0909476149501\", \"sdt_ctx\": \"Số chị là 0909476149501, chị cần khám khoa nhi.\", \"medical_department\": \"nhi\"},\n",
        "\t{\"sdt\": \"0392092\", \"sdt_ctx\": \"Chào anh, em cần khám khoa phụ khoa, anh đặt lịch nhé. Số em: 0392092.\", \"medical_department\": \"phụ khoa\"},\n",
        "\t{\"sdt\": \"0351229\", \"sdt_ctx\": \"Số bác là 0351229, bác cần khám khoa mắt.\", \"medical_department\": \"mắt\"},\n",
        "\t{\"sdt\": \"077815018673766\", \"sdt_ctx\": \"Chào chị, tôi cần khám khoa tiêu hóa, chị hỗ trợ nhé. Số tôi: 077815018673766.\", \"medical_department\": \"tiêu hóa\"},\n",
        "\t{\"sdt\": \"083039684922\", \"sdt_ctx\": \"Số anh là 083039684922, anh cần khám khoa nội tổng hợp.\", \"medical_department\": \"nội tổng hợp\"},\n",
        "\t{\"sdt\": \"07873322458\", \"sdt_ctx\": \"Chào em, chị cần khám khoa tâm thần, em set lịch nhé. Số chị: 07873322458.\", \"medical_department\": \"tâm thần\"},\n",
        "\t{\"sdt\": \"09369\", \"sdt_ctx\": \"Số chú là 09369, chú cần khám khoa hô hấp.\", \"medical_department\": \"hô hấp\"},\n",
        "\t{\"sdt\": \"08397144869\", \"sdt_ctx\": \"Chào bác, tôi cần khám khoa tiết niệu, bác giúp nhé. Số tôi: 08397144869.\", \"medical_department\": \"tiết niệu\"},\n",
        "\t{\"sdt\": \"088835879437\", \"sdt_ctx\": \"Số chị là 088835879437, chị cần khám khoa sản nhé.\", \"medical_department\": \"sản\"},\n",
        "\t{\"sdt\": \"096204868\", \"sdt_ctx\": \"Chào anh, em cần khám khoa da liễu, anh đặt lịch nha. Số em: 096204868.\", \"medical_department\": \"da liễu\"},\n",
        "\t{\"sdt\": \"0325066412199\", \"sdt_ctx\": \"Số bác là 0325066412199, bác cần khám định kỳ khoa tổng quát.\", \"medical_department\": \"tổng quát\"},\n",
        "\t{\"sdt\": \"03368\", \"sdt_ctx\": \"Chào chị, tôi cần khám khoa tim mạch, chị set lịch nhé. Số tôi: 03368.\", \"medical_department\": \"tim mạch\"},\n",
        "\t{\"sdt\": \"038195270\", \"sdt_ctx\": \"Số anh là 038195270, anh cần khám khoa nhi.\", \"medical_department\": \"nhi\"},\n",
        "\t{\"sdt\": \"08824616848\", \"sdt_ctx\": \"Chào em, chị cần khám khoa phụ khoa, em hỗ trợ nhé. Số chị: 08824616848.\", \"medical_department\": \"phụ khoa\"},\n",
        "\t{\"sdt\": \"07847559152035\", \"sdt_ctx\": \"Số bác là 07847559152035, bác cần khám khoa mắt.\", \"medical_department\": \"mắt\"},\n",
        "\t{\"sdt\": \"096446\", \"sdt_ctx\": \"Chào chú, tôi cần khám khoa tiêu hóa, chú đặt lịch nhé. Số tôi: 096446.\", \"medical_department\": \"tiêu hóa\"},\n",
        "\t{\"sdt\": \"07004755\", \"sdt_ctx\": \"Số chị là 07004755, chị cần khám khoa nội tổng hợp nhé.\", \"medical_department\": \"nội tổng hợp\"},\n",
        "\t{\"sdt\": \"079009\", \"sdt_ctx\": \"Chào anh, em cần khám khoa tâm thần, anh giúp nha. Số em: 079009.\", \"medical_department\": \"tâm thần\"},\n",
        "\t{\"sdt\": \"092813429918355\", \"sdt_ctx\": \"Số bác là 092813429918355, bác cần khám khoa hô hấp.\", \"medical_department\": \"hô hấp\"},\n",
        "\t{\"sdt\": \"03911997\", \"sdt_ctx\": \"Chào chị, tôi cần khám khoa tiết niệu, chị set lịch nhé. Số tôi: 03911997.\", \"medical_department\": \"tiết niệu\"},\n",
        "\t{\"sdt\": \"08674949800610\", \"sdt_ctx\": \"Số anh là 08674949800610, anh cần khám khoa sản.\", \"medical_department\": \"sản\"},\n",
        "\t{\"sdt\": \"038522020347958\", \"sdt_ctx\": \"Chào em, chị cần khám khoa da liễu, em đặt lịch nhé. Số chị: 038522020347958.\", \"medical_department\": \"da liễu\"},\n",
        "\t{\"sdt\": \"09674\", \"sdt_ctx\": \"Số chú là 09674, chú cần khám khoa tổng quát.\", \"medical_department\": \"tổng quát\"},\n",
        "\t{\"sdt\": \"038428852\", \"sdt_ctx\": \"Chào bác, tôi cần khám khoa tim mạch, bác giúp nhé. Số tôi: 038428852.\", \"medical_department\": \"tim mạch\"},\n",
        "\t{\"sdt\": \"034386577\", \"sdt_ctx\": \"Số chị là 034386577, chị cần khám khoa nhi nhé.\", \"medical_department\": \"nhi\"},\n",
        "\t{\"sdt\": \"083953373839\", \"sdt_ctx\": \"Chào anh, em cần khám khoa phụ khoa, anh set lịch nhé. Số em: 083953373839.\", \"medical_department\": \"phụ khoa\"},\n",
        "\t{\"sdt\": \"099800487495\", \"sdt_ctx\": \"Số bác là 099800487495, bác cần khám khoa mắt.\", \"medical_department\": \"mắt\"},\n",
        "\t{\"sdt\": \"0904386532033\", \"sdt_ctx\": \"Chào chú, tôi cần khám khoa tiêu hóa, chú đặt lịch nhé. Số tôi: 0904386532033.\", \"medical_department\": \"tiêu hóa\"},\n",
        "\t{\"sdt\": \"089889872678140\", \"sdt_ctx\": \"Số chị là 089889872678140, chị cần khám khoa nội tổng hợp.\", \"medical_department\": \"nội tổng hợp\"},\n",
        "\t{\"sdt\": \"08243283\", \"sdt_ctx\": \"Chào em, anh cần khám khoa tâm thần, em hỗ trợ nhé. Số anh: 08243283.\", \"medical_department\": \"tâm thần\"},\n",
        "\t{\"sdt\": \"03319506\", \"sdt_ctx\": \"Số bác là 03319506, bác cần khám khoa hô hấp.\", \"medical_department\": \"hô hấp\"},\n",
        "\t{\"sdt\": \"08271546\", \"sdt_ctx\": \"Chào chị, tôi cần khám khoa tiết niệu, chị set lịch nhé. Số tôi: 08271546.\", \"medical_department\": \"tiết niệu\"},\n",
        "\t{\"sdt\": \"086282\", \"sdt_ctx\": \"Số anh là 086282, anh cần khám khoa sản.\", \"medical_department\": \"sản\"},\n",
        "\t{\"sdt\": \"09181774971\", \"sdt_ctx\": \"Chào em, chị cần khám khoa da liễu, em đặt lịch nhé. Số chị: 09181774971.\", \"medical_department\": \"da liễu\"},\n",
        "\t{\"sdt\": \"09909762450920\", \"sdt_ctx\": \"Số chú là 09909762450920, chú cần khám khoa tổng quát.\", \"medical_department\": \"tổng quát\"},\n",
        "\t{\"sdt\": \"034964676145\", \"sdt_ctx\": \"Chào bác, tôi cần khám khoa tim mạch, bác giúp nhé. Số tôi: 034964676145.\", \"medical_department\": \"tim mạch\"},\n",
        "\t{\"sdt\": \"03774697\", \"sdt_ctx\": \"Số chị là 03774697, chị cần khám khoa nhi nhé.\", \"medical_department\": \"nhi\"},\n",
        "\t{\"sdt\": \"076518256\", \"sdt_ctx\": \"Chào anh, em cần khám khoa phụ khoa, anh đặt lịch nhé. Số em: 076518256.\", \"medical_department\": \"phụ khoa\"},\n",
        "\t{\"sdt\": \"032178083011\", \"sdt_ctx\": \"Số bác là 032178083011, bác cần khám khoa mắt.\", \"medical_department\": \"mắt\"},\n",
        "\t{\"sdt\": \"078205143\", \"sdt_ctx\": \"Chào chị, tôi cần khám khoa tiêu hóa, chị hỗ trợ nhé. Số tôi: 078205143.\", \"medical_department\": \"tiêu hóa\"},\n",
        "\t{\"sdt\": \"08195759655\", \"sdt_ctx\": \"Số anh là 08195759655, anh cần khám khoa nội tổng hợp.\", \"medical_department\": \"nội tổng hợp\"},\n",
        "\t{\"sdt\": \"08239746808\", \"sdt_ctx\": \"Chào em, chị cần khám khoa tâm thần, em set lịch nhé. Số chị: 08239746808.\", \"medical_department\": \"tâm thần\"},\n",
        "\t{\"sdt\": \"0938941636882\", \"sdt_ctx\": \"Số chú là 0938941636882, chú cần khám khoa hô hấp.\", \"medical_department\": \"hô hấp\"},\n",
        "\t{\"sdt\": \"0323715933440\", \"sdt_ctx\": \"Chào bác, tôi cần khám khoa tiết niệu, bác đặt lịch nhé. Số tôi: 0323715933440.\", \"medical_department\": \"tiết niệu\"},\n",
        "\t{\"sdt\": \"03259889140763\", \"sdt_ctx\": \"E ơi, đặt giúp c lịch khám khoa nội tiết, sdt c là 03259889140763.\", \"medical_department\": \"nội tiết\"},\n",
        "\t{\"sdt\": \"08479481009423\", \"sdt_ctx\": \"Số a là 08479481009423, a cần khám khoa xương khớp.\", \"medical_department\": \"xương khớp\"},\n",
        "\t{\"sdt\": \"03448892682\", \"sdt_ctx\": \"Chào chú, t cần khám định kỳ khoa tổng quát, sdt t: 03448892682.\", \"medical_department\": \"tổng quát\"},\n",
        "\t{\"sdt\": \"03707498080550\", \"sdt_ctx\": \"Bác ơi, e cần khám khoa mắt, sdt e: 03707498080550.\", \"medical_department\": \"mắt\"},\n",
        "\t{\"sdt\": \"089099450092\", \"sdt_ctx\": \"Số c là 089099450092, c cần khám khoa tiêu hóa nhé.\", \"medical_department\": \"tiêu hóa\"},\n",
        "\t{\"sdt\": \"08116643\", \"sdt_ctx\": \"Chào a, e cần khám khoa phụ khoa, sdt e: 08116643.\", \"medical_department\": \"phụ khoa\"},\n",
        "\t{\"sdt\": \"093684984\", \"sdt_ctx\": \"Chú cần khám gấp khoa tim mạch, sdt chú: 093684984.\", \"medical_department\": \"tim mạch\"},\n",
        "\t{\"sdt\": \"056883157\", \"sdt_ctx\": \"Số e là 056883157, e cần khám khoa nhi.\", \"medical_department\": \"nhi\"},\n",
        "\t{\"sdt\": \"059282082317\", \"sdt_ctx\": \"Chào c, a cần khám khoa da liễu, sdt a: 059282082317.\", \"medical_department\": \"da liễu\"},\n",
        "\t{\"sdt\": \"0892572\", \"sdt_ctx\": \"E ơi, đặt giúp bác lịch khám khoa chấn thương chỉnh hình, sdt bác: 0892572.\", \"medical_department\": \"chấn thương chỉnh hình\"},\n",
        "\t{\"sdt\": \"03882028\", \"sdt_ctx\": \"Số c là 03882028, c cần khám khoa răng hàm mặt.\", \"medical_department\": \"răng hàm mặt\"},\n",
        "\t{\"sdt\": \"032835924391465\", \"sdt_ctx\": \"Chào a, t cần khám khoa nội tổng hợp, sdt t: 032835924391465.\", \"medical_department\": \"nội tổng hợp\"},\n",
        "\t{\"sdt\": \"088400000749338\", \"sdt_ctx\": \"Bác ơi, e cần khám khoa tâm thần, sdt e: 088400000749338.\", \"medical_department\": \"tâm thần\"},\n",
        "\t{\"sdt\": \"0701979659480\", \"sdt_ctx\": \"Số a là 0701979659480, a cần khám khoa hô hấp nhé.\", \"medical_department\": \"hô hấp\"},\n",
        "\t{\"sdt\": \"085387312\", \"sdt_ctx\": \"Chào c, chú cần khám khoa tiết niệu, sdt chú: 085387312.\", \"medical_department\": \"tiết niệu\"},\n",
        "\t{\"sdt\": \"092088039\", \"sdt_ctx\": \"E ơi, đặt giúp c lịch khám khoa sản, sdt c: 092088039.\", \"medical_department\": \"sản\"},\n",
        "\t{\"sdt\": \"07820338484866\", \"sdt_ctx\": \"Số bác là 07820338484866, bác cần khám khoa thần kinh.\", \"medical_department\": \"thần kinh\"},\n",
        "\t{\"sdt\": \"076955172\", \"sdt_ctx\": \"Chào a, e cần khám khoa nhi, sdt e: 076955172.\", \"medical_department\": \"nhi\"},\n",
        "\t{\"sdt\": \"0886345\", \"sdt_ctx\": \"Số c là 0886345, c cần khám khoa da liễu nhé.\", \"medical_department\": \"da liễu\"},\n",
        "\t{\"sdt\": \"090590824335249\", \"sdt_ctx\": \"Chào chú, t cần khám định kỳ khoa tổng quát, sdt t: 090590824335249.\", \"medical_department\": \"tổng quát\"},\n",
        "\t{\"sdt\": \"084724518\", \"sdt_ctx\": \"E ơi, đặt giúp a lịch khám khoa tim mạch, sdt a: 084724518.\", \"medical_department\": \"tim mạch\"},\n",
        "\t{\"sdt\": \"083191470\", \"sdt_ctx\": \"Số c là 083191470, c cần khám khoa phụ khoa.\", \"medical_department\": \"phụ khoa\"},\n",
        "\t{\"sdt\": \"0982660298955\", \"sdt_ctx\": \"Chào bác, e cần khám khoa mắt, sdt e: 0982660298955.\", \"medical_department\": \"mắt\"},\n",
        "\t{\"sdt\": \"0332578762479\", \"sdt_ctx\": \"Số a là 0332578762479, a cần khám khoa tiêu hóa.\", \"medical_department\": \"tiêu hóa\"},\n",
        "\t{\"sdt\": \"085542952\", \"sdt_ctx\": \"Chào c, chú cần khám khoa nội tổng hợp, sdt chú: 085542952.\", \"medical_department\": \"nội tổng hợp\"},\n",
        "\t{\"sdt\": \"09654612795633\", \"sdt_ctx\": \"E ơi, đặt giúp bác lịch khám khoa tâm thần, sdt bác: 09654612795633.\", \"medical_department\": \"tâm thần\"},\n",
        "\t{\"sdt\": \"0830251\", \"sdt_ctx\": \"Số e là 0830251, e cần khám khoa hô hấp.\", \"medical_department\": \"hô hấp\"},\n",
        "\t{\"sdt\": \"056237442\", \"sdt_ctx\": \"Chào a, c cần khám khoa tiết niệu, sdt c: 056237442.\", \"medical_department\": \"tiết niệu\"},\n",
        "\t{\"sdt\": \"0568767\", \"sdt_ctx\": \"Số bác là 0568767, bác cần khám khoa sản nhé.\", \"medical_department\": \"sản\"},\n",
        "\t{\"sdt\": \"058900873722180\", \"sdt_ctx\": \"Chào e, a cần khám khoa da liễu, sdt a: 058900873722180.\", \"medical_department\": \"da liễu\"},\n",
        "\t{\"sdt\": \"05934291\", \"sdt_ctx\": \"Số c là 05934291, c cần khám định kỳ khoa tổng quát.\", \"medical_department\": \"tổng quát\"},\n",
        "\t{\"sdt\": \"09350728336\", \"sdt_ctx\": \"Chào chú, e cần khám khoa tim mạch, sdt e: 09350728336.\", \"medical_department\": \"tim mạch\"},\n",
        "\t{\"sdt\": \"099609328036\", \"sdt_ctx\": \"Số a là 099609328036, a cần khám khoa nhi.\", \"medical_department\": \"nhi\"},\n",
        "\t{\"sdt\": \"0944803\", \"sdt_ctx\": \"E ơi, đặt giúp c lịch khám khoa phụ khoa, sdt c: 0944803.\", \"medical_department\": \"phụ khoa\"},\n",
        "\t{\"sdt\": \"0789260873388\", \"sdt_ctx\": \"Số bác là 0789260873388, bác cần khám khoa mắt.\", \"medical_department\": \"mắt\"},\n",
        "\t{\"sdt\": \"03499021616494\", \"sdt_ctx\": \"Chào a, t cần khám khoa tiêu hóa, sdt t: 03499021616494.\", \"medical_department\": \"tiêu hóa\"},\n",
        "\t{\"sdt\": \"09928812\", \"sdt_ctx\": \"Số c là 09928812, c cần khám khoa nội tổng hợp nhé.\", \"medical_department\": \"nội tổng hợp\"},\n",
        "\t{\"sdt\": \"093630849162\", \"sdt_ctx\": \"Chào e, bác cần khám khoa tâm thần, sdt bác: 093630849162.\", \"medical_department\": \"tâm thần\"},\n",
        "\t{\"sdt\": \"03359643410970\", \"sdt_ctx\": \"Số a là 03359643410970, a cần khám khoa hô hấp.\", \"medical_department\": \"hô hấp\"},\n",
        "\t{\"sdt\": \"08474041\", \"sdt_ctx\": \"Chào c, chú cần khám khoa tiết niệu, sdt chú: 08474041.\", \"medical_department\": \"tiết niệu\"},\n",
        "\t{\"sdt\": \"083847979809\", \"sdt_ctx\": \"E ơi, đặt giúp c lịch khám khoa sản, sdt c: 083847979809.\", \"medical_department\": \"sản\"},\n",
        "\t{\"sdt\": \"0763975040096\", \"sdt_ctx\": \"Số bác là 0763975040096, bác cần khám khoa da liễu.\", \"medical_department\": \"da liễu\"},\n",
        "\t{\"sdt\": \"08542369568\", \"sdt_ctx\": \"Chào a, e cần khám định kỳ khoa tổng quát, sdt e: 08542369568.\", \"medical_department\": \"tổng quát\"},\n",
        "\t{\"sdt\": \"09659\", \"sdt_ctx\": \"Số c là 09659, c cần khám khoa tim mạch nhé.\", \"medical_department\": \"tim mạch\"},\n",
        "\t{\"sdt\": \"09309972536565\", \"sdt_ctx\": \"Chào chú, e cần khám khoa nhi, sdt e: 09309972536565.\", \"medical_department\": \"nhi\"},\n",
        "\t{\"sdt\": \"037855091097\", \"sdt_ctx\": \"Số a là 037855091097, a cần khám khoa phụ khoa.\", \"medical_department\": \"phụ khoa\"},\n",
        "\t{\"sdt\": \"08300379771475\", \"sdt_ctx\": \"E ơi, đặt giúp bác lịch khám khoa mắt, sdt bác: 08300379771475.\", \"medical_department\": \"mắt\"},\n",
        "\t{\"sdt\": \"03912562271\", \"sdt_ctx\": \"Số c là 03912562271, c cần khám khoa tiêu hóa.\", \"medical_department\": \"tiêu hóa\"},\n",
        "\t{\"sdt\": \"05936495463616\", \"sdt_ctx\": \"Chào a, t cần khám khoa nội tổng hợp, sdt t: 05936495463616.\", \"medical_department\": \"nội tổng hợp\"},\n",
        "\t{\"sdt\": \"039206\", \"sdt_ctx\": \"Số bác là 039206, bác cần khám khoa tâm thần nhé.\", \"medical_department\": \"tâm thần\"},\n",
        "\t{\"sdt\": \"03285184\", \"sdt_ctx\": \"Chào e, a cần khám khoa hô hấp, sdt a: 03285184.\", \"medical_department\": \"hô hấp\"},\n",
        "\t{\"sdt\": \"059378\", \"sdt_ctx\": \"Số c là 059378, c cần khám khoa tiết niệu.\", \"medical_department\": \"tiết niệu\"},\n",
        "\t{\"sdt\": \"07017469\", \"sdt_ctx\": \"Chào chú, e cần khám khoa sản, sdt e: 07017469.\", \"medical_department\": \"sản\"},\n",
        "\t{\"sdt\": \"079138720\", \"sdt_ctx\": \"Số a là 079138720, a cần khám khoa da liễu.\", \"medical_department\": \"da liễu\"},\n",
        "\t{\"sdt\": \"035290\", \"sdt_ctx\": \"E ơi, đặt giúp c lịch khám khoa tổng quát, sdt c: 035290.\", \"medical_department\": \"tổng quát\"},\n",
        "\t{\"sdt\": \"079174221\", \"sdt_ctx\": \"Số bác là 079174221, bác cần khám khoa tim mạch.\", \"medical_department\": \"tim mạch\"},\n",
        "\t{\"sdt\": \"035509813906448\", \"sdt_ctx\": \"Chào a, e cần khám khoa nhi, sdt e: 035509813906448.\", \"medical_department\": \"nhi\"},\n",
        "\t{\"sdt\": \"0975578\", \"sdt_ctx\": \"Số c là 0975578, c cần khám khoa phụ khoa nhé.\", \"medical_department\": \"phụ khoa\"},\n",
        "\t{\"sdt\": \"08538997501\", \"sdt_ctx\": \"Chào e, bác cần khám khoa mắt, sdt bác: 08538997501.\", \"medical_department\": \"mắt\"},\n",
        "\t{\"sdt\": \"091657862629\", \"sdt_ctx\": \"Số a là 091657862629, a cần khám khoa tiêu hóa.\", \"medical_department\": \"tiêu hóa\"},\n",
        "\t{\"sdt\": \"0383491\", \"sdt_ctx\": \"Chào c, chú cần khám khoa nội tổng hợp, sdt chú: 0383491.\", \"medical_department\": \"nội tổng hợp\"},\n",
        "\t{\"sdt\": \"035198832\", \"sdt_ctx\": \"E ơi, đặt giúp a lịch khám khoa tâm thần, sdt a: 035198832.\", \"medical_department\": \"tâm thần\"},\n",
        "\t{\"sdt\": \"09704\", \"sdt_ctx\": \"Số bác là 09704, bác cần khám khoa hô hấp.\", \"medical_department\": \"hô hấp\"},\n",
        "\t{\"sdt\": \"0373695796325\", \"sdt_ctx\": \"Chào e, c cần khám khoa tiết niệu, sdt c: 0373695796325.\", \"medical_department\": \"tiết niệu\"},\n",
        "\t{\"sdt\": \"094049946045\", \"sdt_ctx\": \"Số a là 094049946045, a cần khám khoa sản nhé.\", \"medical_department\": \"sản\"},\n",
        "\t{\"sdt\": \"05969979875502\", \"sdt_ctx\": \"Chào chú, e cần khám khoa da liễu, sdt e: 05969979875502.\", \"medical_department\": \"da liễu\"},\n",
        "\t{\"sdt\": \"039394\", \"sdt_ctx\": \"Số c là 039394, c cần khám định kỳ khoa tổng quát.\", \"medical_department\": \"tổng quát\"},\n",
        "\t{\"sdt\": \"082277142801\", \"sdt_ctx\": \"E ơi, đặt giúp a lịch khám khoa tim mạch, sdt a: 082277142801.\", \"medical_department\": \"tim mạch\"},\n",
        "\t{\"sdt\": \"0785922898296\", \"sdt_ctx\": \"Số bác là 0785922898296, bác cần khám khoa nhi.\", \"medical_department\": \"nhi\"},\n",
        "\t{\"sdt\": \"084076455702\", \"sdt_ctx\": \"Chào c, a cần khám khoa phụ khoa, sdt a: 084076455702.\", \"medical_department\": \"phụ khoa\"},\n",
        "\t{\"sdt\": \"07057427244\", \"sdt_ctx\": \"Số e là 07057427244, e cần khám khoa mắt.\", \"medical_department\": \"mắt\"},\n",
        "\t{\"sdt\": \"099116\", \"sdt_ctx\": \"Chào chú, t cần khám khoa tiêu hóa, sdt t: 099116.\", \"medical_department\": \"tiêu hóa\"},\n",
        "\t{\"sdt\": \"0812999172273\", \"sdt_ctx\": \"Số c là 0812999172273, c cần khám khoa nội tổng hợp nhé.\", \"medical_department\": \"nội tổng hợp\"},\n",
        "\t{\"sdt\": \"09435\", \"sdt_ctx\": \"E ơi, đặt giúp bác lịch khám khoa tâm thần, sdt bác: 09435.\", \"medical_department\": \"tâm thần\"},\n",
        "\t{\"sdt\": \"03851655178\", \"sdt_ctx\": \"Số a là 03851655178, a cần khám khoa hô hấp.\", \"medical_department\": \"hô hấp\"},\n",
        "\t{\"sdt\": \"086180298046981\", \"sdt_ctx\": \"Chào e, c cần khám khoa tiết niệu, sdt c: 086180298046981.\", \"medical_department\": \"tiết niệu\"},\n",
        "\t{\"sdt\": \"081325944\", \"sdt_ctx\": \"Số bác là 081325944, bác cần khám khoa sản.\", \"medical_department\": \"sản\"},\n",
        "\t{\"sdt\": \"077692610\", \"sdt_ctx\": \"Chào a, e cần khám khoa da liễu, sdt e: 077692610.\", \"medical_department\": \"da liễu\"},\n",
        "\t{\"sdt\": \"038525286787\", \"sdt_ctx\": \"Số c là 038525286787, c cần khám khoa tổng quát nhé.\", \"medical_department\": \"tổng quát\"},\n",
        "\t{\"sdt\": \"088401\", \"sdt_ctx\": \"E ơi, đặt giúp a lịch khám khoa tim mạch, sdt a: 088401.\", \"medical_department\": \"tim mạch\"},\n",
        "\t{\"sdt\": \"086223646\", \"sdt_ctx\": \"Số bác là 086223646, bác cần khám khoa nhi.\", \"medical_department\": \"nhi\"},\n",
        "\t{\"sdt\": \"094124279763356\", \"sdt_ctx\": \"Chào c, a cần khám khoa phụ khoa, sdt a: 094124279763356.\", \"medical_department\": \"phụ khoa\"},\n",
        "\t{\"sdt\": \"0323518\", \"sdt_ctx\": \"Số e là 0323518, e cần khám khoa mắt.\", \"medical_department\": \"mắt\"},\n",
        "\t{\"sdt\": \"076991567583825\", \"sdt_ctx\": \"Chào chú, t cần khám khoa tiêu hóa, sdt t: 076991567583825.\", \"medical_department\": \"tiêu hóa\"},\n",
        "\t{\"sdt\": \"0343193139947\", \"sdt_ctx\": \"Số c là 0343193139947, c cần khám khoa nội tổng hợp.\", \"medical_department\": \"nội tổng hợp\"},\n",
        "\t{\"sdt\": \"03446\", \"sdt_ctx\": \"E ơi, đặt giúp bác lịch khám khoa tâm thần, sdt bác: 03446.\", \"medical_department\": \"tâm thần\"},\n",
        "\t{\"sdt\": \"07663901\", \"sdt_ctx\": \"Số a là 07663901, a cần khám khoa hô hấp nhé.\", \"medical_department\": \"hô hấp\"},\n",
        "\t{\"sdt\": \"09297\", \"sdt_ctx\": \"Chào e, c cần khám khoa tiết niệu, sdt c: 09297.\", \"medical_department\": \"tiết niệu\"},\n",
        "\t{\"sdt\": \"090102247999028\", \"sdt_ctx\": \"Số bác là 090102247999028, bác cần khám khoa sản.\", \"medical_department\": \"sản\"},\n",
        "\t{\"sdt\": \"08921383871507\", \"sdt_ctx\": \"Chào a, e cần khám khoa da liễu, sdt e: 08921383871507.\", \"medical_department\": \"da liễu\"},\n",
        "\t{\"sdt\": \"03570571173307\", \"sdt_ctx\": \"Số c là 03570571173307, c cần khám khoa tổng quát.\", \"medical_department\": \"tổng quát\"},\n",
        "\t{\"sdt\": \"0903697\", \"sdt_ctx\": \"E ơi, đặt giúp a lịch khám khoa tim mạch, sdt a: 0903697.\", \"medical_department\": \"tim mạch\"},\n",
        "\t{\"sdt\": \"03855851\", \"sdt_ctx\": \"Số bác là 03855851, bác cần khám khoa nhi.\", \"medical_department\": \"nhi\"},\n",
        "\t{\"sdt\": \"0811934\", \"sdt_ctx\": \"Chào c, a cần khám khoa phụ khoa, sdt a: 0811934.\", \"medical_department\": \"phụ khoa\"},\n",
        "\t{\"sdt\": \"039308379215\", \"sdt_ctx\": \"Số e là 039308379215, e cần khám khoa mắt.\", \"medical_department\": \"mắt\"},\n",
        "\t{\"sdt\": \"0374414\", \"sdt_ctx\": \"Chào chú, t cần khám khoa tiêu hóa, sdt t: 0374414.\", \"medical_department\": \"tiêu hóa\"},\n",
        "\t{\"sdt\": \"07701288054\", \"sdt_ctx\": \"Số c là 07701288054, c cần khám khoa nội tổng hợp nhé.\", \"medical_department\": \"nội tổng hợp\"},\n",
        "\t{\"sdt\": \"0766987\", \"sdt_ctx\": \"E ơi, đặt giúp bác lịch khám khoa tâm thần, sdt bác: 0766987.\", \"medical_department\": \"tâm thần\"},\n",
        "\t{\"sdt\": \"07640\", \"sdt_ctx\": \"Số a là 07640, a cần khám khoa hô hấp.\", \"medical_department\": \"hô hấp\"},\n",
        "\t{\"sdt\": \"07887\", \"sdt_ctx\": \"Chào e, c cần khám khoa tiết niệu, sdt c: 07887.\", \"medical_department\": \"tiết niệu\"}\n",
        "]"
      ],
      "metadata": {
        "id": "qKR9Gi78LDg4"
      },
      "execution_count": null,
      "outputs": []
    },
    {
      "cell_type": "code",
      "source": [],
      "metadata": {
        "id": "7gfImsbaVGkX"
      },
      "execution_count": null,
      "outputs": []
    },
    {
      "cell_type": "markdown",
      "source": [
        "# last"
      ],
      "metadata": {
        "id": "iu9TvqnO0mgK"
      }
    },
    {
      "cell_type": "code",
      "source": [
        "from google import genai\n",
        "from google.genai.types import GenerateContentConfig, HttpOptions\n",
        "from google.api_core import retry\n",
        "from google.genai import types\n",
        "from google.colab import userdata\n",
        "\n",
        "client = genai.Client(api_key=userdata.get('cli1'))"
      ],
      "metadata": {
        "id": "CdpZ8yfI1cZj"
      },
      "execution_count": null,
      "outputs": []
    },
    {
      "cell_type": "code",
      "source": [
        "# viết tắt (anh là \"a\", em là \"e\", chị là \"c\", tôi là \"t\", mình là \"m\" số điện thoại là \"sdt\")\n",
        "# không sử dụng từ \"tôi\", \"mình\""
      ],
      "metadata": {
        "id": "HkEg0RLJBjVH"
      },
      "execution_count": null,
      "outputs": []
    },
    {
      "cell_type": "code",
      "source": [
        "# add context\n",
        "def add_context(li):\n",
        "    res = client.models.generate_content(\n",
        "    model='gemini-2.0-flash',\n",
        "    config=types.GenerateContentConfig(\n",
        "        max_output_tokens=6000,\n",
        "        temperature=1),\n",
        "    contents=f'''\n",
        "    đóng vai là khách hàng nhắn tin cho chatbot của bệnh viện, cho danh sách 100 số điện thoại của khách hàng {li}\n",
        "    nhiệm vụ của bạn là đưa ra 100 tin nhắn thật ngắn gọn, formal, NỘI DUNG LÀ KHÁCH HÀNG ĐỒNG Ý, XÁC NHẬN LẠI THÔNG TIN\n",
        "    và bắt buộc phải cung cấp thêm số điện thoại của khách hàng ở trong danh sách (ví dụ: sdt chú là, số chị là, só anh là)\n",
        "    hãy bổ sung tin nhắn thật đa dạng kèm theo số điện thoại đúng như định dạng trong danh sách, không được thay đổi\n",
        "    tin nhắn không được chứa thông tin về tên khách hàng, tên bệnh viện, tên bác sĩ, ngày sinh, triệu chứng, không chứa dấu chấm than\n",
        "    không được chứa thông tin về chuyên khoa, tên phòng khám, khoa khám\n",
        "    giữ nguyên định dạng số điện thoại đầu vào, không được thay đổi, phải giữ nguyên số điện thoại truyền vào\n",
        "    định dạng câu trả lời của bạn là tất cả tin nhắn nằm trong ngoặc vuông như sau, hãy tuân thủ định dạng: [message 1], [message 2],\n",
        "    [message 3], [message 4], [message 5], [message 6], [message 7], [message 8], [message 9], [message 10], ... [message 100]\n",
        "    các tin nhắn phải ngắn và khác nhau\n",
        "    viết tắt (anh là \"a\", em là \"e\", chị là \"c\", tôi là \"t\", mình là \"m\" số điện thoại là \"sdt\")\n",
        "    không sử dụng từ \"tôi\", \"mình\"\n",
        "    ''',\n",
        "    )\n",
        "    res = res.candidates[0].content.parts[0].text\n",
        "    print(res)\n",
        "    return res"
      ],
      "metadata": {
        "id": "R9z7Bb9g1WYe"
      },
      "execution_count": null,
      "outputs": []
    },
    {
      "cell_type": "code",
      "source": [
        "# sinh sdt sai có chữ\n",
        "import random\n",
        "\n",
        "def generate_incorrect_sample():\n",
        "    l = ['032', '033', '034', '035', '036', '037', '038', '039', '096', '097', '098', '086', '083', '084',\n",
        "         '085', '081', '082', '088', '091', '094', '070', '079', '077', '076', '078', '090', '093', '089',\n",
        "         '056', '058', '092', '059', '099']\n",
        "    nums = ['không', 'một', 'hai', 'ba', 'bốn', 'năm', 'sáu', 'bảy', 'tám', 'chín'\n",
        "    ' 0', ' 1', ' 2', ' 3', ' 4', ' 5', ' 6', ' 7', ' 8', ' 9',\n",
        "    ' không', ' một', ' hai', ' ba', ' bốn', ' năm', ' sáu', ' bảy', ' tám', ' chín',\n",
        "    '0', '1', '2', '3', '4', '5', '6', '7', '8', '9']\n",
        "    sdt = str(random.choice(l))\n",
        "    for i in range(7):\n",
        "      num = random.choice(nums)\n",
        "      sdt = sdt + num\n",
        "\n",
        "    return sdt\n",
        "    # sdt_ctx = add_context(sdt_num)\n",
        "\n",
        "    # return {\n",
        "    #     \"sdt\": sdt,\n",
        "    #     \"sdt_ctx\": sdt_ctx,\n",
        "    # }"
      ],
      "metadata": {
        "id": "KbH8_Rr30oX8"
      },
      "execution_count": null,
      "outputs": []
    },
    {
      "cell_type": "code",
      "source": [
        "# chuyển về dạng số để trích xuất biến\n",
        "def to_num(sdt):\n",
        "  sdt_num = sdt\n",
        "\n",
        "  sdt_num = sdt.replace(\"không\", \"0\")\n",
        "  sdt_num = sdt_num.replace(\"một\", \"1\")\n",
        "  sdt_num = sdt_num.replace(\"hai\", \"2\")\n",
        "  sdt_num = sdt_num.replace(\"ba\", \"3\")\n",
        "  sdt_num = sdt_num.replace(\"bốn\", \"4\")\n",
        "  sdt_num = sdt_num.replace(\"năm\", \"5\")\n",
        "  sdt_num = sdt_num.replace(\"sáu\", \"6\")\n",
        "  sdt_num = sdt_num.replace(\"bảy\", \"7\")\n",
        "  sdt_num = sdt_num.replace(\"tám\", \"8\")\n",
        "  sdt_num = sdt_num.replace(\"chín\", \"9\")\n",
        "  sdt_num = sdt_num.replace(\" không\", \"0\")\n",
        "  sdt_num = sdt_num.replace(\" một\", \"1\")\n",
        "  sdt_num = sdt_num.replace(\" hai\", \"2\")\n",
        "  sdt_num = sdt_num.replace(\" ba\", \"3\")\n",
        "  sdt_num = sdt_num.replace(\" bốn\", \"4\")\n",
        "  sdt_num = sdt_num.replace(\" năm\", \"5\")\n",
        "  sdt_num = sdt_num.replace(\" sáu\", \"6\")\n",
        "  sdt_num = sdt_num.replace(\" bảy\", \"7\")\n",
        "  sdt_num = sdt_num.replace(\" tám\", \"8\")\n",
        "  sdt_num = sdt_num.replace(\" chín\", \"9\")\n",
        "  sdt_num = sdt_num.replace(\" 0\", \"0\")\n",
        "  sdt_num = sdt_num.replace(\" 1\", \"1\")\n",
        "  sdt_num = sdt_num.replace(\" 2\", \"2\")\n",
        "  sdt_num = sdt_num.replace(\" 3\", \"3\")\n",
        "  sdt_num = sdt_num.replace(\" 4\", \"4\")\n",
        "  sdt_num = sdt_num.replace(\" 5\", \"5\")\n",
        "  sdt_num = sdt_num.replace(\" 6\", \"6\")\n",
        "  sdt_num = sdt_num.replace(\" 7\", \"7\")\n",
        "  sdt_num = sdt_num.replace(\" 8\", \"8\")\n",
        "  sdt_num = sdt_num.replace(\" 9\", \"9\")\n",
        "\n",
        "  return sdt_num"
      ],
      "metadata": {
        "id": "8m5qO3TU59dP"
      },
      "execution_count": null,
      "outputs": []
    },
    {
      "cell_type": "code",
      "source": [
        "# gen ra và append vào 1 list\n",
        "messages = []\n",
        "sdts = []\n",
        "sdt_nums = []\n",
        "message = ''\n",
        "\n",
        "for i in tqdm(range(1), total=1, desc=\"Generating samples\"):\n",
        "  for i in range(100):\n",
        "    sdt = generate_incorrect_sample()\n",
        "    sdt_num = to_num(sdt)\n",
        "    sdts.append(sdt)\n",
        "    sdt_nums.append(sdt_num)\n",
        "  mes = add_context(sdts)\n",
        "  message = message + mes"
      ],
      "metadata": {
        "id": "TVUFtOZ78Aos"
      },
      "execution_count": null,
      "outputs": []
    },
    {
      "cell_type": "code",
      "source": [
        "message"
      ],
      "metadata": {
        "collapsed": true,
        "id": "Ed8hmoLIC4vE"
      },
      "execution_count": null,
      "outputs": []
    },
    {
      "cell_type": "code",
      "source": [
        "# format lại cho vào dataframe\n",
        "s = message"
      ],
      "metadata": {
        "id": "lddeKcvq6gZJ"
      },
      "execution_count": null,
      "outputs": []
    },
    {
      "cell_type": "code",
      "source": [
        "s = s.replace('\"', '')\n",
        "s = s.replace(\"'\", \"\")\n",
        "s = s.replace(\",\", \"\")\n",
        "s = s.replace(\"\\n\", \"\")\n",
        "s = s[3:-3]"
      ],
      "metadata": {
        "id": "Cm7lrD3ZEvms"
      },
      "execution_count": null,
      "outputs": []
    },
    {
      "cell_type": "code",
      "source": [
        "s"
      ],
      "metadata": {
        "id": "55VYWWoWPx7s"
      },
      "execution_count": null,
      "outputs": []
    },
    {
      "cell_type": "code",
      "source": [
        "l = []\n",
        "flag = False\n",
        "for word in s.split():\n",
        "  if word[0] == '[':\n",
        "    sen = ''\n",
        "    flag = True\n",
        "  if word[-1] == ']':\n",
        "    sen = sen + ' ' + word\n",
        "    l.append(sen)\n",
        "    flag = False\n",
        "  if flag:\n",
        "    sen = sen + ' ' + word"
      ],
      "metadata": {
        "id": "netxO0FZE4f2"
      },
      "execution_count": null,
      "outputs": []
    },
    {
      "cell_type": "code",
      "source": [
        "for i in range(len(l)):\n",
        "  sen = l[i]\n",
        "  sen = sen[2:]\n",
        "  sen = sen[:-1]\n",
        "  l[i] = sen"
      ],
      "metadata": {
        "collapsed": true,
        "id": "O1ZEFs-hE6dJ"
      },
      "execution_count": null,
      "outputs": []
    },
    {
      "cell_type": "code",
      "source": [
        "len(l)"
      ],
      "metadata": {
        "id": "DMSVZeLOFRNf"
      },
      "execution_count": null,
      "outputs": []
    },
    {
      "cell_type": "code",
      "source": [
        "dic = {'message': l, 'sdt': sdts, 'sdt_num': sdt_nums}"
      ],
      "metadata": {
        "id": "VtzDuDtGFVjU"
      },
      "execution_count": null,
      "outputs": []
    },
    {
      "cell_type": "code",
      "source": [
        "sdf = pd.DataFrame(dic)"
      ],
      "metadata": {
        "id": "whn5l367FCIx"
      },
      "execution_count": null,
      "outputs": []
    },
    {
      "cell_type": "code",
      "source": [
        "df = pd.concat([df, sdf])"
      ],
      "metadata": {
        "id": "Lkncd4vEL8Ni"
      },
      "execution_count": null,
      "outputs": []
    },
    {
      "cell_type": "code",
      "source": [
        "len(df)"
      ],
      "metadata": {
        "id": "s1w2uKIAOMrY"
      },
      "execution_count": null,
      "outputs": []
    },
    {
      "cell_type": "code",
      "source": [
        "df = df.reset_index()"
      ],
      "metadata": {
        "collapsed": true,
        "id": "_NUG36fakJTJ"
      },
      "execution_count": null,
      "outputs": []
    },
    {
      "cell_type": "code",
      "source": [
        "df"
      ],
      "metadata": {
        "collapsed": true,
        "id": "IL1DwZeDswQs"
      },
      "execution_count": null,
      "outputs": []
    },
    {
      "cell_type": "code",
      "source": [
        "# cho vào file json\n",
        "import pandas as pd\n",
        "import json\n",
        "from tqdm import tqdm # Assuming tqdm is used elsewhere and needed\n",
        "\n",
        "def transform_json(input_df):\n",
        "    # Define the system content\n",
        "    system_content = \"\"\"Extracts the relevant information from the passage.\n",
        "{\"name\": \"information_extraction\", \"description\": \"Extracts the relevant information from the passage\",\n",
        "\"arguments\": [{\"name\": \"customer_name\", \"desc\": \"Customer's name\", \"type\": \"string\"},\n",
        "{\"name\": \"customer_phone\", \"desc\": \"Customer's phone number\", \"type\": \"string\"},\n",
        "{\"name\": \"medical_department\", \"desc\": \"Medical department or service information.\", \"type\": \"string\"},\n",
        "{\"name\": \"is_yes\", \"desc\": \"Can take two values:\\\\n- true (if the user confirms, agrees, says something affirmative, or expresses consent in any similar way.)\\\\n- false (if the user expresses the opposite, does not approve, disagrees, or shows any similar response.)\", \"type\": \"string\"},\n",
        "{\"name\": \"hospital_name\", \"desc\": \"Identify the name of the hospital, place or facility of Vinmec\", \"type\": \"string\"},\n",
        "{\"name\": \"customer_dob\", \"desc\": \"Extract the user's date of birth. Format DD-MM-YYYY. This value must be a date in the past.\", \"type\": \"string\"},\n",
        "{\"name\": \"customer_place\", \"desc\": \"Province/City provided by the customer\", \"type\": \"string\"},\n",
        "{\"name\": \"symptoms\", \"desc\": \"Identify and extract users' symptom information based on their messages\", \"type\": \"string\"},\n",
        "{\"name\": \"relationship\", \"desc\": \"Relationship to the person booking the appointment\", \"type\": \"string\"},\n",
        "{\"name\": \"appointment_date\", \"desc\": \"Medical appointment schedulling date based on the user's messages. remember extract by following format: DD-MM-YYYY. This value must be a date in the future. \\\\nExample: 1999-04-24 -> 24-04-1999\", \"type\": \"string\"},\n",
        "{\"name\": \"appointment_time\", \"desc\": \"Medical appointment schedulling time based on the user's messages. The time frame will follow a 24-hour format and the time zone is GMT+7 follow this format: HH:mm\", \"type\": \"string\"}, \\\n",
        "{\"name\": \"cancel_num\", \"desc\": \"Identify number from the user's message. The user may express them as words (one, two,...) or digits (1, 2,...) in Vietnamese. If the user provides words, convert them to digits. Accepted values range from 1 to 10.\", \"type\": \"string\"}]}\"\"\"\n",
        "\n",
        "    input_data = input_df\n",
        "\n",
        "    input_data.astype('object').dtypes\n",
        "\n",
        "    # Initialize output array\n",
        "    output = []\n",
        "\n",
        "    # Process each entry using iterrows() to get (index, row)\n",
        "    for index, entry in input_data.iterrows():\n",
        "        sdt = entry['sdt_num']\n",
        "        sdt_ctx = entry['message']\n",
        "\n",
        "        # Create the subarray for this entry\n",
        "        transformed_entry = [\n",
        "            {\n",
        "                \"role\": \"system\",\n",
        "                \"content\": system_content\n",
        "            },\n",
        "            {\n",
        "                \"role\": \"user\",\n",
        "                \"content\": sdt_ctx\n",
        "            },\n",
        "            {\n",
        "                \"role\": \"assistant\",\n",
        "                \"content\": f\"<functioncall> {{'name': 'information_extraction', 'arguments': {{'customer_phone': '{sdt}'}}}}\"\n",
        "            }\n",
        "        ]\n",
        "\n",
        "        output.append(transformed_entry)\n",
        "\n",
        "    return output\n"
      ],
      "metadata": {
        "id": "DoliHDBX6iLi"
      },
      "execution_count": null,
      "outputs": []
    },
    {
      "cell_type": "code",
      "source": [
        "# Run the transformation\n",
        "result = transform_json(df)\n",
        "\n",
        "# Optionally, save the output to a file\n",
        "with open('df.json', 'w', encoding='utf-8') as f:\n",
        "    json.dump(result, f, ensure_ascii=False, indent=2)"
      ],
      "metadata": {
        "id": "QwBvHsLF1qR4"
      },
      "execution_count": null,
      "outputs": []
    },
    {
      "cell_type": "code",
      "source": [],
      "metadata": {
        "id": "xQHQDNeJGJEe"
      },
      "execution_count": null,
      "outputs": []
    }
  ],
  "metadata": {
    "colab": {
      "collapsed_sections": [
        "h3sjkOaOCoFI",
        "FNvopUK8Cenh",
        "_I4xAvvnBBZw",
        "gF492cifELZS",
        "604xEnm0tMJx",
        "xde02DjdOfls",
        "xWb46y66uNyv",
        "B-f8Yxksn8UN",
        "YK7UY3JPoAMt",
        "JNmspdyHoGDj",
        "0W3jKxVIoJC6",
        "npbwuzBloWcU",
        "cNnex0dKsZqT",
        "hPVzcsIzT1_2",
        "Rr7o6j0MMfWz",
        "FCvrG41OMkay",
        "7wDdQkTpMqz0",
        "ZMpnIWH0MuBk",
        "cdu-2GzHMwdw",
        "O-SeiflHM0Fe"
      ],
      "provenance": []
    },
    "kernelspec": {
      "display_name": "Python 3",
      "name": "python3"
    },
    "language_info": {
      "name": "python"
    }
  },
  "nbformat": 4,
  "nbformat_minor": 0
}