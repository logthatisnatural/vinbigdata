{
  "nbformat": 4,
  "nbformat_minor": 0,
  "metadata": {
    "colab": {
      "provenance": []
    },
    "kernelspec": {
      "name": "python3",
      "display_name": "Python 3"
    },
    "language_info": {
      "name": "python"
    }
  },
  "cells": [
    {
      "cell_type": "code",
      "source": [
        "# để setting hiện đầy đủ, không cắt ngắn, chỉnh display option\n",
        "\n",
        "import pandas as pd\n",
        "pd.set_option('display.max_rows', None)\n",
        "pd.set_option('display.max_columns', None)\n",
        "pd.set_option('display.width', None)\n",
        "pd.set_option('display.max_colwidth', None)"
      ],
      "metadata": {
        "id": "EQ0w0BhaESSC"
      },
      "execution_count": null,
      "outputs": []
    },
    {
      "cell_type": "code",
      "source": [
        "# df chứa system, user, assistant, user1, user2, missing_query\n",
        "df = pd.read_csv('df.csv')"
      ],
      "metadata": {
        "id": "QxuNJZv5BKxr"
      },
      "execution_count": null,
      "outputs": []
    },
    {
      "cell_type": "code",
      "source": [
        "len(df)"
      ],
      "metadata": {
        "colab": {
          "base_uri": "https://localhost:8080/"
        },
        "id": "8Bce3VM9DL3a",
        "outputId": "7439ee52-bbc8-49bd-cc05-9219cfbd65bc"
      },
      "execution_count": null,
      "outputs": [
        {
          "output_type": "execute_result",
          "data": {
            "text/plain": [
              "5454"
            ]
          },
          "metadata": {},
          "execution_count": 5
        }
      ]
    },
    {
      "cell_type": "code",
      "source": [
        "# chia missing_query thành các file text 100 query"
      ],
      "metadata": {
        "id": "NHgkU5SgBcPu"
      },
      "execution_count": null,
      "outputs": []
    },
    {
      "cell_type": "code",
      "source": [
        "from pathlib import Path\n",
        "import zipfile\n",
        "\n",
        "output_dir = Path(\"another_chunk\")\n",
        "output_dir.mkdir(exist_ok=True)\n",
        "chunk_size = 200\n",
        "column_name = 'user1'\n",
        "\n",
        "for i in range(0, len(df), chunk_size):\n",
        "    chunk = df[column_name].iloc[i : i + chunk_size]\n",
        "    file_path = output_dir / f\"another_chunk{i // chunk_size}.txt\"\n",
        "    with open(file_path, 'w', encoding='utf-8') as f:\n",
        "        # Write each non-null value from the chunk to a new line\n",
        "        for item in chunk.dropna():\n",
        "            f.write(str(item) + '\\n')\n",
        "\n",
        "zip_file_name = 'another_chunk.zip'\n",
        "with zipfile.ZipFile(zip_file_name, 'w') as zipf:\n",
        "    for file in output_dir.iterdir():\n",
        "        zipf.write(file, arcname=file.name)\n",
        "\n",
        "print(f\"Files created in '{output_dir}' and zipped into '{zip_file_name}'\")"
      ],
      "metadata": {
        "colab": {
          "base_uri": "https://localhost:8080/"
        },
        "id": "tnwO4HzSKbRq",
        "outputId": "03fe6286-3489-4f01-b78c-51ff581100e1"
      },
      "execution_count": null,
      "outputs": [
        {
          "output_type": "stream",
          "name": "stdout",
          "text": [
            "Files created in 'another_chunk' and zipped into 'another_chunk.zip'\n"
          ]
        }
      ]
    },
    {
      "cell_type": "code",
      "source": [
        "\n",
        "output_dir = Path(\"user1_chunks\")\n",
        "output_dir.mkdir(exist_ok=True)\n",
        "\n",
        "chunk_size = 200\n",
        "column_name = 'user1'\n",
        "\n",
        "for i in range(0, len(df), chunk_size):\n",
        "    chunk = df[column_name].iloc[i : i + chunk_size]\n",
        "    file_path = output_dir / f\"another_user_chunk{i // chunk_size}.txt\"\n",
        "    with open(file_path, 'w', encoding='utf-8') as f:\n",
        "        # Write each non-null value from the chunk to a new line\n",
        "        for item in chunk.dropna():\n",
        "            f.write(str(item) + '\\n')\n",
        "\n",
        "zip_file_name = 'another_user_chunk.zip'\n",
        "with zipfile.ZipFile(zip_file_name, 'w') as zipf:\n",
        "    for file in output_dir.iterdir():\n",
        "        zipf.write(file, arcname=file.name)\n",
        "\n",
        "print(f\"Files created in '{output_dir}' and zipped into '{zip_file_name}'\")"
      ],
      "metadata": {
        "colab": {
          "base_uri": "https://localhost:8080/"
        },
        "id": "ALVqhvt6DJVo",
        "outputId": "0db5003c-3c0e-412d-c787-00c54745c95b"
      },
      "execution_count": null,
      "outputs": [
        {
          "output_type": "stream",
          "name": "stdout",
          "text": [
            "Files created in 'user1_chunks' and zipped into 'another_user_chunk.zip'\n"
          ]
        }
      ]
    },
    {
      "cell_type": "code",
      "source": [
        "# gemini\n",
        "\n",
        "'''\n",
        "đóng vai là trợ lý nhắn tin cho khách hàng của bệnh viện, mỗi tin nhắn phải nằm trong ngoặc vuông\n",
        "     định dạng câu trả lời của bạn như sau, hãy tuân thủ định dạng: [message 1] [message 2]\n",
        "     [message 3] [message 4] [message 5] [message 6] [message 7] [message 8] [message 9] [message 10] ... [message 100] trả về dưới dạng markdown trong code cell\n",
        "     giữa các tin nhắn không có dấu phẩy\n",
        "     cho danh sách 100 tin nhắn của khách hàng, nhiệm vụ của bạn là  đưa ra 100 tin nhắn ngắn gọn\n",
        "     YÊU CẦU KHÁCH HÀNG CUNG CẤP ĐẦY ĐỦ THÔNG TIN VỀ SỐ ĐIỆN THOẠI, HIỆN TẠI SỐ ĐIỆN THOẠI KHÁCH HÀNG ĐANG ĐƯA BỊ THIẾU\n",
        "     nếu khách hàng trong tin nhắn xưng là em, gọi khách hàng là em, xưng hô là anh hoặc chị\n",
        "     nếu khách hàng trong tin nhắn xưng là anh, gọi khách hàng là anh, xưng hô là em\n",
        "     nếu khách hàng trong tin nhắn xưng là chị, gọi khách hàng là chị, xưng hô là em\n",
        "     nếu khách hàng trong tin nhắn xưng là chú, gọi khách hàng là chú, xưng hô là cháu\n",
        "     nếu khách hàng trong tin nhắn xưng là bác, gọi khách hàng là bác, xưng hô là cháu\n",
        "     nếu khách hàng trong tin nhắn xưng là cô, gọi khách hàng là cô, xưng hô là cháu\n",
        "     nếu khách hàng trong tin nhắn xưng là tôi, bạn, mình, gọi khách hàng là bạn, xưng hô là mình\n",
        "     chỉ đưa ra tin nhắn, không cần giải thích gì thêm\n",
        "     hãy đa dạng các tin nhắn, các mở chào hỏi mở đầu câu, đảm bảo không có tin nhắn giống nhau, trong tin nhắn không chứa số điện thoại, chỉ yêu cầu cung cấp đầy đủ sdt\n",
        " dưới đây là 100 tin nhắn, mỗi tin nhắn nằm trên 1 dòng, đảm bảo đúng 100 tin nhắn khớp với 100 tin nhắn đầu vào\n",
        "'''\n",
        "\n"
      ],
      "metadata": {
        "id": "9NmYqhYVBjw2"
      },
      "execution_count": null,
      "outputs": []
    },
    {
      "cell_type": "code",
      "source": [
        "# copy lại vào dataframe\n",
        "\n",
        "s = '''\n",
        "[Chào em, anh/chị cần em cung cấp đủ số điện thoại để hỗ trợ nhé.] [Chào em, số điện thoại của em đang thiếu đó, em bổ sung giúp anh/chị nha.] [Chào em, em cho anh/chị xin lại số điện thoại đầy đủ để tiện liên lạc nha.] [Chào em, số điện thoại này chưa đủ, em vui lòng bổ sung để anh/chị tư vấn nhé.] [Chào em, để anh/chị hỗ trợ tốt nhất, em vui lòng cung cấp đủ số điện thoại nha.] [Chào em, số điện thoại em gửi chưa đủ, em kiểm tra lại giúp anh/chị nhé.] [Chào em, em bổ sung đủ số điện thoại để anh/chị tiện liên hệ nhé.] [Chào em, số điện thoại em vừa cung cấp còn thiếu, em hoàn thiện giúp anh/chị nhé.] [Chào em, anh/chị cần số điện thoại đầy đủ để hỗ trợ em nha.] [Chào em, em vui lòng cung cấp đủ số điện thoại để anh/chị liên lạc lại nhé.] [Chào em, số điện thoại này chưa đủ, em bổ sung thêm giúp anh/chị nha.] [Chào em, để anh/chị tư vấn cụ thể, em vui lòng gửi đủ số điện thoại nhé.] [Chào em, anh/chị chưa nhận được đủ số điện thoại của em, em bổ sung nhé.] [Chào em, em vui lòng cung cấp số điện thoại đầy đủ để anh/chị hỗ trợ sớm nhất nha.] [Chào em, số điện thoại em gửi còn thiếu, em bổ sung giúp anh/chị nhé.] [Chào em, anh/chị cần đủ số điện thoại để liên hệ, em vui lòng bổ sung nha.] [Chào em, em vui lòng cung cấp lại số điện thoại đầy đủ để anh/chị tư vấn nhé.] [Chào em, số điện thoại này chưa đủ, em bổ sung đủ giúp anh/chị nha.] [Chào em, để anh/chị liên hệ, em vui lòng cung cấp đủ số điện thoại nhé.] [Chào em, số điện thoại em gửi còn thiếu, em kiểm tra lại giúp anh/chị nhé.] [Chào em, anh/chị cần em cung cấp đủ số điện thoại để hỗ trợ em nha.] [Chào em, số điện thoại của em đang thiếu đó, em bổ sung giúp anh/chị nhé.] [Chào em, em cho anh/chị xin lại số điện thoại đầy đủ để tiện liên lạc nha.] [Chào em, số điện thoại này chưa đủ, em vui lòng bổ sung để anh/chị tư vấn nhé.] [Chào em, để anh/chị hỗ trợ tốt nhất, em vui lòng cung cấp đủ số điện thoại nha.] [Chào em, số điện thoại em gửi chưa đủ, em kiểm tra lại giúp anh/chị nhé.] [Chào em, em bổ sung đủ số điện thoại để anh/chị tiện liên hệ nhé.] [Chào em, số điện thoại em vừa cung cấp còn thiếu, em hoàn thiện giúp anh/chị nhé.] [Chào em, anh/chị cần số điện thoại đầy đủ để hỗ trợ em nha.] [Chào em, em vui lòng cung cấp đủ số điện thoại để anh/chị liên lạc lại nhé.] [Chào em, số điện thoại này chưa đủ, em bổ sung thêm giúp anh/chị nha.] [Chào em, để anh/chị tư vấn cụ thể, em vui lòng gửi đủ số điện thoại nhé.] [Chào em, anh/chị chưa nhận được đủ số điện thoại của em, em bổ sung nhé.] [Chào em, em vui lòng cung cấp số điện thoại đầy đủ để anh/chị hỗ trợ sớm nhất nha.] [Chào em, số điện thoại em gửi còn thiếu, em bổ sung giúp anh/chị nhé.] [Chào em, anh/chị cần đủ số điện thoại để liên hệ, em vui lòng bổ sung nha.] [Chào em, em vui lòng cung cấp lại số điện thoại đầy đủ để anh/chị tư vấn nhé.] [Chào em, số điện thoại này chưa đủ, em bổ sung đủ giúp anh/chị nha.] [Chào em, để anh/chị liên hệ, em vui lòng cung cấp đủ số điện thoại nhé.] [Chào em, số điện thoại em gửi còn thiếu, em kiểm tra lại giúp anh/chị nhé.] [Chào em, anh/chị cần em cung cấp đủ số điện thoại để hỗ trợ nhé.] [Chào em, số điện thoại của em đang thiếu đó, em bổ sung giúp anh/chị nha.] [Chào em, em cho anh/chị xin lại số điện thoại đầy đủ để tiện liên lạc nha.] [Chào em, số điện thoại này chưa đủ, em vui lòng bổ sung để anh/chị tư vấn nhé.] [Chào em, để anh/chị hỗ trợ tốt nhất, em vui lòng cung cấp đủ số điện thoại nha.] [Chào em, số điện thoại em gửi chưa đủ, em kiểm tra lại giúp anh/chị nhé.] [Chào em, em bổ sung đủ số điện thoại để anh/chị tiện liên hệ nhé.] [Chào em, số điện thoại em vừa cung cấp còn thiếu, em hoàn thiện giúp anh/chị nhé.] [Chào em, anh/chị cần số điện thoại đầy đủ để hỗ trợ em nha.] [Chào em, em vui lòng cung cấp đủ số điện thoại để anh/chị liên lạc lại nhé.] [Chào em, số điện thoại này chưa đủ, em bổ sung thêm giúp anh/chị nha.] [Chào em, để anh/chị tư vấn cụ thể, em vui lòng gửi đủ số điện thoại nhé.] [Chào em, anh/chị chưa nhận được đủ số điện thoại của em, em bổ sung nhé.] [Chào em, em vui lòng cung cấp số điện thoại đầy đủ để anh/chị hỗ trợ sớm nhất nha.] [Chào em, số điện thoại em gửi còn thiếu, em bổ sung giúp anh/chị nhé.] [Chào em, anh/chị cần đủ số điện thoại để liên hệ, em vui lòng bổ sung nha.] [Chào em, em vui lòng cung cấp lại số điện thoại đầy đủ để anh/chị tư vấn nhé.] [Chào em, số điện thoại này chưa đủ, em bổ sung đủ giúp anh/chị nha.] [Chào em, để anh/chị liên hệ, em vui lòng cung cấp đủ số điện thoại nhé.] [Chào em, số điện thoại em gửi còn thiếu, em kiểm tra lại giúp anh/chị nhé.] [Chào em, anh/chị cần em cung cấp đủ số điện thoại để hỗ trợ nhé.] [Chào em, số điện thoại của em đang thiếu đó, em bổ sung giúp anh/chị nha.] [Chào em, em cho anh/chị xin lại số điện thoại đầy đủ để tiện liên lạc nha.] [Chào em, số điện thoại này chưa đủ, em vui lòng bổ sung để anh/chị tư vấn nhé.] [Chào em, để anh/chị hỗ trợ tốt nhất, em vui lòng cung cấp đủ số điện thoại nha.] [Chào em, số điện thoại em gửi chưa đủ, em kiểm tra lại giúp anh/chị nhé.] [Chào em, em bổ sung đủ số điện thoại để anh/chị tiện liên hệ nhé.]\n",
        "'''"
      ],
      "metadata": {
        "id": "RsGlNNrbBvtx"
      },
      "execution_count": null,
      "outputs": []
    },
    {
      "cell_type": "code",
      "source": [
        "s = s.replace(\"\\n\", \"\")"
      ],
      "metadata": {
        "id": "nuKfD3APEoj3"
      },
      "execution_count": null,
      "outputs": []
    },
    {
      "cell_type": "code",
      "source": [
        "response = []"
      ],
      "metadata": {
        "id": "uBLAvdpHIuFP"
      },
      "execution_count": null,
      "outputs": []
    },
    {
      "cell_type": "code",
      "source": [
        "# responses = response"
      ],
      "metadata": {
        "id": "Xsf4de0MXYuN"
      },
      "execution_count": null,
      "outputs": []
    },
    {
      "cell_type": "code",
      "source": [
        "flag = False\n",
        "for word in s.split():\n",
        "  if word[0] == '[':\n",
        "    sen = ''\n",
        "    flag = True\n",
        "  if word[-1] == ']':\n",
        "    sen = sen + ' ' + word\n",
        "    response.append(sen)\n",
        "    flag = False\n",
        "  if flag:\n",
        "    sen = sen + ' ' + word"
      ],
      "metadata": {
        "id": "LPq8Pyf-Er_d"
      },
      "execution_count": null,
      "outputs": []
    },
    {
      "cell_type": "code",
      "source": [
        "len(response)"
      ],
      "metadata": {
        "colab": {
          "base_uri": "https://localhost:8080/"
        },
        "id": "bawxgsoVEzQj",
        "outputId": "45a6e5e4-97b1-497f-99f7-2a2f773aa602"
      },
      "execution_count": null,
      "outputs": [
        {
          "output_type": "execute_result",
          "data": {
            "text/plain": [
              "67"
            ]
          },
          "metadata": {},
          "execution_count": 2170
        }
      ]
    },
    {
      "cell_type": "code",
      "source": [
        "response"
      ],
      "metadata": {
        "id": "7BtKVVvdlGr_"
      },
      "execution_count": null,
      "outputs": []
    },
    {
      "cell_type": "code",
      "source": [
        "response = [item.strip(\"[] \") for item in response]"
      ],
      "metadata": {
        "id": "DgxRdMqZHsoc"
      },
      "execution_count": null,
      "outputs": []
    },
    {
      "cell_type": "code",
      "source": [
        "responses.extend(response)"
      ],
      "metadata": {
        "id": "xqN3hxBlXhN8"
      },
      "execution_count": null,
      "outputs": []
    },
    {
      "cell_type": "code",
      "source": [
        "len(responses)"
      ],
      "metadata": {
        "colab": {
          "base_uri": "https://localhost:8080/"
        },
        "id": "z1DHfzAvIAqM",
        "outputId": "c2eb4d59-fa6a-4eeb-88da-5e485d4f64ca"
      },
      "execution_count": null,
      "outputs": [
        {
          "output_type": "execute_result",
          "data": {
            "text/plain": [
              "5767"
            ]
          },
          "metadata": {},
          "execution_count": 2181
        }
      ]
    },
    {
      "cell_type": "code",
      "source": [
        "len(df['user1'])"
      ],
      "metadata": {
        "colab": {
          "base_uri": "https://localhost:8080/"
        },
        "id": "HYRUnlmjCdIU",
        "outputId": "652b4395-e24d-4c65-8e9c-9cd773c7caee"
      },
      "execution_count": null,
      "outputs": [
        {
          "output_type": "execute_result",
          "data": {
            "text/plain": [
              "5767"
            ]
          },
          "metadata": {},
          "execution_count": 2175
        }
      ]
    },
    {
      "cell_type": "code",
      "source": [
        "df['response'] = responses"
      ],
      "metadata": {
        "id": "cHfxq7gODcnX"
      },
      "execution_count": null,
      "outputs": []
    },
    {
      "cell_type": "code",
      "source": [
        "# trích xuất ra sdt bị thiếu"
      ],
      "metadata": {
        "id": "-FbeGO5NDiob"
      },
      "execution_count": null,
      "outputs": []
    },
    {
      "cell_type": "code",
      "source": [
        "'''\n",
        "cho 400 tin nhắn với số điện thoại, nhiệm vụ của bạn là trích xuất ra 400 số điện thoại trong 400 tin nhắn, lưu ý là số điện thoại trong tin nhắn có thể dưới dạng chữ, hãy đảm bảo trích xuất đúng như trong tin nhắn\n",
        "định dạng câu trả lời của bạn như sau, mỗi số nằm trong một ngoặc vuông, hãy tuân thủ định dạng: [number 1] [number 2]\n",
        "[number 3] [number 4] [number 5] [number 6] [number 7] [number 8] [number 9] [number 10] ... [number 400] trả về các số trích xuất được dưới dạng markdown trong code cell\n",
        "giữa các số không có dấu phẩy , đảm bảo trích xuất đúng như trong tin nhắn, không viết code, phải trích xuất thủ công\n",
        "'''"
      ],
      "metadata": {
        "colab": {
          "base_uri": "https://localhost:8080/",
          "height": 70
        },
        "collapsed": true,
        "id": "yXpvop0PHG3u",
        "outputId": "475490f0-876d-465c-930a-148929a84ddb"
      },
      "execution_count": null,
      "outputs": [
        {
          "output_type": "execute_result",
          "data": {
            "text/plain": [
              "'\\ncho 200 tin nhắn với số điện thoại, nhiệm vụ của bạn là trích xuất ra 200 số điện thoại trong tin nhắn, lưu ý là số điện thoại trong tin nhắn có thể dưới dạng chữ, hãy đảm bảo trích xuất đúng như trong tin nhắn\\xa0\\nđịnh dạng câu trả lời của bạn như sau, mỗi số nằm trong một ngoặc vuông, hãy tuân thủ định dạng: [number 1] [number 2]\\xa0\\n[number 3] [number 4] [number 5] [number 6] [number 7] [number 8] [number 9] [number 10] ... [number 200] trả về dưới dạng markdown trong code cell\\xa0\\ngiữa các số không có dấu phẩy\\xa0, đảm bảo trích xuất đúng như trong tin nhắn\\n'"
            ],
            "application/vnd.google.colaboratory.intrinsic+json": {
              "type": "string"
            }
          },
          "metadata": {},
          "execution_count": 1
        }
      ]
    },
    {
      "cell_type": "code",
      "source": [
        "s = '''\n",
        "[0592] [0840] [07868130] [08] [03] [0588373] [036972838] [0388001] [03] [0961] [082] [0796143] [0903310] [08] [079559205] [058] [0566] [0] [0856] [09983] [09816] [037] [09380] [03555] [0921] [039] [0949919] [09773] [08299] [088] [036] [0386] [07] [0896585] [082740] [0779172640] [097965758] [03842] [05] [09359] [0999] [08561572] [078] [035] [089] [081] [09484] [0773] [070] [089646] [07] [099950] [088443] [08] [0561755] [08343] [034] [09] [070] [034] [079] [09303586] [092859513] [076362] [0] [083921] [079501] [03] [058] [097460] [03716] [0991] [097681] [059] [587419281] [0909145695] [03648] [3865435] [0867] [08616] [097000262] [03430630] [09871274] [03226] [097] [8] [056] [0353] [07690] [07735] [059519] [03721] [3477] [0] [03866097] [083508] [36672999] [09913108] [0371770] [09] [08] [9910] [0768] [037] [088] [0] [07] [77317] [086702] [03707] [07] [09981061] [09] [0976702] [0790] [0332] [084333] [3918898] [07] [08] [07] [0] [3488123] [037] [0365691] [09929] [0830] [0858] [09972] [098] [83354373] [09] [0773158] [032804] [07602] [0846] [086] [0911] [0372] [092] [897920273] [034] [0996] [08810431] [09] [0366] [09749842] [0912] [036015] [0591] [092153] [0896] [0866] [05649] [0586] [0333487] [078978] [090317396] [097690] [08179383] [089] [0] [094094] [03733] [03680342] [093] [0390] [03532611] [03755] [098] [0333] [091] [05906100] [082] [08660] [324] [03585113] [077678828] [8821] [08447] [076] [086721] [38151] [08461] [093] [0337] [942177754] [03541225] [05667] [0890080] [05631] [776268675] [03453623] [0338330284] [76910] [09729097334] [08579] [084701369] [812] [0930530] [05907917] [3285] [088] [3898269] [0364] [0384273] [79063032] [076] [82611] [094] [09874] [339846] [03] [842523] [097241] [08455] [3651899] [0701] [9109] [039] [059] [708] [03] [0783] [989] [033144] [91924267] [0963696] [763] [033455] [098] [77645] [03834] [900] [0326] [324] [03] [776322921] [08] [0597259] [977079] [09] [969527] [0977] [798817791] [08602810] [0329398174] [94] [096] [59725] [085] [082] [32870] [097] [841] [05] [78832598] [089] [09149] [88] [037] [5854] [082512] [92800] [083] [07879] [960]\n",
        "'''"
      ],
      "metadata": {
        "id": "gnUfC6H8Sd5t"
      },
      "execution_count": null,
      "outputs": []
    },
    {
      "cell_type": "code",
      "source": [
        "s = s.replace(\"\\n\", \"\")"
      ],
      "metadata": {
        "id": "nCUh7TKsSd5y"
      },
      "execution_count": null,
      "outputs": []
    },
    {
      "cell_type": "code",
      "source": [
        "number = []"
      ],
      "metadata": {
        "id": "U7Ab8Eh0Sd5y"
      },
      "execution_count": null,
      "outputs": []
    },
    {
      "cell_type": "code",
      "source": [
        "flag = False\n",
        "for word in s.split():\n",
        "  if word[0] == '[':\n",
        "    sen = ''\n",
        "    flag = True\n",
        "  if word[-1] == ']':\n",
        "    sen = sen + ' ' + word\n",
        "    number.append(sen)\n",
        "    flag = False\n",
        "  if flag:\n",
        "    sen = sen + ' ' + word"
      ],
      "metadata": {
        "id": "0u6iXcVyn8ru"
      },
      "execution_count": null,
      "outputs": []
    },
    {
      "cell_type": "code",
      "source": [
        "number = [item.strip(\"[] \") for item in number]"
      ],
      "metadata": {
        "id": "JdebnBlfnoup"
      },
      "execution_count": null,
      "outputs": []
    },
    {
      "cell_type": "code",
      "source": [
        "len(number)"
      ],
      "metadata": {
        "colab": {
          "base_uri": "https://localhost:8080/"
        },
        "outputId": "2b4fae25-fec8-445e-d400-f7f891365ef6",
        "id": "usVGlmK2Sd5y"
      },
      "execution_count": null,
      "outputs": [
        {
          "output_type": "execute_result",
          "data": {
            "text/plain": [
              "267"
            ]
          },
          "metadata": {},
          "execution_count": 277
        }
      ]
    },
    {
      "cell_type": "code",
      "source": [
        "number"
      ],
      "metadata": {
        "id": "GNhUu-uqzz_5"
      },
      "execution_count": null,
      "outputs": []
    },
    {
      "cell_type": "code",
      "source": [
        "numbers.extend(number)"
      ],
      "metadata": {
        "id": "Z634llIcnXzs"
      },
      "execution_count": null,
      "outputs": []
    },
    {
      "cell_type": "code",
      "source": [
        "len(numbers)"
      ],
      "metadata": {
        "colab": {
          "base_uri": "https://localhost:8080/"
        },
        "id": "n6R7m7KSoLxF",
        "outputId": "7b7bbe37-8426-41a1-9e36-ad67dd39f25a"
      },
      "execution_count": null,
      "outputs": [
        {
          "output_type": "execute_result",
          "data": {
            "text/plain": [
              "5734"
            ]
          },
          "metadata": {},
          "execution_count": 282
        }
      ]
    },
    {
      "cell_type": "code",
      "source": [
        "numbers = numbers[:5467]"
      ],
      "metadata": {
        "id": "isKuC8TB95QE"
      },
      "execution_count": null,
      "outputs": []
    },
    {
      "cell_type": "code",
      "source": [
        "# prompt: chia list numbers vào thành các file text 400 dòng, zip lại vào file num\n",
        "from pathlib import Path\n",
        "import zipfile\n",
        "\n",
        "output_dir = Path(\"num_chunks\")\n",
        "output_dir.mkdir(exist_ok=True)\n",
        "chunk_size = 300\n",
        "\n",
        "# Assuming 'numbers' is the list of numbers you want to split into files\n",
        "for i in range(0, len(numbers), chunk_size):\n",
        "    chunk = numbers[i : i + chunk_size]\n",
        "    file_path = output_dir / f\"num_chunk{i // chunk_size}.txt\"\n",
        "    with open(file_path, 'w', encoding='utf-8') as f:\n",
        "        # Write each item in the chunk to a new line\n",
        "        for item in chunk:\n",
        "            f.write(str(item) + '\\n')\n",
        "\n",
        "zip_file_name = 'num.zip'\n",
        "with zipfile.ZipFile(zip_file_name, 'w') as zipf:\n",
        "    for file in output_dir.iterdir():\n",
        "        zipf.write(file, arcname=file.name)\n",
        "\n",
        "print(f\"Files created in '{output_dir}' and zipped into '{zip_file_name}'\")"
      ],
      "metadata": {
        "colab": {
          "base_uri": "https://localhost:8080/"
        },
        "id": "XtGVksUV97y5",
        "outputId": "b388f5c3-a570-4433-b41b-2097ca4b42a1"
      },
      "execution_count": null,
      "outputs": [
        {
          "output_type": "stream",
          "name": "stdout",
          "text": [
            "Files created in 'num_chunks' and zipped into 'num.zip'\n"
          ]
        }
      ]
    },
    {
      "cell_type": "code",
      "source": [
        "'''\n",
        "cho danh sách với 300 số dưới dạng chữ cái, nhiệm vụ của bạn là chuyển về dạng số\n",
        "định dạng câu trả lời của bạn như sau, mỗi số nằm trong một ngoặc vuông, hãy tuân thủ định dạng: [number 1] [number 2]\n",
        "[number 3] [number 4] [number 5] [number 6] [number 7] [number 8] [number 9] [number 10] ... [number 300] trả về các số trích xuất được dưới dạng markdown trong code cell\n",
        "giữa các số không có dấu phẩy , đảm bảo trích xuất đúng như trong danh sách đầu vào, không viết code, phải trích xuất thủ công\n",
        "dưới đây là 300 số, mỗi số ở trên 1 dòng, nếu xuống dòng thì đó là số khác, không được ghép 2 số vào nhau\n",
        "'''"
      ],
      "metadata": {
        "id": "sr85el5s-vEE"
      },
      "execution_count": null,
      "outputs": []
    },
    {
      "cell_type": "code",
      "source": [
        "# prompt: đọc từ file /content/num_chunk0.txt vào danh sách lines\n",
        "\n",
        "with open('/content/num_chunk0.txt', 'r', encoding='utf-8') as f:\n",
        "    lines = f.readlines()\n",
        "\n",
        "# Remove leading/trailing whitespace from each line\n",
        "lines = [line.strip() for line in lines]\n",
        "\n",
        "print(lines[:10]) # Print first 10 lines as a sample"
      ],
      "metadata": {
        "colab": {
          "base_uri": "https://localhost:8080/"
        },
        "id": "W-Pmc4ie_Mcy",
        "outputId": "f7b27452-d6ec-4174-d5f4-943d90ce60b6"
      },
      "execution_count": null,
      "outputs": [
        {
          "output_type": "stream",
          "name": "stdout",
          "text": [
            "['088 sáu', '0390 không haibốn', '037 50', '081', '094 chín bốn 8', '09', '037 chín bốnbảy8chín 0 8', '0765 1không sáu 7 2', '070 8 8chín 0 tám 6 chín', '0396112 bốn 8']\n"
          ]
        }
      ]
    },
    {
      "cell_type": "code",
      "source": [
        "s = '''\n",
        "[0917] [0341] [076] [096701] [059217784] [0321215] [09292] [081] [0338] [0582] [0931] [094339855] [081732] [0770] [0811] [0903] [09305583] [05611] [033692] [085] [03750] [03263] [086501] [08] [092] [039] [085510] [05923166] [090726] [079561] [0361778908] [076] [08688] [0979] [03648484] [0584] [09258804] [09173780] [070103] [03319] [056486] [091610] [09286496] [03699] [0987] [081] [038] [078903148] [035611] [0396] [0326] [096] [076] [09110] [0901] [05845] [0326428] [09816387] [093717] [0776] [0592295] [0361] [038908] [09404971] [0764] [03810] [0568] [082096] [0903] [099381] [070] [0867] [0932] [0894] [05823] [08131] [084690] [093732] [09008748] [0386] [0382371] [09488871] [0863549] [09678] [094] [07867] [08312] [09966] [0399855] [0843190] [086901] [07862] [0767228] [099] [05828087] [0562] [0565438210] [0921] [034662784] [09314] [0783341] [070314] [07943590] [070903] [0709] [08887293] [082919] [0985676] [034741] [0863573] [05681] [05916759] [0788900] [0969488] [07872415] [07031490] [056110621] [079458533] [082012] [098250] [0395002] [035361768] [07838121] [0344034] [07870971] [0773541] [035058] [09990198] [0795560] [03264383] [088955016] [09820622] [0835685] [0706485] [082266] [09374] [0337] [09650] [08601] [0960] [093440] [0762107] [0983474] [082421] [092864572] [07915839] [097462] [0355] [035020] [07672] [0887383] [089686] [09404] [09614] [0977] [036923] [059253] [089358] [070284] [088836] [0564] [03656] [076655] [0762590] [03618545] [0597143] [03741974] [05939334] [09626] [085417] [0598468] [059671537] [078435733] [0764562] [09272876] [08960] [056752] [033662] [033428690] [09193612] [099407] [07917] [09030716] [05856] [039760] [092558] [09883343] [03209] [09022390] [07876] [089900] [098116] [09322629] [0827063] [0899431] [0912] [0599387] [0329439] [0905189] [03973576] [0334452] [099803] [0397764] [0781118] [05678] [0926097] [098824] [097175] [098154] [07019060] [09611327] [036019] [0368843] [0336246] [099711] [03816169] [08817] [0379924] [0769] [07900] [081239] [035856] [0908588] [059554] [098525] [0860072] [09101] [0355357] [059345] [07632359] [08944] [03656] [0900] [05890] [092634] [035313] [0831] [0901] [07932] [03881] [08699] [078148] [0973] [07746] [0865] [097862] [03711] [033189] [0837] [08182] [08582] [03959] [0335] [05684] [0352353] [038701] [0362110] [0789] [08929] [082522] [0384113] [08329] [0765481] [09236] [094191] [03634] [0988358] [0700] [058699] [089712] [0918584] [058264] [0707469] [0768280] [036490934] [039562] [0897528] [09819] [070437] [08490] [0333590] [088488] [038241] [03690] [0948222] [0938126] [0996601] [05667] [076377] [0387271] [08431017] [083224] [033632808] [0581612] [085152] [0342345] [090231822] [03462249] [0798685] [0999]\n",
        "'''"
      ],
      "metadata": {
        "id": "44sSn-uI_ZtR"
      },
      "execution_count": null,
      "outputs": []
    },
    {
      "cell_type": "code",
      "source": [
        "s = s.replace(\"\\n\", \"\")"
      ],
      "metadata": {
        "id": "hCSgxabK_ZtS"
      },
      "execution_count": null,
      "outputs": []
    },
    {
      "cell_type": "code",
      "source": [
        "final_num = []"
      ],
      "metadata": {
        "id": "ASQRWPCq_ZtS"
      },
      "execution_count": null,
      "outputs": []
    },
    {
      "cell_type": "code",
      "source": [
        "flag = False\n",
        "for word in s.split():\n",
        "  if word[0] == '[':\n",
        "    sen = ''\n",
        "    flag = True\n",
        "  if word[-1] == ']':\n",
        "    sen = sen + ' ' + word\n",
        "    final_num.append(sen)\n",
        "    flag = False\n",
        "  if flag:\n",
        "    sen = sen + ' ' + word"
      ],
      "metadata": {
        "id": "FMHDuOmZ_ZtS"
      },
      "execution_count": null,
      "outputs": []
    },
    {
      "cell_type": "code",
      "source": [
        "final_num = [item.strip(\"[] \") for item in final_num]"
      ],
      "metadata": {
        "id": "fhOfHJNG_ZtS"
      },
      "execution_count": null,
      "outputs": []
    },
    {
      "cell_type": "code",
      "source": [
        "len(final_num)"
      ],
      "metadata": {
        "colab": {
          "base_uri": "https://localhost:8080/"
        },
        "outputId": "89432594-7107-4f7d-991f-e997d681d52a",
        "id": "8JCE4wc1_ZtS"
      },
      "execution_count": null,
      "outputs": [
        {
          "output_type": "execute_result",
          "data": {
            "text/plain": [
              "300"
            ]
          },
          "metadata": {},
          "execution_count": 387
        }
      ]
    },
    {
      "cell_type": "code",
      "source": [
        "final_nums.extend(final_num)"
      ],
      "metadata": {
        "id": "XDOe7QvI_ZtS"
      },
      "execution_count": null,
      "outputs": []
    },
    {
      "cell_type": "code",
      "source": [
        "len(final_nums)"
      ],
      "metadata": {
        "colab": {
          "base_uri": "https://localhost:8080/"
        },
        "outputId": "1dae9767-67e2-416d-8d95-b17a901593f2",
        "id": "c7yLSKsW_ZtS"
      },
      "execution_count": null,
      "outputs": [
        {
          "output_type": "execute_result",
          "data": {
            "text/plain": [
              "2700"
            ]
          },
          "metadata": {},
          "execution_count": 389
        }
      ]
    },
    {
      "cell_type": "code",
      "source": [
        "numnum[:20]"
      ],
      "metadata": {
        "id": "3B02Ml1CFRBf"
      },
      "execution_count": null,
      "outputs": []
    },
    {
      "cell_type": "code",
      "source": [
        "numbers"
      ],
      "metadata": {
        "id": "lUV3ivl4GJPE"
      },
      "execution_count": null,
      "outputs": []
    },
    {
      "cell_type": "code",
      "source": [
        "import pandas as pd\n",
        "\n",
        "check = {'let': numbers, 'num': numnum}\n",
        "\n",
        "c = pd.DataFrame(check)"
      ],
      "metadata": {
        "id": "2jiljyaYSu74"
      },
      "execution_count": null,
      "outputs": []
    },
    {
      "cell_type": "code",
      "source": [
        "df.info()"
      ],
      "metadata": {
        "colab": {
          "base_uri": "https://localhost:8080/"
        },
        "id": "bEmEVFTlFjei",
        "outputId": "999f1bd3-7e7e-4d68-b49d-330ba241e1e6"
      },
      "execution_count": null,
      "outputs": [
        {
          "output_type": "stream",
          "name": "stdout",
          "text": [
            "<class 'pandas.core.frame.DataFrame'>\n",
            "RangeIndex: 5467 entries, 0 to 5466\n",
            "Data columns (total 12 columns):\n",
            " #   Column        Non-Null Count  Dtype \n",
            "---  ------        --------------  ----- \n",
            " 0   Unnamed: 0.1  5467 non-null   int64 \n",
            " 1   level_0       5467 non-null   int64 \n",
            " 2   Unnamed: 0    5467 non-null   int64 \n",
            " 3   user1         5467 non-null   object\n",
            " 4   user2         5454 non-null   object\n",
            " 5   index         5467 non-null   int64 \n",
            " 6   system        5467 non-null   object\n",
            " 7   user          5467 non-null   object\n",
            " 8   assistant     5467 non-null   object\n",
            " 9   query         5467 non-null   object\n",
            " 10  response      5467 non-null   object\n",
            " 11  number        5467 non-null   object\n",
            "dtypes: int64(4), object(8)\n",
            "memory usage: 512.7+ KB\n"
          ]
        }
      ]
    },
    {
      "cell_type": "code",
      "source": [
        "# prompt: thêm cột number vào df, sử dụng danh sách numnum\n",
        "\n",
        "df['number'] = numnum"
      ],
      "metadata": {
        "id": "hP3sm7u3GQ3h"
      },
      "execution_count": null,
      "outputs": []
    },
    {
      "cell_type": "code",
      "source": [
        "df.head()"
      ],
      "metadata": {
        "id": "V_UpcKS0GpXB"
      },
      "execution_count": null,
      "outputs": []
    },
    {
      "cell_type": "code",
      "source": [
        "# prompt: hiện ra df với 2 cột là number và user1\n",
        "df[['number', 'user1']]"
      ],
      "metadata": {
        "id": "hAxYSSAuGeF1"
      },
      "execution_count": null,
      "outputs": []
    },
    {
      "cell_type": "code",
      "source": [
        "# format lại json"
      ],
      "metadata": {
        "id": "_Kin-wkFBzEN"
      },
      "execution_count": null,
      "outputs": []
    },
    {
      "cell_type": "code",
      "source": [
        "df.info()"
      ],
      "metadata": {
        "colab": {
          "base_uri": "https://localhost:8080/"
        },
        "id": "JBX36p9iIET1",
        "outputId": "9ad4d806-03f6-4e2d-d6d7-066a175aacf6"
      },
      "execution_count": null,
      "outputs": [
        {
          "output_type": "stream",
          "name": "stdout",
          "text": [
            "<class 'pandas.core.frame.DataFrame'>\n",
            "RangeIndex: 5467 entries, 0 to 5466\n",
            "Data columns (total 12 columns):\n",
            " #   Column        Non-Null Count  Dtype \n",
            "---  ------        --------------  ----- \n",
            " 0   Unnamed: 0.1  5467 non-null   int64 \n",
            " 1   level_0       5467 non-null   int64 \n",
            " 2   Unnamed: 0    5467 non-null   int64 \n",
            " 3   user1         5467 non-null   object\n",
            " 4   user2         5454 non-null   object\n",
            " 5   index         5467 non-null   int64 \n",
            " 6   system        5467 non-null   object\n",
            " 7   user          5467 non-null   object\n",
            " 8   assistant     5467 non-null   object\n",
            " 9   query         5467 non-null   object\n",
            " 10  response      5467 non-null   object\n",
            " 11  number        5467 non-null   object\n",
            "dtypes: int64(4), object(8)\n",
            "memory usage: 512.7+ KB\n"
          ]
        }
      ]
    },
    {
      "cell_type": "code",
      "source": [
        "df['args'] = ''"
      ],
      "metadata": {
        "id": "jdMMIEe9IG75"
      },
      "execution_count": null,
      "outputs": []
    },
    {
      "cell_type": "code",
      "source": [
        "t = '''{'role': 'assistant', 'content': \"<functioncall> {'name': 'information_extraction', 'arguments': {'customer_phone': '0886544767'}}\"}'''"
      ],
      "metadata": {
        "id": "tJjiClJvMTk_"
      },
      "execution_count": null,
      "outputs": []
    },
    {
      "cell_type": "code",
      "source": [
        "t = t[34:]\n",
        "t = t[:-1]\n",
        "t"
      ],
      "metadata": {
        "colab": {
          "base_uri": "https://localhost:8080/",
          "height": 35
        },
        "id": "Zp1j8y-0MgXi",
        "outputId": "4908f0ae-4509-4b16-ba4e-0652c0aa4d66"
      },
      "execution_count": null,
      "outputs": [
        {
          "output_type": "execute_result",
          "data": {
            "text/plain": [
              "'<functioncall> {\\'name\\': \\'information_extraction\\', \\'arguments\\': {\\'customer_phone\\': \\'0886544767\\'}}\"'"
            ],
            "application/vnd.google.colaboratory.intrinsic+json": {
              "type": "string"
            }
          },
          "metadata": {},
          "execution_count": 434
        }
      ]
    },
    {
      "cell_type": "code",
      "source": [
        "for i in range(len(df)):\n",
        "  df['args'] = df['assistant'].astype(str).str[34:-1]"
      ],
      "metadata": {
        "collapsed": true,
        "id": "Qto0IRjNM170"
      },
      "execution_count": null,
      "outputs": []
    },
    {
      "cell_type": "code",
      "source": [
        "df = df.reset_index()"
      ],
      "metadata": {
        "colab": {
          "base_uri": "https://localhost:8080/",
          "height": 287
        },
        "id": "2PX7o4w1MooL",
        "outputId": "2b81517f-0928-4a0a-82f9-33305a3bf589"
      },
      "execution_count": null,
      "outputs": [
        {
          "output_type": "error",
          "ename": "ValueError",
          "evalue": "cannot insert level_0, already exists",
          "traceback": [
            "\u001b[0;31m---------------------------------------------------------------------------\u001b[0m",
            "\u001b[0;31mValueError\u001b[0m                                Traceback (most recent call last)",
            "\u001b[0;32m<ipython-input-36-d02f1adb44bc>\u001b[0m in \u001b[0;36m<cell line: 0>\u001b[0;34m()\u001b[0m\n\u001b[0;32m----> 1\u001b[0;31m \u001b[0mdf\u001b[0m \u001b[0;34m=\u001b[0m \u001b[0mdf\u001b[0m\u001b[0;34m.\u001b[0m\u001b[0mreset_index\u001b[0m\u001b[0;34m(\u001b[0m\u001b[0;34m)\u001b[0m\u001b[0;34m\u001b[0m\u001b[0;34m\u001b[0m\u001b[0m\n\u001b[0m",
            "\u001b[0;32m/usr/local/lib/python3.11/dist-packages/pandas/core/frame.py\u001b[0m in \u001b[0;36mreset_index\u001b[0;34m(self, level, drop, inplace, col_level, col_fill, allow_duplicates, names)\u001b[0m\n\u001b[1;32m   6470\u001b[0m                     )\n\u001b[1;32m   6471\u001b[0m \u001b[0;34m\u001b[0m\u001b[0m\n\u001b[0;32m-> 6472\u001b[0;31m                 new_obj.insert(\n\u001b[0m\u001b[1;32m   6473\u001b[0m                     \u001b[0;36m0\u001b[0m\u001b[0;34m,\u001b[0m\u001b[0;34m\u001b[0m\u001b[0;34m\u001b[0m\u001b[0m\n\u001b[1;32m   6474\u001b[0m                     \u001b[0mname\u001b[0m\u001b[0;34m,\u001b[0m\u001b[0;34m\u001b[0m\u001b[0;34m\u001b[0m\u001b[0m\n",
            "\u001b[0;32m/usr/local/lib/python3.11/dist-packages/pandas/core/frame.py\u001b[0m in \u001b[0;36minsert\u001b[0;34m(self, loc, column, value, allow_duplicates)\u001b[0m\n\u001b[1;32m   5156\u001b[0m         \u001b[0;32mif\u001b[0m \u001b[0;32mnot\u001b[0m \u001b[0mallow_duplicates\u001b[0m \u001b[0;32mand\u001b[0m \u001b[0mcolumn\u001b[0m \u001b[0;32min\u001b[0m \u001b[0mself\u001b[0m\u001b[0;34m.\u001b[0m\u001b[0mcolumns\u001b[0m\u001b[0;34m:\u001b[0m\u001b[0;34m\u001b[0m\u001b[0;34m\u001b[0m\u001b[0m\n\u001b[1;32m   5157\u001b[0m             \u001b[0;31m# Should this be a different kind of error??\u001b[0m\u001b[0;34m\u001b[0m\u001b[0;34m\u001b[0m\u001b[0m\n\u001b[0;32m-> 5158\u001b[0;31m             \u001b[0;32mraise\u001b[0m \u001b[0mValueError\u001b[0m\u001b[0;34m(\u001b[0m\u001b[0;34mf\"cannot insert {column}, already exists\"\u001b[0m\u001b[0;34m)\u001b[0m\u001b[0;34m\u001b[0m\u001b[0;34m\u001b[0m\u001b[0m\n\u001b[0m\u001b[1;32m   5159\u001b[0m         \u001b[0;32mif\u001b[0m \u001b[0;32mnot\u001b[0m \u001b[0mis_integer\u001b[0m\u001b[0;34m(\u001b[0m\u001b[0mloc\u001b[0m\u001b[0;34m)\u001b[0m\u001b[0;34m:\u001b[0m\u001b[0;34m\u001b[0m\u001b[0;34m\u001b[0m\u001b[0m\n\u001b[1;32m   5160\u001b[0m             \u001b[0;32mraise\u001b[0m \u001b[0mTypeError\u001b[0m\u001b[0;34m(\u001b[0m\u001b[0;34m\"loc must be int\"\u001b[0m\u001b[0;34m)\u001b[0m\u001b[0;34m\u001b[0m\u001b[0;34m\u001b[0m\u001b[0m\n",
            "\u001b[0;31mValueError\u001b[0m: cannot insert level_0, already exists"
          ]
        }
      ]
    },
    {
      "cell_type": "code",
      "source": [
        "df.head(1)"
      ],
      "metadata": {
        "id": "uutUDznAlMe9"
      },
      "execution_count": null,
      "outputs": []
    },
    {
      "cell_type": "code",
      "source": [
        "blank = df[['user1', 'user2']]\n",
        "blank.to_csv('blank.csv')"
      ],
      "metadata": {
        "id": "eZyNujG_l4_R"
      },
      "execution_count": null,
      "outputs": []
    },
    {
      "cell_type": "code",
      "source": [
        "blank.info()"
      ],
      "metadata": {
        "colab": {
          "base_uri": "https://localhost:8080/"
        },
        "id": "TqPNDSKDl-vg",
        "outputId": "690d6cc0-ae9b-4e21-cc38-f9882204a004"
      },
      "execution_count": null,
      "outputs": [
        {
          "output_type": "stream",
          "name": "stdout",
          "text": [
            "<class 'pandas.core.frame.DataFrame'>\n",
            "RangeIndex: 5454 entries, 0 to 5453\n",
            "Data columns (total 2 columns):\n",
            " #   Column  Non-Null Count  Dtype \n",
            "---  ------  --------------  ----- \n",
            " 0   user1   5454 non-null   object\n",
            " 1   user2   5454 non-null   object\n",
            "dtypes: object(2)\n",
            "memory usage: 85.3+ KB\n"
          ]
        }
      ]
    },
    {
      "cell_type": "code",
      "source": [
        "df = pd.read_csv('df.csv')\n",
        "df.info()"
      ],
      "metadata": {
        "colab": {
          "base_uri": "https://localhost:8080/"
        },
        "id": "RyjE4PWJz88i",
        "outputId": "3a8a5aee-4cc8-4b2c-8b06-8d4f48ecdcd0"
      },
      "execution_count": null,
      "outputs": [
        {
          "output_type": "stream",
          "name": "stdout",
          "text": [
            "<class 'pandas.core.frame.DataFrame'>\n",
            "RangeIndex: 5454 entries, 0 to 5453\n",
            "Data columns (total 11 columns):\n",
            " #   Column        Non-Null Count  Dtype \n",
            "---  ------        --------------  ----- \n",
            " 0   Unnamed: 0    5454 non-null   int64 \n",
            " 1   user1         5454 non-null   object\n",
            " 2   user2         5454 non-null   object\n",
            " 3   index         5454 non-null   int64 \n",
            " 4   system        5454 non-null   object\n",
            " 5   user          5454 non-null   object\n",
            " 6   assistant     5454 non-null   object\n",
            " 7   query         5454 non-null   object\n",
            " 8   response      5454 non-null   object\n",
            " 9   user1_number  5454 non-null   int64 \n",
            " 10  args          5454 non-null   object\n",
            "dtypes: int64(3), object(8)\n",
            "memory usage: 468.8+ KB\n"
          ]
        }
      ]
    },
    {
      "cell_type": "code",
      "source": [
        "df.head(5)"
      ],
      "metadata": {
        "colab": {
          "base_uri": "https://localhost:8080/",
          "height": 1000
        },
        "id": "VXizvFqf0Dtx",
        "outputId": "dcb74ecd-a866-4d61-b17b-6e45dc49ec8b"
      },
      "execution_count": null,
      "outputs": [
        {
          "output_type": "execute_result",
          "data": {
            "text/plain": [
              "   Unnamed: 0.1  Unnamed: 0  \\\n",
              "0             0           0   \n",
              "1             1           1   \n",
              "2             2           2   \n",
              "3             3           3   \n",
              "4             4           4   \n",
              "\n",
              "                                                                   user1  \\\n",
              "0               Em muốn tìm hiểu các gói khám sức khỏe sdt em là 088 sáu   \n",
              "1     Gói sản phẩm bên mình có gì hot không ạ số mình 0390 không hai bốn   \n",
              "2      Cho mình xin thông tin khuyến mãi đi số điện thoại mình là 037 50   \n",
              "3  Bên mình có gói khám tổng quát nào không số điện thoại của tôi là 081   \n",
              "4   Các gói dịch vụ hiện tại giá thế nào ạ số của mình là 094 chín bốn 8   \n",
              "\n",
              "                         user2  index  \\\n",
              "0                năm 44 bảy 67      0   \n",
              "1                  năm năm một      1   \n",
              "2             7 5 sáu chín hai      2   \n",
              "3  chín 0 bốn năm 0 ba bảy bốn      3   \n",
              "4             một năm sáu chín      4   \n",
              "\n",
              "                                                                                                                                                                                                                                                                                                                                                                                                                                                                                                                                                                                                                                                                                                                                                                                                                                                                                                                                                                                                                                                                                                                                                                                                                                                                                                                                                                                                                                                                                                                                                                                                                                                                                                                                                                                                                                                                                                                                                                                                                                                                                                                                                                                    system  \\\n",
              "0  {'role': 'system', 'content': 'Extracts the relevant information from the passage.\\n{\"name\": \"information_extraction\", \"description\": \"Extracts the relevant information from the passage\",\\n\"arguments\": [{\"name\": \"customer_name\", \"desc\": \"Customer\\'s name\", \"type\": \"string\"},\\n{\"name\": \"customer_phone\", \"desc\": \"Customer\\'s phone number\", \"type\": \"string\"},\\n{\"name\": \"medical_department\", \"desc\": \"Medical department or service information.\", \"type\": \"string\"},\\n{\"name\": \"is_yes\", \"desc\": \"Can take two values:\\\\n- true (if the user confirms, agrees, says something affirmative, or expresses consent in any similar way.)\\\\n- false (if the user expresses the opposite, does not approve, disagrees, or shows any similar response.)\", \"type\": \"string\"},\\n{\"name\": \"hospital_name\", \"desc\": \"Identify the name of the hospital, place or facility of Vinmec\", \"type\": \"string\"},\\n{\"name\": \"customer_dob\", \"desc\": \"Extract the user\\'s date of birth. Format DD-MM-YYYY. This value must be a date in the past.\", \"type\": \"string\"},\\n{\"name\": \"customer_place\", \"desc\": \"Province/City provided by the customer\", \"type\": \"string\"},\\n{\"name\": \"symptoms\", \"desc\": \"Identify and extract users\\' symptom information based on their messages\", \"type\": \"string\"},\\n{\"name\": \"relationship\", \"desc\": \"Relationship to the person booking the appointment\", \"type\": \"string\"},\\n{\"name\": \"appointment_date\", \"desc\": \"Medical appointment schedulling date based on the user\\'s messages. remember extract by following format: DD-MM-YYYY. This value must be a date in the future. \\\\nExample: 1999-04-24 -> 24-04-1999\", \"type\": \"string\"},\\n{\"name\": \"appointment_time\", \"desc\": \"Medical appointment schedulling time based on the user\\'s messages. The time frame will follow a 24-hour format and the time zone is GMT+7 follow this format: HH:mm\", \"type\": \"string\"}, {\"name\": \"cancel_num\", \"desc\": \"Identify number from the user\\'s message. The user may express them as words (one, two,...) or digits (1, 2,...) in Vietnamese. If the user provides words, convert them to digits. Accepted values range from 1 to 10.\", \"type\": \"string\"}]}'}   \n",
              "1  {'role': 'system', 'content': 'Extracts the relevant information from the passage.\\n{\"name\": \"information_extraction\", \"description\": \"Extracts the relevant information from the passage\",\\n\"arguments\": [{\"name\": \"customer_name\", \"desc\": \"Customer\\'s name\", \"type\": \"string\"},\\n{\"name\": \"customer_phone\", \"desc\": \"Customer\\'s phone number\", \"type\": \"string\"},\\n{\"name\": \"medical_department\", \"desc\": \"Medical department or service information.\", \"type\": \"string\"},\\n{\"name\": \"is_yes\", \"desc\": \"Can take two values:\\\\n- true (if the user confirms, agrees, says something affirmative, or expresses consent in any similar way.)\\\\n- false (if the user expresses the opposite, does not approve, disagrees, or shows any similar response.)\", \"type\": \"string\"},\\n{\"name\": \"hospital_name\", \"desc\": \"Identify the name of the hospital, place or facility of Vinmec\", \"type\": \"string\"},\\n{\"name\": \"customer_dob\", \"desc\": \"Extract the user\\'s date of birth. Format DD-MM-YYYY. This value must be a date in the past.\", \"type\": \"string\"},\\n{\"name\": \"customer_place\", \"desc\": \"Province/City provided by the customer\", \"type\": \"string\"},\\n{\"name\": \"symptoms\", \"desc\": \"Identify and extract users\\' symptom information based on their messages\", \"type\": \"string\"},\\n{\"name\": \"relationship\", \"desc\": \"Relationship to the person booking the appointment\", \"type\": \"string\"},\\n{\"name\": \"appointment_date\", \"desc\": \"Medical appointment schedulling date based on the user\\'s messages. remember extract by following format: DD-MM-YYYY. This value must be a date in the future. \\\\nExample: 1999-04-24 -> 24-04-1999\", \"type\": \"string\"},\\n{\"name\": \"appointment_time\", \"desc\": \"Medical appointment schedulling time based on the user\\'s messages. The time frame will follow a 24-hour format and the time zone is GMT+7 follow this format: HH:mm\", \"type\": \"string\"}, {\"name\": \"cancel_num\", \"desc\": \"Identify number from the user\\'s message. The user may express them as words (one, two,...) or digits (1, 2,...) in Vietnamese. If the user provides words, convert them to digits. Accepted values range from 1 to 10.\", \"type\": \"string\"}]}'}   \n",
              "2  {'role': 'system', 'content': 'Extracts the relevant information from the passage.\\n{\"name\": \"information_extraction\", \"description\": \"Extracts the relevant information from the passage\",\\n\"arguments\": [{\"name\": \"customer_name\", \"desc\": \"Customer\\'s name\", \"type\": \"string\"},\\n{\"name\": \"customer_phone\", \"desc\": \"Customer\\'s phone number\", \"type\": \"string\"},\\n{\"name\": \"medical_department\", \"desc\": \"Medical department or service information.\", \"type\": \"string\"},\\n{\"name\": \"is_yes\", \"desc\": \"Can take two values:\\\\n- true (if the user confirms, agrees, says something affirmative, or expresses consent in any similar way.)\\\\n- false (if the user expresses the opposite, does not approve, disagrees, or shows any similar response.)\", \"type\": \"string\"},\\n{\"name\": \"hospital_name\", \"desc\": \"Identify the name of the hospital, place or facility of Vinmec\", \"type\": \"string\"},\\n{\"name\": \"customer_dob\", \"desc\": \"Extract the user\\'s date of birth. Format DD-MM-YYYY. This value must be a date in the past.\", \"type\": \"string\"},\\n{\"name\": \"customer_place\", \"desc\": \"Province/City provided by the customer\", \"type\": \"string\"},\\n{\"name\": \"symptoms\", \"desc\": \"Identify and extract users\\' symptom information based on their messages\", \"type\": \"string\"},\\n{\"name\": \"relationship\", \"desc\": \"Relationship to the person booking the appointment\", \"type\": \"string\"},\\n{\"name\": \"appointment_date\", \"desc\": \"Medical appointment schedulling date based on the user\\'s messages. remember extract by following format: DD-MM-YYYY. This value must be a date in the future. \\\\nExample: 1999-04-24 -> 24-04-1999\", \"type\": \"string\"},\\n{\"name\": \"appointment_time\", \"desc\": \"Medical appointment schedulling time based on the user\\'s messages. The time frame will follow a 24-hour format and the time zone is GMT+7 follow this format: HH:mm\", \"type\": \"string\"}, {\"name\": \"cancel_num\", \"desc\": \"Identify number from the user\\'s message. The user may express them as words (one, two,...) or digits (1, 2,...) in Vietnamese. If the user provides words, convert them to digits. Accepted values range from 1 to 10.\", \"type\": \"string\"}]}'}   \n",
              "3  {'role': 'system', 'content': 'Extracts the relevant information from the passage.\\n{\"name\": \"information_extraction\", \"description\": \"Extracts the relevant information from the passage\",\\n\"arguments\": [{\"name\": \"customer_name\", \"desc\": \"Customer\\'s name\", \"type\": \"string\"},\\n{\"name\": \"customer_phone\", \"desc\": \"Customer\\'s phone number\", \"type\": \"string\"},\\n{\"name\": \"medical_department\", \"desc\": \"Medical department or service information.\", \"type\": \"string\"},\\n{\"name\": \"is_yes\", \"desc\": \"Can take two values:\\\\n- true (if the user confirms, agrees, says something affirmative, or expresses consent in any similar way.)\\\\n- false (if the user expresses the opposite, does not approve, disagrees, or shows any similar response.)\", \"type\": \"string\"},\\n{\"name\": \"hospital_name\", \"desc\": \"Identify the name of the hospital, place or facility of Vinmec\", \"type\": \"string\"},\\n{\"name\": \"customer_dob\", \"desc\": \"Extract the user\\'s date of birth. Format DD-MM-YYYY. This value must be a date in the past.\", \"type\": \"string\"},\\n{\"name\": \"customer_place\", \"desc\": \"Province/City provided by the customer\", \"type\": \"string\"},\\n{\"name\": \"symptoms\", \"desc\": \"Identify and extract users\\' symptom information based on their messages\", \"type\": \"string\"},\\n{\"name\": \"relationship\", \"desc\": \"Relationship to the person booking the appointment\", \"type\": \"string\"},\\n{\"name\": \"appointment_date\", \"desc\": \"Medical appointment schedulling date based on the user\\'s messages. remember extract by following format: DD-MM-YYYY. This value must be a date in the future. \\\\nExample: 1999-04-24 -> 24-04-1999\", \"type\": \"string\"},\\n{\"name\": \"appointment_time\", \"desc\": \"Medical appointment schedulling time based on the user\\'s messages. The time frame will follow a 24-hour format and the time zone is GMT+7 follow this format: HH:mm\", \"type\": \"string\"}, {\"name\": \"cancel_num\", \"desc\": \"Identify number from the user\\'s message. The user may express them as words (one, two,...) or digits (1, 2,...) in Vietnamese. If the user provides words, convert them to digits. Accepted values range from 1 to 10.\", \"type\": \"string\"}]}'}   \n",
              "4  {'role': 'system', 'content': 'Extracts the relevant information from the passage.\\n{\"name\": \"information_extraction\", \"description\": \"Extracts the relevant information from the passage\",\\n\"arguments\": [{\"name\": \"customer_name\", \"desc\": \"Customer\\'s name\", \"type\": \"string\"},\\n{\"name\": \"customer_phone\", \"desc\": \"Customer\\'s phone number\", \"type\": \"string\"},\\n{\"name\": \"medical_department\", \"desc\": \"Medical department or service information.\", \"type\": \"string\"},\\n{\"name\": \"is_yes\", \"desc\": \"Can take two values:\\\\n- true (if the user confirms, agrees, says something affirmative, or expresses consent in any similar way.)\\\\n- false (if the user expresses the opposite, does not approve, disagrees, or shows any similar response.)\", \"type\": \"string\"},\\n{\"name\": \"hospital_name\", \"desc\": \"Identify the name of the hospital, place or facility of Vinmec\", \"type\": \"string\"},\\n{\"name\": \"customer_dob\", \"desc\": \"Extract the user\\'s date of birth. Format DD-MM-YYYY. This value must be a date in the past.\", \"type\": \"string\"},\\n{\"name\": \"customer_place\", \"desc\": \"Province/City provided by the customer\", \"type\": \"string\"},\\n{\"name\": \"symptoms\", \"desc\": \"Identify and extract users\\' symptom information based on their messages\", \"type\": \"string\"},\\n{\"name\": \"relationship\", \"desc\": \"Relationship to the person booking the appointment\", \"type\": \"string\"},\\n{\"name\": \"appointment_date\", \"desc\": \"Medical appointment schedulling date based on the user\\'s messages. remember extract by following format: DD-MM-YYYY. This value must be a date in the future. \\\\nExample: 1999-04-24 -> 24-04-1999\", \"type\": \"string\"},\\n{\"name\": \"appointment_time\", \"desc\": \"Medical appointment schedulling time based on the user\\'s messages. The time frame will follow a 24-hour format and the time zone is GMT+7 follow this format: HH:mm\", \"type\": \"string\"}, {\"name\": \"cancel_num\", \"desc\": \"Identify number from the user\\'s message. The user may express them as words (one, two,...) or digits (1, 2,...) in Vietnamese. If the user provides words, convert them to digits. Accepted values range from 1 to 10.\", \"type\": \"string\"}]}'}   \n",
              "\n",
              "                                                                                                                         user  \\\n",
              "0                        {'role': 'user', 'content': 'Em muốn tìm hiểu các gói khám sức khỏe sdt em là 088 sáu năm 44 bảy67'}   \n",
              "1                 {'role': 'user', 'content': 'Gói sản phẩm bên mình có gì hot không ạ số mình 0390 không haibốnnăm năm một'}   \n",
              "2            {'role': 'user', 'content': 'Cho mình xin thông tin khuyến mãi đi số điện thoại mình là 037 50 7 5sáu chín hai'}   \n",
              "3  {'role': 'user', 'content': 'Bên mình có gói khám tổng quát nào không số điện thoại của tôi là 081chín 0bốn năm0babảybốn'}   \n",
              "4          {'role': 'user', 'content': 'Các gói dịch vụ hiện tại giá thế nào ạ số của mình là 094 chín bốn 8một nămsáu chín'}   \n",
              "\n",
              "                                                                                                                               assistant  \\\n",
              "0   {'role': 'assistant', 'content': \"<functioncall> {'name': 'information_extraction', 'arguments': {'customer_phone': '0886544767'}}\"}   \n",
              "1   {'role': 'assistant', 'content': \"<functioncall> {'name': 'information_extraction', 'arguments': {'customer_phone': '0390024551'}}\"}   \n",
              "2   {'role': 'assistant', 'content': \"<functioncall> {'name': 'information_extraction', 'arguments': {'customer_phone': '0375075692'}}\"}   \n",
              "3  {'role': 'assistant', 'content': \"<functioncall> {'name': 'information_extraction', 'arguments': {'customer_phone': '08190450374'}}\"}   \n",
              "4   {'role': 'assistant', 'content': \"<functioncall> {'name': 'information_extraction', 'arguments': {'customer_phone': '0949481569'}}\"}   \n",
              "\n",
              "                                                                                         query  \\\n",
              "0                        Em muốn tìm hiểu các gói khám sức khỏe sdt em là 088 sáu năm 44 bảy67   \n",
              "1                 Gói sản phẩm bên mình có gì hot không ạ số mình 0390 không haibốnnăm năm một   \n",
              "2            Cho mình xin thông tin khuyến mãi đi số điện thoại mình là 037 50 7 5sáu chín hai   \n",
              "3  Bên mình có gói khám tổng quát nào không số điện thoại của tôi là 081chín 0bốn năm0babảybốn   \n",
              "4          Các gói dịch vụ hiện tại giá thế nào ạ số của mình là 094 chín bốn 8một nămsáu chín   \n",
              "\n",
              "                                                                                                                        response  \\\n",
              "0                         Chào em, em vui lòng cung cấp đầy đủ số điện thoại để anh/chị hỗ trợ tư vấn các gói khám sức khỏe nhé.   \n",
              "1  Chào bạn, bạn vui lòng cho mình xin số điện thoại đầy đủ để mình có thể tư vấn chi tiết về các gói sản phẩm hot bên mình nhé.   \n",
              "2                                        Chào bạn, để nhận thông tin khuyến mãi, bạn vui lòng cung cấp đầy đủ số điện thoại nhé.   \n",
              "3                                    Chào bạn, bạn vui lòng cung cấp đầy đủ số điện thoại để mình tư vấn gói khám tổng quát nhé.   \n",
              "4                                  Chào bạn, mình cần số điện thoại đầy đủ của bạn để gửi bảng giá các gói dịch vụ hiện tại nhé.   \n",
              "\n",
              "  user1_number  \\\n",
              "0         0886   \n",
              "1      0390024   \n",
              "2        03750   \n",
              "3          081   \n",
              "4       094948   \n",
              "\n",
              "                                                                                                 args  \n",
              "0   <functioncall> {'name': 'information_extraction', 'arguments': {'customer_phone': '0886544767'}}\"  \n",
              "1   <functioncall> {'name': 'information_extraction', 'arguments': {'customer_phone': '0390024551'}}\"  \n",
              "2   <functioncall> {'name': 'information_extraction', 'arguments': {'customer_phone': '0375075692'}}\"  \n",
              "3  <functioncall> {'name': 'information_extraction', 'arguments': {'customer_phone': '08190450374'}}\"  \n",
              "4   <functioncall> {'name': 'information_extraction', 'arguments': {'customer_phone': '0949481569'}}\"  "
            ],
            "text/html": [
              "\n",
              "  <div id=\"df-2b908eaa-439a-4d71-9b7d-bfc77fd3652b\" class=\"colab-df-container\">\n",
              "    <div>\n",
              "<style scoped>\n",
              "    .dataframe tbody tr th:only-of-type {\n",
              "        vertical-align: middle;\n",
              "    }\n",
              "\n",
              "    .dataframe tbody tr th {\n",
              "        vertical-align: top;\n",
              "    }\n",
              "\n",
              "    .dataframe thead th {\n",
              "        text-align: right;\n",
              "    }\n",
              "</style>\n",
              "<table border=\"1\" class=\"dataframe\">\n",
              "  <thead>\n",
              "    <tr style=\"text-align: right;\">\n",
              "      <th></th>\n",
              "      <th>Unnamed: 0.1</th>\n",
              "      <th>Unnamed: 0</th>\n",
              "      <th>user1</th>\n",
              "      <th>user2</th>\n",
              "      <th>index</th>\n",
              "      <th>system</th>\n",
              "      <th>user</th>\n",
              "      <th>assistant</th>\n",
              "      <th>query</th>\n",
              "      <th>response</th>\n",
              "      <th>user1_number</th>\n",
              "      <th>args</th>\n",
              "    </tr>\n",
              "  </thead>\n",
              "  <tbody>\n",
              "    <tr>\n",
              "      <th>0</th>\n",
              "      <td>0</td>\n",
              "      <td>0</td>\n",
              "      <td>Em muốn tìm hiểu các gói khám sức khỏe sdt em là 088 sáu</td>\n",
              "      <td>năm 44 bảy 67</td>\n",
              "      <td>0</td>\n",
              "      <td>{'role': 'system', 'content': 'Extracts the relevant information from the passage.\\n{\"name\": \"information_extraction\", \"description\": \"Extracts the relevant information from the passage\",\\n\"arguments\": [{\"name\": \"customer_name\", \"desc\": \"Customer\\'s name\", \"type\": \"string\"},\\n{\"name\": \"customer_phone\", \"desc\": \"Customer\\'s phone number\", \"type\": \"string\"},\\n{\"name\": \"medical_department\", \"desc\": \"Medical department or service information.\", \"type\": \"string\"},\\n{\"name\": \"is_yes\", \"desc\": \"Can take two values:\\\\n- true (if the user confirms, agrees, says something affirmative, or expresses consent in any similar way.)\\\\n- false (if the user expresses the opposite, does not approve, disagrees, or shows any similar response.)\", \"type\": \"string\"},\\n{\"name\": \"hospital_name\", \"desc\": \"Identify the name of the hospital, place or facility of Vinmec\", \"type\": \"string\"},\\n{\"name\": \"customer_dob\", \"desc\": \"Extract the user\\'s date of birth. Format DD-MM-YYYY. This value must be a date in the past.\", \"type\": \"string\"},\\n{\"name\": \"customer_place\", \"desc\": \"Province/City provided by the customer\", \"type\": \"string\"},\\n{\"name\": \"symptoms\", \"desc\": \"Identify and extract users\\' symptom information based on their messages\", \"type\": \"string\"},\\n{\"name\": \"relationship\", \"desc\": \"Relationship to the person booking the appointment\", \"type\": \"string\"},\\n{\"name\": \"appointment_date\", \"desc\": \"Medical appointment schedulling date based on the user\\'s messages. remember extract by following format: DD-MM-YYYY. This value must be a date in the future. \\\\nExample: 1999-04-24 -&gt; 24-04-1999\", \"type\": \"string\"},\\n{\"name\": \"appointment_time\", \"desc\": \"Medical appointment schedulling time based on the user\\'s messages. The time frame will follow a 24-hour format and the time zone is GMT+7 follow this format: HH:mm\", \"type\": \"string\"}, {\"name\": \"cancel_num\", \"desc\": \"Identify number from the user\\'s message. The user may express them as words (one, two,...) or digits (1, 2,...) in Vietnamese. If the user provides words, convert them to digits. Accepted values range from 1 to 10.\", \"type\": \"string\"}]}'}</td>\n",
              "      <td>{'role': 'user', 'content': 'Em muốn tìm hiểu các gói khám sức khỏe sdt em là 088 sáu năm 44 bảy67'}</td>\n",
              "      <td>{'role': 'assistant', 'content': \"&lt;functioncall&gt; {'name': 'information_extraction', 'arguments': {'customer_phone': '0886544767'}}\"}</td>\n",
              "      <td>Em muốn tìm hiểu các gói khám sức khỏe sdt em là 088 sáu năm 44 bảy67</td>\n",
              "      <td>Chào em, em vui lòng cung cấp đầy đủ số điện thoại để anh/chị hỗ trợ tư vấn các gói khám sức khỏe nhé.</td>\n",
              "      <td>0886</td>\n",
              "      <td>&lt;functioncall&gt; {'name': 'information_extraction', 'arguments': {'customer_phone': '0886544767'}}\"</td>\n",
              "    </tr>\n",
              "    <tr>\n",
              "      <th>1</th>\n",
              "      <td>1</td>\n",
              "      <td>1</td>\n",
              "      <td>Gói sản phẩm bên mình có gì hot không ạ số mình 0390 không hai bốn</td>\n",
              "      <td>năm năm một</td>\n",
              "      <td>1</td>\n",
              "      <td>{'role': 'system', 'content': 'Extracts the relevant information from the passage.\\n{\"name\": \"information_extraction\", \"description\": \"Extracts the relevant information from the passage\",\\n\"arguments\": [{\"name\": \"customer_name\", \"desc\": \"Customer\\'s name\", \"type\": \"string\"},\\n{\"name\": \"customer_phone\", \"desc\": \"Customer\\'s phone number\", \"type\": \"string\"},\\n{\"name\": \"medical_department\", \"desc\": \"Medical department or service information.\", \"type\": \"string\"},\\n{\"name\": \"is_yes\", \"desc\": \"Can take two values:\\\\n- true (if the user confirms, agrees, says something affirmative, or expresses consent in any similar way.)\\\\n- false (if the user expresses the opposite, does not approve, disagrees, or shows any similar response.)\", \"type\": \"string\"},\\n{\"name\": \"hospital_name\", \"desc\": \"Identify the name of the hospital, place or facility of Vinmec\", \"type\": \"string\"},\\n{\"name\": \"customer_dob\", \"desc\": \"Extract the user\\'s date of birth. Format DD-MM-YYYY. This value must be a date in the past.\", \"type\": \"string\"},\\n{\"name\": \"customer_place\", \"desc\": \"Province/City provided by the customer\", \"type\": \"string\"},\\n{\"name\": \"symptoms\", \"desc\": \"Identify and extract users\\' symptom information based on their messages\", \"type\": \"string\"},\\n{\"name\": \"relationship\", \"desc\": \"Relationship to the person booking the appointment\", \"type\": \"string\"},\\n{\"name\": \"appointment_date\", \"desc\": \"Medical appointment schedulling date based on the user\\'s messages. remember extract by following format: DD-MM-YYYY. This value must be a date in the future. \\\\nExample: 1999-04-24 -&gt; 24-04-1999\", \"type\": \"string\"},\\n{\"name\": \"appointment_time\", \"desc\": \"Medical appointment schedulling time based on the user\\'s messages. The time frame will follow a 24-hour format and the time zone is GMT+7 follow this format: HH:mm\", \"type\": \"string\"}, {\"name\": \"cancel_num\", \"desc\": \"Identify number from the user\\'s message. The user may express them as words (one, two,...) or digits (1, 2,...) in Vietnamese. If the user provides words, convert them to digits. Accepted values range from 1 to 10.\", \"type\": \"string\"}]}'}</td>\n",
              "      <td>{'role': 'user', 'content': 'Gói sản phẩm bên mình có gì hot không ạ số mình 0390 không haibốnnăm năm một'}</td>\n",
              "      <td>{'role': 'assistant', 'content': \"&lt;functioncall&gt; {'name': 'information_extraction', 'arguments': {'customer_phone': '0390024551'}}\"}</td>\n",
              "      <td>Gói sản phẩm bên mình có gì hot không ạ số mình 0390 không haibốnnăm năm một</td>\n",
              "      <td>Chào bạn, bạn vui lòng cho mình xin số điện thoại đầy đủ để mình có thể tư vấn chi tiết về các gói sản phẩm hot bên mình nhé.</td>\n",
              "      <td>0390024</td>\n",
              "      <td>&lt;functioncall&gt; {'name': 'information_extraction', 'arguments': {'customer_phone': '0390024551'}}\"</td>\n",
              "    </tr>\n",
              "    <tr>\n",
              "      <th>2</th>\n",
              "      <td>2</td>\n",
              "      <td>2</td>\n",
              "      <td>Cho mình xin thông tin khuyến mãi đi số điện thoại mình là 037 50</td>\n",
              "      <td>7 5 sáu chín hai</td>\n",
              "      <td>2</td>\n",
              "      <td>{'role': 'system', 'content': 'Extracts the relevant information from the passage.\\n{\"name\": \"information_extraction\", \"description\": \"Extracts the relevant information from the passage\",\\n\"arguments\": [{\"name\": \"customer_name\", \"desc\": \"Customer\\'s name\", \"type\": \"string\"},\\n{\"name\": \"customer_phone\", \"desc\": \"Customer\\'s phone number\", \"type\": \"string\"},\\n{\"name\": \"medical_department\", \"desc\": \"Medical department or service information.\", \"type\": \"string\"},\\n{\"name\": \"is_yes\", \"desc\": \"Can take two values:\\\\n- true (if the user confirms, agrees, says something affirmative, or expresses consent in any similar way.)\\\\n- false (if the user expresses the opposite, does not approve, disagrees, or shows any similar response.)\", \"type\": \"string\"},\\n{\"name\": \"hospital_name\", \"desc\": \"Identify the name of the hospital, place or facility of Vinmec\", \"type\": \"string\"},\\n{\"name\": \"customer_dob\", \"desc\": \"Extract the user\\'s date of birth. Format DD-MM-YYYY. This value must be a date in the past.\", \"type\": \"string\"},\\n{\"name\": \"customer_place\", \"desc\": \"Province/City provided by the customer\", \"type\": \"string\"},\\n{\"name\": \"symptoms\", \"desc\": \"Identify and extract users\\' symptom information based on their messages\", \"type\": \"string\"},\\n{\"name\": \"relationship\", \"desc\": \"Relationship to the person booking the appointment\", \"type\": \"string\"},\\n{\"name\": \"appointment_date\", \"desc\": \"Medical appointment schedulling date based on the user\\'s messages. remember extract by following format: DD-MM-YYYY. This value must be a date in the future. \\\\nExample: 1999-04-24 -&gt; 24-04-1999\", \"type\": \"string\"},\\n{\"name\": \"appointment_time\", \"desc\": \"Medical appointment schedulling time based on the user\\'s messages. The time frame will follow a 24-hour format and the time zone is GMT+7 follow this format: HH:mm\", \"type\": \"string\"}, {\"name\": \"cancel_num\", \"desc\": \"Identify number from the user\\'s message. The user may express them as words (one, two,...) or digits (1, 2,...) in Vietnamese. If the user provides words, convert them to digits. Accepted values range from 1 to 10.\", \"type\": \"string\"}]}'}</td>\n",
              "      <td>{'role': 'user', 'content': 'Cho mình xin thông tin khuyến mãi đi số điện thoại mình là 037 50 7 5sáu chín hai'}</td>\n",
              "      <td>{'role': 'assistant', 'content': \"&lt;functioncall&gt; {'name': 'information_extraction', 'arguments': {'customer_phone': '0375075692'}}\"}</td>\n",
              "      <td>Cho mình xin thông tin khuyến mãi đi số điện thoại mình là 037 50 7 5sáu chín hai</td>\n",
              "      <td>Chào bạn, để nhận thông tin khuyến mãi, bạn vui lòng cung cấp đầy đủ số điện thoại nhé.</td>\n",
              "      <td>03750</td>\n",
              "      <td>&lt;functioncall&gt; {'name': 'information_extraction', 'arguments': {'customer_phone': '0375075692'}}\"</td>\n",
              "    </tr>\n",
              "    <tr>\n",
              "      <th>3</th>\n",
              "      <td>3</td>\n",
              "      <td>3</td>\n",
              "      <td>Bên mình có gói khám tổng quát nào không số điện thoại của tôi là 081</td>\n",
              "      <td>chín 0 bốn năm 0 ba bảy bốn</td>\n",
              "      <td>3</td>\n",
              "      <td>{'role': 'system', 'content': 'Extracts the relevant information from the passage.\\n{\"name\": \"information_extraction\", \"description\": \"Extracts the relevant information from the passage\",\\n\"arguments\": [{\"name\": \"customer_name\", \"desc\": \"Customer\\'s name\", \"type\": \"string\"},\\n{\"name\": \"customer_phone\", \"desc\": \"Customer\\'s phone number\", \"type\": \"string\"},\\n{\"name\": \"medical_department\", \"desc\": \"Medical department or service information.\", \"type\": \"string\"},\\n{\"name\": \"is_yes\", \"desc\": \"Can take two values:\\\\n- true (if the user confirms, agrees, says something affirmative, or expresses consent in any similar way.)\\\\n- false (if the user expresses the opposite, does not approve, disagrees, or shows any similar response.)\", \"type\": \"string\"},\\n{\"name\": \"hospital_name\", \"desc\": \"Identify the name of the hospital, place or facility of Vinmec\", \"type\": \"string\"},\\n{\"name\": \"customer_dob\", \"desc\": \"Extract the user\\'s date of birth. Format DD-MM-YYYY. This value must be a date in the past.\", \"type\": \"string\"},\\n{\"name\": \"customer_place\", \"desc\": \"Province/City provided by the customer\", \"type\": \"string\"},\\n{\"name\": \"symptoms\", \"desc\": \"Identify and extract users\\' symptom information based on their messages\", \"type\": \"string\"},\\n{\"name\": \"relationship\", \"desc\": \"Relationship to the person booking the appointment\", \"type\": \"string\"},\\n{\"name\": \"appointment_date\", \"desc\": \"Medical appointment schedulling date based on the user\\'s messages. remember extract by following format: DD-MM-YYYY. This value must be a date in the future. \\\\nExample: 1999-04-24 -&gt; 24-04-1999\", \"type\": \"string\"},\\n{\"name\": \"appointment_time\", \"desc\": \"Medical appointment schedulling time based on the user\\'s messages. The time frame will follow a 24-hour format and the time zone is GMT+7 follow this format: HH:mm\", \"type\": \"string\"}, {\"name\": \"cancel_num\", \"desc\": \"Identify number from the user\\'s message. The user may express them as words (one, two,...) or digits (1, 2,...) in Vietnamese. If the user provides words, convert them to digits. Accepted values range from 1 to 10.\", \"type\": \"string\"}]}'}</td>\n",
              "      <td>{'role': 'user', 'content': 'Bên mình có gói khám tổng quát nào không số điện thoại của tôi là 081chín 0bốn năm0babảybốn'}</td>\n",
              "      <td>{'role': 'assistant', 'content': \"&lt;functioncall&gt; {'name': 'information_extraction', 'arguments': {'customer_phone': '08190450374'}}\"}</td>\n",
              "      <td>Bên mình có gói khám tổng quát nào không số điện thoại của tôi là 081chín 0bốn năm0babảybốn</td>\n",
              "      <td>Chào bạn, bạn vui lòng cung cấp đầy đủ số điện thoại để mình tư vấn gói khám tổng quát nhé.</td>\n",
              "      <td>081</td>\n",
              "      <td>&lt;functioncall&gt; {'name': 'information_extraction', 'arguments': {'customer_phone': '08190450374'}}\"</td>\n",
              "    </tr>\n",
              "    <tr>\n",
              "      <th>4</th>\n",
              "      <td>4</td>\n",
              "      <td>4</td>\n",
              "      <td>Các gói dịch vụ hiện tại giá thế nào ạ số của mình là 094 chín bốn 8</td>\n",
              "      <td>một năm sáu chín</td>\n",
              "      <td>4</td>\n",
              "      <td>{'role': 'system', 'content': 'Extracts the relevant information from the passage.\\n{\"name\": \"information_extraction\", \"description\": \"Extracts the relevant information from the passage\",\\n\"arguments\": [{\"name\": \"customer_name\", \"desc\": \"Customer\\'s name\", \"type\": \"string\"},\\n{\"name\": \"customer_phone\", \"desc\": \"Customer\\'s phone number\", \"type\": \"string\"},\\n{\"name\": \"medical_department\", \"desc\": \"Medical department or service information.\", \"type\": \"string\"},\\n{\"name\": \"is_yes\", \"desc\": \"Can take two values:\\\\n- true (if the user confirms, agrees, says something affirmative, or expresses consent in any similar way.)\\\\n- false (if the user expresses the opposite, does not approve, disagrees, or shows any similar response.)\", \"type\": \"string\"},\\n{\"name\": \"hospital_name\", \"desc\": \"Identify the name of the hospital, place or facility of Vinmec\", \"type\": \"string\"},\\n{\"name\": \"customer_dob\", \"desc\": \"Extract the user\\'s date of birth. Format DD-MM-YYYY. This value must be a date in the past.\", \"type\": \"string\"},\\n{\"name\": \"customer_place\", \"desc\": \"Province/City provided by the customer\", \"type\": \"string\"},\\n{\"name\": \"symptoms\", \"desc\": \"Identify and extract users\\' symptom information based on their messages\", \"type\": \"string\"},\\n{\"name\": \"relationship\", \"desc\": \"Relationship to the person booking the appointment\", \"type\": \"string\"},\\n{\"name\": \"appointment_date\", \"desc\": \"Medical appointment schedulling date based on the user\\'s messages. remember extract by following format: DD-MM-YYYY. This value must be a date in the future. \\\\nExample: 1999-04-24 -&gt; 24-04-1999\", \"type\": \"string\"},\\n{\"name\": \"appointment_time\", \"desc\": \"Medical appointment schedulling time based on the user\\'s messages. The time frame will follow a 24-hour format and the time zone is GMT+7 follow this format: HH:mm\", \"type\": \"string\"}, {\"name\": \"cancel_num\", \"desc\": \"Identify number from the user\\'s message. The user may express them as words (one, two,...) or digits (1, 2,...) in Vietnamese. If the user provides words, convert them to digits. Accepted values range from 1 to 10.\", \"type\": \"string\"}]}'}</td>\n",
              "      <td>{'role': 'user', 'content': 'Các gói dịch vụ hiện tại giá thế nào ạ số của mình là 094 chín bốn 8một nămsáu chín'}</td>\n",
              "      <td>{'role': 'assistant', 'content': \"&lt;functioncall&gt; {'name': 'information_extraction', 'arguments': {'customer_phone': '0949481569'}}\"}</td>\n",
              "      <td>Các gói dịch vụ hiện tại giá thế nào ạ số của mình là 094 chín bốn 8một nămsáu chín</td>\n",
              "      <td>Chào bạn, mình cần số điện thoại đầy đủ của bạn để gửi bảng giá các gói dịch vụ hiện tại nhé.</td>\n",
              "      <td>094948</td>\n",
              "      <td>&lt;functioncall&gt; {'name': 'information_extraction', 'arguments': {'customer_phone': '0949481569'}}\"</td>\n",
              "    </tr>\n",
              "  </tbody>\n",
              "</table>\n",
              "</div>\n",
              "    <div class=\"colab-df-buttons\">\n",
              "\n",
              "  <div class=\"colab-df-container\">\n",
              "    <button class=\"colab-df-convert\" onclick=\"convertToInteractive('df-2b908eaa-439a-4d71-9b7d-bfc77fd3652b')\"\n",
              "            title=\"Convert this dataframe to an interactive table.\"\n",
              "            style=\"display:none;\">\n",
              "\n",
              "  <svg xmlns=\"http://www.w3.org/2000/svg\" height=\"24px\" viewBox=\"0 -960 960 960\">\n",
              "    <path d=\"M120-120v-720h720v720H120Zm60-500h600v-160H180v160Zm220 220h160v-160H400v160Zm0 220h160v-160H400v160ZM180-400h160v-160H180v160Zm440 0h160v-160H620v160ZM180-180h160v-160H180v160Zm440 0h160v-160H620v160Z\"/>\n",
              "  </svg>\n",
              "    </button>\n",
              "\n",
              "  <style>\n",
              "    .colab-df-container {\n",
              "      display:flex;\n",
              "      gap: 12px;\n",
              "    }\n",
              "\n",
              "    .colab-df-convert {\n",
              "      background-color: #E8F0FE;\n",
              "      border: none;\n",
              "      border-radius: 50%;\n",
              "      cursor: pointer;\n",
              "      display: none;\n",
              "      fill: #1967D2;\n",
              "      height: 32px;\n",
              "      padding: 0 0 0 0;\n",
              "      width: 32px;\n",
              "    }\n",
              "\n",
              "    .colab-df-convert:hover {\n",
              "      background-color: #E2EBFA;\n",
              "      box-shadow: 0px 1px 2px rgba(60, 64, 67, 0.3), 0px 1px 3px 1px rgba(60, 64, 67, 0.15);\n",
              "      fill: #174EA6;\n",
              "    }\n",
              "\n",
              "    .colab-df-buttons div {\n",
              "      margin-bottom: 4px;\n",
              "    }\n",
              "\n",
              "    [theme=dark] .colab-df-convert {\n",
              "      background-color: #3B4455;\n",
              "      fill: #D2E3FC;\n",
              "    }\n",
              "\n",
              "    [theme=dark] .colab-df-convert:hover {\n",
              "      background-color: #434B5C;\n",
              "      box-shadow: 0px 1px 3px 1px rgba(0, 0, 0, 0.15);\n",
              "      filter: drop-shadow(0px 1px 2px rgba(0, 0, 0, 0.3));\n",
              "      fill: #FFFFFF;\n",
              "    }\n",
              "  </style>\n",
              "\n",
              "    <script>\n",
              "      const buttonEl =\n",
              "        document.querySelector('#df-2b908eaa-439a-4d71-9b7d-bfc77fd3652b button.colab-df-convert');\n",
              "      buttonEl.style.display =\n",
              "        google.colab.kernel.accessAllowed ? 'block' : 'none';\n",
              "\n",
              "      async function convertToInteractive(key) {\n",
              "        const element = document.querySelector('#df-2b908eaa-439a-4d71-9b7d-bfc77fd3652b');\n",
              "        const dataTable =\n",
              "          await google.colab.kernel.invokeFunction('convertToInteractive',\n",
              "                                                    [key], {});\n",
              "        if (!dataTable) return;\n",
              "\n",
              "        const docLinkHtml = 'Like what you see? Visit the ' +\n",
              "          '<a target=\"_blank\" href=https://colab.research.google.com/notebooks/data_table.ipynb>data table notebook</a>'\n",
              "          + ' to learn more about interactive tables.';\n",
              "        element.innerHTML = '';\n",
              "        dataTable['output_type'] = 'display_data';\n",
              "        await google.colab.output.renderOutput(dataTable, element);\n",
              "        const docLink = document.createElement('div');\n",
              "        docLink.innerHTML = docLinkHtml;\n",
              "        element.appendChild(docLink);\n",
              "      }\n",
              "    </script>\n",
              "  </div>\n",
              "\n",
              "\n",
              "    <div id=\"df-c2f1d0d4-7ad2-43a3-b371-97c4c02a30a1\">\n",
              "      <button class=\"colab-df-quickchart\" onclick=\"quickchart('df-c2f1d0d4-7ad2-43a3-b371-97c4c02a30a1')\"\n",
              "                title=\"Suggest charts\"\n",
              "                style=\"display:none;\">\n",
              "\n",
              "<svg xmlns=\"http://www.w3.org/2000/svg\" height=\"24px\"viewBox=\"0 0 24 24\"\n",
              "     width=\"24px\">\n",
              "    <g>\n",
              "        <path d=\"M19 3H5c-1.1 0-2 .9-2 2v14c0 1.1.9 2 2 2h14c1.1 0 2-.9 2-2V5c0-1.1-.9-2-2-2zM9 17H7v-7h2v7zm4 0h-2V7h2v10zm4 0h-2v-4h2v4z\"/>\n",
              "    </g>\n",
              "</svg>\n",
              "      </button>\n",
              "\n",
              "<style>\n",
              "  .colab-df-quickchart {\n",
              "      --bg-color: #E8F0FE;\n",
              "      --fill-color: #1967D2;\n",
              "      --hover-bg-color: #E2EBFA;\n",
              "      --hover-fill-color: #174EA6;\n",
              "      --disabled-fill-color: #AAA;\n",
              "      --disabled-bg-color: #DDD;\n",
              "  }\n",
              "\n",
              "  [theme=dark] .colab-df-quickchart {\n",
              "      --bg-color: #3B4455;\n",
              "      --fill-color: #D2E3FC;\n",
              "      --hover-bg-color: #434B5C;\n",
              "      --hover-fill-color: #FFFFFF;\n",
              "      --disabled-bg-color: #3B4455;\n",
              "      --disabled-fill-color: #666;\n",
              "  }\n",
              "\n",
              "  .colab-df-quickchart {\n",
              "    background-color: var(--bg-color);\n",
              "    border: none;\n",
              "    border-radius: 50%;\n",
              "    cursor: pointer;\n",
              "    display: none;\n",
              "    fill: var(--fill-color);\n",
              "    height: 32px;\n",
              "    padding: 0;\n",
              "    width: 32px;\n",
              "  }\n",
              "\n",
              "  .colab-df-quickchart:hover {\n",
              "    background-color: var(--hover-bg-color);\n",
              "    box-shadow: 0 1px 2px rgba(60, 64, 67, 0.3), 0 1px 3px 1px rgba(60, 64, 67, 0.15);\n",
              "    fill: var(--button-hover-fill-color);\n",
              "  }\n",
              "\n",
              "  .colab-df-quickchart-complete:disabled,\n",
              "  .colab-df-quickchart-complete:disabled:hover {\n",
              "    background-color: var(--disabled-bg-color);\n",
              "    fill: var(--disabled-fill-color);\n",
              "    box-shadow: none;\n",
              "  }\n",
              "\n",
              "  .colab-df-spinner {\n",
              "    border: 2px solid var(--fill-color);\n",
              "    border-color: transparent;\n",
              "    border-bottom-color: var(--fill-color);\n",
              "    animation:\n",
              "      spin 1s steps(1) infinite;\n",
              "  }\n",
              "\n",
              "  @keyframes spin {\n",
              "    0% {\n",
              "      border-color: transparent;\n",
              "      border-bottom-color: var(--fill-color);\n",
              "      border-left-color: var(--fill-color);\n",
              "    }\n",
              "    20% {\n",
              "      border-color: transparent;\n",
              "      border-left-color: var(--fill-color);\n",
              "      border-top-color: var(--fill-color);\n",
              "    }\n",
              "    30% {\n",
              "      border-color: transparent;\n",
              "      border-left-color: var(--fill-color);\n",
              "      border-top-color: var(--fill-color);\n",
              "      border-right-color: var(--fill-color);\n",
              "    }\n",
              "    40% {\n",
              "      border-color: transparent;\n",
              "      border-right-color: var(--fill-color);\n",
              "      border-top-color: var(--fill-color);\n",
              "    }\n",
              "    60% {\n",
              "      border-color: transparent;\n",
              "      border-right-color: var(--fill-color);\n",
              "    }\n",
              "    80% {\n",
              "      border-color: transparent;\n",
              "      border-right-color: var(--fill-color);\n",
              "      border-bottom-color: var(--fill-color);\n",
              "    }\n",
              "    90% {\n",
              "      border-color: transparent;\n",
              "      border-bottom-color: var(--fill-color);\n",
              "    }\n",
              "  }\n",
              "</style>\n",
              "\n",
              "      <script>\n",
              "        async function quickchart(key) {\n",
              "          const quickchartButtonEl =\n",
              "            document.querySelector('#' + key + ' button');\n",
              "          quickchartButtonEl.disabled = true;  // To prevent multiple clicks.\n",
              "          quickchartButtonEl.classList.add('colab-df-spinner');\n",
              "          try {\n",
              "            const charts = await google.colab.kernel.invokeFunction(\n",
              "                'suggestCharts', [key], {});\n",
              "          } catch (error) {\n",
              "            console.error('Error during call to suggestCharts:', error);\n",
              "          }\n",
              "          quickchartButtonEl.classList.remove('colab-df-spinner');\n",
              "          quickchartButtonEl.classList.add('colab-df-quickchart-complete');\n",
              "        }\n",
              "        (() => {\n",
              "          let quickchartButtonEl =\n",
              "            document.querySelector('#df-c2f1d0d4-7ad2-43a3-b371-97c4c02a30a1 button');\n",
              "          quickchartButtonEl.style.display =\n",
              "            google.colab.kernel.accessAllowed ? 'block' : 'none';\n",
              "        })();\n",
              "      </script>\n",
              "    </div>\n",
              "\n",
              "    </div>\n",
              "  </div>\n"
            ],
            "application/vnd.google.colaboratory.intrinsic+json": {
              "type": "dataframe",
              "variable_name": "df",
              "summary": "{\n  \"name\": \"df\",\n  \"rows\": 5454,\n  \"fields\": [\n    {\n      \"column\": \"Unnamed: 0.1\",\n      \"properties\": {\n        \"dtype\": \"number\",\n        \"std\": 1574,\n        \"min\": 0,\n        \"max\": 5453,\n        \"num_unique_values\": 5454,\n        \"samples\": [\n          5145,\n          4696,\n          4740\n        ],\n        \"semantic_type\": \"\",\n        \"description\": \"\"\n      }\n    },\n    {\n      \"column\": \"Unnamed: 0\",\n      \"properties\": {\n        \"dtype\": \"number\",\n        \"std\": 1578,\n        \"min\": 0,\n        \"max\": 5466,\n        \"num_unique_values\": 5454,\n        \"samples\": [\n          5156,\n          4706,\n          4750\n        ],\n        \"semantic_type\": \"\",\n        \"description\": \"\"\n      }\n    },\n    {\n      \"column\": \"user1\",\n      \"properties\": {\n        \"dtype\": \"string\",\n        \"num_unique_values\": 5386,\n        \"samples\": [\n          \"s\\u1ed1 a 08450731\",\n          \"V\\u00e2ng \\u1ea1 sdt c\\u1ee7a m\\u00ecnh l\\u00e0 058 n\\u0103m 6\",\n          \"Sdt 099440247\"\n        ],\n        \"semantic_type\": \"\",\n        \"description\": \"\"\n      }\n    },\n    {\n      \"column\": \"user2\",\n      \"properties\": {\n        \"dtype\": \"string\",\n        \"num_unique_values\": 5257,\n        \"samples\": [\n          \"4553501\",\n          \"8 s\\u00e1u b\\u1ed1n 3 n\\u0103m\",\n          \"3707, c\\u1ea7n kh\\u00e1m t\\u1ed5ng qu\\u00e1t\"\n        ],\n        \"semantic_type\": \"\",\n        \"description\": \"\"\n      }\n    },\n    {\n      \"column\": \"index\",\n      \"properties\": {\n        \"dtype\": \"number\",\n        \"std\": 853,\n        \"min\": 0,\n        \"max\": 2999,\n        \"num_unique_values\": 2999,\n        \"samples\": [\n          1679,\n          1034,\n          144\n        ],\n        \"semantic_type\": \"\",\n        \"description\": \"\"\n      }\n    },\n    {\n      \"column\": \"system\",\n      \"properties\": {\n        \"dtype\": \"category\",\n        \"num_unique_values\": 1,\n        \"samples\": [\n          \"{'role': 'system', 'content': 'Extracts the relevant information from the passage.\\\\n{\\\"name\\\": \\\"information_extraction\\\", \\\"description\\\": \\\"Extracts the relevant information from the passage\\\",\\\\n\\\"arguments\\\": [{\\\"name\\\": \\\"customer_name\\\", \\\"desc\\\": \\\"Customer\\\\'s name\\\", \\\"type\\\": \\\"string\\\"},\\\\n{\\\"name\\\": \\\"customer_phone\\\", \\\"desc\\\": \\\"Customer\\\\'s phone number\\\", \\\"type\\\": \\\"string\\\"},\\\\n{\\\"name\\\": \\\"medical_department\\\", \\\"desc\\\": \\\"Medical department or service information.\\\", \\\"type\\\": \\\"string\\\"},\\\\n{\\\"name\\\": \\\"is_yes\\\", \\\"desc\\\": \\\"Can take two values:\\\\\\\\n- true (if the user confirms, agrees, says something affirmative, or expresses consent in any similar way.)\\\\\\\\n- false (if the user expresses the opposite, does not approve, disagrees, or shows any similar response.)\\\", \\\"type\\\": \\\"string\\\"},\\\\n{\\\"name\\\": \\\"hospital_name\\\", \\\"desc\\\": \\\"Identify the name of the hospital, place or facility of Vinmec\\\", \\\"type\\\": \\\"string\\\"},\\\\n{\\\"name\\\": \\\"customer_dob\\\", \\\"desc\\\": \\\"Extract the user\\\\'s date of birth. Format DD-MM-YYYY. This value must be a date in the past.\\\", \\\"type\\\": \\\"string\\\"},\\\\n{\\\"name\\\": \\\"customer_place\\\", \\\"desc\\\": \\\"Province/City provided by the customer\\\", \\\"type\\\": \\\"string\\\"},\\\\n{\\\"name\\\": \\\"symptoms\\\", \\\"desc\\\": \\\"Identify and extract users\\\\' symptom information based on their messages\\\", \\\"type\\\": \\\"string\\\"},\\\\n{\\\"name\\\": \\\"relationship\\\", \\\"desc\\\": \\\"Relationship to the person booking the appointment\\\", \\\"type\\\": \\\"string\\\"},\\\\n{\\\"name\\\": \\\"appointment_date\\\", \\\"desc\\\": \\\"Medical appointment schedulling date based on the user\\\\'s messages. remember extract by following format: DD-MM-YYYY. This value must be a date in the future. \\\\\\\\nExample: 1999-04-24 -> 24-04-1999\\\", \\\"type\\\": \\\"string\\\"},\\\\n{\\\"name\\\": \\\"appointment_time\\\", \\\"desc\\\": \\\"Medical appointment schedulling time based on the user\\\\'s messages. The time frame will follow a 24-hour format and the time zone is GMT+7 follow this format: HH:mm\\\", \\\"type\\\": \\\"string\\\"}, {\\\"name\\\": \\\"cancel_num\\\", \\\"desc\\\": \\\"Identify number from the user\\\\'s message. The user may express them as words (one, two,...) or digits (1, 2,...) in Vietnamese. If the user provides words, convert them to digits. Accepted values range from 1 to 10.\\\", \\\"type\\\": \\\"string\\\"}]}'}\"\n        ],\n        \"semantic_type\": \"\",\n        \"description\": \"\"\n      }\n    },\n    {\n      \"column\": \"user\",\n      \"properties\": {\n        \"dtype\": \"string\",\n        \"num_unique_values\": 5450,\n        \"samples\": [\n          \"{'role': 'user', 'content': 'S\\u1ed1 anh 0772979827, si\\u00eau \\u00e2m nh\\u00e9'}\"\n        ],\n        \"semantic_type\": \"\",\n        \"description\": \"\"\n      }\n    },\n    {\n      \"column\": \"assistant\",\n      \"properties\": {\n        \"dtype\": \"string\",\n        \"num_unique_values\": 5157,\n        \"samples\": [\n          \"{'role': 'assistant', 'content': \\\"<functioncall> {'name': 'information_extraction', 'arguments': {'customer_name': 'H\\u01b0\\u1eddng', 'customer_phone': '0386965475'}}\\\"}\"\n        ],\n        \"semantic_type\": \"\",\n        \"description\": \"\"\n      }\n    },\n    {\n      \"column\": \"query\",\n      \"properties\": {\n        \"dtype\": \"string\",\n        \"num_unique_values\": 5450,\n        \"samples\": [\n          \"S\\u1ed1 anh 0772979827, si\\u00eau \\u00e2m nh\\u00e9\"\n        ],\n        \"semantic_type\": \"\",\n        \"description\": \"\"\n      }\n    },\n    {\n      \"column\": \"response\",\n      \"properties\": {\n        \"dtype\": \"string\",\n        \"num_unique_values\": 3390,\n        \"samples\": [\n          \"Ch\\u00e0o em, em vui l\\u00f2ng cung c\\u1ea5p \\u0111\\u1ea7y \\u0111\\u1ee7 s\\u1ed1 \\u0111i\\u1ec7n tho\\u1ea1i \\u0111\\u1ec3 anh/ch\\u1ecb h\\u1ecfi v\\u1ec1 c\\u00e1c g\\u00f3i kh\\u00e1m tr\\u01b0\\u1edbc khi k\\u1ebft h\\u00f4n nh\\u00e9.\"\n        ],\n        \"semantic_type\": \"\",\n        \"description\": \"\"\n      }\n    },\n    {\n      \"column\": \"user1_number\",\n      \"properties\": {\n        \"dtype\": \"string\",\n        \"num_unique_values\": 3669,\n        \"samples\": [\n          \"077130\"\n        ],\n        \"semantic_type\": \"\",\n        \"description\": \"\"\n      }\n    },\n    {\n      \"column\": \"args\",\n      \"properties\": {\n        \"dtype\": \"string\",\n        \"num_unique_values\": 5157,\n        \"samples\": [\n          \"<functioncall> {'name': 'information_extraction', 'arguments': {'customer_name': 'H\\u01b0\\u1eddng', 'customer_phone': '0386965475'}}\\\"\"\n        ],\n        \"semantic_type\": \"\",\n        \"description\": \"\"\n      }\n    }\n  ]\n}"
            }
          },
          "metadata": {},
          "execution_count": 62
        }
      ]
    },
    {
      "cell_type": "code",
      "source": [
        "import json\n",
        "from tqdm import tqdm # Assuming tqdm is used elsewhere and needed\n",
        "\n",
        "def transform_json(input_df):\n",
        "    # Define the system content\n",
        "    system_content = ''' \"Extracts the relevant information from the passage.\\n{\\\"name\\\": \\\"information_extraction\\\", \\\"description\\\": \\\"Extracts the relevant information from the passage\\\", \\\"arguments\\\": [{\\\"name\\\": \\\"customer_name\\\", \\\"desc\\\": \\\"Customer's name\\\", \\\"type\\\": \\\"string\\\"}, {\\\"name\\\": \\\"customer_phone\\\", \\\"desc\\\": \\\"Customer's phone number\\\", \\\"type\\\": \\\"string\\\"}, {\\\"name\\\": \\\"medical_department\\\", \\\"desc\\\": \\\"Medical department or service information.\\\", \\\"type\\\": \\\"string\\\"}, {\\\"name\\\": \\\"is_yes\\\", \\\"desc\\\": \\\"Can take two values:\\\\n- true (if the user confirms, agrees, says something affirmative, or expresses consent in any similar way.)\\\\n- false (if the user expresses the opposite, does not approve, disagrees, or shows any similar response.)\\\", \\\"type\\\": \\\"string\\\"}, {\\\"name\\\": \\\"hospital_name\\\", \\\"desc\\\": \\\"Identify the name of the hospital, place or facility of Vinmec\\\", \\\"type\\\": \\\"string\\\"}, {\\\"name\\\": \\\"customer_dob\\\", \\\"desc\\\": \\\"Extract the user's date of birth. Format DD-MM-YYYY. This value must be a date in the past.\\\", \\\"type\\\": \\\"string\\\"}, {\\\"name\\\": \\\"customer_place\\\", \\\"desc\\\": \\\"Province/City provided by the customer\\\", \\\"type\\\": \\\"string\\\"}, {\\\"name\\\": \\\"symptoms\\\", \\\"desc\\\": \\\"Identify and extract users' symptom information based on their messages\\\", \\\"type\\\": \\\"string\\\"}, {\\\"name\\\": \\\"relationship\\\", \\\"desc\\\": \\\"Relationship to the person booking the appointment\\\", \\\"type\\\": \\\"string\\\"}, {\\\"name\\\": \\\"appointment_date\\\", \\\"desc\\\": \\\"Medical appointment schedulling date based on the user's messages. remember extract by following format: DD-MM-YYYY. This value must be a date in the future. \\\\nExample: 1999-04-24 -> 24-04-1999\\\", \\\"type\\\": \\\"string\\\"}, {\\\"name\\\": \\\"appointment_time\\\", \\\"desc\\\": \\\"Medical appointment schedulling time based on the user's messages. The time frame will follow a 24-hour format and the time zone is GMT+7 follow this format: HH:mm, If the user expresses flexibility such as 'any time is fine', 'whenever', or 'lúc nào cũng được', return the value 'free'.\\\", \\\"type\\\": \\\"string\\\"}, {\\\"name\\\": \\\"doctor_name\\\", \\\"desc\\\": \\\"Name of the doctor mentioned by the user that they want to book an appointment with.\\\", \\\"type\\\": \\\"string\\\"}, {\\\"name\\\": \\\"medical_department\\\", \\\"desc\\\": \\\"Medical department provided by the user. \\\", \\\"type\\\": \\\"string\\\"}, {\\\"name\\\": \\\"cancel_num\\\", \\\"desc\\\": \\\"Identify number from the user's message. The user may express them as words (one, two,...) or digits (1, 2,...) in Vietnamese. If the user provides words, convert them to digits. Accepted values range from 1 to 10.\\\", \\\"type\\\": \\\"string\\\"}]}\" '''\n",
        "\n",
        "    input_data = input_df\n",
        "\n",
        "    input_data.astype('object').dtypes\n",
        "\n",
        "    # Initialize output array\n",
        "    output = []\n",
        "\n",
        "    # Process each entry using iterrows() to get (index, row)\n",
        "    for index, entry in input_data.iterrows():\n",
        "        user1_number = str(entry['user1_number'])\n",
        "        user1 = entry['user1']\n",
        "        user2 = entry['user2']\n",
        "        assistant = entry['assistant']\n",
        "        response = entry['response']\n",
        "        args = entry['args']\n",
        "\n",
        "        # Create the subarray for this entry\n",
        "        transformed_entry = [\n",
        "            {\n",
        "                \"role\": \"system\",\n",
        "                \"content\": system_content\n",
        "            },\n",
        "            {\n",
        "                \"role\": \"user\",\n",
        "                \"content\": user1\n",
        "            },\n",
        "            {\n",
        "                \"role\": \"assistant\",\n",
        "                \"content\": f\"<functioncall> {{'name': 'information_extraction', 'arguments': {{'customer_phone': '{user1_number}'}}}}\"\n",
        "            },\n",
        "            {\n",
        "                \"role\": \"assistant\",\n",
        "                \"content\": response\n",
        "            },\n",
        "            {\n",
        "                \"role\": \"user\",\n",
        "                \"content\": user2\n",
        "            },\n",
        "            {\n",
        "                \"role\": \"assistant\",\n",
        "                \"content\": '\"' + args\n",
        "            }\n",
        "\n",
        "        ]\n",
        "\n",
        "        output.append(transformed_entry)\n",
        "\n",
        "    return output\n"
      ],
      "metadata": {
        "id": "gsCMZwQmwq7M"
      },
      "execution_count": null,
      "outputs": []
    },
    {
      "cell_type": "code",
      "source": [
        "df.head(3)"
      ],
      "metadata": {
        "colab": {
          "base_uri": "https://localhost:8080/",
          "height": 1000
        },
        "id": "FRON9csL3xNZ",
        "outputId": "54034025-b278-482c-e045-264c3faf9fc2"
      },
      "execution_count": null,
      "outputs": [
        {
          "output_type": "execute_result",
          "data": {
            "text/plain": [
              "   Unnamed: 0.1  Unnamed: 0  \\\n",
              "0             0           0   \n",
              "1             1           1   \n",
              "2             2           2   \n",
              "\n",
              "                                                               user1  \\\n",
              "0           Em muốn tìm hiểu các gói khám sức khỏe sdt em là 088 sáu   \n",
              "1  Gói sản phẩm bên mình có gì hot không ạ số mình 0390 không haibốn   \n",
              "2  Cho mình xin thông tin khuyến mãi đi số điện thoại mình là 037 50   \n",
              "\n",
              "             user2  index  \\\n",
              "0     năm 44 bảy67      0   \n",
              "1      năm năm một      1   \n",
              "2  7 5sáu chín hai      2   \n",
              "\n",
              "                                                                                                                                                                                                                                                                                                                                                                                                                                                                                                                                                                                                                                                                                                                                                                                                                                                                                                                                                                                                                                                                                                                                                                                                                                                                                                                                                                                                                                                                                                                                                                                                                                                                                                                                                                                                                                                                                                                                                                                                                                                                                                                                                                                    system  \\\n",
              "0  {'role': 'system', 'content': 'Extracts the relevant information from the passage.\\n{\"name\": \"information_extraction\", \"description\": \"Extracts the relevant information from the passage\",\\n\"arguments\": [{\"name\": \"customer_name\", \"desc\": \"Customer\\'s name\", \"type\": \"string\"},\\n{\"name\": \"customer_phone\", \"desc\": \"Customer\\'s phone number\", \"type\": \"string\"},\\n{\"name\": \"medical_department\", \"desc\": \"Medical department or service information.\", \"type\": \"string\"},\\n{\"name\": \"is_yes\", \"desc\": \"Can take two values:\\\\n- true (if the user confirms, agrees, says something affirmative, or expresses consent in any similar way.)\\\\n- false (if the user expresses the opposite, does not approve, disagrees, or shows any similar response.)\", \"type\": \"string\"},\\n{\"name\": \"hospital_name\", \"desc\": \"Identify the name of the hospital, place or facility of Vinmec\", \"type\": \"string\"},\\n{\"name\": \"customer_dob\", \"desc\": \"Extract the user\\'s date of birth. Format DD-MM-YYYY. This value must be a date in the past.\", \"type\": \"string\"},\\n{\"name\": \"customer_place\", \"desc\": \"Province/City provided by the customer\", \"type\": \"string\"},\\n{\"name\": \"symptoms\", \"desc\": \"Identify and extract users\\' symptom information based on their messages\", \"type\": \"string\"},\\n{\"name\": \"relationship\", \"desc\": \"Relationship to the person booking the appointment\", \"type\": \"string\"},\\n{\"name\": \"appointment_date\", \"desc\": \"Medical appointment schedulling date based on the user\\'s messages. remember extract by following format: DD-MM-YYYY. This value must be a date in the future. \\\\nExample: 1999-04-24 -> 24-04-1999\", \"type\": \"string\"},\\n{\"name\": \"appointment_time\", \"desc\": \"Medical appointment schedulling time based on the user\\'s messages. The time frame will follow a 24-hour format and the time zone is GMT+7 follow this format: HH:mm\", \"type\": \"string\"}, {\"name\": \"cancel_num\", \"desc\": \"Identify number from the user\\'s message. The user may express them as words (one, two,...) or digits (1, 2,...) in Vietnamese. If the user provides words, convert them to digits. Accepted values range from 1 to 10.\", \"type\": \"string\"}]}'}   \n",
              "1  {'role': 'system', 'content': 'Extracts the relevant information from the passage.\\n{\"name\": \"information_extraction\", \"description\": \"Extracts the relevant information from the passage\",\\n\"arguments\": [{\"name\": \"customer_name\", \"desc\": \"Customer\\'s name\", \"type\": \"string\"},\\n{\"name\": \"customer_phone\", \"desc\": \"Customer\\'s phone number\", \"type\": \"string\"},\\n{\"name\": \"medical_department\", \"desc\": \"Medical department or service information.\", \"type\": \"string\"},\\n{\"name\": \"is_yes\", \"desc\": \"Can take two values:\\\\n- true (if the user confirms, agrees, says something affirmative, or expresses consent in any similar way.)\\\\n- false (if the user expresses the opposite, does not approve, disagrees, or shows any similar response.)\", \"type\": \"string\"},\\n{\"name\": \"hospital_name\", \"desc\": \"Identify the name of the hospital, place or facility of Vinmec\", \"type\": \"string\"},\\n{\"name\": \"customer_dob\", \"desc\": \"Extract the user\\'s date of birth. Format DD-MM-YYYY. This value must be a date in the past.\", \"type\": \"string\"},\\n{\"name\": \"customer_place\", \"desc\": \"Province/City provided by the customer\", \"type\": \"string\"},\\n{\"name\": \"symptoms\", \"desc\": \"Identify and extract users\\' symptom information based on their messages\", \"type\": \"string\"},\\n{\"name\": \"relationship\", \"desc\": \"Relationship to the person booking the appointment\", \"type\": \"string\"},\\n{\"name\": \"appointment_date\", \"desc\": \"Medical appointment schedulling date based on the user\\'s messages. remember extract by following format: DD-MM-YYYY. This value must be a date in the future. \\\\nExample: 1999-04-24 -> 24-04-1999\", \"type\": \"string\"},\\n{\"name\": \"appointment_time\", \"desc\": \"Medical appointment schedulling time based on the user\\'s messages. The time frame will follow a 24-hour format and the time zone is GMT+7 follow this format: HH:mm\", \"type\": \"string\"}, {\"name\": \"cancel_num\", \"desc\": \"Identify number from the user\\'s message. The user may express them as words (one, two,...) or digits (1, 2,...) in Vietnamese. If the user provides words, convert them to digits. Accepted values range from 1 to 10.\", \"type\": \"string\"}]}'}   \n",
              "2  {'role': 'system', 'content': 'Extracts the relevant information from the passage.\\n{\"name\": \"information_extraction\", \"description\": \"Extracts the relevant information from the passage\",\\n\"arguments\": [{\"name\": \"customer_name\", \"desc\": \"Customer\\'s name\", \"type\": \"string\"},\\n{\"name\": \"customer_phone\", \"desc\": \"Customer\\'s phone number\", \"type\": \"string\"},\\n{\"name\": \"medical_department\", \"desc\": \"Medical department or service information.\", \"type\": \"string\"},\\n{\"name\": \"is_yes\", \"desc\": \"Can take two values:\\\\n- true (if the user confirms, agrees, says something affirmative, or expresses consent in any similar way.)\\\\n- false (if the user expresses the opposite, does not approve, disagrees, or shows any similar response.)\", \"type\": \"string\"},\\n{\"name\": \"hospital_name\", \"desc\": \"Identify the name of the hospital, place or facility of Vinmec\", \"type\": \"string\"},\\n{\"name\": \"customer_dob\", \"desc\": \"Extract the user\\'s date of birth. Format DD-MM-YYYY. This value must be a date in the past.\", \"type\": \"string\"},\\n{\"name\": \"customer_place\", \"desc\": \"Province/City provided by the customer\", \"type\": \"string\"},\\n{\"name\": \"symptoms\", \"desc\": \"Identify and extract users\\' symptom information based on their messages\", \"type\": \"string\"},\\n{\"name\": \"relationship\", \"desc\": \"Relationship to the person booking the appointment\", \"type\": \"string\"},\\n{\"name\": \"appointment_date\", \"desc\": \"Medical appointment schedulling date based on the user\\'s messages. remember extract by following format: DD-MM-YYYY. This value must be a date in the future. \\\\nExample: 1999-04-24 -> 24-04-1999\", \"type\": \"string\"},\\n{\"name\": \"appointment_time\", \"desc\": \"Medical appointment schedulling time based on the user\\'s messages. The time frame will follow a 24-hour format and the time zone is GMT+7 follow this format: HH:mm\", \"type\": \"string\"}, {\"name\": \"cancel_num\", \"desc\": \"Identify number from the user\\'s message. The user may express them as words (one, two,...) or digits (1, 2,...) in Vietnamese. If the user provides words, convert them to digits. Accepted values range from 1 to 10.\", \"type\": \"string\"}]}'}   \n",
              "\n",
              "                                                                                                               user  \\\n",
              "0              {'role': 'user', 'content': 'Em muốn tìm hiểu các gói khám sức khỏe sdt em là 088 sáu năm 44 bảy67'}   \n",
              "1       {'role': 'user', 'content': 'Gói sản phẩm bên mình có gì hot không ạ số mình 0390 không haibốnnăm năm một'}   \n",
              "2  {'role': 'user', 'content': 'Cho mình xin thông tin khuyến mãi đi số điện thoại mình là 037 50 7 5sáu chín hai'}   \n",
              "\n",
              "                                                                                                                              assistant  \\\n",
              "0  {'role': 'assistant', 'content': \"<functioncall> {'name': 'information_extraction', 'arguments': {'customer_phone': '0886544767'}}\"}   \n",
              "1  {'role': 'assistant', 'content': \"<functioncall> {'name': 'information_extraction', 'arguments': {'customer_phone': '0390024551'}}\"}   \n",
              "2  {'role': 'assistant', 'content': \"<functioncall> {'name': 'information_extraction', 'arguments': {'customer_phone': '0375075692'}}\"}   \n",
              "\n",
              "                                                                               query  \\\n",
              "0              Em muốn tìm hiểu các gói khám sức khỏe sdt em là 088 sáu năm 44 bảy67   \n",
              "1       Gói sản phẩm bên mình có gì hot không ạ số mình 0390 không haibốnnăm năm một   \n",
              "2  Cho mình xin thông tin khuyến mãi đi số điện thoại mình là 037 50 7 5sáu chín hai   \n",
              "\n",
              "                                                                                                                        response  \\\n",
              "0                         Chào em, em vui lòng cung cấp đầy đủ số điện thoại để anh/chị hỗ trợ tư vấn các gói khám sức khỏe nhé.   \n",
              "1  Chào bạn, bạn vui lòng cho mình xin số điện thoại đầy đủ để mình có thể tư vấn chi tiết về các gói sản phẩm hot bên mình nhé.   \n",
              "2                                        Chào bạn, để nhận thông tin khuyến mãi, bạn vui lòng cung cấp đầy đủ số điện thoại nhé.   \n",
              "\n",
              "  user1_number  \\\n",
              "0         0886   \n",
              "1      0390024   \n",
              "2        03750   \n",
              "\n",
              "                                                                                                args  \n",
              "0  <functioncall> {'name': 'information_extraction', 'arguments': {'customer_phone': '0886544767'}}\"  \n",
              "1  <functioncall> {'name': 'information_extraction', 'arguments': {'customer_phone': '0390024551'}}\"  \n",
              "2  <functioncall> {'name': 'information_extraction', 'arguments': {'customer_phone': '0375075692'}}\"  "
            ],
            "text/html": [
              "\n",
              "  <div id=\"df-1168e01e-b1a2-4ffd-973d-a5cf54961da4\" class=\"colab-df-container\">\n",
              "    <div>\n",
              "<style scoped>\n",
              "    .dataframe tbody tr th:only-of-type {\n",
              "        vertical-align: middle;\n",
              "    }\n",
              "\n",
              "    .dataframe tbody tr th {\n",
              "        vertical-align: top;\n",
              "    }\n",
              "\n",
              "    .dataframe thead th {\n",
              "        text-align: right;\n",
              "    }\n",
              "</style>\n",
              "<table border=\"1\" class=\"dataframe\">\n",
              "  <thead>\n",
              "    <tr style=\"text-align: right;\">\n",
              "      <th></th>\n",
              "      <th>Unnamed: 0.1</th>\n",
              "      <th>Unnamed: 0</th>\n",
              "      <th>user1</th>\n",
              "      <th>user2</th>\n",
              "      <th>index</th>\n",
              "      <th>system</th>\n",
              "      <th>user</th>\n",
              "      <th>assistant</th>\n",
              "      <th>query</th>\n",
              "      <th>response</th>\n",
              "      <th>user1_number</th>\n",
              "      <th>args</th>\n",
              "    </tr>\n",
              "  </thead>\n",
              "  <tbody>\n",
              "    <tr>\n",
              "      <th>0</th>\n",
              "      <td>0</td>\n",
              "      <td>0</td>\n",
              "      <td>Em muốn tìm hiểu các gói khám sức khỏe sdt em là 088 sáu</td>\n",
              "      <td>năm 44 bảy67</td>\n",
              "      <td>0</td>\n",
              "      <td>{'role': 'system', 'content': 'Extracts the relevant information from the passage.\\n{\"name\": \"information_extraction\", \"description\": \"Extracts the relevant information from the passage\",\\n\"arguments\": [{\"name\": \"customer_name\", \"desc\": \"Customer\\'s name\", \"type\": \"string\"},\\n{\"name\": \"customer_phone\", \"desc\": \"Customer\\'s phone number\", \"type\": \"string\"},\\n{\"name\": \"medical_department\", \"desc\": \"Medical department or service information.\", \"type\": \"string\"},\\n{\"name\": \"is_yes\", \"desc\": \"Can take two values:\\\\n- true (if the user confirms, agrees, says something affirmative, or expresses consent in any similar way.)\\\\n- false (if the user expresses the opposite, does not approve, disagrees, or shows any similar response.)\", \"type\": \"string\"},\\n{\"name\": \"hospital_name\", \"desc\": \"Identify the name of the hospital, place or facility of Vinmec\", \"type\": \"string\"},\\n{\"name\": \"customer_dob\", \"desc\": \"Extract the user\\'s date of birth. Format DD-MM-YYYY. This value must be a date in the past.\", \"type\": \"string\"},\\n{\"name\": \"customer_place\", \"desc\": \"Province/City provided by the customer\", \"type\": \"string\"},\\n{\"name\": \"symptoms\", \"desc\": \"Identify and extract users\\' symptom information based on their messages\", \"type\": \"string\"},\\n{\"name\": \"relationship\", \"desc\": \"Relationship to the person booking the appointment\", \"type\": \"string\"},\\n{\"name\": \"appointment_date\", \"desc\": \"Medical appointment schedulling date based on the user\\'s messages. remember extract by following format: DD-MM-YYYY. This value must be a date in the future. \\\\nExample: 1999-04-24 -&gt; 24-04-1999\", \"type\": \"string\"},\\n{\"name\": \"appointment_time\", \"desc\": \"Medical appointment schedulling time based on the user\\'s messages. The time frame will follow a 24-hour format and the time zone is GMT+7 follow this format: HH:mm\", \"type\": \"string\"}, {\"name\": \"cancel_num\", \"desc\": \"Identify number from the user\\'s message. The user may express them as words (one, two,...) or digits (1, 2,...) in Vietnamese. If the user provides words, convert them to digits. Accepted values range from 1 to 10.\", \"type\": \"string\"}]}'}</td>\n",
              "      <td>{'role': 'user', 'content': 'Em muốn tìm hiểu các gói khám sức khỏe sdt em là 088 sáu năm 44 bảy67'}</td>\n",
              "      <td>{'role': 'assistant', 'content': \"&lt;functioncall&gt; {'name': 'information_extraction', 'arguments': {'customer_phone': '0886544767'}}\"}</td>\n",
              "      <td>Em muốn tìm hiểu các gói khám sức khỏe sdt em là 088 sáu năm 44 bảy67</td>\n",
              "      <td>Chào em, em vui lòng cung cấp đầy đủ số điện thoại để anh/chị hỗ trợ tư vấn các gói khám sức khỏe nhé.</td>\n",
              "      <td>0886</td>\n",
              "      <td>&lt;functioncall&gt; {'name': 'information_extraction', 'arguments': {'customer_phone': '0886544767'}}\"</td>\n",
              "    </tr>\n",
              "    <tr>\n",
              "      <th>1</th>\n",
              "      <td>1</td>\n",
              "      <td>1</td>\n",
              "      <td>Gói sản phẩm bên mình có gì hot không ạ số mình 0390 không haibốn</td>\n",
              "      <td>năm năm một</td>\n",
              "      <td>1</td>\n",
              "      <td>{'role': 'system', 'content': 'Extracts the relevant information from the passage.\\n{\"name\": \"information_extraction\", \"description\": \"Extracts the relevant information from the passage\",\\n\"arguments\": [{\"name\": \"customer_name\", \"desc\": \"Customer\\'s name\", \"type\": \"string\"},\\n{\"name\": \"customer_phone\", \"desc\": \"Customer\\'s phone number\", \"type\": \"string\"},\\n{\"name\": \"medical_department\", \"desc\": \"Medical department or service information.\", \"type\": \"string\"},\\n{\"name\": \"is_yes\", \"desc\": \"Can take two values:\\\\n- true (if the user confirms, agrees, says something affirmative, or expresses consent in any similar way.)\\\\n- false (if the user expresses the opposite, does not approve, disagrees, or shows any similar response.)\", \"type\": \"string\"},\\n{\"name\": \"hospital_name\", \"desc\": \"Identify the name of the hospital, place or facility of Vinmec\", \"type\": \"string\"},\\n{\"name\": \"customer_dob\", \"desc\": \"Extract the user\\'s date of birth. Format DD-MM-YYYY. This value must be a date in the past.\", \"type\": \"string\"},\\n{\"name\": \"customer_place\", \"desc\": \"Province/City provided by the customer\", \"type\": \"string\"},\\n{\"name\": \"symptoms\", \"desc\": \"Identify and extract users\\' symptom information based on their messages\", \"type\": \"string\"},\\n{\"name\": \"relationship\", \"desc\": \"Relationship to the person booking the appointment\", \"type\": \"string\"},\\n{\"name\": \"appointment_date\", \"desc\": \"Medical appointment schedulling date based on the user\\'s messages. remember extract by following format: DD-MM-YYYY. This value must be a date in the future. \\\\nExample: 1999-04-24 -&gt; 24-04-1999\", \"type\": \"string\"},\\n{\"name\": \"appointment_time\", \"desc\": \"Medical appointment schedulling time based on the user\\'s messages. The time frame will follow a 24-hour format and the time zone is GMT+7 follow this format: HH:mm\", \"type\": \"string\"}, {\"name\": \"cancel_num\", \"desc\": \"Identify number from the user\\'s message. The user may express them as words (one, two,...) or digits (1, 2,...) in Vietnamese. If the user provides words, convert them to digits. Accepted values range from 1 to 10.\", \"type\": \"string\"}]}'}</td>\n",
              "      <td>{'role': 'user', 'content': 'Gói sản phẩm bên mình có gì hot không ạ số mình 0390 không haibốnnăm năm một'}</td>\n",
              "      <td>{'role': 'assistant', 'content': \"&lt;functioncall&gt; {'name': 'information_extraction', 'arguments': {'customer_phone': '0390024551'}}\"}</td>\n",
              "      <td>Gói sản phẩm bên mình có gì hot không ạ số mình 0390 không haibốnnăm năm một</td>\n",
              "      <td>Chào bạn, bạn vui lòng cho mình xin số điện thoại đầy đủ để mình có thể tư vấn chi tiết về các gói sản phẩm hot bên mình nhé.</td>\n",
              "      <td>0390024</td>\n",
              "      <td>&lt;functioncall&gt; {'name': 'information_extraction', 'arguments': {'customer_phone': '0390024551'}}\"</td>\n",
              "    </tr>\n",
              "    <tr>\n",
              "      <th>2</th>\n",
              "      <td>2</td>\n",
              "      <td>2</td>\n",
              "      <td>Cho mình xin thông tin khuyến mãi đi số điện thoại mình là 037 50</td>\n",
              "      <td>7 5sáu chín hai</td>\n",
              "      <td>2</td>\n",
              "      <td>{'role': 'system', 'content': 'Extracts the relevant information from the passage.\\n{\"name\": \"information_extraction\", \"description\": \"Extracts the relevant information from the passage\",\\n\"arguments\": [{\"name\": \"customer_name\", \"desc\": \"Customer\\'s name\", \"type\": \"string\"},\\n{\"name\": \"customer_phone\", \"desc\": \"Customer\\'s phone number\", \"type\": \"string\"},\\n{\"name\": \"medical_department\", \"desc\": \"Medical department or service information.\", \"type\": \"string\"},\\n{\"name\": \"is_yes\", \"desc\": \"Can take two values:\\\\n- true (if the user confirms, agrees, says something affirmative, or expresses consent in any similar way.)\\\\n- false (if the user expresses the opposite, does not approve, disagrees, or shows any similar response.)\", \"type\": \"string\"},\\n{\"name\": \"hospital_name\", \"desc\": \"Identify the name of the hospital, place or facility of Vinmec\", \"type\": \"string\"},\\n{\"name\": \"customer_dob\", \"desc\": \"Extract the user\\'s date of birth. Format DD-MM-YYYY. This value must be a date in the past.\", \"type\": \"string\"},\\n{\"name\": \"customer_place\", \"desc\": \"Province/City provided by the customer\", \"type\": \"string\"},\\n{\"name\": \"symptoms\", \"desc\": \"Identify and extract users\\' symptom information based on their messages\", \"type\": \"string\"},\\n{\"name\": \"relationship\", \"desc\": \"Relationship to the person booking the appointment\", \"type\": \"string\"},\\n{\"name\": \"appointment_date\", \"desc\": \"Medical appointment schedulling date based on the user\\'s messages. remember extract by following format: DD-MM-YYYY. This value must be a date in the future. \\\\nExample: 1999-04-24 -&gt; 24-04-1999\", \"type\": \"string\"},\\n{\"name\": \"appointment_time\", \"desc\": \"Medical appointment schedulling time based on the user\\'s messages. The time frame will follow a 24-hour format and the time zone is GMT+7 follow this format: HH:mm\", \"type\": \"string\"}, {\"name\": \"cancel_num\", \"desc\": \"Identify number from the user\\'s message. The user may express them as words (one, two,...) or digits (1, 2,...) in Vietnamese. If the user provides words, convert them to digits. Accepted values range from 1 to 10.\", \"type\": \"string\"}]}'}</td>\n",
              "      <td>{'role': 'user', 'content': 'Cho mình xin thông tin khuyến mãi đi số điện thoại mình là 037 50 7 5sáu chín hai'}</td>\n",
              "      <td>{'role': 'assistant', 'content': \"&lt;functioncall&gt; {'name': 'information_extraction', 'arguments': {'customer_phone': '0375075692'}}\"}</td>\n",
              "      <td>Cho mình xin thông tin khuyến mãi đi số điện thoại mình là 037 50 7 5sáu chín hai</td>\n",
              "      <td>Chào bạn, để nhận thông tin khuyến mãi, bạn vui lòng cung cấp đầy đủ số điện thoại nhé.</td>\n",
              "      <td>03750</td>\n",
              "      <td>&lt;functioncall&gt; {'name': 'information_extraction', 'arguments': {'customer_phone': '0375075692'}}\"</td>\n",
              "    </tr>\n",
              "  </tbody>\n",
              "</table>\n",
              "</div>\n",
              "    <div class=\"colab-df-buttons\">\n",
              "\n",
              "  <div class=\"colab-df-container\">\n",
              "    <button class=\"colab-df-convert\" onclick=\"convertToInteractive('df-1168e01e-b1a2-4ffd-973d-a5cf54961da4')\"\n",
              "            title=\"Convert this dataframe to an interactive table.\"\n",
              "            style=\"display:none;\">\n",
              "\n",
              "  <svg xmlns=\"http://www.w3.org/2000/svg\" height=\"24px\" viewBox=\"0 -960 960 960\">\n",
              "    <path d=\"M120-120v-720h720v720H120Zm60-500h600v-160H180v160Zm220 220h160v-160H400v160Zm0 220h160v-160H400v160ZM180-400h160v-160H180v160Zm440 0h160v-160H620v160ZM180-180h160v-160H180v160Zm440 0h160v-160H620v160Z\"/>\n",
              "  </svg>\n",
              "    </button>\n",
              "\n",
              "  <style>\n",
              "    .colab-df-container {\n",
              "      display:flex;\n",
              "      gap: 12px;\n",
              "    }\n",
              "\n",
              "    .colab-df-convert {\n",
              "      background-color: #E8F0FE;\n",
              "      border: none;\n",
              "      border-radius: 50%;\n",
              "      cursor: pointer;\n",
              "      display: none;\n",
              "      fill: #1967D2;\n",
              "      height: 32px;\n",
              "      padding: 0 0 0 0;\n",
              "      width: 32px;\n",
              "    }\n",
              "\n",
              "    .colab-df-convert:hover {\n",
              "      background-color: #E2EBFA;\n",
              "      box-shadow: 0px 1px 2px rgba(60, 64, 67, 0.3), 0px 1px 3px 1px rgba(60, 64, 67, 0.15);\n",
              "      fill: #174EA6;\n",
              "    }\n",
              "\n",
              "    .colab-df-buttons div {\n",
              "      margin-bottom: 4px;\n",
              "    }\n",
              "\n",
              "    [theme=dark] .colab-df-convert {\n",
              "      background-color: #3B4455;\n",
              "      fill: #D2E3FC;\n",
              "    }\n",
              "\n",
              "    [theme=dark] .colab-df-convert:hover {\n",
              "      background-color: #434B5C;\n",
              "      box-shadow: 0px 1px 3px 1px rgba(0, 0, 0, 0.15);\n",
              "      filter: drop-shadow(0px 1px 2px rgba(0, 0, 0, 0.3));\n",
              "      fill: #FFFFFF;\n",
              "    }\n",
              "  </style>\n",
              "\n",
              "    <script>\n",
              "      const buttonEl =\n",
              "        document.querySelector('#df-1168e01e-b1a2-4ffd-973d-a5cf54961da4 button.colab-df-convert');\n",
              "      buttonEl.style.display =\n",
              "        google.colab.kernel.accessAllowed ? 'block' : 'none';\n",
              "\n",
              "      async function convertToInteractive(key) {\n",
              "        const element = document.querySelector('#df-1168e01e-b1a2-4ffd-973d-a5cf54961da4');\n",
              "        const dataTable =\n",
              "          await google.colab.kernel.invokeFunction('convertToInteractive',\n",
              "                                                    [key], {});\n",
              "        if (!dataTable) return;\n",
              "\n",
              "        const docLinkHtml = 'Like what you see? Visit the ' +\n",
              "          '<a target=\"_blank\" href=https://colab.research.google.com/notebooks/data_table.ipynb>data table notebook</a>'\n",
              "          + ' to learn more about interactive tables.';\n",
              "        element.innerHTML = '';\n",
              "        dataTable['output_type'] = 'display_data';\n",
              "        await google.colab.output.renderOutput(dataTable, element);\n",
              "        const docLink = document.createElement('div');\n",
              "        docLink.innerHTML = docLinkHtml;\n",
              "        element.appendChild(docLink);\n",
              "      }\n",
              "    </script>\n",
              "  </div>\n",
              "\n",
              "\n",
              "    <div id=\"df-a0f98cef-f38e-41c6-bc49-220392156afc\">\n",
              "      <button class=\"colab-df-quickchart\" onclick=\"quickchart('df-a0f98cef-f38e-41c6-bc49-220392156afc')\"\n",
              "                title=\"Suggest charts\"\n",
              "                style=\"display:none;\">\n",
              "\n",
              "<svg xmlns=\"http://www.w3.org/2000/svg\" height=\"24px\"viewBox=\"0 0 24 24\"\n",
              "     width=\"24px\">\n",
              "    <g>\n",
              "        <path d=\"M19 3H5c-1.1 0-2 .9-2 2v14c0 1.1.9 2 2 2h14c1.1 0 2-.9 2-2V5c0-1.1-.9-2-2-2zM9 17H7v-7h2v7zm4 0h-2V7h2v10zm4 0h-2v-4h2v4z\"/>\n",
              "    </g>\n",
              "</svg>\n",
              "      </button>\n",
              "\n",
              "<style>\n",
              "  .colab-df-quickchart {\n",
              "      --bg-color: #E8F0FE;\n",
              "      --fill-color: #1967D2;\n",
              "      --hover-bg-color: #E2EBFA;\n",
              "      --hover-fill-color: #174EA6;\n",
              "      --disabled-fill-color: #AAA;\n",
              "      --disabled-bg-color: #DDD;\n",
              "  }\n",
              "\n",
              "  [theme=dark] .colab-df-quickchart {\n",
              "      --bg-color: #3B4455;\n",
              "      --fill-color: #D2E3FC;\n",
              "      --hover-bg-color: #434B5C;\n",
              "      --hover-fill-color: #FFFFFF;\n",
              "      --disabled-bg-color: #3B4455;\n",
              "      --disabled-fill-color: #666;\n",
              "  }\n",
              "\n",
              "  .colab-df-quickchart {\n",
              "    background-color: var(--bg-color);\n",
              "    border: none;\n",
              "    border-radius: 50%;\n",
              "    cursor: pointer;\n",
              "    display: none;\n",
              "    fill: var(--fill-color);\n",
              "    height: 32px;\n",
              "    padding: 0;\n",
              "    width: 32px;\n",
              "  }\n",
              "\n",
              "  .colab-df-quickchart:hover {\n",
              "    background-color: var(--hover-bg-color);\n",
              "    box-shadow: 0 1px 2px rgba(60, 64, 67, 0.3), 0 1px 3px 1px rgba(60, 64, 67, 0.15);\n",
              "    fill: var(--button-hover-fill-color);\n",
              "  }\n",
              "\n",
              "  .colab-df-quickchart-complete:disabled,\n",
              "  .colab-df-quickchart-complete:disabled:hover {\n",
              "    background-color: var(--disabled-bg-color);\n",
              "    fill: var(--disabled-fill-color);\n",
              "    box-shadow: none;\n",
              "  }\n",
              "\n",
              "  .colab-df-spinner {\n",
              "    border: 2px solid var(--fill-color);\n",
              "    border-color: transparent;\n",
              "    border-bottom-color: var(--fill-color);\n",
              "    animation:\n",
              "      spin 1s steps(1) infinite;\n",
              "  }\n",
              "\n",
              "  @keyframes spin {\n",
              "    0% {\n",
              "      border-color: transparent;\n",
              "      border-bottom-color: var(--fill-color);\n",
              "      border-left-color: var(--fill-color);\n",
              "    }\n",
              "    20% {\n",
              "      border-color: transparent;\n",
              "      border-left-color: var(--fill-color);\n",
              "      border-top-color: var(--fill-color);\n",
              "    }\n",
              "    30% {\n",
              "      border-color: transparent;\n",
              "      border-left-color: var(--fill-color);\n",
              "      border-top-color: var(--fill-color);\n",
              "      border-right-color: var(--fill-color);\n",
              "    }\n",
              "    40% {\n",
              "      border-color: transparent;\n",
              "      border-right-color: var(--fill-color);\n",
              "      border-top-color: var(--fill-color);\n",
              "    }\n",
              "    60% {\n",
              "      border-color: transparent;\n",
              "      border-right-color: var(--fill-color);\n",
              "    }\n",
              "    80% {\n",
              "      border-color: transparent;\n",
              "      border-right-color: var(--fill-color);\n",
              "      border-bottom-color: var(--fill-color);\n",
              "    }\n",
              "    90% {\n",
              "      border-color: transparent;\n",
              "      border-bottom-color: var(--fill-color);\n",
              "    }\n",
              "  }\n",
              "</style>\n",
              "\n",
              "      <script>\n",
              "        async function quickchart(key) {\n",
              "          const quickchartButtonEl =\n",
              "            document.querySelector('#' + key + ' button');\n",
              "          quickchartButtonEl.disabled = true;  // To prevent multiple clicks.\n",
              "          quickchartButtonEl.classList.add('colab-df-spinner');\n",
              "          try {\n",
              "            const charts = await google.colab.kernel.invokeFunction(\n",
              "                'suggestCharts', [key], {});\n",
              "          } catch (error) {\n",
              "            console.error('Error during call to suggestCharts:', error);\n",
              "          }\n",
              "          quickchartButtonEl.classList.remove('colab-df-spinner');\n",
              "          quickchartButtonEl.classList.add('colab-df-quickchart-complete');\n",
              "        }\n",
              "        (() => {\n",
              "          let quickchartButtonEl =\n",
              "            document.querySelector('#df-a0f98cef-f38e-41c6-bc49-220392156afc button');\n",
              "          quickchartButtonEl.style.display =\n",
              "            google.colab.kernel.accessAllowed ? 'block' : 'none';\n",
              "        })();\n",
              "      </script>\n",
              "    </div>\n",
              "\n",
              "    </div>\n",
              "  </div>\n"
            ],
            "application/vnd.google.colaboratory.intrinsic+json": {
              "type": "dataframe",
              "variable_name": "df",
              "summary": "{\n  \"name\": \"df\",\n  \"rows\": 5454,\n  \"fields\": [\n    {\n      \"column\": \"Unnamed: 0.1\",\n      \"properties\": {\n        \"dtype\": \"number\",\n        \"std\": 1574,\n        \"min\": 0,\n        \"max\": 5453,\n        \"num_unique_values\": 5454,\n        \"samples\": [\n          5145,\n          4696,\n          4740\n        ],\n        \"semantic_type\": \"\",\n        \"description\": \"\"\n      }\n    },\n    {\n      \"column\": \"Unnamed: 0\",\n      \"properties\": {\n        \"dtype\": \"number\",\n        \"std\": 1578,\n        \"min\": 0,\n        \"max\": 5466,\n        \"num_unique_values\": 5454,\n        \"samples\": [\n          5156,\n          4706,\n          4750\n        ],\n        \"semantic_type\": \"\",\n        \"description\": \"\"\n      }\n    },\n    {\n      \"column\": \"user1\",\n      \"properties\": {\n        \"dtype\": \"string\",\n        \"num_unique_values\": 5387,\n        \"samples\": [\n          \"Okie sdt c\\u1ee7a m\\u00ecnh l\\u00e0 0835 s\\u00e1u t\\u00e1m5\",\n          \"C mu\\u1ed1n ki\\u1ec3m tra ch\\u1ee9c n\\u0103ng gan, s\\u1ed1 c l\\u00e0 0911\",\n          \"S\\u1ed1 c\\u1ee7a ch\\u1ecb 081902\"\n        ],\n        \"semantic_type\": \"\",\n        \"description\": \"\"\n      }\n    },\n    {\n      \"column\": \"user2\",\n      \"properties\": {\n        \"dtype\": \"string\",\n        \"num_unique_values\": 5291,\n        \"samples\": [\n          \"b\\u1ea3ykh\\u00f4ng kh\\u00f4ng55\",\n          \"t\\u00e1m1 m\\u1ed9t7\",\n          \"ban\\u0103m ch\\u00edn n\\u0103m 5 kh\\u00f4ng\"\n        ],\n        \"semantic_type\": \"\",\n        \"description\": \"\"\n      }\n    },\n    {\n      \"column\": \"index\",\n      \"properties\": {\n        \"dtype\": \"number\",\n        \"std\": 853,\n        \"min\": 0,\n        \"max\": 2999,\n        \"num_unique_values\": 2999,\n        \"samples\": [\n          1679,\n          1034,\n          144\n        ],\n        \"semantic_type\": \"\",\n        \"description\": \"\"\n      }\n    },\n    {\n      \"column\": \"system\",\n      \"properties\": {\n        \"dtype\": \"category\",\n        \"num_unique_values\": 1,\n        \"samples\": [\n          \"{'role': 'system', 'content': 'Extracts the relevant information from the passage.\\\\n{\\\"name\\\": \\\"information_extraction\\\", \\\"description\\\": \\\"Extracts the relevant information from the passage\\\",\\\\n\\\"arguments\\\": [{\\\"name\\\": \\\"customer_name\\\", \\\"desc\\\": \\\"Customer\\\\'s name\\\", \\\"type\\\": \\\"string\\\"},\\\\n{\\\"name\\\": \\\"customer_phone\\\", \\\"desc\\\": \\\"Customer\\\\'s phone number\\\", \\\"type\\\": \\\"string\\\"},\\\\n{\\\"name\\\": \\\"medical_department\\\", \\\"desc\\\": \\\"Medical department or service information.\\\", \\\"type\\\": \\\"string\\\"},\\\\n{\\\"name\\\": \\\"is_yes\\\", \\\"desc\\\": \\\"Can take two values:\\\\\\\\n- true (if the user confirms, agrees, says something affirmative, or expresses consent in any similar way.)\\\\\\\\n- false (if the user expresses the opposite, does not approve, disagrees, or shows any similar response.)\\\", \\\"type\\\": \\\"string\\\"},\\\\n{\\\"name\\\": \\\"hospital_name\\\", \\\"desc\\\": \\\"Identify the name of the hospital, place or facility of Vinmec\\\", \\\"type\\\": \\\"string\\\"},\\\\n{\\\"name\\\": \\\"customer_dob\\\", \\\"desc\\\": \\\"Extract the user\\\\'s date of birth. Format DD-MM-YYYY. This value must be a date in the past.\\\", \\\"type\\\": \\\"string\\\"},\\\\n{\\\"name\\\": \\\"customer_place\\\", \\\"desc\\\": \\\"Province/City provided by the customer\\\", \\\"type\\\": \\\"string\\\"},\\\\n{\\\"name\\\": \\\"symptoms\\\", \\\"desc\\\": \\\"Identify and extract users\\\\' symptom information based on their messages\\\", \\\"type\\\": \\\"string\\\"},\\\\n{\\\"name\\\": \\\"relationship\\\", \\\"desc\\\": \\\"Relationship to the person booking the appointment\\\", \\\"type\\\": \\\"string\\\"},\\\\n{\\\"name\\\": \\\"appointment_date\\\", \\\"desc\\\": \\\"Medical appointment schedulling date based on the user\\\\'s messages. remember extract by following format: DD-MM-YYYY. This value must be a date in the future. \\\\\\\\nExample: 1999-04-24 -> 24-04-1999\\\", \\\"type\\\": \\\"string\\\"},\\\\n{\\\"name\\\": \\\"appointment_time\\\", \\\"desc\\\": \\\"Medical appointment schedulling time based on the user\\\\'s messages. The time frame will follow a 24-hour format and the time zone is GMT+7 follow this format: HH:mm\\\", \\\"type\\\": \\\"string\\\"}, {\\\"name\\\": \\\"cancel_num\\\", \\\"desc\\\": \\\"Identify number from the user\\\\'s message. The user may express them as words (one, two,...) or digits (1, 2,...) in Vietnamese. If the user provides words, convert them to digits. Accepted values range from 1 to 10.\\\", \\\"type\\\": \\\"string\\\"}]}'}\"\n        ],\n        \"semantic_type\": \"\",\n        \"description\": \"\"\n      }\n    },\n    {\n      \"column\": \"user\",\n      \"properties\": {\n        \"dtype\": \"string\",\n        \"num_unique_values\": 5450,\n        \"samples\": [\n          \"{'role': 'user', 'content': 'S\\u1ed1 anh 0772979827, si\\u00eau \\u00e2m nh\\u00e9'}\"\n        ],\n        \"semantic_type\": \"\",\n        \"description\": \"\"\n      }\n    },\n    {\n      \"column\": \"assistant\",\n      \"properties\": {\n        \"dtype\": \"string\",\n        \"num_unique_values\": 5157,\n        \"samples\": [\n          \"{'role': 'assistant', 'content': \\\"<functioncall> {'name': 'information_extraction', 'arguments': {'customer_name': 'H\\u01b0\\u1eddng', 'customer_phone': '0386965475'}}\\\"}\"\n        ],\n        \"semantic_type\": \"\",\n        \"description\": \"\"\n      }\n    },\n    {\n      \"column\": \"query\",\n      \"properties\": {\n        \"dtype\": \"string\",\n        \"num_unique_values\": 5450,\n        \"samples\": [\n          \"S\\u1ed1 anh 0772979827, si\\u00eau \\u00e2m nh\\u00e9\"\n        ],\n        \"semantic_type\": \"\",\n        \"description\": \"\"\n      }\n    },\n    {\n      \"column\": \"response\",\n      \"properties\": {\n        \"dtype\": \"string\",\n        \"num_unique_values\": 3390,\n        \"samples\": [\n          \"Ch\\u00e0o em, em vui l\\u00f2ng cung c\\u1ea5p \\u0111\\u1ea7y \\u0111\\u1ee7 s\\u1ed1 \\u0111i\\u1ec7n tho\\u1ea1i \\u0111\\u1ec3 anh/ch\\u1ecb h\\u1ecfi v\\u1ec1 c\\u00e1c g\\u00f3i kh\\u00e1m tr\\u01b0\\u1edbc khi k\\u1ebft h\\u00f4n nh\\u00e9.\"\n        ],\n        \"semantic_type\": \"\",\n        \"description\": \"\"\n      }\n    },\n    {\n      \"column\": \"user1_number\",\n      \"properties\": {\n        \"dtype\": \"string\",\n        \"num_unique_values\": 3669,\n        \"samples\": [\n          \"077130\"\n        ],\n        \"semantic_type\": \"\",\n        \"description\": \"\"\n      }\n    },\n    {\n      \"column\": \"args\",\n      \"properties\": {\n        \"dtype\": \"string\",\n        \"num_unique_values\": 5157,\n        \"samples\": [\n          \"<functioncall> {'name': 'information_extraction', 'arguments': {'customer_name': 'H\\u01b0\\u1eddng', 'customer_phone': '0386965475'}}\\\"\"\n        ],\n        \"semantic_type\": \"\",\n        \"description\": \"\"\n      }\n    }\n  ]\n}"
            }
          },
          "metadata": {},
          "execution_count": 9
        }
      ]
    },
    {
      "cell_type": "code",
      "source": [
        "result = transform_json(df)"
      ],
      "metadata": {
        "id": "mpBPbW9XAOz4"
      },
      "execution_count": null,
      "outputs": []
    },
    {
      "cell_type": "code",
      "source": [
        "result[0]"
      ],
      "metadata": {
        "id": "H6s5hoA6Jj5G"
      },
      "execution_count": null,
      "outputs": []
    },
    {
      "cell_type": "code",
      "source": [
        "df.to_csv('df.csv')"
      ],
      "metadata": {
        "id": "UrYPX2w60qhP"
      },
      "execution_count": null,
      "outputs": []
    },
    {
      "cell_type": "code",
      "source": [
        "res = list(result)"
      ],
      "metadata": {
        "id": "5MFm-JRWKsNw"
      },
      "execution_count": null,
      "outputs": []
    },
    {
      "cell_type": "code",
      "source": [
        "result = transform_json(df)\n",
        "\n",
        "with open('2turn.json', 'w', encoding='utf-8') as f:\n",
        "    json.dump(result, f, ensure_ascii=False, indent=2)"
      ],
      "metadata": {
        "id": "KHtlqOZvJkgN"
      },
      "execution_count": null,
      "outputs": []
    },
    {
      "cell_type": "code",
      "source": [
        "import pandas as pd\n",
        "\n",
        "df = pd.read_csv('df.csv')"
      ],
      "metadata": {
        "id": "XUN3p_n4J3aI"
      },
      "execution_count": null,
      "outputs": []
    },
    {
      "cell_type": "code",
      "source": [
        "df.info()"
      ],
      "metadata": {
        "colab": {
          "base_uri": "https://localhost:8080/"
        },
        "id": "XS0_Wim9Pzhl",
        "outputId": "9de2f179-c770-4df9-e5f0-114513062f4a"
      },
      "execution_count": null,
      "outputs": [
        {
          "output_type": "stream",
          "name": "stdout",
          "text": [
            "<class 'pandas.core.frame.DataFrame'>\n",
            "RangeIndex: 5467 entries, 0 to 5466\n",
            "Data columns (total 13 columns):\n",
            " #   Column        Non-Null Count  Dtype  \n",
            "---  ------        --------------  -----  \n",
            " 0   Unnamed: 0.1  5467 non-null   int64  \n",
            " 1   level_0       5467 non-null   int64  \n",
            " 2   Unnamed: 0    5467 non-null   int64  \n",
            " 3   user1         5467 non-null   object \n",
            " 4   user2         5454 non-null   object \n",
            " 5   index         5467 non-null   int64  \n",
            " 6   system        5467 non-null   object \n",
            " 7   user          5467 non-null   object \n",
            " 8   assistant     5467 non-null   object \n",
            " 9   query         5467 non-null   object \n",
            " 10  response      5467 non-null   object \n",
            " 11  user1_number  5467 non-null   float64\n",
            " 12  args          5467 non-null   object \n",
            "dtypes: float64(1), int64(4), object(8)\n",
            "memory usage: 555.4+ KB\n"
          ]
        }
      ]
    },
    {
      "cell_type": "code",
      "source": [
        "# prompt: bỏ những dòng có giá trị nan của cột user2\n",
        "\n",
        "df.dropna(subset=['user2'], inplace=True)\n",
        "len(df)"
      ],
      "metadata": {
        "colab": {
          "base_uri": "https://localhost:8080/"
        },
        "id": "p63MaPLeLNOp",
        "outputId": "4c8eed01-3464-4605-9147-d0dd14c46081"
      },
      "execution_count": null,
      "outputs": [
        {
          "output_type": "execute_result",
          "data": {
            "text/plain": [
              "5454"
            ]
          },
          "metadata": {},
          "execution_count": 46
        }
      ]
    },
    {
      "cell_type": "code",
      "source": [
        "len(df)"
      ],
      "metadata": {
        "colab": {
          "base_uri": "https://localhost:8080/"
        },
        "id": "aewBYEioLWX9",
        "outputId": "7b0b0ecc-9e19-4c59-b140-9c7057464a1e"
      },
      "execution_count": null,
      "outputs": [
        {
          "output_type": "execute_result",
          "data": {
            "text/plain": [
              "5454"
            ]
          },
          "metadata": {},
          "execution_count": 47
        }
      ]
    },
    {
      "cell_type": "code",
      "source": [
        "# prompt: chuyển cột user1_number thành string, bỏ .0 ở cuối, và thêm 1 '0' vào đầu\n",
        "\n",
        "import pandas as pd\n",
        "# chuyển cột user1_number thành string, bỏ .0 ở cuối, và thêm 1 '0' vào đầu\n",
        "# df['user1_number'] = df['user1_number'].astype(str).str.replace(r'\\.0$', '', regex=True)\n",
        "# df['user1_number'] = '0' + df['user1_number']\n",
        "\n",
        "# Since the previous code block modifies df significantly, let's assume we are starting with the original df loaded from df.csv\n",
        "df = pd.read_csv('df.csv')\n",
        "\n",
        "# Convert 'user1_number' to string, remove '.0' if it exists, and add a '0' at the beginning\n",
        "# Handle potential NaN values by filling them with an empty string before processing\n",
        "df['user1_number'] = df['user1_number'].fillna('').astype(str).str.replace(r'\\.0$', '', regex=True)\n",
        "df['user1_number'] = '0' + df['user1_number']\n",
        "\n",
        "# Display the first few rows to verify the transformation\n",
        "print(df[['user1_number', 'user1']].head())\n",
        "print(df['user1_number'].dtype) # Check the data type"
      ],
      "metadata": {
        "colab": {
          "base_uri": "https://localhost:8080/"
        },
        "id": "etk2g8xpNVOY",
        "outputId": "ddc5b21b-5f7f-4bee-cfb0-1c7da4d24001"
      },
      "execution_count": null,
      "outputs": [
        {
          "output_type": "stream",
          "name": "stdout",
          "text": [
            "  user1_number  \\\n",
            "0         0886   \n",
            "1      0390024   \n",
            "2        03750   \n",
            "3          081   \n",
            "4       094948   \n",
            "\n",
            "                                                                   user1  \n",
            "0               Em muốn tìm hiểu các gói khám sức khỏe sdt em là 088 sáu  \n",
            "1      Gói sản phẩm bên mình có gì hot không ạ số mình 0390 không haibốn  \n",
            "2      Cho mình xin thông tin khuyến mãi đi số điện thoại mình là 037 50  \n",
            "3  Bên mình có gói khám tổng quát nào không số điện thoại của tôi là 081  \n",
            "4   Các gói dịch vụ hiện tại giá thế nào ạ số của mình là 094 chín bốn 8  \n",
            "object\n"
          ]
        }
      ]
    },
    {
      "cell_type": "code",
      "source": [
        "df.to_csv('df.csv', index=False)"
      ],
      "metadata": {
        "id": "nbN8pvtxPa6a"
      },
      "execution_count": null,
      "outputs": []
    },
    {
      "cell_type": "code",
      "source": [
        "# prompt: chuyển kiểu dữ liệu cột user1_number thành dạng str, đảm bảo không có \".0\" ở đằng sau\n",
        "\n",
        "df['user1_number'] = df['user1_number'].astype(str).str.replace('.0', '', regex=True)\n"
      ],
      "metadata": {
        "colab": {
          "base_uri": "https://localhost:8080/",
          "height": 241
        },
        "id": "lG0iRKB0L8pL",
        "outputId": "45714f40-053f-4aa8-8822-bf77ba198347"
      },
      "execution_count": null,
      "outputs": [
        {
          "output_type": "execute_result",
          "data": {
            "text/plain": [
              "0    0000000886\n",
              "1    0000390024\n",
              "2    0000003750\n",
              "3    0000000081\n",
              "4    0000094948\n",
              "Name: user1_number, dtype: object"
            ],
            "text/html": [
              "<div>\n",
              "<style scoped>\n",
              "    .dataframe tbody tr th:only-of-type {\n",
              "        vertical-align: middle;\n",
              "    }\n",
              "\n",
              "    .dataframe tbody tr th {\n",
              "        vertical-align: top;\n",
              "    }\n",
              "\n",
              "    .dataframe thead th {\n",
              "        text-align: right;\n",
              "    }\n",
              "</style>\n",
              "<table border=\"1\" class=\"dataframe\">\n",
              "  <thead>\n",
              "    <tr style=\"text-align: right;\">\n",
              "      <th></th>\n",
              "      <th>user1_number</th>\n",
              "    </tr>\n",
              "  </thead>\n",
              "  <tbody>\n",
              "    <tr>\n",
              "      <th>0</th>\n",
              "      <td>0000000886</td>\n",
              "    </tr>\n",
              "    <tr>\n",
              "      <th>1</th>\n",
              "      <td>0000390024</td>\n",
              "    </tr>\n",
              "    <tr>\n",
              "      <th>2</th>\n",
              "      <td>0000003750</td>\n",
              "    </tr>\n",
              "    <tr>\n",
              "      <th>3</th>\n",
              "      <td>0000000081</td>\n",
              "    </tr>\n",
              "    <tr>\n",
              "      <th>4</th>\n",
              "      <td>0000094948</td>\n",
              "    </tr>\n",
              "  </tbody>\n",
              "</table>\n",
              "</div><br><label><b>dtype:</b> object</label>"
            ]
          },
          "metadata": {},
          "execution_count": 23
        }
      ]
    },
    {
      "cell_type": "code",
      "source": [
        "df.head()"
      ],
      "metadata": {
        "colab": {
          "base_uri": "https://localhost:8080/",
          "height": 397
        },
        "id": "6SzdG0ylOdUx",
        "outputId": "61513d3c-2eb4-434c-f8cd-2d5b8a6b6374"
      },
      "execution_count": null,
      "outputs": [
        {
          "output_type": "execute_result",
          "data": {
            "text/plain": [
              "   Unnamed: 0.1  level_0  Unnamed: 0  \\\n",
              "0             0        0           0   \n",
              "1             1        1           1   \n",
              "2             2        2           2   \n",
              "3             3        3           3   \n",
              "4             4        4           4   \n",
              "\n",
              "                                               user1                   user2  \\\n",
              "0  Em muốn tìm hiểu các gói khám sức khỏe sdt em ...            năm 44 bảy67   \n",
              "1  Gói sản phẩm bên mình có gì hot không ạ số mìn...             năm năm một   \n",
              "2  Cho mình xin thông tin khuyến mãi đi số điện t...         7 5sáu chín hai   \n",
              "3  Bên mình có gói khám tổng quát nào không số đi...  chín 0bốn năm0babảybốn   \n",
              "4  Các gói dịch vụ hiện tại giá thế nào ạ số của ...         một nămsáu chín   \n",
              "\n",
              "   index                                             system  \\\n",
              "0      0  {'role': 'system', 'content': 'Extracts the re...   \n",
              "1      1  {'role': 'system', 'content': 'Extracts the re...   \n",
              "2      2  {'role': 'system', 'content': 'Extracts the re...   \n",
              "3      3  {'role': 'system', 'content': 'Extracts the re...   \n",
              "4      4  {'role': 'system', 'content': 'Extracts the re...   \n",
              "\n",
              "                                                user  \\\n",
              "0  {'role': 'user', 'content': 'Em muốn tìm hiểu ...   \n",
              "1  {'role': 'user', 'content': 'Gói sản phẩm bên ...   \n",
              "2  {'role': 'user', 'content': 'Cho mình xin thôn...   \n",
              "3  {'role': 'user', 'content': 'Bên mình có gói k...   \n",
              "4  {'role': 'user', 'content': 'Các gói dịch vụ h...   \n",
              "\n",
              "                                           assistant  \\\n",
              "0  {'role': 'assistant', 'content': \"<functioncal...   \n",
              "1  {'role': 'assistant', 'content': \"<functioncal...   \n",
              "2  {'role': 'assistant', 'content': \"<functioncal...   \n",
              "3  {'role': 'assistant', 'content': \"<functioncal...   \n",
              "4  {'role': 'assistant', 'content': \"<functioncal...   \n",
              "\n",
              "                                               query  \\\n",
              "0  Em muốn tìm hiểu các gói khám sức khỏe sdt em ...   \n",
              "1  Gói sản phẩm bên mình có gì hot không ạ số mìn...   \n",
              "2  Cho mình xin thông tin khuyến mãi đi số điện t...   \n",
              "3  Bên mình có gói khám tổng quát nào không số đi...   \n",
              "4  Các gói dịch vụ hiện tại giá thế nào ạ số của ...   \n",
              "\n",
              "                                            response user1_number  \n",
              "0  Chào em, em vui lòng cung cấp đầy đủ số điện t...         0886  \n",
              "1  Chào bạn, bạn vui lòng cho mình xin số điện th...      0390024  \n",
              "2  Chào bạn, để nhận thông tin khuyến mãi, bạn vu...        03750  \n",
              "3  Chào bạn, bạn vui lòng cung cấp đầy đủ số điện...          081  \n",
              "4  Chào bạn, mình cần số điện thoại đầy đủ của bạ...       094948  "
            ],
            "text/html": [
              "\n",
              "  <div id=\"df-6d7da3d7-f377-4994-8cf3-9388417a2717\" class=\"colab-df-container\">\n",
              "    <div>\n",
              "<style scoped>\n",
              "    .dataframe tbody tr th:only-of-type {\n",
              "        vertical-align: middle;\n",
              "    }\n",
              "\n",
              "    .dataframe tbody tr th {\n",
              "        vertical-align: top;\n",
              "    }\n",
              "\n",
              "    .dataframe thead th {\n",
              "        text-align: right;\n",
              "    }\n",
              "</style>\n",
              "<table border=\"1\" class=\"dataframe\">\n",
              "  <thead>\n",
              "    <tr style=\"text-align: right;\">\n",
              "      <th></th>\n",
              "      <th>Unnamed: 0.1</th>\n",
              "      <th>level_0</th>\n",
              "      <th>Unnamed: 0</th>\n",
              "      <th>user1</th>\n",
              "      <th>user2</th>\n",
              "      <th>index</th>\n",
              "      <th>system</th>\n",
              "      <th>user</th>\n",
              "      <th>assistant</th>\n",
              "      <th>query</th>\n",
              "      <th>response</th>\n",
              "      <th>user1_number</th>\n",
              "    </tr>\n",
              "  </thead>\n",
              "  <tbody>\n",
              "    <tr>\n",
              "      <th>0</th>\n",
              "      <td>0</td>\n",
              "      <td>0</td>\n",
              "      <td>0</td>\n",
              "      <td>Em muốn tìm hiểu các gói khám sức khỏe sdt em ...</td>\n",
              "      <td>năm 44 bảy67</td>\n",
              "      <td>0</td>\n",
              "      <td>{'role': 'system', 'content': 'Extracts the re...</td>\n",
              "      <td>{'role': 'user', 'content': 'Em muốn tìm hiểu ...</td>\n",
              "      <td>{'role': 'assistant', 'content': \"&lt;functioncal...</td>\n",
              "      <td>Em muốn tìm hiểu các gói khám sức khỏe sdt em ...</td>\n",
              "      <td>Chào em, em vui lòng cung cấp đầy đủ số điện t...</td>\n",
              "      <td>0886</td>\n",
              "    </tr>\n",
              "    <tr>\n",
              "      <th>1</th>\n",
              "      <td>1</td>\n",
              "      <td>1</td>\n",
              "      <td>1</td>\n",
              "      <td>Gói sản phẩm bên mình có gì hot không ạ số mìn...</td>\n",
              "      <td>năm năm một</td>\n",
              "      <td>1</td>\n",
              "      <td>{'role': 'system', 'content': 'Extracts the re...</td>\n",
              "      <td>{'role': 'user', 'content': 'Gói sản phẩm bên ...</td>\n",
              "      <td>{'role': 'assistant', 'content': \"&lt;functioncal...</td>\n",
              "      <td>Gói sản phẩm bên mình có gì hot không ạ số mìn...</td>\n",
              "      <td>Chào bạn, bạn vui lòng cho mình xin số điện th...</td>\n",
              "      <td>0390024</td>\n",
              "    </tr>\n",
              "    <tr>\n",
              "      <th>2</th>\n",
              "      <td>2</td>\n",
              "      <td>2</td>\n",
              "      <td>2</td>\n",
              "      <td>Cho mình xin thông tin khuyến mãi đi số điện t...</td>\n",
              "      <td>7 5sáu chín hai</td>\n",
              "      <td>2</td>\n",
              "      <td>{'role': 'system', 'content': 'Extracts the re...</td>\n",
              "      <td>{'role': 'user', 'content': 'Cho mình xin thôn...</td>\n",
              "      <td>{'role': 'assistant', 'content': \"&lt;functioncal...</td>\n",
              "      <td>Cho mình xin thông tin khuyến mãi đi số điện t...</td>\n",
              "      <td>Chào bạn, để nhận thông tin khuyến mãi, bạn vu...</td>\n",
              "      <td>03750</td>\n",
              "    </tr>\n",
              "    <tr>\n",
              "      <th>3</th>\n",
              "      <td>3</td>\n",
              "      <td>3</td>\n",
              "      <td>3</td>\n",
              "      <td>Bên mình có gói khám tổng quát nào không số đi...</td>\n",
              "      <td>chín 0bốn năm0babảybốn</td>\n",
              "      <td>3</td>\n",
              "      <td>{'role': 'system', 'content': 'Extracts the re...</td>\n",
              "      <td>{'role': 'user', 'content': 'Bên mình có gói k...</td>\n",
              "      <td>{'role': 'assistant', 'content': \"&lt;functioncal...</td>\n",
              "      <td>Bên mình có gói khám tổng quát nào không số đi...</td>\n",
              "      <td>Chào bạn, bạn vui lòng cung cấp đầy đủ số điện...</td>\n",
              "      <td>081</td>\n",
              "    </tr>\n",
              "    <tr>\n",
              "      <th>4</th>\n",
              "      <td>4</td>\n",
              "      <td>4</td>\n",
              "      <td>4</td>\n",
              "      <td>Các gói dịch vụ hiện tại giá thế nào ạ số của ...</td>\n",
              "      <td>một nămsáu chín</td>\n",
              "      <td>4</td>\n",
              "      <td>{'role': 'system', 'content': 'Extracts the re...</td>\n",
              "      <td>{'role': 'user', 'content': 'Các gói dịch vụ h...</td>\n",
              "      <td>{'role': 'assistant', 'content': \"&lt;functioncal...</td>\n",
              "      <td>Các gói dịch vụ hiện tại giá thế nào ạ số của ...</td>\n",
              "      <td>Chào bạn, mình cần số điện thoại đầy đủ của bạ...</td>\n",
              "      <td>094948</td>\n",
              "    </tr>\n",
              "  </tbody>\n",
              "</table>\n",
              "</div>\n",
              "    <div class=\"colab-df-buttons\">\n",
              "\n",
              "  <div class=\"colab-df-container\">\n",
              "    <button class=\"colab-df-convert\" onclick=\"convertToInteractive('df-6d7da3d7-f377-4994-8cf3-9388417a2717')\"\n",
              "            title=\"Convert this dataframe to an interactive table.\"\n",
              "            style=\"display:none;\">\n",
              "\n",
              "  <svg xmlns=\"http://www.w3.org/2000/svg\" height=\"24px\" viewBox=\"0 -960 960 960\">\n",
              "    <path d=\"M120-120v-720h720v720H120Zm60-500h600v-160H180v160Zm220 220h160v-160H400v160Zm0 220h160v-160H400v160ZM180-400h160v-160H180v160Zm440 0h160v-160H620v160ZM180-180h160v-160H180v160Zm440 0h160v-160H620v160Z\"/>\n",
              "  </svg>\n",
              "    </button>\n",
              "\n",
              "  <style>\n",
              "    .colab-df-container {\n",
              "      display:flex;\n",
              "      gap: 12px;\n",
              "    }\n",
              "\n",
              "    .colab-df-convert {\n",
              "      background-color: #E8F0FE;\n",
              "      border: none;\n",
              "      border-radius: 50%;\n",
              "      cursor: pointer;\n",
              "      display: none;\n",
              "      fill: #1967D2;\n",
              "      height: 32px;\n",
              "      padding: 0 0 0 0;\n",
              "      width: 32px;\n",
              "    }\n",
              "\n",
              "    .colab-df-convert:hover {\n",
              "      background-color: #E2EBFA;\n",
              "      box-shadow: 0px 1px 2px rgba(60, 64, 67, 0.3), 0px 1px 3px 1px rgba(60, 64, 67, 0.15);\n",
              "      fill: #174EA6;\n",
              "    }\n",
              "\n",
              "    .colab-df-buttons div {\n",
              "      margin-bottom: 4px;\n",
              "    }\n",
              "\n",
              "    [theme=dark] .colab-df-convert {\n",
              "      background-color: #3B4455;\n",
              "      fill: #D2E3FC;\n",
              "    }\n",
              "\n",
              "    [theme=dark] .colab-df-convert:hover {\n",
              "      background-color: #434B5C;\n",
              "      box-shadow: 0px 1px 3px 1px rgba(0, 0, 0, 0.15);\n",
              "      filter: drop-shadow(0px 1px 2px rgba(0, 0, 0, 0.3));\n",
              "      fill: #FFFFFF;\n",
              "    }\n",
              "  </style>\n",
              "\n",
              "    <script>\n",
              "      const buttonEl =\n",
              "        document.querySelector('#df-6d7da3d7-f377-4994-8cf3-9388417a2717 button.colab-df-convert');\n",
              "      buttonEl.style.display =\n",
              "        google.colab.kernel.accessAllowed ? 'block' : 'none';\n",
              "\n",
              "      async function convertToInteractive(key) {\n",
              "        const element = document.querySelector('#df-6d7da3d7-f377-4994-8cf3-9388417a2717');\n",
              "        const dataTable =\n",
              "          await google.colab.kernel.invokeFunction('convertToInteractive',\n",
              "                                                    [key], {});\n",
              "        if (!dataTable) return;\n",
              "\n",
              "        const docLinkHtml = 'Like what you see? Visit the ' +\n",
              "          '<a target=\"_blank\" href=https://colab.research.google.com/notebooks/data_table.ipynb>data table notebook</a>'\n",
              "          + ' to learn more about interactive tables.';\n",
              "        element.innerHTML = '';\n",
              "        dataTable['output_type'] = 'display_data';\n",
              "        await google.colab.output.renderOutput(dataTable, element);\n",
              "        const docLink = document.createElement('div');\n",
              "        docLink.innerHTML = docLinkHtml;\n",
              "        element.appendChild(docLink);\n",
              "      }\n",
              "    </script>\n",
              "  </div>\n",
              "\n",
              "\n",
              "    <div id=\"df-ad7502a8-c92e-46e3-bfd2-1466b5e5bb63\">\n",
              "      <button class=\"colab-df-quickchart\" onclick=\"quickchart('df-ad7502a8-c92e-46e3-bfd2-1466b5e5bb63')\"\n",
              "                title=\"Suggest charts\"\n",
              "                style=\"display:none;\">\n",
              "\n",
              "<svg xmlns=\"http://www.w3.org/2000/svg\" height=\"24px\"viewBox=\"0 0 24 24\"\n",
              "     width=\"24px\">\n",
              "    <g>\n",
              "        <path d=\"M19 3H5c-1.1 0-2 .9-2 2v14c0 1.1.9 2 2 2h14c1.1 0 2-.9 2-2V5c0-1.1-.9-2-2-2zM9 17H7v-7h2v7zm4 0h-2V7h2v10zm4 0h-2v-4h2v4z\"/>\n",
              "    </g>\n",
              "</svg>\n",
              "      </button>\n",
              "\n",
              "<style>\n",
              "  .colab-df-quickchart {\n",
              "      --bg-color: #E8F0FE;\n",
              "      --fill-color: #1967D2;\n",
              "      --hover-bg-color: #E2EBFA;\n",
              "      --hover-fill-color: #174EA6;\n",
              "      --disabled-fill-color: #AAA;\n",
              "      --disabled-bg-color: #DDD;\n",
              "  }\n",
              "\n",
              "  [theme=dark] .colab-df-quickchart {\n",
              "      --bg-color: #3B4455;\n",
              "      --fill-color: #D2E3FC;\n",
              "      --hover-bg-color: #434B5C;\n",
              "      --hover-fill-color: #FFFFFF;\n",
              "      --disabled-bg-color: #3B4455;\n",
              "      --disabled-fill-color: #666;\n",
              "  }\n",
              "\n",
              "  .colab-df-quickchart {\n",
              "    background-color: var(--bg-color);\n",
              "    border: none;\n",
              "    border-radius: 50%;\n",
              "    cursor: pointer;\n",
              "    display: none;\n",
              "    fill: var(--fill-color);\n",
              "    height: 32px;\n",
              "    padding: 0;\n",
              "    width: 32px;\n",
              "  }\n",
              "\n",
              "  .colab-df-quickchart:hover {\n",
              "    background-color: var(--hover-bg-color);\n",
              "    box-shadow: 0 1px 2px rgba(60, 64, 67, 0.3), 0 1px 3px 1px rgba(60, 64, 67, 0.15);\n",
              "    fill: var(--button-hover-fill-color);\n",
              "  }\n",
              "\n",
              "  .colab-df-quickchart-complete:disabled,\n",
              "  .colab-df-quickchart-complete:disabled:hover {\n",
              "    background-color: var(--disabled-bg-color);\n",
              "    fill: var(--disabled-fill-color);\n",
              "    box-shadow: none;\n",
              "  }\n",
              "\n",
              "  .colab-df-spinner {\n",
              "    border: 2px solid var(--fill-color);\n",
              "    border-color: transparent;\n",
              "    border-bottom-color: var(--fill-color);\n",
              "    animation:\n",
              "      spin 1s steps(1) infinite;\n",
              "  }\n",
              "\n",
              "  @keyframes spin {\n",
              "    0% {\n",
              "      border-color: transparent;\n",
              "      border-bottom-color: var(--fill-color);\n",
              "      border-left-color: var(--fill-color);\n",
              "    }\n",
              "    20% {\n",
              "      border-color: transparent;\n",
              "      border-left-color: var(--fill-color);\n",
              "      border-top-color: var(--fill-color);\n",
              "    }\n",
              "    30% {\n",
              "      border-color: transparent;\n",
              "      border-left-color: var(--fill-color);\n",
              "      border-top-color: var(--fill-color);\n",
              "      border-right-color: var(--fill-color);\n",
              "    }\n",
              "    40% {\n",
              "      border-color: transparent;\n",
              "      border-right-color: var(--fill-color);\n",
              "      border-top-color: var(--fill-color);\n",
              "    }\n",
              "    60% {\n",
              "      border-color: transparent;\n",
              "      border-right-color: var(--fill-color);\n",
              "    }\n",
              "    80% {\n",
              "      border-color: transparent;\n",
              "      border-right-color: var(--fill-color);\n",
              "      border-bottom-color: var(--fill-color);\n",
              "    }\n",
              "    90% {\n",
              "      border-color: transparent;\n",
              "      border-bottom-color: var(--fill-color);\n",
              "    }\n",
              "  }\n",
              "</style>\n",
              "\n",
              "      <script>\n",
              "        async function quickchart(key) {\n",
              "          const quickchartButtonEl =\n",
              "            document.querySelector('#' + key + ' button');\n",
              "          quickchartButtonEl.disabled = true;  // To prevent multiple clicks.\n",
              "          quickchartButtonEl.classList.add('colab-df-spinner');\n",
              "          try {\n",
              "            const charts = await google.colab.kernel.invokeFunction(\n",
              "                'suggestCharts', [key], {});\n",
              "          } catch (error) {\n",
              "            console.error('Error during call to suggestCharts:', error);\n",
              "          }\n",
              "          quickchartButtonEl.classList.remove('colab-df-spinner');\n",
              "          quickchartButtonEl.classList.add('colab-df-quickchart-complete');\n",
              "        }\n",
              "        (() => {\n",
              "          let quickchartButtonEl =\n",
              "            document.querySelector('#df-ad7502a8-c92e-46e3-bfd2-1466b5e5bb63 button');\n",
              "          quickchartButtonEl.style.display =\n",
              "            google.colab.kernel.accessAllowed ? 'block' : 'none';\n",
              "        })();\n",
              "      </script>\n",
              "    </div>\n",
              "\n",
              "    </div>\n",
              "  </div>\n"
            ],
            "application/vnd.google.colaboratory.intrinsic+json": {
              "type": "dataframe",
              "variable_name": "df",
              "summary": "{\n  \"name\": \"df\",\n  \"rows\": 5467,\n  \"fields\": [\n    {\n      \"column\": \"Unnamed: 0.1\",\n      \"properties\": {\n        \"dtype\": \"number\",\n        \"std\": 1655,\n        \"min\": 0,\n        \"max\": 5766,\n        \"num_unique_values\": 5467,\n        \"samples\": [\n          5503,\n          4093,\n          5358\n        ],\n        \"semantic_type\": \"\",\n        \"description\": \"\"\n      }\n    },\n    {\n      \"column\": \"level_0\",\n      \"properties\": {\n        \"dtype\": \"number\",\n        \"std\": 1655,\n        \"min\": 0,\n        \"max\": 5766,\n        \"num_unique_values\": 5467,\n        \"samples\": [\n          5503,\n          4093,\n          5358\n        ],\n        \"semantic_type\": \"\",\n        \"description\": \"\"\n      }\n    },\n    {\n      \"column\": \"Unnamed: 0\",\n      \"properties\": {\n        \"dtype\": \"number\",\n        \"std\": 1655,\n        \"min\": 0,\n        \"max\": 5766,\n        \"num_unique_values\": 5467,\n        \"samples\": [\n          5503,\n          4093,\n          5358\n        ],\n        \"semantic_type\": \"\",\n        \"description\": \"\"\n      }\n    },\n    {\n      \"column\": \"user1\",\n      \"properties\": {\n        \"dtype\": \"string\",\n        \"num_unique_values\": 5400,\n        \"samples\": [\n          \"Em mu\\u1ed1n bi\\u1ebft v\\u1ec1 vi\\u1ec7c \\u0111\\u0103ng k\\u00fd nh\\u1eadn th\\u00f4ng b\\u00e1o v\\u1ec1 t\\u00ecnh tr\\u1ea1ng h\\u1ed3 s\\u01a1 b\\u1ec7nh \\u00e1n qua email ho\\u1eb7c tin nh\\u1eafn s\\u1ed1 c\\u1ee7a em l\\u00e0 0846 ch\\u00edn0\",\n          \"Cho e xin k\\u1ebft qu\\u1ea3 x\\u00e9t nghi\\u1ec7m Coombs nha sdt e l\\u00e0 0992 m\\u1ed9t312\",\n          \"Ch\\u1ecb Minh Th\\u01b0, sdt 0778959\"\n        ],\n        \"semantic_type\": \"\",\n        \"description\": \"\"\n      }\n    },\n    {\n      \"column\": \"user2\",\n      \"properties\": {\n        \"dtype\": \"string\",\n        \"num_unique_values\": 5291,\n        \"samples\": [\n          \"b\\u1ea3ykh\\u00f4ng kh\\u00f4ng55\",\n          \"t\\u00e1m1 m\\u1ed9t7\",\n          \"ban\\u0103m ch\\u00edn n\\u0103m 5 kh\\u00f4ng\"\n        ],\n        \"semantic_type\": \"\",\n        \"description\": \"\"\n      }\n    },\n    {\n      \"column\": \"index\",\n      \"properties\": {\n        \"dtype\": \"number\",\n        \"std\": 853,\n        \"min\": 0,\n        \"max\": 2999,\n        \"num_unique_values\": 3000,\n        \"samples\": [\n          2101,\n          1490,\n          2117\n        ],\n        \"semantic_type\": \"\",\n        \"description\": \"\"\n      }\n    },\n    {\n      \"column\": \"system\",\n      \"properties\": {\n        \"dtype\": \"category\",\n        \"num_unique_values\": 1,\n        \"samples\": [\n          \"{'role': 'system', 'content': 'Extracts the relevant information from the passage.\\\\n{\\\"name\\\": \\\"information_extraction\\\", \\\"description\\\": \\\"Extracts the relevant information from the passage\\\",\\\\n\\\"arguments\\\": [{\\\"name\\\": \\\"customer_name\\\", \\\"desc\\\": \\\"Customer\\\\'s name\\\", \\\"type\\\": \\\"string\\\"},\\\\n{\\\"name\\\": \\\"customer_phone\\\", \\\"desc\\\": \\\"Customer\\\\'s phone number\\\", \\\"type\\\": \\\"string\\\"},\\\\n{\\\"name\\\": \\\"medical_department\\\", \\\"desc\\\": \\\"Medical department or service information.\\\", \\\"type\\\": \\\"string\\\"},\\\\n{\\\"name\\\": \\\"is_yes\\\", \\\"desc\\\": \\\"Can take two values:\\\\\\\\n- true (if the user confirms, agrees, says something affirmative, or expresses consent in any similar way.)\\\\\\\\n- false (if the user expresses the opposite, does not approve, disagrees, or shows any similar response.)\\\", \\\"type\\\": \\\"string\\\"},\\\\n{\\\"name\\\": \\\"hospital_name\\\", \\\"desc\\\": \\\"Identify the name of the hospital, place or facility of Vinmec\\\", \\\"type\\\": \\\"string\\\"},\\\\n{\\\"name\\\": \\\"customer_dob\\\", \\\"desc\\\": \\\"Extract the user\\\\'s date of birth. Format DD-MM-YYYY. This value must be a date in the past.\\\", \\\"type\\\": \\\"string\\\"},\\\\n{\\\"name\\\": \\\"customer_place\\\", \\\"desc\\\": \\\"Province/City provided by the customer\\\", \\\"type\\\": \\\"string\\\"},\\\\n{\\\"name\\\": \\\"symptoms\\\", \\\"desc\\\": \\\"Identify and extract users\\\\' symptom information based on their messages\\\", \\\"type\\\": \\\"string\\\"},\\\\n{\\\"name\\\": \\\"relationship\\\", \\\"desc\\\": \\\"Relationship to the person booking the appointment\\\", \\\"type\\\": \\\"string\\\"},\\\\n{\\\"name\\\": \\\"appointment_date\\\", \\\"desc\\\": \\\"Medical appointment schedulling date based on the user\\\\'s messages. remember extract by following format: DD-MM-YYYY. This value must be a date in the future. \\\\\\\\nExample: 1999-04-24 -> 24-04-1999\\\", \\\"type\\\": \\\"string\\\"},\\\\n{\\\"name\\\": \\\"appointment_time\\\", \\\"desc\\\": \\\"Medical appointment schedulling time based on the user\\\\'s messages. The time frame will follow a 24-hour format and the time zone is GMT+7 follow this format: HH:mm\\\", \\\"type\\\": \\\"string\\\"}, {\\\"name\\\": \\\"cancel_num\\\", \\\"desc\\\": \\\"Identify number from the user\\\\'s message. The user may express them as words (one, two,...) or digits (1, 2,...) in Vietnamese. If the user provides words, convert them to digits. Accepted values range from 1 to 10.\\\", \\\"type\\\": \\\"string\\\"}]}'}\"\n        ],\n        \"semantic_type\": \"\",\n        \"description\": \"\"\n      }\n    },\n    {\n      \"column\": \"user\",\n      \"properties\": {\n        \"dtype\": \"string\",\n        \"num_unique_values\": 5463,\n        \"samples\": [\n          \"{'role': 'user', 'content': '086457294 l\\u00e0 s\\u1ed1 c\\u1ee7a b\\u00e1c, c\\u1ea7n t\\u01b0 v\\u1ea5n'}\"\n        ],\n        \"semantic_type\": \"\",\n        \"description\": \"\"\n      }\n    },\n    {\n      \"column\": \"assistant\",\n      \"properties\": {\n        \"dtype\": \"string\",\n        \"num_unique_values\": 5167,\n        \"samples\": [\n          \"{'role': 'assistant', 'content': \\\"<functioncall> {'name': 'information_extraction', 'arguments': {'customer_phone': '0331366611'}}\\\"}\"\n        ],\n        \"semantic_type\": \"\",\n        \"description\": \"\"\n      }\n    },\n    {\n      \"column\": \"query\",\n      \"properties\": {\n        \"dtype\": \"string\",\n        \"num_unique_values\": 5463,\n        \"samples\": [\n          \"086457294 l\\u00e0 s\\u1ed1 c\\u1ee7a b\\u00e1c, c\\u1ea7n t\\u01b0 v\\u1ea5n\"\n        ],\n        \"semantic_type\": \"\",\n        \"description\": \"\"\n      }\n    },\n    {\n      \"column\": \"response\",\n      \"properties\": {\n        \"dtype\": \"string\",\n        \"num_unique_values\": 3396,\n        \"samples\": [\n          \"Ch\\u00e0o em, em vui l\\u00f2ng b\\u1ed5 sung \\u0111\\u1ea7y \\u0111\\u1ee7 s\\u1ed1 \\u0111i\\u1ec7n tho\\u1ea1i \\u0111\\u1ec3 anh/ch\\u1ecb h\\u1ed7 tr\\u1ee3 kh\\u1ea9n c\\u1ea5p \\u1ea1.\"\n        ],\n        \"semantic_type\": \"\",\n        \"description\": \"\"\n      }\n    },\n    {\n      \"column\": \"user1_number\",\n      \"properties\": {\n        \"dtype\": \"string\",\n        \"num_unique_values\": 3682,\n        \"samples\": [\n          \"07031490\"\n        ],\n        \"semantic_type\": \"\",\n        \"description\": \"\"\n      }\n    }\n  ]\n}"
            }
          },
          "metadata": {},
          "execution_count": 49
        }
      ]
    },
    {
      "cell_type": "code",
      "source": [
        "df.info()"
      ],
      "metadata": {
        "colab": {
          "base_uri": "https://localhost:8080/"
        },
        "id": "18R2tslHNkTE",
        "outputId": "d9b44db9-91e1-4986-f6e9-3a0e7e348cee"
      },
      "execution_count": null,
      "outputs": [
        {
          "output_type": "stream",
          "name": "stdout",
          "text": [
            "<class 'pandas.core.frame.DataFrame'>\n",
            "RangeIndex: 5467 entries, 0 to 5466\n",
            "Data columns (total 12 columns):\n",
            " #   Column        Non-Null Count  Dtype \n",
            "---  ------        --------------  ----- \n",
            " 0   Unnamed: 0.1  5467 non-null   int64 \n",
            " 1   level_0       5467 non-null   int64 \n",
            " 2   Unnamed: 0    5467 non-null   int64 \n",
            " 3   user1         5467 non-null   object\n",
            " 4   user2         5454 non-null   object\n",
            " 5   index         5467 non-null   int64 \n",
            " 6   system        5467 non-null   object\n",
            " 7   user          5467 non-null   object\n",
            " 8   assistant     5467 non-null   object\n",
            " 9   query         5467 non-null   object\n",
            " 10  response      5467 non-null   object\n",
            " 11  user1_number  5467 non-null   object\n",
            "dtypes: int64(4), object(8)\n",
            "memory usage: 512.7+ KB\n"
          ]
        }
      ]
    },
    {
      "cell_type": "code",
      "source": [
        "# load data\n",
        "\n",
        "df = pd.read_csv('df.csv')\n",
        "df.info()"
      ],
      "metadata": {
        "colab": {
          "base_uri": "https://localhost:8080/"
        },
        "id": "nE4vxv2TQbcW",
        "outputId": "107d3f85-54fd-496b-a917-bb84b2ccd0c7"
      },
      "execution_count": null,
      "outputs": [
        {
          "output_type": "stream",
          "name": "stdout",
          "text": [
            "<class 'pandas.core.frame.DataFrame'>\n",
            "RangeIndex: 5467 entries, 0 to 5466\n",
            "Data columns (total 12 columns):\n",
            " #   Column        Non-Null Count  Dtype  \n",
            "---  ------        --------------  -----  \n",
            " 0   Unnamed: 0.1  5467 non-null   int64  \n",
            " 1   level_0       5467 non-null   int64  \n",
            " 2   Unnamed: 0    5467 non-null   int64  \n",
            " 3   user1         5467 non-null   object \n",
            " 4   user2         5454 non-null   object \n",
            " 5   index         5467 non-null   int64  \n",
            " 6   system        5467 non-null   object \n",
            " 7   user          5467 non-null   object \n",
            " 8   assistant     5467 non-null   object \n",
            " 9   query         5467 non-null   object \n",
            " 10  response      5467 non-null   object \n",
            " 11  user1_number  5467 non-null   float64\n",
            "dtypes: float64(1), int64(4), object(7)\n",
            "memory usage: 512.7+ KB\n"
          ]
        }
      ]
    },
    {
      "cell_type": "code",
      "source": [
        "# drop NaN\n",
        "\n",
        "df.dropna(subset=['user2'], inplace=True)"
      ],
      "metadata": {
        "id": "DW1I4nsoQR1I"
      },
      "execution_count": null,
      "outputs": []
    },
    {
      "cell_type": "code",
      "source": [
        "len(df)"
      ],
      "metadata": {
        "colab": {
          "base_uri": "https://localhost:8080/"
        },
        "id": "iLxfWzj7Q7BS",
        "outputId": "c4e78bba-f6bc-4763-f838-3ce603735879"
      },
      "execution_count": null,
      "outputs": [
        {
          "output_type": "execute_result",
          "data": {
            "text/plain": [
              "5454"
            ]
          },
          "metadata": {},
          "execution_count": 53
        }
      ]
    },
    {
      "cell_type": "code",
      "source": [
        "# user1_number to string, +0\n",
        "\n",
        "df['user1_number'] = df['user1_number'].fillna('').astype(str).str.replace(r'\\.0$', '', regex=True)\n",
        "df['user1_number'] = '0' + df['user1_number']"
      ],
      "metadata": {
        "id": "zXpNfEyzQczl"
      },
      "execution_count": null,
      "outputs": []
    },
    {
      "cell_type": "code",
      "source": [
        "df.head()"
      ],
      "metadata": {
        "colab": {
          "base_uri": "https://localhost:8080/",
          "height": 397
        },
        "id": "9YX6sbuWRDD6",
        "outputId": "b0696305-8ac3-4586-8b18-b0cf45da5c24"
      },
      "execution_count": null,
      "outputs": [
        {
          "output_type": "execute_result",
          "data": {
            "text/plain": [
              "   Unnamed: 0.1  level_0  Unnamed: 0  \\\n",
              "0             0        0           0   \n",
              "1             1        1           1   \n",
              "2             2        2           2   \n",
              "3             3        3           3   \n",
              "4             4        4           4   \n",
              "\n",
              "                                               user1                   user2  \\\n",
              "0  Em muốn tìm hiểu các gói khám sức khỏe sdt em ...            năm 44 bảy67   \n",
              "1  Gói sản phẩm bên mình có gì hot không ạ số mìn...             năm năm một   \n",
              "2  Cho mình xin thông tin khuyến mãi đi số điện t...         7 5sáu chín hai   \n",
              "3  Bên mình có gói khám tổng quát nào không số đi...  chín 0bốn năm0babảybốn   \n",
              "4  Các gói dịch vụ hiện tại giá thế nào ạ số của ...         một nămsáu chín   \n",
              "\n",
              "   index                                             system  \\\n",
              "0      0  {'role': 'system', 'content': 'Extracts the re...   \n",
              "1      1  {'role': 'system', 'content': 'Extracts the re...   \n",
              "2      2  {'role': 'system', 'content': 'Extracts the re...   \n",
              "3      3  {'role': 'system', 'content': 'Extracts the re...   \n",
              "4      4  {'role': 'system', 'content': 'Extracts the re...   \n",
              "\n",
              "                                                user  \\\n",
              "0  {'role': 'user', 'content': 'Em muốn tìm hiểu ...   \n",
              "1  {'role': 'user', 'content': 'Gói sản phẩm bên ...   \n",
              "2  {'role': 'user', 'content': 'Cho mình xin thôn...   \n",
              "3  {'role': 'user', 'content': 'Bên mình có gói k...   \n",
              "4  {'role': 'user', 'content': 'Các gói dịch vụ h...   \n",
              "\n",
              "                                           assistant  \\\n",
              "0  {'role': 'assistant', 'content': \"<functioncal...   \n",
              "1  {'role': 'assistant', 'content': \"<functioncal...   \n",
              "2  {'role': 'assistant', 'content': \"<functioncal...   \n",
              "3  {'role': 'assistant', 'content': \"<functioncal...   \n",
              "4  {'role': 'assistant', 'content': \"<functioncal...   \n",
              "\n",
              "                                               query  \\\n",
              "0  Em muốn tìm hiểu các gói khám sức khỏe sdt em ...   \n",
              "1  Gói sản phẩm bên mình có gì hot không ạ số mìn...   \n",
              "2  Cho mình xin thông tin khuyến mãi đi số điện t...   \n",
              "3  Bên mình có gói khám tổng quát nào không số đi...   \n",
              "4  Các gói dịch vụ hiện tại giá thế nào ạ số của ...   \n",
              "\n",
              "                                            response user1_number  \n",
              "0  Chào em, em vui lòng cung cấp đầy đủ số điện t...         0886  \n",
              "1  Chào bạn, bạn vui lòng cho mình xin số điện th...      0390024  \n",
              "2  Chào bạn, để nhận thông tin khuyến mãi, bạn vu...        03750  \n",
              "3  Chào bạn, bạn vui lòng cung cấp đầy đủ số điện...          081  \n",
              "4  Chào bạn, mình cần số điện thoại đầy đủ của bạ...       094948  "
            ],
            "text/html": [
              "\n",
              "  <div id=\"df-0a9e7fad-b99e-4769-8626-155af6611a24\" class=\"colab-df-container\">\n",
              "    <div>\n",
              "<style scoped>\n",
              "    .dataframe tbody tr th:only-of-type {\n",
              "        vertical-align: middle;\n",
              "    }\n",
              "\n",
              "    .dataframe tbody tr th {\n",
              "        vertical-align: top;\n",
              "    }\n",
              "\n",
              "    .dataframe thead th {\n",
              "        text-align: right;\n",
              "    }\n",
              "</style>\n",
              "<table border=\"1\" class=\"dataframe\">\n",
              "  <thead>\n",
              "    <tr style=\"text-align: right;\">\n",
              "      <th></th>\n",
              "      <th>Unnamed: 0.1</th>\n",
              "      <th>level_0</th>\n",
              "      <th>Unnamed: 0</th>\n",
              "      <th>user1</th>\n",
              "      <th>user2</th>\n",
              "      <th>index</th>\n",
              "      <th>system</th>\n",
              "      <th>user</th>\n",
              "      <th>assistant</th>\n",
              "      <th>query</th>\n",
              "      <th>response</th>\n",
              "      <th>user1_number</th>\n",
              "    </tr>\n",
              "  </thead>\n",
              "  <tbody>\n",
              "    <tr>\n",
              "      <th>0</th>\n",
              "      <td>0</td>\n",
              "      <td>0</td>\n",
              "      <td>0</td>\n",
              "      <td>Em muốn tìm hiểu các gói khám sức khỏe sdt em ...</td>\n",
              "      <td>năm 44 bảy67</td>\n",
              "      <td>0</td>\n",
              "      <td>{'role': 'system', 'content': 'Extracts the re...</td>\n",
              "      <td>{'role': 'user', 'content': 'Em muốn tìm hiểu ...</td>\n",
              "      <td>{'role': 'assistant', 'content': \"&lt;functioncal...</td>\n",
              "      <td>Em muốn tìm hiểu các gói khám sức khỏe sdt em ...</td>\n",
              "      <td>Chào em, em vui lòng cung cấp đầy đủ số điện t...</td>\n",
              "      <td>0886</td>\n",
              "    </tr>\n",
              "    <tr>\n",
              "      <th>1</th>\n",
              "      <td>1</td>\n",
              "      <td>1</td>\n",
              "      <td>1</td>\n",
              "      <td>Gói sản phẩm bên mình có gì hot không ạ số mìn...</td>\n",
              "      <td>năm năm một</td>\n",
              "      <td>1</td>\n",
              "      <td>{'role': 'system', 'content': 'Extracts the re...</td>\n",
              "      <td>{'role': 'user', 'content': 'Gói sản phẩm bên ...</td>\n",
              "      <td>{'role': 'assistant', 'content': \"&lt;functioncal...</td>\n",
              "      <td>Gói sản phẩm bên mình có gì hot không ạ số mìn...</td>\n",
              "      <td>Chào bạn, bạn vui lòng cho mình xin số điện th...</td>\n",
              "      <td>0390024</td>\n",
              "    </tr>\n",
              "    <tr>\n",
              "      <th>2</th>\n",
              "      <td>2</td>\n",
              "      <td>2</td>\n",
              "      <td>2</td>\n",
              "      <td>Cho mình xin thông tin khuyến mãi đi số điện t...</td>\n",
              "      <td>7 5sáu chín hai</td>\n",
              "      <td>2</td>\n",
              "      <td>{'role': 'system', 'content': 'Extracts the re...</td>\n",
              "      <td>{'role': 'user', 'content': 'Cho mình xin thôn...</td>\n",
              "      <td>{'role': 'assistant', 'content': \"&lt;functioncal...</td>\n",
              "      <td>Cho mình xin thông tin khuyến mãi đi số điện t...</td>\n",
              "      <td>Chào bạn, để nhận thông tin khuyến mãi, bạn vu...</td>\n",
              "      <td>03750</td>\n",
              "    </tr>\n",
              "    <tr>\n",
              "      <th>3</th>\n",
              "      <td>3</td>\n",
              "      <td>3</td>\n",
              "      <td>3</td>\n",
              "      <td>Bên mình có gói khám tổng quát nào không số đi...</td>\n",
              "      <td>chín 0bốn năm0babảybốn</td>\n",
              "      <td>3</td>\n",
              "      <td>{'role': 'system', 'content': 'Extracts the re...</td>\n",
              "      <td>{'role': 'user', 'content': 'Bên mình có gói k...</td>\n",
              "      <td>{'role': 'assistant', 'content': \"&lt;functioncal...</td>\n",
              "      <td>Bên mình có gói khám tổng quát nào không số đi...</td>\n",
              "      <td>Chào bạn, bạn vui lòng cung cấp đầy đủ số điện...</td>\n",
              "      <td>081</td>\n",
              "    </tr>\n",
              "    <tr>\n",
              "      <th>4</th>\n",
              "      <td>4</td>\n",
              "      <td>4</td>\n",
              "      <td>4</td>\n",
              "      <td>Các gói dịch vụ hiện tại giá thế nào ạ số của ...</td>\n",
              "      <td>một nămsáu chín</td>\n",
              "      <td>4</td>\n",
              "      <td>{'role': 'system', 'content': 'Extracts the re...</td>\n",
              "      <td>{'role': 'user', 'content': 'Các gói dịch vụ h...</td>\n",
              "      <td>{'role': 'assistant', 'content': \"&lt;functioncal...</td>\n",
              "      <td>Các gói dịch vụ hiện tại giá thế nào ạ số của ...</td>\n",
              "      <td>Chào bạn, mình cần số điện thoại đầy đủ của bạ...</td>\n",
              "      <td>094948</td>\n",
              "    </tr>\n",
              "  </tbody>\n",
              "</table>\n",
              "</div>\n",
              "    <div class=\"colab-df-buttons\">\n",
              "\n",
              "  <div class=\"colab-df-container\">\n",
              "    <button class=\"colab-df-convert\" onclick=\"convertToInteractive('df-0a9e7fad-b99e-4769-8626-155af6611a24')\"\n",
              "            title=\"Convert this dataframe to an interactive table.\"\n",
              "            style=\"display:none;\">\n",
              "\n",
              "  <svg xmlns=\"http://www.w3.org/2000/svg\" height=\"24px\" viewBox=\"0 -960 960 960\">\n",
              "    <path d=\"M120-120v-720h720v720H120Zm60-500h600v-160H180v160Zm220 220h160v-160H400v160Zm0 220h160v-160H400v160ZM180-400h160v-160H180v160Zm440 0h160v-160H620v160ZM180-180h160v-160H180v160Zm440 0h160v-160H620v160Z\"/>\n",
              "  </svg>\n",
              "    </button>\n",
              "\n",
              "  <style>\n",
              "    .colab-df-container {\n",
              "      display:flex;\n",
              "      gap: 12px;\n",
              "    }\n",
              "\n",
              "    .colab-df-convert {\n",
              "      background-color: #E8F0FE;\n",
              "      border: none;\n",
              "      border-radius: 50%;\n",
              "      cursor: pointer;\n",
              "      display: none;\n",
              "      fill: #1967D2;\n",
              "      height: 32px;\n",
              "      padding: 0 0 0 0;\n",
              "      width: 32px;\n",
              "    }\n",
              "\n",
              "    .colab-df-convert:hover {\n",
              "      background-color: #E2EBFA;\n",
              "      box-shadow: 0px 1px 2px rgba(60, 64, 67, 0.3), 0px 1px 3px 1px rgba(60, 64, 67, 0.15);\n",
              "      fill: #174EA6;\n",
              "    }\n",
              "\n",
              "    .colab-df-buttons div {\n",
              "      margin-bottom: 4px;\n",
              "    }\n",
              "\n",
              "    [theme=dark] .colab-df-convert {\n",
              "      background-color: #3B4455;\n",
              "      fill: #D2E3FC;\n",
              "    }\n",
              "\n",
              "    [theme=dark] .colab-df-convert:hover {\n",
              "      background-color: #434B5C;\n",
              "      box-shadow: 0px 1px 3px 1px rgba(0, 0, 0, 0.15);\n",
              "      filter: drop-shadow(0px 1px 2px rgba(0, 0, 0, 0.3));\n",
              "      fill: #FFFFFF;\n",
              "    }\n",
              "  </style>\n",
              "\n",
              "    <script>\n",
              "      const buttonEl =\n",
              "        document.querySelector('#df-0a9e7fad-b99e-4769-8626-155af6611a24 button.colab-df-convert');\n",
              "      buttonEl.style.display =\n",
              "        google.colab.kernel.accessAllowed ? 'block' : 'none';\n",
              "\n",
              "      async function convertToInteractive(key) {\n",
              "        const element = document.querySelector('#df-0a9e7fad-b99e-4769-8626-155af6611a24');\n",
              "        const dataTable =\n",
              "          await google.colab.kernel.invokeFunction('convertToInteractive',\n",
              "                                                    [key], {});\n",
              "        if (!dataTable) return;\n",
              "\n",
              "        const docLinkHtml = 'Like what you see? Visit the ' +\n",
              "          '<a target=\"_blank\" href=https://colab.research.google.com/notebooks/data_table.ipynb>data table notebook</a>'\n",
              "          + ' to learn more about interactive tables.';\n",
              "        element.innerHTML = '';\n",
              "        dataTable['output_type'] = 'display_data';\n",
              "        await google.colab.output.renderOutput(dataTable, element);\n",
              "        const docLink = document.createElement('div');\n",
              "        docLink.innerHTML = docLinkHtml;\n",
              "        element.appendChild(docLink);\n",
              "      }\n",
              "    </script>\n",
              "  </div>\n",
              "\n",
              "\n",
              "    <div id=\"df-4c22800d-f7b6-480d-870e-570dce7c2503\">\n",
              "      <button class=\"colab-df-quickchart\" onclick=\"quickchart('df-4c22800d-f7b6-480d-870e-570dce7c2503')\"\n",
              "                title=\"Suggest charts\"\n",
              "                style=\"display:none;\">\n",
              "\n",
              "<svg xmlns=\"http://www.w3.org/2000/svg\" height=\"24px\"viewBox=\"0 0 24 24\"\n",
              "     width=\"24px\">\n",
              "    <g>\n",
              "        <path d=\"M19 3H5c-1.1 0-2 .9-2 2v14c0 1.1.9 2 2 2h14c1.1 0 2-.9 2-2V5c0-1.1-.9-2-2-2zM9 17H7v-7h2v7zm4 0h-2V7h2v10zm4 0h-2v-4h2v4z\"/>\n",
              "    </g>\n",
              "</svg>\n",
              "      </button>\n",
              "\n",
              "<style>\n",
              "  .colab-df-quickchart {\n",
              "      --bg-color: #E8F0FE;\n",
              "      --fill-color: #1967D2;\n",
              "      --hover-bg-color: #E2EBFA;\n",
              "      --hover-fill-color: #174EA6;\n",
              "      --disabled-fill-color: #AAA;\n",
              "      --disabled-bg-color: #DDD;\n",
              "  }\n",
              "\n",
              "  [theme=dark] .colab-df-quickchart {\n",
              "      --bg-color: #3B4455;\n",
              "      --fill-color: #D2E3FC;\n",
              "      --hover-bg-color: #434B5C;\n",
              "      --hover-fill-color: #FFFFFF;\n",
              "      --disabled-bg-color: #3B4455;\n",
              "      --disabled-fill-color: #666;\n",
              "  }\n",
              "\n",
              "  .colab-df-quickchart {\n",
              "    background-color: var(--bg-color);\n",
              "    border: none;\n",
              "    border-radius: 50%;\n",
              "    cursor: pointer;\n",
              "    display: none;\n",
              "    fill: var(--fill-color);\n",
              "    height: 32px;\n",
              "    padding: 0;\n",
              "    width: 32px;\n",
              "  }\n",
              "\n",
              "  .colab-df-quickchart:hover {\n",
              "    background-color: var(--hover-bg-color);\n",
              "    box-shadow: 0 1px 2px rgba(60, 64, 67, 0.3), 0 1px 3px 1px rgba(60, 64, 67, 0.15);\n",
              "    fill: var(--button-hover-fill-color);\n",
              "  }\n",
              "\n",
              "  .colab-df-quickchart-complete:disabled,\n",
              "  .colab-df-quickchart-complete:disabled:hover {\n",
              "    background-color: var(--disabled-bg-color);\n",
              "    fill: var(--disabled-fill-color);\n",
              "    box-shadow: none;\n",
              "  }\n",
              "\n",
              "  .colab-df-spinner {\n",
              "    border: 2px solid var(--fill-color);\n",
              "    border-color: transparent;\n",
              "    border-bottom-color: var(--fill-color);\n",
              "    animation:\n",
              "      spin 1s steps(1) infinite;\n",
              "  }\n",
              "\n",
              "  @keyframes spin {\n",
              "    0% {\n",
              "      border-color: transparent;\n",
              "      border-bottom-color: var(--fill-color);\n",
              "      border-left-color: var(--fill-color);\n",
              "    }\n",
              "    20% {\n",
              "      border-color: transparent;\n",
              "      border-left-color: var(--fill-color);\n",
              "      border-top-color: var(--fill-color);\n",
              "    }\n",
              "    30% {\n",
              "      border-color: transparent;\n",
              "      border-left-color: var(--fill-color);\n",
              "      border-top-color: var(--fill-color);\n",
              "      border-right-color: var(--fill-color);\n",
              "    }\n",
              "    40% {\n",
              "      border-color: transparent;\n",
              "      border-right-color: var(--fill-color);\n",
              "      border-top-color: var(--fill-color);\n",
              "    }\n",
              "    60% {\n",
              "      border-color: transparent;\n",
              "      border-right-color: var(--fill-color);\n",
              "    }\n",
              "    80% {\n",
              "      border-color: transparent;\n",
              "      border-right-color: var(--fill-color);\n",
              "      border-bottom-color: var(--fill-color);\n",
              "    }\n",
              "    90% {\n",
              "      border-color: transparent;\n",
              "      border-bottom-color: var(--fill-color);\n",
              "    }\n",
              "  }\n",
              "</style>\n",
              "\n",
              "      <script>\n",
              "        async function quickchart(key) {\n",
              "          const quickchartButtonEl =\n",
              "            document.querySelector('#' + key + ' button');\n",
              "          quickchartButtonEl.disabled = true;  // To prevent multiple clicks.\n",
              "          quickchartButtonEl.classList.add('colab-df-spinner');\n",
              "          try {\n",
              "            const charts = await google.colab.kernel.invokeFunction(\n",
              "                'suggestCharts', [key], {});\n",
              "          } catch (error) {\n",
              "            console.error('Error during call to suggestCharts:', error);\n",
              "          }\n",
              "          quickchartButtonEl.classList.remove('colab-df-spinner');\n",
              "          quickchartButtonEl.classList.add('colab-df-quickchart-complete');\n",
              "        }\n",
              "        (() => {\n",
              "          let quickchartButtonEl =\n",
              "            document.querySelector('#df-4c22800d-f7b6-480d-870e-570dce7c2503 button');\n",
              "          quickchartButtonEl.style.display =\n",
              "            google.colab.kernel.accessAllowed ? 'block' : 'none';\n",
              "        })();\n",
              "      </script>\n",
              "    </div>\n",
              "\n",
              "    </div>\n",
              "  </div>\n"
            ],
            "application/vnd.google.colaboratory.intrinsic+json": {
              "type": "dataframe",
              "variable_name": "df",
              "summary": "{\n  \"name\": \"df\",\n  \"rows\": 5454,\n  \"fields\": [\n    {\n      \"column\": \"Unnamed: 0.1\",\n      \"properties\": {\n        \"dtype\": \"number\",\n        \"std\": 1654,\n        \"min\": 0,\n        \"max\": 5766,\n        \"num_unique_values\": 5454,\n        \"samples\": [\n          5456,\n          5006,\n          5050\n        ],\n        \"semantic_type\": \"\",\n        \"description\": \"\"\n      }\n    },\n    {\n      \"column\": \"level_0\",\n      \"properties\": {\n        \"dtype\": \"number\",\n        \"std\": 1654,\n        \"min\": 0,\n        \"max\": 5766,\n        \"num_unique_values\": 5454,\n        \"samples\": [\n          5456,\n          5006,\n          5050\n        ],\n        \"semantic_type\": \"\",\n        \"description\": \"\"\n      }\n    },\n    {\n      \"column\": \"Unnamed: 0\",\n      \"properties\": {\n        \"dtype\": \"number\",\n        \"std\": 1654,\n        \"min\": 0,\n        \"max\": 5766,\n        \"num_unique_values\": 5454,\n        \"samples\": [\n          5456,\n          5006,\n          5050\n        ],\n        \"semantic_type\": \"\",\n        \"description\": \"\"\n      }\n    },\n    {\n      \"column\": \"user1\",\n      \"properties\": {\n        \"dtype\": \"string\",\n        \"num_unique_values\": 5387,\n        \"samples\": [\n          \"Okie sdt c\\u1ee7a m\\u00ecnh l\\u00e0 0835 s\\u00e1u t\\u00e1m5\",\n          \"C mu\\u1ed1n ki\\u1ec3m tra ch\\u1ee9c n\\u0103ng gan, s\\u1ed1 c l\\u00e0 0911\",\n          \"S\\u1ed1 c\\u1ee7a ch\\u1ecb 081902\"\n        ],\n        \"semantic_type\": \"\",\n        \"description\": \"\"\n      }\n    },\n    {\n      \"column\": \"user2\",\n      \"properties\": {\n        \"dtype\": \"string\",\n        \"num_unique_values\": 5291,\n        \"samples\": [\n          \"b\\u1ea3ykh\\u00f4ng kh\\u00f4ng55\",\n          \"t\\u00e1m1 m\\u1ed9t7\",\n          \"ban\\u0103m ch\\u00edn n\\u0103m 5 kh\\u00f4ng\"\n        ],\n        \"semantic_type\": \"\",\n        \"description\": \"\"\n      }\n    },\n    {\n      \"column\": \"index\",\n      \"properties\": {\n        \"dtype\": \"number\",\n        \"std\": 853,\n        \"min\": 0,\n        \"max\": 2999,\n        \"num_unique_values\": 2999,\n        \"samples\": [\n          1679,\n          1034,\n          144\n        ],\n        \"semantic_type\": \"\",\n        \"description\": \"\"\n      }\n    },\n    {\n      \"column\": \"system\",\n      \"properties\": {\n        \"dtype\": \"category\",\n        \"num_unique_values\": 1,\n        \"samples\": [\n          \"{'role': 'system', 'content': 'Extracts the relevant information from the passage.\\\\n{\\\"name\\\": \\\"information_extraction\\\", \\\"description\\\": \\\"Extracts the relevant information from the passage\\\",\\\\n\\\"arguments\\\": [{\\\"name\\\": \\\"customer_name\\\", \\\"desc\\\": \\\"Customer\\\\'s name\\\", \\\"type\\\": \\\"string\\\"},\\\\n{\\\"name\\\": \\\"customer_phone\\\", \\\"desc\\\": \\\"Customer\\\\'s phone number\\\", \\\"type\\\": \\\"string\\\"},\\\\n{\\\"name\\\": \\\"medical_department\\\", \\\"desc\\\": \\\"Medical department or service information.\\\", \\\"type\\\": \\\"string\\\"},\\\\n{\\\"name\\\": \\\"is_yes\\\", \\\"desc\\\": \\\"Can take two values:\\\\\\\\n- true (if the user confirms, agrees, says something affirmative, or expresses consent in any similar way.)\\\\\\\\n- false (if the user expresses the opposite, does not approve, disagrees, or shows any similar response.)\\\", \\\"type\\\": \\\"string\\\"},\\\\n{\\\"name\\\": \\\"hospital_name\\\", \\\"desc\\\": \\\"Identify the name of the hospital, place or facility of Vinmec\\\", \\\"type\\\": \\\"string\\\"},\\\\n{\\\"name\\\": \\\"customer_dob\\\", \\\"desc\\\": \\\"Extract the user\\\\'s date of birth. Format DD-MM-YYYY. This value must be a date in the past.\\\", \\\"type\\\": \\\"string\\\"},\\\\n{\\\"name\\\": \\\"customer_place\\\", \\\"desc\\\": \\\"Province/City provided by the customer\\\", \\\"type\\\": \\\"string\\\"},\\\\n{\\\"name\\\": \\\"symptoms\\\", \\\"desc\\\": \\\"Identify and extract users\\\\' symptom information based on their messages\\\", \\\"type\\\": \\\"string\\\"},\\\\n{\\\"name\\\": \\\"relationship\\\", \\\"desc\\\": \\\"Relationship to the person booking the appointment\\\", \\\"type\\\": \\\"string\\\"},\\\\n{\\\"name\\\": \\\"appointment_date\\\", \\\"desc\\\": \\\"Medical appointment schedulling date based on the user\\\\'s messages. remember extract by following format: DD-MM-YYYY. This value must be a date in the future. \\\\\\\\nExample: 1999-04-24 -> 24-04-1999\\\", \\\"type\\\": \\\"string\\\"},\\\\n{\\\"name\\\": \\\"appointment_time\\\", \\\"desc\\\": \\\"Medical appointment schedulling time based on the user\\\\'s messages. The time frame will follow a 24-hour format and the time zone is GMT+7 follow this format: HH:mm\\\", \\\"type\\\": \\\"string\\\"}, {\\\"name\\\": \\\"cancel_num\\\", \\\"desc\\\": \\\"Identify number from the user\\\\'s message. The user may express them as words (one, two,...) or digits (1, 2,...) in Vietnamese. If the user provides words, convert them to digits. Accepted values range from 1 to 10.\\\", \\\"type\\\": \\\"string\\\"}]}'}\"\n        ],\n        \"semantic_type\": \"\",\n        \"description\": \"\"\n      }\n    },\n    {\n      \"column\": \"user\",\n      \"properties\": {\n        \"dtype\": \"string\",\n        \"num_unique_values\": 5450,\n        \"samples\": [\n          \"{'role': 'user', 'content': 'S\\u1ed1 anh 0772979827, si\\u00eau \\u00e2m nh\\u00e9'}\"\n        ],\n        \"semantic_type\": \"\",\n        \"description\": \"\"\n      }\n    },\n    {\n      \"column\": \"assistant\",\n      \"properties\": {\n        \"dtype\": \"string\",\n        \"num_unique_values\": 5157,\n        \"samples\": [\n          \"{'role': 'assistant', 'content': \\\"<functioncall> {'name': 'information_extraction', 'arguments': {'customer_name': 'H\\u01b0\\u1eddng', 'customer_phone': '0386965475'}}\\\"}\"\n        ],\n        \"semantic_type\": \"\",\n        \"description\": \"\"\n      }\n    },\n    {\n      \"column\": \"query\",\n      \"properties\": {\n        \"dtype\": \"string\",\n        \"num_unique_values\": 5450,\n        \"samples\": [\n          \"S\\u1ed1 anh 0772979827, si\\u00eau \\u00e2m nh\\u00e9\"\n        ],\n        \"semantic_type\": \"\",\n        \"description\": \"\"\n      }\n    },\n    {\n      \"column\": \"response\",\n      \"properties\": {\n        \"dtype\": \"string\",\n        \"num_unique_values\": 3390,\n        \"samples\": [\n          \"Ch\\u00e0o em, em vui l\\u00f2ng cung c\\u1ea5p \\u0111\\u1ea7y \\u0111\\u1ee7 s\\u1ed1 \\u0111i\\u1ec7n tho\\u1ea1i \\u0111\\u1ec3 anh/ch\\u1ecb h\\u1ecfi v\\u1ec1 c\\u00e1c g\\u00f3i kh\\u00e1m tr\\u01b0\\u1edbc khi k\\u1ebft h\\u00f4n nh\\u00e9.\"\n        ],\n        \"semantic_type\": \"\",\n        \"description\": \"\"\n      }\n    },\n    {\n      \"column\": \"user1_number\",\n      \"properties\": {\n        \"dtype\": \"string\",\n        \"num_unique_values\": 3669,\n        \"samples\": [\n          \"077130\"\n        ],\n        \"semantic_type\": \"\",\n        \"description\": \"\"\n      }\n    }\n  ]\n}"
            }
          },
          "metadata": {},
          "execution_count": 56
        }
      ]
    },
    {
      "cell_type": "code",
      "source": [
        "# args\n",
        "\n",
        "df['args'] = ''\n",
        "\n",
        "for i in range(len(df)):\n",
        "  df['args'] = df['assistant'].astype(str).str[34:-1]"
      ],
      "metadata": {
        "id": "0af4XOuwQgdt"
      },
      "execution_count": null,
      "outputs": []
    },
    {
      "cell_type": "code",
      "source": [
        "# save csv\n",
        "df.to_csv('df.csv')"
      ],
      "metadata": {
        "id": "IgalTArZQiQO"
      },
      "execution_count": null,
      "outputs": []
    },
    {
      "cell_type": "code",
      "source": [
        "# chuyển về json\n",
        "result = transform_json(df)\n",
        "\n",
        "with open('turn2.json', 'w', encoding='utf-8') as f:\n",
        "    json.dump(result, f, ensure_ascii=False, indent=2)"
      ],
      "metadata": {
        "id": "NsljDi8hQts5"
      },
      "execution_count": null,
      "outputs": []
    },
    {
      "cell_type": "code",
      "source": [
        "import pandas as pd\n",
        "\n",
        "df = pd.read_csv('df.csv')"
      ],
      "metadata": {
        "id": "17NOz49pRoTv"
      },
      "execution_count": null,
      "outputs": []
    },
    {
      "cell_type": "code",
      "source": [
        "df[3100:3200]"
      ],
      "metadata": {
        "id": "G6c0HX8gGHlP"
      },
      "execution_count": null,
      "outputs": []
    },
    {
      "cell_type": "code",
      "source": [
        "tdf = pd.read_json('turn2.json')\n",
        "tdf.head(1)"
      ],
      "metadata": {
        "colab": {
          "base_uri": "https://localhost:8080/",
          "height": 376
        },
        "id": "-SrXJaKFGLZQ",
        "outputId": "2ee68ff6-b382-4c86-c0e1-75ffa1d508c9"
      },
      "execution_count": null,
      "outputs": [
        {
          "output_type": "execute_result",
          "data": {
            "text/plain": [
              "                                                                                                                                                                                                                                                                                                                                                                                                                                                                                                                                                                                                                                                                                                                                                                                                                                                                                                                                                                                                                                                                                                                                                                                                                                                                                                                                                                                                                                                                                                                                                                                                                                                                                                                                                                                                                                                                                                                                                                                                                                                                                                                                                                   0  \\\n",
              "0  {'role': 'system', 'content': 'Extracts the relevant information from the passage.\n",
              "{\"name\": \"information_extraction\", \"description\": \"Extracts the relevant information from the passage\",\n",
              "\"arguments\": [{\"name\": \"customer_name\", \"desc\": \"Customer's name\", \"type\": \"string\"},\n",
              "{\"name\": \"customer_phone\", \"desc\": \"Customer's phone number\", \"type\": \"string\"},\n",
              "{\"name\": \"medical_department\", \"desc\": \"Medical department or service information.\", \"type\": \"string\"},\n",
              "{\"name\": \"is_yes\", \"desc\": \"Can take two values:\\n- true (if the user confirms, agrees, says something affirmative, or expresses consent in any similar way.)\\n- false (if the user expresses the opposite, does not approve, disagrees, or shows any similar response.)\", \"type\": \"string\"},\n",
              "{\"name\": \"hospital_name\", \"desc\": \"Identify the name of the hospital, place or facility of Vinmec\", \"type\": \"string\"},\n",
              "{\"name\": \"customer_dob\", \"desc\": \"Extract the user's date of birth. Format DD-MM-YYYY. This value must be a date in the past.\", \"type\": \"string\"},\n",
              "{\"name\": \"customer_place\", \"desc\": \"Province/City provided by the customer\", \"type\": \"string\"},\n",
              "{\"name\": \"symptoms\", \"desc\": \"Identify and extract users' symptom information based on their messages\", \"type\": \"string\"},\n",
              "{\"name\": \"relationship\", \"desc\": \"Relationship to the person booking the appointment\", \"type\": \"string\"},\n",
              "{\"name\": \"appointment_date\", \"desc\": \"Medical appointment schedulling date based on the user's messages. remember extract by following format: DD-MM-YYYY. This value must be a date in the future. \\nExample: 1999-04-24 -> 24-04-1999\", \"type\": \"string\"},\n",
              "{\"name\": \"appointment_time\", \"desc\": \"Medical appointment schedulling time based on the user's messages. The time frame will follow a 24-hour format and the time zone is GMT+7 follow this format: HH:mm\", \"type\": \"string\"}, {\"name\": \"cancel_num\", \"desc\": \"Identify number from the user's message. The user may express them as words (one, two,...) or digits (1, 2,...) in Vietnamese. If the user provides words, convert them to digits. Accepted values range from 1 to 10.\", \"type\": \"string\"}]}'}   \n",
              "\n",
              "                                                                                         1  \\\n",
              "0  {'role': 'user', 'content': 'Em muốn tìm hiểu các gói khám sức khỏe sdt em là 088 sáu'}   \n",
              "\n",
              "                                                                                                                                2  \\\n",
              "0  {'role': 'assistant', 'content': '<functioncall> {'name': 'information_extraction', 'arguments': {'customer_phone': '0886'}}'}   \n",
              "\n",
              "                                                                                                                                            3  \\\n",
              "0  {'role': 'assistant', 'content': 'Chào em, em vui lòng cung cấp đầy đủ số điện thoại để anh/chị hỗ trợ tư vấn các gói khám sức khỏe nhé.'}   \n",
              "\n",
              "                                             4  \\\n",
              "0  {'role': 'user', 'content': 'năm 44 bảy67'}   \n",
              "\n",
              "                                                                                                                                        5  \n",
              "0  {'role': 'assistant', 'content': '\"<functioncall> {'name': 'information_extraction', 'arguments': {'customer_phone': '0886544767'}}\"'}  "
            ],
            "text/html": [
              "\n",
              "  <div id=\"df-568db745-c4db-4e50-8fb9-253a5ad90d92\" class=\"colab-df-container\">\n",
              "    <div>\n",
              "<style scoped>\n",
              "    .dataframe tbody tr th:only-of-type {\n",
              "        vertical-align: middle;\n",
              "    }\n",
              "\n",
              "    .dataframe tbody tr th {\n",
              "        vertical-align: top;\n",
              "    }\n",
              "\n",
              "    .dataframe thead th {\n",
              "        text-align: right;\n",
              "    }\n",
              "</style>\n",
              "<table border=\"1\" class=\"dataframe\">\n",
              "  <thead>\n",
              "    <tr style=\"text-align: right;\">\n",
              "      <th></th>\n",
              "      <th>0</th>\n",
              "      <th>1</th>\n",
              "      <th>2</th>\n",
              "      <th>3</th>\n",
              "      <th>4</th>\n",
              "      <th>5</th>\n",
              "    </tr>\n",
              "  </thead>\n",
              "  <tbody>\n",
              "    <tr>\n",
              "      <th>0</th>\n",
              "      <td>{'role': 'system', 'content': 'Extracts the relevant information from the passage.\n",
              "{\"name\": \"information_extraction\", \"description\": \"Extracts the relevant information from the passage\",\n",
              "\"arguments\": [{\"name\": \"customer_name\", \"desc\": \"Customer's name\", \"type\": \"string\"},\n",
              "{\"name\": \"customer_phone\", \"desc\": \"Customer's phone number\", \"type\": \"string\"},\n",
              "{\"name\": \"medical_department\", \"desc\": \"Medical department or service information.\", \"type\": \"string\"},\n",
              "{\"name\": \"is_yes\", \"desc\": \"Can take two values:\\n- true (if the user confirms, agrees, says something affirmative, or expresses consent in any similar way.)\\n- false (if the user expresses the opposite, does not approve, disagrees, or shows any similar response.)\", \"type\": \"string\"},\n",
              "{\"name\": \"hospital_name\", \"desc\": \"Identify the name of the hospital, place or facility of Vinmec\", \"type\": \"string\"},\n",
              "{\"name\": \"customer_dob\", \"desc\": \"Extract the user's date of birth. Format DD-MM-YYYY. This value must be a date in the past.\", \"type\": \"string\"},\n",
              "{\"name\": \"customer_place\", \"desc\": \"Province/City provided by the customer\", \"type\": \"string\"},\n",
              "{\"name\": \"symptoms\", \"desc\": \"Identify and extract users' symptom information based on their messages\", \"type\": \"string\"},\n",
              "{\"name\": \"relationship\", \"desc\": \"Relationship to the person booking the appointment\", \"type\": \"string\"},\n",
              "{\"name\": \"appointment_date\", \"desc\": \"Medical appointment schedulling date based on the user's messages. remember extract by following format: DD-MM-YYYY. This value must be a date in the future. \\nExample: 1999-04-24 -&gt; 24-04-1999\", \"type\": \"string\"},\n",
              "{\"name\": \"appointment_time\", \"desc\": \"Medical appointment schedulling time based on the user's messages. The time frame will follow a 24-hour format and the time zone is GMT+7 follow this format: HH:mm\", \"type\": \"string\"}, {\"name\": \"cancel_num\", \"desc\": \"Identify number from the user's message. The user may express them as words (one, two,...) or digits (1, 2,...) in Vietnamese. If the user provides words, convert them to digits. Accepted values range from 1 to 10.\", \"type\": \"string\"}]}'}</td>\n",
              "      <td>{'role': 'user', 'content': 'Em muốn tìm hiểu các gói khám sức khỏe sdt em là 088 sáu'}</td>\n",
              "      <td>{'role': 'assistant', 'content': '&lt;functioncall&gt; {'name': 'information_extraction', 'arguments': {'customer_phone': '0886'}}'}</td>\n",
              "      <td>{'role': 'assistant', 'content': 'Chào em, em vui lòng cung cấp đầy đủ số điện thoại để anh/chị hỗ trợ tư vấn các gói khám sức khỏe nhé.'}</td>\n",
              "      <td>{'role': 'user', 'content': 'năm 44 bảy67'}</td>\n",
              "      <td>{'role': 'assistant', 'content': '\"&lt;functioncall&gt; {'name': 'information_extraction', 'arguments': {'customer_phone': '0886544767'}}\"'}</td>\n",
              "    </tr>\n",
              "  </tbody>\n",
              "</table>\n",
              "</div>\n",
              "    <div class=\"colab-df-buttons\">\n",
              "\n",
              "  <div class=\"colab-df-container\">\n",
              "    <button class=\"colab-df-convert\" onclick=\"convertToInteractive('df-568db745-c4db-4e50-8fb9-253a5ad90d92')\"\n",
              "            title=\"Convert this dataframe to an interactive table.\"\n",
              "            style=\"display:none;\">\n",
              "\n",
              "  <svg xmlns=\"http://www.w3.org/2000/svg\" height=\"24px\" viewBox=\"0 -960 960 960\">\n",
              "    <path d=\"M120-120v-720h720v720H120Zm60-500h600v-160H180v160Zm220 220h160v-160H400v160Zm0 220h160v-160H400v160ZM180-400h160v-160H180v160Zm440 0h160v-160H620v160ZM180-180h160v-160H180v160Zm440 0h160v-160H620v160Z\"/>\n",
              "  </svg>\n",
              "    </button>\n",
              "\n",
              "  <style>\n",
              "    .colab-df-container {\n",
              "      display:flex;\n",
              "      gap: 12px;\n",
              "    }\n",
              "\n",
              "    .colab-df-convert {\n",
              "      background-color: #E8F0FE;\n",
              "      border: none;\n",
              "      border-radius: 50%;\n",
              "      cursor: pointer;\n",
              "      display: none;\n",
              "      fill: #1967D2;\n",
              "      height: 32px;\n",
              "      padding: 0 0 0 0;\n",
              "      width: 32px;\n",
              "    }\n",
              "\n",
              "    .colab-df-convert:hover {\n",
              "      background-color: #E2EBFA;\n",
              "      box-shadow: 0px 1px 2px rgba(60, 64, 67, 0.3), 0px 1px 3px 1px rgba(60, 64, 67, 0.15);\n",
              "      fill: #174EA6;\n",
              "    }\n",
              "\n",
              "    .colab-df-buttons div {\n",
              "      margin-bottom: 4px;\n",
              "    }\n",
              "\n",
              "    [theme=dark] .colab-df-convert {\n",
              "      background-color: #3B4455;\n",
              "      fill: #D2E3FC;\n",
              "    }\n",
              "\n",
              "    [theme=dark] .colab-df-convert:hover {\n",
              "      background-color: #434B5C;\n",
              "      box-shadow: 0px 1px 3px 1px rgba(0, 0, 0, 0.15);\n",
              "      filter: drop-shadow(0px 1px 2px rgba(0, 0, 0, 0.3));\n",
              "      fill: #FFFFFF;\n",
              "    }\n",
              "  </style>\n",
              "\n",
              "    <script>\n",
              "      const buttonEl =\n",
              "        document.querySelector('#df-568db745-c4db-4e50-8fb9-253a5ad90d92 button.colab-df-convert');\n",
              "      buttonEl.style.display =\n",
              "        google.colab.kernel.accessAllowed ? 'block' : 'none';\n",
              "\n",
              "      async function convertToInteractive(key) {\n",
              "        const element = document.querySelector('#df-568db745-c4db-4e50-8fb9-253a5ad90d92');\n",
              "        const dataTable =\n",
              "          await google.colab.kernel.invokeFunction('convertToInteractive',\n",
              "                                                    [key], {});\n",
              "        if (!dataTable) return;\n",
              "\n",
              "        const docLinkHtml = 'Like what you see? Visit the ' +\n",
              "          '<a target=\"_blank\" href=https://colab.research.google.com/notebooks/data_table.ipynb>data table notebook</a>'\n",
              "          + ' to learn more about interactive tables.';\n",
              "        element.innerHTML = '';\n",
              "        dataTable['output_type'] = 'display_data';\n",
              "        await google.colab.output.renderOutput(dataTable, element);\n",
              "        const docLink = document.createElement('div');\n",
              "        docLink.innerHTML = docLinkHtml;\n",
              "        element.appendChild(docLink);\n",
              "      }\n",
              "    </script>\n",
              "  </div>\n",
              "\n",
              "\n",
              "    </div>\n",
              "  </div>\n"
            ],
            "application/vnd.google.colaboratory.intrinsic+json": {
              "type": "dataframe",
              "variable_name": "tdf",
              "summary": "{\n  \"name\": \"tdf\",\n  \"rows\": 5454,\n  \"fields\": [\n    {\n      \"column\": 0,\n      \"properties\": {\n        \"dtype\": \"object\",\n        \"semantic_type\": \"\",\n        \"description\": \"\"\n      }\n    },\n    {\n      \"column\": 1,\n      \"properties\": {\n        \"dtype\": \"object\",\n        \"semantic_type\": \"\",\n        \"description\": \"\"\n      }\n    },\n    {\n      \"column\": 2,\n      \"properties\": {\n        \"dtype\": \"object\",\n        \"semantic_type\": \"\",\n        \"description\": \"\"\n      }\n    },\n    {\n      \"column\": 3,\n      \"properties\": {\n        \"dtype\": \"object\",\n        \"semantic_type\": \"\",\n        \"description\": \"\"\n      }\n    },\n    {\n      \"column\": 4,\n      \"properties\": {\n        \"dtype\": \"object\",\n        \"semantic_type\": \"\",\n        \"description\": \"\"\n      }\n    },\n    {\n      \"column\": 5,\n      \"properties\": {\n        \"dtype\": \"object\",\n        \"semantic_type\": \"\",\n        \"description\": \"\"\n      }\n    }\n  ]\n}"
            }
          },
          "metadata": {},
          "execution_count": 73
        }
      ]
    },
    {
      "cell_type": "code",
      "source": [
        "tdf.info()"
      ],
      "metadata": {
        "colab": {
          "base_uri": "https://localhost:8080/"
        },
        "id": "j6swFcpCN1WV",
        "outputId": "0fb49c76-fb68-4c70-81d9-f3072cb5ed32"
      },
      "execution_count": null,
      "outputs": [
        {
          "output_type": "stream",
          "name": "stdout",
          "text": [
            "<class 'pandas.core.frame.DataFrame'>\n",
            "RangeIndex: 5454 entries, 0 to 5453\n",
            "Data columns (total 6 columns):\n",
            " #   Column  Non-Null Count  Dtype \n",
            "---  ------  --------------  ----- \n",
            " 0   0       5454 non-null   object\n",
            " 1   1       5454 non-null   object\n",
            " 2   2       5454 non-null   object\n",
            " 3   3       5454 non-null   object\n",
            " 4   4       5454 non-null   object\n",
            " 5   5       5454 non-null   object\n",
            "dtypes: object(6)\n",
            "memory usage: 255.8+ KB\n"
          ]
        }
      ]
    },
    {
      "cell_type": "code",
      "source": [
        "a = tdf[:3156]\n",
        "b = tdf[3156:4158]\n",
        "c = tdf[4158:]"
      ],
      "metadata": {
        "id": "SCtgb5SJK0D-"
      },
      "execution_count": null,
      "outputs": []
    },
    {
      "cell_type": "code",
      "source": [
        "b = b.reset_index()"
      ],
      "metadata": {
        "id": "vnUw3I4kMvwd"
      },
      "execution_count": null,
      "outputs": []
    },
    {
      "cell_type": "code",
      "source": [
        "for i in range(len(b)-1):\n",
        "  print(b.iloc[i, 3])\n",
        "  t = str(b.iloc[i+1, 3])\n",
        "  print(t)\n",
        "  b.iloc[i, 3] = t\n",
        "  print(b.iloc[i, 3])"
      ],
      "metadata": {
        "id": "6PHwiICHLAAW"
      },
      "execution_count": null,
      "outputs": []
    },
    {
      "cell_type": "code",
      "source": [
        "b"
      ],
      "metadata": {
        "id": "m8Qr7Q9EM-D1"
      },
      "execution_count": null,
      "outputs": []
    },
    {
      "cell_type": "code",
      "source": [
        "# Dịch chuyển giá trị cột 3 từ index 3156 trở đi\n",
        "tdf.loc[tdf.index[3156:], 3] = tdf[3].shift(-1).loc[tdf.index[3156:]]"
      ],
      "metadata": {
        "colab": {
          "base_uri": "https://localhost:8080/",
          "height": 321
        },
        "id": "QJoLejEZHEdK",
        "outputId": "9f2ee234-5cd1-4d7e-bd16-af69bc3090ef"
      },
      "execution_count": null,
      "outputs": [
        {
          "output_type": "error",
          "ename": "ValueError",
          "evalue": "Incompatible indexer with Series",
          "traceback": [
            "\u001b[0;31m---------------------------------------------------------------------------\u001b[0m",
            "\u001b[0;31mValueError\u001b[0m                                Traceback (most recent call last)",
            "\u001b[0;32m<ipython-input-27-604caedc781c>\u001b[0m in \u001b[0;36m<cell line: 0>\u001b[0;34m()\u001b[0m\n\u001b[1;32m      2\u001b[0m \u001b[0mtdf\u001b[0m\u001b[0;34m.\u001b[0m\u001b[0mloc\u001b[0m\u001b[0;34m[\u001b[0m\u001b[0mtdf\u001b[0m\u001b[0;34m.\u001b[0m\u001b[0mindex\u001b[0m\u001b[0;34m[\u001b[0m\u001b[0;36m3156\u001b[0m\u001b[0;34m:\u001b[0m\u001b[0;34m]\u001b[0m\u001b[0;34m,\u001b[0m \u001b[0;36m3\u001b[0m\u001b[0;34m]\u001b[0m \u001b[0;34m=\u001b[0m \u001b[0mtdf\u001b[0m\u001b[0;34m[\u001b[0m\u001b[0;36m3\u001b[0m\u001b[0;34m]\u001b[0m\u001b[0;34m.\u001b[0m\u001b[0mshift\u001b[0m\u001b[0;34m(\u001b[0m\u001b[0;34m-\u001b[0m\u001b[0;36m1\u001b[0m\u001b[0;34m)\u001b[0m\u001b[0;34m.\u001b[0m\u001b[0mloc\u001b[0m\u001b[0;34m[\u001b[0m\u001b[0mtdf\u001b[0m\u001b[0;34m.\u001b[0m\u001b[0mindex\u001b[0m\u001b[0;34m[\u001b[0m\u001b[0;36m3156\u001b[0m\u001b[0;34m:\u001b[0m\u001b[0;34m]\u001b[0m\u001b[0;34m]\u001b[0m\u001b[0;34m\u001b[0m\u001b[0;34m\u001b[0m\u001b[0m\n\u001b[1;32m      3\u001b[0m \u001b[0;31m# Giữ giá trị cột 3 tại index 5453 như giá trị tại index 5452\u001b[0m\u001b[0;34m\u001b[0m\u001b[0;34m\u001b[0m\u001b[0m\n\u001b[0;32m----> 4\u001b[0;31m \u001b[0mtdf\u001b[0m\u001b[0;34m.\u001b[0m\u001b[0mloc\u001b[0m\u001b[0;34m[\u001b[0m\u001b[0mtdf\u001b[0m\u001b[0;34m.\u001b[0m\u001b[0mindex\u001b[0m\u001b[0;34m[\u001b[0m\u001b[0;34m-\u001b[0m\u001b[0;36m1\u001b[0m\u001b[0;34m]\u001b[0m\u001b[0;34m,\u001b[0m \u001b[0;36m3\u001b[0m\u001b[0;34m]\u001b[0m \u001b[0;34m=\u001b[0m \u001b[0mtdf\u001b[0m\u001b[0;34m.\u001b[0m\u001b[0mloc\u001b[0m\u001b[0;34m[\u001b[0m\u001b[0mtdf\u001b[0m\u001b[0;34m.\u001b[0m\u001b[0mindex\u001b[0m\u001b[0;34m[\u001b[0m\u001b[0;34m-\u001b[0m\u001b[0;36m2\u001b[0m\u001b[0;34m]\u001b[0m\u001b[0;34m,\u001b[0m \u001b[0;36m3\u001b[0m\u001b[0;34m]\u001b[0m\u001b[0;34m\u001b[0m\u001b[0;34m\u001b[0m\u001b[0m\n\u001b[0m",
            "\u001b[0;32m/usr/local/lib/python3.11/dist-packages/pandas/core/indexing.py\u001b[0m in \u001b[0;36m__setitem__\u001b[0;34m(self, key, value)\u001b[0m\n\u001b[1;32m    909\u001b[0m \u001b[0;34m\u001b[0m\u001b[0m\n\u001b[1;32m    910\u001b[0m         \u001b[0miloc\u001b[0m \u001b[0;34m=\u001b[0m \u001b[0mself\u001b[0m \u001b[0;32mif\u001b[0m \u001b[0mself\u001b[0m\u001b[0;34m.\u001b[0m\u001b[0mname\u001b[0m \u001b[0;34m==\u001b[0m \u001b[0;34m\"iloc\"\u001b[0m \u001b[0;32melse\u001b[0m \u001b[0mself\u001b[0m\u001b[0;34m.\u001b[0m\u001b[0mobj\u001b[0m\u001b[0;34m.\u001b[0m\u001b[0miloc\u001b[0m\u001b[0;34m\u001b[0m\u001b[0;34m\u001b[0m\u001b[0m\n\u001b[0;32m--> 911\u001b[0;31m         \u001b[0miloc\u001b[0m\u001b[0;34m.\u001b[0m\u001b[0m_setitem_with_indexer\u001b[0m\u001b[0;34m(\u001b[0m\u001b[0mindexer\u001b[0m\u001b[0;34m,\u001b[0m \u001b[0mvalue\u001b[0m\u001b[0;34m,\u001b[0m \u001b[0mself\u001b[0m\u001b[0;34m.\u001b[0m\u001b[0mname\u001b[0m\u001b[0;34m)\u001b[0m\u001b[0;34m\u001b[0m\u001b[0;34m\u001b[0m\u001b[0m\n\u001b[0m\u001b[1;32m    912\u001b[0m \u001b[0;34m\u001b[0m\u001b[0m\n\u001b[1;32m    913\u001b[0m     \u001b[0;32mdef\u001b[0m \u001b[0m_validate_key\u001b[0m\u001b[0;34m(\u001b[0m\u001b[0mself\u001b[0m\u001b[0;34m,\u001b[0m \u001b[0mkey\u001b[0m\u001b[0;34m,\u001b[0m \u001b[0maxis\u001b[0m\u001b[0;34m:\u001b[0m \u001b[0mAxisInt\u001b[0m\u001b[0;34m)\u001b[0m\u001b[0;34m:\u001b[0m\u001b[0;34m\u001b[0m\u001b[0;34m\u001b[0m\u001b[0m\n",
            "\u001b[0;32m/usr/local/lib/python3.11/dist-packages/pandas/core/indexing.py\u001b[0m in \u001b[0;36m_setitem_with_indexer\u001b[0;34m(self, indexer, value, name)\u001b[0m\n\u001b[1;32m   1942\u001b[0m             \u001b[0mself\u001b[0m\u001b[0;34m.\u001b[0m\u001b[0m_setitem_with_indexer_split_path\u001b[0m\u001b[0;34m(\u001b[0m\u001b[0mindexer\u001b[0m\u001b[0;34m,\u001b[0m \u001b[0mvalue\u001b[0m\u001b[0;34m,\u001b[0m \u001b[0mname\u001b[0m\u001b[0;34m)\u001b[0m\u001b[0;34m\u001b[0m\u001b[0;34m\u001b[0m\u001b[0m\n\u001b[1;32m   1943\u001b[0m         \u001b[0;32melse\u001b[0m\u001b[0;34m:\u001b[0m\u001b[0;34m\u001b[0m\u001b[0;34m\u001b[0m\u001b[0m\n\u001b[0;32m-> 1944\u001b[0;31m             \u001b[0mself\u001b[0m\u001b[0;34m.\u001b[0m\u001b[0m_setitem_single_block\u001b[0m\u001b[0;34m(\u001b[0m\u001b[0mindexer\u001b[0m\u001b[0;34m,\u001b[0m \u001b[0mvalue\u001b[0m\u001b[0;34m,\u001b[0m \u001b[0mname\u001b[0m\u001b[0;34m)\u001b[0m\u001b[0;34m\u001b[0m\u001b[0;34m\u001b[0m\u001b[0m\n\u001b[0m\u001b[1;32m   1945\u001b[0m \u001b[0;34m\u001b[0m\u001b[0m\n\u001b[1;32m   1946\u001b[0m     \u001b[0;32mdef\u001b[0m \u001b[0m_setitem_with_indexer_split_path\u001b[0m\u001b[0;34m(\u001b[0m\u001b[0mself\u001b[0m\u001b[0;34m,\u001b[0m \u001b[0mindexer\u001b[0m\u001b[0;34m,\u001b[0m \u001b[0mvalue\u001b[0m\u001b[0;34m,\u001b[0m \u001b[0mname\u001b[0m\u001b[0;34m:\u001b[0m \u001b[0mstr\u001b[0m\u001b[0;34m)\u001b[0m\u001b[0;34m:\u001b[0m\u001b[0;34m\u001b[0m\u001b[0;34m\u001b[0m\u001b[0m\n",
            "\u001b[0;32m/usr/local/lib/python3.11/dist-packages/pandas/core/indexing.py\u001b[0m in \u001b[0;36m_setitem_single_block\u001b[0;34m(self, indexer, value, name)\u001b[0m\n\u001b[1;32m   2187\u001b[0m             \u001b[0;31m# setting for extensionarrays that store dicts. Need to decide\u001b[0m\u001b[0;34m\u001b[0m\u001b[0;34m\u001b[0m\u001b[0m\n\u001b[1;32m   2188\u001b[0m             \u001b[0;31m# if it's worth supporting that.\u001b[0m\u001b[0;34m\u001b[0m\u001b[0;34m\u001b[0m\u001b[0m\n\u001b[0;32m-> 2189\u001b[0;31m             \u001b[0mvalue\u001b[0m \u001b[0;34m=\u001b[0m \u001b[0mself\u001b[0m\u001b[0;34m.\u001b[0m\u001b[0m_align_series\u001b[0m\u001b[0;34m(\u001b[0m\u001b[0mindexer\u001b[0m\u001b[0;34m,\u001b[0m \u001b[0mSeries\u001b[0m\u001b[0;34m(\u001b[0m\u001b[0mvalue\u001b[0m\u001b[0;34m)\u001b[0m\u001b[0;34m)\u001b[0m\u001b[0;34m\u001b[0m\u001b[0;34m\u001b[0m\u001b[0m\n\u001b[0m\u001b[1;32m   2190\u001b[0m \u001b[0;34m\u001b[0m\u001b[0m\n\u001b[1;32m   2191\u001b[0m         \u001b[0minfo_axis\u001b[0m \u001b[0;34m=\u001b[0m \u001b[0mself\u001b[0m\u001b[0;34m.\u001b[0m\u001b[0mobj\u001b[0m\u001b[0;34m.\u001b[0m\u001b[0m_info_axis_number\u001b[0m\u001b[0;34m\u001b[0m\u001b[0;34m\u001b[0m\u001b[0m\n",
            "\u001b[0;32m/usr/local/lib/python3.11/dist-packages/pandas/core/indexing.py\u001b[0m in \u001b[0;36m_align_series\u001b[0;34m(self, indexer, ser, multiindex_indexer, using_cow)\u001b[0m\n\u001b[1;32m   2453\u001b[0m             \u001b[0;32mreturn\u001b[0m \u001b[0mser\u001b[0m\u001b[0;34m.\u001b[0m\u001b[0mreindex\u001b[0m\u001b[0;34m(\u001b[0m\u001b[0max\u001b[0m\u001b[0;34m)\u001b[0m\u001b[0;34m.\u001b[0m\u001b[0m_values\u001b[0m\u001b[0;34m\u001b[0m\u001b[0;34m\u001b[0m\u001b[0m\n\u001b[1;32m   2454\u001b[0m \u001b[0;34m\u001b[0m\u001b[0m\n\u001b[0;32m-> 2455\u001b[0;31m         \u001b[0;32mraise\u001b[0m \u001b[0mValueError\u001b[0m\u001b[0;34m(\u001b[0m\u001b[0;34m\"Incompatible indexer with Series\"\u001b[0m\u001b[0;34m)\u001b[0m\u001b[0;34m\u001b[0m\u001b[0;34m\u001b[0m\u001b[0m\n\u001b[0m\u001b[1;32m   2456\u001b[0m \u001b[0;34m\u001b[0m\u001b[0m\n\u001b[1;32m   2457\u001b[0m     \u001b[0;32mdef\u001b[0m \u001b[0m_align_frame\u001b[0m\u001b[0;34m(\u001b[0m\u001b[0mself\u001b[0m\u001b[0;34m,\u001b[0m \u001b[0mindexer\u001b[0m\u001b[0;34m,\u001b[0m \u001b[0mdf\u001b[0m\u001b[0;34m:\u001b[0m \u001b[0mDataFrame\u001b[0m\u001b[0;34m)\u001b[0m \u001b[0;34m->\u001b[0m \u001b[0mDataFrame\u001b[0m\u001b[0;34m:\u001b[0m\u001b[0;34m\u001b[0m\u001b[0;34m\u001b[0m\u001b[0m\n",
            "\u001b[0;31mValueError\u001b[0m: Incompatible indexer with Series"
          ]
        }
      ]
    },
    {
      "cell_type": "code",
      "source": [
        "a"
      ],
      "metadata": {
        "id": "cLSCOeNuGnfG"
      },
      "execution_count": null,
      "outputs": []
    },
    {
      "cell_type": "markdown",
      "source": [
        "### tách chữ ra cho có khoảng trắng"
      ],
      "metadata": {
        "id": "DdG3oWI6GpgJ"
      }
    },
    {
      "cell_type": "code",
      "source": [
        "import pandas as pd\n",
        "\n",
        "df = pd.read_json('turn2.json')\n",
        "df.head(1)"
      ],
      "metadata": {
        "colab": {
          "base_uri": "https://localhost:8080/",
          "height": 376
        },
        "id": "vp644Q6UhbBM",
        "outputId": "46b7cc9e-c25f-437f-d9a3-7990a3177b18"
      },
      "execution_count": null,
      "outputs": [
        {
          "output_type": "execute_result",
          "data": {
            "text/plain": [
              "                                                                                                                                                                                                                                                                                                                                                                                                                                                                                                                                                                                                                                                                                                                                                                                                                                                                                                                                                                                                                                                                                                                                                                                                                                                                                                                                                                                                                                                                                                                                                                                                                                                                                                                                                                                                                                                                                                                                                                                                                                                                                                                                                                   0  \\\n",
              "0  {'role': 'system', 'content': 'Extracts the relevant information from the passage.\n",
              "{\"name\": \"information_extraction\", \"description\": \"Extracts the relevant information from the passage\",\n",
              "\"arguments\": [{\"name\": \"customer_name\", \"desc\": \"Customer's name\", \"type\": \"string\"},\n",
              "{\"name\": \"customer_phone\", \"desc\": \"Customer's phone number\", \"type\": \"string\"},\n",
              "{\"name\": \"medical_department\", \"desc\": \"Medical department or service information.\", \"type\": \"string\"},\n",
              "{\"name\": \"is_yes\", \"desc\": \"Can take two values:\\n- true (if the user confirms, agrees, says something affirmative, or expresses consent in any similar way.)\\n- false (if the user expresses the opposite, does not approve, disagrees, or shows any similar response.)\", \"type\": \"string\"},\n",
              "{\"name\": \"hospital_name\", \"desc\": \"Identify the name of the hospital, place or facility of Vinmec\", \"type\": \"string\"},\n",
              "{\"name\": \"customer_dob\", \"desc\": \"Extract the user's date of birth. Format DD-MM-YYYY. This value must be a date in the past.\", \"type\": \"string\"},\n",
              "{\"name\": \"customer_place\", \"desc\": \"Province/City provided by the customer\", \"type\": \"string\"},\n",
              "{\"name\": \"symptoms\", \"desc\": \"Identify and extract users' symptom information based on their messages\", \"type\": \"string\"},\n",
              "{\"name\": \"relationship\", \"desc\": \"Relationship to the person booking the appointment\", \"type\": \"string\"},\n",
              "{\"name\": \"appointment_date\", \"desc\": \"Medical appointment schedulling date based on the user's messages. remember extract by following format: DD-MM-YYYY. This value must be a date in the future. \\nExample: 1999-04-24 -> 24-04-1999\", \"type\": \"string\"},\n",
              "{\"name\": \"appointment_time\", \"desc\": \"Medical appointment schedulling time based on the user's messages. The time frame will follow a 24-hour format and the time zone is GMT+7 follow this format: HH:mm\", \"type\": \"string\"}, {\"name\": \"cancel_num\", \"desc\": \"Identify number from the user's message. The user may express them as words (one, two,...) or digits (1, 2,...) in Vietnamese. If the user provides words, convert them to digits. Accepted values range from 1 to 10.\", \"type\": \"string\"}]}'}   \n",
              "\n",
              "                                                                                         1  \\\n",
              "0  {'role': 'user', 'content': 'Em muốn tìm hiểu các gói khám sức khỏe sdt em là 088 sáu'}   \n",
              "\n",
              "                                                                                                                                2  \\\n",
              "0  {'role': 'assistant', 'content': '<functioncall> {'name': 'information_extraction', 'arguments': {'customer_phone': '0886'}}'}   \n",
              "\n",
              "                                                                                                                                            3  \\\n",
              "0  {'role': 'assistant', 'content': 'Chào em, em vui lòng cung cấp đầy đủ số điện thoại để anh/chị hỗ trợ tư vấn các gói khám sức khỏe nhé.'}   \n",
              "\n",
              "                                             4  \\\n",
              "0  {'role': 'user', 'content': 'năm 44 bảy67'}   \n",
              "\n",
              "                                                                                                                                        5  \n",
              "0  {'role': 'assistant', 'content': '\"<functioncall> {'name': 'information_extraction', 'arguments': {'customer_phone': '0886544767'}}\"'}  "
            ],
            "text/html": [
              "\n",
              "  <div id=\"df-78e6f0a1-f1cf-452a-9c72-8a40bc565894\" class=\"colab-df-container\">\n",
              "    <div>\n",
              "<style scoped>\n",
              "    .dataframe tbody tr th:only-of-type {\n",
              "        vertical-align: middle;\n",
              "    }\n",
              "\n",
              "    .dataframe tbody tr th {\n",
              "        vertical-align: top;\n",
              "    }\n",
              "\n",
              "    .dataframe thead th {\n",
              "        text-align: right;\n",
              "    }\n",
              "</style>\n",
              "<table border=\"1\" class=\"dataframe\">\n",
              "  <thead>\n",
              "    <tr style=\"text-align: right;\">\n",
              "      <th></th>\n",
              "      <th>0</th>\n",
              "      <th>1</th>\n",
              "      <th>2</th>\n",
              "      <th>3</th>\n",
              "      <th>4</th>\n",
              "      <th>5</th>\n",
              "    </tr>\n",
              "  </thead>\n",
              "  <tbody>\n",
              "    <tr>\n",
              "      <th>0</th>\n",
              "      <td>{'role': 'system', 'content': 'Extracts the relevant information from the passage.\n",
              "{\"name\": \"information_extraction\", \"description\": \"Extracts the relevant information from the passage\",\n",
              "\"arguments\": [{\"name\": \"customer_name\", \"desc\": \"Customer's name\", \"type\": \"string\"},\n",
              "{\"name\": \"customer_phone\", \"desc\": \"Customer's phone number\", \"type\": \"string\"},\n",
              "{\"name\": \"medical_department\", \"desc\": \"Medical department or service information.\", \"type\": \"string\"},\n",
              "{\"name\": \"is_yes\", \"desc\": \"Can take two values:\\n- true (if the user confirms, agrees, says something affirmative, or expresses consent in any similar way.)\\n- false (if the user expresses the opposite, does not approve, disagrees, or shows any similar response.)\", \"type\": \"string\"},\n",
              "{\"name\": \"hospital_name\", \"desc\": \"Identify the name of the hospital, place or facility of Vinmec\", \"type\": \"string\"},\n",
              "{\"name\": \"customer_dob\", \"desc\": \"Extract the user's date of birth. Format DD-MM-YYYY. This value must be a date in the past.\", \"type\": \"string\"},\n",
              "{\"name\": \"customer_place\", \"desc\": \"Province/City provided by the customer\", \"type\": \"string\"},\n",
              "{\"name\": \"symptoms\", \"desc\": \"Identify and extract users' symptom information based on their messages\", \"type\": \"string\"},\n",
              "{\"name\": \"relationship\", \"desc\": \"Relationship to the person booking the appointment\", \"type\": \"string\"},\n",
              "{\"name\": \"appointment_date\", \"desc\": \"Medical appointment schedulling date based on the user's messages. remember extract by following format: DD-MM-YYYY. This value must be a date in the future. \\nExample: 1999-04-24 -&gt; 24-04-1999\", \"type\": \"string\"},\n",
              "{\"name\": \"appointment_time\", \"desc\": \"Medical appointment schedulling time based on the user's messages. The time frame will follow a 24-hour format and the time zone is GMT+7 follow this format: HH:mm\", \"type\": \"string\"}, {\"name\": \"cancel_num\", \"desc\": \"Identify number from the user's message. The user may express them as words (one, two,...) or digits (1, 2,...) in Vietnamese. If the user provides words, convert them to digits. Accepted values range from 1 to 10.\", \"type\": \"string\"}]}'}</td>\n",
              "      <td>{'role': 'user', 'content': 'Em muốn tìm hiểu các gói khám sức khỏe sdt em là 088 sáu'}</td>\n",
              "      <td>{'role': 'assistant', 'content': '&lt;functioncall&gt; {'name': 'information_extraction', 'arguments': {'customer_phone': '0886'}}'}</td>\n",
              "      <td>{'role': 'assistant', 'content': 'Chào em, em vui lòng cung cấp đầy đủ số điện thoại để anh/chị hỗ trợ tư vấn các gói khám sức khỏe nhé.'}</td>\n",
              "      <td>{'role': 'user', 'content': 'năm 44 bảy67'}</td>\n",
              "      <td>{'role': 'assistant', 'content': '\"&lt;functioncall&gt; {'name': 'information_extraction', 'arguments': {'customer_phone': '0886544767'}}\"'}</td>\n",
              "    </tr>\n",
              "  </tbody>\n",
              "</table>\n",
              "</div>\n",
              "    <div class=\"colab-df-buttons\">\n",
              "\n",
              "  <div class=\"colab-df-container\">\n",
              "    <button class=\"colab-df-convert\" onclick=\"convertToInteractive('df-78e6f0a1-f1cf-452a-9c72-8a40bc565894')\"\n",
              "            title=\"Convert this dataframe to an interactive table.\"\n",
              "            style=\"display:none;\">\n",
              "\n",
              "  <svg xmlns=\"http://www.w3.org/2000/svg\" height=\"24px\" viewBox=\"0 -960 960 960\">\n",
              "    <path d=\"M120-120v-720h720v720H120Zm60-500h600v-160H180v160Zm220 220h160v-160H400v160Zm0 220h160v-160H400v160ZM180-400h160v-160H180v160Zm440 0h160v-160H620v160ZM180-180h160v-160H180v160Zm440 0h160v-160H620v160Z\"/>\n",
              "  </svg>\n",
              "    </button>\n",
              "\n",
              "  <style>\n",
              "    .colab-df-container {\n",
              "      display:flex;\n",
              "      gap: 12px;\n",
              "    }\n",
              "\n",
              "    .colab-df-convert {\n",
              "      background-color: #E8F0FE;\n",
              "      border: none;\n",
              "      border-radius: 50%;\n",
              "      cursor: pointer;\n",
              "      display: none;\n",
              "      fill: #1967D2;\n",
              "      height: 32px;\n",
              "      padding: 0 0 0 0;\n",
              "      width: 32px;\n",
              "    }\n",
              "\n",
              "    .colab-df-convert:hover {\n",
              "      background-color: #E2EBFA;\n",
              "      box-shadow: 0px 1px 2px rgba(60, 64, 67, 0.3), 0px 1px 3px 1px rgba(60, 64, 67, 0.15);\n",
              "      fill: #174EA6;\n",
              "    }\n",
              "\n",
              "    .colab-df-buttons div {\n",
              "      margin-bottom: 4px;\n",
              "    }\n",
              "\n",
              "    [theme=dark] .colab-df-convert {\n",
              "      background-color: #3B4455;\n",
              "      fill: #D2E3FC;\n",
              "    }\n",
              "\n",
              "    [theme=dark] .colab-df-convert:hover {\n",
              "      background-color: #434B5C;\n",
              "      box-shadow: 0px 1px 3px 1px rgba(0, 0, 0, 0.15);\n",
              "      filter: drop-shadow(0px 1px 2px rgba(0, 0, 0, 0.3));\n",
              "      fill: #FFFFFF;\n",
              "    }\n",
              "  </style>\n",
              "\n",
              "    <script>\n",
              "      const buttonEl =\n",
              "        document.querySelector('#df-78e6f0a1-f1cf-452a-9c72-8a40bc565894 button.colab-df-convert');\n",
              "      buttonEl.style.display =\n",
              "        google.colab.kernel.accessAllowed ? 'block' : 'none';\n",
              "\n",
              "      async function convertToInteractive(key) {\n",
              "        const element = document.querySelector('#df-78e6f0a1-f1cf-452a-9c72-8a40bc565894');\n",
              "        const dataTable =\n",
              "          await google.colab.kernel.invokeFunction('convertToInteractive',\n",
              "                                                    [key], {});\n",
              "        if (!dataTable) return;\n",
              "\n",
              "        const docLinkHtml = 'Like what you see? Visit the ' +\n",
              "          '<a target=\"_blank\" href=https://colab.research.google.com/notebooks/data_table.ipynb>data table notebook</a>'\n",
              "          + ' to learn more about interactive tables.';\n",
              "        element.innerHTML = '';\n",
              "        dataTable['output_type'] = 'display_data';\n",
              "        await google.colab.output.renderOutput(dataTable, element);\n",
              "        const docLink = document.createElement('div');\n",
              "        docLink.innerHTML = docLinkHtml;\n",
              "        element.appendChild(docLink);\n",
              "      }\n",
              "    </script>\n",
              "  </div>\n",
              "\n",
              "\n",
              "    </div>\n",
              "  </div>\n"
            ],
            "application/vnd.google.colaboratory.intrinsic+json": {
              "type": "dataframe",
              "variable_name": "df",
              "summary": "{\n  \"name\": \"df\",\n  \"rows\": 5454,\n  \"fields\": [\n    {\n      \"column\": 0,\n      \"properties\": {\n        \"dtype\": \"object\",\n        \"semantic_type\": \"\",\n        \"description\": \"\"\n      }\n    },\n    {\n      \"column\": 1,\n      \"properties\": {\n        \"dtype\": \"object\",\n        \"semantic_type\": \"\",\n        \"description\": \"\"\n      }\n    },\n    {\n      \"column\": 2,\n      \"properties\": {\n        \"dtype\": \"object\",\n        \"semantic_type\": \"\",\n        \"description\": \"\"\n      }\n    },\n    {\n      \"column\": 3,\n      \"properties\": {\n        \"dtype\": \"object\",\n        \"semantic_type\": \"\",\n        \"description\": \"\"\n      }\n    },\n    {\n      \"column\": 4,\n      \"properties\": {\n        \"dtype\": \"object\",\n        \"semantic_type\": \"\",\n        \"description\": \"\"\n      }\n    },\n    {\n      \"column\": 5,\n      \"properties\": {\n        \"dtype\": \"object\",\n        \"semantic_type\": \"\",\n        \"description\": \"\"\n      }\n    }\n  ]\n}"
            }
          },
          "metadata": {},
          "execution_count": 21
        }
      ]
    },
    {
      "cell_type": "code",
      "source": [
        "df.to_json('test.json')"
      ],
      "metadata": {
        "id": "Xu3wj5eFk2ae"
      },
      "execution_count": null,
      "outputs": []
    },
    {
      "cell_type": "code",
      "source": [
        "# prompt: đổi tên cột 1, 4 thành cột user1, user2\n",
        "\n",
        "# Đổi tên cột 1 và cột 4\n",
        "df.rename(columns={df.columns[0]: 'user1', df.columns[3]: 'user2'}, inplace=True)\n",
        "df.head(1)"
      ],
      "metadata": {
        "id": "D5Ss2QcxkvXt"
      },
      "execution_count": null,
      "outputs": []
    },
    {
      "cell_type": "code",
      "source": [
        "# prompt: bỏ cột 0, 2, 3 của df\n",
        "\n",
        "df = df.drop(df.columns[[0, 2, 3, 5]], axis=1)\n"
      ],
      "metadata": {
        "id": "yGQZYjdthrZo"
      },
      "execution_count": null,
      "outputs": []
    },
    {
      "cell_type": "code",
      "source": [
        "df.head()"
      ],
      "metadata": {
        "colab": {
          "base_uri": "https://localhost:8080/",
          "height": 206
        },
        "id": "zVMlKAyRkZ-x",
        "outputId": "985270bb-3803-4314-e7b7-8212ef98ff78"
      },
      "execution_count": null,
      "outputs": [
        {
          "output_type": "execute_result",
          "data": {
            "text/plain": [
              "                                                                                                      1  \\\n",
              "0               {'role': 'user', 'content': 'Em muốn tìm hiểu các gói khám sức khỏe sdt em là 088 sáu'}   \n",
              "1      {'role': 'user', 'content': 'Gói sản phẩm bên mình có gì hot không ạ số mình 0390 không haibốn'}   \n",
              "2      {'role': 'user', 'content': 'Cho mình xin thông tin khuyến mãi đi số điện thoại mình là 037 50'}   \n",
              "3  {'role': 'user', 'content': 'Bên mình có gói khám tổng quát nào không số điện thoại của tôi là 081'}   \n",
              "4   {'role': 'user', 'content': 'Các gói dịch vụ hiện tại giá thế nào ạ số của mình là 094 chín bốn 8'}   \n",
              "\n",
              "                                                       4  \n",
              "0            {'role': 'user', 'content': 'năm 44 bảy67'}  \n",
              "1             {'role': 'user', 'content': 'năm năm một'}  \n",
              "2         {'role': 'user', 'content': '7 5sáu chín hai'}  \n",
              "3  {'role': 'user', 'content': 'chín 0bốn năm0babảybốn'}  \n",
              "4         {'role': 'user', 'content': 'một nămsáu chín'}  "
            ],
            "text/html": [
              "\n",
              "  <div id=\"df-e194e071-7f2e-4ed1-b20b-47b876de8e8a\" class=\"colab-df-container\">\n",
              "    <div>\n",
              "<style scoped>\n",
              "    .dataframe tbody tr th:only-of-type {\n",
              "        vertical-align: middle;\n",
              "    }\n",
              "\n",
              "    .dataframe tbody tr th {\n",
              "        vertical-align: top;\n",
              "    }\n",
              "\n",
              "    .dataframe thead th {\n",
              "        text-align: right;\n",
              "    }\n",
              "</style>\n",
              "<table border=\"1\" class=\"dataframe\">\n",
              "  <thead>\n",
              "    <tr style=\"text-align: right;\">\n",
              "      <th></th>\n",
              "      <th>1</th>\n",
              "      <th>4</th>\n",
              "    </tr>\n",
              "  </thead>\n",
              "  <tbody>\n",
              "    <tr>\n",
              "      <th>0</th>\n",
              "      <td>{'role': 'user', 'content': 'Em muốn tìm hiểu các gói khám sức khỏe sdt em là 088 sáu'}</td>\n",
              "      <td>{'role': 'user', 'content': 'năm 44 bảy67'}</td>\n",
              "    </tr>\n",
              "    <tr>\n",
              "      <th>1</th>\n",
              "      <td>{'role': 'user', 'content': 'Gói sản phẩm bên mình có gì hot không ạ số mình 0390 không haibốn'}</td>\n",
              "      <td>{'role': 'user', 'content': 'năm năm một'}</td>\n",
              "    </tr>\n",
              "    <tr>\n",
              "      <th>2</th>\n",
              "      <td>{'role': 'user', 'content': 'Cho mình xin thông tin khuyến mãi đi số điện thoại mình là 037 50'}</td>\n",
              "      <td>{'role': 'user', 'content': '7 5sáu chín hai'}</td>\n",
              "    </tr>\n",
              "    <tr>\n",
              "      <th>3</th>\n",
              "      <td>{'role': 'user', 'content': 'Bên mình có gói khám tổng quát nào không số điện thoại của tôi là 081'}</td>\n",
              "      <td>{'role': 'user', 'content': 'chín 0bốn năm0babảybốn'}</td>\n",
              "    </tr>\n",
              "    <tr>\n",
              "      <th>4</th>\n",
              "      <td>{'role': 'user', 'content': 'Các gói dịch vụ hiện tại giá thế nào ạ số của mình là 094 chín bốn 8'}</td>\n",
              "      <td>{'role': 'user', 'content': 'một nămsáu chín'}</td>\n",
              "    </tr>\n",
              "  </tbody>\n",
              "</table>\n",
              "</div>\n",
              "    <div class=\"colab-df-buttons\">\n",
              "\n",
              "  <div class=\"colab-df-container\">\n",
              "    <button class=\"colab-df-convert\" onclick=\"convertToInteractive('df-e194e071-7f2e-4ed1-b20b-47b876de8e8a')\"\n",
              "            title=\"Convert this dataframe to an interactive table.\"\n",
              "            style=\"display:none;\">\n",
              "\n",
              "  <svg xmlns=\"http://www.w3.org/2000/svg\" height=\"24px\" viewBox=\"0 -960 960 960\">\n",
              "    <path d=\"M120-120v-720h720v720H120Zm60-500h600v-160H180v160Zm220 220h160v-160H400v160Zm0 220h160v-160H400v160ZM180-400h160v-160H180v160Zm440 0h160v-160H620v160ZM180-180h160v-160H180v160Zm440 0h160v-160H620v160Z\"/>\n",
              "  </svg>\n",
              "    </button>\n",
              "\n",
              "  <style>\n",
              "    .colab-df-container {\n",
              "      display:flex;\n",
              "      gap: 12px;\n",
              "    }\n",
              "\n",
              "    .colab-df-convert {\n",
              "      background-color: #E8F0FE;\n",
              "      border: none;\n",
              "      border-radius: 50%;\n",
              "      cursor: pointer;\n",
              "      display: none;\n",
              "      fill: #1967D2;\n",
              "      height: 32px;\n",
              "      padding: 0 0 0 0;\n",
              "      width: 32px;\n",
              "    }\n",
              "\n",
              "    .colab-df-convert:hover {\n",
              "      background-color: #E2EBFA;\n",
              "      box-shadow: 0px 1px 2px rgba(60, 64, 67, 0.3), 0px 1px 3px 1px rgba(60, 64, 67, 0.15);\n",
              "      fill: #174EA6;\n",
              "    }\n",
              "\n",
              "    .colab-df-buttons div {\n",
              "      margin-bottom: 4px;\n",
              "    }\n",
              "\n",
              "    [theme=dark] .colab-df-convert {\n",
              "      background-color: #3B4455;\n",
              "      fill: #D2E3FC;\n",
              "    }\n",
              "\n",
              "    [theme=dark] .colab-df-convert:hover {\n",
              "      background-color: #434B5C;\n",
              "      box-shadow: 0px 1px 3px 1px rgba(0, 0, 0, 0.15);\n",
              "      filter: drop-shadow(0px 1px 2px rgba(0, 0, 0, 0.3));\n",
              "      fill: #FFFFFF;\n",
              "    }\n",
              "  </style>\n",
              "\n",
              "    <script>\n",
              "      const buttonEl =\n",
              "        document.querySelector('#df-e194e071-7f2e-4ed1-b20b-47b876de8e8a button.colab-df-convert');\n",
              "      buttonEl.style.display =\n",
              "        google.colab.kernel.accessAllowed ? 'block' : 'none';\n",
              "\n",
              "      async function convertToInteractive(key) {\n",
              "        const element = document.querySelector('#df-e194e071-7f2e-4ed1-b20b-47b876de8e8a');\n",
              "        const dataTable =\n",
              "          await google.colab.kernel.invokeFunction('convertToInteractive',\n",
              "                                                    [key], {});\n",
              "        if (!dataTable) return;\n",
              "\n",
              "        const docLinkHtml = 'Like what you see? Visit the ' +\n",
              "          '<a target=\"_blank\" href=https://colab.research.google.com/notebooks/data_table.ipynb>data table notebook</a>'\n",
              "          + ' to learn more about interactive tables.';\n",
              "        element.innerHTML = '';\n",
              "        dataTable['output_type'] = 'display_data';\n",
              "        await google.colab.output.renderOutput(dataTable, element);\n",
              "        const docLink = document.createElement('div');\n",
              "        docLink.innerHTML = docLinkHtml;\n",
              "        element.appendChild(docLink);\n",
              "      }\n",
              "    </script>\n",
              "  </div>\n",
              "\n",
              "\n",
              "    <div id=\"df-e1645ef0-b73a-4120-87e8-84c3f2c7dd16\">\n",
              "      <button class=\"colab-df-quickchart\" onclick=\"quickchart('df-e1645ef0-b73a-4120-87e8-84c3f2c7dd16')\"\n",
              "                title=\"Suggest charts\"\n",
              "                style=\"display:none;\">\n",
              "\n",
              "<svg xmlns=\"http://www.w3.org/2000/svg\" height=\"24px\"viewBox=\"0 0 24 24\"\n",
              "     width=\"24px\">\n",
              "    <g>\n",
              "        <path d=\"M19 3H5c-1.1 0-2 .9-2 2v14c0 1.1.9 2 2 2h14c1.1 0 2-.9 2-2V5c0-1.1-.9-2-2-2zM9 17H7v-7h2v7zm4 0h-2V7h2v10zm4 0h-2v-4h2v4z\"/>\n",
              "    </g>\n",
              "</svg>\n",
              "      </button>\n",
              "\n",
              "<style>\n",
              "  .colab-df-quickchart {\n",
              "      --bg-color: #E8F0FE;\n",
              "      --fill-color: #1967D2;\n",
              "      --hover-bg-color: #E2EBFA;\n",
              "      --hover-fill-color: #174EA6;\n",
              "      --disabled-fill-color: #AAA;\n",
              "      --disabled-bg-color: #DDD;\n",
              "  }\n",
              "\n",
              "  [theme=dark] .colab-df-quickchart {\n",
              "      --bg-color: #3B4455;\n",
              "      --fill-color: #D2E3FC;\n",
              "      --hover-bg-color: #434B5C;\n",
              "      --hover-fill-color: #FFFFFF;\n",
              "      --disabled-bg-color: #3B4455;\n",
              "      --disabled-fill-color: #666;\n",
              "  }\n",
              "\n",
              "  .colab-df-quickchart {\n",
              "    background-color: var(--bg-color);\n",
              "    border: none;\n",
              "    border-radius: 50%;\n",
              "    cursor: pointer;\n",
              "    display: none;\n",
              "    fill: var(--fill-color);\n",
              "    height: 32px;\n",
              "    padding: 0;\n",
              "    width: 32px;\n",
              "  }\n",
              "\n",
              "  .colab-df-quickchart:hover {\n",
              "    background-color: var(--hover-bg-color);\n",
              "    box-shadow: 0 1px 2px rgba(60, 64, 67, 0.3), 0 1px 3px 1px rgba(60, 64, 67, 0.15);\n",
              "    fill: var(--button-hover-fill-color);\n",
              "  }\n",
              "\n",
              "  .colab-df-quickchart-complete:disabled,\n",
              "  .colab-df-quickchart-complete:disabled:hover {\n",
              "    background-color: var(--disabled-bg-color);\n",
              "    fill: var(--disabled-fill-color);\n",
              "    box-shadow: none;\n",
              "  }\n",
              "\n",
              "  .colab-df-spinner {\n",
              "    border: 2px solid var(--fill-color);\n",
              "    border-color: transparent;\n",
              "    border-bottom-color: var(--fill-color);\n",
              "    animation:\n",
              "      spin 1s steps(1) infinite;\n",
              "  }\n",
              "\n",
              "  @keyframes spin {\n",
              "    0% {\n",
              "      border-color: transparent;\n",
              "      border-bottom-color: var(--fill-color);\n",
              "      border-left-color: var(--fill-color);\n",
              "    }\n",
              "    20% {\n",
              "      border-color: transparent;\n",
              "      border-left-color: var(--fill-color);\n",
              "      border-top-color: var(--fill-color);\n",
              "    }\n",
              "    30% {\n",
              "      border-color: transparent;\n",
              "      border-left-color: var(--fill-color);\n",
              "      border-top-color: var(--fill-color);\n",
              "      border-right-color: var(--fill-color);\n",
              "    }\n",
              "    40% {\n",
              "      border-color: transparent;\n",
              "      border-right-color: var(--fill-color);\n",
              "      border-top-color: var(--fill-color);\n",
              "    }\n",
              "    60% {\n",
              "      border-color: transparent;\n",
              "      border-right-color: var(--fill-color);\n",
              "    }\n",
              "    80% {\n",
              "      border-color: transparent;\n",
              "      border-right-color: var(--fill-color);\n",
              "      border-bottom-color: var(--fill-color);\n",
              "    }\n",
              "    90% {\n",
              "      border-color: transparent;\n",
              "      border-bottom-color: var(--fill-color);\n",
              "    }\n",
              "  }\n",
              "</style>\n",
              "\n",
              "      <script>\n",
              "        async function quickchart(key) {\n",
              "          const quickchartButtonEl =\n",
              "            document.querySelector('#' + key + ' button');\n",
              "          quickchartButtonEl.disabled = true;  // To prevent multiple clicks.\n",
              "          quickchartButtonEl.classList.add('colab-df-spinner');\n",
              "          try {\n",
              "            const charts = await google.colab.kernel.invokeFunction(\n",
              "                'suggestCharts', [key], {});\n",
              "          } catch (error) {\n",
              "            console.error('Error during call to suggestCharts:', error);\n",
              "          }\n",
              "          quickchartButtonEl.classList.remove('colab-df-spinner');\n",
              "          quickchartButtonEl.classList.add('colab-df-quickchart-complete');\n",
              "        }\n",
              "        (() => {\n",
              "          let quickchartButtonEl =\n",
              "            document.querySelector('#df-e1645ef0-b73a-4120-87e8-84c3f2c7dd16 button');\n",
              "          quickchartButtonEl.style.display =\n",
              "            google.colab.kernel.accessAllowed ? 'block' : 'none';\n",
              "        })();\n",
              "      </script>\n",
              "    </div>\n",
              "\n",
              "    </div>\n",
              "  </div>\n"
            ],
            "application/vnd.google.colaboratory.intrinsic+json": {
              "type": "dataframe",
              "variable_name": "df",
              "summary": "{\n  \"name\": \"df\",\n  \"rows\": 5454,\n  \"fields\": [\n    {\n      \"column\": 1,\n      \"properties\": {\n        \"dtype\": \"object\",\n        \"semantic_type\": \"\",\n        \"description\": \"\"\n      }\n    },\n    {\n      \"column\": 4,\n      \"properties\": {\n        \"dtype\": \"object\",\n        \"semantic_type\": \"\",\n        \"description\": \"\"\n      }\n    }\n  ]\n}"
            }
          },
          "metadata": {},
          "execution_count": 17
        }
      ]
    },
    {
      "cell_type": "code",
      "source": [
        "for i in range(len(df)):\n",
        "  df.iloc[i, 1] = str(df.iloc[i, 1])\n",
        "  df.iloc[i, 4] = str(df.iloc[i, 4])\n",
        "  df.iloc[i, 1] = df.iloc[i, 1].replace(\"{'role': 'user', 'content': '\", \"\")\n",
        "  df.iloc[i, 1] = df.iloc[i, 1].replace(\"'}\", \"\")\n",
        "  df.iloc[i, 4] = df.iloc[i, 4].replace(\"{'role': 'user', 'content': '\", \"\")\n",
        "  df.iloc[i, 4] = df.iloc[i, 4].replace(\"'}\", \"\")"
      ],
      "metadata": {
        "colab": {
          "base_uri": "https://localhost:8080/",
          "height": 356
        },
        "id": "ml6fq2Qzj63s",
        "outputId": "33dd235f-7917-4986-d284-791d38dbcda7"
      },
      "execution_count": null,
      "outputs": [
        {
          "output_type": "error",
          "ename": "IndexError",
          "evalue": "index 4 is out of bounds for axis 0 with size 2",
          "traceback": [
            "\u001b[0;31m---------------------------------------------------------------------------\u001b[0m",
            "\u001b[0;31mIndexError\u001b[0m                                Traceback (most recent call last)",
            "\u001b[0;32m<ipython-input-19-7972bfd00711>\u001b[0m in \u001b[0;36m<cell line: 0>\u001b[0;34m()\u001b[0m\n\u001b[1;32m      1\u001b[0m \u001b[0;32mfor\u001b[0m \u001b[0mi\u001b[0m \u001b[0;32min\u001b[0m \u001b[0mrange\u001b[0m\u001b[0;34m(\u001b[0m\u001b[0mlen\u001b[0m\u001b[0;34m(\u001b[0m\u001b[0mdf\u001b[0m\u001b[0;34m)\u001b[0m\u001b[0;34m)\u001b[0m\u001b[0;34m:\u001b[0m\u001b[0;34m\u001b[0m\u001b[0;34m\u001b[0m\u001b[0m\n\u001b[1;32m      2\u001b[0m   \u001b[0mdf\u001b[0m\u001b[0;34m.\u001b[0m\u001b[0miloc\u001b[0m\u001b[0;34m[\u001b[0m\u001b[0mi\u001b[0m\u001b[0;34m,\u001b[0m \u001b[0;36m1\u001b[0m\u001b[0;34m]\u001b[0m \u001b[0;34m=\u001b[0m \u001b[0mstr\u001b[0m\u001b[0;34m(\u001b[0m\u001b[0mdf\u001b[0m\u001b[0;34m.\u001b[0m\u001b[0miloc\u001b[0m\u001b[0;34m[\u001b[0m\u001b[0mi\u001b[0m\u001b[0;34m,\u001b[0m \u001b[0;36m1\u001b[0m\u001b[0;34m]\u001b[0m\u001b[0;34m)\u001b[0m\u001b[0;34m\u001b[0m\u001b[0;34m\u001b[0m\u001b[0m\n\u001b[0;32m----> 3\u001b[0;31m   \u001b[0mdf\u001b[0m\u001b[0;34m.\u001b[0m\u001b[0miloc\u001b[0m\u001b[0;34m[\u001b[0m\u001b[0mi\u001b[0m\u001b[0;34m,\u001b[0m \u001b[0;36m4\u001b[0m\u001b[0;34m]\u001b[0m \u001b[0;34m=\u001b[0m \u001b[0mstr\u001b[0m\u001b[0;34m(\u001b[0m\u001b[0mdf\u001b[0m\u001b[0;34m.\u001b[0m\u001b[0miloc\u001b[0m\u001b[0;34m[\u001b[0m\u001b[0mi\u001b[0m\u001b[0;34m,\u001b[0m \u001b[0;36m4\u001b[0m\u001b[0;34m]\u001b[0m\u001b[0;34m)\u001b[0m\u001b[0;34m\u001b[0m\u001b[0;34m\u001b[0m\u001b[0m\n\u001b[0m\u001b[1;32m      4\u001b[0m   \u001b[0mdf\u001b[0m\u001b[0;34m.\u001b[0m\u001b[0miloc\u001b[0m\u001b[0;34m[\u001b[0m\u001b[0mi\u001b[0m\u001b[0;34m,\u001b[0m \u001b[0;36m1\u001b[0m\u001b[0;34m]\u001b[0m \u001b[0;34m=\u001b[0m \u001b[0mdf\u001b[0m\u001b[0;34m.\u001b[0m\u001b[0miloc\u001b[0m\u001b[0;34m[\u001b[0m\u001b[0mi\u001b[0m\u001b[0;34m,\u001b[0m \u001b[0;36m1\u001b[0m\u001b[0;34m]\u001b[0m\u001b[0;34m.\u001b[0m\u001b[0mreplace\u001b[0m\u001b[0;34m(\u001b[0m\u001b[0;34m\"{'role': 'user', 'content': '\"\u001b[0m\u001b[0;34m,\u001b[0m \u001b[0;34m\"\"\u001b[0m\u001b[0;34m)\u001b[0m\u001b[0;34m\u001b[0m\u001b[0;34m\u001b[0m\u001b[0m\n\u001b[1;32m      5\u001b[0m   \u001b[0mdf\u001b[0m\u001b[0;34m.\u001b[0m\u001b[0miloc\u001b[0m\u001b[0;34m[\u001b[0m\u001b[0mi\u001b[0m\u001b[0;34m,\u001b[0m \u001b[0;36m1\u001b[0m\u001b[0;34m]\u001b[0m \u001b[0;34m=\u001b[0m \u001b[0mdf\u001b[0m\u001b[0;34m.\u001b[0m\u001b[0miloc\u001b[0m\u001b[0;34m[\u001b[0m\u001b[0mi\u001b[0m\u001b[0;34m,\u001b[0m \u001b[0;36m1\u001b[0m\u001b[0;34m]\u001b[0m\u001b[0;34m.\u001b[0m\u001b[0mreplace\u001b[0m\u001b[0;34m(\u001b[0m\u001b[0;34m\"'}\"\u001b[0m\u001b[0;34m,\u001b[0m \u001b[0;34m\"\"\u001b[0m\u001b[0;34m)\u001b[0m\u001b[0;34m\u001b[0m\u001b[0;34m\u001b[0m\u001b[0m\n",
            "\u001b[0;32m/usr/local/lib/python3.11/dist-packages/pandas/core/indexing.py\u001b[0m in \u001b[0;36m__getitem__\u001b[0;34m(self, key)\u001b[0m\n\u001b[1;32m   1181\u001b[0m             \u001b[0mkey\u001b[0m \u001b[0;34m=\u001b[0m \u001b[0mtuple\u001b[0m\u001b[0;34m(\u001b[0m\u001b[0mcom\u001b[0m\u001b[0;34m.\u001b[0m\u001b[0mapply_if_callable\u001b[0m\u001b[0;34m(\u001b[0m\u001b[0mx\u001b[0m\u001b[0;34m,\u001b[0m \u001b[0mself\u001b[0m\u001b[0;34m.\u001b[0m\u001b[0mobj\u001b[0m\u001b[0;34m)\u001b[0m \u001b[0;32mfor\u001b[0m \u001b[0mx\u001b[0m \u001b[0;32min\u001b[0m \u001b[0mkey\u001b[0m\u001b[0;34m)\u001b[0m\u001b[0;34m\u001b[0m\u001b[0;34m\u001b[0m\u001b[0m\n\u001b[1;32m   1182\u001b[0m             \u001b[0;32mif\u001b[0m \u001b[0mself\u001b[0m\u001b[0;34m.\u001b[0m\u001b[0m_is_scalar_access\u001b[0m\u001b[0;34m(\u001b[0m\u001b[0mkey\u001b[0m\u001b[0;34m)\u001b[0m\u001b[0;34m:\u001b[0m\u001b[0;34m\u001b[0m\u001b[0;34m\u001b[0m\u001b[0m\n\u001b[0;32m-> 1183\u001b[0;31m                 \u001b[0;32mreturn\u001b[0m \u001b[0mself\u001b[0m\u001b[0;34m.\u001b[0m\u001b[0mobj\u001b[0m\u001b[0;34m.\u001b[0m\u001b[0m_get_value\u001b[0m\u001b[0;34m(\u001b[0m\u001b[0;34m*\u001b[0m\u001b[0mkey\u001b[0m\u001b[0;34m,\u001b[0m \u001b[0mtakeable\u001b[0m\u001b[0;34m=\u001b[0m\u001b[0mself\u001b[0m\u001b[0;34m.\u001b[0m\u001b[0m_takeable\u001b[0m\u001b[0;34m)\u001b[0m\u001b[0;34m\u001b[0m\u001b[0;34m\u001b[0m\u001b[0m\n\u001b[0m\u001b[1;32m   1184\u001b[0m             \u001b[0;32mreturn\u001b[0m \u001b[0mself\u001b[0m\u001b[0;34m.\u001b[0m\u001b[0m_getitem_tuple\u001b[0m\u001b[0;34m(\u001b[0m\u001b[0mkey\u001b[0m\u001b[0;34m)\u001b[0m\u001b[0;34m\u001b[0m\u001b[0;34m\u001b[0m\u001b[0m\n\u001b[1;32m   1185\u001b[0m         \u001b[0;32melse\u001b[0m\u001b[0;34m:\u001b[0m\u001b[0;34m\u001b[0m\u001b[0;34m\u001b[0m\u001b[0m\n",
            "\u001b[0;32m/usr/local/lib/python3.11/dist-packages/pandas/core/frame.py\u001b[0m in \u001b[0;36m_get_value\u001b[0;34m(self, index, col, takeable)\u001b[0m\n\u001b[1;32m   4209\u001b[0m         \"\"\"\n\u001b[1;32m   4210\u001b[0m         \u001b[0;32mif\u001b[0m \u001b[0mtakeable\u001b[0m\u001b[0;34m:\u001b[0m\u001b[0;34m\u001b[0m\u001b[0;34m\u001b[0m\u001b[0m\n\u001b[0;32m-> 4211\u001b[0;31m             \u001b[0mseries\u001b[0m \u001b[0;34m=\u001b[0m \u001b[0mself\u001b[0m\u001b[0;34m.\u001b[0m\u001b[0m_ixs\u001b[0m\u001b[0;34m(\u001b[0m\u001b[0mcol\u001b[0m\u001b[0;34m,\u001b[0m \u001b[0maxis\u001b[0m\u001b[0;34m=\u001b[0m\u001b[0;36m1\u001b[0m\u001b[0;34m)\u001b[0m\u001b[0;34m\u001b[0m\u001b[0;34m\u001b[0m\u001b[0m\n\u001b[0m\u001b[1;32m   4212\u001b[0m             \u001b[0;32mreturn\u001b[0m \u001b[0mseries\u001b[0m\u001b[0;34m.\u001b[0m\u001b[0m_values\u001b[0m\u001b[0;34m[\u001b[0m\u001b[0mindex\u001b[0m\u001b[0;34m]\u001b[0m\u001b[0;34m\u001b[0m\u001b[0;34m\u001b[0m\u001b[0m\n\u001b[1;32m   4213\u001b[0m \u001b[0;34m\u001b[0m\u001b[0m\n",
            "\u001b[0;32m/usr/local/lib/python3.11/dist-packages/pandas/core/frame.py\u001b[0m in \u001b[0;36m_ixs\u001b[0;34m(self, i, axis)\u001b[0m\n\u001b[1;32m   4006\u001b[0m         \u001b[0;31m# icol\u001b[0m\u001b[0;34m\u001b[0m\u001b[0;34m\u001b[0m\u001b[0m\n\u001b[1;32m   4007\u001b[0m         \u001b[0;32melse\u001b[0m\u001b[0;34m:\u001b[0m\u001b[0;34m\u001b[0m\u001b[0;34m\u001b[0m\u001b[0m\n\u001b[0;32m-> 4008\u001b[0;31m             \u001b[0mlabel\u001b[0m \u001b[0;34m=\u001b[0m \u001b[0mself\u001b[0m\u001b[0;34m.\u001b[0m\u001b[0mcolumns\u001b[0m\u001b[0;34m[\u001b[0m\u001b[0mi\u001b[0m\u001b[0;34m]\u001b[0m\u001b[0;34m\u001b[0m\u001b[0;34m\u001b[0m\u001b[0m\n\u001b[0m\u001b[1;32m   4009\u001b[0m \u001b[0;34m\u001b[0m\u001b[0m\n\u001b[1;32m   4010\u001b[0m             \u001b[0mcol_mgr\u001b[0m \u001b[0;34m=\u001b[0m \u001b[0mself\u001b[0m\u001b[0;34m.\u001b[0m\u001b[0m_mgr\u001b[0m\u001b[0;34m.\u001b[0m\u001b[0miget\u001b[0m\u001b[0;34m(\u001b[0m\u001b[0mi\u001b[0m\u001b[0;34m)\u001b[0m\u001b[0;34m\u001b[0m\u001b[0;34m\u001b[0m\u001b[0m\n",
            "\u001b[0;32m/usr/local/lib/python3.11/dist-packages/pandas/core/indexes/base.py\u001b[0m in \u001b[0;36m__getitem__\u001b[0;34m(self, key)\u001b[0m\n\u001b[1;32m   5387\u001b[0m             \u001b[0;31m# GH#44051 exclude bool, which would return a 2d ndarray\u001b[0m\u001b[0;34m\u001b[0m\u001b[0;34m\u001b[0m\u001b[0m\n\u001b[1;32m   5388\u001b[0m             \u001b[0mkey\u001b[0m \u001b[0;34m=\u001b[0m \u001b[0mcom\u001b[0m\u001b[0;34m.\u001b[0m\u001b[0mcast_scalar_indexer\u001b[0m\u001b[0;34m(\u001b[0m\u001b[0mkey\u001b[0m\u001b[0;34m)\u001b[0m\u001b[0;34m\u001b[0m\u001b[0;34m\u001b[0m\u001b[0m\n\u001b[0;32m-> 5389\u001b[0;31m             \u001b[0;32mreturn\u001b[0m \u001b[0mgetitem\u001b[0m\u001b[0;34m(\u001b[0m\u001b[0mkey\u001b[0m\u001b[0;34m)\u001b[0m\u001b[0;34m\u001b[0m\u001b[0;34m\u001b[0m\u001b[0m\n\u001b[0m\u001b[1;32m   5390\u001b[0m \u001b[0;34m\u001b[0m\u001b[0m\n\u001b[1;32m   5391\u001b[0m         \u001b[0;32mif\u001b[0m \u001b[0misinstance\u001b[0m\u001b[0;34m(\u001b[0m\u001b[0mkey\u001b[0m\u001b[0;34m,\u001b[0m \u001b[0mslice\u001b[0m\u001b[0;34m)\u001b[0m\u001b[0;34m:\u001b[0m\u001b[0;34m\u001b[0m\u001b[0;34m\u001b[0m\u001b[0m\n",
            "\u001b[0;31mIndexError\u001b[0m: index 4 is out of bounds for axis 0 with size 2"
          ]
        }
      ]
    },
    {
      "cell_type": "code",
      "source": [
        "df.head(1)"
      ],
      "metadata": {
        "colab": {
          "base_uri": "https://localhost:8080/",
          "height": 98
        },
        "id": "H9xKTDNmiBKe",
        "outputId": "1efbaa1c-35c3-4638-eae6-b8e7af4cd616"
      },
      "execution_count": null,
      "outputs": [
        {
          "output_type": "execute_result",
          "data": {
            "text/plain": [
              "                                                                                         1  \\\n",
              "0  {'role': 'user', 'content': 'Em muốn tìm hiểu các gói khám sức khỏe sdt em là 088 sáu'}   \n",
              "\n",
              "                                             4  \\\n",
              "0  {'role': 'user', 'content': 'năm 44 bảy67'}   \n",
              "\n",
              "                                                                                                                                        5  \n",
              "0  {'role': 'assistant', 'content': '\"<functioncall> {'name': 'information_extraction', 'arguments': {'customer_phone': '0886544767'}}\"'}  "
            ],
            "text/html": [
              "\n",
              "  <div id=\"df-86399f8c-4c9d-4f8d-b0e9-1dbb6a25bad4\" class=\"colab-df-container\">\n",
              "    <div>\n",
              "<style scoped>\n",
              "    .dataframe tbody tr th:only-of-type {\n",
              "        vertical-align: middle;\n",
              "    }\n",
              "\n",
              "    .dataframe tbody tr th {\n",
              "        vertical-align: top;\n",
              "    }\n",
              "\n",
              "    .dataframe thead th {\n",
              "        text-align: right;\n",
              "    }\n",
              "</style>\n",
              "<table border=\"1\" class=\"dataframe\">\n",
              "  <thead>\n",
              "    <tr style=\"text-align: right;\">\n",
              "      <th></th>\n",
              "      <th>1</th>\n",
              "      <th>4</th>\n",
              "      <th>5</th>\n",
              "    </tr>\n",
              "  </thead>\n",
              "  <tbody>\n",
              "    <tr>\n",
              "      <th>0</th>\n",
              "      <td>{'role': 'user', 'content': 'Em muốn tìm hiểu các gói khám sức khỏe sdt em là 088 sáu'}</td>\n",
              "      <td>{'role': 'user', 'content': 'năm 44 bảy67'}</td>\n",
              "      <td>{'role': 'assistant', 'content': '\"&lt;functioncall&gt; {'name': 'information_extraction', 'arguments': {'customer_phone': '0886544767'}}\"'}</td>\n",
              "    </tr>\n",
              "  </tbody>\n",
              "</table>\n",
              "</div>\n",
              "    <div class=\"colab-df-buttons\">\n",
              "\n",
              "  <div class=\"colab-df-container\">\n",
              "    <button class=\"colab-df-convert\" onclick=\"convertToInteractive('df-86399f8c-4c9d-4f8d-b0e9-1dbb6a25bad4')\"\n",
              "            title=\"Convert this dataframe to an interactive table.\"\n",
              "            style=\"display:none;\">\n",
              "\n",
              "  <svg xmlns=\"http://www.w3.org/2000/svg\" height=\"24px\" viewBox=\"0 -960 960 960\">\n",
              "    <path d=\"M120-120v-720h720v720H120Zm60-500h600v-160H180v160Zm220 220h160v-160H400v160Zm0 220h160v-160H400v160ZM180-400h160v-160H180v160Zm440 0h160v-160H620v160ZM180-180h160v-160H180v160Zm440 0h160v-160H620v160Z\"/>\n",
              "  </svg>\n",
              "    </button>\n",
              "\n",
              "  <style>\n",
              "    .colab-df-container {\n",
              "      display:flex;\n",
              "      gap: 12px;\n",
              "    }\n",
              "\n",
              "    .colab-df-convert {\n",
              "      background-color: #E8F0FE;\n",
              "      border: none;\n",
              "      border-radius: 50%;\n",
              "      cursor: pointer;\n",
              "      display: none;\n",
              "      fill: #1967D2;\n",
              "      height: 32px;\n",
              "      padding: 0 0 0 0;\n",
              "      width: 32px;\n",
              "    }\n",
              "\n",
              "    .colab-df-convert:hover {\n",
              "      background-color: #E2EBFA;\n",
              "      box-shadow: 0px 1px 2px rgba(60, 64, 67, 0.3), 0px 1px 3px 1px rgba(60, 64, 67, 0.15);\n",
              "      fill: #174EA6;\n",
              "    }\n",
              "\n",
              "    .colab-df-buttons div {\n",
              "      margin-bottom: 4px;\n",
              "    }\n",
              "\n",
              "    [theme=dark] .colab-df-convert {\n",
              "      background-color: #3B4455;\n",
              "      fill: #D2E3FC;\n",
              "    }\n",
              "\n",
              "    [theme=dark] .colab-df-convert:hover {\n",
              "      background-color: #434B5C;\n",
              "      box-shadow: 0px 1px 3px 1px rgba(0, 0, 0, 0.15);\n",
              "      filter: drop-shadow(0px 1px 2px rgba(0, 0, 0, 0.3));\n",
              "      fill: #FFFFFF;\n",
              "    }\n",
              "  </style>\n",
              "\n",
              "    <script>\n",
              "      const buttonEl =\n",
              "        document.querySelector('#df-86399f8c-4c9d-4f8d-b0e9-1dbb6a25bad4 button.colab-df-convert');\n",
              "      buttonEl.style.display =\n",
              "        google.colab.kernel.accessAllowed ? 'block' : 'none';\n",
              "\n",
              "      async function convertToInteractive(key) {\n",
              "        const element = document.querySelector('#df-86399f8c-4c9d-4f8d-b0e9-1dbb6a25bad4');\n",
              "        const dataTable =\n",
              "          await google.colab.kernel.invokeFunction('convertToInteractive',\n",
              "                                                    [key], {});\n",
              "        if (!dataTable) return;\n",
              "\n",
              "        const docLinkHtml = 'Like what you see? Visit the ' +\n",
              "          '<a target=\"_blank\" href=https://colab.research.google.com/notebooks/data_table.ipynb>data table notebook</a>'\n",
              "          + ' to learn more about interactive tables.';\n",
              "        element.innerHTML = '';\n",
              "        dataTable['output_type'] = 'display_data';\n",
              "        await google.colab.output.renderOutput(dataTable, element);\n",
              "        const docLink = document.createElement('div');\n",
              "        docLink.innerHTML = docLinkHtml;\n",
              "        element.appendChild(docLink);\n",
              "      }\n",
              "    </script>\n",
              "  </div>\n",
              "\n",
              "\n",
              "    </div>\n",
              "  </div>\n"
            ],
            "application/vnd.google.colaboratory.intrinsic+json": {
              "type": "dataframe",
              "variable_name": "df",
              "summary": "{\n  \"name\": \"df\",\n  \"rows\": 5454,\n  \"fields\": [\n    {\n      \"column\": 1,\n      \"properties\": {\n        \"dtype\": \"object\",\n        \"semantic_type\": \"\",\n        \"description\": \"\"\n      }\n    },\n    {\n      \"column\": 4,\n      \"properties\": {\n        \"dtype\": \"object\",\n        \"semantic_type\": \"\",\n        \"description\": \"\"\n      }\n    },\n    {\n      \"column\": 5,\n      \"properties\": {\n        \"dtype\": \"object\",\n        \"semantic_type\": \"\",\n        \"description\": \"\"\n      }\n    }\n  ]\n}"
            }
          },
          "metadata": {},
          "execution_count": 8
        }
      ]
    },
    {
      "cell_type": "code",
      "source": [
        "for i"
      ],
      "metadata": {
        "id": "jO2Ow6sKiP8t"
      },
      "execution_count": null,
      "outputs": []
    },
    {
      "cell_type": "code",
      "source": [
        "df.to_csv('blank.csv')"
      ],
      "metadata": {
        "id": "4947iSaHh8cI"
      },
      "execution_count": null,
      "outputs": []
    },
    {
      "cell_type": "code",
      "source": [
        "b = pd.read_csv('blank.csv')\n",
        "b.head(10)"
      ],
      "metadata": {
        "colab": {
          "base_uri": "https://localhost:8080/",
          "height": 363
        },
        "id": "uk1Gf5ysjY0F",
        "outputId": "5efcfc11-788e-4ac0-ea5b-d452b82d8498"
      },
      "execution_count": null,
      "outputs": [
        {
          "output_type": "execute_result",
          "data": {
            "text/plain": [
              "   Unnamed: 0  \\\n",
              "0           0   \n",
              "1           1   \n",
              "2           2   \n",
              "3           3   \n",
              "4           4   \n",
              "5           5   \n",
              "6           6   \n",
              "7           7   \n",
              "8           8   \n",
              "9           9   \n",
              "\n",
              "                                                                                  user1  \\\n",
              "0                              Em muốn tìm hiểu các gói khám sức khỏe sdt em là 088 sáu   \n",
              "1                    Gói sản phẩm bên mình có gì hot không ạ số mình 0390 không hai bốn   \n",
              "2                     Cho mình xin thông tin khuyến mãi đi số điện thoại mình là 037 50   \n",
              "3                 Bên mình có gói khám tổng quát nào không số điện thoại của tôi là 081   \n",
              "4                  Các gói dịch vụ hiện tại giá thế nào ạ số của mình là 094 chín bốn 8   \n",
              "5  Bên mình có những gói khám nào cho người lớn tuổi không số điện thoại của mình là 09   \n",
              "6  Mình muốn tham khảo các gói tầm soát ung thư số của mình 037 chín bốn bảy 8 chín 0 8   \n",
              "7         Bên mình có chương trình ưu đãi nào không ạ số của em là 0765 1 không sáu 7 2   \n",
              "8                 Gói khám tim mạch có những gì số của tôi là 070 8 8 chín 0 tám 6 chín   \n",
              "9                         Cho mình hỏi về các gói thai sản số của mình là 0396112 bốn 8   \n",
              "\n",
              "                         user2  \n",
              "0                năm 44 bảy 67  \n",
              "1                  năm năm một  \n",
              "2             7 5 sáu chín hai  \n",
              "3  chín 0 bốn năm 0 ba bảy bốn  \n",
              "4             một năm sáu chín  \n",
              "5             7 ba 613 7 sáu 7  \n",
              "6                          bốn  \n",
              "7                            5  \n",
              "8                          tám  \n",
              "9                          bảy  "
            ],
            "text/html": [
              "\n",
              "  <div id=\"df-d6ee7441-3dce-4667-ac1d-3faad23d38d9\" class=\"colab-df-container\">\n",
              "    <div>\n",
              "<style scoped>\n",
              "    .dataframe tbody tr th:only-of-type {\n",
              "        vertical-align: middle;\n",
              "    }\n",
              "\n",
              "    .dataframe tbody tr th {\n",
              "        vertical-align: top;\n",
              "    }\n",
              "\n",
              "    .dataframe thead th {\n",
              "        text-align: right;\n",
              "    }\n",
              "</style>\n",
              "<table border=\"1\" class=\"dataframe\">\n",
              "  <thead>\n",
              "    <tr style=\"text-align: right;\">\n",
              "      <th></th>\n",
              "      <th>Unnamed: 0</th>\n",
              "      <th>user1</th>\n",
              "      <th>user2</th>\n",
              "    </tr>\n",
              "  </thead>\n",
              "  <tbody>\n",
              "    <tr>\n",
              "      <th>0</th>\n",
              "      <td>0</td>\n",
              "      <td>Em muốn tìm hiểu các gói khám sức khỏe sdt em là 088 sáu</td>\n",
              "      <td>năm 44 bảy 67</td>\n",
              "    </tr>\n",
              "    <tr>\n",
              "      <th>1</th>\n",
              "      <td>1</td>\n",
              "      <td>Gói sản phẩm bên mình có gì hot không ạ số mình 0390 không hai bốn</td>\n",
              "      <td>năm năm một</td>\n",
              "    </tr>\n",
              "    <tr>\n",
              "      <th>2</th>\n",
              "      <td>2</td>\n",
              "      <td>Cho mình xin thông tin khuyến mãi đi số điện thoại mình là 037 50</td>\n",
              "      <td>7 5 sáu chín hai</td>\n",
              "    </tr>\n",
              "    <tr>\n",
              "      <th>3</th>\n",
              "      <td>3</td>\n",
              "      <td>Bên mình có gói khám tổng quát nào không số điện thoại của tôi là 081</td>\n",
              "      <td>chín 0 bốn năm 0 ba bảy bốn</td>\n",
              "    </tr>\n",
              "    <tr>\n",
              "      <th>4</th>\n",
              "      <td>4</td>\n",
              "      <td>Các gói dịch vụ hiện tại giá thế nào ạ số của mình là 094 chín bốn 8</td>\n",
              "      <td>một năm sáu chín</td>\n",
              "    </tr>\n",
              "    <tr>\n",
              "      <th>5</th>\n",
              "      <td>5</td>\n",
              "      <td>Bên mình có những gói khám nào cho người lớn tuổi không số điện thoại của mình là 09</td>\n",
              "      <td>7 ba 613 7 sáu 7</td>\n",
              "    </tr>\n",
              "    <tr>\n",
              "      <th>6</th>\n",
              "      <td>6</td>\n",
              "      <td>Mình muốn tham khảo các gói tầm soát ung thư số của mình 037 chín bốn bảy 8 chín 0 8</td>\n",
              "      <td>bốn</td>\n",
              "    </tr>\n",
              "    <tr>\n",
              "      <th>7</th>\n",
              "      <td>7</td>\n",
              "      <td>Bên mình có chương trình ưu đãi nào không ạ số của em là 0765 1 không sáu 7 2</td>\n",
              "      <td>5</td>\n",
              "    </tr>\n",
              "    <tr>\n",
              "      <th>8</th>\n",
              "      <td>8</td>\n",
              "      <td>Gói khám tim mạch có những gì số của tôi là 070 8 8 chín 0 tám 6 chín</td>\n",
              "      <td>tám</td>\n",
              "    </tr>\n",
              "    <tr>\n",
              "      <th>9</th>\n",
              "      <td>9</td>\n",
              "      <td>Cho mình hỏi về các gói thai sản số của mình là 0396112 bốn 8</td>\n",
              "      <td>bảy</td>\n",
              "    </tr>\n",
              "  </tbody>\n",
              "</table>\n",
              "</div>\n",
              "    <div class=\"colab-df-buttons\">\n",
              "\n",
              "  <div class=\"colab-df-container\">\n",
              "    <button class=\"colab-df-convert\" onclick=\"convertToInteractive('df-d6ee7441-3dce-4667-ac1d-3faad23d38d9')\"\n",
              "            title=\"Convert this dataframe to an interactive table.\"\n",
              "            style=\"display:none;\">\n",
              "\n",
              "  <svg xmlns=\"http://www.w3.org/2000/svg\" height=\"24px\" viewBox=\"0 -960 960 960\">\n",
              "    <path d=\"M120-120v-720h720v720H120Zm60-500h600v-160H180v160Zm220 220h160v-160H400v160Zm0 220h160v-160H400v160ZM180-400h160v-160H180v160Zm440 0h160v-160H620v160ZM180-180h160v-160H180v160Zm440 0h160v-160H620v160Z\"/>\n",
              "  </svg>\n",
              "    </button>\n",
              "\n",
              "  <style>\n",
              "    .colab-df-container {\n",
              "      display:flex;\n",
              "      gap: 12px;\n",
              "    }\n",
              "\n",
              "    .colab-df-convert {\n",
              "      background-color: #E8F0FE;\n",
              "      border: none;\n",
              "      border-radius: 50%;\n",
              "      cursor: pointer;\n",
              "      display: none;\n",
              "      fill: #1967D2;\n",
              "      height: 32px;\n",
              "      padding: 0 0 0 0;\n",
              "      width: 32px;\n",
              "    }\n",
              "\n",
              "    .colab-df-convert:hover {\n",
              "      background-color: #E2EBFA;\n",
              "      box-shadow: 0px 1px 2px rgba(60, 64, 67, 0.3), 0px 1px 3px 1px rgba(60, 64, 67, 0.15);\n",
              "      fill: #174EA6;\n",
              "    }\n",
              "\n",
              "    .colab-df-buttons div {\n",
              "      margin-bottom: 4px;\n",
              "    }\n",
              "\n",
              "    [theme=dark] .colab-df-convert {\n",
              "      background-color: #3B4455;\n",
              "      fill: #D2E3FC;\n",
              "    }\n",
              "\n",
              "    [theme=dark] .colab-df-convert:hover {\n",
              "      background-color: #434B5C;\n",
              "      box-shadow: 0px 1px 3px 1px rgba(0, 0, 0, 0.15);\n",
              "      filter: drop-shadow(0px 1px 2px rgba(0, 0, 0, 0.3));\n",
              "      fill: #FFFFFF;\n",
              "    }\n",
              "  </style>\n",
              "\n",
              "    <script>\n",
              "      const buttonEl =\n",
              "        document.querySelector('#df-d6ee7441-3dce-4667-ac1d-3faad23d38d9 button.colab-df-convert');\n",
              "      buttonEl.style.display =\n",
              "        google.colab.kernel.accessAllowed ? 'block' : 'none';\n",
              "\n",
              "      async function convertToInteractive(key) {\n",
              "        const element = document.querySelector('#df-d6ee7441-3dce-4667-ac1d-3faad23d38d9');\n",
              "        const dataTable =\n",
              "          await google.colab.kernel.invokeFunction('convertToInteractive',\n",
              "                                                    [key], {});\n",
              "        if (!dataTable) return;\n",
              "\n",
              "        const docLinkHtml = 'Like what you see? Visit the ' +\n",
              "          '<a target=\"_blank\" href=https://colab.research.google.com/notebooks/data_table.ipynb>data table notebook</a>'\n",
              "          + ' to learn more about interactive tables.';\n",
              "        element.innerHTML = '';\n",
              "        dataTable['output_type'] = 'display_data';\n",
              "        await google.colab.output.renderOutput(dataTable, element);\n",
              "        const docLink = document.createElement('div');\n",
              "        docLink.innerHTML = docLinkHtml;\n",
              "        element.appendChild(docLink);\n",
              "      }\n",
              "    </script>\n",
              "  </div>\n",
              "\n",
              "\n",
              "    <div id=\"df-ff9492e8-42ae-4bea-8944-a69c204aca0f\">\n",
              "      <button class=\"colab-df-quickchart\" onclick=\"quickchart('df-ff9492e8-42ae-4bea-8944-a69c204aca0f')\"\n",
              "                title=\"Suggest charts\"\n",
              "                style=\"display:none;\">\n",
              "\n",
              "<svg xmlns=\"http://www.w3.org/2000/svg\" height=\"24px\"viewBox=\"0 0 24 24\"\n",
              "     width=\"24px\">\n",
              "    <g>\n",
              "        <path d=\"M19 3H5c-1.1 0-2 .9-2 2v14c0 1.1.9 2 2 2h14c1.1 0 2-.9 2-2V5c0-1.1-.9-2-2-2zM9 17H7v-7h2v7zm4 0h-2V7h2v10zm4 0h-2v-4h2v4z\"/>\n",
              "    </g>\n",
              "</svg>\n",
              "      </button>\n",
              "\n",
              "<style>\n",
              "  .colab-df-quickchart {\n",
              "      --bg-color: #E8F0FE;\n",
              "      --fill-color: #1967D2;\n",
              "      --hover-bg-color: #E2EBFA;\n",
              "      --hover-fill-color: #174EA6;\n",
              "      --disabled-fill-color: #AAA;\n",
              "      --disabled-bg-color: #DDD;\n",
              "  }\n",
              "\n",
              "  [theme=dark] .colab-df-quickchart {\n",
              "      --bg-color: #3B4455;\n",
              "      --fill-color: #D2E3FC;\n",
              "      --hover-bg-color: #434B5C;\n",
              "      --hover-fill-color: #FFFFFF;\n",
              "      --disabled-bg-color: #3B4455;\n",
              "      --disabled-fill-color: #666;\n",
              "  }\n",
              "\n",
              "  .colab-df-quickchart {\n",
              "    background-color: var(--bg-color);\n",
              "    border: none;\n",
              "    border-radius: 50%;\n",
              "    cursor: pointer;\n",
              "    display: none;\n",
              "    fill: var(--fill-color);\n",
              "    height: 32px;\n",
              "    padding: 0;\n",
              "    width: 32px;\n",
              "  }\n",
              "\n",
              "  .colab-df-quickchart:hover {\n",
              "    background-color: var(--hover-bg-color);\n",
              "    box-shadow: 0 1px 2px rgba(60, 64, 67, 0.3), 0 1px 3px 1px rgba(60, 64, 67, 0.15);\n",
              "    fill: var(--button-hover-fill-color);\n",
              "  }\n",
              "\n",
              "  .colab-df-quickchart-complete:disabled,\n",
              "  .colab-df-quickchart-complete:disabled:hover {\n",
              "    background-color: var(--disabled-bg-color);\n",
              "    fill: var(--disabled-fill-color);\n",
              "    box-shadow: none;\n",
              "  }\n",
              "\n",
              "  .colab-df-spinner {\n",
              "    border: 2px solid var(--fill-color);\n",
              "    border-color: transparent;\n",
              "    border-bottom-color: var(--fill-color);\n",
              "    animation:\n",
              "      spin 1s steps(1) infinite;\n",
              "  }\n",
              "\n",
              "  @keyframes spin {\n",
              "    0% {\n",
              "      border-color: transparent;\n",
              "      border-bottom-color: var(--fill-color);\n",
              "      border-left-color: var(--fill-color);\n",
              "    }\n",
              "    20% {\n",
              "      border-color: transparent;\n",
              "      border-left-color: var(--fill-color);\n",
              "      border-top-color: var(--fill-color);\n",
              "    }\n",
              "    30% {\n",
              "      border-color: transparent;\n",
              "      border-left-color: var(--fill-color);\n",
              "      border-top-color: var(--fill-color);\n",
              "      border-right-color: var(--fill-color);\n",
              "    }\n",
              "    40% {\n",
              "      border-color: transparent;\n",
              "      border-right-color: var(--fill-color);\n",
              "      border-top-color: var(--fill-color);\n",
              "    }\n",
              "    60% {\n",
              "      border-color: transparent;\n",
              "      border-right-color: var(--fill-color);\n",
              "    }\n",
              "    80% {\n",
              "      border-color: transparent;\n",
              "      border-right-color: var(--fill-color);\n",
              "      border-bottom-color: var(--fill-color);\n",
              "    }\n",
              "    90% {\n",
              "      border-color: transparent;\n",
              "      border-bottom-color: var(--fill-color);\n",
              "    }\n",
              "  }\n",
              "</style>\n",
              "\n",
              "      <script>\n",
              "        async function quickchart(key) {\n",
              "          const quickchartButtonEl =\n",
              "            document.querySelector('#' + key + ' button');\n",
              "          quickchartButtonEl.disabled = true;  // To prevent multiple clicks.\n",
              "          quickchartButtonEl.classList.add('colab-df-spinner');\n",
              "          try {\n",
              "            const charts = await google.colab.kernel.invokeFunction(\n",
              "                'suggestCharts', [key], {});\n",
              "          } catch (error) {\n",
              "            console.error('Error during call to suggestCharts:', error);\n",
              "          }\n",
              "          quickchartButtonEl.classList.remove('colab-df-spinner');\n",
              "          quickchartButtonEl.classList.add('colab-df-quickchart-complete');\n",
              "        }\n",
              "        (() => {\n",
              "          let quickchartButtonEl =\n",
              "            document.querySelector('#df-ff9492e8-42ae-4bea-8944-a69c204aca0f button');\n",
              "          quickchartButtonEl.style.display =\n",
              "            google.colab.kernel.accessAllowed ? 'block' : 'none';\n",
              "        })();\n",
              "      </script>\n",
              "    </div>\n",
              "\n",
              "    </div>\n",
              "  </div>\n"
            ],
            "application/vnd.google.colaboratory.intrinsic+json": {
              "type": "dataframe",
              "variable_name": "b",
              "summary": "{\n  \"name\": \"b\",\n  \"rows\": 5454,\n  \"fields\": [\n    {\n      \"column\": \"Unnamed: 0\",\n      \"properties\": {\n        \"dtype\": \"number\",\n        \"std\": 1574,\n        \"min\": 0,\n        \"max\": 5453,\n        \"num_unique_values\": 5454,\n        \"samples\": [\n          5145,\n          4696,\n          4740\n        ],\n        \"semantic_type\": \"\",\n        \"description\": \"\"\n      }\n    },\n    {\n      \"column\": \"user1\",\n      \"properties\": {\n        \"dtype\": \"string\",\n        \"num_unique_values\": 5386,\n        \"samples\": [\n          \"s\\u1ed1 a 08450731\",\n          \"V\\u00e2ng \\u1ea1 sdt c\\u1ee7a m\\u00ecnh l\\u00e0 058 n\\u0103m 6\",\n          \"Sdt 099440247\"\n        ],\n        \"semantic_type\": \"\",\n        \"description\": \"\"\n      }\n    },\n    {\n      \"column\": \"user2\",\n      \"properties\": {\n        \"dtype\": \"string\",\n        \"num_unique_values\": 5257,\n        \"samples\": [\n          \"4553501\",\n          \"8 s\\u00e1u b\\u1ed1n 3 n\\u0103m\",\n          \"3707, c\\u1ea7n kh\\u00e1m t\\u1ed5ng qu\\u00e1t\"\n        ],\n        \"semantic_type\": \"\",\n        \"description\": \"\"\n      }\n    }\n  ]\n}"
            }
          },
          "metadata": {},
          "execution_count": 38
        }
      ]
    },
    {
      "cell_type": "code",
      "source": [
        "df.info()"
      ],
      "metadata": {
        "colab": {
          "base_uri": "https://localhost:8080/"
        },
        "id": "GqL1WKNby1wx",
        "outputId": "38109703-7306-4441-97a2-08d4010e6447"
      },
      "execution_count": null,
      "outputs": [
        {
          "output_type": "stream",
          "name": "stdout",
          "text": [
            "<class 'pandas.core.frame.DataFrame'>\n",
            "RangeIndex: 5454 entries, 0 to 5453\n",
            "Data columns (total 11 columns):\n",
            " #   Column        Non-Null Count  Dtype \n",
            "---  ------        --------------  ----- \n",
            " 0   Unnamed: 0    5454 non-null   int64 \n",
            " 1   user1         5454 non-null   object\n",
            " 2   user2         5454 non-null   object\n",
            " 3   index         5454 non-null   int64 \n",
            " 4   system        5454 non-null   object\n",
            " 5   user          5454 non-null   object\n",
            " 6   assistant     5454 non-null   object\n",
            " 7   query         5454 non-null   object\n",
            " 8   response      5454 non-null   object\n",
            " 9   user1_number  5454 non-null   int64 \n",
            " 10  args          5454 non-null   object\n",
            "dtypes: int64(3), object(8)\n",
            "memory usage: 468.8+ KB\n"
          ]
        }
      ]
    },
    {
      "cell_type": "code",
      "source": [
        "# prompt: lặp qua từng dòng và gán giá trị của cột user 1 của b cho df, user 2 của b cho df\n",
        "\n",
        "for i in range(len(b)):\n",
        "  df.loc[i, 'user1'] = b.loc[i, 'user1']\n",
        "  df.loc[i, 'user2'] = b.loc[i, 'user2']"
      ],
      "metadata": {
        "id": "bjqLUwZky2xa"
      },
      "execution_count": null,
      "outputs": []
    },
    {
      "cell_type": "code",
      "source": [
        "df.head(5)"
      ],
      "metadata": {
        "colab": {
          "base_uri": "https://localhost:8080/",
          "height": 1000
        },
        "id": "qa7dH4ETzCmp",
        "outputId": "fce01adb-6a04-48b3-ab78-3afb3c2213ed"
      },
      "execution_count": null,
      "outputs": [
        {
          "output_type": "execute_result",
          "data": {
            "text/plain": [
              "   Unnamed: 0  \\\n",
              "0           0   \n",
              "1           1   \n",
              "2           2   \n",
              "3           3   \n",
              "4           4   \n",
              "\n",
              "                                                                   user1  \\\n",
              "0               Em muốn tìm hiểu các gói khám sức khỏe sdt em là 088 sáu   \n",
              "1     Gói sản phẩm bên mình có gì hot không ạ số mình 0390 không hai bốn   \n",
              "2      Cho mình xin thông tin khuyến mãi đi số điện thoại mình là 037 50   \n",
              "3  Bên mình có gói khám tổng quát nào không số điện thoại của tôi là 081   \n",
              "4   Các gói dịch vụ hiện tại giá thế nào ạ số của mình là 094 chín bốn 8   \n",
              "\n",
              "                         user2  index  \\\n",
              "0                năm 44 bảy 67      0   \n",
              "1                  năm năm một      1   \n",
              "2             7 5 sáu chín hai      2   \n",
              "3  chín 0 bốn năm 0 ba bảy bốn      3   \n",
              "4             một năm sáu chín      4   \n",
              "\n",
              "                                                                                                                                                                                                                                                                                                                                                                                                                                                                                                                                                                                                                                                                                                                                                                                                                                                                                                                                                                                                                                                                                                                                                                                                                                                                                                                                                                                                                                                                                                                                                                                                                                                                                                                                                                                                                                                                                                                                                                                                                                                                                                                                                                                    system  \\\n",
              "0  {'role': 'system', 'content': 'Extracts the relevant information from the passage.\\n{\"name\": \"information_extraction\", \"description\": \"Extracts the relevant information from the passage\",\\n\"arguments\": [{\"name\": \"customer_name\", \"desc\": \"Customer\\'s name\", \"type\": \"string\"},\\n{\"name\": \"customer_phone\", \"desc\": \"Customer\\'s phone number\", \"type\": \"string\"},\\n{\"name\": \"medical_department\", \"desc\": \"Medical department or service information.\", \"type\": \"string\"},\\n{\"name\": \"is_yes\", \"desc\": \"Can take two values:\\\\n- true (if the user confirms, agrees, says something affirmative, or expresses consent in any similar way.)\\\\n- false (if the user expresses the opposite, does not approve, disagrees, or shows any similar response.)\", \"type\": \"string\"},\\n{\"name\": \"hospital_name\", \"desc\": \"Identify the name of the hospital, place or facility of Vinmec\", \"type\": \"string\"},\\n{\"name\": \"customer_dob\", \"desc\": \"Extract the user\\'s date of birth. Format DD-MM-YYYY. This value must be a date in the past.\", \"type\": \"string\"},\\n{\"name\": \"customer_place\", \"desc\": \"Province/City provided by the customer\", \"type\": \"string\"},\\n{\"name\": \"symptoms\", \"desc\": \"Identify and extract users\\' symptom information based on their messages\", \"type\": \"string\"},\\n{\"name\": \"relationship\", \"desc\": \"Relationship to the person booking the appointment\", \"type\": \"string\"},\\n{\"name\": \"appointment_date\", \"desc\": \"Medical appointment schedulling date based on the user\\'s messages. remember extract by following format: DD-MM-YYYY. This value must be a date in the future. \\\\nExample: 1999-04-24 -> 24-04-1999\", \"type\": \"string\"},\\n{\"name\": \"appointment_time\", \"desc\": \"Medical appointment schedulling time based on the user\\'s messages. The time frame will follow a 24-hour format and the time zone is GMT+7 follow this format: HH:mm\", \"type\": \"string\"}, {\"name\": \"cancel_num\", \"desc\": \"Identify number from the user\\'s message. The user may express them as words (one, two,...) or digits (1, 2,...) in Vietnamese. If the user provides words, convert them to digits. Accepted values range from 1 to 10.\", \"type\": \"string\"}]}'}   \n",
              "1  {'role': 'system', 'content': 'Extracts the relevant information from the passage.\\n{\"name\": \"information_extraction\", \"description\": \"Extracts the relevant information from the passage\",\\n\"arguments\": [{\"name\": \"customer_name\", \"desc\": \"Customer\\'s name\", \"type\": \"string\"},\\n{\"name\": \"customer_phone\", \"desc\": \"Customer\\'s phone number\", \"type\": \"string\"},\\n{\"name\": \"medical_department\", \"desc\": \"Medical department or service information.\", \"type\": \"string\"},\\n{\"name\": \"is_yes\", \"desc\": \"Can take two values:\\\\n- true (if the user confirms, agrees, says something affirmative, or expresses consent in any similar way.)\\\\n- false (if the user expresses the opposite, does not approve, disagrees, or shows any similar response.)\", \"type\": \"string\"},\\n{\"name\": \"hospital_name\", \"desc\": \"Identify the name of the hospital, place or facility of Vinmec\", \"type\": \"string\"},\\n{\"name\": \"customer_dob\", \"desc\": \"Extract the user\\'s date of birth. Format DD-MM-YYYY. This value must be a date in the past.\", \"type\": \"string\"},\\n{\"name\": \"customer_place\", \"desc\": \"Province/City provided by the customer\", \"type\": \"string\"},\\n{\"name\": \"symptoms\", \"desc\": \"Identify and extract users\\' symptom information based on their messages\", \"type\": \"string\"},\\n{\"name\": \"relationship\", \"desc\": \"Relationship to the person booking the appointment\", \"type\": \"string\"},\\n{\"name\": \"appointment_date\", \"desc\": \"Medical appointment schedulling date based on the user\\'s messages. remember extract by following format: DD-MM-YYYY. This value must be a date in the future. \\\\nExample: 1999-04-24 -> 24-04-1999\", \"type\": \"string\"},\\n{\"name\": \"appointment_time\", \"desc\": \"Medical appointment schedulling time based on the user\\'s messages. The time frame will follow a 24-hour format and the time zone is GMT+7 follow this format: HH:mm\", \"type\": \"string\"}, {\"name\": \"cancel_num\", \"desc\": \"Identify number from the user\\'s message. The user may express them as words (one, two,...) or digits (1, 2,...) in Vietnamese. If the user provides words, convert them to digits. Accepted values range from 1 to 10.\", \"type\": \"string\"}]}'}   \n",
              "2  {'role': 'system', 'content': 'Extracts the relevant information from the passage.\\n{\"name\": \"information_extraction\", \"description\": \"Extracts the relevant information from the passage\",\\n\"arguments\": [{\"name\": \"customer_name\", \"desc\": \"Customer\\'s name\", \"type\": \"string\"},\\n{\"name\": \"customer_phone\", \"desc\": \"Customer\\'s phone number\", \"type\": \"string\"},\\n{\"name\": \"medical_department\", \"desc\": \"Medical department or service information.\", \"type\": \"string\"},\\n{\"name\": \"is_yes\", \"desc\": \"Can take two values:\\\\n- true (if the user confirms, agrees, says something affirmative, or expresses consent in any similar way.)\\\\n- false (if the user expresses the opposite, does not approve, disagrees, or shows any similar response.)\", \"type\": \"string\"},\\n{\"name\": \"hospital_name\", \"desc\": \"Identify the name of the hospital, place or facility of Vinmec\", \"type\": \"string\"},\\n{\"name\": \"customer_dob\", \"desc\": \"Extract the user\\'s date of birth. Format DD-MM-YYYY. This value must be a date in the past.\", \"type\": \"string\"},\\n{\"name\": \"customer_place\", \"desc\": \"Province/City provided by the customer\", \"type\": \"string\"},\\n{\"name\": \"symptoms\", \"desc\": \"Identify and extract users\\' symptom information based on their messages\", \"type\": \"string\"},\\n{\"name\": \"relationship\", \"desc\": \"Relationship to the person booking the appointment\", \"type\": \"string\"},\\n{\"name\": \"appointment_date\", \"desc\": \"Medical appointment schedulling date based on the user\\'s messages. remember extract by following format: DD-MM-YYYY. This value must be a date in the future. \\\\nExample: 1999-04-24 -> 24-04-1999\", \"type\": \"string\"},\\n{\"name\": \"appointment_time\", \"desc\": \"Medical appointment schedulling time based on the user\\'s messages. The time frame will follow a 24-hour format and the time zone is GMT+7 follow this format: HH:mm\", \"type\": \"string\"}, {\"name\": \"cancel_num\", \"desc\": \"Identify number from the user\\'s message. The user may express them as words (one, two,...) or digits (1, 2,...) in Vietnamese. If the user provides words, convert them to digits. Accepted values range from 1 to 10.\", \"type\": \"string\"}]}'}   \n",
              "3  {'role': 'system', 'content': 'Extracts the relevant information from the passage.\\n{\"name\": \"information_extraction\", \"description\": \"Extracts the relevant information from the passage\",\\n\"arguments\": [{\"name\": \"customer_name\", \"desc\": \"Customer\\'s name\", \"type\": \"string\"},\\n{\"name\": \"customer_phone\", \"desc\": \"Customer\\'s phone number\", \"type\": \"string\"},\\n{\"name\": \"medical_department\", \"desc\": \"Medical department or service information.\", \"type\": \"string\"},\\n{\"name\": \"is_yes\", \"desc\": \"Can take two values:\\\\n- true (if the user confirms, agrees, says something affirmative, or expresses consent in any similar way.)\\\\n- false (if the user expresses the opposite, does not approve, disagrees, or shows any similar response.)\", \"type\": \"string\"},\\n{\"name\": \"hospital_name\", \"desc\": \"Identify the name of the hospital, place or facility of Vinmec\", \"type\": \"string\"},\\n{\"name\": \"customer_dob\", \"desc\": \"Extract the user\\'s date of birth. Format DD-MM-YYYY. This value must be a date in the past.\", \"type\": \"string\"},\\n{\"name\": \"customer_place\", \"desc\": \"Province/City provided by the customer\", \"type\": \"string\"},\\n{\"name\": \"symptoms\", \"desc\": \"Identify and extract users\\' symptom information based on their messages\", \"type\": \"string\"},\\n{\"name\": \"relationship\", \"desc\": \"Relationship to the person booking the appointment\", \"type\": \"string\"},\\n{\"name\": \"appointment_date\", \"desc\": \"Medical appointment schedulling date based on the user\\'s messages. remember extract by following format: DD-MM-YYYY. This value must be a date in the future. \\\\nExample: 1999-04-24 -> 24-04-1999\", \"type\": \"string\"},\\n{\"name\": \"appointment_time\", \"desc\": \"Medical appointment schedulling time based on the user\\'s messages. The time frame will follow a 24-hour format and the time zone is GMT+7 follow this format: HH:mm\", \"type\": \"string\"}, {\"name\": \"cancel_num\", \"desc\": \"Identify number from the user\\'s message. The user may express them as words (one, two,...) or digits (1, 2,...) in Vietnamese. If the user provides words, convert them to digits. Accepted values range from 1 to 10.\", \"type\": \"string\"}]}'}   \n",
              "4  {'role': 'system', 'content': 'Extracts the relevant information from the passage.\\n{\"name\": \"information_extraction\", \"description\": \"Extracts the relevant information from the passage\",\\n\"arguments\": [{\"name\": \"customer_name\", \"desc\": \"Customer\\'s name\", \"type\": \"string\"},\\n{\"name\": \"customer_phone\", \"desc\": \"Customer\\'s phone number\", \"type\": \"string\"},\\n{\"name\": \"medical_department\", \"desc\": \"Medical department or service information.\", \"type\": \"string\"},\\n{\"name\": \"is_yes\", \"desc\": \"Can take two values:\\\\n- true (if the user confirms, agrees, says something affirmative, or expresses consent in any similar way.)\\\\n- false (if the user expresses the opposite, does not approve, disagrees, or shows any similar response.)\", \"type\": \"string\"},\\n{\"name\": \"hospital_name\", \"desc\": \"Identify the name of the hospital, place or facility of Vinmec\", \"type\": \"string\"},\\n{\"name\": \"customer_dob\", \"desc\": \"Extract the user\\'s date of birth. Format DD-MM-YYYY. This value must be a date in the past.\", \"type\": \"string\"},\\n{\"name\": \"customer_place\", \"desc\": \"Province/City provided by the customer\", \"type\": \"string\"},\\n{\"name\": \"symptoms\", \"desc\": \"Identify and extract users\\' symptom information based on their messages\", \"type\": \"string\"},\\n{\"name\": \"relationship\", \"desc\": \"Relationship to the person booking the appointment\", \"type\": \"string\"},\\n{\"name\": \"appointment_date\", \"desc\": \"Medical appointment schedulling date based on the user\\'s messages. remember extract by following format: DD-MM-YYYY. This value must be a date in the future. \\\\nExample: 1999-04-24 -> 24-04-1999\", \"type\": \"string\"},\\n{\"name\": \"appointment_time\", \"desc\": \"Medical appointment schedulling time based on the user\\'s messages. The time frame will follow a 24-hour format and the time zone is GMT+7 follow this format: HH:mm\", \"type\": \"string\"}, {\"name\": \"cancel_num\", \"desc\": \"Identify number from the user\\'s message. The user may express them as words (one, two,...) or digits (1, 2,...) in Vietnamese. If the user provides words, convert them to digits. Accepted values range from 1 to 10.\", \"type\": \"string\"}]}'}   \n",
              "\n",
              "                                                                                                                         user  \\\n",
              "0                        {'role': 'user', 'content': 'Em muốn tìm hiểu các gói khám sức khỏe sdt em là 088 sáu năm 44 bảy67'}   \n",
              "1                 {'role': 'user', 'content': 'Gói sản phẩm bên mình có gì hot không ạ số mình 0390 không haibốnnăm năm một'}   \n",
              "2            {'role': 'user', 'content': 'Cho mình xin thông tin khuyến mãi đi số điện thoại mình là 037 50 7 5sáu chín hai'}   \n",
              "3  {'role': 'user', 'content': 'Bên mình có gói khám tổng quát nào không số điện thoại của tôi là 081chín 0bốn năm0babảybốn'}   \n",
              "4          {'role': 'user', 'content': 'Các gói dịch vụ hiện tại giá thế nào ạ số của mình là 094 chín bốn 8một nămsáu chín'}   \n",
              "\n",
              "                                                                                                                               assistant  \\\n",
              "0   {'role': 'assistant', 'content': \"<functioncall> {'name': 'information_extraction', 'arguments': {'customer_phone': '0886544767'}}\"}   \n",
              "1   {'role': 'assistant', 'content': \"<functioncall> {'name': 'information_extraction', 'arguments': {'customer_phone': '0390024551'}}\"}   \n",
              "2   {'role': 'assistant', 'content': \"<functioncall> {'name': 'information_extraction', 'arguments': {'customer_phone': '0375075692'}}\"}   \n",
              "3  {'role': 'assistant', 'content': \"<functioncall> {'name': 'information_extraction', 'arguments': {'customer_phone': '08190450374'}}\"}   \n",
              "4   {'role': 'assistant', 'content': \"<functioncall> {'name': 'information_extraction', 'arguments': {'customer_phone': '0949481569'}}\"}   \n",
              "\n",
              "                                                                                         query  \\\n",
              "0                        Em muốn tìm hiểu các gói khám sức khỏe sdt em là 088 sáu năm 44 bảy67   \n",
              "1                 Gói sản phẩm bên mình có gì hot không ạ số mình 0390 không haibốnnăm năm một   \n",
              "2            Cho mình xin thông tin khuyến mãi đi số điện thoại mình là 037 50 7 5sáu chín hai   \n",
              "3  Bên mình có gói khám tổng quát nào không số điện thoại của tôi là 081chín 0bốn năm0babảybốn   \n",
              "4          Các gói dịch vụ hiện tại giá thế nào ạ số của mình là 094 chín bốn 8một nămsáu chín   \n",
              "\n",
              "                                                                                                                        response  \\\n",
              "0                         Chào em, em vui lòng cung cấp đầy đủ số điện thoại để anh/chị hỗ trợ tư vấn các gói khám sức khỏe nhé.   \n",
              "1  Chào bạn, bạn vui lòng cho mình xin số điện thoại đầy đủ để mình có thể tư vấn chi tiết về các gói sản phẩm hot bên mình nhé.   \n",
              "2                                        Chào bạn, để nhận thông tin khuyến mãi, bạn vui lòng cung cấp đầy đủ số điện thoại nhé.   \n",
              "3                                    Chào bạn, bạn vui lòng cung cấp đầy đủ số điện thoại để mình tư vấn gói khám tổng quát nhé.   \n",
              "4                                  Chào bạn, mình cần số điện thoại đầy đủ của bạn để gửi bảng giá các gói dịch vụ hiện tại nhé.   \n",
              "\n",
              "   user1_number  \\\n",
              "0           886   \n",
              "1        390024   \n",
              "2          3750   \n",
              "3            81   \n",
              "4         94948   \n",
              "\n",
              "                                                                                                 args  \n",
              "0   <functioncall> {'name': 'information_extraction', 'arguments': {'customer_phone': '0886544767'}}\"  \n",
              "1   <functioncall> {'name': 'information_extraction', 'arguments': {'customer_phone': '0390024551'}}\"  \n",
              "2   <functioncall> {'name': 'information_extraction', 'arguments': {'customer_phone': '0375075692'}}\"  \n",
              "3  <functioncall> {'name': 'information_extraction', 'arguments': {'customer_phone': '08190450374'}}\"  \n",
              "4   <functioncall> {'name': 'information_extraction', 'arguments': {'customer_phone': '0949481569'}}\"  "
            ],
            "text/html": [
              "\n",
              "  <div id=\"df-b8990db1-a855-470d-ade9-4c440c39a1ce\" class=\"colab-df-container\">\n",
              "    <div>\n",
              "<style scoped>\n",
              "    .dataframe tbody tr th:only-of-type {\n",
              "        vertical-align: middle;\n",
              "    }\n",
              "\n",
              "    .dataframe tbody tr th {\n",
              "        vertical-align: top;\n",
              "    }\n",
              "\n",
              "    .dataframe thead th {\n",
              "        text-align: right;\n",
              "    }\n",
              "</style>\n",
              "<table border=\"1\" class=\"dataframe\">\n",
              "  <thead>\n",
              "    <tr style=\"text-align: right;\">\n",
              "      <th></th>\n",
              "      <th>Unnamed: 0</th>\n",
              "      <th>user1</th>\n",
              "      <th>user2</th>\n",
              "      <th>index</th>\n",
              "      <th>system</th>\n",
              "      <th>user</th>\n",
              "      <th>assistant</th>\n",
              "      <th>query</th>\n",
              "      <th>response</th>\n",
              "      <th>user1_number</th>\n",
              "      <th>args</th>\n",
              "    </tr>\n",
              "  </thead>\n",
              "  <tbody>\n",
              "    <tr>\n",
              "      <th>0</th>\n",
              "      <td>0</td>\n",
              "      <td>Em muốn tìm hiểu các gói khám sức khỏe sdt em là 088 sáu</td>\n",
              "      <td>năm 44 bảy 67</td>\n",
              "      <td>0</td>\n",
              "      <td>{'role': 'system', 'content': 'Extracts the relevant information from the passage.\\n{\"name\": \"information_extraction\", \"description\": \"Extracts the relevant information from the passage\",\\n\"arguments\": [{\"name\": \"customer_name\", \"desc\": \"Customer\\'s name\", \"type\": \"string\"},\\n{\"name\": \"customer_phone\", \"desc\": \"Customer\\'s phone number\", \"type\": \"string\"},\\n{\"name\": \"medical_department\", \"desc\": \"Medical department or service information.\", \"type\": \"string\"},\\n{\"name\": \"is_yes\", \"desc\": \"Can take two values:\\\\n- true (if the user confirms, agrees, says something affirmative, or expresses consent in any similar way.)\\\\n- false (if the user expresses the opposite, does not approve, disagrees, or shows any similar response.)\", \"type\": \"string\"},\\n{\"name\": \"hospital_name\", \"desc\": \"Identify the name of the hospital, place or facility of Vinmec\", \"type\": \"string\"},\\n{\"name\": \"customer_dob\", \"desc\": \"Extract the user\\'s date of birth. Format DD-MM-YYYY. This value must be a date in the past.\", \"type\": \"string\"},\\n{\"name\": \"customer_place\", \"desc\": \"Province/City provided by the customer\", \"type\": \"string\"},\\n{\"name\": \"symptoms\", \"desc\": \"Identify and extract users\\' symptom information based on their messages\", \"type\": \"string\"},\\n{\"name\": \"relationship\", \"desc\": \"Relationship to the person booking the appointment\", \"type\": \"string\"},\\n{\"name\": \"appointment_date\", \"desc\": \"Medical appointment schedulling date based on the user\\'s messages. remember extract by following format: DD-MM-YYYY. This value must be a date in the future. \\\\nExample: 1999-04-24 -&gt; 24-04-1999\", \"type\": \"string\"},\\n{\"name\": \"appointment_time\", \"desc\": \"Medical appointment schedulling time based on the user\\'s messages. The time frame will follow a 24-hour format and the time zone is GMT+7 follow this format: HH:mm\", \"type\": \"string\"}, {\"name\": \"cancel_num\", \"desc\": \"Identify number from the user\\'s message. The user may express them as words (one, two,...) or digits (1, 2,...) in Vietnamese. If the user provides words, convert them to digits. Accepted values range from 1 to 10.\", \"type\": \"string\"}]}'}</td>\n",
              "      <td>{'role': 'user', 'content': 'Em muốn tìm hiểu các gói khám sức khỏe sdt em là 088 sáu năm 44 bảy67'}</td>\n",
              "      <td>{'role': 'assistant', 'content': \"&lt;functioncall&gt; {'name': 'information_extraction', 'arguments': {'customer_phone': '0886544767'}}\"}</td>\n",
              "      <td>Em muốn tìm hiểu các gói khám sức khỏe sdt em là 088 sáu năm 44 bảy67</td>\n",
              "      <td>Chào em, em vui lòng cung cấp đầy đủ số điện thoại để anh/chị hỗ trợ tư vấn các gói khám sức khỏe nhé.</td>\n",
              "      <td>886</td>\n",
              "      <td>&lt;functioncall&gt; {'name': 'information_extraction', 'arguments': {'customer_phone': '0886544767'}}\"</td>\n",
              "    </tr>\n",
              "    <tr>\n",
              "      <th>1</th>\n",
              "      <td>1</td>\n",
              "      <td>Gói sản phẩm bên mình có gì hot không ạ số mình 0390 không hai bốn</td>\n",
              "      <td>năm năm một</td>\n",
              "      <td>1</td>\n",
              "      <td>{'role': 'system', 'content': 'Extracts the relevant information from the passage.\\n{\"name\": \"information_extraction\", \"description\": \"Extracts the relevant information from the passage\",\\n\"arguments\": [{\"name\": \"customer_name\", \"desc\": \"Customer\\'s name\", \"type\": \"string\"},\\n{\"name\": \"customer_phone\", \"desc\": \"Customer\\'s phone number\", \"type\": \"string\"},\\n{\"name\": \"medical_department\", \"desc\": \"Medical department or service information.\", \"type\": \"string\"},\\n{\"name\": \"is_yes\", \"desc\": \"Can take two values:\\\\n- true (if the user confirms, agrees, says something affirmative, or expresses consent in any similar way.)\\\\n- false (if the user expresses the opposite, does not approve, disagrees, or shows any similar response.)\", \"type\": \"string\"},\\n{\"name\": \"hospital_name\", \"desc\": \"Identify the name of the hospital, place or facility of Vinmec\", \"type\": \"string\"},\\n{\"name\": \"customer_dob\", \"desc\": \"Extract the user\\'s date of birth. Format DD-MM-YYYY. This value must be a date in the past.\", \"type\": \"string\"},\\n{\"name\": \"customer_place\", \"desc\": \"Province/City provided by the customer\", \"type\": \"string\"},\\n{\"name\": \"symptoms\", \"desc\": \"Identify and extract users\\' symptom information based on their messages\", \"type\": \"string\"},\\n{\"name\": \"relationship\", \"desc\": \"Relationship to the person booking the appointment\", \"type\": \"string\"},\\n{\"name\": \"appointment_date\", \"desc\": \"Medical appointment schedulling date based on the user\\'s messages. remember extract by following format: DD-MM-YYYY. This value must be a date in the future. \\\\nExample: 1999-04-24 -&gt; 24-04-1999\", \"type\": \"string\"},\\n{\"name\": \"appointment_time\", \"desc\": \"Medical appointment schedulling time based on the user\\'s messages. The time frame will follow a 24-hour format and the time zone is GMT+7 follow this format: HH:mm\", \"type\": \"string\"}, {\"name\": \"cancel_num\", \"desc\": \"Identify number from the user\\'s message. The user may express them as words (one, two,...) or digits (1, 2,...) in Vietnamese. If the user provides words, convert them to digits. Accepted values range from 1 to 10.\", \"type\": \"string\"}]}'}</td>\n",
              "      <td>{'role': 'user', 'content': 'Gói sản phẩm bên mình có gì hot không ạ số mình 0390 không haibốnnăm năm một'}</td>\n",
              "      <td>{'role': 'assistant', 'content': \"&lt;functioncall&gt; {'name': 'information_extraction', 'arguments': {'customer_phone': '0390024551'}}\"}</td>\n",
              "      <td>Gói sản phẩm bên mình có gì hot không ạ số mình 0390 không haibốnnăm năm một</td>\n",
              "      <td>Chào bạn, bạn vui lòng cho mình xin số điện thoại đầy đủ để mình có thể tư vấn chi tiết về các gói sản phẩm hot bên mình nhé.</td>\n",
              "      <td>390024</td>\n",
              "      <td>&lt;functioncall&gt; {'name': 'information_extraction', 'arguments': {'customer_phone': '0390024551'}}\"</td>\n",
              "    </tr>\n",
              "    <tr>\n",
              "      <th>2</th>\n",
              "      <td>2</td>\n",
              "      <td>Cho mình xin thông tin khuyến mãi đi số điện thoại mình là 037 50</td>\n",
              "      <td>7 5 sáu chín hai</td>\n",
              "      <td>2</td>\n",
              "      <td>{'role': 'system', 'content': 'Extracts the relevant information from the passage.\\n{\"name\": \"information_extraction\", \"description\": \"Extracts the relevant information from the passage\",\\n\"arguments\": [{\"name\": \"customer_name\", \"desc\": \"Customer\\'s name\", \"type\": \"string\"},\\n{\"name\": \"customer_phone\", \"desc\": \"Customer\\'s phone number\", \"type\": \"string\"},\\n{\"name\": \"medical_department\", \"desc\": \"Medical department or service information.\", \"type\": \"string\"},\\n{\"name\": \"is_yes\", \"desc\": \"Can take two values:\\\\n- true (if the user confirms, agrees, says something affirmative, or expresses consent in any similar way.)\\\\n- false (if the user expresses the opposite, does not approve, disagrees, or shows any similar response.)\", \"type\": \"string\"},\\n{\"name\": \"hospital_name\", \"desc\": \"Identify the name of the hospital, place or facility of Vinmec\", \"type\": \"string\"},\\n{\"name\": \"customer_dob\", \"desc\": \"Extract the user\\'s date of birth. Format DD-MM-YYYY. This value must be a date in the past.\", \"type\": \"string\"},\\n{\"name\": \"customer_place\", \"desc\": \"Province/City provided by the customer\", \"type\": \"string\"},\\n{\"name\": \"symptoms\", \"desc\": \"Identify and extract users\\' symptom information based on their messages\", \"type\": \"string\"},\\n{\"name\": \"relationship\", \"desc\": \"Relationship to the person booking the appointment\", \"type\": \"string\"},\\n{\"name\": \"appointment_date\", \"desc\": \"Medical appointment schedulling date based on the user\\'s messages. remember extract by following format: DD-MM-YYYY. This value must be a date in the future. \\\\nExample: 1999-04-24 -&gt; 24-04-1999\", \"type\": \"string\"},\\n{\"name\": \"appointment_time\", \"desc\": \"Medical appointment schedulling time based on the user\\'s messages. The time frame will follow a 24-hour format and the time zone is GMT+7 follow this format: HH:mm\", \"type\": \"string\"}, {\"name\": \"cancel_num\", \"desc\": \"Identify number from the user\\'s message. The user may express them as words (one, two,...) or digits (1, 2,...) in Vietnamese. If the user provides words, convert them to digits. Accepted values range from 1 to 10.\", \"type\": \"string\"}]}'}</td>\n",
              "      <td>{'role': 'user', 'content': 'Cho mình xin thông tin khuyến mãi đi số điện thoại mình là 037 50 7 5sáu chín hai'}</td>\n",
              "      <td>{'role': 'assistant', 'content': \"&lt;functioncall&gt; {'name': 'information_extraction', 'arguments': {'customer_phone': '0375075692'}}\"}</td>\n",
              "      <td>Cho mình xin thông tin khuyến mãi đi số điện thoại mình là 037 50 7 5sáu chín hai</td>\n",
              "      <td>Chào bạn, để nhận thông tin khuyến mãi, bạn vui lòng cung cấp đầy đủ số điện thoại nhé.</td>\n",
              "      <td>3750</td>\n",
              "      <td>&lt;functioncall&gt; {'name': 'information_extraction', 'arguments': {'customer_phone': '0375075692'}}\"</td>\n",
              "    </tr>\n",
              "    <tr>\n",
              "      <th>3</th>\n",
              "      <td>3</td>\n",
              "      <td>Bên mình có gói khám tổng quát nào không số điện thoại của tôi là 081</td>\n",
              "      <td>chín 0 bốn năm 0 ba bảy bốn</td>\n",
              "      <td>3</td>\n",
              "      <td>{'role': 'system', 'content': 'Extracts the relevant information from the passage.\\n{\"name\": \"information_extraction\", \"description\": \"Extracts the relevant information from the passage\",\\n\"arguments\": [{\"name\": \"customer_name\", \"desc\": \"Customer\\'s name\", \"type\": \"string\"},\\n{\"name\": \"customer_phone\", \"desc\": \"Customer\\'s phone number\", \"type\": \"string\"},\\n{\"name\": \"medical_department\", \"desc\": \"Medical department or service information.\", \"type\": \"string\"},\\n{\"name\": \"is_yes\", \"desc\": \"Can take two values:\\\\n- true (if the user confirms, agrees, says something affirmative, or expresses consent in any similar way.)\\\\n- false (if the user expresses the opposite, does not approve, disagrees, or shows any similar response.)\", \"type\": \"string\"},\\n{\"name\": \"hospital_name\", \"desc\": \"Identify the name of the hospital, place or facility of Vinmec\", \"type\": \"string\"},\\n{\"name\": \"customer_dob\", \"desc\": \"Extract the user\\'s date of birth. Format DD-MM-YYYY. This value must be a date in the past.\", \"type\": \"string\"},\\n{\"name\": \"customer_place\", \"desc\": \"Province/City provided by the customer\", \"type\": \"string\"},\\n{\"name\": \"symptoms\", \"desc\": \"Identify and extract users\\' symptom information based on their messages\", \"type\": \"string\"},\\n{\"name\": \"relationship\", \"desc\": \"Relationship to the person booking the appointment\", \"type\": \"string\"},\\n{\"name\": \"appointment_date\", \"desc\": \"Medical appointment schedulling date based on the user\\'s messages. remember extract by following format: DD-MM-YYYY. This value must be a date in the future. \\\\nExample: 1999-04-24 -&gt; 24-04-1999\", \"type\": \"string\"},\\n{\"name\": \"appointment_time\", \"desc\": \"Medical appointment schedulling time based on the user\\'s messages. The time frame will follow a 24-hour format and the time zone is GMT+7 follow this format: HH:mm\", \"type\": \"string\"}, {\"name\": \"cancel_num\", \"desc\": \"Identify number from the user\\'s message. The user may express them as words (one, two,...) or digits (1, 2,...) in Vietnamese. If the user provides words, convert them to digits. Accepted values range from 1 to 10.\", \"type\": \"string\"}]}'}</td>\n",
              "      <td>{'role': 'user', 'content': 'Bên mình có gói khám tổng quát nào không số điện thoại của tôi là 081chín 0bốn năm0babảybốn'}</td>\n",
              "      <td>{'role': 'assistant', 'content': \"&lt;functioncall&gt; {'name': 'information_extraction', 'arguments': {'customer_phone': '08190450374'}}\"}</td>\n",
              "      <td>Bên mình có gói khám tổng quát nào không số điện thoại của tôi là 081chín 0bốn năm0babảybốn</td>\n",
              "      <td>Chào bạn, bạn vui lòng cung cấp đầy đủ số điện thoại để mình tư vấn gói khám tổng quát nhé.</td>\n",
              "      <td>81</td>\n",
              "      <td>&lt;functioncall&gt; {'name': 'information_extraction', 'arguments': {'customer_phone': '08190450374'}}\"</td>\n",
              "    </tr>\n",
              "    <tr>\n",
              "      <th>4</th>\n",
              "      <td>4</td>\n",
              "      <td>Các gói dịch vụ hiện tại giá thế nào ạ số của mình là 094 chín bốn 8</td>\n",
              "      <td>một năm sáu chín</td>\n",
              "      <td>4</td>\n",
              "      <td>{'role': 'system', 'content': 'Extracts the relevant information from the passage.\\n{\"name\": \"information_extraction\", \"description\": \"Extracts the relevant information from the passage\",\\n\"arguments\": [{\"name\": \"customer_name\", \"desc\": \"Customer\\'s name\", \"type\": \"string\"},\\n{\"name\": \"customer_phone\", \"desc\": \"Customer\\'s phone number\", \"type\": \"string\"},\\n{\"name\": \"medical_department\", \"desc\": \"Medical department or service information.\", \"type\": \"string\"},\\n{\"name\": \"is_yes\", \"desc\": \"Can take two values:\\\\n- true (if the user confirms, agrees, says something affirmative, or expresses consent in any similar way.)\\\\n- false (if the user expresses the opposite, does not approve, disagrees, or shows any similar response.)\", \"type\": \"string\"},\\n{\"name\": \"hospital_name\", \"desc\": \"Identify the name of the hospital, place or facility of Vinmec\", \"type\": \"string\"},\\n{\"name\": \"customer_dob\", \"desc\": \"Extract the user\\'s date of birth. Format DD-MM-YYYY. This value must be a date in the past.\", \"type\": \"string\"},\\n{\"name\": \"customer_place\", \"desc\": \"Province/City provided by the customer\", \"type\": \"string\"},\\n{\"name\": \"symptoms\", \"desc\": \"Identify and extract users\\' symptom information based on their messages\", \"type\": \"string\"},\\n{\"name\": \"relationship\", \"desc\": \"Relationship to the person booking the appointment\", \"type\": \"string\"},\\n{\"name\": \"appointment_date\", \"desc\": \"Medical appointment schedulling date based on the user\\'s messages. remember extract by following format: DD-MM-YYYY. This value must be a date in the future. \\\\nExample: 1999-04-24 -&gt; 24-04-1999\", \"type\": \"string\"},\\n{\"name\": \"appointment_time\", \"desc\": \"Medical appointment schedulling time based on the user\\'s messages. The time frame will follow a 24-hour format and the time zone is GMT+7 follow this format: HH:mm\", \"type\": \"string\"}, {\"name\": \"cancel_num\", \"desc\": \"Identify number from the user\\'s message. The user may express them as words (one, two,...) or digits (1, 2,...) in Vietnamese. If the user provides words, convert them to digits. Accepted values range from 1 to 10.\", \"type\": \"string\"}]}'}</td>\n",
              "      <td>{'role': 'user', 'content': 'Các gói dịch vụ hiện tại giá thế nào ạ số của mình là 094 chín bốn 8một nămsáu chín'}</td>\n",
              "      <td>{'role': 'assistant', 'content': \"&lt;functioncall&gt; {'name': 'information_extraction', 'arguments': {'customer_phone': '0949481569'}}\"}</td>\n",
              "      <td>Các gói dịch vụ hiện tại giá thế nào ạ số của mình là 094 chín bốn 8một nămsáu chín</td>\n",
              "      <td>Chào bạn, mình cần số điện thoại đầy đủ của bạn để gửi bảng giá các gói dịch vụ hiện tại nhé.</td>\n",
              "      <td>94948</td>\n",
              "      <td>&lt;functioncall&gt; {'name': 'information_extraction', 'arguments': {'customer_phone': '0949481569'}}\"</td>\n",
              "    </tr>\n",
              "  </tbody>\n",
              "</table>\n",
              "</div>\n",
              "    <div class=\"colab-df-buttons\">\n",
              "\n",
              "  <div class=\"colab-df-container\">\n",
              "    <button class=\"colab-df-convert\" onclick=\"convertToInteractive('df-b8990db1-a855-470d-ade9-4c440c39a1ce')\"\n",
              "            title=\"Convert this dataframe to an interactive table.\"\n",
              "            style=\"display:none;\">\n",
              "\n",
              "  <svg xmlns=\"http://www.w3.org/2000/svg\" height=\"24px\" viewBox=\"0 -960 960 960\">\n",
              "    <path d=\"M120-120v-720h720v720H120Zm60-500h600v-160H180v160Zm220 220h160v-160H400v160Zm0 220h160v-160H400v160ZM180-400h160v-160H180v160Zm440 0h160v-160H620v160ZM180-180h160v-160H180v160Zm440 0h160v-160H620v160Z\"/>\n",
              "  </svg>\n",
              "    </button>\n",
              "\n",
              "  <style>\n",
              "    .colab-df-container {\n",
              "      display:flex;\n",
              "      gap: 12px;\n",
              "    }\n",
              "\n",
              "    .colab-df-convert {\n",
              "      background-color: #E8F0FE;\n",
              "      border: none;\n",
              "      border-radius: 50%;\n",
              "      cursor: pointer;\n",
              "      display: none;\n",
              "      fill: #1967D2;\n",
              "      height: 32px;\n",
              "      padding: 0 0 0 0;\n",
              "      width: 32px;\n",
              "    }\n",
              "\n",
              "    .colab-df-convert:hover {\n",
              "      background-color: #E2EBFA;\n",
              "      box-shadow: 0px 1px 2px rgba(60, 64, 67, 0.3), 0px 1px 3px 1px rgba(60, 64, 67, 0.15);\n",
              "      fill: #174EA6;\n",
              "    }\n",
              "\n",
              "    .colab-df-buttons div {\n",
              "      margin-bottom: 4px;\n",
              "    }\n",
              "\n",
              "    [theme=dark] .colab-df-convert {\n",
              "      background-color: #3B4455;\n",
              "      fill: #D2E3FC;\n",
              "    }\n",
              "\n",
              "    [theme=dark] .colab-df-convert:hover {\n",
              "      background-color: #434B5C;\n",
              "      box-shadow: 0px 1px 3px 1px rgba(0, 0, 0, 0.15);\n",
              "      filter: drop-shadow(0px 1px 2px rgba(0, 0, 0, 0.3));\n",
              "      fill: #FFFFFF;\n",
              "    }\n",
              "  </style>\n",
              "\n",
              "    <script>\n",
              "      const buttonEl =\n",
              "        document.querySelector('#df-b8990db1-a855-470d-ade9-4c440c39a1ce button.colab-df-convert');\n",
              "      buttonEl.style.display =\n",
              "        google.colab.kernel.accessAllowed ? 'block' : 'none';\n",
              "\n",
              "      async function convertToInteractive(key) {\n",
              "        const element = document.querySelector('#df-b8990db1-a855-470d-ade9-4c440c39a1ce');\n",
              "        const dataTable =\n",
              "          await google.colab.kernel.invokeFunction('convertToInteractive',\n",
              "                                                    [key], {});\n",
              "        if (!dataTable) return;\n",
              "\n",
              "        const docLinkHtml = 'Like what you see? Visit the ' +\n",
              "          '<a target=\"_blank\" href=https://colab.research.google.com/notebooks/data_table.ipynb>data table notebook</a>'\n",
              "          + ' to learn more about interactive tables.';\n",
              "        element.innerHTML = '';\n",
              "        dataTable['output_type'] = 'display_data';\n",
              "        await google.colab.output.renderOutput(dataTable, element);\n",
              "        const docLink = document.createElement('div');\n",
              "        docLink.innerHTML = docLinkHtml;\n",
              "        element.appendChild(docLink);\n",
              "      }\n",
              "    </script>\n",
              "  </div>\n",
              "\n",
              "\n",
              "    <div id=\"df-dad7b8ed-2d91-4871-9037-3b62082a4c42\">\n",
              "      <button class=\"colab-df-quickchart\" onclick=\"quickchart('df-dad7b8ed-2d91-4871-9037-3b62082a4c42')\"\n",
              "                title=\"Suggest charts\"\n",
              "                style=\"display:none;\">\n",
              "\n",
              "<svg xmlns=\"http://www.w3.org/2000/svg\" height=\"24px\"viewBox=\"0 0 24 24\"\n",
              "     width=\"24px\">\n",
              "    <g>\n",
              "        <path d=\"M19 3H5c-1.1 0-2 .9-2 2v14c0 1.1.9 2 2 2h14c1.1 0 2-.9 2-2V5c0-1.1-.9-2-2-2zM9 17H7v-7h2v7zm4 0h-2V7h2v10zm4 0h-2v-4h2v4z\"/>\n",
              "    </g>\n",
              "</svg>\n",
              "      </button>\n",
              "\n",
              "<style>\n",
              "  .colab-df-quickchart {\n",
              "      --bg-color: #E8F0FE;\n",
              "      --fill-color: #1967D2;\n",
              "      --hover-bg-color: #E2EBFA;\n",
              "      --hover-fill-color: #174EA6;\n",
              "      --disabled-fill-color: #AAA;\n",
              "      --disabled-bg-color: #DDD;\n",
              "  }\n",
              "\n",
              "  [theme=dark] .colab-df-quickchart {\n",
              "      --bg-color: #3B4455;\n",
              "      --fill-color: #D2E3FC;\n",
              "      --hover-bg-color: #434B5C;\n",
              "      --hover-fill-color: #FFFFFF;\n",
              "      --disabled-bg-color: #3B4455;\n",
              "      --disabled-fill-color: #666;\n",
              "  }\n",
              "\n",
              "  .colab-df-quickchart {\n",
              "    background-color: var(--bg-color);\n",
              "    border: none;\n",
              "    border-radius: 50%;\n",
              "    cursor: pointer;\n",
              "    display: none;\n",
              "    fill: var(--fill-color);\n",
              "    height: 32px;\n",
              "    padding: 0;\n",
              "    width: 32px;\n",
              "  }\n",
              "\n",
              "  .colab-df-quickchart:hover {\n",
              "    background-color: var(--hover-bg-color);\n",
              "    box-shadow: 0 1px 2px rgba(60, 64, 67, 0.3), 0 1px 3px 1px rgba(60, 64, 67, 0.15);\n",
              "    fill: var(--button-hover-fill-color);\n",
              "  }\n",
              "\n",
              "  .colab-df-quickchart-complete:disabled,\n",
              "  .colab-df-quickchart-complete:disabled:hover {\n",
              "    background-color: var(--disabled-bg-color);\n",
              "    fill: var(--disabled-fill-color);\n",
              "    box-shadow: none;\n",
              "  }\n",
              "\n",
              "  .colab-df-spinner {\n",
              "    border: 2px solid var(--fill-color);\n",
              "    border-color: transparent;\n",
              "    border-bottom-color: var(--fill-color);\n",
              "    animation:\n",
              "      spin 1s steps(1) infinite;\n",
              "  }\n",
              "\n",
              "  @keyframes spin {\n",
              "    0% {\n",
              "      border-color: transparent;\n",
              "      border-bottom-color: var(--fill-color);\n",
              "      border-left-color: var(--fill-color);\n",
              "    }\n",
              "    20% {\n",
              "      border-color: transparent;\n",
              "      border-left-color: var(--fill-color);\n",
              "      border-top-color: var(--fill-color);\n",
              "    }\n",
              "    30% {\n",
              "      border-color: transparent;\n",
              "      border-left-color: var(--fill-color);\n",
              "      border-top-color: var(--fill-color);\n",
              "      border-right-color: var(--fill-color);\n",
              "    }\n",
              "    40% {\n",
              "      border-color: transparent;\n",
              "      border-right-color: var(--fill-color);\n",
              "      border-top-color: var(--fill-color);\n",
              "    }\n",
              "    60% {\n",
              "      border-color: transparent;\n",
              "      border-right-color: var(--fill-color);\n",
              "    }\n",
              "    80% {\n",
              "      border-color: transparent;\n",
              "      border-right-color: var(--fill-color);\n",
              "      border-bottom-color: var(--fill-color);\n",
              "    }\n",
              "    90% {\n",
              "      border-color: transparent;\n",
              "      border-bottom-color: var(--fill-color);\n",
              "    }\n",
              "  }\n",
              "</style>\n",
              "\n",
              "      <script>\n",
              "        async function quickchart(key) {\n",
              "          const quickchartButtonEl =\n",
              "            document.querySelector('#' + key + ' button');\n",
              "          quickchartButtonEl.disabled = true;  // To prevent multiple clicks.\n",
              "          quickchartButtonEl.classList.add('colab-df-spinner');\n",
              "          try {\n",
              "            const charts = await google.colab.kernel.invokeFunction(\n",
              "                'suggestCharts', [key], {});\n",
              "          } catch (error) {\n",
              "            console.error('Error during call to suggestCharts:', error);\n",
              "          }\n",
              "          quickchartButtonEl.classList.remove('colab-df-spinner');\n",
              "          quickchartButtonEl.classList.add('colab-df-quickchart-complete');\n",
              "        }\n",
              "        (() => {\n",
              "          let quickchartButtonEl =\n",
              "            document.querySelector('#df-dad7b8ed-2d91-4871-9037-3b62082a4c42 button');\n",
              "          quickchartButtonEl.style.display =\n",
              "            google.colab.kernel.accessAllowed ? 'block' : 'none';\n",
              "        })();\n",
              "      </script>\n",
              "    </div>\n",
              "\n",
              "    </div>\n",
              "  </div>\n"
            ],
            "application/vnd.google.colaboratory.intrinsic+json": {
              "type": "dataframe",
              "variable_name": "df",
              "summary": "{\n  \"name\": \"df\",\n  \"rows\": 5454,\n  \"fields\": [\n    {\n      \"column\": \"Unnamed: 0\",\n      \"properties\": {\n        \"dtype\": \"number\",\n        \"std\": 1578,\n        \"min\": 0,\n        \"max\": 5466,\n        \"num_unique_values\": 5454,\n        \"samples\": [\n          5156,\n          4706,\n          4750\n        ],\n        \"semantic_type\": \"\",\n        \"description\": \"\"\n      }\n    },\n    {\n      \"column\": \"user1\",\n      \"properties\": {\n        \"dtype\": \"string\",\n        \"num_unique_values\": 5386,\n        \"samples\": [\n          \"s\\u1ed1 a 08450731\",\n          \"V\\u00e2ng \\u1ea1 sdt c\\u1ee7a m\\u00ecnh l\\u00e0 058 n\\u0103m 6\",\n          \"Sdt 099440247\"\n        ],\n        \"semantic_type\": \"\",\n        \"description\": \"\"\n      }\n    },\n    {\n      \"column\": \"user2\",\n      \"properties\": {\n        \"dtype\": \"string\",\n        \"num_unique_values\": 5257,\n        \"samples\": [\n          \"4553501\",\n          \"8 s\\u00e1u b\\u1ed1n 3 n\\u0103m\",\n          \"3707, c\\u1ea7n kh\\u00e1m t\\u1ed5ng qu\\u00e1t\"\n        ],\n        \"semantic_type\": \"\",\n        \"description\": \"\"\n      }\n    },\n    {\n      \"column\": \"index\",\n      \"properties\": {\n        \"dtype\": \"number\",\n        \"std\": 853,\n        \"min\": 0,\n        \"max\": 2999,\n        \"num_unique_values\": 2999,\n        \"samples\": [\n          1679,\n          1034,\n          144\n        ],\n        \"semantic_type\": \"\",\n        \"description\": \"\"\n      }\n    },\n    {\n      \"column\": \"system\",\n      \"properties\": {\n        \"dtype\": \"category\",\n        \"num_unique_values\": 1,\n        \"samples\": [\n          \"{'role': 'system', 'content': 'Extracts the relevant information from the passage.\\\\n{\\\"name\\\": \\\"information_extraction\\\", \\\"description\\\": \\\"Extracts the relevant information from the passage\\\",\\\\n\\\"arguments\\\": [{\\\"name\\\": \\\"customer_name\\\", \\\"desc\\\": \\\"Customer\\\\'s name\\\", \\\"type\\\": \\\"string\\\"},\\\\n{\\\"name\\\": \\\"customer_phone\\\", \\\"desc\\\": \\\"Customer\\\\'s phone number\\\", \\\"type\\\": \\\"string\\\"},\\\\n{\\\"name\\\": \\\"medical_department\\\", \\\"desc\\\": \\\"Medical department or service information.\\\", \\\"type\\\": \\\"string\\\"},\\\\n{\\\"name\\\": \\\"is_yes\\\", \\\"desc\\\": \\\"Can take two values:\\\\\\\\n- true (if the user confirms, agrees, says something affirmative, or expresses consent in any similar way.)\\\\\\\\n- false (if the user expresses the opposite, does not approve, disagrees, or shows any similar response.)\\\", \\\"type\\\": \\\"string\\\"},\\\\n{\\\"name\\\": \\\"hospital_name\\\", \\\"desc\\\": \\\"Identify the name of the hospital, place or facility of Vinmec\\\", \\\"type\\\": \\\"string\\\"},\\\\n{\\\"name\\\": \\\"customer_dob\\\", \\\"desc\\\": \\\"Extract the user\\\\'s date of birth. Format DD-MM-YYYY. This value must be a date in the past.\\\", \\\"type\\\": \\\"string\\\"},\\\\n{\\\"name\\\": \\\"customer_place\\\", \\\"desc\\\": \\\"Province/City provided by the customer\\\", \\\"type\\\": \\\"string\\\"},\\\\n{\\\"name\\\": \\\"symptoms\\\", \\\"desc\\\": \\\"Identify and extract users\\\\' symptom information based on their messages\\\", \\\"type\\\": \\\"string\\\"},\\\\n{\\\"name\\\": \\\"relationship\\\", \\\"desc\\\": \\\"Relationship to the person booking the appointment\\\", \\\"type\\\": \\\"string\\\"},\\\\n{\\\"name\\\": \\\"appointment_date\\\", \\\"desc\\\": \\\"Medical appointment schedulling date based on the user\\\\'s messages. remember extract by following format: DD-MM-YYYY. This value must be a date in the future. \\\\\\\\nExample: 1999-04-24 -> 24-04-1999\\\", \\\"type\\\": \\\"string\\\"},\\\\n{\\\"name\\\": \\\"appointment_time\\\", \\\"desc\\\": \\\"Medical appointment schedulling time based on the user\\\\'s messages. The time frame will follow a 24-hour format and the time zone is GMT+7 follow this format: HH:mm\\\", \\\"type\\\": \\\"string\\\"}, {\\\"name\\\": \\\"cancel_num\\\", \\\"desc\\\": \\\"Identify number from the user\\\\'s message. The user may express them as words (one, two,...) or digits (1, 2,...) in Vietnamese. If the user provides words, convert them to digits. Accepted values range from 1 to 10.\\\", \\\"type\\\": \\\"string\\\"}]}'}\"\n        ],\n        \"semantic_type\": \"\",\n        \"description\": \"\"\n      }\n    },\n    {\n      \"column\": \"user\",\n      \"properties\": {\n        \"dtype\": \"string\",\n        \"num_unique_values\": 5450,\n        \"samples\": [\n          \"{'role': 'user', 'content': 'S\\u1ed1 anh 0772979827, si\\u00eau \\u00e2m nh\\u00e9'}\"\n        ],\n        \"semantic_type\": \"\",\n        \"description\": \"\"\n      }\n    },\n    {\n      \"column\": \"assistant\",\n      \"properties\": {\n        \"dtype\": \"string\",\n        \"num_unique_values\": 5157,\n        \"samples\": [\n          \"{'role': 'assistant', 'content': \\\"<functioncall> {'name': 'information_extraction', 'arguments': {'customer_name': 'H\\u01b0\\u1eddng', 'customer_phone': '0386965475'}}\\\"}\"\n        ],\n        \"semantic_type\": \"\",\n        \"description\": \"\"\n      }\n    },\n    {\n      \"column\": \"query\",\n      \"properties\": {\n        \"dtype\": \"string\",\n        \"num_unique_values\": 5450,\n        \"samples\": [\n          \"S\\u1ed1 anh 0772979827, si\\u00eau \\u00e2m nh\\u00e9\"\n        ],\n        \"semantic_type\": \"\",\n        \"description\": \"\"\n      }\n    },\n    {\n      \"column\": \"response\",\n      \"properties\": {\n        \"dtype\": \"string\",\n        \"num_unique_values\": 3390,\n        \"samples\": [\n          \"Ch\\u00e0o em, em vui l\\u00f2ng cung c\\u1ea5p \\u0111\\u1ea7y \\u0111\\u1ee7 s\\u1ed1 \\u0111i\\u1ec7n tho\\u1ea1i \\u0111\\u1ec3 anh/ch\\u1ecb h\\u1ecfi v\\u1ec1 c\\u00e1c g\\u00f3i kh\\u00e1m tr\\u01b0\\u1edbc khi k\\u1ebft h\\u00f4n nh\\u00e9.\"\n        ],\n        \"semantic_type\": \"\",\n        \"description\": \"\"\n      }\n    },\n    {\n      \"column\": \"user1_number\",\n      \"properties\": {\n        \"dtype\": \"number\",\n        \"std\": 117465226251,\n        \"min\": 0,\n        \"max\": 8450731342470,\n        \"num_unique_values\": 3669,\n        \"samples\": [\n          77130\n        ],\n        \"semantic_type\": \"\",\n        \"description\": \"\"\n      }\n    },\n    {\n      \"column\": \"args\",\n      \"properties\": {\n        \"dtype\": \"string\",\n        \"num_unique_values\": 5157,\n        \"samples\": [\n          \"<functioncall> {'name': 'information_extraction', 'arguments': {'customer_name': 'H\\u01b0\\u1eddng', 'customer_phone': '0386965475'}}\\\"\"\n        ],\n        \"semantic_type\": \"\",\n        \"description\": \"\"\n      }\n    }\n  ]\n}"
            }
          },
          "metadata": {},
          "execution_count": 49
        }
      ]
    },
    {
      "cell_type": "code",
      "source": [
        "# prompt: chuyển kiểu dữ liệu cột user1_number thành dạng string và thêm '0' vào đầu chuỗi\n",
        "\n",
        "import pandas as pd\n",
        "# Since the previous code block modifies df significantly, let's assume we are starting with the original df loaded from df.csv\n",
        "df = pd.read_csv('df.csv')\n",
        "\n",
        "# Convert 'user1_number' to string, remove '.0' if it exists, and add a '0' at the beginning\n",
        "# Handle potential NaN values by filling them with an empty string before processing\n",
        "df['user1_number'] = df['user1_number'].fillna('').astype(str).str.replace(r'\\.0$', '', regex=True)\n",
        "df['user1_number'] = '0' + df['user1_number']"
      ],
      "metadata": {
        "id": "15q6kF_JzD_S"
      },
      "execution_count": null,
      "outputs": []
    },
    {
      "cell_type": "code",
      "source": [
        "df.head(1)"
      ],
      "metadata": {
        "colab": {
          "base_uri": "https://localhost:8080/",
          "height": 671
        },
        "id": "9Z9GWoaW0WQl",
        "outputId": "54383ea2-5a42-438d-e8a2-3718b08717ea"
      },
      "execution_count": null,
      "outputs": [
        {
          "output_type": "execute_result",
          "data": {
            "text/plain": [
              "   Unnamed: 0.1  Unnamed: 0  \\\n",
              "0             0           0   \n",
              "\n",
              "                                                      user1          user2  \\\n",
              "0  Em muốn tìm hiểu các gói khám sức khỏe sdt em là 088 sáu  năm 44 bảy 67   \n",
              "\n",
              "   index  \\\n",
              "0      0   \n",
              "\n",
              "                                                                                                                                                                                                                                                                                                                                                                                                                                                                                                                                                                                                                                                                                                                                                                                                                                                                                                                                                                                                                                                                                                                                                                                                                                                                                                                                                                                                                                                                                                                                                                                                                                                                                                                                                                                                                                                                                                                                                                                                                                                                                                                                                                                    system  \\\n",
              "0  {'role': 'system', 'content': 'Extracts the relevant information from the passage.\\n{\"name\": \"information_extraction\", \"description\": \"Extracts the relevant information from the passage\",\\n\"arguments\": [{\"name\": \"customer_name\", \"desc\": \"Customer\\'s name\", \"type\": \"string\"},\\n{\"name\": \"customer_phone\", \"desc\": \"Customer\\'s phone number\", \"type\": \"string\"},\\n{\"name\": \"medical_department\", \"desc\": \"Medical department or service information.\", \"type\": \"string\"},\\n{\"name\": \"is_yes\", \"desc\": \"Can take two values:\\\\n- true (if the user confirms, agrees, says something affirmative, or expresses consent in any similar way.)\\\\n- false (if the user expresses the opposite, does not approve, disagrees, or shows any similar response.)\", \"type\": \"string\"},\\n{\"name\": \"hospital_name\", \"desc\": \"Identify the name of the hospital, place or facility of Vinmec\", \"type\": \"string\"},\\n{\"name\": \"customer_dob\", \"desc\": \"Extract the user\\'s date of birth. Format DD-MM-YYYY. This value must be a date in the past.\", \"type\": \"string\"},\\n{\"name\": \"customer_place\", \"desc\": \"Province/City provided by the customer\", \"type\": \"string\"},\\n{\"name\": \"symptoms\", \"desc\": \"Identify and extract users\\' symptom information based on their messages\", \"type\": \"string\"},\\n{\"name\": \"relationship\", \"desc\": \"Relationship to the person booking the appointment\", \"type\": \"string\"},\\n{\"name\": \"appointment_date\", \"desc\": \"Medical appointment schedulling date based on the user\\'s messages. remember extract by following format: DD-MM-YYYY. This value must be a date in the future. \\\\nExample: 1999-04-24 -> 24-04-1999\", \"type\": \"string\"},\\n{\"name\": \"appointment_time\", \"desc\": \"Medical appointment schedulling time based on the user\\'s messages. The time frame will follow a 24-hour format and the time zone is GMT+7 follow this format: HH:mm\", \"type\": \"string\"}, {\"name\": \"cancel_num\", \"desc\": \"Identify number from the user\\'s message. The user may express them as words (one, two,...) or digits (1, 2,...) in Vietnamese. If the user provides words, convert them to digits. Accepted values range from 1 to 10.\", \"type\": \"string\"}]}'}   \n",
              "\n",
              "                                                                                                   user  \\\n",
              "0  {'role': 'user', 'content': 'Em muốn tìm hiểu các gói khám sức khỏe sdt em là 088 sáu năm 44 bảy67'}   \n",
              "\n",
              "                                                                                                                              assistant  \\\n",
              "0  {'role': 'assistant', 'content': \"<functioncall> {'name': 'information_extraction', 'arguments': {'customer_phone': '0886544767'}}\"}   \n",
              "\n",
              "                                                                   query  \\\n",
              "0  Em muốn tìm hiểu các gói khám sức khỏe sdt em là 088 sáu năm 44 bảy67   \n",
              "\n",
              "                                                                                                 response  \\\n",
              "0  Chào em, em vui lòng cung cấp đầy đủ số điện thoại để anh/chị hỗ trợ tư vấn các gói khám sức khỏe nhé.   \n",
              "\n",
              "  user1_number  \\\n",
              "0         0886   \n",
              "\n",
              "                                                                                                args  \n",
              "0  <functioncall> {'name': 'information_extraction', 'arguments': {'customer_phone': '0886544767'}}\"  "
            ],
            "text/html": [
              "\n",
              "  <div id=\"df-a360e0e4-c8e2-4e04-ad51-e6cef1195e21\" class=\"colab-df-container\">\n",
              "    <div>\n",
              "<style scoped>\n",
              "    .dataframe tbody tr th:only-of-type {\n",
              "        vertical-align: middle;\n",
              "    }\n",
              "\n",
              "    .dataframe tbody tr th {\n",
              "        vertical-align: top;\n",
              "    }\n",
              "\n",
              "    .dataframe thead th {\n",
              "        text-align: right;\n",
              "    }\n",
              "</style>\n",
              "<table border=\"1\" class=\"dataframe\">\n",
              "  <thead>\n",
              "    <tr style=\"text-align: right;\">\n",
              "      <th></th>\n",
              "      <th>Unnamed: 0.1</th>\n",
              "      <th>Unnamed: 0</th>\n",
              "      <th>user1</th>\n",
              "      <th>user2</th>\n",
              "      <th>index</th>\n",
              "      <th>system</th>\n",
              "      <th>user</th>\n",
              "      <th>assistant</th>\n",
              "      <th>query</th>\n",
              "      <th>response</th>\n",
              "      <th>user1_number</th>\n",
              "      <th>args</th>\n",
              "    </tr>\n",
              "  </thead>\n",
              "  <tbody>\n",
              "    <tr>\n",
              "      <th>0</th>\n",
              "      <td>0</td>\n",
              "      <td>0</td>\n",
              "      <td>Em muốn tìm hiểu các gói khám sức khỏe sdt em là 088 sáu</td>\n",
              "      <td>năm 44 bảy 67</td>\n",
              "      <td>0</td>\n",
              "      <td>{'role': 'system', 'content': 'Extracts the relevant information from the passage.\\n{\"name\": \"information_extraction\", \"description\": \"Extracts the relevant information from the passage\",\\n\"arguments\": [{\"name\": \"customer_name\", \"desc\": \"Customer\\'s name\", \"type\": \"string\"},\\n{\"name\": \"customer_phone\", \"desc\": \"Customer\\'s phone number\", \"type\": \"string\"},\\n{\"name\": \"medical_department\", \"desc\": \"Medical department or service information.\", \"type\": \"string\"},\\n{\"name\": \"is_yes\", \"desc\": \"Can take two values:\\\\n- true (if the user confirms, agrees, says something affirmative, or expresses consent in any similar way.)\\\\n- false (if the user expresses the opposite, does not approve, disagrees, or shows any similar response.)\", \"type\": \"string\"},\\n{\"name\": \"hospital_name\", \"desc\": \"Identify the name of the hospital, place or facility of Vinmec\", \"type\": \"string\"},\\n{\"name\": \"customer_dob\", \"desc\": \"Extract the user\\'s date of birth. Format DD-MM-YYYY. This value must be a date in the past.\", \"type\": \"string\"},\\n{\"name\": \"customer_place\", \"desc\": \"Province/City provided by the customer\", \"type\": \"string\"},\\n{\"name\": \"symptoms\", \"desc\": \"Identify and extract users\\' symptom information based on their messages\", \"type\": \"string\"},\\n{\"name\": \"relationship\", \"desc\": \"Relationship to the person booking the appointment\", \"type\": \"string\"},\\n{\"name\": \"appointment_date\", \"desc\": \"Medical appointment schedulling date based on the user\\'s messages. remember extract by following format: DD-MM-YYYY. This value must be a date in the future. \\\\nExample: 1999-04-24 -&gt; 24-04-1999\", \"type\": \"string\"},\\n{\"name\": \"appointment_time\", \"desc\": \"Medical appointment schedulling time based on the user\\'s messages. The time frame will follow a 24-hour format and the time zone is GMT+7 follow this format: HH:mm\", \"type\": \"string\"}, {\"name\": \"cancel_num\", \"desc\": \"Identify number from the user\\'s message. The user may express them as words (one, two,...) or digits (1, 2,...) in Vietnamese. If the user provides words, convert them to digits. Accepted values range from 1 to 10.\", \"type\": \"string\"}]}'}</td>\n",
              "      <td>{'role': 'user', 'content': 'Em muốn tìm hiểu các gói khám sức khỏe sdt em là 088 sáu năm 44 bảy67'}</td>\n",
              "      <td>{'role': 'assistant', 'content': \"&lt;functioncall&gt; {'name': 'information_extraction', 'arguments': {'customer_phone': '0886544767'}}\"}</td>\n",
              "      <td>Em muốn tìm hiểu các gói khám sức khỏe sdt em là 088 sáu năm 44 bảy67</td>\n",
              "      <td>Chào em, em vui lòng cung cấp đầy đủ số điện thoại để anh/chị hỗ trợ tư vấn các gói khám sức khỏe nhé.</td>\n",
              "      <td>0886</td>\n",
              "      <td>&lt;functioncall&gt; {'name': 'information_extraction', 'arguments': {'customer_phone': '0886544767'}}\"</td>\n",
              "    </tr>\n",
              "  </tbody>\n",
              "</table>\n",
              "</div>\n",
              "    <div class=\"colab-df-buttons\">\n",
              "\n",
              "  <div class=\"colab-df-container\">\n",
              "    <button class=\"colab-df-convert\" onclick=\"convertToInteractive('df-a360e0e4-c8e2-4e04-ad51-e6cef1195e21')\"\n",
              "            title=\"Convert this dataframe to an interactive table.\"\n",
              "            style=\"display:none;\">\n",
              "\n",
              "  <svg xmlns=\"http://www.w3.org/2000/svg\" height=\"24px\" viewBox=\"0 -960 960 960\">\n",
              "    <path d=\"M120-120v-720h720v720H120Zm60-500h600v-160H180v160Zm220 220h160v-160H400v160Zm0 220h160v-160H400v160ZM180-400h160v-160H180v160Zm440 0h160v-160H620v160ZM180-180h160v-160H180v160Zm440 0h160v-160H620v160Z\"/>\n",
              "  </svg>\n",
              "    </button>\n",
              "\n",
              "  <style>\n",
              "    .colab-df-container {\n",
              "      display:flex;\n",
              "      gap: 12px;\n",
              "    }\n",
              "\n",
              "    .colab-df-convert {\n",
              "      background-color: #E8F0FE;\n",
              "      border: none;\n",
              "      border-radius: 50%;\n",
              "      cursor: pointer;\n",
              "      display: none;\n",
              "      fill: #1967D2;\n",
              "      height: 32px;\n",
              "      padding: 0 0 0 0;\n",
              "      width: 32px;\n",
              "    }\n",
              "\n",
              "    .colab-df-convert:hover {\n",
              "      background-color: #E2EBFA;\n",
              "      box-shadow: 0px 1px 2px rgba(60, 64, 67, 0.3), 0px 1px 3px 1px rgba(60, 64, 67, 0.15);\n",
              "      fill: #174EA6;\n",
              "    }\n",
              "\n",
              "    .colab-df-buttons div {\n",
              "      margin-bottom: 4px;\n",
              "    }\n",
              "\n",
              "    [theme=dark] .colab-df-convert {\n",
              "      background-color: #3B4455;\n",
              "      fill: #D2E3FC;\n",
              "    }\n",
              "\n",
              "    [theme=dark] .colab-df-convert:hover {\n",
              "      background-color: #434B5C;\n",
              "      box-shadow: 0px 1px 3px 1px rgba(0, 0, 0, 0.15);\n",
              "      filter: drop-shadow(0px 1px 2px rgba(0, 0, 0, 0.3));\n",
              "      fill: #FFFFFF;\n",
              "    }\n",
              "  </style>\n",
              "\n",
              "    <script>\n",
              "      const buttonEl =\n",
              "        document.querySelector('#df-a360e0e4-c8e2-4e04-ad51-e6cef1195e21 button.colab-df-convert');\n",
              "      buttonEl.style.display =\n",
              "        google.colab.kernel.accessAllowed ? 'block' : 'none';\n",
              "\n",
              "      async function convertToInteractive(key) {\n",
              "        const element = document.querySelector('#df-a360e0e4-c8e2-4e04-ad51-e6cef1195e21');\n",
              "        const dataTable =\n",
              "          await google.colab.kernel.invokeFunction('convertToInteractive',\n",
              "                                                    [key], {});\n",
              "        if (!dataTable) return;\n",
              "\n",
              "        const docLinkHtml = 'Like what you see? Visit the ' +\n",
              "          '<a target=\"_blank\" href=https://colab.research.google.com/notebooks/data_table.ipynb>data table notebook</a>'\n",
              "          + ' to learn more about interactive tables.';\n",
              "        element.innerHTML = '';\n",
              "        dataTable['output_type'] = 'display_data';\n",
              "        await google.colab.output.renderOutput(dataTable, element);\n",
              "        const docLink = document.createElement('div');\n",
              "        docLink.innerHTML = docLinkHtml;\n",
              "        element.appendChild(docLink);\n",
              "      }\n",
              "    </script>\n",
              "  </div>\n",
              "\n",
              "\n",
              "    </div>\n",
              "  </div>\n"
            ],
            "application/vnd.google.colaboratory.intrinsic+json": {
              "type": "dataframe",
              "variable_name": "df",
              "summary": "{\n  \"name\": \"df\",\n  \"rows\": 5454,\n  \"fields\": [\n    {\n      \"column\": \"Unnamed: 0.1\",\n      \"properties\": {\n        \"dtype\": \"number\",\n        \"std\": 1574,\n        \"min\": 0,\n        \"max\": 5453,\n        \"num_unique_values\": 5454,\n        \"samples\": [\n          5145,\n          4696,\n          4740\n        ],\n        \"semantic_type\": \"\",\n        \"description\": \"\"\n      }\n    },\n    {\n      \"column\": \"Unnamed: 0\",\n      \"properties\": {\n        \"dtype\": \"number\",\n        \"std\": 1578,\n        \"min\": 0,\n        \"max\": 5466,\n        \"num_unique_values\": 5454,\n        \"samples\": [\n          5156,\n          4706,\n          4750\n        ],\n        \"semantic_type\": \"\",\n        \"description\": \"\"\n      }\n    },\n    {\n      \"column\": \"user1\",\n      \"properties\": {\n        \"dtype\": \"string\",\n        \"num_unique_values\": 5386,\n        \"samples\": [\n          \"s\\u1ed1 a 08450731\",\n          \"V\\u00e2ng \\u1ea1 sdt c\\u1ee7a m\\u00ecnh l\\u00e0 058 n\\u0103m 6\",\n          \"Sdt 099440247\"\n        ],\n        \"semantic_type\": \"\",\n        \"description\": \"\"\n      }\n    },\n    {\n      \"column\": \"user2\",\n      \"properties\": {\n        \"dtype\": \"string\",\n        \"num_unique_values\": 5257,\n        \"samples\": [\n          \"4553501\",\n          \"8 s\\u00e1u b\\u1ed1n 3 n\\u0103m\",\n          \"3707, c\\u1ea7n kh\\u00e1m t\\u1ed5ng qu\\u00e1t\"\n        ],\n        \"semantic_type\": \"\",\n        \"description\": \"\"\n      }\n    },\n    {\n      \"column\": \"index\",\n      \"properties\": {\n        \"dtype\": \"number\",\n        \"std\": 853,\n        \"min\": 0,\n        \"max\": 2999,\n        \"num_unique_values\": 2999,\n        \"samples\": [\n          1679,\n          1034,\n          144\n        ],\n        \"semantic_type\": \"\",\n        \"description\": \"\"\n      }\n    },\n    {\n      \"column\": \"system\",\n      \"properties\": {\n        \"dtype\": \"category\",\n        \"num_unique_values\": 1,\n        \"samples\": [\n          \"{'role': 'system', 'content': 'Extracts the relevant information from the passage.\\\\n{\\\"name\\\": \\\"information_extraction\\\", \\\"description\\\": \\\"Extracts the relevant information from the passage\\\",\\\\n\\\"arguments\\\": [{\\\"name\\\": \\\"customer_name\\\", \\\"desc\\\": \\\"Customer\\\\'s name\\\", \\\"type\\\": \\\"string\\\"},\\\\n{\\\"name\\\": \\\"customer_phone\\\", \\\"desc\\\": \\\"Customer\\\\'s phone number\\\", \\\"type\\\": \\\"string\\\"},\\\\n{\\\"name\\\": \\\"medical_department\\\", \\\"desc\\\": \\\"Medical department or service information.\\\", \\\"type\\\": \\\"string\\\"},\\\\n{\\\"name\\\": \\\"is_yes\\\", \\\"desc\\\": \\\"Can take two values:\\\\\\\\n- true (if the user confirms, agrees, says something affirmative, or expresses consent in any similar way.)\\\\\\\\n- false (if the user expresses the opposite, does not approve, disagrees, or shows any similar response.)\\\", \\\"type\\\": \\\"string\\\"},\\\\n{\\\"name\\\": \\\"hospital_name\\\", \\\"desc\\\": \\\"Identify the name of the hospital, place or facility of Vinmec\\\", \\\"type\\\": \\\"string\\\"},\\\\n{\\\"name\\\": \\\"customer_dob\\\", \\\"desc\\\": \\\"Extract the user\\\\'s date of birth. Format DD-MM-YYYY. This value must be a date in the past.\\\", \\\"type\\\": \\\"string\\\"},\\\\n{\\\"name\\\": \\\"customer_place\\\", \\\"desc\\\": \\\"Province/City provided by the customer\\\", \\\"type\\\": \\\"string\\\"},\\\\n{\\\"name\\\": \\\"symptoms\\\", \\\"desc\\\": \\\"Identify and extract users\\\\' symptom information based on their messages\\\", \\\"type\\\": \\\"string\\\"},\\\\n{\\\"name\\\": \\\"relationship\\\", \\\"desc\\\": \\\"Relationship to the person booking the appointment\\\", \\\"type\\\": \\\"string\\\"},\\\\n{\\\"name\\\": \\\"appointment_date\\\", \\\"desc\\\": \\\"Medical appointment schedulling date based on the user\\\\'s messages. remember extract by following format: DD-MM-YYYY. This value must be a date in the future. \\\\\\\\nExample: 1999-04-24 -> 24-04-1999\\\", \\\"type\\\": \\\"string\\\"},\\\\n{\\\"name\\\": \\\"appointment_time\\\", \\\"desc\\\": \\\"Medical appointment schedulling time based on the user\\\\'s messages. The time frame will follow a 24-hour format and the time zone is GMT+7 follow this format: HH:mm\\\", \\\"type\\\": \\\"string\\\"}, {\\\"name\\\": \\\"cancel_num\\\", \\\"desc\\\": \\\"Identify number from the user\\\\'s message. The user may express them as words (one, two,...) or digits (1, 2,...) in Vietnamese. If the user provides words, convert them to digits. Accepted values range from 1 to 10.\\\", \\\"type\\\": \\\"string\\\"}]}'}\"\n        ],\n        \"semantic_type\": \"\",\n        \"description\": \"\"\n      }\n    },\n    {\n      \"column\": \"user\",\n      \"properties\": {\n        \"dtype\": \"string\",\n        \"num_unique_values\": 5450,\n        \"samples\": [\n          \"{'role': 'user', 'content': 'S\\u1ed1 anh 0772979827, si\\u00eau \\u00e2m nh\\u00e9'}\"\n        ],\n        \"semantic_type\": \"\",\n        \"description\": \"\"\n      }\n    },\n    {\n      \"column\": \"assistant\",\n      \"properties\": {\n        \"dtype\": \"string\",\n        \"num_unique_values\": 5157,\n        \"samples\": [\n          \"{'role': 'assistant', 'content': \\\"<functioncall> {'name': 'information_extraction', 'arguments': {'customer_name': 'H\\u01b0\\u1eddng', 'customer_phone': '0386965475'}}\\\"}\"\n        ],\n        \"semantic_type\": \"\",\n        \"description\": \"\"\n      }\n    },\n    {\n      \"column\": \"query\",\n      \"properties\": {\n        \"dtype\": \"string\",\n        \"num_unique_values\": 5450,\n        \"samples\": [\n          \"S\\u1ed1 anh 0772979827, si\\u00eau \\u00e2m nh\\u00e9\"\n        ],\n        \"semantic_type\": \"\",\n        \"description\": \"\"\n      }\n    },\n    {\n      \"column\": \"response\",\n      \"properties\": {\n        \"dtype\": \"string\",\n        \"num_unique_values\": 3390,\n        \"samples\": [\n          \"Ch\\u00e0o em, em vui l\\u00f2ng cung c\\u1ea5p \\u0111\\u1ea7y \\u0111\\u1ee7 s\\u1ed1 \\u0111i\\u1ec7n tho\\u1ea1i \\u0111\\u1ec3 anh/ch\\u1ecb h\\u1ecfi v\\u1ec1 c\\u00e1c g\\u00f3i kh\\u00e1m tr\\u01b0\\u1edbc khi k\\u1ebft h\\u00f4n nh\\u00e9.\"\n        ],\n        \"semantic_type\": \"\",\n        \"description\": \"\"\n      }\n    },\n    {\n      \"column\": \"user1_number\",\n      \"properties\": {\n        \"dtype\": \"string\",\n        \"num_unique_values\": 3669,\n        \"samples\": [\n          \"077130\"\n        ],\n        \"semantic_type\": \"\",\n        \"description\": \"\"\n      }\n    },\n    {\n      \"column\": \"args\",\n      \"properties\": {\n        \"dtype\": \"string\",\n        \"num_unique_values\": 5157,\n        \"samples\": [\n          \"<functioncall> {'name': 'information_extraction', 'arguments': {'customer_name': 'H\\u01b0\\u1eddng', 'customer_phone': '0386965475'}}\\\"\"\n        ],\n        \"semantic_type\": \"\",\n        \"description\": \"\"\n      }\n    }\n  ]\n}"
            }
          },
          "metadata": {},
          "execution_count": 61
        }
      ]
    },
    {
      "cell_type": "code",
      "source": [],
      "metadata": {
        "id": "YwVLuIAD1oV-"
      },
      "execution_count": null,
      "outputs": []
    }
  ]
}